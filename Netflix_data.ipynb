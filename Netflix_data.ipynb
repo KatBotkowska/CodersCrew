{
  "nbformat": 4,
  "nbformat_minor": 0,
  "metadata": {
    "colab": {
      "name": "Netflix_data.ipynb",
      "provenance": [],
      "collapsed_sections": [
        "KPrnVAh3SQSL",
        "P5nmxNc3T2s9",
        "o4jpNnrJj-Bf",
        "stnsNibnpxvu",
        "XWkmeu9eqbkP",
        "JXgZfv-Db-Hg",
        "-h7hkXzEviiQ",
        "uL_1jfbjxCOx",
        "t3x1ryQJCGte"
      ],
      "toc_visible": true,
      "include_colab_link": true
    },
    "kernelspec": {
      "display_name": "Python 3",
      "name": "python3"
    }
  },
  "cells": [
    {
      "cell_type": "markdown",
      "metadata": {
        "id": "view-in-github",
        "colab_type": "text"
      },
      "source": [
        "<a href=\"https://colab.research.google.com/github/KatBotkowska/CodersCrew/blob/master/Netflix_data.ipynb\" target=\"_parent\"><img src=\"https://colab.research.google.com/assets/colab-badge.svg\" alt=\"Open In Colab\"/></a>"
      ]
    },
    {
      "cell_type": "markdown",
      "metadata": {
        "id": "1dYNB-8ftFWJ"
      },
      "source": [
        "#Pobranie danych z Kaggle\n"
      ]
    },
    {
      "cell_type": "markdown",
      "metadata": {
        "id": "y-dSyhk_t0ti"
      },
      "source": [
        "###https://towardsdatascience.com/downloading-datasets-into-google-drive-via-google-colab-bcb1b30b0166"
      ]
    },
    {
      "cell_type": "markdown",
      "metadata": {
        "id": "Wv9tKl95kefb"
      },
      "source": [
        "##Importy - do przeniesienia z treści niżej"
      ]
    },
    {
      "cell_type": "code",
      "metadata": {
        "id": "a709fZDUFMfc"
      },
      "source": [
        "import pandas as pd\n",
        "import numpy as np\n"
      ],
      "execution_count": 1,
      "outputs": []
    },
    {
      "cell_type": "code",
      "metadata": {
        "colab": {
          "base_uri": "https://localhost:8080/"
        },
        "id": "hqDwSSzWplTI",
        "outputId": "7aaa3971-6350-4783-9c8a-bc662c2ef84a"
      },
      "source": [
        "#podłączenie google drive\n",
        "from google.colab import drive\n",
        "drive.mount('/content/gdrive')"
      ],
      "execution_count": 2,
      "outputs": [
        {
          "output_type": "stream",
          "text": [
            "Mounted at /content/gdrive\n"
          ],
          "name": "stdout"
        }
      ]
    },
    {
      "cell_type": "code",
      "metadata": {
        "id": "pezF5SSlqJLm"
      },
      "source": [
        "root_path = 'gdrive/My Drive/netflix/'"
      ],
      "execution_count": 5,
      "outputs": []
    },
    {
      "cell_type": "code",
      "metadata": {
        "colab": {
          "resources": {
            "http://localhost:8080/nbextensions/google.colab/files.js": {
              "data": "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",
              "ok": true,
              "headers": [
                [
                  "content-type",
                  "application/javascript"
                ]
              ],
              "status": 200,
              "status_text": ""
            }
          },
          "base_uri": "https://localhost:8080/",
          "height": 109
        },
        "id": "gRka04f8qzYk",
        "outputId": "85539754-218a-4619-ac2f-abf17f18c458"
      },
      "source": [
        "from google.colab import files\n",
        "files.upload()  #this will prompt you to upload the kaggle.json"
      ],
      "execution_count": 4,
      "outputs": [
        {
          "output_type": "display_data",
          "data": {
            "text/html": [
              "\n",
              "     <input type=\"file\" id=\"files-59cbbbf5-0567-489a-a96f-2f1e9aae245d\" name=\"files[]\" multiple disabled\n",
              "        style=\"border:none\" />\n",
              "     <output id=\"result-59cbbbf5-0567-489a-a96f-2f1e9aae245d\">\n",
              "      Upload widget is only available when the cell has been executed in the\n",
              "      current browser session. Please rerun this cell to enable.\n",
              "      </output>\n",
              "      <script src=\"/nbextensions/google.colab/files.js\"></script> "
            ],
            "text/plain": [
              "<IPython.core.display.HTML object>"
            ]
          },
          "metadata": {
            "tags": []
          }
        },
        {
          "output_type": "stream",
          "text": [
            "Saving kaggle.json to kaggle.json\n"
          ],
          "name": "stdout"
        },
        {
          "output_type": "execute_result",
          "data": {
            "text/plain": [
              "{'kaggle.json': b'{\"username\":\"kbotkowska\",\"key\":\"90ebb11108c952959800f5549af3472d\"}'}"
            ]
          },
          "metadata": {
            "tags": []
          },
          "execution_count": 4
        }
      ]
    },
    {
      "cell_type": "code",
      "metadata": {
        "colab": {
          "base_uri": "https://localhost:8080/"
        },
        "id": "QKw8uL2brD0I",
        "outputId": "aa30c743-d927-4bcf-b73c-1ae37e249c15"
      },
      "source": [
        "!pip install -q kaggle\n",
        "!mkdir -p ~/.kaggle\n",
        "!cp kaggle.json ~/.kaggle/\n",
        "!ls ~/.kaggle\n",
        "!chmod 600 /root/.kaggle/kaggle.json  # set permission"
      ],
      "execution_count": 6,
      "outputs": [
        {
          "output_type": "stream",
          "text": [
            "kaggle.json\n"
          ],
          "name": "stdout"
        }
      ]
    },
    {
      "cell_type": "markdown",
      "metadata": {
        "id": "KPrnVAh3SQSL"
      },
      "source": [
        "##Pobranie i rozpakowanie danych kaggle - netflix"
      ]
    },
    {
      "cell_type": "code",
      "metadata": {
        "colab": {
          "base_uri": "https://localhost:8080/"
        },
        "id": "Pfvyg-q7oHyl",
        "outputId": "7ce61829-7e49-4716-f234-25a7be212d36"
      },
      "source": [
        "!kaggle datasets download -d shivamb/netflix-shows"
      ],
      "execution_count": null,
      "outputs": [
        {
          "output_type": "stream",
          "text": [
            "netflix-shows.zip: Skipping, found more recently modified local copy (use --force to force download)\n"
          ],
          "name": "stdout"
        }
      ]
    },
    {
      "cell_type": "code",
      "metadata": {
        "id": "U_F5ZGZErHTu",
        "colab": {
          "base_uri": "https://localhost:8080/"
        },
        "outputId": "cc2f85a3-618a-4af3-e45e-587357735a4c"
      },
      "source": [
        "!unzip -q netflix-shows.zip -d [netflix]"
      ],
      "execution_count": null,
      "outputs": [
        {
          "output_type": "stream",
          "text": [
            "replace [netflix]/netflix_titles.csv? [y]es, [n]o, [A]ll, [N]one, [r]ename: y\n"
          ],
          "name": "stdout"
        }
      ]
    },
    {
      "cell_type": "markdown",
      "metadata": {
        "id": "H-ct6GMeSVk9"
      },
      "source": [
        "##Pobranie i rozpakowanie danych kaggle - imdb"
      ]
    },
    {
      "cell_type": "code",
      "metadata": {
        "colab": {
          "base_uri": "https://localhost:8080/"
        },
        "id": "wu8fuoY9Qb2t",
        "outputId": "68d27552-b3a2-4829-da3b-7773ff09f1c5"
      },
      "source": [
        "!kaggle datasets download -d stefanoleone992/imdb-extensive-dataset"
      ],
      "execution_count": 7,
      "outputs": [
        {
          "output_type": "stream",
          "text": [
            "Downloading imdb-extensive-dataset.zip to /content\n",
            " 96% 79.0M/82.3M [00:02<00:00, 30.8MB/s]\n",
            "100% 82.3M/82.3M [00:02<00:00, 34.9MB/s]\n"
          ],
          "name": "stdout"
        }
      ]
    },
    {
      "cell_type": "code",
      "metadata": {
        "id": "c11NHM89QnQS"
      },
      "source": [
        "!unzip -q imdb-extensive-dataset.zip -d [netflix]"
      ],
      "execution_count": 8,
      "outputs": []
    },
    {
      "cell_type": "markdown",
      "metadata": {
        "id": "P5nmxNc3T2s9"
      },
      "source": [
        "##Pobranie i rozpakowanie danych kaggle - movielens"
      ]
    },
    {
      "cell_type": "code",
      "metadata": {
        "colab": {
          "base_uri": "https://localhost:8080/"
        },
        "id": "Kqy8DmmUUA4w",
        "outputId": "b0d81eed-53d7-4b1f-dc90-641716d88711"
      },
      "source": [
        "!kaggle datasets download -d grouplens/movielens-20m-dataset"
      ],
      "execution_count": null,
      "outputs": [
        {
          "output_type": "stream",
          "text": [
            "movielens-20m-dataset.zip: Skipping, found more recently modified local copy (use --force to force download)\n"
          ],
          "name": "stdout"
        }
      ]
    },
    {
      "cell_type": "code",
      "metadata": {
        "id": "tOuMnfUhUE45",
        "colab": {
          "base_uri": "https://localhost:8080/"
        },
        "outputId": "d9036e5f-3b0c-4757-b6f2-7f77e3a3b8f4"
      },
      "source": [
        "!unzip -q movielens-20m-dataset.zip -d [netflix]"
      ],
      "execution_count": null,
      "outputs": [
        {
          "output_type": "stream",
          "text": [
            "replace [netflix]/genome_scores.csv? [y]es, [n]o, [A]ll, [N]one, [r]ename: A\n",
            "A\n",
            "y\n"
          ],
          "name": "stdout"
        }
      ]
    },
    {
      "cell_type": "markdown",
      "metadata": {
        "id": "Lw541Vd_Slpz"
      },
      "source": [
        "##Załadowanie dataframes"
      ]
    },
    {
      "cell_type": "code",
      "metadata": {
        "id": "tEdj0XV0vODT"
      },
      "source": [
        "netflix_titles = pd.read_csv('/content/[netflix]/netflix_titles.csv')"
      ],
      "execution_count": null,
      "outputs": []
    },
    {
      "cell_type": "code",
      "metadata": {
        "colab": {
          "base_uri": "https://localhost:8080/"
        },
        "id": "dqqUSfiJQ-oQ",
        "outputId": "17bc6726-ffd9-4886-b7e4-34ba11d46dfc"
      },
      "source": [
        "imdb_movies = pd.read_csv('/content/[netflix]/IMDb movies.csv')\n",
        "imdb_names = pd.read_csv('/content/[netflix]/IMDb names.csv')\n",
        "imdb_ratings = pd.read_csv('/content/[netflix]/IMDb ratings.csv')\n",
        "imdb_title_principals = pd.read_csv('/content/[netflix]/IMDb title_principals.csv')"
      ],
      "execution_count": 10,
      "outputs": [
        {
          "output_type": "stream",
          "text": [
            "/usr/local/lib/python3.6/dist-packages/IPython/core/interactiveshell.py:2718: DtypeWarning: Columns (3) have mixed types.Specify dtype option on import or set low_memory=False.\n",
            "  interactivity=interactivity, compiler=compiler, result=result)\n"
          ],
          "name": "stderr"
        }
      ]
    },
    {
      "cell_type": "code",
      "metadata": {
        "id": "zjE02Hx9UU8l"
      },
      "source": [
        "movielens_genome_scores = pd.read_csv('/content/[netflix]/genome_scores.csv')\n",
        "movielens_genome_tags = pd.read_csv('/content/[netflix]/genome_tags.csv')\n",
        "movielens_link = pd.read_csv('/content/[netflix]/link.csv')\n",
        "movielens_movie = pd.read_csv('/content/[netflix]/movie.csv')\n",
        "movielens_rating = pd.read_csv('/content/[netflix]/rating.csv')\n",
        "movielens_tag = pd.read_csv('/content/[netflix]/tag.csv')"
      ],
      "execution_count": null,
      "outputs": []
    },
    {
      "cell_type": "markdown",
      "metadata": {
        "id": "o4jpNnrJj-Bf"
      },
      "source": [
        "##Czyszczenie danych\n",
        "zamiana wiersza z TV movie 2019 na 2019\n",
        "dtypes z object na właściwe\n",
        "NaN??\n",
        "gatunki zamiana ze stringa na listy tagów\n"
      ]
    },
    {
      "cell_type": "code",
      "metadata": {
        "id": "ANsPutvgkMWX"
      },
      "source": [
        ""
      ],
      "execution_count": null,
      "outputs": []
    },
    {
      "cell_type": "markdown",
      "metadata": {
        "id": "stnsNibnpxvu"
      },
      "source": [
        "#Netflix - podstawowe dane\n"
      ]
    },
    {
      "cell_type": "code",
      "metadata": {
        "colab": {
          "base_uri": "https://localhost:8080/",
          "height": 683
        },
        "id": "Df1j4jqJvpat",
        "outputId": "58477b4b-9663-4343-a222-886475bf071f"
      },
      "source": [
        "netflix_titles.head()"
      ],
      "execution_count": null,
      "outputs": [
        {
          "output_type": "execute_result",
          "data": {
            "text/html": [
              "<div>\n",
              "<style scoped>\n",
              "    .dataframe tbody tr th:only-of-type {\n",
              "        vertical-align: middle;\n",
              "    }\n",
              "\n",
              "    .dataframe tbody tr th {\n",
              "        vertical-align: top;\n",
              "    }\n",
              "\n",
              "    .dataframe thead th {\n",
              "        text-align: right;\n",
              "    }\n",
              "</style>\n",
              "<table border=\"1\" class=\"dataframe\">\n",
              "  <thead>\n",
              "    <tr style=\"text-align: right;\">\n",
              "      <th></th>\n",
              "      <th>show_id</th>\n",
              "      <th>type</th>\n",
              "      <th>title</th>\n",
              "      <th>director</th>\n",
              "      <th>cast</th>\n",
              "      <th>country</th>\n",
              "      <th>date_added</th>\n",
              "      <th>release_year</th>\n",
              "      <th>rating</th>\n",
              "      <th>duration</th>\n",
              "      <th>listed_in</th>\n",
              "      <th>description</th>\n",
              "    </tr>\n",
              "  </thead>\n",
              "  <tbody>\n",
              "    <tr>\n",
              "      <th>0</th>\n",
              "      <td>s1</td>\n",
              "      <td>TV Show</td>\n",
              "      <td>3%</td>\n",
              "      <td>NaN</td>\n",
              "      <td>João Miguel, Bianca Comparato, Michel Gomes, R...</td>\n",
              "      <td>Brazil</td>\n",
              "      <td>August 14, 2020</td>\n",
              "      <td>2020</td>\n",
              "      <td>TV-MA</td>\n",
              "      <td>4 Seasons</td>\n",
              "      <td>International TV Shows, TV Dramas, TV Sci-Fi &amp;...</td>\n",
              "      <td>In a future where the elite inhabit an island ...</td>\n",
              "    </tr>\n",
              "    <tr>\n",
              "      <th>1</th>\n",
              "      <td>s2</td>\n",
              "      <td>Movie</td>\n",
              "      <td>7:19</td>\n",
              "      <td>Jorge Michel Grau</td>\n",
              "      <td>Demián Bichir, Héctor Bonilla, Oscar Serrano, ...</td>\n",
              "      <td>Mexico</td>\n",
              "      <td>December 23, 2016</td>\n",
              "      <td>2016</td>\n",
              "      <td>TV-MA</td>\n",
              "      <td>93 min</td>\n",
              "      <td>Dramas, International Movies</td>\n",
              "      <td>After a devastating earthquake hits Mexico Cit...</td>\n",
              "    </tr>\n",
              "    <tr>\n",
              "      <th>2</th>\n",
              "      <td>s3</td>\n",
              "      <td>Movie</td>\n",
              "      <td>23:59</td>\n",
              "      <td>Gilbert Chan</td>\n",
              "      <td>Tedd Chan, Stella Chung, Henley Hii, Lawrence ...</td>\n",
              "      <td>Singapore</td>\n",
              "      <td>December 20, 2018</td>\n",
              "      <td>2011</td>\n",
              "      <td>R</td>\n",
              "      <td>78 min</td>\n",
              "      <td>Horror Movies, International Movies</td>\n",
              "      <td>When an army recruit is found dead, his fellow...</td>\n",
              "    </tr>\n",
              "    <tr>\n",
              "      <th>3</th>\n",
              "      <td>s4</td>\n",
              "      <td>Movie</td>\n",
              "      <td>9</td>\n",
              "      <td>Shane Acker</td>\n",
              "      <td>Elijah Wood, John C. Reilly, Jennifer Connelly...</td>\n",
              "      <td>United States</td>\n",
              "      <td>November 16, 2017</td>\n",
              "      <td>2009</td>\n",
              "      <td>PG-13</td>\n",
              "      <td>80 min</td>\n",
              "      <td>Action &amp; Adventure, Independent Movies, Sci-Fi...</td>\n",
              "      <td>In a postapocalyptic world, rag-doll robots hi...</td>\n",
              "    </tr>\n",
              "    <tr>\n",
              "      <th>4</th>\n",
              "      <td>s5</td>\n",
              "      <td>Movie</td>\n",
              "      <td>21</td>\n",
              "      <td>Robert Luketic</td>\n",
              "      <td>Jim Sturgess, Kevin Spacey, Kate Bosworth, Aar...</td>\n",
              "      <td>United States</td>\n",
              "      <td>January 1, 2020</td>\n",
              "      <td>2008</td>\n",
              "      <td>PG-13</td>\n",
              "      <td>123 min</td>\n",
              "      <td>Dramas</td>\n",
              "      <td>A brilliant group of students become card-coun...</td>\n",
              "    </tr>\n",
              "  </tbody>\n",
              "</table>\n",
              "</div>"
            ],
            "text/plain": [
              "  show_id  ...                                        description\n",
              "0      s1  ...  In a future where the elite inhabit an island ...\n",
              "1      s2  ...  After a devastating earthquake hits Mexico Cit...\n",
              "2      s3  ...  When an army recruit is found dead, his fellow...\n",
              "3      s4  ...  In a postapocalyptic world, rag-doll robots hi...\n",
              "4      s5  ...  A brilliant group of students become card-coun...\n",
              "\n",
              "[5 rows x 12 columns]"
            ]
          },
          "metadata": {
            "tags": []
          },
          "execution_count": 40
        }
      ]
    },
    {
      "cell_type": "code",
      "metadata": {
        "id": "lR4GTaGoqm1z",
        "colab": {
          "base_uri": "https://localhost:8080/"
        },
        "outputId": "89e40320-9f0d-4dc3-b0ae-9ddbb888088b"
      },
      "source": [
        "netflix_titles.shape\n",
        "#rozmiary  - wiersze i kolumny"
      ],
      "execution_count": null,
      "outputs": [
        {
          "output_type": "execute_result",
          "data": {
            "text/plain": [
              "(7787, 12)"
            ]
          },
          "metadata": {
            "tags": []
          },
          "execution_count": 41
        }
      ]
    },
    {
      "cell_type": "code",
      "metadata": {
        "id": "O619TBHPp3no"
      },
      "source": [
        "netflix_titles.info()\n"
      ],
      "execution_count": null,
      "outputs": []
    },
    {
      "cell_type": "code",
      "metadata": {
        "id": "6849qabLqD-R"
      },
      "source": [
        "netflix_titles.describe()\n",
        "#trochę bez sensu, nie ma tutaj dużo danych numerycznych do podsumowań"
      ],
      "execution_count": null,
      "outputs": []
    },
    {
      "cell_type": "markdown",
      "metadata": {
        "id": "armVCGXvrsny"
      },
      "source": [
        "##Netflix dla 2019"
      ]
    },
    {
      "cell_type": "code",
      "metadata": {
        "id": "MoGZa1ttq3-C",
        "colab": {
          "base_uri": "https://localhost:8080/",
          "height": 615
        },
        "outputId": "3086be7e-06ff-49fe-ae8e-9696e0daba57"
      },
      "source": [
        "netflix_2019 = netflix_titles.iloc[:,:][netflix_titles.release_year==2019]\n",
        "netflix_2019.head()"
      ],
      "execution_count": null,
      "outputs": [
        {
          "output_type": "execute_result",
          "data": {
            "text/html": [
              "<div>\n",
              "<style scoped>\n",
              "    .dataframe tbody tr th:only-of-type {\n",
              "        vertical-align: middle;\n",
              "    }\n",
              "\n",
              "    .dataframe tbody tr th {\n",
              "        vertical-align: top;\n",
              "    }\n",
              "\n",
              "    .dataframe thead th {\n",
              "        text-align: right;\n",
              "    }\n",
              "</style>\n",
              "<table border=\"1\" class=\"dataframe\">\n",
              "  <thead>\n",
              "    <tr style=\"text-align: right;\">\n",
              "      <th></th>\n",
              "      <th>show_id</th>\n",
              "      <th>type</th>\n",
              "      <th>title</th>\n",
              "      <th>director</th>\n",
              "      <th>cast</th>\n",
              "      <th>country</th>\n",
              "      <th>date_added</th>\n",
              "      <th>release_year</th>\n",
              "      <th>rating</th>\n",
              "      <th>duration</th>\n",
              "      <th>listed_in</th>\n",
              "      <th>description</th>\n",
              "    </tr>\n",
              "  </thead>\n",
              "  <tbody>\n",
              "    <tr>\n",
              "      <th>6</th>\n",
              "      <td>s7</td>\n",
              "      <td>Movie</td>\n",
              "      <td>122</td>\n",
              "      <td>Yasir Al Yasiri</td>\n",
              "      <td>Amina Khalil, Ahmed Dawood, Tarek Lotfy, Ahmed...</td>\n",
              "      <td>Egypt</td>\n",
              "      <td>June 1, 2020</td>\n",
              "      <td>2019</td>\n",
              "      <td>TV-MA</td>\n",
              "      <td>95 min</td>\n",
              "      <td>Horror Movies, International Movies</td>\n",
              "      <td>After an awful accident, a couple admitted to ...</td>\n",
              "    </tr>\n",
              "    <tr>\n",
              "      <th>8</th>\n",
              "      <td>s9</td>\n",
              "      <td>Movie</td>\n",
              "      <td>706</td>\n",
              "      <td>Shravan Kumar</td>\n",
              "      <td>Divya Dutta, Atul Kulkarni, Mohan Agashe, Anup...</td>\n",
              "      <td>India</td>\n",
              "      <td>April 1, 2019</td>\n",
              "      <td>2019</td>\n",
              "      <td>TV-14</td>\n",
              "      <td>118 min</td>\n",
              "      <td>Horror Movies, International Movies</td>\n",
              "      <td>When a doctor goes missing, his psychiatrist w...</td>\n",
              "    </tr>\n",
              "    <tr>\n",
              "      <th>12</th>\n",
              "      <td>s13</td>\n",
              "      <td>TV Show</td>\n",
              "      <td>1994</td>\n",
              "      <td>Diego Enrique Osorno</td>\n",
              "      <td>NaN</td>\n",
              "      <td>Mexico</td>\n",
              "      <td>May 17, 2019</td>\n",
              "      <td>2019</td>\n",
              "      <td>TV-MA</td>\n",
              "      <td>1 Season</td>\n",
              "      <td>Crime TV Shows, Docuseries, International TV S...</td>\n",
              "      <td>Archival video and new interviews examine Mexi...</td>\n",
              "    </tr>\n",
              "    <tr>\n",
              "      <th>14</th>\n",
              "      <td>s15</td>\n",
              "      <td>Movie</td>\n",
              "      <td>3022</td>\n",
              "      <td>John Suits</td>\n",
              "      <td>Omar Epps, Kate Walsh, Miranda Cosgrove, Angus...</td>\n",
              "      <td>United States</td>\n",
              "      <td>March 19, 2020</td>\n",
              "      <td>2019</td>\n",
              "      <td>R</td>\n",
              "      <td>91 min</td>\n",
              "      <td>Independent Movies, Sci-Fi &amp; Fantasy, Thrillers</td>\n",
              "      <td>Stranded when the Earth is suddenly destroyed ...</td>\n",
              "    </tr>\n",
              "    <tr>\n",
              "      <th>18</th>\n",
              "      <td>s19</td>\n",
              "      <td>Movie</td>\n",
              "      <td>15-Aug</td>\n",
              "      <td>Swapnaneel Jayakar</td>\n",
              "      <td>Rahul Pethe, Mrunmayee Deshpande, Adinath Koth...</td>\n",
              "      <td>India</td>\n",
              "      <td>March 29, 2019</td>\n",
              "      <td>2019</td>\n",
              "      <td>TV-14</td>\n",
              "      <td>124 min</td>\n",
              "      <td>Comedies, Dramas, Independent Movies</td>\n",
              "      <td>On India's Independence Day, a zany mishap in ...</td>\n",
              "    </tr>\n",
              "  </tbody>\n",
              "</table>\n",
              "</div>"
            ],
            "text/plain": [
              "   show_id  ...                                        description\n",
              "6       s7  ...  After an awful accident, a couple admitted to ...\n",
              "8       s9  ...  When a doctor goes missing, his psychiatrist w...\n",
              "12     s13  ...  Archival video and new interviews examine Mexi...\n",
              "14     s15  ...  Stranded when the Earth is suddenly destroyed ...\n",
              "18     s19  ...  On India's Independence Day, a zany mishap in ...\n",
              "\n",
              "[5 rows x 12 columns]"
            ]
          },
          "metadata": {
            "tags": []
          },
          "execution_count": 42
        }
      ]
    },
    {
      "cell_type": "code",
      "metadata": {
        "id": "W3sHrlc0rx8a"
      },
      "source": [
        "netflix_2019.shape"
      ],
      "execution_count": null,
      "outputs": []
    },
    {
      "cell_type": "code",
      "metadata": {
        "id": "olFvtc0kTMaN"
      },
      "source": [
        "imdb_movies.tail()"
      ],
      "execution_count": null,
      "outputs": []
    },
    {
      "cell_type": "markdown",
      "metadata": {
        "id": "mMPbBqGYvKQ8"
      },
      "source": [
        "##IMDB dla 2019"
      ]
    },
    {
      "cell_type": "code",
      "metadata": {
        "id": "TdJ_mhKXtODp"
      },
      "source": [
        "imdb_2019 = imdb_movies.iloc[:,:][imdb_movies.year==2019]\n",
        "imdb_2019.head()"
      ],
      "execution_count": null,
      "outputs": []
    },
    {
      "cell_type": "markdown",
      "metadata": {
        "id": "9iicCMNXvOxV"
      },
      "source": [
        "##Łączenie IMDB i Netflix dla 2019"
      ]
    },
    {
      "cell_type": "code",
      "metadata": {
        "id": "d5wjOY88t_9i"
      },
      "source": [
        "netflix_imdb_2019 = pd.merge(netflix_2019, imdb_2019, on=['title'])\n",
        "netflix_imdb_2019.info()"
      ],
      "execution_count": null,
      "outputs": []
    },
    {
      "cell_type": "code",
      "metadata": {
        "id": "-Y0jkWkVu1lH"
      },
      "source": [
        "netflix_imdb_2019.shape"
      ],
      "execution_count": null,
      "outputs": []
    },
    {
      "cell_type": "code",
      "metadata": {
        "id": "TqpxVL1Eu8aa"
      },
      "source": [
        "netflix_imdb_2019"
      ],
      "execution_count": null,
      "outputs": []
    },
    {
      "cell_type": "markdown",
      "metadata": {
        "id": "D5ehJJTuKOSN"
      },
      "source": [
        "##Łączenie IMDB i Netflix dla wszystkich danych"
      ]
    },
    {
      "cell_type": "code",
      "metadata": {
        "id": "ysGXu_tP-onE"
      },
      "source": [
        "netflix_imdb_all = pd.merge(netflix_titles, imdb_movies, on=['title'])\n",
        "netflix_imdb_all.info()"
      ],
      "execution_count": null,
      "outputs": []
    },
    {
      "cell_type": "code",
      "metadata": {
        "id": "uASOQ4lg-4Tk"
      },
      "source": [
        "netflix_imdb_all.head()"
      ],
      "execution_count": null,
      "outputs": []
    },
    {
      "cell_type": "code",
      "metadata": {
        "id": "SCn8b73HESVA"
      },
      "source": [
        "imdb_movies.columns"
      ],
      "execution_count": null,
      "outputs": []
    },
    {
      "cell_type": "markdown",
      "metadata": {
        "id": "ijFglCM0r73b"
      },
      "source": [
        "# Szeregi czasowe - jak przez lata zmieniała się liczba wydawanych filmów? - Ewa"
      ]
    },
    {
      "cell_type": "code",
      "metadata": {
        "id": "3vcqSTlGMnL8"
      },
      "source": [
        "import pandas as pd\n",
        "imdb_movies = pd.read_csv('/content/[netflix]/IMDb movies.csv')\n",
        "\n",
        "imdb_movies.head()"
      ],
      "execution_count": null,
      "outputs": []
    },
    {
      "cell_type": "code",
      "metadata": {
        "id": "siW3H3i_a3iP"
      },
      "source": [
        "imdb_movies.dtypes"
      ],
      "execution_count": null,
      "outputs": []
    },
    {
      "cell_type": "code",
      "metadata": {
        "id": "vABCL5oDSef9"
      },
      "source": [
        "imdb_movies.groupby('year').imdb_title_id.count()"
      ],
      "execution_count": null,
      "outputs": []
    },
    {
      "cell_type": "code",
      "metadata": {
        "id": "KVsQDllESnRq"
      },
      "source": [
        "imdb_movies[imdb_movies.year == 'TV Movie 2019']"
      ],
      "execution_count": null,
      "outputs": []
    },
    {
      "cell_type": "code",
      "metadata": {
        "id": "QOdsNCNdfb2L"
      },
      "source": [
        "imdb_movies.loc[83917, 'year'] = 2019\n",
        "imdb_movies.year = imdb_movies.year.astype('int')\n",
        "imdb_movies.dtypes"
      ],
      "execution_count": null,
      "outputs": []
    },
    {
      "cell_type": "code",
      "metadata": {
        "id": "A2QdjzSrFjYz"
      },
      "source": [
        "data_year_plot = imdb_movies.groupby('year').imdb_title_id.count()\n",
        "data_year_plot.tail(20)"
      ],
      "execution_count": null,
      "outputs": []
    },
    {
      "cell_type": "code",
      "metadata": {
        "id": "_jrIez2bI9-u"
      },
      "source": [
        "import matplotlib.pyplot as plt\n",
        "\n",
        "data_year_plot.plot()\n",
        "plt.show()"
      ],
      "execution_count": null,
      "outputs": []
    },
    {
      "cell_type": "code",
      "metadata": {
        "id": "A7TL9mP8M_Y1"
      },
      "source": [
        "data_year_plot_from2004 = imdb_movies[imdb_movies.year > 2004].groupby('year').imdb_title_id.count()\n",
        "data_year_plot_from2004.plot()\n",
        "\n",
        "# chyba nie ma sensu brać do analizy roku 2020. zastanawiam się nad 2019 - czy przez covida tak mało, czy też braki danych."
      ],
      "execution_count": null,
      "outputs": []
    },
    {
      "cell_type": "code",
      "metadata": {
        "id": "kTgraRHUPsGe"
      },
      "source": [
        "data_year_plot_to2009 = imdb_movies[imdb_movies.year <= 2009].groupby('year').imdb_title_id.count()\n",
        "data_year_plot_to2009.plot()"
      ],
      "execution_count": null,
      "outputs": []
    },
    {
      "cell_type": "code",
      "metadata": {
        "id": "NbISeXt-SMVp"
      },
      "source": [
        "imdb_movies.loc[83917, 'date_published'] = '2019-01-01' #ustawiam 1 stycznia jako datę publikacji tego dziwnego filmu\n",
        "\n",
        "pd.to_datetime(imdb_movies['date_published'])"
      ],
      "execution_count": null,
      "outputs": []
    },
    {
      "cell_type": "code",
      "metadata": {
        "id": "t0oFWhICgrjW"
      },
      "source": [
        "imdb_movies['date_published'].dt.year #nie wiem czemu wyskakuje błąd, dkoro wyżej widać, że ta kolumna już jest typem datetime"
      ],
      "execution_count": null,
      "outputs": []
    },
    {
      "cell_type": "markdown",
      "metadata": {
        "id": "bmpmwU6_ACaI"
      },
      "source": [
        "#Na lata jakie rodzaje filmów dominują, jakie trendy w gatunkach - KASIA"
      ]
    },
    {
      "cell_type": "code",
      "metadata": {
        "id": "APwgW3KEBXRq"
      },
      "source": [
        "\n",
        "imdb_movies = pd.read_csv('/content/[netflix]/IMDb movies.csv')"
      ],
      "execution_count": null,
      "outputs": []
    },
    {
      "cell_type": "markdown",
      "metadata": {
        "id": "Ee9TwsOE0hTn"
      },
      "source": [
        "##Najczęściej występujące gatunki"
      ]
    },
    {
      "cell_type": "code",
      "metadata": {
        "id": "u3aQR491zWfm"
      },
      "source": [
        "imdb_movies['genre'].value_counts().head(10)"
      ],
      "execution_count": null,
      "outputs": []
    },
    {
      "cell_type": "code",
      "metadata": {
        "id": "tJYv5nus0scN"
      },
      "source": [
        "ax = imdb_movies['genre'].value_counts().head().plot.barh( rot=0)"
      ],
      "execution_count": null,
      "outputs": []
    },
    {
      "cell_type": "markdown",
      "metadata": {
        "id": "ojWDmviQKbiG"
      },
      "source": [
        "##Ilość gatunków w poszczególnych latach\n",
        "Widać, że gatunki to 'tagi' opisujące film, do jednego filmu przypisuje się coraz więcej gatunków."
      ]
    },
    {
      "cell_type": "code",
      "metadata": {
        "id": "-_kyEAbU5mm8"
      },
      "source": [
        "#ilość gatunków w poszczególnych latach\n",
        "imdb_movies.groupby('year').genre.count().tail(20)"
      ],
      "execution_count": null,
      "outputs": []
    },
    {
      "cell_type": "markdown",
      "metadata": {
        "id": "Sn1tb4BtKzUT"
      },
      "source": [
        "##Lista wszystkich gatunków"
      ]
    },
    {
      "cell_type": "code",
      "metadata": {
        "id": "82I-qUUGBMoK"
      },
      "source": [
        "genres = imdb_movies['genre'].unique().tolist()\n",
        "genres_all=[]\n",
        "for genre in genres:\n",
        "    for elem in genre.split(','):\n",
        "        genres_all.append(elem.strip())\n",
        "genres_all=list(set(genres_all))\n",
        "genres_all"
      ],
      "execution_count": null,
      "outputs": []
    },
    {
      "cell_type": "markdown",
      "metadata": {
        "id": "A_J_Hd28K4bM"
      },
      "source": [
        "##Unikalne gatunki - najbardziej popularne"
      ]
    },
    {
      "cell_type": "code",
      "metadata": {
        "id": "5lP5rdkz0ODz"
      },
      "source": [
        "genres = imdb_movies['genre'].tolist()\n",
        "genres_count=[]\n",
        "for genre in genres:\n",
        "    for elem in genre.split(','):\n",
        "        genres_all.append(elem.strip())\n",
        "genres_count=list(genres_all)\n",
        "from collections import Counter\n",
        "genres_count_all=pd.DataFrame.from_dict(Counter(genres_count), orient='index')\n",
        "genres_count_all.rename(columns={'index':'genres', 0:'occurences'}, inplace=True)\n",
        "genres_count_all.sort_values(by='occurences', ascending=False)\n"
      ],
      "execution_count": null,
      "outputs": []
    },
    {
      "cell_type": "code",
      "metadata": {
        "id": "UMXPsvKM8D-H"
      },
      "source": [
        "ax = genres_count_all.sort_values(by='occurences', ascending=False).head().plot.barh(rot=1, title='Genres by occurences')\n",
        "ax.set_xlabel('occurences')\n",
        "#ax.set_ylabel()\n"
      ],
      "execution_count": null,
      "outputs": []
    },
    {
      "cell_type": "markdown",
      "metadata": {
        "id": "UjJRFNeCLFqe"
      },
      "source": [
        "##Gatunki na lata"
      ]
    },
    {
      "cell_type": "code",
      "metadata": {
        "id": "bVhGrZJZ7MKy"
      },
      "source": [
        "imdb_movies['genre_list']=imdb_movies['genre'].str.split(',', n=5)\n",
        "#imdb_movies['genre_list'].value_counts().head(10)"
      ],
      "execution_count": null,
      "outputs": []
    },
    {
      "cell_type": "code",
      "metadata": {
        "id": "mPd8iPIY4RQu"
      },
      "source": [
        "genres_by_years=imdb_movies[['genre', 'year']].groupby(['year', 'genre'], as_index=True)['genre'].count()\n",
        "genres_by_years.tail(100)"
      ],
      "execution_count": null,
      "outputs": []
    },
    {
      "cell_type": "code",
      "metadata": {
        "id": "c8HjtJ98MNjM"
      },
      "source": [
        "#dla roku 2019 zamiana str gatunków na listę\n",
        "genres_split_by_years=imdb_movies[['genre', 'year', 'imdb_title_id']]\n",
        "genres_split_by_years[genres_split_by_years['year']=='2019']\n",
        "genres = genres_split_by_years['genre']\n",
        "\n",
        "new_genres=[]\n",
        "for genre in genres.to_list():\n",
        "    genre = genre.split(',')\n",
        "    new_genres.append(genre)\n",
        "\n",
        "genres_split_by_years['new_genre']=new_genres\n",
        "genres_split_by_years\n"
      ],
      "execution_count": null,
      "outputs": []
    },
    {
      "cell_type": "code",
      "metadata": {
        "id": "2hhtVmBZUtGd"
      },
      "source": [
        "genres_in_2019 = genres_split_by_years[genres_split_by_years['year']=='2019']\n",
        "genres_2019=genres_in_2019['new_genre'].to_list()\n",
        "genres_2019"
      ],
      "execution_count": null,
      "outputs": []
    },
    {
      "cell_type": "code",
      "metadata": {
        "id": "BUR-mP61MN1_"
      },
      "source": [
        "genres_count=[]\n",
        "genres_all=[]\n",
        "for genres in genres_2019:\n",
        "    for genre in genres:\n",
        "        genres_all.append(genre)\n",
        "genres_count_2019=list(genres_all)\n",
        "from collections import Counter\n",
        "genres_count_all_2019=pd.DataFrame.from_dict(Counter(genres_count_2019), orient='index')\n",
        "genres_count_all_2019.rename(columns={'index':'genres', 0:'occurences'}, inplace=True)\n",
        "\n",
        "genres_count_all_2019.sort_values(by='occurences', ascending=False)"
      ],
      "execution_count": null,
      "outputs": []
    },
    {
      "cell_type": "code",
      "metadata": {
        "id": "8HiGmz9haaqW"
      },
      "source": [
        "#Genres by years\n",
        "\n",
        "table={}\n",
        "years = ['2010', '2011', '2012','2013','2014','2015','2016', '2017','2018','2019']\n",
        "genres = ['Drama', 'Comedy', 'Romance', 'Action', 'Thriller','Crime', 'Horror']\n",
        "\n",
        "for year in years:\n",
        "\n",
        "    genres_in_year = genres_split_by_years[genres_split_by_years['year']==year]['new_genre']\n",
        "    genres_in_year=[item.strip() for sublist in genres_in_year for item in sublist]\n",
        "    table[year]={}\n",
        "    for genre in genres: ##genres_all nie działa???\n",
        "        table[year][genre]=genres_in_year.count(genre)\n",
        "\n",
        "genres_in_years = pd.DataFrame(table)\n",
        "genres_in_years\n",
        "   \n",
        "\n"
      ],
      "execution_count": null,
      "outputs": []
    },
    {
      "cell_type": "code",
      "metadata": {
        "id": "ldFdbsHHGEKT"
      },
      "source": [
        "genres_in_years.T.plot()"
      ],
      "execution_count": null,
      "outputs": []
    },
    {
      "cell_type": "code",
      "metadata": {
        "id": "dsXxLCagzguI"
      },
      "source": [
        "#sprawdzenie roku 2010\n",
        "genres_in_2010 = genres_split_by_years[genres_split_by_years['year']=='2010']\n",
        "genres_2010=genres_in_2010['new_genre'].to_list()\n",
        "genres_2010"
      ],
      "execution_count": null,
      "outputs": []
    },
    {
      "cell_type": "code",
      "metadata": {
        "id": "k1B20Xdv0SSY"
      },
      "source": [
        "data_year_plot = imdb_movies.groupby('year').imdb_title_id.count()\n",
        "data_year_plot.tail(20)"
      ],
      "execution_count": null,
      "outputs": []
    },
    {
      "cell_type": "markdown",
      "metadata": {
        "id": "XWkmeu9eqbkP"
      },
      "source": [
        "# Jakie kraje dominują w produkcji filmów  - które wypuszczają najwięcej filmów, i z 5 największych zrobić szeregi czasowe - GRZESIEK"
      ]
    },
    {
      "cell_type": "code",
      "metadata": {
        "id": "MLi7rdX7KBaz"
      },
      "source": [
        "import pandas as pd\n",
        "imdb_movies = pd.read_csv('/content/[netflix]/IMDb movies.csv')"
      ],
      "execution_count": null,
      "outputs": []
    },
    {
      "cell_type": "code",
      "metadata": {
        "id": "qZcOsQSZdqyX"
      },
      "source": [
        "''' \n",
        "Po pierwsze, te kraje są bardzo dziwne. Po drugie nie jestem \n",
        "w stanie określić która firma produkcyjna należy do danego kraju. \n",
        "Po trzecie te wszystkie kraje pokazują gdzie filmy zostały nakręcone.\n",
        "'''\n",
        "imdb_movies['country'].value_counts().head(10)"
      ],
      "execution_count": null,
      "outputs": []
    },
    {
      "cell_type": "code",
      "metadata": {
        "id": "ojV2XmGcIYIs"
      },
      "source": [
        "'''\n",
        "Te wykresy są okej, ale później jest coś nie tak...\n",
        "'''\n",
        "import matplotlib.pyplot as plt\n",
        "import seaborn as sn\n",
        "chart_country = imdb_movies['country'].value_counts().head(10)\n",
        "chart_country.plot(kind='barh', figsize=(16,8), fontsize=13)\n",
        "plt.title(\"Where the movies were filmed\", fontsize=10)\n",
        "plt.xlabel('Number of movies')\n",
        "plt.ylabel('Countries')\n",
        "plt.show()"
      ],
      "execution_count": null,
      "outputs": []
    },
    {
      "cell_type": "code",
      "metadata": {
        "id": "LSg7AO4gIfpa"
      },
      "source": [
        "'''\n",
        "Jak tutaj widzimy że daty się pomieszały. Spróbowałem sortować datę i nie jestem w stanie tego naprawić.\n",
        "'''\n",
        "imdb_movies.groupby('year').country.count().plot()"
      ],
      "execution_count": null,
      "outputs": []
    },
    {
      "cell_type": "code",
      "metadata": {
        "id": "MClRb_24Po-N"
      },
      "source": [
        "countries_new = imdb_movies[['year', 'country']]\n",
        "countries_new"
      ],
      "execution_count": null,
      "outputs": []
    },
    {
      "cell_type": "code",
      "metadata": {
        "id": "vrCPOu_RKcgm"
      },
      "source": [
        "'''\n",
        "Teraz sprawdzam produkcję filmu. Jak widać że czołowe firmy należą do USA oprócz Mosfilm i Canal+.\n",
        "'''\n",
        "imdb_movies['production_company'].value_counts().head(20)"
      ],
      "execution_count": null,
      "outputs": []
    },
    {
      "cell_type": "code",
      "metadata": {
        "id": "Td9iHHRRRxCq"
      },
      "source": [
        "imdb_production = imdb_movies['production_company'].value_counts()\n",
        "imdb_production.iloc[:10].plot(kind='barh',figsize=(16,8),fontsize=13)\n",
        "plt.title(\"production companies and number of movies\",fontsize=15)\n",
        "plt.xlabel('number of movies',fontsize=14)\n",
        "sn.set_style(\"whitegrid\")"
      ],
      "execution_count": null,
      "outputs": []
    },
    {
      "cell_type": "code",
      "metadata": {
        "id": "9hUuPuVSI8OU"
      },
      "source": [
        "'''\n",
        "Tutaj niestety jest za mało kolumn żeby określić w których krajach produkowali najwięcej \n",
        "filmików, więc sprawdzam które produkcje filmowe zostały najbardziej ocenione.\n",
        "'''\n",
        "imdb_movies.corr()"
      ],
      "execution_count": null,
      "outputs": []
    },
    {
      "cell_type": "code",
      "metadata": {
        "id": "j5ZcwPqfI7Cd"
      },
      "source": [
        "movie_sliced = imdb_movies[0:1000]\n",
        "\n",
        "\n",
        "plt.figure(figsize=(15,15))\n",
        "sn.swarmplot(x='avg_vote', y='country', data = movie_sliced)\n",
        "plt.title ('Which countries have the best productions?', fontsize=20, fontweight='bold')\n",
        "plt.xlabel('Score')\n",
        "plt.ylabel('Country')\n",
        "plt.show()"
      ],
      "execution_count": null,
      "outputs": []
    },
    {
      "cell_type": "markdown",
      "metadata": {
        "id": "JXgZfv-Db-Hg"
      },
      "source": [
        "#Ile przypadków, że scenarzysta jest jednocześnie reżyserem w filmie - EWA"
      ]
    },
    {
      "cell_type": "code",
      "metadata": {
        "id": "mE0CtFgfhGGl"
      },
      "source": [
        "imdb_movies = pd.read_csv('/content/[netflix]/IMDb movies.csv')"
      ],
      "execution_count": null,
      "outputs": []
    },
    {
      "cell_type": "code",
      "metadata": {
        "id": "iJMvZD-dljyz"
      },
      "source": [
        "imdb_movies[imdb_movies.writer == imdb_movies.director].director.count()\r\n",
        "# to tak prosto, czyli odpowiada na postawione pytanie, \r\n",
        "# ale tylko wtedy jeśli jest jeden reżyser i jeden scenarzysta."
      ],
      "execution_count": null,
      "outputs": []
    },
    {
      "cell_type": "code",
      "metadata": {
        "id": "ROp-ak4tmSTR"
      },
      "source": [
        "imdb_movies['writer_1'] = imdb_movies.writer.str.split(pat=',', expand=True)[0]\r\n",
        "imdb_movies['writer_2'] = imdb_movies.writer.str.split(pat=',', expand=True)[1]\r\n",
        "imdb_movies[['writer_1', 'writer_2']]"
      ],
      "execution_count": null,
      "outputs": []
    },
    {
      "cell_type": "code",
      "metadata": {
        "id": "rkZM8CsByU5A"
      },
      "source": [
        "imdb_movies['director_1'] = imdb_movies.director.str.split(pat=',', expand=True)[0]\r\n",
        "imdb_movies['director_2'] = imdb_movies.director.str.split(pat=',', expand=True)[1]\r\n",
        "imdb_movies[['director_1', 'director_2']]"
      ],
      "execution_count": null,
      "outputs": []
    },
    {
      "cell_type": "code",
      "metadata": {
        "id": "r_LE6nvHy14c"
      },
      "source": [
        "# tu taki brzydki długi warunek :)\r\n",
        "# ale wydaje mi się, że dobrze porównuje i zlicza wyżej utworzone kolumny\r\n",
        "\r\n",
        "imdb_movies[(imdb_movies.writer_1 == imdb_movies.director_1) | \r\n",
        "        (imdb_movies.writer_1 == imdb_movies.director_2) | \r\n",
        "        (imdb_movies.writer_2 == imdb_movies.director_1) | \r\n",
        "        (imdb_movies.writer_2 == imdb_movies.director_2)].imdb_title_id.count()"
      ],
      "execution_count": null,
      "outputs": []
    },
    {
      "cell_type": "markdown",
      "metadata": {
        "id": "B0KEiQ-icEhG"
      },
      "source": [
        "#Reżyser - z największymi średnimi głosów, największa liczba głosów - KASIA"
      ]
    },
    {
      "cell_type": "code",
      "metadata": {
        "id": "olzrjnGZM5Th"
      },
      "source": [
        "imdb_movies = pd.read_csv('/content/[netflix]/IMDb movies.csv')"
      ],
      "execution_count": null,
      "outputs": []
    },
    {
      "cell_type": "code",
      "metadata": {
        "id": "7w8lBzLteXAP"
      },
      "source": [
        "imdb_movies.columns"
      ],
      "execution_count": null,
      "outputs": []
    },
    {
      "cell_type": "code",
      "metadata": {
        "id": "i-xNUUc2Ea33"
      },
      "source": [
        "#Reżyserzy z największą średnią ocen, którzy nakręcili więcej niż 5 filmów\n",
        "imdb_directors_av_votes=imdb_movies[['director','avg_vote']].groupby('director').agg(['count', 'mean']).reset_index()\n",
        "imdb_directors_av_votes[imdb_directors_av_votes['avg_vote']['count']>5].sort_values(by=('avg_vote','mean'), ascending=False).reset_index().head(10)"
      ],
      "execution_count": null,
      "outputs": []
    },
    {
      "cell_type": "code",
      "metadata": {
        "id": "ex0nfPXVpbSt"
      },
      "source": [
        "#reżyserzy, którzy kręcą dużo i źle ;)\n",
        "imdb_directors_av_votes[imdb_directors_av_votes['avg_vote']['count']>10].sort_values(by=('avg_vote','mean'), ascending=True).head(10)"
      ],
      "execution_count": null,
      "outputs": []
    },
    {
      "cell_type": "code",
      "metadata": {
        "id": "NnJMXP8EpGDp"
      },
      "source": [
        "#jakie oceny dostają reżyserzy którzy idą 'na ilość'\n",
        "imdb_directors_av_votes[imdb_directors_av_votes['avg_vote']['count']>5].sort_values(by=('avg_vote','count'), ascending=False).head(10)"
      ],
      "execution_count": null,
      "outputs": []
    },
    {
      "cell_type": "code",
      "metadata": {
        "id": "-9QT462Yn3hW"
      },
      "source": [
        "#Reżyserzy których filmy otrzymują średnio najwięcej głosów, którzy nakręcili więcej niż 5 filmów\n",
        "imdb_directors_sum_votes=imdb_movies[['director','votes']].groupby('director').agg(['count', 'sum']).reset_index()\n",
        "imdb_directors_sum_votes['votes_per_film'] = imdb_directors_sum_votes['votes']['sum']/imdb_directors_sum_votes['votes']['count']\n",
        "imdb_directors_sum_votes['votes_per_film']=imdb_directors_sum_votes['votes_per_film'].astype('int')\n",
        "imdb_directors_sum_votes[imdb_directors_sum_votes['votes']['count']>5].sort_values(by=('votes_per_film'), ascending=False).head(10)"
      ],
      "execution_count": null,
      "outputs": []
    },
    {
      "cell_type": "markdown",
      "metadata": {
        "id": "-h7hkXzEviiQ"
      },
      "source": [
        "#Scenarzysta - jw - GRZESIEK"
      ]
    },
    {
      "cell_type": "code",
      "metadata": {
        "id": "ojSH_VXlnh1j"
      },
      "source": [
        "imdb_movies = pd.read_csv('/content/[netflix]/IMDb movies.csv')"
      ],
      "execution_count": null,
      "outputs": []
    },
    {
      "cell_type": "code",
      "metadata": {
        "id": "DQNi3Q2PoiLj"
      },
      "source": [
        "imdb_movies.columns"
      ],
      "execution_count": null,
      "outputs": []
    },
    {
      "cell_type": "code",
      "metadata": {
        "id": "gLcNnKBIomsu"
      },
      "source": [
        "imdb_writers_av_votes=imdb_movies[['writer','avg_vote']].groupby('writer').agg(['count', 'mean']).reset_index()\n",
        "imdb_writers_av_votes[imdb_writers_av_votes['avg_vote']['count']>10].sort_values(by=('avg_vote','mean'), ascending=False).reset_index().head(10)"
      ],
      "execution_count": null,
      "outputs": []
    },
    {
      "cell_type": "code",
      "metadata": {
        "id": "zgWFKOSUpggd"
      },
      "source": [
        "imdb_writers_av_votes[imdb_writers_av_votes['avg_vote']['count']>10].sort_values(by=('avg_vote','mean'), ascending=True).head(10)"
      ],
      "execution_count": null,
      "outputs": []
    },
    {
      "cell_type": "code",
      "metadata": {
        "id": "WCIKHn8NqRw_"
      },
      "source": [
        "imdb_writers_av_votes[imdb_writers_av_votes['avg_vote']['count']>5].sort_values(by=('avg_vote','count'), ascending=False).head(10)"
      ],
      "execution_count": null,
      "outputs": []
    },
    {
      "cell_type": "code",
      "metadata": {
        "id": "yo6aUZ0nqY4U"
      },
      "source": [
        "imdb_writers_sum_votes=imdb_movies[['writer','votes']].groupby('writer').agg(['count', 'sum']).reset_index()\n",
        "imdb_writers_sum_votes['votes_per_film'] = imdb_writers_sum_votes['votes']['sum']/imdb_writers_sum_votes['votes']['count']\n",
        "imdb_writers_sum_votes['votes_per_film']=imdb_writers_sum_votes['votes_per_film'].astype('int')\n",
        "imdb_writers_sum_votes[imdb_writers_sum_votes['votes']['count']>5].sort_values(by=('votes_per_film'), ascending=False).head(10)"
      ],
      "execution_count": null,
      "outputs": []
    },
    {
      "cell_type": "markdown",
      "metadata": {
        "id": "9W8xArYTDiXq"
      },
      "source": [
        "#Reżyser - dochód z filmów - Kasia"
      ]
    },
    {
      "cell_type": "markdown",
      "metadata": {
        "id": "ayQvVo1kDsy8"
      },
      "source": [
        "##Reżyserzy z największą ilością filmów"
      ]
    },
    {
      "cell_type": "code",
      "metadata": {
        "id": "CxuXSsn4cQsR",
        "colab": {
          "base_uri": "https://localhost:8080/"
        },
        "outputId": "91965007-f6d9-417a-ca57-5dd6fa8c113f"
      },
      "source": [
        "#Reżyserzy z największą ilością filmów\n",
        "imdb_movies['director'].value_counts().head(10)"
      ],
      "execution_count": 108,
      "outputs": [
        {
          "output_type": "execute_result",
          "data": {
            "text/plain": [
              "Jesús Franco        87\n",
              "Michael Curtiz      85\n",
              "Lesley Selander     78\n",
              "Lloyd Bacon         73\n",
              "William Beaudine    70\n",
              "Richard Thorpe      68\n",
              "John Ford           67\n",
              "Gordon Douglas      64\n",
              "Raoul Walsh         61\n",
              "Mervyn LeRoy        59\n",
              "Name: director, dtype: int64"
            ]
          },
          "metadata": {
            "tags": []
          },
          "execution_count": 108
        }
      ]
    },
    {
      "cell_type": "markdown",
      "metadata": {
        "id": "v63jzkQGD1Lw"
      },
      "source": [
        "##Reżyserzy, których filmy osiągnęły największy dochód na świecie - dot. dochodów w USD - może zrobić jeszcze INR rupię indyjską? Bolywood? Może filmy kręcone w Chinach (jaka waluta?) jaki mają dochód?"
      ]
    },
    {
      "cell_type": "code",
      "metadata": {
        "id": "-0UrVoZISlX8",
        "colab": {
          "base_uri": "https://localhost:8080/"
        },
        "outputId": "7d71e846-aa47-48a6-d716-bbe53aa7d1ce"
      },
      "source": [
        "imdb_movies['worlwide_gross_income']"
      ],
      "execution_count": 109,
      "outputs": [
        {
          "output_type": "execute_result",
          "data": {
            "text/plain": [
              "0              0\n",
              "1              0\n",
              "2              0\n",
              "3              0\n",
              "4              0\n",
              "          ...   \n",
              "85850    3507171\n",
              "85851    7299062\n",
              "85852          0\n",
              "85853       2833\n",
              "85854      59794\n",
              "Name: worlwide_gross_income, Length: 85855, dtype: int64"
            ]
          },
          "metadata": {
            "tags": []
          },
          "execution_count": 109
        }
      ]
    },
    {
      "cell_type": "code",
      "metadata": {
        "id": "KegG_vIAlcep"
      },
      "source": [
        "#Wyczyszczenie NaN\n",
        "imdb_movies['worlwide_gross_income'].replace(np.nan, '$ 0', inplace=True)"
      ],
      "execution_count": 110,
      "outputs": []
    },
    {
      "cell_type": "code",
      "metadata": {
        "id": "BymbVmBGRx6s",
        "colab": {
          "base_uri": "https://localhost:8080/",
          "height": 428
        },
        "outputId": "545b70be-ac4e-4a0f-a96b-1677daf95ded"
      },
      "source": [
        "#poprzez split oddzielenie waluty od wartości\n",
        "imdb_movies['worlwide_gross_income']=imdb_movies['worlwide_gross_income'].apply(lambda x: x.split())\n"
      ],
      "execution_count": 111,
      "outputs": [
        {
          "output_type": "error",
          "ename": "AttributeError",
          "evalue": "ignored",
          "traceback": [
            "\u001b[0;31m---------------------------------------------------------------------------\u001b[0m",
            "\u001b[0;31mAttributeError\u001b[0m                            Traceback (most recent call last)",
            "\u001b[0;32m<ipython-input-111-2d2e89bbf305>\u001b[0m in \u001b[0;36m<module>\u001b[0;34m()\u001b[0m\n\u001b[1;32m      1\u001b[0m \u001b[0;31m#poprzez split oddzielenie waluty od wartości\u001b[0m\u001b[0;34m\u001b[0m\u001b[0;34m\u001b[0m\u001b[0;34m\u001b[0m\u001b[0m\n\u001b[0;32m----> 2\u001b[0;31m \u001b[0mimdb_movies\u001b[0m\u001b[0;34m[\u001b[0m\u001b[0;34m'worlwide_gross_income'\u001b[0m\u001b[0;34m]\u001b[0m\u001b[0;34m=\u001b[0m\u001b[0mimdb_movies\u001b[0m\u001b[0;34m[\u001b[0m\u001b[0;34m'worlwide_gross_income'\u001b[0m\u001b[0;34m]\u001b[0m\u001b[0;34m.\u001b[0m\u001b[0mapply\u001b[0m\u001b[0;34m(\u001b[0m\u001b[0;32mlambda\u001b[0m \u001b[0mx\u001b[0m\u001b[0;34m:\u001b[0m \u001b[0mx\u001b[0m\u001b[0;34m.\u001b[0m\u001b[0msplit\u001b[0m\u001b[0;34m(\u001b[0m\u001b[0;34m)\u001b[0m\u001b[0;34m)\u001b[0m\u001b[0;34m\u001b[0m\u001b[0;34m\u001b[0m\u001b[0m\n\u001b[0m",
            "\u001b[0;32m/usr/local/lib/python3.6/dist-packages/pandas/core/series.py\u001b[0m in \u001b[0;36mapply\u001b[0;34m(self, func, convert_dtype, args, **kwds)\u001b[0m\n\u001b[1;32m   4211\u001b[0m             \u001b[0;32melse\u001b[0m\u001b[0;34m:\u001b[0m\u001b[0;34m\u001b[0m\u001b[0;34m\u001b[0m\u001b[0m\n\u001b[1;32m   4212\u001b[0m                 \u001b[0mvalues\u001b[0m \u001b[0;34m=\u001b[0m \u001b[0mself\u001b[0m\u001b[0;34m.\u001b[0m\u001b[0mastype\u001b[0m\u001b[0;34m(\u001b[0m\u001b[0mobject\u001b[0m\u001b[0;34m)\u001b[0m\u001b[0;34m.\u001b[0m\u001b[0m_values\u001b[0m\u001b[0;34m\u001b[0m\u001b[0;34m\u001b[0m\u001b[0m\n\u001b[0;32m-> 4213\u001b[0;31m                 \u001b[0mmapped\u001b[0m \u001b[0;34m=\u001b[0m \u001b[0mlib\u001b[0m\u001b[0;34m.\u001b[0m\u001b[0mmap_infer\u001b[0m\u001b[0;34m(\u001b[0m\u001b[0mvalues\u001b[0m\u001b[0;34m,\u001b[0m \u001b[0mf\u001b[0m\u001b[0;34m,\u001b[0m \u001b[0mconvert\u001b[0m\u001b[0;34m=\u001b[0m\u001b[0mconvert_dtype\u001b[0m\u001b[0;34m)\u001b[0m\u001b[0;34m\u001b[0m\u001b[0;34m\u001b[0m\u001b[0m\n\u001b[0m\u001b[1;32m   4214\u001b[0m \u001b[0;34m\u001b[0m\u001b[0m\n\u001b[1;32m   4215\u001b[0m         \u001b[0;32mif\u001b[0m \u001b[0mlen\u001b[0m\u001b[0;34m(\u001b[0m\u001b[0mmapped\u001b[0m\u001b[0;34m)\u001b[0m \u001b[0;32mand\u001b[0m \u001b[0misinstance\u001b[0m\u001b[0;34m(\u001b[0m\u001b[0mmapped\u001b[0m\u001b[0;34m[\u001b[0m\u001b[0;36m0\u001b[0m\u001b[0;34m]\u001b[0m\u001b[0;34m,\u001b[0m \u001b[0mSeries\u001b[0m\u001b[0;34m)\u001b[0m\u001b[0;34m:\u001b[0m\u001b[0;34m\u001b[0m\u001b[0;34m\u001b[0m\u001b[0m\n",
            "\u001b[0;32mpandas/_libs/lib.pyx\u001b[0m in \u001b[0;36mpandas._libs.lib.map_infer\u001b[0;34m()\u001b[0m\n",
            "\u001b[0;32m<ipython-input-111-2d2e89bbf305>\u001b[0m in \u001b[0;36m<lambda>\u001b[0;34m(x)\u001b[0m\n\u001b[1;32m      1\u001b[0m \u001b[0;31m#poprzez split oddzielenie waluty od wartości\u001b[0m\u001b[0;34m\u001b[0m\u001b[0;34m\u001b[0m\u001b[0;34m\u001b[0m\u001b[0m\n\u001b[0;32m----> 2\u001b[0;31m \u001b[0mimdb_movies\u001b[0m\u001b[0;34m[\u001b[0m\u001b[0;34m'worlwide_gross_income'\u001b[0m\u001b[0;34m]\u001b[0m\u001b[0;34m=\u001b[0m\u001b[0mimdb_movies\u001b[0m\u001b[0;34m[\u001b[0m\u001b[0;34m'worlwide_gross_income'\u001b[0m\u001b[0;34m]\u001b[0m\u001b[0;34m.\u001b[0m\u001b[0mapply\u001b[0m\u001b[0;34m(\u001b[0m\u001b[0;32mlambda\u001b[0m \u001b[0mx\u001b[0m\u001b[0;34m:\u001b[0m \u001b[0mx\u001b[0m\u001b[0;34m.\u001b[0m\u001b[0msplit\u001b[0m\u001b[0;34m(\u001b[0m\u001b[0;34m)\u001b[0m\u001b[0;34m)\u001b[0m\u001b[0;34m\u001b[0m\u001b[0;34m\u001b[0m\u001b[0m\n\u001b[0m",
            "\u001b[0;31mAttributeError\u001b[0m: 'int' object has no attribute 'split'"
          ]
        }
      ]
    },
    {
      "cell_type": "code",
      "metadata": {
        "id": "4GGFU8o2S8pe"
      },
      "source": [
        "#Wydzielenie walut do osobnej kolumny\n",
        "imdb_movies['currency_for_wwincome']=imdb_movies['worlwide_gross_income'].apply(lambda x: x[0])"
      ],
      "execution_count": 16,
      "outputs": []
    },
    {
      "cell_type": "code",
      "metadata": {
        "id": "t124m9psTMZt",
        "colab": {
          "base_uri": "https://localhost:8080/"
        },
        "outputId": "c3441fa9-5a47-4b40-b65a-73ee7caa3f01"
      },
      "source": [
        "#Waluty występujące w worlwide gross income\n",
        "imdb_movies['currency_for_wwincome'].unique()"
      ],
      "execution_count": 17,
      "outputs": [
        {
          "output_type": "execute_result",
          "data": {
            "text/plain": [
              "array(['$', 'GBP', 'INR', 'NPR', 'PKR'], dtype=object)"
            ]
          },
          "metadata": {
            "tags": []
          },
          "execution_count": 17
        }
      ]
    },
    {
      "cell_type": "code",
      "metadata": {
        "id": "XlsJ8FwdTXnA"
      },
      "source": [
        "#kolumna z worlwide gross income tylko z wartościami\n",
        "imdb_movies['worlwide_gross_income']=imdb_movies['worlwide_gross_income'].apply(lambda x: x[1])"
      ],
      "execution_count": 18,
      "outputs": []
    },
    {
      "cell_type": "code",
      "metadata": {
        "id": "97LPEe7AT_cu"
      },
      "source": [
        "#zmiana stringów na int\n",
        "imdb_movies['worlwide_gross_income']=imdb_movies['worlwide_gross_income'].astype(int)"
      ],
      "execution_count": 19,
      "outputs": []
    },
    {
      "cell_type": "code",
      "metadata": {
        "id": "LFyztu93UhX2"
      },
      "source": [
        "#nowa df z danymi gdzie worlwide_gross_income w dolarach\n",
        "imdb_movies_USD = imdb_movies[imdb_movies['currency_for_wwincome']=='$']"
      ],
      "execution_count": 22,
      "outputs": []
    },
    {
      "cell_type": "code",
      "metadata": {
        "id": "aGtcxetjXiUX",
        "colab": {
          "base_uri": "https://localhost:8080/"
        },
        "outputId": "1a07d1d0-3204-408c-8d85-cbe427aa982a"
      },
      "source": [
        "#zmiana typu z obj na int\n",
        "imdb_movies_USD['worlwide_gross_income'] =imdb_movies_USD['worlwide_gross_income'].astype(int)"
      ],
      "execution_count": 23,
      "outputs": [
        {
          "output_type": "stream",
          "text": [
            "/usr/local/lib/python3.6/dist-packages/ipykernel_launcher.py:2: SettingWithCopyWarning: \n",
            "A value is trying to be set on a copy of a slice from a DataFrame.\n",
            "Try using .loc[row_indexer,col_indexer] = value instead\n",
            "\n",
            "See the caveats in the documentation: https://pandas.pydata.org/pandas-docs/stable/user_guide/indexing.html#returning-a-view-versus-a-copy\n",
            "  \n"
          ],
          "name": "stderr"
        }
      ]
    },
    {
      "cell_type": "code",
      "metadata": {
        "id": "dzJstpodYTfy",
        "colab": {
          "base_uri": "https://localhost:8080/"
        },
        "outputId": "c5b7b354-3e3b-4f82-e514-3d89f54ee593"
      },
      "source": [
        "imdb_movies_USD['worlwide_gross_income']"
      ],
      "execution_count": 24,
      "outputs": [
        {
          "output_type": "execute_result",
          "data": {
            "text/plain": [
              "0              0\n",
              "1              0\n",
              "2              0\n",
              "3              0\n",
              "4              0\n",
              "          ...   \n",
              "85850    3507171\n",
              "85851    7299062\n",
              "85852          0\n",
              "85853       2833\n",
              "85854      59794\n",
              "Name: worlwide_gross_income, Length: 85794, dtype: int64"
            ]
          },
          "metadata": {
            "tags": []
          },
          "execution_count": 24
        }
      ]
    },
    {
      "cell_type": "code",
      "metadata": {
        "id": "mfpdbYDnE_xc"
      },
      "source": [
        "#Wyczyszczenie $ i spacji - tak się nie da bo różne waluty\n",
        "#imdb_movies['worlwide_gross_income']=imdb_movies['worlwide_gross_income'].apply(lambda x: x[2:])\n"
      ],
      "execution_count": null,
      "outputs": []
    },
    {
      "cell_type": "code",
      "metadata": {
        "id": "4BZqQs48eEk2",
        "colab": {
          "base_uri": "https://localhost:8080/",
          "height": 669
        },
        "outputId": "a4f96bf0-34fc-4898-9765-cf3a8d36fbfb"
      },
      "source": [
        "#Reżyserzy z największym dochodem w dolarach-dochód z wszystkich filmów\n",
        "imdb_director_worlwide_income=imdb_movies_USD.groupby('director').agg({'imdb_title_id':'count','worlwide_gross_income':'sum'}).reset_index().rename(columns={'imdb_title_id':'films_count'}).sort_values(by='worlwide_gross_income', ascending=False)\n",
        "imdb_director_worlwide_income.head(20)"
      ],
      "execution_count": 25,
      "outputs": [
        {
          "output_type": "execute_result",
          "data": {
            "text/html": [
              "<div>\n",
              "<style scoped>\n",
              "    .dataframe tbody tr th:only-of-type {\n",
              "        vertical-align: middle;\n",
              "    }\n",
              "\n",
              "    .dataframe tbody tr th {\n",
              "        vertical-align: top;\n",
              "    }\n",
              "\n",
              "    .dataframe thead th {\n",
              "        text-align: right;\n",
              "    }\n",
              "</style>\n",
              "<table border=\"1\" class=\"dataframe\">\n",
              "  <thead>\n",
              "    <tr style=\"text-align: right;\">\n",
              "      <th></th>\n",
              "      <th>director</th>\n",
              "      <th>films_count</th>\n",
              "      <th>worlwide_gross_income</th>\n",
              "    </tr>\n",
              "  </thead>\n",
              "  <tbody>\n",
              "    <tr>\n",
              "      <th>30601</th>\n",
              "      <td>Steven Spielberg</td>\n",
              "      <td>32</td>\n",
              "      <td>10521265279</td>\n",
              "    </tr>\n",
              "    <tr>\n",
              "      <th>2352</th>\n",
              "      <td>Anthony Russo, Joe Russo</td>\n",
              "      <td>6</td>\n",
              "      <td>6848715547</td>\n",
              "    </tr>\n",
              "    <tr>\n",
              "      <th>25192</th>\n",
              "      <td>Peter Jackson</td>\n",
              "      <td>13</td>\n",
              "      <td>6601458791</td>\n",
              "    </tr>\n",
              "    <tr>\n",
              "      <th>21769</th>\n",
              "      <td>Michael Bay</td>\n",
              "      <td>14</td>\n",
              "      <td>6451692798</td>\n",
              "    </tr>\n",
              "    <tr>\n",
              "      <th>13738</th>\n",
              "      <td>James Cameron</td>\n",
              "      <td>7</td>\n",
              "      <td>6185441282</td>\n",
              "    </tr>\n",
              "    <tr>\n",
              "      <th>7486</th>\n",
              "      <td>David Yates</td>\n",
              "      <td>8</td>\n",
              "      <td>6021255883</td>\n",
              "    </tr>\n",
              "    <tr>\n",
              "      <th>5748</th>\n",
              "      <td>Christopher Nolan</td>\n",
              "      <td>11</td>\n",
              "      <td>4870773767</td>\n",
              "    </tr>\n",
              "    <tr>\n",
              "      <th>13335</th>\n",
              "      <td>J.J. Abrams</td>\n",
              "      <td>6</td>\n",
              "      <td>4653989459</td>\n",
              "    </tr>\n",
              "    <tr>\n",
              "      <th>27840</th>\n",
              "      <td>Ron Howard</td>\n",
              "      <td>25</td>\n",
              "      <td>4390732419</td>\n",
              "    </tr>\n",
              "    <tr>\n",
              "      <th>16072</th>\n",
              "      <td>Jon Favreau</td>\n",
              "      <td>9</td>\n",
              "      <td>4348727274</td>\n",
              "    </tr>\n",
              "    <tr>\n",
              "      <th>31755</th>\n",
              "      <td>Tim Burton</td>\n",
              "      <td>18</td>\n",
              "      <td>4338312709</td>\n",
              "    </tr>\n",
              "    <tr>\n",
              "      <th>5370</th>\n",
              "      <td>Chris Columbus</td>\n",
              "      <td>15</td>\n",
              "      <td>4134539583</td>\n",
              "    </tr>\n",
              "    <tr>\n",
              "      <th>27047</th>\n",
              "      <td>Ridley Scott</td>\n",
              "      <td>25</td>\n",
              "      <td>4114600082</td>\n",
              "    </tr>\n",
              "    <tr>\n",
              "      <th>27755</th>\n",
              "      <td>Roland Emmerich</td>\n",
              "      <td>17</td>\n",
              "      <td>3994574698</td>\n",
              "    </tr>\n",
              "    <tr>\n",
              "      <th>27521</th>\n",
              "      <td>Robert Zemeckis</td>\n",
              "      <td>18</td>\n",
              "      <td>3981267377</td>\n",
              "    </tr>\n",
              "    <tr>\n",
              "      <th>11319</th>\n",
              "      <td>Gore Verbinski</td>\n",
              "      <td>10</td>\n",
              "      <td>3753024705</td>\n",
              "    </tr>\n",
              "    <tr>\n",
              "      <th>4460</th>\n",
              "      <td>Bryan Singer</td>\n",
              "      <td>11</td>\n",
              "      <td>3723434645</td>\n",
              "    </tr>\n",
              "    <tr>\n",
              "      <th>13937</th>\n",
              "      <td>James Wan</td>\n",
              "      <td>9</td>\n",
              "      <td>3708173136</td>\n",
              "    </tr>\n",
              "    <tr>\n",
              "      <th>10748</th>\n",
              "      <td>George Lucas</td>\n",
              "      <td>6</td>\n",
              "      <td>3442459149</td>\n",
              "    </tr>\n",
              "    <tr>\n",
              "      <th>6004</th>\n",
              "      <td>Clint Eastwood</td>\n",
              "      <td>38</td>\n",
              "      <td>3418006368</td>\n",
              "    </tr>\n",
              "  </tbody>\n",
              "</table>\n",
              "</div>"
            ],
            "text/plain": [
              "                       director  films_count  worlwide_gross_income\n",
              "30601          Steven Spielberg           32            10521265279\n",
              "2352   Anthony Russo, Joe Russo            6             6848715547\n",
              "25192             Peter Jackson           13             6601458791\n",
              "21769               Michael Bay           14             6451692798\n",
              "13738             James Cameron            7             6185441282\n",
              "7486                David Yates            8             6021255883\n",
              "5748          Christopher Nolan           11             4870773767\n",
              "13335               J.J. Abrams            6             4653989459\n",
              "27840                Ron Howard           25             4390732419\n",
              "16072               Jon Favreau            9             4348727274\n",
              "31755                Tim Burton           18             4338312709\n",
              "5370             Chris Columbus           15             4134539583\n",
              "27047              Ridley Scott           25             4114600082\n",
              "27755           Roland Emmerich           17             3994574698\n",
              "27521           Robert Zemeckis           18             3981267377\n",
              "11319            Gore Verbinski           10             3753024705\n",
              "4460               Bryan Singer           11             3723434645\n",
              "13937                 James Wan            9             3708173136\n",
              "10748              George Lucas            6             3442459149\n",
              "6004             Clint Eastwood           38             3418006368"
            ]
          },
          "metadata": {
            "tags": []
          },
          "execution_count": 25
        }
      ]
    },
    {
      "cell_type": "code",
      "metadata": {
        "id": "hwl_rcZxWGx2",
        "colab": {
          "base_uri": "https://localhost:8080/",
          "height": 394
        },
        "outputId": "2f664e29-242c-4b24-ca57-c3d4877e7955"
      },
      "source": [
        "#średni dochów z filmów na świecie\n",
        "imdb_director_worlwide_income['average_worlwide_income']=imdb_director_worlwide_income['worlwide_gross_income']/imdb_director_worlwide_income['films_count']\n",
        "imdb_director_worlwide_income['average_worlwide_income']=imdb_director_worlwide_income['average_worlwide_income'].astype(int)\n",
        "imdb_director_worlwide_income.sort_values(by='average_worlwide_income', ascending=False).head()"
      ],
      "execution_count": 26,
      "outputs": [
        {
          "output_type": "execute_result",
          "data": {
            "text/html": [
              "<div>\n",
              "<style scoped>\n",
              "    .dataframe tbody tr th:only-of-type {\n",
              "        vertical-align: middle;\n",
              "    }\n",
              "\n",
              "    .dataframe tbody tr th {\n",
              "        vertical-align: top;\n",
              "    }\n",
              "\n",
              "    .dataframe thead th {\n",
              "        text-align: right;\n",
              "    }\n",
              "</style>\n",
              "<table border=\"1\" class=\"dataframe\">\n",
              "  <thead>\n",
              "    <tr style=\"text-align: right;\">\n",
              "      <th></th>\n",
              "      <th>director</th>\n",
              "      <th>films_count</th>\n",
              "      <th>worlwide_gross_income</th>\n",
              "      <th>average_worlwide_income</th>\n",
              "    </tr>\n",
              "  </thead>\n",
              "  <tbody>\n",
              "    <tr>\n",
              "      <th>5362</th>\n",
              "      <td>Chris Buck, Jennifer Lee</td>\n",
              "      <td>2</td>\n",
              "      <td>2730830286</td>\n",
              "      <td>1365415143</td>\n",
              "    </tr>\n",
              "    <tr>\n",
              "      <th>2352</th>\n",
              "      <td>Anthony Russo, Joe Russo</td>\n",
              "      <td>6</td>\n",
              "      <td>6848715547</td>\n",
              "      <td>1141452591</td>\n",
              "    </tr>\n",
              "    <tr>\n",
              "      <th>18500</th>\n",
              "      <td>Kyle Balda, Pierre Coffin</td>\n",
              "      <td>2</td>\n",
              "      <td>2194242538</td>\n",
              "      <td>1097121269</td>\n",
              "    </tr>\n",
              "    <tr>\n",
              "      <th>16531</th>\n",
              "      <td>Josh Cooley</td>\n",
              "      <td>1</td>\n",
              "      <td>1073394593</td>\n",
              "      <td>1073394593</td>\n",
              "    </tr>\n",
              "    <tr>\n",
              "      <th>18950</th>\n",
              "      <td>Lee Unkrich</td>\n",
              "      <td>1</td>\n",
              "      <td>1066969703</td>\n",
              "      <td>1066969703</td>\n",
              "    </tr>\n",
              "  </tbody>\n",
              "</table>\n",
              "</div>"
            ],
            "text/plain": [
              "                        director  ...  average_worlwide_income\n",
              "5362    Chris Buck, Jennifer Lee  ...               1365415143\n",
              "2352    Anthony Russo, Joe Russo  ...               1141452591\n",
              "18500  Kyle Balda, Pierre Coffin  ...               1097121269\n",
              "16531                Josh Cooley  ...               1073394593\n",
              "18950                Lee Unkrich  ...               1066969703\n",
              "\n",
              "[5 rows x 4 columns]"
            ]
          },
          "metadata": {
            "tags": []
          },
          "execution_count": 26
        }
      ]
    },
    {
      "cell_type": "markdown",
      "metadata": {
        "id": "uL_1jfbjxCOx"
      },
      "source": [
        "##Bollywood"
      ]
    },
    {
      "cell_type": "code",
      "metadata": {
        "id": "0rVFUnU-wtrY"
      },
      "source": [
        "##Bolywood\n",
        "#nowa df z danymi gdzie worlwide_gross_income w rupii indyjskiej \n",
        "imdb_movies_INR = imdb_movies[imdb_movies['currency_for_wwincome']=='INR']"
      ],
      "execution_count": null,
      "outputs": []
    },
    {
      "cell_type": "code",
      "metadata": {
        "id": "1W_RsNmfxZIu"
      },
      "source": [
        "#zmiana typu z obj na int\n",
        "imdb_movies_INR['worlwide_gross_income'] =imdb_movies_INR['worlwide_gross_income'].astype(int)"
      ],
      "execution_count": null,
      "outputs": []
    },
    {
      "cell_type": "code",
      "metadata": {
        "id": "GyUQxE9RxmPf"
      },
      "source": [
        "#Reżyserzy z największym dochodem w rupii indyjskiej\n",
        "imdb_movies_INR.groupby('director').agg({'imdb_title_id':'count','worlwide_gross_income':'sum'}).reset_index().rename(columns={'imdb_title_id':'films_count'}).sort_values(by='worlwide_gross_income', ascending=False).head(10)"
      ],
      "execution_count": null,
      "outputs": []
    },
    {
      "cell_type": "markdown",
      "metadata": {
        "id": "MU-1SgHdye9g"
      },
      "source": [
        "##Reżyserzy dochód z filmów w USA"
      ]
    },
    {
      "cell_type": "code",
      "metadata": {
        "id": "5i5dorjmyjOO"
      },
      "source": [
        "imdb_movies[imdb_movies['usa_gross_income'].notnull()].head()"
      ],
      "execution_count": null,
      "outputs": []
    },
    {
      "cell_type": "code",
      "metadata": {
        "id": "05pI0EEaiFRz",
        "colab": {
          "base_uri": "https://localhost:8080/"
        },
        "outputId": "833d6028-ba08-42bf-dccd-d7e16b5c0996"
      },
      "source": [
        "imdb_movies['usa_gross_income']"
      ],
      "execution_count": 28,
      "outputs": [
        {
          "output_type": "execute_result",
          "data": {
            "text/plain": [
              "0        NaN\n",
              "1        NaN\n",
              "2        NaN\n",
              "3        NaN\n",
              "4        NaN\n",
              "        ... \n",
              "85850    NaN\n",
              "85851    NaN\n",
              "85852    NaN\n",
              "85853    NaN\n",
              "85854    NaN\n",
              "Name: usa_gross_income, Length: 85855, dtype: object"
            ]
          },
          "metadata": {
            "tags": []
          },
          "execution_count": 28
        }
      ]
    },
    {
      "cell_type": "code",
      "metadata": {
        "id": "8VlhoksUiFSG"
      },
      "source": [
        "#Wyczyszczenie NaN\n",
        "imdb_movies['usa_gross_income'].replace(np.nan, '$ 0', inplace=True)"
      ],
      "execution_count": 29,
      "outputs": []
    },
    {
      "cell_type": "code",
      "metadata": {
        "id": "dNX-dCYGiFSG"
      },
      "source": [
        "#poprzez split oddzielenie waluty od wartości\n",
        "imdb_movies['usa_gross_income']=imdb_movies['usa_gross_income'].apply(lambda x: x.split())\n"
      ],
      "execution_count": 30,
      "outputs": []
    },
    {
      "cell_type": "code",
      "metadata": {
        "id": "9UKaiLkJiFSH"
      },
      "source": [
        "#Wydzielenie walut do osobnej kolumny\n",
        "imdb_movies['currency_for_usaincome']=imdb_movies['usa_gross_income'].apply(lambda x: x[0])"
      ],
      "execution_count": 32,
      "outputs": []
    },
    {
      "cell_type": "code",
      "metadata": {
        "id": "bhgz5pmUiFSH",
        "colab": {
          "base_uri": "https://localhost:8080/"
        },
        "outputId": "61318558-0fd6-49b8-9a14-d77232ec25f9"
      },
      "source": [
        "#Waluty występujące w USA gross income\n",
        "imdb_movies['currency_for_usaincome'].unique()"
      ],
      "execution_count": 33,
      "outputs": [
        {
          "output_type": "execute_result",
          "data": {
            "text/plain": [
              "array(['$', 'EUR', 'GBP', 'HKD'], dtype=object)"
            ]
          },
          "metadata": {
            "tags": []
          },
          "execution_count": 33
        }
      ]
    },
    {
      "cell_type": "code",
      "metadata": {
        "id": "bWNGdt_viFSH"
      },
      "source": [
        "#kolumna z USA gross income tylko z wartościami\n",
        "imdb_movies['usa_gross_income']=imdb_movies['usa_gross_income'].apply(lambda x: x[1])"
      ],
      "execution_count": 34,
      "outputs": []
    },
    {
      "cell_type": "code",
      "metadata": {
        "id": "deaVNf7kiFSI"
      },
      "source": [
        "#zmiana stringów na int\n",
        "imdb_movies['usa_gross_income']=imdb_movies['usa_gross_income'].astype(int)"
      ],
      "execution_count": 35,
      "outputs": []
    },
    {
      "cell_type": "code",
      "metadata": {
        "id": "K1jxMYb0iFSI"
      },
      "source": [
        "#nowa df z danymi gdzie usa_gross_income w dolarach\n",
        "imdb_movies_USD = imdb_movies[imdb_movies['currency_for_usaincome']=='$']"
      ],
      "execution_count": 36,
      "outputs": []
    },
    {
      "cell_type": "code",
      "metadata": {
        "id": "MJ64MK2OiFSI",
        "colab": {
          "base_uri": "https://localhost:8080/"
        },
        "outputId": "0e041560-50eb-4a24-dbc5-c6cfddf8cfa3"
      },
      "source": [
        "#zmiana typu z obj na int\n",
        "imdb_movies_USD['usa_gross_income'] =imdb_movies_USD['usa_gross_income'].astype(int)"
      ],
      "execution_count": 37,
      "outputs": [
        {
          "output_type": "stream",
          "text": [
            "/usr/local/lib/python3.6/dist-packages/ipykernel_launcher.py:2: SettingWithCopyWarning: \n",
            "A value is trying to be set on a copy of a slice from a DataFrame.\n",
            "Try using .loc[row_indexer,col_indexer] = value instead\n",
            "\n",
            "See the caveats in the documentation: https://pandas.pydata.org/pandas-docs/stable/user_guide/indexing.html#returning-a-view-versus-a-copy\n",
            "  \n"
          ],
          "name": "stderr"
        }
      ]
    },
    {
      "cell_type": "code",
      "metadata": {
        "id": "cCHOh_MxiFSJ",
        "colab": {
          "base_uri": "https://localhost:8080/"
        },
        "outputId": "473abde4-5ae8-4b74-f2fd-4cf088702032"
      },
      "source": [
        "imdb_movies_USD['usa_gross_income']"
      ],
      "execution_count": 38,
      "outputs": [
        {
          "output_type": "execute_result",
          "data": {
            "text/plain": [
              "0        0\n",
              "1        0\n",
              "2        0\n",
              "3        0\n",
              "4        0\n",
              "        ..\n",
              "85850    0\n",
              "85851    0\n",
              "85852    0\n",
              "85853    0\n",
              "85854    0\n",
              "Name: usa_gross_income, Length: 85850, dtype: int64"
            ]
          },
          "metadata": {
            "tags": []
          },
          "execution_count": 38
        }
      ]
    },
    {
      "cell_type": "code",
      "metadata": {
        "id": "ZgcpMtPYiFSJ",
        "colab": {
          "base_uri": "https://localhost:8080/",
          "height": 669
        },
        "outputId": "0768ef8c-bfbf-477f-9dc7-8e1058eeea5d"
      },
      "source": [
        "#Reżyserzy z największym dochodem w dolarach\n",
        "imdb_director_USA_income = imdb_movies_USD.groupby('director').agg({'imdb_title_id':'count','usa_gross_income':'sum'}).reset_index().rename(columns={'imdb_title_id':'films_count'}).sort_values(by='usa_gross_income', ascending=False).head(20)\n",
        "imdb_director_USA_income"
      ],
      "execution_count": 39,
      "outputs": [
        {
          "output_type": "execute_result",
          "data": {
            "text/html": [
              "<div>\n",
              "<style scoped>\n",
              "    .dataframe tbody tr th:only-of-type {\n",
              "        vertical-align: middle;\n",
              "    }\n",
              "\n",
              "    .dataframe tbody tr th {\n",
              "        vertical-align: top;\n",
              "    }\n",
              "\n",
              "    .dataframe thead th {\n",
              "        text-align: right;\n",
              "    }\n",
              "</style>\n",
              "<table border=\"1\" class=\"dataframe\">\n",
              "  <thead>\n",
              "    <tr style=\"text-align: right;\">\n",
              "      <th></th>\n",
              "      <th>director</th>\n",
              "      <th>films_count</th>\n",
              "      <th>usa_gross_income</th>\n",
              "    </tr>\n",
              "  </thead>\n",
              "  <tbody>\n",
              "    <tr>\n",
              "      <th>30607</th>\n",
              "      <td>Steven Spielberg</td>\n",
              "      <td>32</td>\n",
              "      <td>4510254035</td>\n",
              "    </tr>\n",
              "    <tr>\n",
              "      <th>21771</th>\n",
              "      <td>Michael Bay</td>\n",
              "      <td>14</td>\n",
              "      <td>2326509503</td>\n",
              "    </tr>\n",
              "    <tr>\n",
              "      <th>2353</th>\n",
              "      <td>Anthony Russo, Joe Russo</td>\n",
              "      <td>6</td>\n",
              "      <td>2281004133</td>\n",
              "    </tr>\n",
              "    <tr>\n",
              "      <th>13336</th>\n",
              "      <td>J.J. Abrams</td>\n",
              "      <td>6</td>\n",
              "      <td>2199407427</td>\n",
              "    </tr>\n",
              "    <tr>\n",
              "      <th>25197</th>\n",
              "      <td>Peter Jackson</td>\n",
              "      <td>13</td>\n",
              "      <td>2134677462</td>\n",
              "    </tr>\n",
              "    <tr>\n",
              "      <th>27845</th>\n",
              "      <td>Ron Howard</td>\n",
              "      <td>25</td>\n",
              "      <td>2106835706</td>\n",
              "    </tr>\n",
              "    <tr>\n",
              "      <th>5749</th>\n",
              "      <td>Christopher Nolan</td>\n",
              "      <td>11</td>\n",
              "      <td>2006601194</td>\n",
              "    </tr>\n",
              "    <tr>\n",
              "      <th>6005</th>\n",
              "      <td>Clint Eastwood</td>\n",
              "      <td>38</td>\n",
              "      <td>1978448340</td>\n",
              "    </tr>\n",
              "    <tr>\n",
              "      <th>13739</th>\n",
              "      <td>James Cameron</td>\n",
              "      <td>7</td>\n",
              "      <td>1950027629</td>\n",
              "    </tr>\n",
              "    <tr>\n",
              "      <th>27526</th>\n",
              "      <td>Robert Zemeckis</td>\n",
              "      <td>18</td>\n",
              "      <td>1949943723</td>\n",
              "    </tr>\n",
              "    <tr>\n",
              "      <th>31761</th>\n",
              "      <td>Tim Burton</td>\n",
              "      <td>18</td>\n",
              "      <td>1902383162</td>\n",
              "    </tr>\n",
              "    <tr>\n",
              "      <th>16073</th>\n",
              "      <td>Jon Favreau</td>\n",
              "      <td>9</td>\n",
              "      <td>1879970186</td>\n",
              "    </tr>\n",
              "    <tr>\n",
              "      <th>7487</th>\n",
              "      <td>David Yates</td>\n",
              "      <td>8</td>\n",
              "      <td>1792652412</td>\n",
              "    </tr>\n",
              "    <tr>\n",
              "      <th>5371</th>\n",
              "      <td>Chris Columbus</td>\n",
              "      <td>15</td>\n",
              "      <td>1751228822</td>\n",
              "    </tr>\n",
              "    <tr>\n",
              "      <th>10749</th>\n",
              "      <td>George Lucas</td>\n",
              "      <td>6</td>\n",
              "      <td>1743927501</td>\n",
              "    </tr>\n",
              "    <tr>\n",
              "      <th>27052</th>\n",
              "      <td>Ridley Scott</td>\n",
              "      <td>25</td>\n",
              "      <td>1661945255</td>\n",
              "    </tr>\n",
              "    <tr>\n",
              "      <th>28506</th>\n",
              "      <td>Sam Raimi</td>\n",
              "      <td>15</td>\n",
              "      <td>1530011153</td>\n",
              "    </tr>\n",
              "    <tr>\n",
              "      <th>11320</th>\n",
              "      <td>Gore Verbinski</td>\n",
              "      <td>10</td>\n",
              "      <td>1529410193</td>\n",
              "    </tr>\n",
              "    <tr>\n",
              "      <th>9950</th>\n",
              "      <td>Francis Lawrence</td>\n",
              "      <td>7</td>\n",
              "      <td>1481481244</td>\n",
              "    </tr>\n",
              "    <tr>\n",
              "      <th>31964</th>\n",
              "      <td>Todd Phillips</td>\n",
              "      <td>10</td>\n",
              "      <td>1373182950</td>\n",
              "    </tr>\n",
              "  </tbody>\n",
              "</table>\n",
              "</div>"
            ],
            "text/plain": [
              "                       director  films_count  usa_gross_income\n",
              "30607          Steven Spielberg           32        4510254035\n",
              "21771               Michael Bay           14        2326509503\n",
              "2353   Anthony Russo, Joe Russo            6        2281004133\n",
              "13336               J.J. Abrams            6        2199407427\n",
              "25197             Peter Jackson           13        2134677462\n",
              "27845                Ron Howard           25        2106835706\n",
              "5749          Christopher Nolan           11        2006601194\n",
              "6005             Clint Eastwood           38        1978448340\n",
              "13739             James Cameron            7        1950027629\n",
              "27526           Robert Zemeckis           18        1949943723\n",
              "31761                Tim Burton           18        1902383162\n",
              "16073               Jon Favreau            9        1879970186\n",
              "7487                David Yates            8        1792652412\n",
              "5371             Chris Columbus           15        1751228822\n",
              "10749              George Lucas            6        1743927501\n",
              "27052              Ridley Scott           25        1661945255\n",
              "28506                 Sam Raimi           15        1530011153\n",
              "11320            Gore Verbinski           10        1529410193\n",
              "9950           Francis Lawrence            7        1481481244\n",
              "31964             Todd Phillips           10        1373182950"
            ]
          },
          "metadata": {
            "tags": []
          },
          "execution_count": 39
        }
      ]
    },
    {
      "cell_type": "code",
      "metadata": {
        "id": "Ek8mQ8r4ZQIf",
        "colab": {
          "base_uri": "https://localhost:8080/",
          "height": 531
        },
        "outputId": "51ec545b-0df7-4e0c-e8a6-28856fbb03ad"
      },
      "source": [
        "#średni dochód z filmów w USA\n",
        "imdb_director_USA_income['average_USA_income']=imdb_director_USA_income['usa_gross_income']/imdb_director_USA_income['films_count']\n",
        "imdb_director_USA_income['average_USA_income']=imdb_director_USA_income['average_USA_income'].astype(int)\n",
        "imdb_director_USA_income.sort_values(by='average_USA_income', ascending=False).head(15)"
      ],
      "execution_count": 40,
      "outputs": [
        {
          "output_type": "execute_result",
          "data": {
            "text/html": [
              "<div>\n",
              "<style scoped>\n",
              "    .dataframe tbody tr th:only-of-type {\n",
              "        vertical-align: middle;\n",
              "    }\n",
              "\n",
              "    .dataframe tbody tr th {\n",
              "        vertical-align: top;\n",
              "    }\n",
              "\n",
              "    .dataframe thead th {\n",
              "        text-align: right;\n",
              "    }\n",
              "</style>\n",
              "<table border=\"1\" class=\"dataframe\">\n",
              "  <thead>\n",
              "    <tr style=\"text-align: right;\">\n",
              "      <th></th>\n",
              "      <th>director</th>\n",
              "      <th>films_count</th>\n",
              "      <th>usa_gross_income</th>\n",
              "      <th>average_USA_income</th>\n",
              "    </tr>\n",
              "  </thead>\n",
              "  <tbody>\n",
              "    <tr>\n",
              "      <th>2353</th>\n",
              "      <td>Anthony Russo, Joe Russo</td>\n",
              "      <td>6</td>\n",
              "      <td>2281004133</td>\n",
              "      <td>380167355</td>\n",
              "    </tr>\n",
              "    <tr>\n",
              "      <th>13336</th>\n",
              "      <td>J.J. Abrams</td>\n",
              "      <td>6</td>\n",
              "      <td>2199407427</td>\n",
              "      <td>366567904</td>\n",
              "    </tr>\n",
              "    <tr>\n",
              "      <th>10749</th>\n",
              "      <td>George Lucas</td>\n",
              "      <td>6</td>\n",
              "      <td>1743927501</td>\n",
              "      <td>290654583</td>\n",
              "    </tr>\n",
              "    <tr>\n",
              "      <th>13739</th>\n",
              "      <td>James Cameron</td>\n",
              "      <td>7</td>\n",
              "      <td>1950027629</td>\n",
              "      <td>278575375</td>\n",
              "    </tr>\n",
              "    <tr>\n",
              "      <th>7487</th>\n",
              "      <td>David Yates</td>\n",
              "      <td>8</td>\n",
              "      <td>1792652412</td>\n",
              "      <td>224081551</td>\n",
              "    </tr>\n",
              "    <tr>\n",
              "      <th>9950</th>\n",
              "      <td>Francis Lawrence</td>\n",
              "      <td>7</td>\n",
              "      <td>1481481244</td>\n",
              "      <td>211640177</td>\n",
              "    </tr>\n",
              "    <tr>\n",
              "      <th>16073</th>\n",
              "      <td>Jon Favreau</td>\n",
              "      <td>9</td>\n",
              "      <td>1879970186</td>\n",
              "      <td>208885576</td>\n",
              "    </tr>\n",
              "    <tr>\n",
              "      <th>5749</th>\n",
              "      <td>Christopher Nolan</td>\n",
              "      <td>11</td>\n",
              "      <td>2006601194</td>\n",
              "      <td>182418290</td>\n",
              "    </tr>\n",
              "    <tr>\n",
              "      <th>21771</th>\n",
              "      <td>Michael Bay</td>\n",
              "      <td>14</td>\n",
              "      <td>2326509503</td>\n",
              "      <td>166179250</td>\n",
              "    </tr>\n",
              "    <tr>\n",
              "      <th>25197</th>\n",
              "      <td>Peter Jackson</td>\n",
              "      <td>13</td>\n",
              "      <td>2134677462</td>\n",
              "      <td>164205958</td>\n",
              "    </tr>\n",
              "    <tr>\n",
              "      <th>11320</th>\n",
              "      <td>Gore Verbinski</td>\n",
              "      <td>10</td>\n",
              "      <td>1529410193</td>\n",
              "      <td>152941019</td>\n",
              "    </tr>\n",
              "    <tr>\n",
              "      <th>30607</th>\n",
              "      <td>Steven Spielberg</td>\n",
              "      <td>32</td>\n",
              "      <td>4510254035</td>\n",
              "      <td>140945438</td>\n",
              "    </tr>\n",
              "    <tr>\n",
              "      <th>31964</th>\n",
              "      <td>Todd Phillips</td>\n",
              "      <td>10</td>\n",
              "      <td>1373182950</td>\n",
              "      <td>137318295</td>\n",
              "    </tr>\n",
              "    <tr>\n",
              "      <th>5371</th>\n",
              "      <td>Chris Columbus</td>\n",
              "      <td>15</td>\n",
              "      <td>1751228822</td>\n",
              "      <td>116748588</td>\n",
              "    </tr>\n",
              "    <tr>\n",
              "      <th>27526</th>\n",
              "      <td>Robert Zemeckis</td>\n",
              "      <td>18</td>\n",
              "      <td>1949943723</td>\n",
              "      <td>108330206</td>\n",
              "    </tr>\n",
              "  </tbody>\n",
              "</table>\n",
              "</div>"
            ],
            "text/plain": [
              "                       director  ...  average_USA_income\n",
              "2353   Anthony Russo, Joe Russo  ...           380167355\n",
              "13336               J.J. Abrams  ...           366567904\n",
              "10749              George Lucas  ...           290654583\n",
              "13739             James Cameron  ...           278575375\n",
              "7487                David Yates  ...           224081551\n",
              "9950           Francis Lawrence  ...           211640177\n",
              "16073               Jon Favreau  ...           208885576\n",
              "5749          Christopher Nolan  ...           182418290\n",
              "21771               Michael Bay  ...           166179250\n",
              "25197             Peter Jackson  ...           164205958\n",
              "11320            Gore Verbinski  ...           152941019\n",
              "30607          Steven Spielberg  ...           140945438\n",
              "31964             Todd Phillips  ...           137318295\n",
              "5371             Chris Columbus  ...           116748588\n",
              "27526           Robert Zemeckis  ...           108330206\n",
              "\n",
              "[15 rows x 4 columns]"
            ]
          },
          "metadata": {
            "tags": []
          },
          "execution_count": 40
        }
      ]
    },
    {
      "cell_type": "markdown",
      "metadata": {
        "id": "iRLAO1Md3anR"
      },
      "source": [
        "##Reżyserzy - dochód na swiecie i w USA"
      ]
    },
    {
      "cell_type": "code",
      "metadata": {
        "id": "-cUwz8g_3pB0",
        "colab": {
          "base_uri": "https://localhost:8080/",
          "height": 255
        },
        "outputId": "b5a06c16-414e-485a-9e67-118a9fadc842"
      },
      "source": [
        "#Reżyserzy z największym średnim dochodem na film w dolarach (tam gdzie i dochód na świecie i dochód w USA jest w $)\n",
        "imdb_movies_income_USD = imdb_movies[imdb_movies.currency_for_usaincome.eq('$') & imdb_movies.currency_for_wwincome.eq('$')]\n",
        "imdb_average_income = imdb_movies_income_USD.groupby('director').agg({'imdb_title_id':'count','usa_gross_income':'mean', 'worlwide_gross_income':'mean'}).reset_index().rename(columns={'imdb_title_id':'films_count'}).sort_values(by='worlwide_gross_income', ascending=False)\n",
        "imdb_average_income['usa_gross_income'] = imdb_average_income['usa_gross_income'].astype(int)\n",
        "imdb_average_income['worlwide_gross_income'] = imdb_average_income['worlwide_gross_income'].astype(int)\n",
        "imdb_average_income.head()\n"
      ],
      "execution_count": 41,
      "outputs": [
        {
          "output_type": "execute_result",
          "data": {
            "text/html": [
              "<div>\n",
              "<style scoped>\n",
              "    .dataframe tbody tr th:only-of-type {\n",
              "        vertical-align: middle;\n",
              "    }\n",
              "\n",
              "    .dataframe tbody tr th {\n",
              "        vertical-align: top;\n",
              "    }\n",
              "\n",
              "    .dataframe thead th {\n",
              "        text-align: right;\n",
              "    }\n",
              "</style>\n",
              "<table border=\"1\" class=\"dataframe\">\n",
              "  <thead>\n",
              "    <tr style=\"text-align: right;\">\n",
              "      <th></th>\n",
              "      <th>director</th>\n",
              "      <th>films_count</th>\n",
              "      <th>usa_gross_income</th>\n",
              "      <th>worlwide_gross_income</th>\n",
              "    </tr>\n",
              "  </thead>\n",
              "  <tbody>\n",
              "    <tr>\n",
              "      <th>5362</th>\n",
              "      <td>Chris Buck, Jennifer Lee</td>\n",
              "      <td>2</td>\n",
              "      <td>439055793</td>\n",
              "      <td>1365415143</td>\n",
              "    </tr>\n",
              "    <tr>\n",
              "      <th>2352</th>\n",
              "      <td>Anthony Russo, Joe Russo</td>\n",
              "      <td>6</td>\n",
              "      <td>380167355</td>\n",
              "      <td>1141452591</td>\n",
              "    </tr>\n",
              "    <tr>\n",
              "      <th>18500</th>\n",
              "      <td>Kyle Balda, Pierre Coffin</td>\n",
              "      <td>2</td>\n",
              "      <td>300335035</td>\n",
              "      <td>1097121269</td>\n",
              "    </tr>\n",
              "    <tr>\n",
              "      <th>16531</th>\n",
              "      <td>Josh Cooley</td>\n",
              "      <td>1</td>\n",
              "      <td>434038008</td>\n",
              "      <td>1073394593</td>\n",
              "    </tr>\n",
              "    <tr>\n",
              "      <th>18950</th>\n",
              "      <td>Lee Unkrich</td>\n",
              "      <td>1</td>\n",
              "      <td>415004880</td>\n",
              "      <td>1066969703</td>\n",
              "    </tr>\n",
              "  </tbody>\n",
              "</table>\n",
              "</div>"
            ],
            "text/plain": [
              "                        director  ...  worlwide_gross_income\n",
              "5362    Chris Buck, Jennifer Lee  ...             1365415143\n",
              "2352    Anthony Russo, Joe Russo  ...             1141452591\n",
              "18500  Kyle Balda, Pierre Coffin  ...             1097121269\n",
              "16531                Josh Cooley  ...             1073394593\n",
              "18950                Lee Unkrich  ...             1066969703\n",
              "\n",
              "[5 rows x 4 columns]"
            ]
          },
          "metadata": {
            "tags": []
          },
          "execution_count": 41
        }
      ]
    },
    {
      "cell_type": "markdown",
      "metadata": {
        "id": "W57ihrLm4C-Z"
      },
      "source": [
        "##Reżyserzy - budżet filmów"
      ]
    },
    {
      "cell_type": "code",
      "metadata": {
        "id": "xOssCqd04YYP",
        "colab": {
          "base_uri": "https://localhost:8080/",
          "height": 632
        },
        "outputId": "e9243173-9af6-4413-b1bc-45f90b2202a1"
      },
      "source": [
        "imdb_movies[imdb_movies['budget'].notnull()].head()"
      ],
      "execution_count": 42,
      "outputs": [
        {
          "output_type": "execute_result",
          "data": {
            "text/html": [
              "<div>\n",
              "<style scoped>\n",
              "    .dataframe tbody tr th:only-of-type {\n",
              "        vertical-align: middle;\n",
              "    }\n",
              "\n",
              "    .dataframe tbody tr th {\n",
              "        vertical-align: top;\n",
              "    }\n",
              "\n",
              "    .dataframe thead th {\n",
              "        text-align: right;\n",
              "    }\n",
              "</style>\n",
              "<table border=\"1\" class=\"dataframe\">\n",
              "  <thead>\n",
              "    <tr style=\"text-align: right;\">\n",
              "      <th></th>\n",
              "      <th>imdb_title_id</th>\n",
              "      <th>title</th>\n",
              "      <th>original_title</th>\n",
              "      <th>year</th>\n",
              "      <th>date_published</th>\n",
              "      <th>genre</th>\n",
              "      <th>duration</th>\n",
              "      <th>country</th>\n",
              "      <th>language</th>\n",
              "      <th>director</th>\n",
              "      <th>writer</th>\n",
              "      <th>production_company</th>\n",
              "      <th>actors</th>\n",
              "      <th>description</th>\n",
              "      <th>avg_vote</th>\n",
              "      <th>votes</th>\n",
              "      <th>budget</th>\n",
              "      <th>usa_gross_income</th>\n",
              "      <th>worlwide_gross_income</th>\n",
              "      <th>metascore</th>\n",
              "      <th>reviews_from_users</th>\n",
              "      <th>reviews_from_critics</th>\n",
              "      <th>currency_for_wwincome</th>\n",
              "      <th>currency_for_usaincome</th>\n",
              "    </tr>\n",
              "  </thead>\n",
              "  <tbody>\n",
              "    <tr>\n",
              "      <th>1</th>\n",
              "      <td>tt0000574</td>\n",
              "      <td>The Story of the Kelly Gang</td>\n",
              "      <td>The Story of the Kelly Gang</td>\n",
              "      <td>1906</td>\n",
              "      <td>1906-12-26</td>\n",
              "      <td>Biography, Crime, Drama</td>\n",
              "      <td>70</td>\n",
              "      <td>Australia</td>\n",
              "      <td>None</td>\n",
              "      <td>Charles Tait</td>\n",
              "      <td>Charles Tait</td>\n",
              "      <td>J. and N. Tait</td>\n",
              "      <td>Elizabeth Tait, John Tait, Norman Campbell, Be...</td>\n",
              "      <td>True story of notorious Australian outlaw Ned ...</td>\n",
              "      <td>6.1</td>\n",
              "      <td>589</td>\n",
              "      <td>$ 2250</td>\n",
              "      <td>0</td>\n",
              "      <td>0</td>\n",
              "      <td>NaN</td>\n",
              "      <td>7.0</td>\n",
              "      <td>7.0</td>\n",
              "      <td>$</td>\n",
              "      <td>$</td>\n",
              "    </tr>\n",
              "    <tr>\n",
              "      <th>3</th>\n",
              "      <td>tt0002101</td>\n",
              "      <td>Cleopatra</td>\n",
              "      <td>Cleopatra</td>\n",
              "      <td>1912</td>\n",
              "      <td>1912-11-13</td>\n",
              "      <td>Drama, History</td>\n",
              "      <td>100</td>\n",
              "      <td>USA</td>\n",
              "      <td>English</td>\n",
              "      <td>Charles L. Gaskill</td>\n",
              "      <td>Victorien Sardou</td>\n",
              "      <td>Helen Gardner Picture Players</td>\n",
              "      <td>Helen Gardner, Pearl Sindelar, Miss Fielding, ...</td>\n",
              "      <td>The fabled queen of Egypt's affair with Roman ...</td>\n",
              "      <td>5.2</td>\n",
              "      <td>446</td>\n",
              "      <td>$ 45000</td>\n",
              "      <td>0</td>\n",
              "      <td>0</td>\n",
              "      <td>NaN</td>\n",
              "      <td>25.0</td>\n",
              "      <td>3.0</td>\n",
              "      <td>$</td>\n",
              "      <td>$</td>\n",
              "    </tr>\n",
              "    <tr>\n",
              "      <th>7</th>\n",
              "      <td>tt0002445</td>\n",
              "      <td>Quo Vadis?</td>\n",
              "      <td>Quo Vadis?</td>\n",
              "      <td>1913</td>\n",
              "      <td>1913-03-01</td>\n",
              "      <td>Drama, History</td>\n",
              "      <td>120</td>\n",
              "      <td>Italy</td>\n",
              "      <td>Italian</td>\n",
              "      <td>Enrico Guazzoni</td>\n",
              "      <td>Henryk Sienkiewicz, Enrico Guazzoni</td>\n",
              "      <td>Società Italiana Cines</td>\n",
              "      <td>Amleto Novelli, Gustavo Serena, Carlo Cattaneo...</td>\n",
              "      <td>An epic Italian film \"Quo Vadis\" influenced ma...</td>\n",
              "      <td>6.2</td>\n",
              "      <td>273</td>\n",
              "      <td>ITL 45000</td>\n",
              "      <td>0</td>\n",
              "      <td>0</td>\n",
              "      <td>NaN</td>\n",
              "      <td>7.0</td>\n",
              "      <td>5.0</td>\n",
              "      <td>$</td>\n",
              "      <td>$</td>\n",
              "    </tr>\n",
              "    <tr>\n",
              "      <th>8</th>\n",
              "      <td>tt0002452</td>\n",
              "      <td>Independenta Romaniei</td>\n",
              "      <td>Independenta Romaniei</td>\n",
              "      <td>1912</td>\n",
              "      <td>1912-09-01</td>\n",
              "      <td>History, War</td>\n",
              "      <td>120</td>\n",
              "      <td>Romania</td>\n",
              "      <td>NaN</td>\n",
              "      <td>Aristide Demetriade, Grigore Brezeanu</td>\n",
              "      <td>Aristide Demetriade, Petre Liciu</td>\n",
              "      <td>Societatea Filmului de Arta Leon Popescu</td>\n",
              "      <td>Aristide Demetriade, Constanta Demetriade, Con...</td>\n",
              "      <td>The movie depicts the Romanian War of Independ...</td>\n",
              "      <td>6.7</td>\n",
              "      <td>198</td>\n",
              "      <td>ROL 400000</td>\n",
              "      <td>0</td>\n",
              "      <td>0</td>\n",
              "      <td>NaN</td>\n",
              "      <td>4.0</td>\n",
              "      <td>1.0</td>\n",
              "      <td>$</td>\n",
              "      <td>$</td>\n",
              "    </tr>\n",
              "    <tr>\n",
              "      <th>9</th>\n",
              "      <td>tt0002461</td>\n",
              "      <td>Richard III</td>\n",
              "      <td>Richard III</td>\n",
              "      <td>1912</td>\n",
              "      <td>1912-10-15</td>\n",
              "      <td>Drama</td>\n",
              "      <td>55</td>\n",
              "      <td>France, USA</td>\n",
              "      <td>English</td>\n",
              "      <td>André Calmettes, James Keane</td>\n",
              "      <td>James Keane, William Shakespeare</td>\n",
              "      <td>Le Film d'Art</td>\n",
              "      <td>Robert Gemp, Frederick Warde, Albert Gardner, ...</td>\n",
              "      <td>Richard of Gloucester uses manipulation and mu...</td>\n",
              "      <td>5.5</td>\n",
              "      <td>225</td>\n",
              "      <td>$ 30000</td>\n",
              "      <td>0</td>\n",
              "      <td>0</td>\n",
              "      <td>NaN</td>\n",
              "      <td>8.0</td>\n",
              "      <td>1.0</td>\n",
              "      <td>$</td>\n",
              "      <td>$</td>\n",
              "    </tr>\n",
              "  </tbody>\n",
              "</table>\n",
              "</div>"
            ],
            "text/plain": [
              "  imdb_title_id  ... currency_for_usaincome\n",
              "1     tt0000574  ...                      $\n",
              "3     tt0002101  ...                      $\n",
              "7     tt0002445  ...                      $\n",
              "8     tt0002452  ...                      $\n",
              "9     tt0002461  ...                      $\n",
              "\n",
              "[5 rows x 24 columns]"
            ]
          },
          "metadata": {
            "tags": []
          },
          "execution_count": 42
        }
      ]
    },
    {
      "cell_type": "code",
      "metadata": {
        "id": "f_es_FSo4YYS",
        "colab": {
          "base_uri": "https://localhost:8080/"
        },
        "outputId": "03111753-ac01-4825-8f31-66ff6e801a11"
      },
      "source": [
        "imdb_movies['budget']"
      ],
      "execution_count": 43,
      "outputs": [
        {
          "output_type": "execute_result",
          "data": {
            "text/plain": [
              "0            NaN\n",
              "1         $ 2250\n",
              "2            NaN\n",
              "3        $ 45000\n",
              "4            NaN\n",
              "          ...   \n",
              "85850        NaN\n",
              "85851        NaN\n",
              "85852        NaN\n",
              "85853        NaN\n",
              "85854        NaN\n",
              "Name: budget, Length: 85855, dtype: object"
            ]
          },
          "metadata": {
            "tags": []
          },
          "execution_count": 43
        }
      ]
    },
    {
      "cell_type": "code",
      "metadata": {
        "id": "DtAxi_B04YYS"
      },
      "source": [
        "#Wyczyszczenie NaN\n",
        "imdb_movies['budget'].replace(np.nan, '$ 0', inplace=True)"
      ],
      "execution_count": 44,
      "outputs": []
    },
    {
      "cell_type": "code",
      "metadata": {
        "id": "TjLs0WZO4YYT"
      },
      "source": [
        "#poprzez split oddzielenie waluty od wartości\n",
        "imdb_movies['budget']=imdb_movies['budget'].apply(lambda x: x.split())\n"
      ],
      "execution_count": 45,
      "outputs": []
    },
    {
      "cell_type": "code",
      "metadata": {
        "id": "fwHazZwO4YYT"
      },
      "source": [
        "#Wydzielenie walut do osobnej kolumny\n",
        "imdb_movies['currency_for_budget']=imdb_movies['budget'].apply(lambda x: x[0])"
      ],
      "execution_count": 46,
      "outputs": []
    },
    {
      "cell_type": "code",
      "metadata": {
        "id": "_fM3Wo5r4YYU",
        "colab": {
          "base_uri": "https://localhost:8080/"
        },
        "outputId": "126246aa-ae59-4f05-9792-788bab6cf844"
      },
      "source": [
        "#Waluty występujące w budget\n",
        "imdb_movies['currency_for_budget'].unique()"
      ],
      "execution_count": 47,
      "outputs": [
        {
          "output_type": "execute_result",
          "data": {
            "text/plain": [
              "array(['$', 'ITL', 'ROL', 'SEK', 'FRF', 'NOK', 'GBP', 'DEM', 'PTE', 'FIM',\n",
              "       'CAD', 'INR', 'CHF', 'ESP', 'JPY', 'DKK', 'NLG', 'PLN', 'RUR',\n",
              "       'AUD', 'KRW', 'BEF', 'XAU', 'HKD', 'NZD', 'CNY', 'EUR', 'PYG',\n",
              "       'ISK', 'IEP', 'TRL', 'HRK', 'SIT', 'PHP', 'HUF', 'DOP', 'JMD',\n",
              "       'CZK', 'SGD', 'BRL', 'BDT', 'ATS', 'BND', 'EGP', 'THB', 'GRD',\n",
              "       'ZAR', 'NPR', 'IDR', 'PKR', 'MXN', 'BGL', 'EEK', 'YUM', 'MYR',\n",
              "       'IRR', 'CLP', 'SKK', 'LTL', 'TWD', 'MTL', 'LVL', 'COP', 'ARS',\n",
              "       'UAH', 'RON', 'ALL', 'NGN', 'ILS', 'VEB', 'VND', 'TTD', 'JOD',\n",
              "       'LKR', 'GEL', 'MNT', 'AZM', 'AMD', 'AED'], dtype=object)"
            ]
          },
          "metadata": {
            "tags": []
          },
          "execution_count": 47
        }
      ]
    },
    {
      "cell_type": "code",
      "metadata": {
        "id": "UEW2wlDH4YYV"
      },
      "source": [
        "#kolumna z budget tylko z wartościami\n",
        "imdb_movies['budget']=imdb_movies['budget'].apply(lambda x: x[1])"
      ],
      "execution_count": 48,
      "outputs": []
    },
    {
      "cell_type": "code",
      "metadata": {
        "id": "A-HxkNtm4YYV"
      },
      "source": [
        "#zmiana stringów na int\n",
        "imdb_movies['budget']=imdb_movies['budget'].astype(int)"
      ],
      "execution_count": 50,
      "outputs": []
    },
    {
      "cell_type": "code",
      "metadata": {
        "id": "BrbOzDMn4YYW"
      },
      "source": [
        "#nowa df z danymi gdzie budget w dolarach\n",
        "imdb_movies_USD = imdb_movies[imdb_movies['currency_for_budget']=='$']"
      ],
      "execution_count": 51,
      "outputs": []
    },
    {
      "cell_type": "code",
      "metadata": {
        "id": "6a5OW14d4YYW",
        "colab": {
          "base_uri": "https://localhost:8080/"
        },
        "outputId": "249db46a-76c0-44fd-a57c-6334fc78d145"
      },
      "source": [
        "#zmiana typu z obj na int\n",
        "imdb_movies_USD['budget'] =imdb_movies_USD['budget'].astype(int)"
      ],
      "execution_count": 52,
      "outputs": [
        {
          "output_type": "stream",
          "text": [
            "/usr/local/lib/python3.6/dist-packages/ipykernel_launcher.py:2: SettingWithCopyWarning: \n",
            "A value is trying to be set on a copy of a slice from a DataFrame.\n",
            "Try using .loc[row_indexer,col_indexer] = value instead\n",
            "\n",
            "See the caveats in the documentation: https://pandas.pydata.org/pandas-docs/stable/user_guide/indexing.html#returning-a-view-versus-a-copy\n",
            "  \n"
          ],
          "name": "stderr"
        }
      ]
    },
    {
      "cell_type": "code",
      "metadata": {
        "id": "5C1yMMNK4YYX",
        "colab": {
          "base_uri": "https://localhost:8080/"
        },
        "outputId": "451f9774-7dc9-49ee-d62d-9ef2862cf3e0"
      },
      "source": [
        "imdb_movies_USD['budget']"
      ],
      "execution_count": 53,
      "outputs": [
        {
          "output_type": "execute_result",
          "data": {
            "text/plain": [
              "0            0\n",
              "1         2250\n",
              "2            0\n",
              "3        45000\n",
              "4            0\n",
              "         ...  \n",
              "85850        0\n",
              "85851        0\n",
              "85852        0\n",
              "85853        0\n",
              "85854        0\n",
              "Name: budget, Length: 78747, dtype: int64"
            ]
          },
          "metadata": {
            "tags": []
          },
          "execution_count": 53
        }
      ]
    },
    {
      "cell_type": "code",
      "metadata": {
        "id": "2e-Qa8L44YYX",
        "colab": {
          "base_uri": "https://localhost:8080/",
          "height": 771
        },
        "outputId": "4ab4f268-be7b-4107-dc4f-87e7dcf4802e"
      },
      "source": [
        "#Reżyserzy - średni budżet w dolarach na film\n",
        "df = imdb_movies_USD.groupby('director').agg({'imdb_title_id':'count','budget':'mean'}).reset_index().rename(columns={'imdb_title_id':'films_count'}).sort_values(by='budget', ascending=False).head(20)\n",
        "df['budget'] = df['budget'].round(0)\n",
        "df['budget_per_film'] = df['budget']/df['films_count']\n",
        "df.reset_index().sort_values(by='films_count', ascending=False).head(20)\n"
      ],
      "execution_count": 54,
      "outputs": [
        {
          "output_type": "execute_result",
          "data": {
            "text/html": [
              "<div>\n",
              "<style scoped>\n",
              "    .dataframe tbody tr th:only-of-type {\n",
              "        vertical-align: middle;\n",
              "    }\n",
              "\n",
              "    .dataframe tbody tr th {\n",
              "        vertical-align: top;\n",
              "    }\n",
              "\n",
              "    .dataframe thead th {\n",
              "        text-align: right;\n",
              "    }\n",
              "</style>\n",
              "<table border=\"1\" class=\"dataframe\">\n",
              "  <thead>\n",
              "    <tr style=\"text-align: right;\">\n",
              "      <th></th>\n",
              "      <th>index</th>\n",
              "      <th>director</th>\n",
              "      <th>films_count</th>\n",
              "      <th>budget</th>\n",
              "      <th>budget_per_film</th>\n",
              "    </tr>\n",
              "  </thead>\n",
              "  <tbody>\n",
              "    <tr>\n",
              "      <th>8</th>\n",
              "      <td>2198</td>\n",
              "      <td>Anthony Russo, Joe Russo</td>\n",
              "      <td>6</td>\n",
              "      <td>193833333.0</td>\n",
              "      <td>32305555.5</td>\n",
              "    </tr>\n",
              "    <tr>\n",
              "      <th>12</th>\n",
              "      <td>12488</td>\n",
              "      <td>J.J. Abrams</td>\n",
              "      <td>6</td>\n",
              "      <td>176666667.0</td>\n",
              "      <td>29444444.5</td>\n",
              "    </tr>\n",
              "    <tr>\n",
              "      <th>1</th>\n",
              "      <td>1773</td>\n",
              "      <td>Andrew Stanton</td>\n",
              "      <td>2</td>\n",
              "      <td>215000000.0</td>\n",
              "      <td>107500000.0</td>\n",
              "    </tr>\n",
              "    <tr>\n",
              "      <th>0</th>\n",
              "      <td>21783</td>\n",
              "      <td>Nathan Greno, Byron Howard</td>\n",
              "      <td>1</td>\n",
              "      <td>260000000.0</td>\n",
              "      <td>260000000.0</td>\n",
              "    </tr>\n",
              "    <tr>\n",
              "      <th>11</th>\n",
              "      <td>25767</td>\n",
              "      <td>Robert Stromberg</td>\n",
              "      <td>1</td>\n",
              "      <td>180000000.0</td>\n",
              "      <td>180000000.0</td>\n",
              "    </tr>\n",
              "    <tr>\n",
              "      <th>18</th>\n",
              "      <td>4373</td>\n",
              "      <td>Carl Rinsch</td>\n",
              "      <td>1</td>\n",
              "      <td>175000000.0</td>\n",
              "      <td>175000000.0</td>\n",
              "    </tr>\n",
              "    <tr>\n",
              "      <th>17</th>\n",
              "      <td>25423</td>\n",
              "      <td>Rob Letterman, Conrad Vernon</td>\n",
              "      <td>1</td>\n",
              "      <td>175000000.0</td>\n",
              "      <td>175000000.0</td>\n",
              "    </tr>\n",
              "    <tr>\n",
              "      <th>16</th>\n",
              "      <td>17791</td>\n",
              "      <td>Lee Unkrich, Adrian Molina</td>\n",
              "      <td>1</td>\n",
              "      <td>175000000.0</td>\n",
              "      <td>175000000.0</td>\n",
              "    </tr>\n",
              "    <tr>\n",
              "      <th>15</th>\n",
              "      <td>23475</td>\n",
              "      <td>Pete Docter, Bob Peterson</td>\n",
              "      <td>1</td>\n",
              "      <td>175000000.0</td>\n",
              "      <td>175000000.0</td>\n",
              "    </tr>\n",
              "    <tr>\n",
              "      <th>14</th>\n",
              "      <td>3915</td>\n",
              "      <td>Brian Fee</td>\n",
              "      <td>1</td>\n",
              "      <td>175000000.0</td>\n",
              "      <td>175000000.0</td>\n",
              "    </tr>\n",
              "    <tr>\n",
              "      <th>13</th>\n",
              "      <td>23477</td>\n",
              "      <td>Pete Docter, Ronnie Del Carmen</td>\n",
              "      <td>1</td>\n",
              "      <td>175000000.0</td>\n",
              "      <td>175000000.0</td>\n",
              "    </tr>\n",
              "    <tr>\n",
              "      <th>10</th>\n",
              "      <td>14326</td>\n",
              "      <td>Joachim Rønning</td>\n",
              "      <td>1</td>\n",
              "      <td>185000000.0</td>\n",
              "      <td>185000000.0</td>\n",
              "    </tr>\n",
              "    <tr>\n",
              "      <th>9</th>\n",
              "      <td>19308</td>\n",
              "      <td>Mark Andrews, Brenda Chapman</td>\n",
              "      <td>1</td>\n",
              "      <td>185000000.0</td>\n",
              "      <td>185000000.0</td>\n",
              "    </tr>\n",
              "    <tr>\n",
              "      <th>7</th>\n",
              "      <td>14831</td>\n",
              "      <td>John Lasseter, Bradford Lewis</td>\n",
              "      <td>1</td>\n",
              "      <td>200000000.0</td>\n",
              "      <td>200000000.0</td>\n",
              "    </tr>\n",
              "    <tr>\n",
              "      <th>6</th>\n",
              "      <td>15518</td>\n",
              "      <td>Josh Cooley</td>\n",
              "      <td>1</td>\n",
              "      <td>200000000.0</td>\n",
              "      <td>200000000.0</td>\n",
              "    </tr>\n",
              "    <tr>\n",
              "      <th>5</th>\n",
              "      <td>1774</td>\n",
              "      <td>Andrew Stanton, Angus MacLane</td>\n",
              "      <td>1</td>\n",
              "      <td>200000000.0</td>\n",
              "      <td>200000000.0</td>\n",
              "    </tr>\n",
              "    <tr>\n",
              "      <th>4</th>\n",
              "      <td>27969</td>\n",
              "      <td>Simon Kinberg</td>\n",
              "      <td>1</td>\n",
              "      <td>200000000.0</td>\n",
              "      <td>200000000.0</td>\n",
              "    </tr>\n",
              "    <tr>\n",
              "      <th>3</th>\n",
              "      <td>17790</td>\n",
              "      <td>Lee Unkrich</td>\n",
              "      <td>1</td>\n",
              "      <td>200000000.0</td>\n",
              "      <td>200000000.0</td>\n",
              "    </tr>\n",
              "    <tr>\n",
              "      <th>2</th>\n",
              "      <td>23682</td>\n",
              "      <td>Peter Sohn</td>\n",
              "      <td>1</td>\n",
              "      <td>200000000.0</td>\n",
              "      <td>200000000.0</td>\n",
              "    </tr>\n",
              "    <tr>\n",
              "      <th>19</th>\n",
              "      <td>23771</td>\n",
              "      <td>Phil Johnston, Rich Moore</td>\n",
              "      <td>1</td>\n",
              "      <td>175000000.0</td>\n",
              "      <td>175000000.0</td>\n",
              "    </tr>\n",
              "  </tbody>\n",
              "</table>\n",
              "</div>"
            ],
            "text/plain": [
              "    index                        director  ...       budget  budget_per_film\n",
              "8    2198        Anthony Russo, Joe Russo  ...  193833333.0       32305555.5\n",
              "12  12488                     J.J. Abrams  ...  176666667.0       29444444.5\n",
              "1    1773                  Andrew Stanton  ...  215000000.0      107500000.0\n",
              "0   21783      Nathan Greno, Byron Howard  ...  260000000.0      260000000.0\n",
              "11  25767                Robert Stromberg  ...  180000000.0      180000000.0\n",
              "18   4373                     Carl Rinsch  ...  175000000.0      175000000.0\n",
              "17  25423    Rob Letterman, Conrad Vernon  ...  175000000.0      175000000.0\n",
              "16  17791      Lee Unkrich, Adrian Molina  ...  175000000.0      175000000.0\n",
              "15  23475       Pete Docter, Bob Peterson  ...  175000000.0      175000000.0\n",
              "14   3915                       Brian Fee  ...  175000000.0      175000000.0\n",
              "13  23477  Pete Docter, Ronnie Del Carmen  ...  175000000.0      175000000.0\n",
              "10  14326                 Joachim Rønning  ...  185000000.0      185000000.0\n",
              "9   19308    Mark Andrews, Brenda Chapman  ...  185000000.0      185000000.0\n",
              "7   14831   John Lasseter, Bradford Lewis  ...  200000000.0      200000000.0\n",
              "6   15518                     Josh Cooley  ...  200000000.0      200000000.0\n",
              "5    1774   Andrew Stanton, Angus MacLane  ...  200000000.0      200000000.0\n",
              "4   27969                   Simon Kinberg  ...  200000000.0      200000000.0\n",
              "3   17790                     Lee Unkrich  ...  200000000.0      200000000.0\n",
              "2   23682                      Peter Sohn  ...  200000000.0      200000000.0\n",
              "19  23771       Phil Johnston, Rich Moore  ...  175000000.0      175000000.0\n",
              "\n",
              "[20 rows x 5 columns]"
            ]
          },
          "metadata": {
            "tags": []
          },
          "execution_count": 54
        }
      ]
    },
    {
      "cell_type": "markdown",
      "metadata": {
        "id": "SHVcrDFL8plC"
      },
      "source": [
        "##Reżyserzy - dochód, budżet"
      ]
    },
    {
      "cell_type": "code",
      "metadata": {
        "id": "d2wDAH-U8spm",
        "colab": {
          "base_uri": "https://localhost:8080/",
          "height": 1000
        },
        "outputId": "4fca4715-72b3-406c-b405-9a0242d75072"
      },
      "source": [
        "#Reżyserzy z największym dochodem ŚREDNIM !! w dolarach plus budżet\n",
        "#PROBLEM - BIERZE POD UWAGĘ TYLKO AMERYKAŃSKICH REŻYSERÓW - BUDŻET W DOLARACH?\n",
        "imdb_movies_all_USD = imdb_movies[imdb_movies.currency_for_usaincome.eq('$') & imdb_movies.currency_for_wwincome.eq('$') & imdb_movies.currency_for_budget.eq('$')]\n",
        "df = imdb_movies_all_USD.groupby('director').agg({'imdb_title_id':'count','usa_gross_income':'mean', 'worlwide_gross_income':'mean', 'budget':'mean'}).reset_index().rename(columns={'imdb_title_id':'films_count'}).sort_values(by='worlwide_gross_income', ascending=False).head(20)\n",
        "df['budget']=df['budget'].astype(int)\n",
        "df['worlwide_gross_income'] = df['worlwide_gross_income'].astype(int)\n",
        "df['usa_gross_income'] = df['usa_gross_income'].astype(int)\n",
        "df['return_on_films']=df['worlwide_gross_income']/df['budget']\n",
        "df.reset_index().sort_values(by='return_on_films', ascending=False).head(20)"
      ],
      "execution_count": 55,
      "outputs": [
        {
          "output_type": "execute_result",
          "data": {
            "text/html": [
              "<div>\n",
              "<style scoped>\n",
              "    .dataframe tbody tr th:only-of-type {\n",
              "        vertical-align: middle;\n",
              "    }\n",
              "\n",
              "    .dataframe tbody tr th {\n",
              "        vertical-align: top;\n",
              "    }\n",
              "\n",
              "    .dataframe thead th {\n",
              "        text-align: right;\n",
              "    }\n",
              "</style>\n",
              "<table border=\"1\" class=\"dataframe\">\n",
              "  <thead>\n",
              "    <tr style=\"text-align: right;\">\n",
              "      <th></th>\n",
              "      <th>index</th>\n",
              "      <th>director</th>\n",
              "      <th>films_count</th>\n",
              "      <th>usa_gross_income</th>\n",
              "      <th>worlwide_gross_income</th>\n",
              "      <th>budget</th>\n",
              "      <th>return_on_films</th>\n",
              "    </tr>\n",
              "  </thead>\n",
              "  <tbody>\n",
              "    <tr>\n",
              "      <th>7</th>\n",
              "      <td>25952</td>\n",
              "      <td>Roger Allers, Rob Minkoff</td>\n",
              "      <td>1</td>\n",
              "      <td>422783777</td>\n",
              "      <td>968511805</td>\n",
              "      <td>45000000</td>\n",
              "      <td>21.522485</td>\n",
              "    </tr>\n",
              "    <tr>\n",
              "      <th>2</th>\n",
              "      <td>17362</td>\n",
              "      <td>Kyle Balda, Pierre Coffin</td>\n",
              "      <td>2</td>\n",
              "      <td>300335035</td>\n",
              "      <td>1097121269</td>\n",
              "      <td>77000000</td>\n",
              "      <td>14.248328</td>\n",
              "    </tr>\n",
              "    <tr>\n",
              "      <th>13</th>\n",
              "      <td>5109</td>\n",
              "      <td>Chris Renaud, Yarrow Cheney</td>\n",
              "      <td>1</td>\n",
              "      <td>368384330</td>\n",
              "      <td>875457937</td>\n",
              "      <td>75000000</td>\n",
              "      <td>11.672772</td>\n",
              "    </tr>\n",
              "    <tr>\n",
              "      <th>19</th>\n",
              "      <td>23949</td>\n",
              "      <td>Pierre Coffin, Chris Renaud</td>\n",
              "      <td>2</td>\n",
              "      <td>309789685</td>\n",
              "      <td>756939995</td>\n",
              "      <td>72500000</td>\n",
              "      <td>10.440552</td>\n",
              "    </tr>\n",
              "    <tr>\n",
              "      <th>8</th>\n",
              "      <td>1774</td>\n",
              "      <td>Andrew Stanton, Lee Unkrich</td>\n",
              "      <td>1</td>\n",
              "      <td>380843261</td>\n",
              "      <td>940350086</td>\n",
              "      <td>94000000</td>\n",
              "      <td>10.003724</td>\n",
              "    </tr>\n",
              "    <tr>\n",
              "      <th>10</th>\n",
              "      <td>4475</td>\n",
              "      <td>Carlos Saldanha, Mike Thurmeier</td>\n",
              "      <td>1</td>\n",
              "      <td>196573705</td>\n",
              "      <td>886686817</td>\n",
              "      <td>90000000</td>\n",
              "      <td>9.852076</td>\n",
              "    </tr>\n",
              "    <tr>\n",
              "      <th>12</th>\n",
              "      <td>28566</td>\n",
              "      <td>Steve Martino, Mike Thurmeier</td>\n",
              "      <td>1</td>\n",
              "      <td>161321843</td>\n",
              "      <td>877244782</td>\n",
              "      <td>95000000</td>\n",
              "      <td>9.234156</td>\n",
              "    </tr>\n",
              "    <tr>\n",
              "      <th>0</th>\n",
              "      <td>5006</td>\n",
              "      <td>Chris Buck, Jennifer Lee</td>\n",
              "      <td>2</td>\n",
              "      <td>439055793</td>\n",
              "      <td>1365415143</td>\n",
              "      <td>150000000</td>\n",
              "      <td>9.102768</td>\n",
              "    </tr>\n",
              "    <tr>\n",
              "      <th>11</th>\n",
              "      <td>12865</td>\n",
              "      <td>James Cameron</td>\n",
              "      <td>7</td>\n",
              "      <td>278575375</td>\n",
              "      <td>883634468</td>\n",
              "      <td>106985714</td>\n",
              "      <td>8.259369</td>\n",
              "    </tr>\n",
              "    <tr>\n",
              "      <th>6</th>\n",
              "      <td>4229</td>\n",
              "      <td>Byron Howard, Rich Moore</td>\n",
              "      <td>1</td>\n",
              "      <td>341268248</td>\n",
              "      <td>1023789075</td>\n",
              "      <td>150000000</td>\n",
              "      <td>6.825260</td>\n",
              "    </tr>\n",
              "    <tr>\n",
              "      <th>9</th>\n",
              "      <td>1651</td>\n",
              "      <td>Andrew Adamson, Kelly Asbury</td>\n",
              "      <td>1</td>\n",
              "      <td>441226247</td>\n",
              "      <td>928760770</td>\n",
              "      <td>150000000</td>\n",
              "      <td>6.191738</td>\n",
              "    </tr>\n",
              "    <tr>\n",
              "      <th>1</th>\n",
              "      <td>2197</td>\n",
              "      <td>Anthony Russo, Joe Russo</td>\n",
              "      <td>6</td>\n",
              "      <td>380167355</td>\n",
              "      <td>1141452591</td>\n",
              "      <td>193833333</td>\n",
              "      <td>5.888835</td>\n",
              "    </tr>\n",
              "    <tr>\n",
              "      <th>3</th>\n",
              "      <td>15517</td>\n",
              "      <td>Josh Cooley</td>\n",
              "      <td>1</td>\n",
              "      <td>434038008</td>\n",
              "      <td>1073394593</td>\n",
              "      <td>200000000</td>\n",
              "      <td>5.366973</td>\n",
              "    </tr>\n",
              "    <tr>\n",
              "      <th>4</th>\n",
              "      <td>17789</td>\n",
              "      <td>Lee Unkrich</td>\n",
              "      <td>1</td>\n",
              "      <td>415004880</td>\n",
              "      <td>1066969703</td>\n",
              "      <td>200000000</td>\n",
              "      <td>5.334849</td>\n",
              "    </tr>\n",
              "    <tr>\n",
              "      <th>5</th>\n",
              "      <td>1773</td>\n",
              "      <td>Andrew Stanton, Angus MacLane</td>\n",
              "      <td>1</td>\n",
              "      <td>486295561</td>\n",
              "      <td>1028570889</td>\n",
              "      <td>200000000</td>\n",
              "      <td>5.142854</td>\n",
              "    </tr>\n",
              "    <tr>\n",
              "      <th>15</th>\n",
              "      <td>5086</td>\n",
              "      <td>Chris Miller, Raman Hui</td>\n",
              "      <td>1</td>\n",
              "      <td>322719944</td>\n",
              "      <td>813367380</td>\n",
              "      <td>160000000</td>\n",
              "      <td>5.083546</td>\n",
              "    </tr>\n",
              "    <tr>\n",
              "      <th>14</th>\n",
              "      <td>23471</td>\n",
              "      <td>Pete Docter, Ronnie Del Carmen</td>\n",
              "      <td>1</td>\n",
              "      <td>356921711</td>\n",
              "      <td>858071350</td>\n",
              "      <td>175000000</td>\n",
              "      <td>4.903265</td>\n",
              "    </tr>\n",
              "    <tr>\n",
              "      <th>16</th>\n",
              "      <td>17790</td>\n",
              "      <td>Lee Unkrich, Adrian Molina</td>\n",
              "      <td>1</td>\n",
              "      <td>209726015</td>\n",
              "      <td>807083670</td>\n",
              "      <td>175000000</td>\n",
              "      <td>4.611907</td>\n",
              "    </tr>\n",
              "    <tr>\n",
              "      <th>17</th>\n",
              "      <td>12487</td>\n",
              "      <td>J.J. Abrams</td>\n",
              "      <td>6</td>\n",
              "      <td>366567904</td>\n",
              "      <td>775664909</td>\n",
              "      <td>176666666</td>\n",
              "      <td>4.390556</td>\n",
              "    </tr>\n",
              "    <tr>\n",
              "      <th>18</th>\n",
              "      <td>25761</td>\n",
              "      <td>Robert Stromberg</td>\n",
              "      <td>1</td>\n",
              "      <td>241410378</td>\n",
              "      <td>758411648</td>\n",
              "      <td>180000000</td>\n",
              "      <td>4.213398</td>\n",
              "    </tr>\n",
              "  </tbody>\n",
              "</table>\n",
              "</div>"
            ],
            "text/plain": [
              "    index                         director  ...     budget  return_on_films\n",
              "7   25952        Roger Allers, Rob Minkoff  ...   45000000        21.522485\n",
              "2   17362        Kyle Balda, Pierre Coffin  ...   77000000        14.248328\n",
              "13   5109      Chris Renaud, Yarrow Cheney  ...   75000000        11.672772\n",
              "19  23949      Pierre Coffin, Chris Renaud  ...   72500000        10.440552\n",
              "8    1774      Andrew Stanton, Lee Unkrich  ...   94000000        10.003724\n",
              "10   4475  Carlos Saldanha, Mike Thurmeier  ...   90000000         9.852076\n",
              "12  28566    Steve Martino, Mike Thurmeier  ...   95000000         9.234156\n",
              "0    5006         Chris Buck, Jennifer Lee  ...  150000000         9.102768\n",
              "11  12865                    James Cameron  ...  106985714         8.259369\n",
              "6    4229         Byron Howard, Rich Moore  ...  150000000         6.825260\n",
              "9    1651     Andrew Adamson, Kelly Asbury  ...  150000000         6.191738\n",
              "1    2197         Anthony Russo, Joe Russo  ...  193833333         5.888835\n",
              "3   15517                      Josh Cooley  ...  200000000         5.366973\n",
              "4   17789                      Lee Unkrich  ...  200000000         5.334849\n",
              "5    1773    Andrew Stanton, Angus MacLane  ...  200000000         5.142854\n",
              "15   5086          Chris Miller, Raman Hui  ...  160000000         5.083546\n",
              "14  23471   Pete Docter, Ronnie Del Carmen  ...  175000000         4.903265\n",
              "16  17790       Lee Unkrich, Adrian Molina  ...  175000000         4.611907\n",
              "17  12487                      J.J. Abrams  ...  176666666         4.390556\n",
              "18  25761                 Robert Stromberg  ...  180000000         4.213398\n",
              "\n",
              "[20 rows x 7 columns]"
            ]
          },
          "metadata": {
            "tags": []
          },
          "execution_count": 55
        }
      ]
    },
    {
      "cell_type": "markdown",
      "metadata": {
        "id": "oZ-FZx_ikMP6"
      },
      "source": [
        "#Scenarzysta - dochody z filmów, na świecie, w USA - Kasia"
      ]
    },
    {
      "cell_type": "markdown",
      "metadata": {
        "id": "uz_NapE_kb_X"
      },
      "source": [
        "##Scenarzyści z największą ilością filmów"
      ]
    },
    {
      "cell_type": "code",
      "metadata": {
        "id": "o8HvSfxHkb_i",
        "colab": {
          "base_uri": "https://localhost:8080/"
        },
        "outputId": "578274ef-35c9-4a9a-d623-c1ce995999e8"
      },
      "source": [
        "#Scenarzyści z największą ilością filmów\n",
        "imdb_movies['writer'].value_counts().head(10)"
      ],
      "execution_count": 56,
      "outputs": [
        {
          "output_type": "execute_result",
          "data": {
            "text/plain": [
              "Jing Wong                                84\n",
              "Kuang Ni                                 45\n",
              "Woody Allen                              40\n",
              "Erdogan Tünas                            35\n",
              "Leonardo Benvenuti, Piero De Bernardi    34\n",
              "Carlo Vanzina, Enrico Vanzina            32\n",
              "Cheh Chang, Kuang Ni                     31\n",
              "Giannis Dalianidis                       29\n",
              "Ingmar Bergman                           27\n",
              "Safa Önal                                27\n",
              "Name: writer, dtype: int64"
            ]
          },
          "metadata": {
            "tags": []
          },
          "execution_count": 56
        }
      ]
    },
    {
      "cell_type": "markdown",
      "metadata": {
        "id": "sEpw6hh-mMT4"
      },
      "source": [
        "##Scenarzyści z największym dochodem na świecie - w dolarach"
      ]
    },
    {
      "cell_type": "code",
      "metadata": {
        "id": "K7ekR8alk9LL",
        "colab": {
          "base_uri": "https://localhost:8080/",
          "height": 669
        },
        "outputId": "1f5250c3-7ae3-4f5a-8259-2c74e07fd2a4"
      },
      "source": [
        "#Scenarzysci z największym dochodem w dolarach\n",
        "\n",
        "imdb_movies_USD = imdb_movies[imdb_movies['currency_for_wwincome']=='$']\n",
        "imdb_movies_USD.groupby('writer').agg({'imdb_title_id':'count','worlwide_gross_income':'sum'}).reset_index().rename(columns={'imdb_title_id':'films_count'}).sort_values(by='worlwide_gross_income', ascending=False).head(20)"
      ],
      "execution_count": 57,
      "outputs": [
        {
          "output_type": "execute_result",
          "data": {
            "text/html": [
              "<div>\n",
              "<style scoped>\n",
              "    .dataframe tbody tr th:only-of-type {\n",
              "        vertical-align: middle;\n",
              "    }\n",
              "\n",
              "    .dataframe tbody tr th {\n",
              "        vertical-align: top;\n",
              "    }\n",
              "\n",
              "    .dataframe thead th {\n",
              "        text-align: right;\n",
              "    }\n",
              "</style>\n",
              "<table border=\"1\" class=\"dataframe\">\n",
              "  <thead>\n",
              "    <tr style=\"text-align: right;\">\n",
              "      <th></th>\n",
              "      <th>writer</th>\n",
              "      <th>films_count</th>\n",
              "      <th>worlwide_gross_income</th>\n",
              "    </tr>\n",
              "  </thead>\n",
              "  <tbody>\n",
              "    <tr>\n",
              "      <th>10868</th>\n",
              "      <td>Christopher Markus, Stephen McFeely</td>\n",
              "      <td>8</td>\n",
              "      <td>7591223776</td>\n",
              "    </tr>\n",
              "    <tr>\n",
              "      <th>27095</th>\n",
              "      <td>James Cameron</td>\n",
              "      <td>3</td>\n",
              "      <td>5075609059</td>\n",
              "    </tr>\n",
              "    <tr>\n",
              "      <th>59138</th>\n",
              "      <td>Steve Kloves, J.K. Rowling</td>\n",
              "      <td>4</td>\n",
              "      <td>4149909030</td>\n",
              "    </tr>\n",
              "    <tr>\n",
              "      <th>11041</th>\n",
              "      <td>Cinco Paul, Ken Daurio</td>\n",
              "      <td>7</td>\n",
              "      <td>3911671756</td>\n",
              "    </tr>\n",
              "    <tr>\n",
              "      <th>60635</th>\n",
              "      <td>Ted Elliott, Terry Rossio</td>\n",
              "      <td>4</td>\n",
              "      <td>3727154034</td>\n",
              "    </tr>\n",
              "    <tr>\n",
              "      <th>19021</th>\n",
              "      <td>Fran Walsh, Philippa Boyens</td>\n",
              "      <td>6</td>\n",
              "      <td>3671047673</td>\n",
              "    </tr>\n",
              "    <tr>\n",
              "      <th>42311</th>\n",
              "      <td>Melissa Rosenberg, Stephenie Meyer</td>\n",
              "      <td>5</td>\n",
              "      <td>3359899919</td>\n",
              "    </tr>\n",
              "    <tr>\n",
              "      <th>10394</th>\n",
              "      <td>Chris Morgan, Gary Scott Thompson</td>\n",
              "      <td>4</td>\n",
              "      <td>3290231059</td>\n",
              "    </tr>\n",
              "    <tr>\n",
              "      <th>26337</th>\n",
              "      <td>J.R.R. Tolkien, Fran Walsh</td>\n",
              "      <td>3</td>\n",
              "      <td>2981432817</td>\n",
              "    </tr>\n",
              "    <tr>\n",
              "      <th>32030</th>\n",
              "      <td>Jonathan Nolan, Christopher Nolan</td>\n",
              "      <td>4</td>\n",
              "      <td>2893006769</td>\n",
              "    </tr>\n",
              "    <tr>\n",
              "      <th>31927</th>\n",
              "      <td>Jonathan Aibel, Glenn Berger</td>\n",
              "      <td>7</td>\n",
              "      <td>2847433500</td>\n",
              "    </tr>\n",
              "    <tr>\n",
              "      <th>38819</th>\n",
              "      <td>M. Night Shyamalan</td>\n",
              "      <td>12</td>\n",
              "      <td>2765958333</td>\n",
              "    </tr>\n",
              "    <tr>\n",
              "      <th>29177</th>\n",
              "      <td>Jennifer Lee, Hans Christian Andersen</td>\n",
              "      <td>2</td>\n",
              "      <td>2730830286</td>\n",
              "    </tr>\n",
              "    <tr>\n",
              "      <th>10386</th>\n",
              "      <td>Chris McKenna, Erik Sommers</td>\n",
              "      <td>3</td>\n",
              "      <td>2716704372</td>\n",
              "    </tr>\n",
              "    <tr>\n",
              "      <th>26290</th>\n",
              "      <td>J.K. Rowling, Steve Kloves</td>\n",
              "      <td>3</td>\n",
              "      <td>2677713538</td>\n",
              "    </tr>\n",
              "    <tr>\n",
              "      <th>20902</th>\n",
              "      <td>George Lucas</td>\n",
              "      <td>3</td>\n",
              "      <td>2671242179</td>\n",
              "    </tr>\n",
              "    <tr>\n",
              "      <th>31212</th>\n",
              "      <td>John Lasseter, Andrew Stanton</td>\n",
              "      <td>3</td>\n",
              "      <td>2503623155</td>\n",
              "    </tr>\n",
              "    <tr>\n",
              "      <th>16551</th>\n",
              "      <td>Ehren Kruger</td>\n",
              "      <td>6</td>\n",
              "      <td>2500384610</td>\n",
              "    </tr>\n",
              "    <tr>\n",
              "      <th>51724</th>\n",
              "      <td>Rhett Reese, Paul Wernick</td>\n",
              "      <td>6</td>\n",
              "      <td>2269891324</td>\n",
              "    </tr>\n",
              "    <tr>\n",
              "      <th>45399</th>\n",
              "      <td>Neal Purvis, Robert Wade</td>\n",
              "      <td>7</td>\n",
              "      <td>2247963441</td>\n",
              "    </tr>\n",
              "  </tbody>\n",
              "</table>\n",
              "</div>"
            ],
            "text/plain": [
              "                                      writer  ...  worlwide_gross_income\n",
              "10868    Christopher Markus, Stephen McFeely  ...             7591223776\n",
              "27095                          James Cameron  ...             5075609059\n",
              "59138             Steve Kloves, J.K. Rowling  ...             4149909030\n",
              "11041                 Cinco Paul, Ken Daurio  ...             3911671756\n",
              "60635              Ted Elliott, Terry Rossio  ...             3727154034\n",
              "19021            Fran Walsh, Philippa Boyens  ...             3671047673\n",
              "42311     Melissa Rosenberg, Stephenie Meyer  ...             3359899919\n",
              "10394      Chris Morgan, Gary Scott Thompson  ...             3290231059\n",
              "26337             J.R.R. Tolkien, Fran Walsh  ...             2981432817\n",
              "32030      Jonathan Nolan, Christopher Nolan  ...             2893006769\n",
              "31927           Jonathan Aibel, Glenn Berger  ...             2847433500\n",
              "38819                     M. Night Shyamalan  ...             2765958333\n",
              "29177  Jennifer Lee, Hans Christian Andersen  ...             2730830286\n",
              "10386            Chris McKenna, Erik Sommers  ...             2716704372\n",
              "26290             J.K. Rowling, Steve Kloves  ...             2677713538\n",
              "20902                           George Lucas  ...             2671242179\n",
              "31212          John Lasseter, Andrew Stanton  ...             2503623155\n",
              "16551                           Ehren Kruger  ...             2500384610\n",
              "51724              Rhett Reese, Paul Wernick  ...             2269891324\n",
              "45399               Neal Purvis, Robert Wade  ...             2247963441\n",
              "\n",
              "[20 rows x 3 columns]"
            ]
          },
          "metadata": {
            "tags": []
          },
          "execution_count": 57
        }
      ]
    },
    {
      "cell_type": "markdown",
      "metadata": {
        "id": "AEhsd2oGmXyD"
      },
      "source": [
        "##Scenarzyści największy dochód z filmów w USA"
      ]
    },
    {
      "cell_type": "code",
      "metadata": {
        "id": "0JuCWdtimm_F",
        "colab": {
          "base_uri": "https://localhost:8080/",
          "height": 669
        },
        "outputId": "51fe2c8d-ed54-487f-d589-5de9cdda2ca5"
      },
      "source": [
        "#Scenarzyści z największym dochodem w dolarach\n",
        "imdb_movies_USD = imdb_movies[imdb_movies['currency_for_usaincome']=='$']\n",
        "imdb_movies_USD.groupby('writer').agg({'imdb_title_id':'count','usa_gross_income':'sum'}).reset_index().rename(columns={'imdb_title_id':'films_count'}).sort_values(by='usa_gross_income', ascending=False).head(20)"
      ],
      "execution_count": 58,
      "outputs": [
        {
          "output_type": "execute_result",
          "data": {
            "text/html": [
              "<div>\n",
              "<style scoped>\n",
              "    .dataframe tbody tr th:only-of-type {\n",
              "        vertical-align: middle;\n",
              "    }\n",
              "\n",
              "    .dataframe tbody tr th {\n",
              "        vertical-align: top;\n",
              "    }\n",
              "\n",
              "    .dataframe thead th {\n",
              "        text-align: right;\n",
              "    }\n",
              "</style>\n",
              "<table border=\"1\" class=\"dataframe\">\n",
              "  <thead>\n",
              "    <tr style=\"text-align: right;\">\n",
              "      <th></th>\n",
              "      <th>writer</th>\n",
              "      <th>films_count</th>\n",
              "      <th>usa_gross_income</th>\n",
              "    </tr>\n",
              "  </thead>\n",
              "  <tbody>\n",
              "    <tr>\n",
              "      <th>10874</th>\n",
              "      <td>Christopher Markus, Stephen McFeely</td>\n",
              "      <td>8</td>\n",
              "      <td>2538385516</td>\n",
              "    </tr>\n",
              "    <tr>\n",
              "      <th>11047</th>\n",
              "      <td>Cinco Paul, Ken Daurio</td>\n",
              "      <td>7</td>\n",
              "      <td>1520210642</td>\n",
              "    </tr>\n",
              "    <tr>\n",
              "      <th>27105</th>\n",
              "      <td>James Cameron</td>\n",
              "      <td>3</td>\n",
              "      <td>1474332616</td>\n",
              "    </tr>\n",
              "    <tr>\n",
              "      <th>42324</th>\n",
              "      <td>Melissa Rosenberg, Stephenie Meyer</td>\n",
              "      <td>5</td>\n",
              "      <td>1365922347</td>\n",
              "    </tr>\n",
              "    <tr>\n",
              "      <th>20909</th>\n",
              "      <td>George Lucas</td>\n",
              "      <td>3</td>\n",
              "      <td>1315813761</td>\n",
              "    </tr>\n",
              "    <tr>\n",
              "      <th>38831</th>\n",
              "      <td>M. Night Shyamalan</td>\n",
              "      <td>12</td>\n",
              "      <td>1284074128</td>\n",
              "    </tr>\n",
              "    <tr>\n",
              "      <th>60653</th>\n",
              "      <td>Ted Elliott, Terry Rossio</td>\n",
              "      <td>4</td>\n",
              "      <td>1279221957</td>\n",
              "    </tr>\n",
              "    <tr>\n",
              "      <th>59155</th>\n",
              "      <td>Steve Kloves, J.K. Rowling</td>\n",
              "      <td>4</td>\n",
              "      <td>1270480367</td>\n",
              "    </tr>\n",
              "    <tr>\n",
              "      <th>32039</th>\n",
              "      <td>Jonathan Nolan, Christopher Nolan</td>\n",
              "      <td>4</td>\n",
              "      <td>1224483040</td>\n",
              "    </tr>\n",
              "    <tr>\n",
              "      <th>19029</th>\n",
              "      <td>Fran Walsh, Philippa Boyens</td>\n",
              "      <td>6</td>\n",
              "      <td>1094635508</td>\n",
              "    </tr>\n",
              "    <tr>\n",
              "      <th>26347</th>\n",
              "      <td>J.R.R. Tolkien, Fran Walsh</td>\n",
              "      <td>3</td>\n",
              "      <td>1035942020</td>\n",
              "    </tr>\n",
              "    <tr>\n",
              "      <th>31221</th>\n",
              "      <td>John Lasseter, Andrew Stanton</td>\n",
              "      <td>3</td>\n",
              "      <td>1011841453</td>\n",
              "    </tr>\n",
              "    <tr>\n",
              "      <th>10392</th>\n",
              "      <td>Chris McKenna, Erik Sommers</td>\n",
              "      <td>3</td>\n",
              "      <td>1011720996</td>\n",
              "    </tr>\n",
              "    <tr>\n",
              "      <th>51742</th>\n",
              "      <td>Rhett Reese, Paul Wernick</td>\n",
              "      <td>6</td>\n",
              "      <td>989132894</td>\n",
              "    </tr>\n",
              "    <tr>\n",
              "      <th>31936</th>\n",
              "      <td>Jonathan Aibel, Glenn Berger</td>\n",
              "      <td>7</td>\n",
              "      <td>974024111</td>\n",
              "    </tr>\n",
              "    <tr>\n",
              "      <th>10400</th>\n",
              "      <td>Chris Morgan, Gary Scott Thompson</td>\n",
              "      <td>4</td>\n",
              "      <td>956588810</td>\n",
              "    </tr>\n",
              "    <tr>\n",
              "      <th>53602</th>\n",
              "      <td>Roberto Orci, Alex Kurtzman</td>\n",
              "      <td>5</td>\n",
              "      <td>952459447</td>\n",
              "    </tr>\n",
              "    <tr>\n",
              "      <th>36868</th>\n",
              "      <td>Lawrence Kasdan, J.J. Abrams</td>\n",
              "      <td>1</td>\n",
              "      <td>936662225</td>\n",
              "    </tr>\n",
              "    <tr>\n",
              "      <th>31123</th>\n",
              "      <td>John Hughes</td>\n",
              "      <td>20</td>\n",
              "      <td>926984452</td>\n",
              "    </tr>\n",
              "    <tr>\n",
              "      <th>29186</th>\n",
              "      <td>Jennifer Lee, Hans Christian Andersen</td>\n",
              "      <td>2</td>\n",
              "      <td>878111587</td>\n",
              "    </tr>\n",
              "  </tbody>\n",
              "</table>\n",
              "</div>"
            ],
            "text/plain": [
              "                                      writer  films_count  usa_gross_income\n",
              "10874    Christopher Markus, Stephen McFeely            8        2538385516\n",
              "11047                 Cinco Paul, Ken Daurio            7        1520210642\n",
              "27105                          James Cameron            3        1474332616\n",
              "42324     Melissa Rosenberg, Stephenie Meyer            5        1365922347\n",
              "20909                           George Lucas            3        1315813761\n",
              "38831                     M. Night Shyamalan           12        1284074128\n",
              "60653              Ted Elliott, Terry Rossio            4        1279221957\n",
              "59155             Steve Kloves, J.K. Rowling            4        1270480367\n",
              "32039      Jonathan Nolan, Christopher Nolan            4        1224483040\n",
              "19029            Fran Walsh, Philippa Boyens            6        1094635508\n",
              "26347             J.R.R. Tolkien, Fran Walsh            3        1035942020\n",
              "31221          John Lasseter, Andrew Stanton            3        1011841453\n",
              "10392            Chris McKenna, Erik Sommers            3        1011720996\n",
              "51742              Rhett Reese, Paul Wernick            6         989132894\n",
              "31936           Jonathan Aibel, Glenn Berger            7         974024111\n",
              "10400      Chris Morgan, Gary Scott Thompson            4         956588810\n",
              "53602            Roberto Orci, Alex Kurtzman            5         952459447\n",
              "36868           Lawrence Kasdan, J.J. Abrams            1         936662225\n",
              "31123                            John Hughes           20         926984452\n",
              "29186  Jennifer Lee, Hans Christian Andersen            2         878111587"
            ]
          },
          "metadata": {
            "tags": []
          },
          "execution_count": 58
        }
      ]
    },
    {
      "cell_type": "markdown",
      "metadata": {
        "id": "LNP0zseIlg5n"
      },
      "source": [
        "##Scenarzyści średni dochód na świecie, w USA"
      ]
    },
    {
      "cell_type": "code",
      "metadata": {
        "id": "92sC66aAkYk5",
        "colab": {
          "base_uri": "https://localhost:8080/",
          "height": 411
        },
        "outputId": "b336d6da-40c8-43b0-ce83-7f6405464274"
      },
      "source": [
        "#Scenarzyści z największym średnim dochodem na film w dolarach (tam gdzie i dochód na świecie i dochód w USA jest w $)\n",
        "imdb_movies_income_USD = imdb_movies[imdb_movies.currency_for_usaincome.eq('$') & imdb_movies.currency_for_wwincome.eq('$')]\n",
        "imdb_average_income = imdb_movies_income_USD.groupby('writer').agg({'imdb_title_id':'count','usa_gross_income':'mean', 'worlwide_gross_income':'mean'}).reset_index().rename(columns={'imdb_title_id':'films_count'}).sort_values(by='worlwide_gross_income', ascending=False)\n",
        "imdb_average_income['average_usa_gross_income'] = imdb_average_income['usa_gross_income'].astype(int)\n",
        "imdb_average_income['average_worlwide_gross_income'] = imdb_average_income['worlwide_gross_income'].astype(int)\n",
        "imdb_average_income.drop(['usa_gross_income', 'worlwide_gross_income'], axis=1, inplace=True)\n",
        "imdb_average_income.head()\n"
      ],
      "execution_count": 59,
      "outputs": [
        {
          "output_type": "execute_result",
          "data": {
            "text/html": [
              "<div>\n",
              "<style scoped>\n",
              "    .dataframe tbody tr th:only-of-type {\n",
              "        vertical-align: middle;\n",
              "    }\n",
              "\n",
              "    .dataframe tbody tr th {\n",
              "        vertical-align: top;\n",
              "    }\n",
              "\n",
              "    .dataframe thead th {\n",
              "        text-align: right;\n",
              "    }\n",
              "</style>\n",
              "<table border=\"1\" class=\"dataframe\">\n",
              "  <thead>\n",
              "    <tr style=\"text-align: right;\">\n",
              "      <th></th>\n",
              "      <th>writer</th>\n",
              "      <th>films_count</th>\n",
              "      <th>average_usa_gross_income</th>\n",
              "      <th>average_worlwide_gross_income</th>\n",
              "    </tr>\n",
              "  </thead>\n",
              "  <tbody>\n",
              "    <tr>\n",
              "      <th>36855</th>\n",
              "      <td>Lawrence Kasdan, J.J. Abrams</td>\n",
              "      <td>1</td>\n",
              "      <td>936662225</td>\n",
              "      <td>2068224036</td>\n",
              "    </tr>\n",
              "    <tr>\n",
              "      <th>27094</th>\n",
              "      <td>James Cameron</td>\n",
              "      <td>3</td>\n",
              "      <td>491444205</td>\n",
              "      <td>1691869686</td>\n",
              "    </tr>\n",
              "    <tr>\n",
              "      <th>28943</th>\n",
              "      <td>Jeff Nathanson, Irene Mecchi</td>\n",
              "      <td>1</td>\n",
              "      <td>543638043</td>\n",
              "      <td>1656963790</td>\n",
              "    </tr>\n",
              "    <tr>\n",
              "      <th>32713</th>\n",
              "      <td>Joss Whedon, Zak Penn</td>\n",
              "      <td>1</td>\n",
              "      <td>623357910</td>\n",
              "      <td>1518814206</td>\n",
              "    </tr>\n",
              "    <tr>\n",
              "      <th>32711</th>\n",
              "      <td>Joss Whedon, Stan Lee</td>\n",
              "      <td>1</td>\n",
              "      <td>459005868</td>\n",
              "      <td>1402808753</td>\n",
              "    </tr>\n",
              "  </tbody>\n",
              "</table>\n",
              "</div>"
            ],
            "text/plain": [
              "                             writer  ...  average_worlwide_gross_income\n",
              "36855  Lawrence Kasdan, J.J. Abrams  ...                     2068224036\n",
              "27094                 James Cameron  ...                     1691869686\n",
              "28943  Jeff Nathanson, Irene Mecchi  ...                     1656963790\n",
              "32713         Joss Whedon, Zak Penn  ...                     1518814206\n",
              "32711         Joss Whedon, Stan Lee  ...                     1402808753\n",
              "\n",
              "[5 rows x 4 columns]"
            ]
          },
          "metadata": {
            "tags": []
          },
          "execution_count": 59
        }
      ]
    },
    {
      "cell_type": "markdown",
      "metadata": {
        "id": "ZsJm_UWXlmiu"
      },
      "source": [
        "##Scenarzyści budżet filmów"
      ]
    },
    {
      "cell_type": "code",
      "metadata": {
        "id": "XM1BT2ikmCE1"
      },
      "source": [
        "#nowa df z danymi gdzie budget w dolarach\n",
        "imdb_movies_budget_USD = imdb_movies[imdb_movies['currency_for_budget']=='$']"
      ],
      "execution_count": 60,
      "outputs": []
    },
    {
      "cell_type": "code",
      "metadata": {
        "id": "AYLXzc7imCFA",
        "colab": {
          "base_uri": "https://localhost:8080/",
          "height": 771
        },
        "outputId": "71730673-e61c-4e7d-d01f-895961d385aa"
      },
      "source": [
        "#Scenarzyści - średni budżet w dolarach na film\n",
        "df = imdb_movies_budget_USD.groupby('director').agg({'imdb_title_id':'count','budget':'mean'}).reset_index().rename(columns={'imdb_title_id':'films_count'}).sort_values(by='budget', ascending=False).head(20)\n",
        "df['budget'] = df['budget'].round(0)\n",
        "df['budget_per_film'] = df['budget']/df['films_count']\n",
        "df.reset_index().sort_values(by='budget_per_film', ascending=False).head(20)\n"
      ],
      "execution_count": 61,
      "outputs": [
        {
          "output_type": "execute_result",
          "data": {
            "text/html": [
              "<div>\n",
              "<style scoped>\n",
              "    .dataframe tbody tr th:only-of-type {\n",
              "        vertical-align: middle;\n",
              "    }\n",
              "\n",
              "    .dataframe tbody tr th {\n",
              "        vertical-align: top;\n",
              "    }\n",
              "\n",
              "    .dataframe thead th {\n",
              "        text-align: right;\n",
              "    }\n",
              "</style>\n",
              "<table border=\"1\" class=\"dataframe\">\n",
              "  <thead>\n",
              "    <tr style=\"text-align: right;\">\n",
              "      <th></th>\n",
              "      <th>index</th>\n",
              "      <th>director</th>\n",
              "      <th>films_count</th>\n",
              "      <th>budget</th>\n",
              "      <th>budget_per_film</th>\n",
              "    </tr>\n",
              "  </thead>\n",
              "  <tbody>\n",
              "    <tr>\n",
              "      <th>0</th>\n",
              "      <td>21783</td>\n",
              "      <td>Nathan Greno, Byron Howard</td>\n",
              "      <td>1</td>\n",
              "      <td>260000000.0</td>\n",
              "      <td>260000000.0</td>\n",
              "    </tr>\n",
              "    <tr>\n",
              "      <th>2</th>\n",
              "      <td>23682</td>\n",
              "      <td>Peter Sohn</td>\n",
              "      <td>1</td>\n",
              "      <td>200000000.0</td>\n",
              "      <td>200000000.0</td>\n",
              "    </tr>\n",
              "    <tr>\n",
              "      <th>3</th>\n",
              "      <td>17790</td>\n",
              "      <td>Lee Unkrich</td>\n",
              "      <td>1</td>\n",
              "      <td>200000000.0</td>\n",
              "      <td>200000000.0</td>\n",
              "    </tr>\n",
              "    <tr>\n",
              "      <th>4</th>\n",
              "      <td>27969</td>\n",
              "      <td>Simon Kinberg</td>\n",
              "      <td>1</td>\n",
              "      <td>200000000.0</td>\n",
              "      <td>200000000.0</td>\n",
              "    </tr>\n",
              "    <tr>\n",
              "      <th>5</th>\n",
              "      <td>1774</td>\n",
              "      <td>Andrew Stanton, Angus MacLane</td>\n",
              "      <td>1</td>\n",
              "      <td>200000000.0</td>\n",
              "      <td>200000000.0</td>\n",
              "    </tr>\n",
              "    <tr>\n",
              "      <th>6</th>\n",
              "      <td>15518</td>\n",
              "      <td>Josh Cooley</td>\n",
              "      <td>1</td>\n",
              "      <td>200000000.0</td>\n",
              "      <td>200000000.0</td>\n",
              "    </tr>\n",
              "    <tr>\n",
              "      <th>7</th>\n",
              "      <td>14831</td>\n",
              "      <td>John Lasseter, Bradford Lewis</td>\n",
              "      <td>1</td>\n",
              "      <td>200000000.0</td>\n",
              "      <td>200000000.0</td>\n",
              "    </tr>\n",
              "    <tr>\n",
              "      <th>9</th>\n",
              "      <td>19308</td>\n",
              "      <td>Mark Andrews, Brenda Chapman</td>\n",
              "      <td>1</td>\n",
              "      <td>185000000.0</td>\n",
              "      <td>185000000.0</td>\n",
              "    </tr>\n",
              "    <tr>\n",
              "      <th>10</th>\n",
              "      <td>14326</td>\n",
              "      <td>Joachim Rønning</td>\n",
              "      <td>1</td>\n",
              "      <td>185000000.0</td>\n",
              "      <td>185000000.0</td>\n",
              "    </tr>\n",
              "    <tr>\n",
              "      <th>11</th>\n",
              "      <td>25767</td>\n",
              "      <td>Robert Stromberg</td>\n",
              "      <td>1</td>\n",
              "      <td>180000000.0</td>\n",
              "      <td>180000000.0</td>\n",
              "    </tr>\n",
              "    <tr>\n",
              "      <th>13</th>\n",
              "      <td>23477</td>\n",
              "      <td>Pete Docter, Ronnie Del Carmen</td>\n",
              "      <td>1</td>\n",
              "      <td>175000000.0</td>\n",
              "      <td>175000000.0</td>\n",
              "    </tr>\n",
              "    <tr>\n",
              "      <th>14</th>\n",
              "      <td>3915</td>\n",
              "      <td>Brian Fee</td>\n",
              "      <td>1</td>\n",
              "      <td>175000000.0</td>\n",
              "      <td>175000000.0</td>\n",
              "    </tr>\n",
              "    <tr>\n",
              "      <th>15</th>\n",
              "      <td>23475</td>\n",
              "      <td>Pete Docter, Bob Peterson</td>\n",
              "      <td>1</td>\n",
              "      <td>175000000.0</td>\n",
              "      <td>175000000.0</td>\n",
              "    </tr>\n",
              "    <tr>\n",
              "      <th>16</th>\n",
              "      <td>17791</td>\n",
              "      <td>Lee Unkrich, Adrian Molina</td>\n",
              "      <td>1</td>\n",
              "      <td>175000000.0</td>\n",
              "      <td>175000000.0</td>\n",
              "    </tr>\n",
              "    <tr>\n",
              "      <th>17</th>\n",
              "      <td>25423</td>\n",
              "      <td>Rob Letterman, Conrad Vernon</td>\n",
              "      <td>1</td>\n",
              "      <td>175000000.0</td>\n",
              "      <td>175000000.0</td>\n",
              "    </tr>\n",
              "    <tr>\n",
              "      <th>18</th>\n",
              "      <td>4373</td>\n",
              "      <td>Carl Rinsch</td>\n",
              "      <td>1</td>\n",
              "      <td>175000000.0</td>\n",
              "      <td>175000000.0</td>\n",
              "    </tr>\n",
              "    <tr>\n",
              "      <th>19</th>\n",
              "      <td>23771</td>\n",
              "      <td>Phil Johnston, Rich Moore</td>\n",
              "      <td>1</td>\n",
              "      <td>175000000.0</td>\n",
              "      <td>175000000.0</td>\n",
              "    </tr>\n",
              "    <tr>\n",
              "      <th>1</th>\n",
              "      <td>1773</td>\n",
              "      <td>Andrew Stanton</td>\n",
              "      <td>2</td>\n",
              "      <td>215000000.0</td>\n",
              "      <td>107500000.0</td>\n",
              "    </tr>\n",
              "    <tr>\n",
              "      <th>8</th>\n",
              "      <td>2198</td>\n",
              "      <td>Anthony Russo, Joe Russo</td>\n",
              "      <td>6</td>\n",
              "      <td>193833333.0</td>\n",
              "      <td>32305555.5</td>\n",
              "    </tr>\n",
              "    <tr>\n",
              "      <th>12</th>\n",
              "      <td>12488</td>\n",
              "      <td>J.J. Abrams</td>\n",
              "      <td>6</td>\n",
              "      <td>176666667.0</td>\n",
              "      <td>29444444.5</td>\n",
              "    </tr>\n",
              "  </tbody>\n",
              "</table>\n",
              "</div>"
            ],
            "text/plain": [
              "    index                        director  ...       budget  budget_per_film\n",
              "0   21783      Nathan Greno, Byron Howard  ...  260000000.0      260000000.0\n",
              "2   23682                      Peter Sohn  ...  200000000.0      200000000.0\n",
              "3   17790                     Lee Unkrich  ...  200000000.0      200000000.0\n",
              "4   27969                   Simon Kinberg  ...  200000000.0      200000000.0\n",
              "5    1774   Andrew Stanton, Angus MacLane  ...  200000000.0      200000000.0\n",
              "6   15518                     Josh Cooley  ...  200000000.0      200000000.0\n",
              "7   14831   John Lasseter, Bradford Lewis  ...  200000000.0      200000000.0\n",
              "9   19308    Mark Andrews, Brenda Chapman  ...  185000000.0      185000000.0\n",
              "10  14326                 Joachim Rønning  ...  185000000.0      185000000.0\n",
              "11  25767                Robert Stromberg  ...  180000000.0      180000000.0\n",
              "13  23477  Pete Docter, Ronnie Del Carmen  ...  175000000.0      175000000.0\n",
              "14   3915                       Brian Fee  ...  175000000.0      175000000.0\n",
              "15  23475       Pete Docter, Bob Peterson  ...  175000000.0      175000000.0\n",
              "16  17791      Lee Unkrich, Adrian Molina  ...  175000000.0      175000000.0\n",
              "17  25423    Rob Letterman, Conrad Vernon  ...  175000000.0      175000000.0\n",
              "18   4373                     Carl Rinsch  ...  175000000.0      175000000.0\n",
              "19  23771       Phil Johnston, Rich Moore  ...  175000000.0      175000000.0\n",
              "1    1773                  Andrew Stanton  ...  215000000.0      107500000.0\n",
              "8    2198        Anthony Russo, Joe Russo  ...  193833333.0       32305555.5\n",
              "12  12488                     J.J. Abrams  ...  176666667.0       29444444.5\n",
              "\n",
              "[20 rows x 5 columns]"
            ]
          },
          "metadata": {
            "tags": []
          },
          "execution_count": 61
        }
      ]
    },
    {
      "cell_type": "markdown",
      "metadata": {
        "id": "CTjCBxs5mq57"
      },
      "source": [
        "##Scenarzyści - dochód, budżet"
      ]
    },
    {
      "cell_type": "code",
      "metadata": {
        "id": "hxB4eopGmq59",
        "colab": {
          "base_uri": "https://localhost:8080/",
          "height": 1000
        },
        "outputId": "9a91c030-e736-4a80-c9d7-a83928a421a8"
      },
      "source": [
        "#Scenarzyści z największym dochodem ŚREDNIM !! w dolarach plus budżet\n",
        "#PROBLEM - BIERZE POD UWAGĘ TYLKO AMERYKAŃSKICH SCENARZYSTÓW - BUDŻET W DOLARACH?\n",
        "imdb_movies_all_USD = imdb_movies[imdb_movies.currency_for_usaincome.eq('$') & imdb_movies.currency_for_wwincome.eq('$') & imdb_movies.currency_for_budget.eq('$')]\n",
        "df = imdb_movies_all_USD.groupby('writer').agg({'imdb_title_id':'count','usa_gross_income':'mean', 'worlwide_gross_income':'mean', 'budget':'mean'}).reset_index().rename(columns={'imdb_title_id':'films_count'}).sort_values(by='worlwide_gross_income', ascending=False).head(20)\n",
        "df['budget']=df['budget'].astype(int)\n",
        "df['worlwide_gross_income'] = df['worlwide_gross_income'].astype(int)\n",
        "df['usa_gross_income'] = df['usa_gross_income'].astype(int)\n",
        "df['return_on_films']=df['worlwide_gross_income']/df['budget']\n",
        "df.reset_index().sort_values(by='return_on_films', ascending=False).head(20)"
      ],
      "execution_count": 62,
      "outputs": [
        {
          "output_type": "execute_result",
          "data": {
            "text/html": [
              "<div>\n",
              "<style scoped>\n",
              "    .dataframe tbody tr th:only-of-type {\n",
              "        vertical-align: middle;\n",
              "    }\n",
              "\n",
              "    .dataframe tbody tr th {\n",
              "        vertical-align: top;\n",
              "    }\n",
              "\n",
              "    .dataframe thead th {\n",
              "        text-align: right;\n",
              "    }\n",
              "</style>\n",
              "<table border=\"1\" class=\"dataframe\">\n",
              "  <thead>\n",
              "    <tr style=\"text-align: right;\">\n",
              "      <th></th>\n",
              "      <th>index</th>\n",
              "      <th>writer</th>\n",
              "      <th>films_count</th>\n",
              "      <th>usa_gross_income</th>\n",
              "      <th>worlwide_gross_income</th>\n",
              "      <th>budget</th>\n",
              "      <th>return_on_films</th>\n",
              "    </tr>\n",
              "  </thead>\n",
              "  <tbody>\n",
              "    <tr>\n",
              "      <th>14</th>\n",
              "      <td>57076</td>\n",
              "      <td>Todd Phillips, Scott Silver</td>\n",
              "      <td>1</td>\n",
              "      <td>335451311</td>\n",
              "      <td>1074251311</td>\n",
              "      <td>55000000</td>\n",
              "      <td>19.531842</td>\n",
              "    </tr>\n",
              "    <tr>\n",
              "      <th>1</th>\n",
              "      <td>25147</td>\n",
              "      <td>James Cameron</td>\n",
              "      <td>3</td>\n",
              "      <td>491444205</td>\n",
              "      <td>1691869686</td>\n",
              "      <td>169000000</td>\n",
              "      <td>10.011063</td>\n",
              "    </tr>\n",
              "    <tr>\n",
              "      <th>5</th>\n",
              "      <td>27092</td>\n",
              "      <td>Jennifer Lee, Hans Christian Andersen</td>\n",
              "      <td>2</td>\n",
              "      <td>439055793</td>\n",
              "      <td>1365415143</td>\n",
              "      <td>150000000</td>\n",
              "      <td>9.102768</td>\n",
              "    </tr>\n",
              "    <tr>\n",
              "      <th>13</th>\n",
              "      <td>48457</td>\n",
              "      <td>Rick Jaffa, Amanda Silver</td>\n",
              "      <td>2</td>\n",
              "      <td>414515405</td>\n",
              "      <td>1076101158</td>\n",
              "      <td>121500000</td>\n",
              "      <td>8.856800</td>\n",
              "    </tr>\n",
              "    <tr>\n",
              "      <th>0</th>\n",
              "      <td>34229</td>\n",
              "      <td>Lawrence Kasdan, J.J. Abrams</td>\n",
              "      <td>1</td>\n",
              "      <td>936662225</td>\n",
              "      <td>2068224036</td>\n",
              "      <td>245000000</td>\n",
              "      <td>8.441731</td>\n",
              "    </tr>\n",
              "    <tr>\n",
              "      <th>9</th>\n",
              "      <td>54375</td>\n",
              "      <td>Stephen Chbosky, Evan Spiliotopoulos</td>\n",
              "      <td>1</td>\n",
              "      <td>504481165</td>\n",
              "      <td>1264064380</td>\n",
              "      <td>160000000</td>\n",
              "      <td>7.900402</td>\n",
              "    </tr>\n",
              "    <tr>\n",
              "      <th>8</th>\n",
              "      <td>13386</td>\n",
              "      <td>Derek Connolly, Colin Trevorrow</td>\n",
              "      <td>1</td>\n",
              "      <td>417719760</td>\n",
              "      <td>1331958159</td>\n",
              "      <td>170000000</td>\n",
              "      <td>7.835048</td>\n",
              "    </tr>\n",
              "    <tr>\n",
              "      <th>12</th>\n",
              "      <td>12673</td>\n",
              "      <td>David Leslie Johnson-McGoldrick, Will Beall</td>\n",
              "      <td>1</td>\n",
              "      <td>335061807</td>\n",
              "      <td>1148485886</td>\n",
              "      <td>160000000</td>\n",
              "      <td>7.178037</td>\n",
              "    </tr>\n",
              "    <tr>\n",
              "      <th>3</th>\n",
              "      <td>30421</td>\n",
              "      <td>Joss Whedon, Zak Penn</td>\n",
              "      <td>1</td>\n",
              "      <td>623357910</td>\n",
              "      <td>1518814206</td>\n",
              "      <td>220000000</td>\n",
              "      <td>6.903701</td>\n",
              "    </tr>\n",
              "    <tr>\n",
              "      <th>19</th>\n",
              "      <td>7819</td>\n",
              "      <td>Byron Howard, Rich Moore</td>\n",
              "      <td>1</td>\n",
              "      <td>341268248</td>\n",
              "      <td>1023789075</td>\n",
              "      <td>150000000</td>\n",
              "      <td>6.825260</td>\n",
              "    </tr>\n",
              "    <tr>\n",
              "      <th>6</th>\n",
              "      <td>50727</td>\n",
              "      <td>Ryan Coogler, Joe Robert Cole</td>\n",
              "      <td>1</td>\n",
              "      <td>700426566</td>\n",
              "      <td>1347280838</td>\n",
              "      <td>200000000</td>\n",
              "      <td>6.736404</td>\n",
              "    </tr>\n",
              "    <tr>\n",
              "      <th>2</th>\n",
              "      <td>26866</td>\n",
              "      <td>Jeff Nathanson, Irene Mecchi</td>\n",
              "      <td>1</td>\n",
              "      <td>543638043</td>\n",
              "      <td>1656963790</td>\n",
              "      <td>260000000</td>\n",
              "      <td>6.372938</td>\n",
              "    </tr>\n",
              "    <tr>\n",
              "      <th>11</th>\n",
              "      <td>14459</td>\n",
              "      <td>Drew Pearce, Shane Black</td>\n",
              "      <td>1</td>\n",
              "      <td>409013994</td>\n",
              "      <td>1214811252</td>\n",
              "      <td>200000000</td>\n",
              "      <td>6.074056</td>\n",
              "    </tr>\n",
              "    <tr>\n",
              "      <th>16</th>\n",
              "      <td>54718</td>\n",
              "      <td>Steve Kloves, J.K. Rowling</td>\n",
              "      <td>3</td>\n",
              "      <td>324710882</td>\n",
              "      <td>1057652039</td>\n",
              "      <td>175000000</td>\n",
              "      <td>6.043726</td>\n",
              "    </tr>\n",
              "    <tr>\n",
              "      <th>18</th>\n",
              "      <td>28420</td>\n",
              "      <td>John August, Guy Ritchie</td>\n",
              "      <td>1</td>\n",
              "      <td>355559216</td>\n",
              "      <td>1050693953</td>\n",
              "      <td>183000000</td>\n",
              "      <td>5.741497</td>\n",
              "    </tr>\n",
              "    <tr>\n",
              "      <th>4</th>\n",
              "      <td>30419</td>\n",
              "      <td>Joss Whedon, Stan Lee</td>\n",
              "      <td>1</td>\n",
              "      <td>459005868</td>\n",
              "      <td>1402808753</td>\n",
              "      <td>250000000</td>\n",
              "      <td>5.611235</td>\n",
              "    </tr>\n",
              "    <tr>\n",
              "      <th>17</th>\n",
              "      <td>9697</td>\n",
              "      <td>Chris Weitz, Tony Gilroy</td>\n",
              "      <td>1</td>\n",
              "      <td>532177324</td>\n",
              "      <td>1056057720</td>\n",
              "      <td>200000000</td>\n",
              "      <td>5.280289</td>\n",
              "    </tr>\n",
              "    <tr>\n",
              "      <th>10</th>\n",
              "      <td>18952</td>\n",
              "      <td>Gary Scott Thompson, Chris Morgan</td>\n",
              "      <td>1</td>\n",
              "      <td>226008385</td>\n",
              "      <td>1236005118</td>\n",
              "      <td>250000000</td>\n",
              "      <td>4.944020</td>\n",
              "    </tr>\n",
              "    <tr>\n",
              "      <th>7</th>\n",
              "      <td>47864</td>\n",
              "      <td>Rian Johnson, George Lucas</td>\n",
              "      <td>1</td>\n",
              "      <td>620181382</td>\n",
              "      <td>1332540187</td>\n",
              "      <td>317000000</td>\n",
              "      <td>4.203597</td>\n",
              "    </tr>\n",
              "    <tr>\n",
              "      <th>15</th>\n",
              "      <td>9679</td>\n",
              "      <td>Chris Terrio, J.J. Abrams</td>\n",
              "      <td>1</td>\n",
              "      <td>515202542</td>\n",
              "      <td>1074144248</td>\n",
              "      <td>275000000</td>\n",
              "      <td>3.905979</td>\n",
              "    </tr>\n",
              "  </tbody>\n",
              "</table>\n",
              "</div>"
            ],
            "text/plain": [
              "    index  ... return_on_films\n",
              "14  57076  ...       19.531842\n",
              "1   25147  ...       10.011063\n",
              "5   27092  ...        9.102768\n",
              "13  48457  ...        8.856800\n",
              "0   34229  ...        8.441731\n",
              "9   54375  ...        7.900402\n",
              "8   13386  ...        7.835048\n",
              "12  12673  ...        7.178037\n",
              "3   30421  ...        6.903701\n",
              "19   7819  ...        6.825260\n",
              "6   50727  ...        6.736404\n",
              "2   26866  ...        6.372938\n",
              "11  14459  ...        6.074056\n",
              "16  54718  ...        6.043726\n",
              "18  28420  ...        5.741497\n",
              "4   30419  ...        5.611235\n",
              "17   9697  ...        5.280289\n",
              "10  18952  ...        4.944020\n",
              "7   47864  ...        4.203597\n",
              "15   9679  ...        3.905979\n",
              "\n",
              "[20 rows x 7 columns]"
            ]
          },
          "metadata": {
            "tags": []
          },
          "execution_count": 62
        }
      ]
    },
    {
      "cell_type": "markdown",
      "metadata": {
        "id": "eMwHRmvnXcWJ"
      },
      "source": [
        "# Aktorzy z największymi średnimi głosów, największa liczba głosów, budżet filmów i dochody - EWA i Kasia"
      ]
    },
    {
      "cell_type": "markdown",
      "metadata": {
        "id": "tJmB4uocF2fZ"
      },
      "source": [
        "##Aktorzy -dane o średniej ocenie filmów, największa liczba głosów"
      ]
    },
    {
      "cell_type": "code",
      "metadata": {
        "id": "sTsse49GXis8",
        "colab": {
          "base_uri": "https://localhost:8080/",
          "height": 666
        },
        "outputId": "12f21d16-9610-4cb7-e9ec-16f5e85769bb"
      },
      "source": [
        "imdb_movies.head()"
      ],
      "execution_count": 63,
      "outputs": [
        {
          "output_type": "execute_result",
          "data": {
            "text/html": [
              "<div>\n",
              "<style scoped>\n",
              "    .dataframe tbody tr th:only-of-type {\n",
              "        vertical-align: middle;\n",
              "    }\n",
              "\n",
              "    .dataframe tbody tr th {\n",
              "        vertical-align: top;\n",
              "    }\n",
              "\n",
              "    .dataframe thead th {\n",
              "        text-align: right;\n",
              "    }\n",
              "</style>\n",
              "<table border=\"1\" class=\"dataframe\">\n",
              "  <thead>\n",
              "    <tr style=\"text-align: right;\">\n",
              "      <th></th>\n",
              "      <th>imdb_title_id</th>\n",
              "      <th>title</th>\n",
              "      <th>original_title</th>\n",
              "      <th>year</th>\n",
              "      <th>date_published</th>\n",
              "      <th>genre</th>\n",
              "      <th>duration</th>\n",
              "      <th>country</th>\n",
              "      <th>language</th>\n",
              "      <th>director</th>\n",
              "      <th>writer</th>\n",
              "      <th>production_company</th>\n",
              "      <th>actors</th>\n",
              "      <th>description</th>\n",
              "      <th>avg_vote</th>\n",
              "      <th>votes</th>\n",
              "      <th>budget</th>\n",
              "      <th>usa_gross_income</th>\n",
              "      <th>worlwide_gross_income</th>\n",
              "      <th>metascore</th>\n",
              "      <th>reviews_from_users</th>\n",
              "      <th>reviews_from_critics</th>\n",
              "      <th>currency_for_wwincome</th>\n",
              "      <th>currency_for_usaincome</th>\n",
              "      <th>currency_for_budget</th>\n",
              "    </tr>\n",
              "  </thead>\n",
              "  <tbody>\n",
              "    <tr>\n",
              "      <th>0</th>\n",
              "      <td>tt0000009</td>\n",
              "      <td>Miss Jerry</td>\n",
              "      <td>Miss Jerry</td>\n",
              "      <td>1894</td>\n",
              "      <td>1894-10-09</td>\n",
              "      <td>Romance</td>\n",
              "      <td>45</td>\n",
              "      <td>USA</td>\n",
              "      <td>None</td>\n",
              "      <td>Alexander Black</td>\n",
              "      <td>Alexander Black</td>\n",
              "      <td>Alexander Black Photoplays</td>\n",
              "      <td>Blanche Bayliss, William Courtenay, Chauncey D...</td>\n",
              "      <td>The adventures of a female reporter in the 1890s.</td>\n",
              "      <td>5.9</td>\n",
              "      <td>154</td>\n",
              "      <td>0</td>\n",
              "      <td>0</td>\n",
              "      <td>0</td>\n",
              "      <td>NaN</td>\n",
              "      <td>1.0</td>\n",
              "      <td>2.0</td>\n",
              "      <td>$</td>\n",
              "      <td>$</td>\n",
              "      <td>$</td>\n",
              "    </tr>\n",
              "    <tr>\n",
              "      <th>1</th>\n",
              "      <td>tt0000574</td>\n",
              "      <td>The Story of the Kelly Gang</td>\n",
              "      <td>The Story of the Kelly Gang</td>\n",
              "      <td>1906</td>\n",
              "      <td>1906-12-26</td>\n",
              "      <td>Biography, Crime, Drama</td>\n",
              "      <td>70</td>\n",
              "      <td>Australia</td>\n",
              "      <td>None</td>\n",
              "      <td>Charles Tait</td>\n",
              "      <td>Charles Tait</td>\n",
              "      <td>J. and N. Tait</td>\n",
              "      <td>Elizabeth Tait, John Tait, Norman Campbell, Be...</td>\n",
              "      <td>True story of notorious Australian outlaw Ned ...</td>\n",
              "      <td>6.1</td>\n",
              "      <td>589</td>\n",
              "      <td>2250</td>\n",
              "      <td>0</td>\n",
              "      <td>0</td>\n",
              "      <td>NaN</td>\n",
              "      <td>7.0</td>\n",
              "      <td>7.0</td>\n",
              "      <td>$</td>\n",
              "      <td>$</td>\n",
              "      <td>$</td>\n",
              "    </tr>\n",
              "    <tr>\n",
              "      <th>2</th>\n",
              "      <td>tt0001892</td>\n",
              "      <td>Den sorte drøm</td>\n",
              "      <td>Den sorte drøm</td>\n",
              "      <td>1911</td>\n",
              "      <td>1911-08-19</td>\n",
              "      <td>Drama</td>\n",
              "      <td>53</td>\n",
              "      <td>Germany, Denmark</td>\n",
              "      <td>NaN</td>\n",
              "      <td>Urban Gad</td>\n",
              "      <td>Urban Gad, Gebhard Schätzler-Perasini</td>\n",
              "      <td>Fotorama</td>\n",
              "      <td>Asta Nielsen, Valdemar Psilander, Gunnar Helse...</td>\n",
              "      <td>Two men of high rank are both wooing the beaut...</td>\n",
              "      <td>5.8</td>\n",
              "      <td>188</td>\n",
              "      <td>0</td>\n",
              "      <td>0</td>\n",
              "      <td>0</td>\n",
              "      <td>NaN</td>\n",
              "      <td>5.0</td>\n",
              "      <td>2.0</td>\n",
              "      <td>$</td>\n",
              "      <td>$</td>\n",
              "      <td>$</td>\n",
              "    </tr>\n",
              "    <tr>\n",
              "      <th>3</th>\n",
              "      <td>tt0002101</td>\n",
              "      <td>Cleopatra</td>\n",
              "      <td>Cleopatra</td>\n",
              "      <td>1912</td>\n",
              "      <td>1912-11-13</td>\n",
              "      <td>Drama, History</td>\n",
              "      <td>100</td>\n",
              "      <td>USA</td>\n",
              "      <td>English</td>\n",
              "      <td>Charles L. Gaskill</td>\n",
              "      <td>Victorien Sardou</td>\n",
              "      <td>Helen Gardner Picture Players</td>\n",
              "      <td>Helen Gardner, Pearl Sindelar, Miss Fielding, ...</td>\n",
              "      <td>The fabled queen of Egypt's affair with Roman ...</td>\n",
              "      <td>5.2</td>\n",
              "      <td>446</td>\n",
              "      <td>45000</td>\n",
              "      <td>0</td>\n",
              "      <td>0</td>\n",
              "      <td>NaN</td>\n",
              "      <td>25.0</td>\n",
              "      <td>3.0</td>\n",
              "      <td>$</td>\n",
              "      <td>$</td>\n",
              "      <td>$</td>\n",
              "    </tr>\n",
              "    <tr>\n",
              "      <th>4</th>\n",
              "      <td>tt0002130</td>\n",
              "      <td>L'Inferno</td>\n",
              "      <td>L'Inferno</td>\n",
              "      <td>1911</td>\n",
              "      <td>1911-03-06</td>\n",
              "      <td>Adventure, Drama, Fantasy</td>\n",
              "      <td>68</td>\n",
              "      <td>Italy</td>\n",
              "      <td>Italian</td>\n",
              "      <td>Francesco Bertolini, Adolfo Padovan</td>\n",
              "      <td>Dante Alighieri</td>\n",
              "      <td>Milano Film</td>\n",
              "      <td>Salvatore Papa, Arturo Pirovano, Giuseppe de L...</td>\n",
              "      <td>Loosely adapted from Dante's Divine Comedy and...</td>\n",
              "      <td>7.0</td>\n",
              "      <td>2237</td>\n",
              "      <td>0</td>\n",
              "      <td>0</td>\n",
              "      <td>0</td>\n",
              "      <td>NaN</td>\n",
              "      <td>31.0</td>\n",
              "      <td>14.0</td>\n",
              "      <td>$</td>\n",
              "      <td>$</td>\n",
              "      <td>$</td>\n",
              "    </tr>\n",
              "  </tbody>\n",
              "</table>\n",
              "</div>"
            ],
            "text/plain": [
              "  imdb_title_id  ... currency_for_budget\n",
              "0     tt0000009  ...                   $\n",
              "1     tt0000574  ...                   $\n",
              "2     tt0001892  ...                   $\n",
              "3     tt0002101  ...                   $\n",
              "4     tt0002130  ...                   $\n",
              "\n",
              "[5 rows x 25 columns]"
            ]
          },
          "metadata": {
            "tags": []
          },
          "execution_count": 63
        }
      ]
    },
    {
      "cell_type": "code",
      "metadata": {
        "id": "larxeEF8daE4",
        "colab": {
          "base_uri": "https://localhost:8080/",
          "height": 677
        },
        "outputId": "add2086e-d346-49a7-c088-6cc9f905a7c7"
      },
      "source": [
        "imdb_movies_actors = imdb_movies.actors.str.split(pat=',', expand=True)\r\n",
        "imdb_movies_actors['avg_vote'] = imdb_movies['avg_vote']\r\n",
        "imdb_movies_actors"
      ],
      "execution_count": 64,
      "outputs": [
        {
          "output_type": "execute_result",
          "data": {
            "text/html": [
              "<div>\n",
              "<style scoped>\n",
              "    .dataframe tbody tr th:only-of-type {\n",
              "        vertical-align: middle;\n",
              "    }\n",
              "\n",
              "    .dataframe tbody tr th {\n",
              "        vertical-align: top;\n",
              "    }\n",
              "\n",
              "    .dataframe thead th {\n",
              "        text-align: right;\n",
              "    }\n",
              "</style>\n",
              "<table border=\"1\" class=\"dataframe\">\n",
              "  <thead>\n",
              "    <tr style=\"text-align: right;\">\n",
              "      <th></th>\n",
              "      <th>0</th>\n",
              "      <th>1</th>\n",
              "      <th>2</th>\n",
              "      <th>3</th>\n",
              "      <th>4</th>\n",
              "      <th>5</th>\n",
              "      <th>6</th>\n",
              "      <th>7</th>\n",
              "      <th>8</th>\n",
              "      <th>9</th>\n",
              "      <th>10</th>\n",
              "      <th>11</th>\n",
              "      <th>12</th>\n",
              "      <th>13</th>\n",
              "      <th>14</th>\n",
              "      <th>15</th>\n",
              "      <th>avg_vote</th>\n",
              "    </tr>\n",
              "  </thead>\n",
              "  <tbody>\n",
              "    <tr>\n",
              "      <th>0</th>\n",
              "      <td>Blanche Bayliss</td>\n",
              "      <td>William Courtenay</td>\n",
              "      <td>Chauncey Depew</td>\n",
              "      <td>None</td>\n",
              "      <td>None</td>\n",
              "      <td>None</td>\n",
              "      <td>None</td>\n",
              "      <td>None</td>\n",
              "      <td>None</td>\n",
              "      <td>None</td>\n",
              "      <td>None</td>\n",
              "      <td>None</td>\n",
              "      <td>None</td>\n",
              "      <td>None</td>\n",
              "      <td>None</td>\n",
              "      <td>None</td>\n",
              "      <td>5.9</td>\n",
              "    </tr>\n",
              "    <tr>\n",
              "      <th>1</th>\n",
              "      <td>Elizabeth Tait</td>\n",
              "      <td>John Tait</td>\n",
              "      <td>Norman Campbell</td>\n",
              "      <td>Bella Cola</td>\n",
              "      <td>Will Coyne</td>\n",
              "      <td>Sam Crewes</td>\n",
              "      <td>Jack Ennis</td>\n",
              "      <td>John Forde</td>\n",
              "      <td>Vera Linden</td>\n",
              "      <td>Mr. Marshall</td>\n",
              "      <td>Mr. McKenzie</td>\n",
              "      <td>Frank Mills</td>\n",
              "      <td>Ollie Wilson</td>\n",
              "      <td>None</td>\n",
              "      <td>None</td>\n",
              "      <td>None</td>\n",
              "      <td>6.1</td>\n",
              "    </tr>\n",
              "    <tr>\n",
              "      <th>2</th>\n",
              "      <td>Asta Nielsen</td>\n",
              "      <td>Valdemar Psilander</td>\n",
              "      <td>Gunnar Helsengreen</td>\n",
              "      <td>Emil Albes</td>\n",
              "      <td>Hugo Flink</td>\n",
              "      <td>Mary Hagen</td>\n",
              "      <td>None</td>\n",
              "      <td>None</td>\n",
              "      <td>None</td>\n",
              "      <td>None</td>\n",
              "      <td>None</td>\n",
              "      <td>None</td>\n",
              "      <td>None</td>\n",
              "      <td>None</td>\n",
              "      <td>None</td>\n",
              "      <td>None</td>\n",
              "      <td>5.8</td>\n",
              "    </tr>\n",
              "    <tr>\n",
              "      <th>3</th>\n",
              "      <td>Helen Gardner</td>\n",
              "      <td>Pearl Sindelar</td>\n",
              "      <td>Miss Fielding</td>\n",
              "      <td>Miss Robson</td>\n",
              "      <td>Helene Costello</td>\n",
              "      <td>Charles Sindelar</td>\n",
              "      <td>Mr. Howard</td>\n",
              "      <td>James R. Waite</td>\n",
              "      <td>Mr. Osborne</td>\n",
              "      <td>Harry Knowles</td>\n",
              "      <td>Mr. Paul</td>\n",
              "      <td>Mr. Brady</td>\n",
              "      <td>Mr. Corker</td>\n",
              "      <td>None</td>\n",
              "      <td>None</td>\n",
              "      <td>None</td>\n",
              "      <td>5.2</td>\n",
              "    </tr>\n",
              "    <tr>\n",
              "      <th>4</th>\n",
              "      <td>Salvatore Papa</td>\n",
              "      <td>Arturo Pirovano</td>\n",
              "      <td>Giuseppe de Liguoro</td>\n",
              "      <td>Pier Delle Vigne</td>\n",
              "      <td>Augusto Milla</td>\n",
              "      <td>Attilio Motta</td>\n",
              "      <td>Emilise Beretta</td>\n",
              "      <td>None</td>\n",
              "      <td>None</td>\n",
              "      <td>None</td>\n",
              "      <td>None</td>\n",
              "      <td>None</td>\n",
              "      <td>None</td>\n",
              "      <td>None</td>\n",
              "      <td>None</td>\n",
              "      <td>None</td>\n",
              "      <td>7.0</td>\n",
              "    </tr>\n",
              "    <tr>\n",
              "      <th>...</th>\n",
              "      <td>...</td>\n",
              "      <td>...</td>\n",
              "      <td>...</td>\n",
              "      <td>...</td>\n",
              "      <td>...</td>\n",
              "      <td>...</td>\n",
              "      <td>...</td>\n",
              "      <td>...</td>\n",
              "      <td>...</td>\n",
              "      <td>...</td>\n",
              "      <td>...</td>\n",
              "      <td>...</td>\n",
              "      <td>...</td>\n",
              "      <td>...</td>\n",
              "      <td>...</td>\n",
              "      <td>...</td>\n",
              "      <td>...</td>\n",
              "    </tr>\n",
              "    <tr>\n",
              "      <th>85850</th>\n",
              "      <td>Dany Boon</td>\n",
              "      <td>Philippe Katerine</td>\n",
              "      <td>Anne Serra</td>\n",
              "      <td>Samuel Jouy</td>\n",
              "      <td>Sophie Verbeeck</td>\n",
              "      <td>Carole Brana</td>\n",
              "      <td>Benoît Pétré</td>\n",
              "      <td>Aksel Ustun</td>\n",
              "      <td>Mathieu Lardot</td>\n",
              "      <td>Olivier Sa</td>\n",
              "      <td>Julien Prevost</td>\n",
              "      <td>Antoine Mathieu</td>\n",
              "      <td>David Ban</td>\n",
              "      <td>Stan</td>\n",
              "      <td>Guillaume Clémencin</td>\n",
              "      <td>None</td>\n",
              "      <td>5.3</td>\n",
              "    </tr>\n",
              "    <tr>\n",
              "      <th>85851</th>\n",
              "      <td>Herman Finkers</td>\n",
              "      <td>Johanna ter Steege</td>\n",
              "      <td>Leonie ter Braak</td>\n",
              "      <td>Stef Assen</td>\n",
              "      <td>Annie Beumers</td>\n",
              "      <td>Jos Brummelhuis</td>\n",
              "      <td>Reinier Bulder</td>\n",
              "      <td>Daphne Bunskoek</td>\n",
              "      <td>Karlijn Koel</td>\n",
              "      <td>Karlijn Lansink</td>\n",
              "      <td>Marieke Lustenhouwer</td>\n",
              "      <td>Jan Roerink</td>\n",
              "      <td>Ferdi Stofmeel</td>\n",
              "      <td>Aniek Stokkers</td>\n",
              "      <td>Belinda van der Stoep</td>\n",
              "      <td>None</td>\n",
              "      <td>7.7</td>\n",
              "    </tr>\n",
              "    <tr>\n",
              "      <th>85852</th>\n",
              "      <td>Anoop Chandran</td>\n",
              "      <td>Indrans</td>\n",
              "      <td>Sona Nair</td>\n",
              "      <td>Simon Britto Rodrigues</td>\n",
              "      <td>None</td>\n",
              "      <td>None</td>\n",
              "      <td>None</td>\n",
              "      <td>None</td>\n",
              "      <td>None</td>\n",
              "      <td>None</td>\n",
              "      <td>None</td>\n",
              "      <td>None</td>\n",
              "      <td>None</td>\n",
              "      <td>None</td>\n",
              "      <td>None</td>\n",
              "      <td>None</td>\n",
              "      <td>7.9</td>\n",
              "    </tr>\n",
              "    <tr>\n",
              "      <th>85853</th>\n",
              "      <td>Ahmet Faik Akinci</td>\n",
              "      <td>Belma Mamati</td>\n",
              "      <td>Metin Keçeci</td>\n",
              "      <td>Burhan Sirmabiyik</td>\n",
              "      <td>Orhan Aydin</td>\n",
              "      <td>Tevfik Yapici</td>\n",
              "      <td>Yusuf Eksi</td>\n",
              "      <td>Toygun Ates</td>\n",
              "      <td>Aziz Özuysal</td>\n",
              "      <td>Dilek Ölekli</td>\n",
              "      <td>Arcan Bunial</td>\n",
              "      <td>Seval Hislisoy</td>\n",
              "      <td>Ergül Çolakoglu</td>\n",
              "      <td>Gülçin Ugur</td>\n",
              "      <td>Ibrahim Balaban</td>\n",
              "      <td>None</td>\n",
              "      <td>6.4</td>\n",
              "    </tr>\n",
              "    <tr>\n",
              "      <th>85854</th>\n",
              "      <td>Maria Morera Colomer</td>\n",
              "      <td>Biel Rossell Pelfort</td>\n",
              "      <td>Isaac Alcayde</td>\n",
              "      <td>Lluís Altés</td>\n",
              "      <td>Joan Amargós</td>\n",
              "      <td>Pepo Blasco</td>\n",
              "      <td>Cesc Casanovas</td>\n",
              "      <td>Oriol Cervera</td>\n",
              "      <td>Pau Escobar</td>\n",
              "      <td>Jordi Figueras</td>\n",
              "      <td>Arés Fuster</td>\n",
              "      <td>Judit Martín</td>\n",
              "      <td>Martí Múrcia</td>\n",
              "      <td>Mariona Pagès</td>\n",
              "      <td>Francesca Piñón</td>\n",
              "      <td>None</td>\n",
              "      <td>6.7</td>\n",
              "    </tr>\n",
              "  </tbody>\n",
              "</table>\n",
              "<p>85855 rows × 17 columns</p>\n",
              "</div>"
            ],
            "text/plain": [
              "                          0                      1  ...    15 avg_vote\n",
              "0           Blanche Bayliss      William Courtenay  ...  None      5.9\n",
              "1            Elizabeth Tait              John Tait  ...  None      6.1\n",
              "2              Asta Nielsen     Valdemar Psilander  ...  None      5.8\n",
              "3             Helen Gardner         Pearl Sindelar  ...  None      5.2\n",
              "4            Salvatore Papa        Arturo Pirovano  ...  None      7.0\n",
              "...                     ...                    ...  ...   ...      ...\n",
              "85850             Dany Boon      Philippe Katerine  ...  None      5.3\n",
              "85851        Herman Finkers     Johanna ter Steege  ...  None      7.7\n",
              "85852        Anoop Chandran                Indrans  ...  None      7.9\n",
              "85853     Ahmet Faik Akinci           Belma Mamati  ...  None      6.4\n",
              "85854  Maria Morera Colomer   Biel Rossell Pelfort  ...  None      6.7\n",
              "\n",
              "[85855 rows x 17 columns]"
            ]
          },
          "metadata": {
            "tags": []
          },
          "execution_count": 64
        }
      ]
    },
    {
      "cell_type": "code",
      "metadata": {
        "id": "V-Jsn_lOZZGY",
        "colab": {
          "base_uri": "https://localhost:8080/",
          "height": 35
        },
        "outputId": "3acdf51a-e38d-44b0-c33e-ba6689b1b93e"
      },
      "source": [
        "imdb_movies_actors[1][1] # ta spacja przed imieniem zniszczyła mi piątkowy wieczór"
      ],
      "execution_count": 65,
      "outputs": [
        {
          "output_type": "execute_result",
          "data": {
            "application/vnd.google.colaboratory.intrinsic+json": {
              "type": "string"
            },
            "text/plain": [
              "' John Tait'"
            ]
          },
          "metadata": {
            "tags": []
          },
          "execution_count": 65
        }
      ]
    },
    {
      "cell_type": "code",
      "metadata": {
        "id": "hu6-kB9BDkLL"
      },
      "source": [
        "# tu usuwam spacje przed imionami we wszytskich kolumnach\r\n",
        "\r\n",
        "def remove_white_space_before(x):\r\n",
        "  if isinstance(x, str):\r\n",
        "    if x[0] == ' ':\r\n",
        "      x = x[1:]\r\n",
        "  return x\r\n",
        "\r\n",
        "for i in range(0,16):\r\n",
        "  imdb_movies_actors[i] = imdb_movies_actors[i].apply(remove_white_space_before)"
      ],
      "execution_count": 66,
      "outputs": []
    },
    {
      "cell_type": "code",
      "metadata": {
        "id": "20Yj-9pDTBME",
        "colab": {
          "base_uri": "https://localhost:8080/",
          "height": 35
        },
        "outputId": "f2f0f9bd-dc1c-43d4-9699-f146cee41f55"
      },
      "source": [
        "imdb_movies_actors[1][1] # i działa <3"
      ],
      "execution_count": 67,
      "outputs": [
        {
          "output_type": "execute_result",
          "data": {
            "application/vnd.google.colaboratory.intrinsic+json": {
              "type": "string"
            },
            "text/plain": [
              "'John Tait'"
            ]
          },
          "metadata": {
            "tags": []
          },
          "execution_count": 67
        }
      ]
    },
    {
      "cell_type": "code",
      "metadata": {
        "id": "sqiYBbZqbsos",
        "colab": {
          "base_uri": "https://localhost:8080/",
          "height": 419
        },
        "outputId": "8519c222-36c6-4315-afa9-6e3375437c2b"
      },
      "source": [
        "actors = {}\r\n",
        "for i in range(0, 16):\r\n",
        "  actors[\"act_column{0}\".format(i)] = imdb_movies_actors[[i, 'avg_vote']].groupby(i).agg(['count', 'sum'])\r\n",
        "  actors[\"act_column{0}\".format(i)].columns = actors[\"act_column{0}\".format(i)].columns.droplevel(0)\r\n",
        "  actors[\"act_column{0}\".format(i)].index.name = None\r\n",
        "\r\n",
        "actors['act_column0']"
      ],
      "execution_count": 68,
      "outputs": [
        {
          "output_type": "execute_result",
          "data": {
            "text/html": [
              "<div>\n",
              "<style scoped>\n",
              "    .dataframe tbody tr th:only-of-type {\n",
              "        vertical-align: middle;\n",
              "    }\n",
              "\n",
              "    .dataframe tbody tr th {\n",
              "        vertical-align: top;\n",
              "    }\n",
              "\n",
              "    .dataframe thead th {\n",
              "        text-align: right;\n",
              "    }\n",
              "</style>\n",
              "<table border=\"1\" class=\"dataframe\">\n",
              "  <thead>\n",
              "    <tr style=\"text-align: right;\">\n",
              "      <th></th>\n",
              "      <th>count</th>\n",
              "      <th>sum</th>\n",
              "    </tr>\n",
              "  </thead>\n",
              "  <tbody>\n",
              "    <tr>\n",
              "      <th>'Lee' George Quinones</th>\n",
              "      <td>1</td>\n",
              "      <td>7.1</td>\n",
              "    </tr>\n",
              "    <tr>\n",
              "      <th>'University' Jeevan</th>\n",
              "      <td>1</td>\n",
              "      <td>5.7</td>\n",
              "    </tr>\n",
              "    <tr>\n",
              "      <th>'Weird Al' Yankovic</th>\n",
              "      <td>1</td>\n",
              "      <td>7.0</td>\n",
              "    </tr>\n",
              "    <tr>\n",
              "      <th>2Mex</th>\n",
              "      <td>1</td>\n",
              "      <td>3.8</td>\n",
              "    </tr>\n",
              "    <tr>\n",
              "      <th>50 Cent</th>\n",
              "      <td>5</td>\n",
              "      <td>23.7</td>\n",
              "    </tr>\n",
              "    <tr>\n",
              "      <th>...</th>\n",
              "      <td>...</td>\n",
              "      <td>...</td>\n",
              "    </tr>\n",
              "    <tr>\n",
              "      <th>Þorsteinn Bachmann</th>\n",
              "      <td>1</td>\n",
              "      <td>5.6</td>\n",
              "    </tr>\n",
              "    <tr>\n",
              "      <th>Þorsteinn Guðmundsson</th>\n",
              "      <td>1</td>\n",
              "      <td>6.1</td>\n",
              "    </tr>\n",
              "    <tr>\n",
              "      <th>Þröstur Leó Gunnarsson</th>\n",
              "      <td>2</td>\n",
              "      <td>11.9</td>\n",
              "    </tr>\n",
              "    <tr>\n",
              "      <th>Þórhallur Sigurðsson</th>\n",
              "      <td>1</td>\n",
              "      <td>5.7</td>\n",
              "    </tr>\n",
              "    <tr>\n",
              "      <th>Þórhallur Sverrisson</th>\n",
              "      <td>1</td>\n",
              "      <td>7.0</td>\n",
              "    </tr>\n",
              "  </tbody>\n",
              "</table>\n",
              "<p>37146 rows × 2 columns</p>\n",
              "</div>"
            ],
            "text/plain": [
              "                        count   sum\n",
              "'Lee' George Quinones       1   7.1\n",
              "'University' Jeevan         1   5.7\n",
              "'Weird Al' Yankovic         1   7.0\n",
              "2Mex                        1   3.8\n",
              "50 Cent                     5  23.7\n",
              "...                       ...   ...\n",
              "Þorsteinn Bachmann          1   5.6\n",
              "Þorsteinn Guðmundsson       1   6.1\n",
              "Þröstur Leó Gunnarsson      2  11.9\n",
              "Þórhallur Sigurðsson        1   5.7\n",
              "Þórhallur Sverrisson        1   7.0\n",
              "\n",
              "[37146 rows x 2 columns]"
            ]
          },
          "metadata": {
            "tags": []
          },
          "execution_count": 68
        }
      ]
    },
    {
      "cell_type": "code",
      "metadata": {
        "id": "BYGeYPXulnq6",
        "colab": {
          "base_uri": "https://localhost:8080/",
          "height": 419
        },
        "outputId": "3b3bfcea-56f7-4bba-bc89-aa78053a2f8f"
      },
      "source": [
        "actors_all = actors['act_column0']\r\n",
        "for i in range(1,16):\r\n",
        "  actors_all = actors_all.add(actors[\"act_column{0}\".format(i)], fill_value=0)\r\n",
        "\r\n",
        "actors_all"
      ],
      "execution_count": 69,
      "outputs": [
        {
          "output_type": "execute_result",
          "data": {
            "text/html": [
              "<div>\n",
              "<style scoped>\n",
              "    .dataframe tbody tr th:only-of-type {\n",
              "        vertical-align: middle;\n",
              "    }\n",
              "\n",
              "    .dataframe tbody tr th {\n",
              "        vertical-align: top;\n",
              "    }\n",
              "\n",
              "    .dataframe thead th {\n",
              "        text-align: right;\n",
              "    }\n",
              "</style>\n",
              "<table border=\"1\" class=\"dataframe\">\n",
              "  <thead>\n",
              "    <tr style=\"text-align: right;\">\n",
              "      <th></th>\n",
              "      <th>count</th>\n",
              "      <th>sum</th>\n",
              "    </tr>\n",
              "  </thead>\n",
              "  <tbody>\n",
              "    <tr>\n",
              "      <th>'Astor' Escobar</th>\n",
              "      <td>1.0</td>\n",
              "      <td>6.4</td>\n",
              "    </tr>\n",
              "    <tr>\n",
              "      <th>'Baby' Carmen De Rue</th>\n",
              "      <td>3.0</td>\n",
              "      <td>15.5</td>\n",
              "    </tr>\n",
              "    <tr>\n",
              "      <th>'Bang Bang' Toto Ruta</th>\n",
              "      <td>1.0</td>\n",
              "      <td>7.1</td>\n",
              "    </tr>\n",
              "    <tr>\n",
              "      <th>'Big Al' Solomon</th>\n",
              "      <td>1.0</td>\n",
              "      <td>3.4</td>\n",
              "    </tr>\n",
              "    <tr>\n",
              "      <th>'Big Jack' Provan</th>\n",
              "      <td>1.0</td>\n",
              "      <td>6.0</td>\n",
              "    </tr>\n",
              "    <tr>\n",
              "      <th>...</th>\n",
              "      <td>...</td>\n",
              "      <td>...</td>\n",
              "    </tr>\n",
              "    <tr>\n",
              "      <th>Þórir Waagfjörð</th>\n",
              "      <td>1.0</td>\n",
              "      <td>5.3</td>\n",
              "    </tr>\n",
              "    <tr>\n",
              "      <th>Þórunn Antónía Magnúsdóttir</th>\n",
              "      <td>1.0</td>\n",
              "      <td>6.3</td>\n",
              "    </tr>\n",
              "    <tr>\n",
              "      <th>Þórunn Arna Kristjánsdóttir</th>\n",
              "      <td>1.0</td>\n",
              "      <td>7.1</td>\n",
              "    </tr>\n",
              "    <tr>\n",
              "      <th>Þórunn Magnea Magnúsdóttir</th>\n",
              "      <td>3.0</td>\n",
              "      <td>19.8</td>\n",
              "    </tr>\n",
              "    <tr>\n",
              "      <th>Þórður Árnason</th>\n",
              "      <td>1.0</td>\n",
              "      <td>7.3</td>\n",
              "    </tr>\n",
              "  </tbody>\n",
              "</table>\n",
              "<p>417320 rows × 2 columns</p>\n",
              "</div>"
            ],
            "text/plain": [
              "                             count   sum\n",
              "'Astor' Escobar                1.0   6.4\n",
              "'Baby' Carmen De Rue           3.0  15.5\n",
              "'Bang Bang' Toto Ruta          1.0   7.1\n",
              "'Big Al' Solomon               1.0   3.4\n",
              "'Big Jack' Provan              1.0   6.0\n",
              "...                            ...   ...\n",
              "Þórir Waagfjörð                1.0   5.3\n",
              "Þórunn Antónía Magnúsdóttir    1.0   6.3\n",
              "Þórunn Arna Kristjánsdóttir    1.0   7.1\n",
              "Þórunn Magnea Magnúsdóttir     3.0  19.8\n",
              "Þórður Árnason                 1.0   7.3\n",
              "\n",
              "[417320 rows x 2 columns]"
            ]
          },
          "metadata": {
            "tags": []
          },
          "execution_count": 69
        }
      ]
    },
    {
      "cell_type": "code",
      "metadata": {
        "id": "WHl-SaK5nZkJ",
        "colab": {
          "base_uri": "https://localhost:8080/",
          "height": 419
        },
        "outputId": "ddaf33f7-fb5e-4a3e-f7fc-343da9a00cad"
      },
      "source": [
        "actors_all['avg_vote'] = actors_all['sum']/actors_all['count']\r\n",
        "actors_all"
      ],
      "execution_count": 70,
      "outputs": [
        {
          "output_type": "execute_result",
          "data": {
            "text/html": [
              "<div>\n",
              "<style scoped>\n",
              "    .dataframe tbody tr th:only-of-type {\n",
              "        vertical-align: middle;\n",
              "    }\n",
              "\n",
              "    .dataframe tbody tr th {\n",
              "        vertical-align: top;\n",
              "    }\n",
              "\n",
              "    .dataframe thead th {\n",
              "        text-align: right;\n",
              "    }\n",
              "</style>\n",
              "<table border=\"1\" class=\"dataframe\">\n",
              "  <thead>\n",
              "    <tr style=\"text-align: right;\">\n",
              "      <th></th>\n",
              "      <th>count</th>\n",
              "      <th>sum</th>\n",
              "      <th>avg_vote</th>\n",
              "    </tr>\n",
              "  </thead>\n",
              "  <tbody>\n",
              "    <tr>\n",
              "      <th>'Astor' Escobar</th>\n",
              "      <td>1.0</td>\n",
              "      <td>6.4</td>\n",
              "      <td>6.400000</td>\n",
              "    </tr>\n",
              "    <tr>\n",
              "      <th>'Baby' Carmen De Rue</th>\n",
              "      <td>3.0</td>\n",
              "      <td>15.5</td>\n",
              "      <td>5.166667</td>\n",
              "    </tr>\n",
              "    <tr>\n",
              "      <th>'Bang Bang' Toto Ruta</th>\n",
              "      <td>1.0</td>\n",
              "      <td>7.1</td>\n",
              "      <td>7.100000</td>\n",
              "    </tr>\n",
              "    <tr>\n",
              "      <th>'Big Al' Solomon</th>\n",
              "      <td>1.0</td>\n",
              "      <td>3.4</td>\n",
              "      <td>3.400000</td>\n",
              "    </tr>\n",
              "    <tr>\n",
              "      <th>'Big Jack' Provan</th>\n",
              "      <td>1.0</td>\n",
              "      <td>6.0</td>\n",
              "      <td>6.000000</td>\n",
              "    </tr>\n",
              "    <tr>\n",
              "      <th>...</th>\n",
              "      <td>...</td>\n",
              "      <td>...</td>\n",
              "      <td>...</td>\n",
              "    </tr>\n",
              "    <tr>\n",
              "      <th>Þórir Waagfjörð</th>\n",
              "      <td>1.0</td>\n",
              "      <td>5.3</td>\n",
              "      <td>5.300000</td>\n",
              "    </tr>\n",
              "    <tr>\n",
              "      <th>Þórunn Antónía Magnúsdóttir</th>\n",
              "      <td>1.0</td>\n",
              "      <td>6.3</td>\n",
              "      <td>6.300000</td>\n",
              "    </tr>\n",
              "    <tr>\n",
              "      <th>Þórunn Arna Kristjánsdóttir</th>\n",
              "      <td>1.0</td>\n",
              "      <td>7.1</td>\n",
              "      <td>7.100000</td>\n",
              "    </tr>\n",
              "    <tr>\n",
              "      <th>Þórunn Magnea Magnúsdóttir</th>\n",
              "      <td>3.0</td>\n",
              "      <td>19.8</td>\n",
              "      <td>6.600000</td>\n",
              "    </tr>\n",
              "    <tr>\n",
              "      <th>Þórður Árnason</th>\n",
              "      <td>1.0</td>\n",
              "      <td>7.3</td>\n",
              "      <td>7.300000</td>\n",
              "    </tr>\n",
              "  </tbody>\n",
              "</table>\n",
              "<p>417320 rows × 3 columns</p>\n",
              "</div>"
            ],
            "text/plain": [
              "                             count   sum  avg_vote\n",
              "'Astor' Escobar                1.0   6.4  6.400000\n",
              "'Baby' Carmen De Rue           3.0  15.5  5.166667\n",
              "'Bang Bang' Toto Ruta          1.0   7.1  7.100000\n",
              "'Big Al' Solomon               1.0   3.4  3.400000\n",
              "'Big Jack' Provan              1.0   6.0  6.000000\n",
              "...                            ...   ...       ...\n",
              "Þórir Waagfjörð                1.0   5.3  5.300000\n",
              "Þórunn Antónía Magnúsdóttir    1.0   6.3  6.300000\n",
              "Þórunn Arna Kristjánsdóttir    1.0   7.1  7.100000\n",
              "Þórunn Magnea Magnúsdóttir     3.0  19.8  6.600000\n",
              "Þórður Árnason                 1.0   7.3  7.300000\n",
              "\n",
              "[417320 rows x 3 columns]"
            ]
          },
          "metadata": {
            "tags": []
          },
          "execution_count": 70
        }
      ]
    },
    {
      "cell_type": "code",
      "metadata": {
        "id": "muyBx_iXo96q",
        "colab": {
          "base_uri": "https://localhost:8080/",
          "height": 359
        },
        "outputId": "1b5951b3-711a-42a2-ab73-53e184b3cfbc"
      },
      "source": [
        "# Aktorzy, którzy zagrali w więcej niż 15 filmach posortowani wg średniej oceny filmu\r\n",
        "\r\n",
        "actors_all[actors_all['count'] > 15].sort_values(by='avg_vote', ascending=False).reset_index().head(10)"
      ],
      "execution_count": 71,
      "outputs": [
        {
          "output_type": "execute_result",
          "data": {
            "text/html": [
              "<div>\n",
              "<style scoped>\n",
              "    .dataframe tbody tr th:only-of-type {\n",
              "        vertical-align: middle;\n",
              "    }\n",
              "\n",
              "    .dataframe tbody tr th {\n",
              "        vertical-align: top;\n",
              "    }\n",
              "\n",
              "    .dataframe thead th {\n",
              "        text-align: right;\n",
              "    }\n",
              "</style>\n",
              "<table border=\"1\" class=\"dataframe\">\n",
              "  <thead>\n",
              "    <tr style=\"text-align: right;\">\n",
              "      <th></th>\n",
              "      <th>index</th>\n",
              "      <th>count</th>\n",
              "      <th>sum</th>\n",
              "      <th>avg_vote</th>\n",
              "    </tr>\n",
              "  </thead>\n",
              "  <tbody>\n",
              "    <tr>\n",
              "      <th>0</th>\n",
              "      <td>Rabi Ghosh</td>\n",
              "      <td>17.0</td>\n",
              "      <td>133.5</td>\n",
              "      <td>7.852941</td>\n",
              "    </tr>\n",
              "    <tr>\n",
              "      <th>1</th>\n",
              "      <td>Sergey A.</td>\n",
              "      <td>31.0</td>\n",
              "      <td>240.0</td>\n",
              "      <td>7.741935</td>\n",
              "    </tr>\n",
              "    <tr>\n",
              "      <th>2</th>\n",
              "      <td>Vyacheslav Tikhonov</td>\n",
              "      <td>16.0</td>\n",
              "      <td>123.0</td>\n",
              "      <td>7.687500</td>\n",
              "    </tr>\n",
              "    <tr>\n",
              "      <th>3</th>\n",
              "      <td>Toma Caragiu</td>\n",
              "      <td>17.0</td>\n",
              "      <td>129.5</td>\n",
              "      <td>7.617647</td>\n",
              "    </tr>\n",
              "    <tr>\n",
              "      <th>4</th>\n",
              "      <td>Charles Chaplin</td>\n",
              "      <td>18.0</td>\n",
              "      <td>137.1</td>\n",
              "      <td>7.616667</td>\n",
              "    </tr>\n",
              "    <tr>\n",
              "      <th>5</th>\n",
              "      <td>Sebastian Papaiani</td>\n",
              "      <td>26.0</td>\n",
              "      <td>197.2</td>\n",
              "      <td>7.584615</td>\n",
              "    </tr>\n",
              "    <tr>\n",
              "      <th>6</th>\n",
              "      <td>Yoshimasa Hosoya</td>\n",
              "      <td>17.0</td>\n",
              "      <td>128.7</td>\n",
              "      <td>7.570588</td>\n",
              "    </tr>\n",
              "    <tr>\n",
              "      <th>7</th>\n",
              "      <td>Bora Todorovic</td>\n",
              "      <td>19.0</td>\n",
              "      <td>143.8</td>\n",
              "      <td>7.568421</td>\n",
              "    </tr>\n",
              "    <tr>\n",
              "      <th>8</th>\n",
              "      <td>Sankaradi</td>\n",
              "      <td>45.0</td>\n",
              "      <td>339.5</td>\n",
              "      <td>7.544444</td>\n",
              "    </tr>\n",
              "    <tr>\n",
              "      <th>9</th>\n",
              "      <td>George Mihaita</td>\n",
              "      <td>16.0</td>\n",
              "      <td>120.7</td>\n",
              "      <td>7.543750</td>\n",
              "    </tr>\n",
              "  </tbody>\n",
              "</table>\n",
              "</div>"
            ],
            "text/plain": [
              "                 index  count    sum  avg_vote\n",
              "0           Rabi Ghosh   17.0  133.5  7.852941\n",
              "1            Sergey A.   31.0  240.0  7.741935\n",
              "2  Vyacheslav Tikhonov   16.0  123.0  7.687500\n",
              "3         Toma Caragiu   17.0  129.5  7.617647\n",
              "4      Charles Chaplin   18.0  137.1  7.616667\n",
              "5   Sebastian Papaiani   26.0  197.2  7.584615\n",
              "6     Yoshimasa Hosoya   17.0  128.7  7.570588\n",
              "7       Bora Todorovic   19.0  143.8  7.568421\n",
              "8            Sankaradi   45.0  339.5  7.544444\n",
              "9       George Mihaita   16.0  120.7  7.543750"
            ]
          },
          "metadata": {
            "tags": []
          },
          "execution_count": 71
        }
      ]
    },
    {
      "cell_type": "code",
      "metadata": {
        "id": "w8fI4d7Qqv01",
        "colab": {
          "base_uri": "https://localhost:8080/",
          "height": 359
        },
        "outputId": "6917d0be-09a8-41c8-94fe-1d3337d4b9b0"
      },
      "source": [
        "# Aktorzy, którzy zagrali w więcej niż 50 filmach posortowani wg średniej oceny filmu\r\n",
        "\r\n",
        "actors_all[actors_all['count'] > 50].sort_values(by='avg_vote', ascending=False).reset_index().head(10)\r\n",
        "\r\n",
        "# Myślałam, że jakieś bardziej znane nazwiska się pojawią :D"
      ],
      "execution_count": 72,
      "outputs": [
        {
          "output_type": "execute_result",
          "data": {
            "text/html": [
              "<div>\n",
              "<style scoped>\n",
              "    .dataframe tbody tr th:only-of-type {\n",
              "        vertical-align: middle;\n",
              "    }\n",
              "\n",
              "    .dataframe tbody tr th {\n",
              "        vertical-align: top;\n",
              "    }\n",
              "\n",
              "    .dataframe thead th {\n",
              "        text-align: right;\n",
              "    }\n",
              "</style>\n",
              "<table border=\"1\" class=\"dataframe\">\n",
              "  <thead>\n",
              "    <tr style=\"text-align: right;\">\n",
              "      <th></th>\n",
              "      <th>index</th>\n",
              "      <th>count</th>\n",
              "      <th>sum</th>\n",
              "      <th>avg_vote</th>\n",
              "    </tr>\n",
              "  </thead>\n",
              "  <tbody>\n",
              "    <tr>\n",
              "      <th>0</th>\n",
              "      <td>Kamal Haasan</td>\n",
              "      <td>76.0</td>\n",
              "      <td>565.8</td>\n",
              "      <td>7.444737</td>\n",
              "    </tr>\n",
              "    <tr>\n",
              "      <th>1</th>\n",
              "      <td>Sener Sen</td>\n",
              "      <td>55.0</td>\n",
              "      <td>404.4</td>\n",
              "      <td>7.352727</td>\n",
              "    </tr>\n",
              "    <tr>\n",
              "      <th>2</th>\n",
              "      <td>Thilakan</td>\n",
              "      <td>69.0</td>\n",
              "      <td>506.5</td>\n",
              "      <td>7.340580</td>\n",
              "    </tr>\n",
              "    <tr>\n",
              "      <th>3</th>\n",
              "      <td>Kemal Sunal</td>\n",
              "      <td>78.0</td>\n",
              "      <td>568.0</td>\n",
              "      <td>7.282051</td>\n",
              "    </tr>\n",
              "    <tr>\n",
              "      <th>4</th>\n",
              "      <td>Pavle Vuisic</td>\n",
              "      <td>51.0</td>\n",
              "      <td>367.2</td>\n",
              "      <td>7.200000</td>\n",
              "    </tr>\n",
              "    <tr>\n",
              "      <th>5</th>\n",
              "      <td>Tatsuya Nakadai</td>\n",
              "      <td>58.0</td>\n",
              "      <td>415.3</td>\n",
              "      <td>7.160345</td>\n",
              "    </tr>\n",
              "    <tr>\n",
              "      <th>6</th>\n",
              "      <td>Bogdan Diklic</td>\n",
              "      <td>69.0</td>\n",
              "      <td>492.6</td>\n",
              "      <td>7.139130</td>\n",
              "    </tr>\n",
              "    <tr>\n",
              "      <th>7</th>\n",
              "      <td>Takashi Shimura</td>\n",
              "      <td>51.0</td>\n",
              "      <td>363.9</td>\n",
              "      <td>7.135294</td>\n",
              "    </tr>\n",
              "    <tr>\n",
              "      <th>8</th>\n",
              "      <td>Toshirô Mifune</td>\n",
              "      <td>62.0</td>\n",
              "      <td>437.7</td>\n",
              "      <td>7.059677</td>\n",
              "    </tr>\n",
              "    <tr>\n",
              "      <th>9</th>\n",
              "      <td>Sreenivasan</td>\n",
              "      <td>83.0</td>\n",
              "      <td>585.5</td>\n",
              "      <td>7.054217</td>\n",
              "    </tr>\n",
              "  </tbody>\n",
              "</table>\n",
              "</div>"
            ],
            "text/plain": [
              "             index  count    sum  avg_vote\n",
              "0     Kamal Haasan   76.0  565.8  7.444737\n",
              "1        Sener Sen   55.0  404.4  7.352727\n",
              "2         Thilakan   69.0  506.5  7.340580\n",
              "3      Kemal Sunal   78.0  568.0  7.282051\n",
              "4     Pavle Vuisic   51.0  367.2  7.200000\n",
              "5  Tatsuya Nakadai   58.0  415.3  7.160345\n",
              "6    Bogdan Diklic   69.0  492.6  7.139130\n",
              "7  Takashi Shimura   51.0  363.9  7.135294\n",
              "8   Toshirô Mifune   62.0  437.7  7.059677\n",
              "9      Sreenivasan   83.0  585.5  7.054217"
            ]
          },
          "metadata": {
            "tags": []
          },
          "execution_count": 72
        }
      ]
    },
    {
      "cell_type": "code",
      "metadata": {
        "id": "hadVd8hhrQpn",
        "colab": {
          "base_uri": "https://localhost:8080/",
          "height": 359
        },
        "outputId": "97581277-c3cd-4242-9136-28c19d4ecf9b"
      },
      "source": [
        "# Aktorzy, którzy zagrali w większej liczbie filmów\r\n",
        "\r\n",
        "actors_all.sort_values(by='count', ascending=False).reset_index().head(10)"
      ],
      "execution_count": 73,
      "outputs": [
        {
          "output_type": "execute_result",
          "data": {
            "text/html": [
              "<div>\n",
              "<style scoped>\n",
              "    .dataframe tbody tr th:only-of-type {\n",
              "        vertical-align: middle;\n",
              "    }\n",
              "\n",
              "    .dataframe tbody tr th {\n",
              "        vertical-align: top;\n",
              "    }\n",
              "\n",
              "    .dataframe thead th {\n",
              "        text-align: right;\n",
              "    }\n",
              "</style>\n",
              "<table border=\"1\" class=\"dataframe\">\n",
              "  <thead>\n",
              "    <tr style=\"text-align: right;\">\n",
              "      <th></th>\n",
              "      <th>index</th>\n",
              "      <th>count</th>\n",
              "      <th>sum</th>\n",
              "      <th>avg_vote</th>\n",
              "    </tr>\n",
              "  </thead>\n",
              "  <tbody>\n",
              "    <tr>\n",
              "      <th>0</th>\n",
              "      <td>Brahmanandam</td>\n",
              "      <td>318.0</td>\n",
              "      <td>1892.5</td>\n",
              "      <td>5.951258</td>\n",
              "    </tr>\n",
              "    <tr>\n",
              "      <th>1</th>\n",
              "      <td>Anupam Kher</td>\n",
              "      <td>211.0</td>\n",
              "      <td>1195.3</td>\n",
              "      <td>5.664929</td>\n",
              "    </tr>\n",
              "    <tr>\n",
              "      <th>2</th>\n",
              "      <td>Nassar</td>\n",
              "      <td>204.0</td>\n",
              "      <td>1282.9</td>\n",
              "      <td>6.288725</td>\n",
              "    </tr>\n",
              "    <tr>\n",
              "      <th>3</th>\n",
              "      <td>Eric Roberts</td>\n",
              "      <td>204.0</td>\n",
              "      <td>904.0</td>\n",
              "      <td>4.431373</td>\n",
              "    </tr>\n",
              "    <tr>\n",
              "      <th>4</th>\n",
              "      <td>Prakash Raj</td>\n",
              "      <td>189.0</td>\n",
              "      <td>1169.9</td>\n",
              "      <td>6.189947</td>\n",
              "    </tr>\n",
              "    <tr>\n",
              "      <th>5</th>\n",
              "      <td>Tanikella Bharani</td>\n",
              "      <td>173.0</td>\n",
              "      <td>1076.7</td>\n",
              "      <td>6.223699</td>\n",
              "    </tr>\n",
              "    <tr>\n",
              "      <th>6</th>\n",
              "      <td>Amitabh Bachchan</td>\n",
              "      <td>173.0</td>\n",
              "      <td>1079.1</td>\n",
              "      <td>6.237572</td>\n",
              "    </tr>\n",
              "    <tr>\n",
              "      <th>7</th>\n",
              "      <td>Mohanlal</td>\n",
              "      <td>169.0</td>\n",
              "      <td>1120.3</td>\n",
              "      <td>6.628994</td>\n",
              "    </tr>\n",
              "    <tr>\n",
              "      <th>8</th>\n",
              "      <td>Gérard Depardieu</td>\n",
              "      <td>164.0</td>\n",
              "      <td>1000.1</td>\n",
              "      <td>6.098171</td>\n",
              "    </tr>\n",
              "    <tr>\n",
              "      <th>9</th>\n",
              "      <td>John Carradine</td>\n",
              "      <td>162.0</td>\n",
              "      <td>895.7</td>\n",
              "      <td>5.529012</td>\n",
              "    </tr>\n",
              "  </tbody>\n",
              "</table>\n",
              "</div>"
            ],
            "text/plain": [
              "               index  count     sum  avg_vote\n",
              "0       Brahmanandam  318.0  1892.5  5.951258\n",
              "1        Anupam Kher  211.0  1195.3  5.664929\n",
              "2             Nassar  204.0  1282.9  6.288725\n",
              "3       Eric Roberts  204.0   904.0  4.431373\n",
              "4        Prakash Raj  189.0  1169.9  6.189947\n",
              "5  Tanikella Bharani  173.0  1076.7  6.223699\n",
              "6   Amitabh Bachchan  173.0  1079.1  6.237572\n",
              "7           Mohanlal  169.0  1120.3  6.628994\n",
              "8   Gérard Depardieu  164.0  1000.1  6.098171\n",
              "9     John Carradine  162.0   895.7  5.529012"
            ]
          },
          "metadata": {
            "tags": []
          },
          "execution_count": 73
        }
      ]
    },
    {
      "cell_type": "markdown",
      "metadata": {
        "id": "UINJgPGW9loi"
      },
      "source": [
        "##Aktorzy -dane o budżecie filmów - dla budżetów w USD\n",
        "\n"
      ]
    },
    {
      "cell_type": "code",
      "metadata": {
        "colab": {
          "base_uri": "https://localhost:8080/",
          "height": 343
        },
        "id": "vGfaNaho92OS",
        "outputId": "74adc93b-e1c3-478d-afaa-bfb6436dfa3a"
      },
      "source": [
        "imdb_movies_actors_budget = imdb_movies.actors.str.split(pat=',', expand=True)\r\n",
        "imdb_movies_actors_budget['budget'] = imdb_movies['budget']\r\n",
        "imdb_movies_actors_budget['currency_for_budget']=imdb_movies['currency_for_budget']\r\n",
        "#nowa df z danymi gdzie budget w dolarach\r\n",
        "imdb_movies_actors_budget_USD = imdb_movies_actors_budget[imdb_movies_actors_budget['currency_for_budget']=='$']\r\n",
        "imdb_movies_actors_budget_USD.head()"
      ],
      "execution_count": 91,
      "outputs": [
        {
          "output_type": "execute_result",
          "data": {
            "text/html": [
              "<div>\n",
              "<style scoped>\n",
              "    .dataframe tbody tr th:only-of-type {\n",
              "        vertical-align: middle;\n",
              "    }\n",
              "\n",
              "    .dataframe tbody tr th {\n",
              "        vertical-align: top;\n",
              "    }\n",
              "\n",
              "    .dataframe thead th {\n",
              "        text-align: right;\n",
              "    }\n",
              "</style>\n",
              "<table border=\"1\" class=\"dataframe\">\n",
              "  <thead>\n",
              "    <tr style=\"text-align: right;\">\n",
              "      <th></th>\n",
              "      <th>0</th>\n",
              "      <th>1</th>\n",
              "      <th>2</th>\n",
              "      <th>3</th>\n",
              "      <th>4</th>\n",
              "      <th>5</th>\n",
              "      <th>6</th>\n",
              "      <th>7</th>\n",
              "      <th>8</th>\n",
              "      <th>9</th>\n",
              "      <th>10</th>\n",
              "      <th>11</th>\n",
              "      <th>12</th>\n",
              "      <th>13</th>\n",
              "      <th>14</th>\n",
              "      <th>15</th>\n",
              "      <th>budget</th>\n",
              "      <th>currency_for_budget</th>\n",
              "    </tr>\n",
              "  </thead>\n",
              "  <tbody>\n",
              "    <tr>\n",
              "      <th>0</th>\n",
              "      <td>Blanche Bayliss</td>\n",
              "      <td>William Courtenay</td>\n",
              "      <td>Chauncey Depew</td>\n",
              "      <td>None</td>\n",
              "      <td>None</td>\n",
              "      <td>None</td>\n",
              "      <td>None</td>\n",
              "      <td>None</td>\n",
              "      <td>None</td>\n",
              "      <td>None</td>\n",
              "      <td>None</td>\n",
              "      <td>None</td>\n",
              "      <td>None</td>\n",
              "      <td>None</td>\n",
              "      <td>None</td>\n",
              "      <td>None</td>\n",
              "      <td>0</td>\n",
              "      <td>$</td>\n",
              "    </tr>\n",
              "    <tr>\n",
              "      <th>1</th>\n",
              "      <td>Elizabeth Tait</td>\n",
              "      <td>John Tait</td>\n",
              "      <td>Norman Campbell</td>\n",
              "      <td>Bella Cola</td>\n",
              "      <td>Will Coyne</td>\n",
              "      <td>Sam Crewes</td>\n",
              "      <td>Jack Ennis</td>\n",
              "      <td>John Forde</td>\n",
              "      <td>Vera Linden</td>\n",
              "      <td>Mr. Marshall</td>\n",
              "      <td>Mr. McKenzie</td>\n",
              "      <td>Frank Mills</td>\n",
              "      <td>Ollie Wilson</td>\n",
              "      <td>None</td>\n",
              "      <td>None</td>\n",
              "      <td>None</td>\n",
              "      <td>2250</td>\n",
              "      <td>$</td>\n",
              "    </tr>\n",
              "    <tr>\n",
              "      <th>2</th>\n",
              "      <td>Asta Nielsen</td>\n",
              "      <td>Valdemar Psilander</td>\n",
              "      <td>Gunnar Helsengreen</td>\n",
              "      <td>Emil Albes</td>\n",
              "      <td>Hugo Flink</td>\n",
              "      <td>Mary Hagen</td>\n",
              "      <td>None</td>\n",
              "      <td>None</td>\n",
              "      <td>None</td>\n",
              "      <td>None</td>\n",
              "      <td>None</td>\n",
              "      <td>None</td>\n",
              "      <td>None</td>\n",
              "      <td>None</td>\n",
              "      <td>None</td>\n",
              "      <td>None</td>\n",
              "      <td>0</td>\n",
              "      <td>$</td>\n",
              "    </tr>\n",
              "    <tr>\n",
              "      <th>3</th>\n",
              "      <td>Helen Gardner</td>\n",
              "      <td>Pearl Sindelar</td>\n",
              "      <td>Miss Fielding</td>\n",
              "      <td>Miss Robson</td>\n",
              "      <td>Helene Costello</td>\n",
              "      <td>Charles Sindelar</td>\n",
              "      <td>Mr. Howard</td>\n",
              "      <td>James R. Waite</td>\n",
              "      <td>Mr. Osborne</td>\n",
              "      <td>Harry Knowles</td>\n",
              "      <td>Mr. Paul</td>\n",
              "      <td>Mr. Brady</td>\n",
              "      <td>Mr. Corker</td>\n",
              "      <td>None</td>\n",
              "      <td>None</td>\n",
              "      <td>None</td>\n",
              "      <td>45000</td>\n",
              "      <td>$</td>\n",
              "    </tr>\n",
              "    <tr>\n",
              "      <th>4</th>\n",
              "      <td>Salvatore Papa</td>\n",
              "      <td>Arturo Pirovano</td>\n",
              "      <td>Giuseppe de Liguoro</td>\n",
              "      <td>Pier Delle Vigne</td>\n",
              "      <td>Augusto Milla</td>\n",
              "      <td>Attilio Motta</td>\n",
              "      <td>Emilise Beretta</td>\n",
              "      <td>None</td>\n",
              "      <td>None</td>\n",
              "      <td>None</td>\n",
              "      <td>None</td>\n",
              "      <td>None</td>\n",
              "      <td>None</td>\n",
              "      <td>None</td>\n",
              "      <td>None</td>\n",
              "      <td>None</td>\n",
              "      <td>0</td>\n",
              "      <td>$</td>\n",
              "    </tr>\n",
              "  </tbody>\n",
              "</table>\n",
              "</div>"
            ],
            "text/plain": [
              "                 0                    1  ... budget currency_for_budget\n",
              "0  Blanche Bayliss    William Courtenay  ...      0                   $\n",
              "1   Elizabeth Tait            John Tait  ...   2250                   $\n",
              "2     Asta Nielsen   Valdemar Psilander  ...      0                   $\n",
              "3    Helen Gardner       Pearl Sindelar  ...  45000                   $\n",
              "4   Salvatore Papa      Arturo Pirovano  ...      0                   $\n",
              "\n",
              "[5 rows x 18 columns]"
            ]
          },
          "metadata": {
            "tags": []
          },
          "execution_count": 91
        }
      ]
    },
    {
      "cell_type": "code",
      "metadata": {
        "colab": {
          "base_uri": "https://localhost:8080/"
        },
        "id": "650oXtKf_HZ6",
        "outputId": "a0f84b15-5dd6-44c1-e162-b3cbfc78b475"
      },
      "source": [
        "imdb_movies_actors_budget_USD.shape"
      ],
      "execution_count": 92,
      "outputs": [
        {
          "output_type": "execute_result",
          "data": {
            "text/plain": [
              "(78747, 18)"
            ]
          },
          "metadata": {
            "tags": []
          },
          "execution_count": 92
        }
      ]
    },
    {
      "cell_type": "code",
      "metadata": {
        "colab": {
          "base_uri": "https://localhost:8080/",
          "height": 35
        },
        "id": "oiQO9CGk_jhd",
        "outputId": "bba57af6-c245-4599-a7f7-9e93e2f95c6e"
      },
      "source": [
        "imdb_movies_actors_budget_USD[1][1] # ta spacja przed imieniem zniszczyła mi piątkowy wieczór"
      ],
      "execution_count": 93,
      "outputs": [
        {
          "output_type": "execute_result",
          "data": {
            "application/vnd.google.colaboratory.intrinsic+json": {
              "type": "string"
            },
            "text/plain": [
              "' John Tait'"
            ]
          },
          "metadata": {
            "tags": []
          },
          "execution_count": 93
        }
      ]
    },
    {
      "cell_type": "code",
      "metadata": {
        "colab": {
          "base_uri": "https://localhost:8080/"
        },
        "id": "v6GqMVal_jhj",
        "outputId": "4642259a-c14e-485b-dc7e-c3b724070044"
      },
      "source": [
        "# tu usuwam spacje przed imionami we wszytskich kolumnach\r\n",
        "\r\n",
        "def remove_white_space_before(x):\r\n",
        "  if isinstance(x, str):\r\n",
        "    if x[0] == ' ':\r\n",
        "      x = x[1:]\r\n",
        "  return x\r\n",
        "\r\n",
        "for i in range(0,16):\r\n",
        "  imdb_movies_actors_budget_USD[i] = imdb_movies_actors_budget_USD[i].apply(remove_white_space_before)"
      ],
      "execution_count": 94,
      "outputs": [
        {
          "output_type": "stream",
          "text": [
            "/usr/local/lib/python3.6/dist-packages/ipykernel_launcher.py:10: SettingWithCopyWarning: \n",
            "A value is trying to be set on a copy of a slice from a DataFrame.\n",
            "Try using .loc[row_indexer,col_indexer] = value instead\n",
            "\n",
            "See the caveats in the documentation: https://pandas.pydata.org/pandas-docs/stable/user_guide/indexing.html#returning-a-view-versus-a-copy\n",
            "  # Remove the CWD from sys.path while we load stuff.\n"
          ],
          "name": "stderr"
        }
      ]
    },
    {
      "cell_type": "code",
      "metadata": {
        "colab": {
          "base_uri": "https://localhost:8080/",
          "height": 35
        },
        "id": "Bzz_r7P4_jhk",
        "outputId": "bdadb572-8d65-4eb0-9fab-c247ebeb8017"
      },
      "source": [
        "imdb_movies_actors_budget_USD[1][1] # i działa <3"
      ],
      "execution_count": 95,
      "outputs": [
        {
          "output_type": "execute_result",
          "data": {
            "application/vnd.google.colaboratory.intrinsic+json": {
              "type": "string"
            },
            "text/plain": [
              "'John Tait'"
            ]
          },
          "metadata": {
            "tags": []
          },
          "execution_count": 95
        }
      ]
    },
    {
      "cell_type": "code",
      "metadata": {
        "colab": {
          "base_uri": "https://localhost:8080/",
          "height": 419
        },
        "id": "vO8JdQQp_jhk",
        "outputId": "351a4f8b-11b8-479f-ab16-1358a2ed7d6d"
      },
      "source": [
        "actors = {}\r\n",
        "for i in range(0, 16):\r\n",
        "  actors[\"act_column{0}\".format(i)] = imdb_movies_actors_budget_USD[[i, 'budget']].groupby(i).agg(['count', 'sum'])\r\n",
        "  actors[\"act_column{0}\".format(i)].columns = actors[\"act_column{0}\".format(i)].columns.droplevel(0)\r\n",
        "  actors[\"act_column{0}\".format(i)].index.name = None\r\n",
        "\r\n",
        "actors['act_column0']"
      ],
      "execution_count": 96,
      "outputs": [
        {
          "output_type": "execute_result",
          "data": {
            "text/html": [
              "<div>\n",
              "<style scoped>\n",
              "    .dataframe tbody tr th:only-of-type {\n",
              "        vertical-align: middle;\n",
              "    }\n",
              "\n",
              "    .dataframe tbody tr th {\n",
              "        vertical-align: top;\n",
              "    }\n",
              "\n",
              "    .dataframe thead th {\n",
              "        text-align: right;\n",
              "    }\n",
              "</style>\n",
              "<table border=\"1\" class=\"dataframe\">\n",
              "  <thead>\n",
              "    <tr style=\"text-align: right;\">\n",
              "      <th></th>\n",
              "      <th>count</th>\n",
              "      <th>sum</th>\n",
              "    </tr>\n",
              "  </thead>\n",
              "  <tbody>\n",
              "    <tr>\n",
              "      <th>'Lee' George Quinones</th>\n",
              "      <td>1</td>\n",
              "      <td>0</td>\n",
              "    </tr>\n",
              "    <tr>\n",
              "      <th>'Weird Al' Yankovic</th>\n",
              "      <td>1</td>\n",
              "      <td>5000000</td>\n",
              "    </tr>\n",
              "    <tr>\n",
              "      <th>2Mex</th>\n",
              "      <td>1</td>\n",
              "      <td>0</td>\n",
              "    </tr>\n",
              "    <tr>\n",
              "      <th>50 Cent</th>\n",
              "      <td>5</td>\n",
              "      <td>88000000</td>\n",
              "    </tr>\n",
              "    <tr>\n",
              "      <th>A Martinez</th>\n",
              "      <td>1</td>\n",
              "      <td>0</td>\n",
              "    </tr>\n",
              "    <tr>\n",
              "      <th>...</th>\n",
              "      <td>...</td>\n",
              "      <td>...</td>\n",
              "    </tr>\n",
              "    <tr>\n",
              "      <th>Ümit Bülent Dinçer</th>\n",
              "      <td>1</td>\n",
              "      <td>700000</td>\n",
              "    </tr>\n",
              "    <tr>\n",
              "      <th>Þorsteinn Guðmundsson</th>\n",
              "      <td>1</td>\n",
              "      <td>1800000</td>\n",
              "    </tr>\n",
              "    <tr>\n",
              "      <th>Þröstur Leó Gunnarsson</th>\n",
              "      <td>1</td>\n",
              "      <td>0</td>\n",
              "    </tr>\n",
              "    <tr>\n",
              "      <th>Þórhallur Sigurðsson</th>\n",
              "      <td>1</td>\n",
              "      <td>0</td>\n",
              "    </tr>\n",
              "    <tr>\n",
              "      <th>Þórhallur Sverrisson</th>\n",
              "      <td>1</td>\n",
              "      <td>200000</td>\n",
              "    </tr>\n",
              "  </tbody>\n",
              "</table>\n",
              "<p>34363 rows × 2 columns</p>\n",
              "</div>"
            ],
            "text/plain": [
              "                        count       sum\n",
              "'Lee' George Quinones       1         0\n",
              "'Weird Al' Yankovic         1   5000000\n",
              "2Mex                        1         0\n",
              "50 Cent                     5  88000000\n",
              "A Martinez                  1         0\n",
              "...                       ...       ...\n",
              "Ümit Bülent Dinçer          1    700000\n",
              "Þorsteinn Guðmundsson       1   1800000\n",
              "Þröstur Leó Gunnarsson      1         0\n",
              "Þórhallur Sigurðsson        1         0\n",
              "Þórhallur Sverrisson        1    200000\n",
              "\n",
              "[34363 rows x 2 columns]"
            ]
          },
          "metadata": {
            "tags": []
          },
          "execution_count": 96
        }
      ]
    },
    {
      "cell_type": "code",
      "metadata": {
        "colab": {
          "base_uri": "https://localhost:8080/",
          "height": 419
        },
        "id": "DNq8nvTv_jhl",
        "outputId": "ed3ed268-758f-4acd-b944-6b8abe4cea96"
      },
      "source": [
        "actors_all = actors['act_column0']\r\n",
        "for i in range(1,16):\r\n",
        "  actors_all = actors_all.add(actors[\"act_column{0}\".format(i)], fill_value=0)\r\n",
        "\r\n",
        "actors_all"
      ],
      "execution_count": 97,
      "outputs": [
        {
          "output_type": "execute_result",
          "data": {
            "text/html": [
              "<div>\n",
              "<style scoped>\n",
              "    .dataframe tbody tr th:only-of-type {\n",
              "        vertical-align: middle;\n",
              "    }\n",
              "\n",
              "    .dataframe tbody tr th {\n",
              "        vertical-align: top;\n",
              "    }\n",
              "\n",
              "    .dataframe thead th {\n",
              "        text-align: right;\n",
              "    }\n",
              "</style>\n",
              "<table border=\"1\" class=\"dataframe\">\n",
              "  <thead>\n",
              "    <tr style=\"text-align: right;\">\n",
              "      <th></th>\n",
              "      <th>count</th>\n",
              "      <th>sum</th>\n",
              "    </tr>\n",
              "  </thead>\n",
              "  <tbody>\n",
              "    <tr>\n",
              "      <th>'Baby' Carmen De Rue</th>\n",
              "      <td>3.0</td>\n",
              "      <td>20000.0</td>\n",
              "    </tr>\n",
              "    <tr>\n",
              "      <th>'Bang Bang' Toto Ruta</th>\n",
              "      <td>1.0</td>\n",
              "      <td>0.0</td>\n",
              "    </tr>\n",
              "    <tr>\n",
              "      <th>'Big Al' Solomon</th>\n",
              "      <td>1.0</td>\n",
              "      <td>0.0</td>\n",
              "    </tr>\n",
              "    <tr>\n",
              "      <th>'Big Jack' Provan</th>\n",
              "      <td>1.0</td>\n",
              "      <td>100000.0</td>\n",
              "    </tr>\n",
              "    <tr>\n",
              "      <th>'Big Walter' Price</th>\n",
              "      <td>1.0</td>\n",
              "      <td>0.0</td>\n",
              "    </tr>\n",
              "    <tr>\n",
              "      <th>...</th>\n",
              "      <td>...</td>\n",
              "      <td>...</td>\n",
              "    </tr>\n",
              "    <tr>\n",
              "      <th>Þórir Gunnar Jónsson</th>\n",
              "      <td>1.0</td>\n",
              "      <td>0.0</td>\n",
              "    </tr>\n",
              "    <tr>\n",
              "      <th>Þórir Waagfjörð</th>\n",
              "      <td>1.0</td>\n",
              "      <td>0.0</td>\n",
              "    </tr>\n",
              "    <tr>\n",
              "      <th>Þórunn Antónía Magnúsdóttir</th>\n",
              "      <td>1.0</td>\n",
              "      <td>0.0</td>\n",
              "    </tr>\n",
              "    <tr>\n",
              "      <th>Þórunn Magnea Magnúsdóttir</th>\n",
              "      <td>2.0</td>\n",
              "      <td>0.0</td>\n",
              "    </tr>\n",
              "    <tr>\n",
              "      <th>Þórður Árnason</th>\n",
              "      <td>1.0</td>\n",
              "      <td>0.0</td>\n",
              "    </tr>\n",
              "  </tbody>\n",
              "</table>\n",
              "<p>388828 rows × 2 columns</p>\n",
              "</div>"
            ],
            "text/plain": [
              "                             count       sum\n",
              "'Baby' Carmen De Rue           3.0   20000.0\n",
              "'Bang Bang' Toto Ruta          1.0       0.0\n",
              "'Big Al' Solomon               1.0       0.0\n",
              "'Big Jack' Provan              1.0  100000.0\n",
              "'Big Walter' Price             1.0       0.0\n",
              "...                            ...       ...\n",
              "Þórir Gunnar Jónsson           1.0       0.0\n",
              "Þórir Waagfjörð                1.0       0.0\n",
              "Þórunn Antónía Magnúsdóttir    1.0       0.0\n",
              "Þórunn Magnea Magnúsdóttir     2.0       0.0\n",
              "Þórður Árnason                 1.0       0.0\n",
              "\n",
              "[388828 rows x 2 columns]"
            ]
          },
          "metadata": {
            "tags": []
          },
          "execution_count": 97
        }
      ]
    },
    {
      "cell_type": "code",
      "metadata": {
        "colab": {
          "base_uri": "https://localhost:8080/",
          "height": 204
        },
        "id": "65e-pWPx_jhl",
        "outputId": "c4a3d150-3340-4b26-e5ec-66abf5fd9741"
      },
      "source": [
        "actors_all['avg_budget'] = actors_all['sum']/actors_all['count']\r\n",
        "actors_all['avg_budget']=actors_all['avg_budget'].astype(int)\r\n",
        "actors_all.head()"
      ],
      "execution_count": 101,
      "outputs": [
        {
          "output_type": "execute_result",
          "data": {
            "text/html": [
              "<div>\n",
              "<style scoped>\n",
              "    .dataframe tbody tr th:only-of-type {\n",
              "        vertical-align: middle;\n",
              "    }\n",
              "\n",
              "    .dataframe tbody tr th {\n",
              "        vertical-align: top;\n",
              "    }\n",
              "\n",
              "    .dataframe thead th {\n",
              "        text-align: right;\n",
              "    }\n",
              "</style>\n",
              "<table border=\"1\" class=\"dataframe\">\n",
              "  <thead>\n",
              "    <tr style=\"text-align: right;\">\n",
              "      <th></th>\n",
              "      <th>count</th>\n",
              "      <th>sum</th>\n",
              "      <th>avg_budget</th>\n",
              "    </tr>\n",
              "  </thead>\n",
              "  <tbody>\n",
              "    <tr>\n",
              "      <th>'Baby' Carmen De Rue</th>\n",
              "      <td>3.0</td>\n",
              "      <td>20000.0</td>\n",
              "      <td>6666</td>\n",
              "    </tr>\n",
              "    <tr>\n",
              "      <th>'Bang Bang' Toto Ruta</th>\n",
              "      <td>1.0</td>\n",
              "      <td>0.0</td>\n",
              "      <td>0</td>\n",
              "    </tr>\n",
              "    <tr>\n",
              "      <th>'Big Al' Solomon</th>\n",
              "      <td>1.0</td>\n",
              "      <td>0.0</td>\n",
              "      <td>0</td>\n",
              "    </tr>\n",
              "    <tr>\n",
              "      <th>'Big Jack' Provan</th>\n",
              "      <td>1.0</td>\n",
              "      <td>100000.0</td>\n",
              "      <td>100000</td>\n",
              "    </tr>\n",
              "    <tr>\n",
              "      <th>'Big Walter' Price</th>\n",
              "      <td>1.0</td>\n",
              "      <td>0.0</td>\n",
              "      <td>0</td>\n",
              "    </tr>\n",
              "  </tbody>\n",
              "</table>\n",
              "</div>"
            ],
            "text/plain": [
              "                       count       sum  avg_budget\n",
              "'Baby' Carmen De Rue     3.0   20000.0        6666\n",
              "'Bang Bang' Toto Ruta    1.0       0.0           0\n",
              "'Big Al' Solomon         1.0       0.0           0\n",
              "'Big Jack' Provan        1.0  100000.0      100000\n",
              "'Big Walter' Price       1.0       0.0           0"
            ]
          },
          "metadata": {
            "tags": []
          },
          "execution_count": 101
        }
      ]
    },
    {
      "cell_type": "code",
      "metadata": {
        "colab": {
          "base_uri": "https://localhost:8080/",
          "height": 359
        },
        "id": "vQpExEWy_jhm",
        "outputId": "5d4674d4-dd69-44db-818b-7e54b0a189d0"
      },
      "source": [
        "# Aktorzy, którzy zagrali w więcej niż 15 filmach posortowani wg średniego budżetu filmu\r\n",
        "\r\n",
        "actors_all[actors_all['count'] > 15].sort_values(by='avg_budget', ascending=False).reset_index().head(10)"
      ],
      "execution_count": 102,
      "outputs": [
        {
          "output_type": "execute_result",
          "data": {
            "text/html": [
              "<div>\n",
              "<style scoped>\n",
              "    .dataframe tbody tr th:only-of-type {\n",
              "        vertical-align: middle;\n",
              "    }\n",
              "\n",
              "    .dataframe tbody tr th {\n",
              "        vertical-align: top;\n",
              "    }\n",
              "\n",
              "    .dataframe thead th {\n",
              "        text-align: right;\n",
              "    }\n",
              "</style>\n",
              "<table border=\"1\" class=\"dataframe\">\n",
              "  <thead>\n",
              "    <tr style=\"text-align: right;\">\n",
              "      <th></th>\n",
              "      <th>index</th>\n",
              "      <th>count</th>\n",
              "      <th>sum</th>\n",
              "      <th>avg_budget</th>\n",
              "    </tr>\n",
              "  </thead>\n",
              "  <tbody>\n",
              "    <tr>\n",
              "      <th>0</th>\n",
              "      <td>Chris Hemsworth</td>\n",
              "      <td>22.0</td>\n",
              "      <td>2.614000e+09</td>\n",
              "      <td>118818181</td>\n",
              "    </tr>\n",
              "    <tr>\n",
              "      <th>1</th>\n",
              "      <td>Tyrese Gibson</td>\n",
              "      <td>16.0</td>\n",
              "      <td>1.535800e+09</td>\n",
              "      <td>95987500</td>\n",
              "    </tr>\n",
              "    <tr>\n",
              "      <th>2</th>\n",
              "      <td>Will Smith</td>\n",
              "      <td>31.0</td>\n",
              "      <td>2.865100e+09</td>\n",
              "      <td>92422580</td>\n",
              "    </tr>\n",
              "    <tr>\n",
              "      <th>3</th>\n",
              "      <td>Tom Hiddleston</td>\n",
              "      <td>16.0</td>\n",
              "      <td>1.434000e+09</td>\n",
              "      <td>89625000</td>\n",
              "    </tr>\n",
              "    <tr>\n",
              "      <th>4</th>\n",
              "      <td>Dwayne Johnson</td>\n",
              "      <td>34.0</td>\n",
              "      <td>2.977000e+09</td>\n",
              "      <td>87558823</td>\n",
              "    </tr>\n",
              "    <tr>\n",
              "      <th>5</th>\n",
              "      <td>Karen Gillan</td>\n",
              "      <td>17.0</td>\n",
              "      <td>1.436000e+09</td>\n",
              "      <td>84470588</td>\n",
              "    </tr>\n",
              "    <tr>\n",
              "      <th>6</th>\n",
              "      <td>Paul Bettany</td>\n",
              "      <td>33.0</td>\n",
              "      <td>2.763500e+09</td>\n",
              "      <td>83742424</td>\n",
              "    </tr>\n",
              "    <tr>\n",
              "      <th>7</th>\n",
              "      <td>Hugh Jackman</td>\n",
              "      <td>29.0</td>\n",
              "      <td>2.418000e+09</td>\n",
              "      <td>83379310</td>\n",
              "    </tr>\n",
              "    <tr>\n",
              "      <th>8</th>\n",
              "      <td>Vin Diesel</td>\n",
              "      <td>25.0</td>\n",
              "      <td>2.036000e+09</td>\n",
              "      <td>81440000</td>\n",
              "    </tr>\n",
              "    <tr>\n",
              "      <th>9</th>\n",
              "      <td>T.J. Miller</td>\n",
              "      <td>20.0</td>\n",
              "      <td>1.573000e+09</td>\n",
              "      <td>78650000</td>\n",
              "    </tr>\n",
              "  </tbody>\n",
              "</table>\n",
              "</div>"
            ],
            "text/plain": [
              "             index  count           sum  avg_budget\n",
              "0  Chris Hemsworth   22.0  2.614000e+09   118818181\n",
              "1    Tyrese Gibson   16.0  1.535800e+09    95987500\n",
              "2       Will Smith   31.0  2.865100e+09    92422580\n",
              "3   Tom Hiddleston   16.0  1.434000e+09    89625000\n",
              "4   Dwayne Johnson   34.0  2.977000e+09    87558823\n",
              "5     Karen Gillan   17.0  1.436000e+09    84470588\n",
              "6     Paul Bettany   33.0  2.763500e+09    83742424\n",
              "7     Hugh Jackman   29.0  2.418000e+09    83379310\n",
              "8       Vin Diesel   25.0  2.036000e+09    81440000\n",
              "9      T.J. Miller   20.0  1.573000e+09    78650000"
            ]
          },
          "metadata": {
            "tags": []
          },
          "execution_count": 102
        }
      ]
    },
    {
      "cell_type": "code",
      "metadata": {
        "colab": {
          "base_uri": "https://localhost:8080/",
          "height": 359
        },
        "id": "u7dekbic_jhm",
        "outputId": "fc5d672b-4a06-4eb1-b285-dd9fd492da0d"
      },
      "source": [
        "# Aktorzy, którzy zagrali w więcej niż 50 filmach posortowani wg średniej oceny filmu\r\n",
        "\r\n",
        "actors_all[actors_all['count'] > 50].sort_values(by='avg_budget', ascending=False).reset_index().head(10)\r\n",
        "\r\n",
        "# Myślałam, że jakieś bardziej znane nazwiska się pojawią :D"
      ],
      "execution_count": 103,
      "outputs": [
        {
          "output_type": "execute_result",
          "data": {
            "text/html": [
              "<div>\n",
              "<style scoped>\n",
              "    .dataframe tbody tr th:only-of-type {\n",
              "        vertical-align: middle;\n",
              "    }\n",
              "\n",
              "    .dataframe tbody tr th {\n",
              "        vertical-align: top;\n",
              "    }\n",
              "\n",
              "    .dataframe thead th {\n",
              "        text-align: right;\n",
              "    }\n",
              "</style>\n",
              "<table border=\"1\" class=\"dataframe\">\n",
              "  <thead>\n",
              "    <tr style=\"text-align: right;\">\n",
              "      <th></th>\n",
              "      <th>index</th>\n",
              "      <th>count</th>\n",
              "      <th>sum</th>\n",
              "      <th>avg_budget</th>\n",
              "    </tr>\n",
              "  </thead>\n",
              "  <tbody>\n",
              "    <tr>\n",
              "      <th>0</th>\n",
              "      <td>Johnny Depp</td>\n",
              "      <td>54.0</td>\n",
              "      <td>3.663300e+09</td>\n",
              "      <td>67838888</td>\n",
              "    </tr>\n",
              "    <tr>\n",
              "      <th>1</th>\n",
              "      <td>Robert Downey Jr.</td>\n",
              "      <td>65.0</td>\n",
              "      <td>3.589500e+09</td>\n",
              "      <td>55223076</td>\n",
              "    </tr>\n",
              "    <tr>\n",
              "      <th>2</th>\n",
              "      <td>Tom Hanks</td>\n",
              "      <td>53.0</td>\n",
              "      <td>2.589050e+09</td>\n",
              "      <td>48850000</td>\n",
              "    </tr>\n",
              "    <tr>\n",
              "      <th>3</th>\n",
              "      <td>Samuel L. Jackson</td>\n",
              "      <td>100.0</td>\n",
              "      <td>4.852665e+09</td>\n",
              "      <td>48526650</td>\n",
              "    </tr>\n",
              "    <tr>\n",
              "      <th>4</th>\n",
              "      <td>Morgan Freeman</td>\n",
              "      <td>75.0</td>\n",
              "      <td>3.370900e+09</td>\n",
              "      <td>44945333</td>\n",
              "    </tr>\n",
              "    <tr>\n",
              "      <th>5</th>\n",
              "      <td>Gary Oldman</td>\n",
              "      <td>53.0</td>\n",
              "      <td>2.372800e+09</td>\n",
              "      <td>44769811</td>\n",
              "    </tr>\n",
              "    <tr>\n",
              "      <th>6</th>\n",
              "      <td>Harrison Ford</td>\n",
              "      <td>51.0</td>\n",
              "      <td>2.157577e+09</td>\n",
              "      <td>42305431</td>\n",
              "    </tr>\n",
              "    <tr>\n",
              "      <th>7</th>\n",
              "      <td>Sylvester Stallone</td>\n",
              "      <td>55.0</td>\n",
              "      <td>2.169520e+09</td>\n",
              "      <td>39445818</td>\n",
              "    </tr>\n",
              "    <tr>\n",
              "      <th>8</th>\n",
              "      <td>Ewan McGregor</td>\n",
              "      <td>53.0</td>\n",
              "      <td>2.060400e+09</td>\n",
              "      <td>38875471</td>\n",
              "    </tr>\n",
              "    <tr>\n",
              "      <th>9</th>\n",
              "      <td>Woody Harrelson</td>\n",
              "      <td>64.0</td>\n",
              "      <td>2.487700e+09</td>\n",
              "      <td>38870312</td>\n",
              "    </tr>\n",
              "  </tbody>\n",
              "</table>\n",
              "</div>"
            ],
            "text/plain": [
              "                index  count           sum  avg_budget\n",
              "0         Johnny Depp   54.0  3.663300e+09    67838888\n",
              "1   Robert Downey Jr.   65.0  3.589500e+09    55223076\n",
              "2           Tom Hanks   53.0  2.589050e+09    48850000\n",
              "3   Samuel L. Jackson  100.0  4.852665e+09    48526650\n",
              "4      Morgan Freeman   75.0  3.370900e+09    44945333\n",
              "5         Gary Oldman   53.0  2.372800e+09    44769811\n",
              "6       Harrison Ford   51.0  2.157577e+09    42305431\n",
              "7  Sylvester Stallone   55.0  2.169520e+09    39445818\n",
              "8       Ewan McGregor   53.0  2.060400e+09    38875471\n",
              "9     Woody Harrelson   64.0  2.487700e+09    38870312"
            ]
          },
          "metadata": {
            "tags": []
          },
          "execution_count": 103
        }
      ]
    },
    {
      "cell_type": "code",
      "metadata": {
        "colab": {
          "base_uri": "https://localhost:8080/",
          "height": 359
        },
        "id": "BKr0tuwt_jhn",
        "outputId": "ed072037-7621-4ea6-82f0-75fb7029446f"
      },
      "source": [
        "# Aktorzy, którzy zagrali w większej liczbie filmów\r\n",
        "\r\n",
        "actors_all.sort_values(by='count', ascending=False).reset_index().head(10)"
      ],
      "execution_count": 104,
      "outputs": [
        {
          "output_type": "execute_result",
          "data": {
            "text/html": [
              "<div>\n",
              "<style scoped>\n",
              "    .dataframe tbody tr th:only-of-type {\n",
              "        vertical-align: middle;\n",
              "    }\n",
              "\n",
              "    .dataframe tbody tr th {\n",
              "        vertical-align: top;\n",
              "    }\n",
              "\n",
              "    .dataframe thead th {\n",
              "        text-align: right;\n",
              "    }\n",
              "</style>\n",
              "<table border=\"1\" class=\"dataframe\">\n",
              "  <thead>\n",
              "    <tr style=\"text-align: right;\">\n",
              "      <th></th>\n",
              "      <th>index</th>\n",
              "      <th>count</th>\n",
              "      <th>sum</th>\n",
              "      <th>avg_budget</th>\n",
              "    </tr>\n",
              "  </thead>\n",
              "  <tbody>\n",
              "    <tr>\n",
              "      <th>0</th>\n",
              "      <td>Brahmanandam</td>\n",
              "      <td>239.0</td>\n",
              "      <td>18200000.0</td>\n",
              "      <td>76150</td>\n",
              "    </tr>\n",
              "    <tr>\n",
              "      <th>1</th>\n",
              "      <td>Eric Roberts</td>\n",
              "      <td>202.0</td>\n",
              "      <td>707350000.0</td>\n",
              "      <td>3501732</td>\n",
              "    </tr>\n",
              "    <tr>\n",
              "      <th>2</th>\n",
              "      <td>Anupam Kher</td>\n",
              "      <td>194.0</td>\n",
              "      <td>97577600.0</td>\n",
              "      <td>502977</td>\n",
              "    </tr>\n",
              "    <tr>\n",
              "      <th>3</th>\n",
              "      <td>John Carradine</td>\n",
              "      <td>162.0</td>\n",
              "      <td>117255612.0</td>\n",
              "      <td>723800</td>\n",
              "    </tr>\n",
              "    <tr>\n",
              "      <th>4</th>\n",
              "      <td>Nassar</td>\n",
              "      <td>158.0</td>\n",
              "      <td>40616148.0</td>\n",
              "      <td>257064</td>\n",
              "    </tr>\n",
              "    <tr>\n",
              "      <th>5</th>\n",
              "      <td>Amitabh Bachchan</td>\n",
              "      <td>155.0</td>\n",
              "      <td>146100000.0</td>\n",
              "      <td>942580</td>\n",
              "    </tr>\n",
              "    <tr>\n",
              "      <th>6</th>\n",
              "      <td>Mohanlal</td>\n",
              "      <td>153.0</td>\n",
              "      <td>0.0</td>\n",
              "      <td>0</td>\n",
              "    </tr>\n",
              "    <tr>\n",
              "      <th>7</th>\n",
              "      <td>Gulshan Grover</td>\n",
              "      <td>151.0</td>\n",
              "      <td>22750000.0</td>\n",
              "      <td>150662</td>\n",
              "    </tr>\n",
              "    <tr>\n",
              "      <th>8</th>\n",
              "      <td>Prakash Raj</td>\n",
              "      <td>146.0</td>\n",
              "      <td>30921993.0</td>\n",
              "      <td>211794</td>\n",
              "    </tr>\n",
              "    <tr>\n",
              "      <th>9</th>\n",
              "      <td>Michael Madsen</td>\n",
              "      <td>141.0</td>\n",
              "      <td>778150000.0</td>\n",
              "      <td>5518794</td>\n",
              "    </tr>\n",
              "  </tbody>\n",
              "</table>\n",
              "</div>"
            ],
            "text/plain": [
              "              index  count          sum  avg_budget\n",
              "0      Brahmanandam  239.0   18200000.0       76150\n",
              "1      Eric Roberts  202.0  707350000.0     3501732\n",
              "2       Anupam Kher  194.0   97577600.0      502977\n",
              "3    John Carradine  162.0  117255612.0      723800\n",
              "4            Nassar  158.0   40616148.0      257064\n",
              "5  Amitabh Bachchan  155.0  146100000.0      942580\n",
              "6          Mohanlal  153.0          0.0           0\n",
              "7    Gulshan Grover  151.0   22750000.0      150662\n",
              "8       Prakash Raj  146.0   30921993.0      211794\n",
              "9    Michael Madsen  141.0  778150000.0     5518794"
            ]
          },
          "metadata": {
            "tags": []
          },
          "execution_count": 104
        }
      ]
    },
    {
      "cell_type": "markdown",
      "metadata": {
        "id": "t3x1ryQJCGte"
      },
      "source": [
        "##Aktorzy - dane o dochodach z filmów na świecie-dla dochodów w USD"
      ]
    },
    {
      "cell_type": "code",
      "metadata": {
        "colab": {
          "base_uri": "https://localhost:8080/",
          "height": 343
        },
        "id": "KoJ3NMqCCgDl",
        "outputId": "a1c56422-c183-4311-9618-63b16196d1c7"
      },
      "source": [
        "imdb_movies_actors_income_worldwide = imdb_movies.actors.str.split(pat=',', expand=True)\r\n",
        "imdb_movies_actors_income_worldwide['worlwide_gross_income'] = imdb_movies['worlwide_gross_income']\r\n",
        "imdb_movies_actors_income_worldwide['currency_for_wwincome']=imdb_movies['currency_for_wwincome']\r\n",
        "#nowa df z danymi gdzie dochód w dolarach\r\n",
        "imdb_movies_actors_income_worldwide_USD = imdb_movies_actors_income_worldwide[imdb_movies_actors_income_worldwide['currency_for_wwincome']=='$']\r\n",
        "imdb_movies_actors_income_worldwide_USD.head()"
      ],
      "execution_count": 113,
      "outputs": [
        {
          "output_type": "execute_result",
          "data": {
            "text/html": [
              "<div>\n",
              "<style scoped>\n",
              "    .dataframe tbody tr th:only-of-type {\n",
              "        vertical-align: middle;\n",
              "    }\n",
              "\n",
              "    .dataframe tbody tr th {\n",
              "        vertical-align: top;\n",
              "    }\n",
              "\n",
              "    .dataframe thead th {\n",
              "        text-align: right;\n",
              "    }\n",
              "</style>\n",
              "<table border=\"1\" class=\"dataframe\">\n",
              "  <thead>\n",
              "    <tr style=\"text-align: right;\">\n",
              "      <th></th>\n",
              "      <th>0</th>\n",
              "      <th>1</th>\n",
              "      <th>2</th>\n",
              "      <th>3</th>\n",
              "      <th>4</th>\n",
              "      <th>5</th>\n",
              "      <th>6</th>\n",
              "      <th>7</th>\n",
              "      <th>8</th>\n",
              "      <th>9</th>\n",
              "      <th>10</th>\n",
              "      <th>11</th>\n",
              "      <th>12</th>\n",
              "      <th>13</th>\n",
              "      <th>14</th>\n",
              "      <th>15</th>\n",
              "      <th>worlwide_gross_income</th>\n",
              "      <th>currency_for_wwincome</th>\n",
              "    </tr>\n",
              "  </thead>\n",
              "  <tbody>\n",
              "    <tr>\n",
              "      <th>0</th>\n",
              "      <td>Blanche Bayliss</td>\n",
              "      <td>William Courtenay</td>\n",
              "      <td>Chauncey Depew</td>\n",
              "      <td>None</td>\n",
              "      <td>None</td>\n",
              "      <td>None</td>\n",
              "      <td>None</td>\n",
              "      <td>None</td>\n",
              "      <td>None</td>\n",
              "      <td>None</td>\n",
              "      <td>None</td>\n",
              "      <td>None</td>\n",
              "      <td>None</td>\n",
              "      <td>None</td>\n",
              "      <td>None</td>\n",
              "      <td>None</td>\n",
              "      <td>0</td>\n",
              "      <td>$</td>\n",
              "    </tr>\n",
              "    <tr>\n",
              "      <th>1</th>\n",
              "      <td>Elizabeth Tait</td>\n",
              "      <td>John Tait</td>\n",
              "      <td>Norman Campbell</td>\n",
              "      <td>Bella Cola</td>\n",
              "      <td>Will Coyne</td>\n",
              "      <td>Sam Crewes</td>\n",
              "      <td>Jack Ennis</td>\n",
              "      <td>John Forde</td>\n",
              "      <td>Vera Linden</td>\n",
              "      <td>Mr. Marshall</td>\n",
              "      <td>Mr. McKenzie</td>\n",
              "      <td>Frank Mills</td>\n",
              "      <td>Ollie Wilson</td>\n",
              "      <td>None</td>\n",
              "      <td>None</td>\n",
              "      <td>None</td>\n",
              "      <td>0</td>\n",
              "      <td>$</td>\n",
              "    </tr>\n",
              "    <tr>\n",
              "      <th>2</th>\n",
              "      <td>Asta Nielsen</td>\n",
              "      <td>Valdemar Psilander</td>\n",
              "      <td>Gunnar Helsengreen</td>\n",
              "      <td>Emil Albes</td>\n",
              "      <td>Hugo Flink</td>\n",
              "      <td>Mary Hagen</td>\n",
              "      <td>None</td>\n",
              "      <td>None</td>\n",
              "      <td>None</td>\n",
              "      <td>None</td>\n",
              "      <td>None</td>\n",
              "      <td>None</td>\n",
              "      <td>None</td>\n",
              "      <td>None</td>\n",
              "      <td>None</td>\n",
              "      <td>None</td>\n",
              "      <td>0</td>\n",
              "      <td>$</td>\n",
              "    </tr>\n",
              "    <tr>\n",
              "      <th>3</th>\n",
              "      <td>Helen Gardner</td>\n",
              "      <td>Pearl Sindelar</td>\n",
              "      <td>Miss Fielding</td>\n",
              "      <td>Miss Robson</td>\n",
              "      <td>Helene Costello</td>\n",
              "      <td>Charles Sindelar</td>\n",
              "      <td>Mr. Howard</td>\n",
              "      <td>James R. Waite</td>\n",
              "      <td>Mr. Osborne</td>\n",
              "      <td>Harry Knowles</td>\n",
              "      <td>Mr. Paul</td>\n",
              "      <td>Mr. Brady</td>\n",
              "      <td>Mr. Corker</td>\n",
              "      <td>None</td>\n",
              "      <td>None</td>\n",
              "      <td>None</td>\n",
              "      <td>0</td>\n",
              "      <td>$</td>\n",
              "    </tr>\n",
              "    <tr>\n",
              "      <th>4</th>\n",
              "      <td>Salvatore Papa</td>\n",
              "      <td>Arturo Pirovano</td>\n",
              "      <td>Giuseppe de Liguoro</td>\n",
              "      <td>Pier Delle Vigne</td>\n",
              "      <td>Augusto Milla</td>\n",
              "      <td>Attilio Motta</td>\n",
              "      <td>Emilise Beretta</td>\n",
              "      <td>None</td>\n",
              "      <td>None</td>\n",
              "      <td>None</td>\n",
              "      <td>None</td>\n",
              "      <td>None</td>\n",
              "      <td>None</td>\n",
              "      <td>None</td>\n",
              "      <td>None</td>\n",
              "      <td>None</td>\n",
              "      <td>0</td>\n",
              "      <td>$</td>\n",
              "    </tr>\n",
              "  </tbody>\n",
              "</table>\n",
              "</div>"
            ],
            "text/plain": [
              "                 0  ... currency_for_wwincome\n",
              "0  Blanche Bayliss  ...                     $\n",
              "1   Elizabeth Tait  ...                     $\n",
              "2     Asta Nielsen  ...                     $\n",
              "3    Helen Gardner  ...                     $\n",
              "4   Salvatore Papa  ...                     $\n",
              "\n",
              "[5 rows x 18 columns]"
            ]
          },
          "metadata": {
            "tags": []
          },
          "execution_count": 113
        }
      ]
    },
    {
      "cell_type": "code",
      "metadata": {
        "colab": {
          "base_uri": "https://localhost:8080/"
        },
        "id": "0RRCaXi2CgD1",
        "outputId": "6e47037c-10d5-4689-fb99-b6e59036ce0d"
      },
      "source": [
        "imdb_movies_actors_income_worldwide_USD.shape"
      ],
      "execution_count": 114,
      "outputs": [
        {
          "output_type": "execute_result",
          "data": {
            "text/plain": [
              "(85794, 18)"
            ]
          },
          "metadata": {
            "tags": []
          },
          "execution_count": 114
        }
      ]
    },
    {
      "cell_type": "code",
      "metadata": {
        "colab": {
          "base_uri": "https://localhost:8080/",
          "height": 35
        },
        "id": "EHjPLLSUCgD1",
        "outputId": "c3f53aff-c655-4286-8195-d0b7e1866126"
      },
      "source": [
        "imdb_movies_actors_income_worldwide_USD[1][1] # ta spacja przed imieniem zniszczyła mi piątkowy wieczór"
      ],
      "execution_count": 115,
      "outputs": [
        {
          "output_type": "execute_result",
          "data": {
            "application/vnd.google.colaboratory.intrinsic+json": {
              "type": "string"
            },
            "text/plain": [
              "' John Tait'"
            ]
          },
          "metadata": {
            "tags": []
          },
          "execution_count": 115
        }
      ]
    },
    {
      "cell_type": "code",
      "metadata": {
        "colab": {
          "base_uri": "https://localhost:8080/"
        },
        "id": "ycjKvrtyCgD2",
        "outputId": "00812c44-cfce-4775-8f45-950e67889698"
      },
      "source": [
        "# tu usuwam spacje przed imionami we wszytskich kolumnach\r\n",
        "\r\n",
        "def remove_white_space_before(x):\r\n",
        "  if isinstance(x, str):\r\n",
        "    if x[0] == ' ':\r\n",
        "      x = x[1:]\r\n",
        "  return x\r\n",
        "\r\n",
        "for i in range(0,16):\r\n",
        "  imdb_movies_actors_income_worldwide_USD[i] = imdb_movies_actors_income_worldwide_USD[i].apply(remove_white_space_before)"
      ],
      "execution_count": 117,
      "outputs": [
        {
          "output_type": "stream",
          "text": [
            "/usr/local/lib/python3.6/dist-packages/ipykernel_launcher.py:10: SettingWithCopyWarning: \n",
            "A value is trying to be set on a copy of a slice from a DataFrame.\n",
            "Try using .loc[row_indexer,col_indexer] = value instead\n",
            "\n",
            "See the caveats in the documentation: https://pandas.pydata.org/pandas-docs/stable/user_guide/indexing.html#returning-a-view-versus-a-copy\n",
            "  # Remove the CWD from sys.path while we load stuff.\n"
          ],
          "name": "stderr"
        }
      ]
    },
    {
      "cell_type": "code",
      "metadata": {
        "colab": {
          "base_uri": "https://localhost:8080/",
          "height": 35
        },
        "id": "_pbgIX22CgD2",
        "outputId": "1551a516-b3de-4ff7-bc15-62e4c081fb96"
      },
      "source": [
        "imdb_movies_actors_income_worldwide_USD[1][1] # i działa <3"
      ],
      "execution_count": 118,
      "outputs": [
        {
          "output_type": "execute_result",
          "data": {
            "application/vnd.google.colaboratory.intrinsic+json": {
              "type": "string"
            },
            "text/plain": [
              "'John Tait'"
            ]
          },
          "metadata": {
            "tags": []
          },
          "execution_count": 118
        }
      ]
    },
    {
      "cell_type": "code",
      "metadata": {
        "colab": {
          "base_uri": "https://localhost:8080/",
          "height": 419
        },
        "id": "nNOpcC5ICgD3",
        "outputId": "60b3eeae-3bea-404e-d316-2bad6c8e8bf7"
      },
      "source": [
        "actors = {}\r\n",
        "for i in range(0, 16):\r\n",
        "  actors[\"act_column{0}\".format(i)] = imdb_movies_actors_income_worldwide_USD[[i, 'worlwide_gross_income']].groupby(i).agg(['count', 'sum'])\r\n",
        "  actors[\"act_column{0}\".format(i)].columns = actors[\"act_column{0}\".format(i)].columns.droplevel(0)\r\n",
        "  actors[\"act_column{0}\".format(i)].index.name = None\r\n",
        "\r\n",
        "actors['act_column0']"
      ],
      "execution_count": 119,
      "outputs": [
        {
          "output_type": "execute_result",
          "data": {
            "text/html": [
              "<div>\n",
              "<style scoped>\n",
              "    .dataframe tbody tr th:only-of-type {\n",
              "        vertical-align: middle;\n",
              "    }\n",
              "\n",
              "    .dataframe tbody tr th {\n",
              "        vertical-align: top;\n",
              "    }\n",
              "\n",
              "    .dataframe thead th {\n",
              "        text-align: right;\n",
              "    }\n",
              "</style>\n",
              "<table border=\"1\" class=\"dataframe\">\n",
              "  <thead>\n",
              "    <tr style=\"text-align: right;\">\n",
              "      <th></th>\n",
              "      <th>count</th>\n",
              "      <th>sum</th>\n",
              "    </tr>\n",
              "  </thead>\n",
              "  <tbody>\n",
              "    <tr>\n",
              "      <th>'Lee' George Quinones</th>\n",
              "      <td>1</td>\n",
              "      <td>4948</td>\n",
              "    </tr>\n",
              "    <tr>\n",
              "      <th>'Weird Al' Yankovic</th>\n",
              "      <td>1</td>\n",
              "      <td>6157157</td>\n",
              "    </tr>\n",
              "    <tr>\n",
              "      <th>2Mex</th>\n",
              "      <td>1</td>\n",
              "      <td>0</td>\n",
              "    </tr>\n",
              "    <tr>\n",
              "      <th>50 Cent</th>\n",
              "      <td>5</td>\n",
              "      <td>49160787</td>\n",
              "    </tr>\n",
              "    <tr>\n",
              "      <th>A Martinez</th>\n",
              "      <td>1</td>\n",
              "      <td>283747</td>\n",
              "    </tr>\n",
              "    <tr>\n",
              "      <th>...</th>\n",
              "      <td>...</td>\n",
              "      <td>...</td>\n",
              "    </tr>\n",
              "    <tr>\n",
              "      <th>Ümit Bülent Dinçer</th>\n",
              "      <td>1</td>\n",
              "      <td>3853240</td>\n",
              "    </tr>\n",
              "    <tr>\n",
              "      <th>Þorsteinn Guðmundsson</th>\n",
              "      <td>1</td>\n",
              "      <td>261779</td>\n",
              "    </tr>\n",
              "    <tr>\n",
              "      <th>Þröstur Leó Gunnarsson</th>\n",
              "      <td>1</td>\n",
              "      <td>0</td>\n",
              "    </tr>\n",
              "    <tr>\n",
              "      <th>Þórhallur Sigurðsson</th>\n",
              "      <td>1</td>\n",
              "      <td>325032</td>\n",
              "    </tr>\n",
              "    <tr>\n",
              "      <th>Þórhallur Sverrisson</th>\n",
              "      <td>1</td>\n",
              "      <td>308626</td>\n",
              "    </tr>\n",
              "  </tbody>\n",
              "</table>\n",
              "<p>34359 rows × 2 columns</p>\n",
              "</div>"
            ],
            "text/plain": [
              "                        count       sum\n",
              "'Lee' George Quinones       1      4948\n",
              "'Weird Al' Yankovic         1   6157157\n",
              "2Mex                        1         0\n",
              "50 Cent                     5  49160787\n",
              "A Martinez                  1    283747\n",
              "...                       ...       ...\n",
              "Ümit Bülent Dinçer          1   3853240\n",
              "Þorsteinn Guðmundsson       1    261779\n",
              "Þröstur Leó Gunnarsson      1         0\n",
              "Þórhallur Sigurðsson        1    325032\n",
              "Þórhallur Sverrisson        1    308626\n",
              "\n",
              "[34359 rows x 2 columns]"
            ]
          },
          "metadata": {
            "tags": []
          },
          "execution_count": 119
        }
      ]
    },
    {
      "cell_type": "code",
      "metadata": {
        "colab": {
          "base_uri": "https://localhost:8080/",
          "height": 419
        },
        "id": "1G6IztRYCgD3",
        "outputId": "881293f5-e7a2-402a-bbdb-7cb704604f5b"
      },
      "source": [
        "actors_all = actors['act_column0']\r\n",
        "for i in range(1,16):\r\n",
        "  actors_all = actors_all.add(actors[\"act_column{0}\".format(i)], fill_value=0)\r\n",
        "\r\n",
        "actors_all"
      ],
      "execution_count": 120,
      "outputs": [
        {
          "output_type": "execute_result",
          "data": {
            "text/html": [
              "<div>\n",
              "<style scoped>\n",
              "    .dataframe tbody tr th:only-of-type {\n",
              "        vertical-align: middle;\n",
              "    }\n",
              "\n",
              "    .dataframe tbody tr th {\n",
              "        vertical-align: top;\n",
              "    }\n",
              "\n",
              "    .dataframe thead th {\n",
              "        text-align: right;\n",
              "    }\n",
              "</style>\n",
              "<table border=\"1\" class=\"dataframe\">\n",
              "  <thead>\n",
              "    <tr style=\"text-align: right;\">\n",
              "      <th></th>\n",
              "      <th>count</th>\n",
              "      <th>sum</th>\n",
              "    </tr>\n",
              "  </thead>\n",
              "  <tbody>\n",
              "    <tr>\n",
              "      <th>'Baby' Carmen De Rue</th>\n",
              "      <td>3.0</td>\n",
              "      <td>0.0</td>\n",
              "    </tr>\n",
              "    <tr>\n",
              "      <th>'Bang Bang' Toto Ruta</th>\n",
              "      <td>1.0</td>\n",
              "      <td>0.0</td>\n",
              "    </tr>\n",
              "    <tr>\n",
              "      <th>'Big Al' Solomon</th>\n",
              "      <td>1.0</td>\n",
              "      <td>0.0</td>\n",
              "    </tr>\n",
              "    <tr>\n",
              "      <th>'Big Jack' Provan</th>\n",
              "      <td>1.0</td>\n",
              "      <td>0.0</td>\n",
              "    </tr>\n",
              "    <tr>\n",
              "      <th>'Big Walter' Price</th>\n",
              "      <td>1.0</td>\n",
              "      <td>0.0</td>\n",
              "    </tr>\n",
              "    <tr>\n",
              "      <th>...</th>\n",
              "      <td>...</td>\n",
              "      <td>...</td>\n",
              "    </tr>\n",
              "    <tr>\n",
              "      <th>Þórir Gunnar Jónsson</th>\n",
              "      <td>1.0</td>\n",
              "      <td>176401.0</td>\n",
              "    </tr>\n",
              "    <tr>\n",
              "      <th>Þórir Waagfjörð</th>\n",
              "      <td>1.0</td>\n",
              "      <td>0.0</td>\n",
              "    </tr>\n",
              "    <tr>\n",
              "      <th>Þórunn Antónía Magnúsdóttir</th>\n",
              "      <td>1.0</td>\n",
              "      <td>125366.0</td>\n",
              "    </tr>\n",
              "    <tr>\n",
              "      <th>Þórunn Magnea Magnúsdóttir</th>\n",
              "      <td>2.0</td>\n",
              "      <td>74709.0</td>\n",
              "    </tr>\n",
              "    <tr>\n",
              "      <th>Þórður Árnason</th>\n",
              "      <td>1.0</td>\n",
              "      <td>0.0</td>\n",
              "    </tr>\n",
              "  </tbody>\n",
              "</table>\n",
              "<p>388745 rows × 2 columns</p>\n",
              "</div>"
            ],
            "text/plain": [
              "                             count       sum\n",
              "'Baby' Carmen De Rue           3.0       0.0\n",
              "'Bang Bang' Toto Ruta          1.0       0.0\n",
              "'Big Al' Solomon               1.0       0.0\n",
              "'Big Jack' Provan              1.0       0.0\n",
              "'Big Walter' Price             1.0       0.0\n",
              "...                            ...       ...\n",
              "Þórir Gunnar Jónsson           1.0  176401.0\n",
              "Þórir Waagfjörð                1.0       0.0\n",
              "Þórunn Antónía Magnúsdóttir    1.0  125366.0\n",
              "Þórunn Magnea Magnúsdóttir     2.0   74709.0\n",
              "Þórður Árnason                 1.0       0.0\n",
              "\n",
              "[388745 rows x 2 columns]"
            ]
          },
          "metadata": {
            "tags": []
          },
          "execution_count": 120
        }
      ]
    },
    {
      "cell_type": "code",
      "metadata": {
        "colab": {
          "base_uri": "https://localhost:8080/",
          "height": 204
        },
        "id": "I-F_F3N0CgD3",
        "outputId": "9c9ec337-6974-4816-bd75-a8e5ec5bffe0"
      },
      "source": [
        "actors_all['avg_income'] = actors_all['sum']/actors_all['count']\r\n",
        "actors_all['avg_income']=actors_all['avg_income'].astype(int)\r\n",
        "actors_all.head()"
      ],
      "execution_count": 121,
      "outputs": [
        {
          "output_type": "execute_result",
          "data": {
            "text/html": [
              "<div>\n",
              "<style scoped>\n",
              "    .dataframe tbody tr th:only-of-type {\n",
              "        vertical-align: middle;\n",
              "    }\n",
              "\n",
              "    .dataframe tbody tr th {\n",
              "        vertical-align: top;\n",
              "    }\n",
              "\n",
              "    .dataframe thead th {\n",
              "        text-align: right;\n",
              "    }\n",
              "</style>\n",
              "<table border=\"1\" class=\"dataframe\">\n",
              "  <thead>\n",
              "    <tr style=\"text-align: right;\">\n",
              "      <th></th>\n",
              "      <th>count</th>\n",
              "      <th>sum</th>\n",
              "      <th>avg_income</th>\n",
              "    </tr>\n",
              "  </thead>\n",
              "  <tbody>\n",
              "    <tr>\n",
              "      <th>'Baby' Carmen De Rue</th>\n",
              "      <td>3.0</td>\n",
              "      <td>0.0</td>\n",
              "      <td>0</td>\n",
              "    </tr>\n",
              "    <tr>\n",
              "      <th>'Bang Bang' Toto Ruta</th>\n",
              "      <td>1.0</td>\n",
              "      <td>0.0</td>\n",
              "      <td>0</td>\n",
              "    </tr>\n",
              "    <tr>\n",
              "      <th>'Big Al' Solomon</th>\n",
              "      <td>1.0</td>\n",
              "      <td>0.0</td>\n",
              "      <td>0</td>\n",
              "    </tr>\n",
              "    <tr>\n",
              "      <th>'Big Jack' Provan</th>\n",
              "      <td>1.0</td>\n",
              "      <td>0.0</td>\n",
              "      <td>0</td>\n",
              "    </tr>\n",
              "    <tr>\n",
              "      <th>'Big Walter' Price</th>\n",
              "      <td>1.0</td>\n",
              "      <td>0.0</td>\n",
              "      <td>0</td>\n",
              "    </tr>\n",
              "  </tbody>\n",
              "</table>\n",
              "</div>"
            ],
            "text/plain": [
              "                       count  sum  avg_income\n",
              "'Baby' Carmen De Rue     3.0  0.0           0\n",
              "'Bang Bang' Toto Ruta    1.0  0.0           0\n",
              "'Big Al' Solomon         1.0  0.0           0\n",
              "'Big Jack' Provan        1.0  0.0           0\n",
              "'Big Walter' Price       1.0  0.0           0"
            ]
          },
          "metadata": {
            "tags": []
          },
          "execution_count": 121
        }
      ]
    },
    {
      "cell_type": "code",
      "metadata": {
        "colab": {
          "base_uri": "https://localhost:8080/",
          "height": 359
        },
        "id": "Ir_rMhFqCgD4",
        "outputId": "c7c420a0-9af0-407a-a647-4be8e820f42e"
      },
      "source": [
        "# Aktorzy, którzy zagrali w więcej niż 15 filmach posortowani wg średniego budżetu filmu\r\n",
        "\r\n",
        "actors_all[actors_all['count'] > 15].sort_values(by='avg_income', ascending=False).reset_index().head(10)"
      ],
      "execution_count": 122,
      "outputs": [
        {
          "output_type": "execute_result",
          "data": {
            "text/html": [
              "<div>\n",
              "<style scoped>\n",
              "    .dataframe tbody tr th:only-of-type {\n",
              "        vertical-align: middle;\n",
              "    }\n",
              "\n",
              "    .dataframe tbody tr th {\n",
              "        vertical-align: top;\n",
              "    }\n",
              "\n",
              "    .dataframe thead th {\n",
              "        text-align: right;\n",
              "    }\n",
              "</style>\n",
              "<table border=\"1\" class=\"dataframe\">\n",
              "  <thead>\n",
              "    <tr style=\"text-align: right;\">\n",
              "      <th></th>\n",
              "      <th>index</th>\n",
              "      <th>count</th>\n",
              "      <th>sum</th>\n",
              "      <th>avg_income</th>\n",
              "    </tr>\n",
              "  </thead>\n",
              "  <tbody>\n",
              "    <tr>\n",
              "      <th>0</th>\n",
              "      <td>Chris Hemsworth</td>\n",
              "      <td>22.0</td>\n",
              "      <td>1.147803e+10</td>\n",
              "      <td>521728681</td>\n",
              "    </tr>\n",
              "    <tr>\n",
              "      <th>1</th>\n",
              "      <td>Karen Gillan</td>\n",
              "      <td>17.0</td>\n",
              "      <td>8.466564e+09</td>\n",
              "      <td>498033177</td>\n",
              "    </tr>\n",
              "    <tr>\n",
              "      <th>2</th>\n",
              "      <td>Tyrese Gibson</td>\n",
              "      <td>16.0</td>\n",
              "      <td>7.416835e+09</td>\n",
              "      <td>463552206</td>\n",
              "    </tr>\n",
              "    <tr>\n",
              "      <th>3</th>\n",
              "      <td>Tom Hiddleston</td>\n",
              "      <td>16.0</td>\n",
              "      <td>6.559910e+09</td>\n",
              "      <td>409994397</td>\n",
              "    </tr>\n",
              "    <tr>\n",
              "      <th>4</th>\n",
              "      <td>Tom Holland</td>\n",
              "      <td>22.0</td>\n",
              "      <td>8.907176e+09</td>\n",
              "      <td>404871652</td>\n",
              "    </tr>\n",
              "    <tr>\n",
              "      <th>5</th>\n",
              "      <td>Chris Evans</td>\n",
              "      <td>29.0</td>\n",
              "      <td>1.144259e+10</td>\n",
              "      <td>394572105</td>\n",
              "    </tr>\n",
              "    <tr>\n",
              "      <th>6</th>\n",
              "      <td>Benedict Cumberbatch</td>\n",
              "      <td>24.0</td>\n",
              "      <td>8.587571e+09</td>\n",
              "      <td>357815477</td>\n",
              "    </tr>\n",
              "    <tr>\n",
              "      <th>7</th>\n",
              "      <td>Dwayne Johnson</td>\n",
              "      <td>34.0</td>\n",
              "      <td>1.193922e+10</td>\n",
              "      <td>351153519</td>\n",
              "    </tr>\n",
              "    <tr>\n",
              "      <th>8</th>\n",
              "      <td>Don Cheadle</td>\n",
              "      <td>31.0</td>\n",
              "      <td>1.070395e+10</td>\n",
              "      <td>345288554</td>\n",
              "    </tr>\n",
              "    <tr>\n",
              "      <th>9</th>\n",
              "      <td>Domhnall Gleeson</td>\n",
              "      <td>22.0</td>\n",
              "      <td>7.460717e+09</td>\n",
              "      <td>339123482</td>\n",
              "    </tr>\n",
              "  </tbody>\n",
              "</table>\n",
              "</div>"
            ],
            "text/plain": [
              "                  index  count           sum  avg_income\n",
              "0       Chris Hemsworth   22.0  1.147803e+10   521728681\n",
              "1          Karen Gillan   17.0  8.466564e+09   498033177\n",
              "2         Tyrese Gibson   16.0  7.416835e+09   463552206\n",
              "3        Tom Hiddleston   16.0  6.559910e+09   409994397\n",
              "4           Tom Holland   22.0  8.907176e+09   404871652\n",
              "5           Chris Evans   29.0  1.144259e+10   394572105\n",
              "6  Benedict Cumberbatch   24.0  8.587571e+09   357815477\n",
              "7        Dwayne Johnson   34.0  1.193922e+10   351153519\n",
              "8           Don Cheadle   31.0  1.070395e+10   345288554\n",
              "9      Domhnall Gleeson   22.0  7.460717e+09   339123482"
            ]
          },
          "metadata": {
            "tags": []
          },
          "execution_count": 122
        }
      ]
    },
    {
      "cell_type": "code",
      "metadata": {
        "colab": {
          "base_uri": "https://localhost:8080/",
          "height": 359
        },
        "id": "Ry6_Y_I_CgD4",
        "outputId": "3185a285-1aa2-4b16-c04a-257d8c52e76b"
      },
      "source": [
        "# Aktorzy, którzy zagrali w więcej niż 50 filmach posortowani wg średniego dochodu światowego z filmu\r\n",
        "\r\n",
        "actors_all[actors_all['count'] > 50].sort_values(by='avg_income', ascending=False).reset_index().head(10)\r\n"
      ],
      "execution_count": 125,
      "outputs": [
        {
          "output_type": "execute_result",
          "data": {
            "text/html": [
              "<div>\n",
              "<style scoped>\n",
              "    .dataframe tbody tr th:only-of-type {\n",
              "        vertical-align: middle;\n",
              "    }\n",
              "\n",
              "    .dataframe tbody tr th {\n",
              "        vertical-align: top;\n",
              "    }\n",
              "\n",
              "    .dataframe thead th {\n",
              "        text-align: right;\n",
              "    }\n",
              "</style>\n",
              "<table border=\"1\" class=\"dataframe\">\n",
              "  <thead>\n",
              "    <tr style=\"text-align: right;\">\n",
              "      <th></th>\n",
              "      <th>index</th>\n",
              "      <th>count</th>\n",
              "      <th>sum</th>\n",
              "      <th>avg_income</th>\n",
              "    </tr>\n",
              "  </thead>\n",
              "  <tbody>\n",
              "    <tr>\n",
              "      <th>0</th>\n",
              "      <td>Robert Downey Jr.</td>\n",
              "      <td>65.0</td>\n",
              "      <td>1.520250e+10</td>\n",
              "      <td>233884631</td>\n",
              "    </tr>\n",
              "    <tr>\n",
              "      <th>1</th>\n",
              "      <td>Tom Hanks</td>\n",
              "      <td>53.0</td>\n",
              "      <td>1.081401e+10</td>\n",
              "      <td>204037912</td>\n",
              "    </tr>\n",
              "    <tr>\n",
              "      <th>2</th>\n",
              "      <td>Johnny Depp</td>\n",
              "      <td>54.0</td>\n",
              "      <td>1.039725e+10</td>\n",
              "      <td>192541750</td>\n",
              "    </tr>\n",
              "    <tr>\n",
              "      <th>3</th>\n",
              "      <td>Harrison Ford</td>\n",
              "      <td>51.0</td>\n",
              "      <td>9.818819e+09</td>\n",
              "      <td>192525864</td>\n",
              "    </tr>\n",
              "    <tr>\n",
              "      <th>4</th>\n",
              "      <td>Samuel L. Jackson</td>\n",
              "      <td>100.0</td>\n",
              "      <td>1.820373e+10</td>\n",
              "      <td>182037321</td>\n",
              "    </tr>\n",
              "    <tr>\n",
              "      <th>5</th>\n",
              "      <td>Gary Oldman</td>\n",
              "      <td>53.0</td>\n",
              "      <td>7.524522e+09</td>\n",
              "      <td>141972114</td>\n",
              "    </tr>\n",
              "    <tr>\n",
              "      <th>6</th>\n",
              "      <td>Stanley Tucci</td>\n",
              "      <td>66.0</td>\n",
              "      <td>9.205010e+09</td>\n",
              "      <td>139469855</td>\n",
              "    </tr>\n",
              "    <tr>\n",
              "      <th>7</th>\n",
              "      <td>Morgan Freeman</td>\n",
              "      <td>75.0</td>\n",
              "      <td>1.008919e+10</td>\n",
              "      <td>134522598</td>\n",
              "    </tr>\n",
              "    <tr>\n",
              "      <th>8</th>\n",
              "      <td>Ewan McGregor</td>\n",
              "      <td>53.0</td>\n",
              "      <td>6.585776e+09</td>\n",
              "      <td>124259916</td>\n",
              "    </tr>\n",
              "    <tr>\n",
              "      <th>9</th>\n",
              "      <td>Woody Harrelson</td>\n",
              "      <td>64.0</td>\n",
              "      <td>7.766229e+09</td>\n",
              "      <td>121347331</td>\n",
              "    </tr>\n",
              "  </tbody>\n",
              "</table>\n",
              "</div>"
            ],
            "text/plain": [
              "               index  count           sum  avg_income\n",
              "0  Robert Downey Jr.   65.0  1.520250e+10   233884631\n",
              "1          Tom Hanks   53.0  1.081401e+10   204037912\n",
              "2        Johnny Depp   54.0  1.039725e+10   192541750\n",
              "3      Harrison Ford   51.0  9.818819e+09   192525864\n",
              "4  Samuel L. Jackson  100.0  1.820373e+10   182037321\n",
              "5        Gary Oldman   53.0  7.524522e+09   141972114\n",
              "6      Stanley Tucci   66.0  9.205010e+09   139469855\n",
              "7     Morgan Freeman   75.0  1.008919e+10   134522598\n",
              "8      Ewan McGregor   53.0  6.585776e+09   124259916\n",
              "9    Woody Harrelson   64.0  7.766229e+09   121347331"
            ]
          },
          "metadata": {
            "tags": []
          },
          "execution_count": 125
        }
      ]
    },
    {
      "cell_type": "code",
      "metadata": {
        "colab": {
          "base_uri": "https://localhost:8080/",
          "height": 359
        },
        "id": "bRRThG1KCgD5",
        "outputId": "b6bba77f-7dd4-4d59-b3ae-2f3e720cdb1e"
      },
      "source": [
        "# Aktorzy, którzy zagrali w większej liczbie filmów\r\n",
        "\r\n",
        "actors_all.sort_values(by='count', ascending=False).reset_index().head(10)"
      ],
      "execution_count": 126,
      "outputs": [
        {
          "output_type": "execute_result",
          "data": {
            "text/html": [
              "<div>\n",
              "<style scoped>\n",
              "    .dataframe tbody tr th:only-of-type {\n",
              "        vertical-align: middle;\n",
              "    }\n",
              "\n",
              "    .dataframe tbody tr th {\n",
              "        vertical-align: top;\n",
              "    }\n",
              "\n",
              "    .dataframe thead th {\n",
              "        text-align: right;\n",
              "    }\n",
              "</style>\n",
              "<table border=\"1\" class=\"dataframe\">\n",
              "  <thead>\n",
              "    <tr style=\"text-align: right;\">\n",
              "      <th></th>\n",
              "      <th>index</th>\n",
              "      <th>count</th>\n",
              "      <th>sum</th>\n",
              "      <th>avg_income</th>\n",
              "    </tr>\n",
              "  </thead>\n",
              "  <tbody>\n",
              "    <tr>\n",
              "      <th>0</th>\n",
              "      <td>Brahmanandam</td>\n",
              "      <td>228.0</td>\n",
              "      <td>5.111770e+07</td>\n",
              "      <td>224200</td>\n",
              "    </tr>\n",
              "    <tr>\n",
              "      <th>1</th>\n",
              "      <td>Eric Roberts</td>\n",
              "      <td>202.0</td>\n",
              "      <td>1.733220e+09</td>\n",
              "      <td>8580296</td>\n",
              "    </tr>\n",
              "    <tr>\n",
              "      <th>2</th>\n",
              "      <td>Anupam Kher</td>\n",
              "      <td>194.0</td>\n",
              "      <td>5.410023e+08</td>\n",
              "      <td>2788671</td>\n",
              "    </tr>\n",
              "    <tr>\n",
              "      <th>3</th>\n",
              "      <td>John Carradine</td>\n",
              "      <td>162.0</td>\n",
              "      <td>1.824451e+08</td>\n",
              "      <td>1126204</td>\n",
              "    </tr>\n",
              "    <tr>\n",
              "      <th>4</th>\n",
              "      <td>Amitabh Bachchan</td>\n",
              "      <td>155.0</td>\n",
              "      <td>5.755646e+08</td>\n",
              "      <td>3713320</td>\n",
              "    </tr>\n",
              "    <tr>\n",
              "      <th>5</th>\n",
              "      <td>Mohanlal</td>\n",
              "      <td>152.0</td>\n",
              "      <td>9.798850e+06</td>\n",
              "      <td>64466</td>\n",
              "    </tr>\n",
              "    <tr>\n",
              "      <th>6</th>\n",
              "      <td>Gulshan Grover</td>\n",
              "      <td>151.0</td>\n",
              "      <td>2.114267e+07</td>\n",
              "      <td>140017</td>\n",
              "    </tr>\n",
              "    <tr>\n",
              "      <th>7</th>\n",
              "      <td>Nassar</td>\n",
              "      <td>149.0</td>\n",
              "      <td>5.139762e+07</td>\n",
              "      <td>344950</td>\n",
              "    </tr>\n",
              "    <tr>\n",
              "      <th>8</th>\n",
              "      <td>Michael Madsen</td>\n",
              "      <td>141.0</td>\n",
              "      <td>1.649389e+09</td>\n",
              "      <td>11697793</td>\n",
              "    </tr>\n",
              "    <tr>\n",
              "      <th>9</th>\n",
              "      <td>Mammootty</td>\n",
              "      <td>139.0</td>\n",
              "      <td>9.859950e+05</td>\n",
              "      <td>7093</td>\n",
              "    </tr>\n",
              "  </tbody>\n",
              "</table>\n",
              "</div>"
            ],
            "text/plain": [
              "              index  count           sum  avg_income\n",
              "0      Brahmanandam  228.0  5.111770e+07      224200\n",
              "1      Eric Roberts  202.0  1.733220e+09     8580296\n",
              "2       Anupam Kher  194.0  5.410023e+08     2788671\n",
              "3    John Carradine  162.0  1.824451e+08     1126204\n",
              "4  Amitabh Bachchan  155.0  5.755646e+08     3713320\n",
              "5          Mohanlal  152.0  9.798850e+06       64466\n",
              "6    Gulshan Grover  151.0  2.114267e+07      140017\n",
              "7            Nassar  149.0  5.139762e+07      344950\n",
              "8    Michael Madsen  141.0  1.649389e+09    11697793\n",
              "9         Mammootty  139.0  9.859950e+05        7093"
            ]
          },
          "metadata": {
            "tags": []
          },
          "execution_count": 126
        }
      ]
    },
    {
      "cell_type": "markdown",
      "metadata": {
        "id": "ndIz3hRPGdnl"
      },
      "source": [
        "##Aktorzy - dane o dochodach z filmów w USA-dla dochodów w USD"
      ]
    },
    {
      "cell_type": "code",
      "metadata": {
        "colab": {
          "base_uri": "https://localhost:8080/",
          "height": 343
        },
        "id": "aiuuu0jdGdn1",
        "outputId": "fda554c8-9bb2-480a-f483-34a518b6bb9d"
      },
      "source": [
        "imdb_movies_actors_income_USA = imdb_movies.actors.str.split(pat=',', expand=True)\r\n",
        "imdb_movies_actors_income_USA['usa_gross_income'] = imdb_movies['usa_gross_income']\r\n",
        "imdb_movies_actors_income_USA['currency_for_usaincome']=imdb_movies['currency_for_usaincome']\r\n",
        "#nowa df z danymi gdzie dochód w dolarach\r\n",
        "imdb_movies_actors_income_USA_USD = imdb_movies_actors_income_USA[imdb_movies_actors_income_USA['currency_for_usaincome']=='$']\r\n",
        "imdb_movies_actors_income_USA_USD.head()"
      ],
      "execution_count": 127,
      "outputs": [
        {
          "output_type": "execute_result",
          "data": {
            "text/html": [
              "<div>\n",
              "<style scoped>\n",
              "    .dataframe tbody tr th:only-of-type {\n",
              "        vertical-align: middle;\n",
              "    }\n",
              "\n",
              "    .dataframe tbody tr th {\n",
              "        vertical-align: top;\n",
              "    }\n",
              "\n",
              "    .dataframe thead th {\n",
              "        text-align: right;\n",
              "    }\n",
              "</style>\n",
              "<table border=\"1\" class=\"dataframe\">\n",
              "  <thead>\n",
              "    <tr style=\"text-align: right;\">\n",
              "      <th></th>\n",
              "      <th>0</th>\n",
              "      <th>1</th>\n",
              "      <th>2</th>\n",
              "      <th>3</th>\n",
              "      <th>4</th>\n",
              "      <th>5</th>\n",
              "      <th>6</th>\n",
              "      <th>7</th>\n",
              "      <th>8</th>\n",
              "      <th>9</th>\n",
              "      <th>10</th>\n",
              "      <th>11</th>\n",
              "      <th>12</th>\n",
              "      <th>13</th>\n",
              "      <th>14</th>\n",
              "      <th>15</th>\n",
              "      <th>usa_gross_income</th>\n",
              "      <th>currency_for_usaincome</th>\n",
              "    </tr>\n",
              "  </thead>\n",
              "  <tbody>\n",
              "    <tr>\n",
              "      <th>0</th>\n",
              "      <td>Blanche Bayliss</td>\n",
              "      <td>William Courtenay</td>\n",
              "      <td>Chauncey Depew</td>\n",
              "      <td>None</td>\n",
              "      <td>None</td>\n",
              "      <td>None</td>\n",
              "      <td>None</td>\n",
              "      <td>None</td>\n",
              "      <td>None</td>\n",
              "      <td>None</td>\n",
              "      <td>None</td>\n",
              "      <td>None</td>\n",
              "      <td>None</td>\n",
              "      <td>None</td>\n",
              "      <td>None</td>\n",
              "      <td>None</td>\n",
              "      <td>0</td>\n",
              "      <td>$</td>\n",
              "    </tr>\n",
              "    <tr>\n",
              "      <th>1</th>\n",
              "      <td>Elizabeth Tait</td>\n",
              "      <td>John Tait</td>\n",
              "      <td>Norman Campbell</td>\n",
              "      <td>Bella Cola</td>\n",
              "      <td>Will Coyne</td>\n",
              "      <td>Sam Crewes</td>\n",
              "      <td>Jack Ennis</td>\n",
              "      <td>John Forde</td>\n",
              "      <td>Vera Linden</td>\n",
              "      <td>Mr. Marshall</td>\n",
              "      <td>Mr. McKenzie</td>\n",
              "      <td>Frank Mills</td>\n",
              "      <td>Ollie Wilson</td>\n",
              "      <td>None</td>\n",
              "      <td>None</td>\n",
              "      <td>None</td>\n",
              "      <td>0</td>\n",
              "      <td>$</td>\n",
              "    </tr>\n",
              "    <tr>\n",
              "      <th>2</th>\n",
              "      <td>Asta Nielsen</td>\n",
              "      <td>Valdemar Psilander</td>\n",
              "      <td>Gunnar Helsengreen</td>\n",
              "      <td>Emil Albes</td>\n",
              "      <td>Hugo Flink</td>\n",
              "      <td>Mary Hagen</td>\n",
              "      <td>None</td>\n",
              "      <td>None</td>\n",
              "      <td>None</td>\n",
              "      <td>None</td>\n",
              "      <td>None</td>\n",
              "      <td>None</td>\n",
              "      <td>None</td>\n",
              "      <td>None</td>\n",
              "      <td>None</td>\n",
              "      <td>None</td>\n",
              "      <td>0</td>\n",
              "      <td>$</td>\n",
              "    </tr>\n",
              "    <tr>\n",
              "      <th>3</th>\n",
              "      <td>Helen Gardner</td>\n",
              "      <td>Pearl Sindelar</td>\n",
              "      <td>Miss Fielding</td>\n",
              "      <td>Miss Robson</td>\n",
              "      <td>Helene Costello</td>\n",
              "      <td>Charles Sindelar</td>\n",
              "      <td>Mr. Howard</td>\n",
              "      <td>James R. Waite</td>\n",
              "      <td>Mr. Osborne</td>\n",
              "      <td>Harry Knowles</td>\n",
              "      <td>Mr. Paul</td>\n",
              "      <td>Mr. Brady</td>\n",
              "      <td>Mr. Corker</td>\n",
              "      <td>None</td>\n",
              "      <td>None</td>\n",
              "      <td>None</td>\n",
              "      <td>0</td>\n",
              "      <td>$</td>\n",
              "    </tr>\n",
              "    <tr>\n",
              "      <th>4</th>\n",
              "      <td>Salvatore Papa</td>\n",
              "      <td>Arturo Pirovano</td>\n",
              "      <td>Giuseppe de Liguoro</td>\n",
              "      <td>Pier Delle Vigne</td>\n",
              "      <td>Augusto Milla</td>\n",
              "      <td>Attilio Motta</td>\n",
              "      <td>Emilise Beretta</td>\n",
              "      <td>None</td>\n",
              "      <td>None</td>\n",
              "      <td>None</td>\n",
              "      <td>None</td>\n",
              "      <td>None</td>\n",
              "      <td>None</td>\n",
              "      <td>None</td>\n",
              "      <td>None</td>\n",
              "      <td>None</td>\n",
              "      <td>0</td>\n",
              "      <td>$</td>\n",
              "    </tr>\n",
              "  </tbody>\n",
              "</table>\n",
              "</div>"
            ],
            "text/plain": [
              "                 0  ... currency_for_usaincome\n",
              "0  Blanche Bayliss  ...                      $\n",
              "1   Elizabeth Tait  ...                      $\n",
              "2     Asta Nielsen  ...                      $\n",
              "3    Helen Gardner  ...                      $\n",
              "4   Salvatore Papa  ...                      $\n",
              "\n",
              "[5 rows x 18 columns]"
            ]
          },
          "metadata": {
            "tags": []
          },
          "execution_count": 127
        }
      ]
    },
    {
      "cell_type": "code",
      "metadata": {
        "colab": {
          "base_uri": "https://localhost:8080/"
        },
        "id": "eMamYlrHGdn3",
        "outputId": "2c3a77a5-7222-4918-e18d-95b0251093ef"
      },
      "source": [
        "imdb_movies_actors_income_USA_USD.shape"
      ],
      "execution_count": 128,
      "outputs": [
        {
          "output_type": "execute_result",
          "data": {
            "text/plain": [
              "(85850, 18)"
            ]
          },
          "metadata": {
            "tags": []
          },
          "execution_count": 128
        }
      ]
    },
    {
      "cell_type": "code",
      "metadata": {
        "colab": {
          "base_uri": "https://localhost:8080/",
          "height": 35
        },
        "id": "6eahczL3Gdn3",
        "outputId": "208a079d-e147-4e2b-ebbb-c0002dd929d7"
      },
      "source": [
        "imdb_movies_actors_income_USA_USD[1][1] # ta spacja przed imieniem zniszczyła mi piątkowy wieczór"
      ],
      "execution_count": 129,
      "outputs": [
        {
          "output_type": "execute_result",
          "data": {
            "application/vnd.google.colaboratory.intrinsic+json": {
              "type": "string"
            },
            "text/plain": [
              "' John Tait'"
            ]
          },
          "metadata": {
            "tags": []
          },
          "execution_count": 129
        }
      ]
    },
    {
      "cell_type": "code",
      "metadata": {
        "colab": {
          "base_uri": "https://localhost:8080/"
        },
        "id": "kvJB_xqSGdn3",
        "outputId": "8acf1717-9bd1-4e75-ee30-413145c4df5a"
      },
      "source": [
        "# tu usuwam spacje przed imionami we wszytskich kolumnach\r\n",
        "\r\n",
        "def remove_white_space_before(x):\r\n",
        "  if isinstance(x, str):\r\n",
        "    if x[0] == ' ':\r\n",
        "      x = x[1:]\r\n",
        "  return x\r\n",
        "\r\n",
        "for i in range(0,16):\r\n",
        "  imdb_movies_actors_income_USA_USD[i] = imdb_movies_actors_income_worldwide_USD[i].apply(remove_white_space_before)"
      ],
      "execution_count": 130,
      "outputs": [
        {
          "output_type": "stream",
          "text": [
            "/usr/local/lib/python3.6/dist-packages/ipykernel_launcher.py:10: SettingWithCopyWarning: \n",
            "A value is trying to be set on a copy of a slice from a DataFrame.\n",
            "Try using .loc[row_indexer,col_indexer] = value instead\n",
            "\n",
            "See the caveats in the documentation: https://pandas.pydata.org/pandas-docs/stable/user_guide/indexing.html#returning-a-view-versus-a-copy\n",
            "  # Remove the CWD from sys.path while we load stuff.\n"
          ],
          "name": "stderr"
        }
      ]
    },
    {
      "cell_type": "code",
      "metadata": {
        "colab": {
          "base_uri": "https://localhost:8080/",
          "height": 35
        },
        "id": "kzMr6BqkGdn4",
        "outputId": "101d82e0-6daf-47ee-a773-81d14b9b4616"
      },
      "source": [
        "imdb_movies_actors_income_USA_USD[1][1] # i działa <3"
      ],
      "execution_count": 131,
      "outputs": [
        {
          "output_type": "execute_result",
          "data": {
            "application/vnd.google.colaboratory.intrinsic+json": {
              "type": "string"
            },
            "text/plain": [
              "'John Tait'"
            ]
          },
          "metadata": {
            "tags": []
          },
          "execution_count": 131
        }
      ]
    },
    {
      "cell_type": "code",
      "metadata": {
        "colab": {
          "base_uri": "https://localhost:8080/",
          "height": 419
        },
        "id": "jKaaDZHYGdn4",
        "outputId": "a08716d5-d1aa-46f2-b0e2-91ca827c674d"
      },
      "source": [
        "actors = {}\r\n",
        "for i in range(0, 16):\r\n",
        "  actors[\"act_column{0}\".format(i)] = imdb_movies_actors_income_USA_USD[[i, 'usa_gross_income']].groupby(i).agg(['count', 'sum'])\r\n",
        "  actors[\"act_column{0}\".format(i)].columns = actors[\"act_column{0}\".format(i)].columns.droplevel(0)\r\n",
        "  actors[\"act_column{0}\".format(i)].index.name = None\r\n",
        "\r\n",
        "actors['act_column0']"
      ],
      "execution_count": 132,
      "outputs": [
        {
          "output_type": "execute_result",
          "data": {
            "text/html": [
              "<div>\n",
              "<style scoped>\n",
              "    .dataframe tbody tr th:only-of-type {\n",
              "        vertical-align: middle;\n",
              "    }\n",
              "\n",
              "    .dataframe tbody tr th {\n",
              "        vertical-align: top;\n",
              "    }\n",
              "\n",
              "    .dataframe thead th {\n",
              "        text-align: right;\n",
              "    }\n",
              "</style>\n",
              "<table border=\"1\" class=\"dataframe\">\n",
              "  <thead>\n",
              "    <tr style=\"text-align: right;\">\n",
              "      <th></th>\n",
              "      <th>count</th>\n",
              "      <th>sum</th>\n",
              "    </tr>\n",
              "  </thead>\n",
              "  <tbody>\n",
              "    <tr>\n",
              "      <th>'Lee' George Quinones</th>\n",
              "      <td>1</td>\n",
              "      <td>0</td>\n",
              "    </tr>\n",
              "    <tr>\n",
              "      <th>'Weird Al' Yankovic</th>\n",
              "      <td>1</td>\n",
              "      <td>6157157</td>\n",
              "    </tr>\n",
              "    <tr>\n",
              "      <th>2Mex</th>\n",
              "      <td>1</td>\n",
              "      <td>0</td>\n",
              "    </tr>\n",
              "    <tr>\n",
              "      <th>50 Cent</th>\n",
              "      <td>5</td>\n",
              "      <td>30985352</td>\n",
              "    </tr>\n",
              "    <tr>\n",
              "      <th>A Martinez</th>\n",
              "      <td>1</td>\n",
              "      <td>283747</td>\n",
              "    </tr>\n",
              "    <tr>\n",
              "      <th>...</th>\n",
              "      <td>...</td>\n",
              "      <td>...</td>\n",
              "    </tr>\n",
              "    <tr>\n",
              "      <th>Ümit Bülent Dinçer</th>\n",
              "      <td>1</td>\n",
              "      <td>0</td>\n",
              "    </tr>\n",
              "    <tr>\n",
              "      <th>Þorsteinn Guðmundsson</th>\n",
              "      <td>1</td>\n",
              "      <td>0</td>\n",
              "    </tr>\n",
              "    <tr>\n",
              "      <th>Þröstur Leó Gunnarsson</th>\n",
              "      <td>1</td>\n",
              "      <td>0</td>\n",
              "    </tr>\n",
              "    <tr>\n",
              "      <th>Þórhallur Sigurðsson</th>\n",
              "      <td>1</td>\n",
              "      <td>0</td>\n",
              "    </tr>\n",
              "    <tr>\n",
              "      <th>Þórhallur Sverrisson</th>\n",
              "      <td>1</td>\n",
              "      <td>0</td>\n",
              "    </tr>\n",
              "  </tbody>\n",
              "</table>\n",
              "<p>34359 rows × 2 columns</p>\n",
              "</div>"
            ],
            "text/plain": [
              "                        count       sum\n",
              "'Lee' George Quinones       1         0\n",
              "'Weird Al' Yankovic         1   6157157\n",
              "2Mex                        1         0\n",
              "50 Cent                     5  30985352\n",
              "A Martinez                  1    283747\n",
              "...                       ...       ...\n",
              "Ümit Bülent Dinçer          1         0\n",
              "Þorsteinn Guðmundsson       1         0\n",
              "Þröstur Leó Gunnarsson      1         0\n",
              "Þórhallur Sigurðsson        1         0\n",
              "Þórhallur Sverrisson        1         0\n",
              "\n",
              "[34359 rows x 2 columns]"
            ]
          },
          "metadata": {
            "tags": []
          },
          "execution_count": 132
        }
      ]
    },
    {
      "cell_type": "code",
      "metadata": {
        "colab": {
          "base_uri": "https://localhost:8080/",
          "height": 419
        },
        "id": "dVv2aoEbGdn5",
        "outputId": "20a9cd0d-2b90-44e0-f173-c95bdfe2655c"
      },
      "source": [
        "actors_all = actors['act_column0']\r\n",
        "for i in range(1,16):\r\n",
        "  actors_all = actors_all.add(actors[\"act_column{0}\".format(i)], fill_value=0)\r\n",
        "\r\n",
        "actors_all"
      ],
      "execution_count": 133,
      "outputs": [
        {
          "output_type": "execute_result",
          "data": {
            "text/html": [
              "<div>\n",
              "<style scoped>\n",
              "    .dataframe tbody tr th:only-of-type {\n",
              "        vertical-align: middle;\n",
              "    }\n",
              "\n",
              "    .dataframe tbody tr th {\n",
              "        vertical-align: top;\n",
              "    }\n",
              "\n",
              "    .dataframe thead th {\n",
              "        text-align: right;\n",
              "    }\n",
              "</style>\n",
              "<table border=\"1\" class=\"dataframe\">\n",
              "  <thead>\n",
              "    <tr style=\"text-align: right;\">\n",
              "      <th></th>\n",
              "      <th>count</th>\n",
              "      <th>sum</th>\n",
              "    </tr>\n",
              "  </thead>\n",
              "  <tbody>\n",
              "    <tr>\n",
              "      <th>'Baby' Carmen De Rue</th>\n",
              "      <td>3.0</td>\n",
              "      <td>0.0</td>\n",
              "    </tr>\n",
              "    <tr>\n",
              "      <th>'Bang Bang' Toto Ruta</th>\n",
              "      <td>1.0</td>\n",
              "      <td>0.0</td>\n",
              "    </tr>\n",
              "    <tr>\n",
              "      <th>'Big Al' Solomon</th>\n",
              "      <td>1.0</td>\n",
              "      <td>0.0</td>\n",
              "    </tr>\n",
              "    <tr>\n",
              "      <th>'Big Jack' Provan</th>\n",
              "      <td>1.0</td>\n",
              "      <td>0.0</td>\n",
              "    </tr>\n",
              "    <tr>\n",
              "      <th>'Big Walter' Price</th>\n",
              "      <td>1.0</td>\n",
              "      <td>30500.0</td>\n",
              "    </tr>\n",
              "    <tr>\n",
              "      <th>...</th>\n",
              "      <td>...</td>\n",
              "      <td>...</td>\n",
              "    </tr>\n",
              "    <tr>\n",
              "      <th>Þórir Gunnar Jónsson</th>\n",
              "      <td>1.0</td>\n",
              "      <td>75994.0</td>\n",
              "    </tr>\n",
              "    <tr>\n",
              "      <th>Þórir Waagfjörð</th>\n",
              "      <td>1.0</td>\n",
              "      <td>0.0</td>\n",
              "    </tr>\n",
              "    <tr>\n",
              "      <th>Þórunn Antónía Magnúsdóttir</th>\n",
              "      <td>1.0</td>\n",
              "      <td>0.0</td>\n",
              "    </tr>\n",
              "    <tr>\n",
              "      <th>Þórunn Magnea Magnúsdóttir</th>\n",
              "      <td>2.0</td>\n",
              "      <td>0.0</td>\n",
              "    </tr>\n",
              "    <tr>\n",
              "      <th>Þórður Árnason</th>\n",
              "      <td>1.0</td>\n",
              "      <td>0.0</td>\n",
              "    </tr>\n",
              "  </tbody>\n",
              "</table>\n",
              "<p>388736 rows × 2 columns</p>\n",
              "</div>"
            ],
            "text/plain": [
              "                             count      sum\n",
              "'Baby' Carmen De Rue           3.0      0.0\n",
              "'Bang Bang' Toto Ruta          1.0      0.0\n",
              "'Big Al' Solomon               1.0      0.0\n",
              "'Big Jack' Provan              1.0      0.0\n",
              "'Big Walter' Price             1.0  30500.0\n",
              "...                            ...      ...\n",
              "Þórir Gunnar Jónsson           1.0  75994.0\n",
              "Þórir Waagfjörð                1.0      0.0\n",
              "Þórunn Antónía Magnúsdóttir    1.0      0.0\n",
              "Þórunn Magnea Magnúsdóttir     2.0      0.0\n",
              "Þórður Árnason                 1.0      0.0\n",
              "\n",
              "[388736 rows x 2 columns]"
            ]
          },
          "metadata": {
            "tags": []
          },
          "execution_count": 133
        }
      ]
    },
    {
      "cell_type": "code",
      "metadata": {
        "colab": {
          "base_uri": "https://localhost:8080/",
          "height": 204
        },
        "id": "whnVSt0fGdn5",
        "outputId": "29fb1cea-4b78-45a7-961a-259976d89c52"
      },
      "source": [
        "actors_all['avg_income_USA'] = actors_all['sum']/actors_all['count']\r\n",
        "actors_all['avg_income_USA']=actors_all['avg_income_USA'].astype(int)\r\n",
        "actors_all.head()"
      ],
      "execution_count": 134,
      "outputs": [
        {
          "output_type": "execute_result",
          "data": {
            "text/html": [
              "<div>\n",
              "<style scoped>\n",
              "    .dataframe tbody tr th:only-of-type {\n",
              "        vertical-align: middle;\n",
              "    }\n",
              "\n",
              "    .dataframe tbody tr th {\n",
              "        vertical-align: top;\n",
              "    }\n",
              "\n",
              "    .dataframe thead th {\n",
              "        text-align: right;\n",
              "    }\n",
              "</style>\n",
              "<table border=\"1\" class=\"dataframe\">\n",
              "  <thead>\n",
              "    <tr style=\"text-align: right;\">\n",
              "      <th></th>\n",
              "      <th>count</th>\n",
              "      <th>sum</th>\n",
              "      <th>avg_income_USA</th>\n",
              "    </tr>\n",
              "  </thead>\n",
              "  <tbody>\n",
              "    <tr>\n",
              "      <th>'Baby' Carmen De Rue</th>\n",
              "      <td>3.0</td>\n",
              "      <td>0.0</td>\n",
              "      <td>0</td>\n",
              "    </tr>\n",
              "    <tr>\n",
              "      <th>'Bang Bang' Toto Ruta</th>\n",
              "      <td>1.0</td>\n",
              "      <td>0.0</td>\n",
              "      <td>0</td>\n",
              "    </tr>\n",
              "    <tr>\n",
              "      <th>'Big Al' Solomon</th>\n",
              "      <td>1.0</td>\n",
              "      <td>0.0</td>\n",
              "      <td>0</td>\n",
              "    </tr>\n",
              "    <tr>\n",
              "      <th>'Big Jack' Provan</th>\n",
              "      <td>1.0</td>\n",
              "      <td>0.0</td>\n",
              "      <td>0</td>\n",
              "    </tr>\n",
              "    <tr>\n",
              "      <th>'Big Walter' Price</th>\n",
              "      <td>1.0</td>\n",
              "      <td>30500.0</td>\n",
              "      <td>30500</td>\n",
              "    </tr>\n",
              "  </tbody>\n",
              "</table>\n",
              "</div>"
            ],
            "text/plain": [
              "                       count      sum  avg_income_USA\n",
              "'Baby' Carmen De Rue     3.0      0.0               0\n",
              "'Bang Bang' Toto Ruta    1.0      0.0               0\n",
              "'Big Al' Solomon         1.0      0.0               0\n",
              "'Big Jack' Provan        1.0      0.0               0\n",
              "'Big Walter' Price       1.0  30500.0           30500"
            ]
          },
          "metadata": {
            "tags": []
          },
          "execution_count": 134
        }
      ]
    },
    {
      "cell_type": "code",
      "metadata": {
        "colab": {
          "base_uri": "https://localhost:8080/",
          "height": 359
        },
        "id": "tGEhHhaTGdn6",
        "outputId": "f8128024-4a57-4773-f975-01f919963db4"
      },
      "source": [
        "# Aktorzy, którzy zagrali w więcej niż 15 filmach posortowani wg średniego budżetu filmu\r\n",
        "\r\n",
        "actors_all[actors_all['count'] > 15].sort_values(by='avg_income_USA', ascending=False).reset_index().head(10)"
      ],
      "execution_count": 136,
      "outputs": [
        {
          "output_type": "execute_result",
          "data": {
            "text/html": [
              "<div>\n",
              "<style scoped>\n",
              "    .dataframe tbody tr th:only-of-type {\n",
              "        vertical-align: middle;\n",
              "    }\n",
              "\n",
              "    .dataframe tbody tr th {\n",
              "        vertical-align: top;\n",
              "    }\n",
              "\n",
              "    .dataframe thead th {\n",
              "        text-align: right;\n",
              "    }\n",
              "</style>\n",
              "<table border=\"1\" class=\"dataframe\">\n",
              "  <thead>\n",
              "    <tr style=\"text-align: right;\">\n",
              "      <th></th>\n",
              "      <th>index</th>\n",
              "      <th>count</th>\n",
              "      <th>sum</th>\n",
              "      <th>avg_income_USA</th>\n",
              "    </tr>\n",
              "  </thead>\n",
              "  <tbody>\n",
              "    <tr>\n",
              "      <th>0</th>\n",
              "      <td>Chris Hemsworth</td>\n",
              "      <td>22.0</td>\n",
              "      <td>4.148417e+09</td>\n",
              "      <td>188564413</td>\n",
              "    </tr>\n",
              "    <tr>\n",
              "      <th>1</th>\n",
              "      <td>Karen Gillan</td>\n",
              "      <td>17.0</td>\n",
              "      <td>3.114521e+09</td>\n",
              "      <td>183207144</td>\n",
              "    </tr>\n",
              "    <tr>\n",
              "      <th>2</th>\n",
              "      <td>Frank Oz</td>\n",
              "      <td>22.0</td>\n",
              "      <td>3.646024e+09</td>\n",
              "      <td>165728345</td>\n",
              "    </tr>\n",
              "    <tr>\n",
              "      <th>3</th>\n",
              "      <td>Tyrese Gibson</td>\n",
              "      <td>16.0</td>\n",
              "      <td>2.472558e+09</td>\n",
              "      <td>154534892</td>\n",
              "    </tr>\n",
              "    <tr>\n",
              "      <th>4</th>\n",
              "      <td>Tom Hiddleston</td>\n",
              "      <td>16.0</td>\n",
              "      <td>2.353751e+09</td>\n",
              "      <td>147109419</td>\n",
              "    </tr>\n",
              "    <tr>\n",
              "      <th>5</th>\n",
              "      <td>Domhnall Gleeson</td>\n",
              "      <td>22.0</td>\n",
              "      <td>3.167297e+09</td>\n",
              "      <td>143968039</td>\n",
              "    </tr>\n",
              "    <tr>\n",
              "      <th>6</th>\n",
              "      <td>Chris Evans</td>\n",
              "      <td>29.0</td>\n",
              "      <td>4.148554e+09</td>\n",
              "      <td>143053594</td>\n",
              "    </tr>\n",
              "    <tr>\n",
              "      <th>7</th>\n",
              "      <td>Mike Myers</td>\n",
              "      <td>17.0</td>\n",
              "      <td>2.307485e+09</td>\n",
              "      <td>135734402</td>\n",
              "    </tr>\n",
              "    <tr>\n",
              "      <th>8</th>\n",
              "      <td>Tom Holland</td>\n",
              "      <td>22.0</td>\n",
              "      <td>2.923099e+09</td>\n",
              "      <td>132868126</td>\n",
              "    </tr>\n",
              "    <tr>\n",
              "      <th>9</th>\n",
              "      <td>Paul Bettany</td>\n",
              "      <td>33.0</td>\n",
              "      <td>4.220631e+09</td>\n",
              "      <td>127897921</td>\n",
              "    </tr>\n",
              "  </tbody>\n",
              "</table>\n",
              "</div>"
            ],
            "text/plain": [
              "              index  count           sum  avg_income_USA\n",
              "0   Chris Hemsworth   22.0  4.148417e+09       188564413\n",
              "1      Karen Gillan   17.0  3.114521e+09       183207144\n",
              "2          Frank Oz   22.0  3.646024e+09       165728345\n",
              "3     Tyrese Gibson   16.0  2.472558e+09       154534892\n",
              "4    Tom Hiddleston   16.0  2.353751e+09       147109419\n",
              "5  Domhnall Gleeson   22.0  3.167297e+09       143968039\n",
              "6       Chris Evans   29.0  4.148554e+09       143053594\n",
              "7        Mike Myers   17.0  2.307485e+09       135734402\n",
              "8       Tom Holland   22.0  2.923099e+09       132868126\n",
              "9      Paul Bettany   33.0  4.220631e+09       127897921"
            ]
          },
          "metadata": {
            "tags": []
          },
          "execution_count": 136
        }
      ]
    },
    {
      "cell_type": "code",
      "metadata": {
        "colab": {
          "base_uri": "https://localhost:8080/",
          "height": 359
        },
        "id": "KSeh8B52Gdn6",
        "outputId": "fc6df29f-1c3b-4ddd-856c-bf54f27492ac"
      },
      "source": [
        "# Aktorzy, którzy zagrali w więcej niż 50 filmach posortowani wg średniego dochodu światowego z filmu\r\n",
        "\r\n",
        "actors_all[actors_all['count'] > 50].sort_values(by='avg_income_USA', ascending=False).reset_index().head(10)\r\n"
      ],
      "execution_count": 137,
      "outputs": [
        {
          "output_type": "execute_result",
          "data": {
            "text/html": [
              "<div>\n",
              "<style scoped>\n",
              "    .dataframe tbody tr th:only-of-type {\n",
              "        vertical-align: middle;\n",
              "    }\n",
              "\n",
              "    .dataframe tbody tr th {\n",
              "        vertical-align: top;\n",
              "    }\n",
              "\n",
              "    .dataframe thead th {\n",
              "        text-align: right;\n",
              "    }\n",
              "</style>\n",
              "<table border=\"1\" class=\"dataframe\">\n",
              "  <thead>\n",
              "    <tr style=\"text-align: right;\">\n",
              "      <th></th>\n",
              "      <th>index</th>\n",
              "      <th>count</th>\n",
              "      <th>sum</th>\n",
              "      <th>avg_income_USA</th>\n",
              "    </tr>\n",
              "  </thead>\n",
              "  <tbody>\n",
              "    <tr>\n",
              "      <th>0</th>\n",
              "      <td>Harrison Ford</td>\n",
              "      <td>51.0</td>\n",
              "      <td>5.133300e+09</td>\n",
              "      <td>100652933</td>\n",
              "    </tr>\n",
              "    <tr>\n",
              "      <th>1</th>\n",
              "      <td>Tom Hanks</td>\n",
              "      <td>53.0</td>\n",
              "      <td>5.108131e+09</td>\n",
              "      <td>96379838</td>\n",
              "    </tr>\n",
              "    <tr>\n",
              "      <th>2</th>\n",
              "      <td>Robert Downey Jr.</td>\n",
              "      <td>65.0</td>\n",
              "      <td>5.966089e+09</td>\n",
              "      <td>91785978</td>\n",
              "    </tr>\n",
              "    <tr>\n",
              "      <th>3</th>\n",
              "      <td>Samuel L. Jackson</td>\n",
              "      <td>100.0</td>\n",
              "      <td>7.609340e+09</td>\n",
              "      <td>76093404</td>\n",
              "    </tr>\n",
              "    <tr>\n",
              "      <th>4</th>\n",
              "      <td>Johnny Depp</td>\n",
              "      <td>54.0</td>\n",
              "      <td>3.834734e+09</td>\n",
              "      <td>71013591</td>\n",
              "    </tr>\n",
              "    <tr>\n",
              "      <th>5</th>\n",
              "      <td>Morgan Freeman</td>\n",
              "      <td>75.0</td>\n",
              "      <td>4.684529e+09</td>\n",
              "      <td>62460382</td>\n",
              "    </tr>\n",
              "    <tr>\n",
              "      <th>6</th>\n",
              "      <td>Gary Oldman</td>\n",
              "      <td>53.0</td>\n",
              "      <td>3.110864e+09</td>\n",
              "      <td>58695542</td>\n",
              "    </tr>\n",
              "    <tr>\n",
              "      <th>7</th>\n",
              "      <td>Stanley Tucci</td>\n",
              "      <td>66.0</td>\n",
              "      <td>3.854678e+09</td>\n",
              "      <td>58404212</td>\n",
              "    </tr>\n",
              "    <tr>\n",
              "      <th>8</th>\n",
              "      <td>Robin Williams</td>\n",
              "      <td>52.0</td>\n",
              "      <td>2.919167e+09</td>\n",
              "      <td>56137828</td>\n",
              "    </tr>\n",
              "    <tr>\n",
              "      <th>9</th>\n",
              "      <td>Woody Harrelson</td>\n",
              "      <td>64.0</td>\n",
              "      <td>3.272033e+09</td>\n",
              "      <td>51125514</td>\n",
              "    </tr>\n",
              "  </tbody>\n",
              "</table>\n",
              "</div>"
            ],
            "text/plain": [
              "               index  count           sum  avg_income_USA\n",
              "0      Harrison Ford   51.0  5.133300e+09       100652933\n",
              "1          Tom Hanks   53.0  5.108131e+09        96379838\n",
              "2  Robert Downey Jr.   65.0  5.966089e+09        91785978\n",
              "3  Samuel L. Jackson  100.0  7.609340e+09        76093404\n",
              "4        Johnny Depp   54.0  3.834734e+09        71013591\n",
              "5     Morgan Freeman   75.0  4.684529e+09        62460382\n",
              "6        Gary Oldman   53.0  3.110864e+09        58695542\n",
              "7      Stanley Tucci   66.0  3.854678e+09        58404212\n",
              "8     Robin Williams   52.0  2.919167e+09        56137828\n",
              "9    Woody Harrelson   64.0  3.272033e+09        51125514"
            ]
          },
          "metadata": {
            "tags": []
          },
          "execution_count": 137
        }
      ]
    },
    {
      "cell_type": "code",
      "metadata": {
        "colab": {
          "base_uri": "https://localhost:8080/",
          "height": 359
        },
        "id": "O6VHYyN2Gdn6",
        "outputId": "317ae5a4-2edc-4ae3-e205-f8bc1704e22a"
      },
      "source": [
        "# Aktorzy, którzy zagrali w większej liczbie filmów\r\n",
        "\r\n",
        "actors_all.sort_values(by='count', ascending=False).reset_index().head(10)"
      ],
      "execution_count": 138,
      "outputs": [
        {
          "output_type": "execute_result",
          "data": {
            "text/html": [
              "<div>\n",
              "<style scoped>\n",
              "    .dataframe tbody tr th:only-of-type {\n",
              "        vertical-align: middle;\n",
              "    }\n",
              "\n",
              "    .dataframe tbody tr th {\n",
              "        vertical-align: top;\n",
              "    }\n",
              "\n",
              "    .dataframe thead th {\n",
              "        text-align: right;\n",
              "    }\n",
              "</style>\n",
              "<table border=\"1\" class=\"dataframe\">\n",
              "  <thead>\n",
              "    <tr style=\"text-align: right;\">\n",
              "      <th></th>\n",
              "      <th>index</th>\n",
              "      <th>count</th>\n",
              "      <th>sum</th>\n",
              "      <th>avg_income_USA</th>\n",
              "    </tr>\n",
              "  </thead>\n",
              "  <tbody>\n",
              "    <tr>\n",
              "      <th>0</th>\n",
              "      <td>Brahmanandam</td>\n",
              "      <td>228.0</td>\n",
              "      <td>2038365.0</td>\n",
              "      <td>8940</td>\n",
              "    </tr>\n",
              "    <tr>\n",
              "      <th>1</th>\n",
              "      <td>Eric Roberts</td>\n",
              "      <td>202.0</td>\n",
              "      <td>896370358.0</td>\n",
              "      <td>4437477</td>\n",
              "    </tr>\n",
              "    <tr>\n",
              "      <th>2</th>\n",
              "      <td>Anupam Kher</td>\n",
              "      <td>194.0</td>\n",
              "      <td>219338421.0</td>\n",
              "      <td>1130610</td>\n",
              "    </tr>\n",
              "    <tr>\n",
              "      <th>3</th>\n",
              "      <td>John Carradine</td>\n",
              "      <td>162.0</td>\n",
              "      <td>190597083.0</td>\n",
              "      <td>1176525</td>\n",
              "    </tr>\n",
              "    <tr>\n",
              "      <th>4</th>\n",
              "      <td>Amitabh Bachchan</td>\n",
              "      <td>155.0</td>\n",
              "      <td>173993020.0</td>\n",
              "      <td>1122535</td>\n",
              "    </tr>\n",
              "    <tr>\n",
              "      <th>5</th>\n",
              "      <td>Mohanlal</td>\n",
              "      <td>152.0</td>\n",
              "      <td>17077.0</td>\n",
              "      <td>112</td>\n",
              "    </tr>\n",
              "    <tr>\n",
              "      <th>6</th>\n",
              "      <td>Gulshan Grover</td>\n",
              "      <td>151.0</td>\n",
              "      <td>2183787.0</td>\n",
              "      <td>14462</td>\n",
              "    </tr>\n",
              "    <tr>\n",
              "      <th>7</th>\n",
              "      <td>Nassar</td>\n",
              "      <td>149.0</td>\n",
              "      <td>12561475.0</td>\n",
              "      <td>84305</td>\n",
              "    </tr>\n",
              "    <tr>\n",
              "      <th>8</th>\n",
              "      <td>Michael Madsen</td>\n",
              "      <td>141.0</td>\n",
              "      <td>832606767.0</td>\n",
              "      <td>5905012</td>\n",
              "    </tr>\n",
              "    <tr>\n",
              "      <th>9</th>\n",
              "      <td>Mammootty</td>\n",
              "      <td>139.0</td>\n",
              "      <td>0.0</td>\n",
              "      <td>0</td>\n",
              "    </tr>\n",
              "  </tbody>\n",
              "</table>\n",
              "</div>"
            ],
            "text/plain": [
              "              index  count          sum  avg_income_USA\n",
              "0      Brahmanandam  228.0    2038365.0            8940\n",
              "1      Eric Roberts  202.0  896370358.0         4437477\n",
              "2       Anupam Kher  194.0  219338421.0         1130610\n",
              "3    John Carradine  162.0  190597083.0         1176525\n",
              "4  Amitabh Bachchan  155.0  173993020.0         1122535\n",
              "5          Mohanlal  152.0      17077.0             112\n",
              "6    Gulshan Grover  151.0    2183787.0           14462\n",
              "7            Nassar  149.0   12561475.0           84305\n",
              "8    Michael Madsen  141.0  832606767.0         5905012\n",
              "9         Mammootty  139.0          0.0               0"
            ]
          },
          "metadata": {
            "tags": []
          },
          "execution_count": 138
        }
      ]
    },
    {
      "cell_type": "markdown",
      "metadata": {
        "id": "H9cL5aNVnkIw"
      },
      "source": [
        "# Firma produkująca - sprawdzić z głosami krytyków, ludzi normalnych, z kim najczęściej współpracują (reżyserzy, scenarzyści), jaki średni budżet ich filmów, jaki średni dochód - GRZESIEK\n",
        "\n",
        "\n"
      ]
    },
    {
      "cell_type": "code",
      "metadata": {
        "id": "QJcqtXivnmjQ"
      },
      "source": [
        "imdb_names.head()"
      ],
      "execution_count": null,
      "outputs": []
    },
    {
      "cell_type": "markdown",
      "metadata": {
        "id": "mxGDnW-431ix"
      },
      "source": [
        "#Głosy -najczęściej oceniane filmy, korelacja budżetu ze średnią głosów, korelacja przychodu ze średnią głosów - przychodu w USA i na świecie - KASIA"
      ]
    },
    {
      "cell_type": "markdown",
      "metadata": {
        "id": "YaI44T4XtcoR"
      },
      "source": [
        "# Chmura słów z opisów filmów - EWA"
      ]
    },
    {
      "cell_type": "code",
      "metadata": {
        "id": "deOMRwvbtkQS"
      },
      "source": [
        "import numpy as np\r\n",
        "import pandas as pd\r\n",
        "import matplotlib.pyplot as plt"
      ],
      "execution_count": null,
      "outputs": []
    },
    {
      "cell_type": "code",
      "metadata": {
        "id": "bkWmPFxmZ0fm"
      },
      "source": [
        ""
      ],
      "execution_count": null,
      "outputs": []
    },
    {
      "cell_type": "code",
      "metadata": {
        "id": "mrjaSYS2uTFW"
      },
      "source": [
        "from wordcloud import WordCloud"
      ],
      "execution_count": null,
      "outputs": []
    },
    {
      "cell_type": "code",
      "metadata": {
        "id": "pCzlh410x1nv"
      },
      "source": [
        "imdb_movies['description'] = imdb_movies['description'].astype('str')\r\n",
        "text = ' '.join(imdb_movies[\"description\"])"
      ],
      "execution_count": null,
      "outputs": []
    },
    {
      "cell_type": "code",
      "metadata": {
        "colab": {
          "base_uri": "https://localhost:8080/",
          "height": 69
        },
        "id": "2ovyT60AyVNl",
        "outputId": "8fbc5035-9844-408b-85f9-a5c1e26c4b38"
      },
      "source": [
        "text[:300]"
      ],
      "execution_count": null,
      "outputs": [
        {
          "output_type": "execute_result",
          "data": {
            "application/vnd.google.colaboratory.intrinsic+json": {
              "type": "string"
            },
            "text/plain": [
              "\"The adventures of a female reporter in the 1890s. True story of notorious Australian outlaw Ned Kelly (1855-80). Two men of high rank are both wooing the beautiful and famous equestrian acrobat Stella. While Stella ignores the jeweler Hirsch, she accepts Count von Waldberg's offer to follow her home\""
            ]
          },
          "metadata": {
            "tags": []
          },
          "execution_count": 40
        }
      ]
    },
    {
      "cell_type": "code",
      "metadata": {
        "colab": {
          "base_uri": "https://localhost:8080/",
          "height": 592
        },
        "id": "xWjWGMBdyfcT",
        "outputId": "c04dec77-f4d8-4682-ee6a-b04bd6ffc260"
      },
      "source": [
        "wc = WordCloud(max_words=300, width=800, height=600, max_font_size=100, background_color=\"white\")\r\n",
        "\r\n",
        "# generate word cloud\r\n",
        "wc.generate(text)\r\n",
        "plt.figure(figsize=(15, 10))\r\n",
        "plt.imshow(wc)\r\n",
        "plt.axis(\"off\")"
      ],
      "execution_count": null,
      "outputs": [
        {
          "output_type": "execute_result",
          "data": {
            "text/plain": [
              "(-0.5, 799.5, 599.5, -0.5)"
            ]
          },
          "metadata": {
            "tags": []
          },
          "execution_count": 41
        },
        {
          "output_type": "display_data",
          "data": {
            "image/png": "[encoded data removed]",
            "text/plain": [
              "<Figure size 1080x720 with 1 Axes>"
            ]
          },
          "metadata": {
            "tags": [],
            "needs_background": "light"
          }
        }
      ]
    }
  ]
}