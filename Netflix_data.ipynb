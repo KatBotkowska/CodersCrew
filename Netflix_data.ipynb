{
  "nbformat": 4,
  "nbformat_minor": 0,
  "metadata": {
    "colab": {
      "name": "Netflix_data.ipynb",
      "provenance": [],
      "collapsed_sections": [
        "y-dSyhk_t0ti",
        "KPrnVAh3SQSL",
        "P5nmxNc3T2s9",
        "stnsNibnpxvu",
        "armVCGXvrsny",
        "mMPbBqGYvKQ8",
        "9iicCMNXvOxV",
        "D5ehJJTuKOSN",
        "XWkmeu9eqbkP"
      ],
      "toc_visible": true,
      "include_colab_link": true
    },
    "kernelspec": {
      "name": "python3",
      "display_name": "Python 3"
    }
  },
  "cells": [
    {
      "cell_type": "markdown",
      "metadata": {
        "id": "view-in-github",
        "colab_type": "text"
      },
      "source": [
        "<a href=\"https://colab.research.google.com/github/KatBotkowska/CodersCrew/blob/master/Netflix_data.ipynb\" target=\"_parent\"><img src=\"https://colab.research.google.com/assets/colab-badge.svg\" alt=\"Open In Colab\"/></a>"
      ]
    },
    {
      "cell_type": "markdown",
      "metadata": {
        "id": "1dYNB-8ftFWJ"
      },
      "source": [
        "#Pobranie danych z Kaggle\n"
      ]
    },
    {
      "cell_type": "markdown",
      "metadata": {
        "id": "y-dSyhk_t0ti"
      },
      "source": [
        "###https://towardsdatascience.com/downloading-datasets-into-google-drive-via-google-colab-bcb1b30b0166"
      ]
    },
    {
      "cell_type": "markdown",
      "metadata": {
        "id": "Wv9tKl95kefb"
      },
      "source": [
        "##Importy - do przeniesienia z treści niżej"
      ]
    },
    {
      "cell_type": "code",
      "metadata": {
        "id": "a709fZDUFMfc"
      },
      "source": [
        "import pandas as pd\n",
        "import numpy as np\n"
      ],
      "execution_count": 14,
      "outputs": []
    },
    {
      "cell_type": "code",
      "metadata": {
        "colab": {
          "base_uri": "https://localhost:8080/"
        },
        "id": "hqDwSSzWplTI",
        "outputId": "b340f422-4b6b-401d-b4e6-14195bc3e470"
      },
      "source": [
        "#podłączenie google drive\n",
        "from google.colab import drive\n",
        "drive.mount('/content/gdrive')"
      ],
      "execution_count": 15,
      "outputs": [
        {
          "output_type": "stream",
          "text": [
            "Drive already mounted at /content/gdrive; to attempt to forcibly remount, call drive.mount(\"/content/gdrive\", force_remount=True).\n"
          ],
          "name": "stdout"
        }
      ]
    },
    {
      "cell_type": "code",
      "metadata": {
        "id": "pezF5SSlqJLm"
      },
      "source": [
        "root_path = 'gdrive/My Drive/netflix/'"
      ],
      "execution_count": 3,
      "outputs": []
    },
    {
      "cell_type": "code",
      "metadata": {
        "colab": {
          "resources": {
            "http://localhost:8080/nbextensions/google.colab/files.js": {
              "data": "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",
              "ok": true,
              "headers": [
                [
                  "content-type",
                  "application/javascript"
                ]
              ],
              "status": 200,
              "status_text": ""
            }
          },
          "base_uri": "https://localhost:8080/",
          "height": 109
        },
        "id": "gRka04f8qzYk",
        "outputId": "c050e1c6-bffa-4da5-e007-23264e063ff2"
      },
      "source": [
        "from google.colab import files\n",
        "files.upload()  #this will prompt you to upload the kaggle.json"
      ],
      "execution_count": 4,
      "outputs": [
        {
          "output_type": "display_data",
          "data": {
            "text/html": [
              "\n",
              "     <input type=\"file\" id=\"files-a7ecbcd5-80b7-48ef-88aa-24f75a979430\" name=\"files[]\" multiple disabled\n",
              "        style=\"border:none\" />\n",
              "     <output id=\"result-a7ecbcd5-80b7-48ef-88aa-24f75a979430\">\n",
              "      Upload widget is only available when the cell has been executed in the\n",
              "      current browser session. Please rerun this cell to enable.\n",
              "      </output>\n",
              "      <script src=\"/nbextensions/google.colab/files.js\"></script> "
            ],
            "text/plain": [
              "<IPython.core.display.HTML object>"
            ]
          },
          "metadata": {
            "tags": []
          }
        },
        {
          "output_type": "stream",
          "text": [
            "Saving kaggle.json to kaggle.json\n"
          ],
          "name": "stdout"
        },
        {
          "output_type": "execute_result",
          "data": {
            "text/plain": [
              "{'kaggle.json': b'{\"username\":\"kbotkowska\",\"key\":\"90ebb11108c952959800f5549af3472d\"}'}"
            ]
          },
          "metadata": {
            "tags": []
          },
          "execution_count": 4
        }
      ]
    },
    {
      "cell_type": "code",
      "metadata": {
        "colab": {
          "base_uri": "https://localhost:8080/"
        },
        "id": "QKw8uL2brD0I",
        "outputId": "cc41f1d5-708e-46ca-bb82-bb002bd154cd"
      },
      "source": [
        "!pip install -q kaggle\n",
        "!mkdir -p ~/.kaggle\n",
        "!cp kaggle.json ~/.kaggle/\n",
        "!ls ~/.kaggle\n",
        "!chmod 600 /root/.kaggle/kaggle.json  # set permission"
      ],
      "execution_count": 5,
      "outputs": [
        {
          "output_type": "stream",
          "text": [
            "kaggle.json\n"
          ],
          "name": "stdout"
        }
      ]
    },
    {
      "cell_type": "markdown",
      "metadata": {
        "id": "KPrnVAh3SQSL"
      },
      "source": [
        "##Pobranie i rozpakowanie danych kaggle - netflix"
      ]
    },
    {
      "cell_type": "code",
      "metadata": {
        "colab": {
          "base_uri": "https://localhost:8080/"
        },
        "id": "Pfvyg-q7oHyl",
        "outputId": "55d2ac36-d79d-4008-bc69-a973d3e8bd2f"
      },
      "source": [
        "!kaggle datasets download -d shivamb/netflix-shows"
      ],
      "execution_count": null,
      "outputs": [
        {
          "output_type": "stream",
          "text": [
            "401 - Unauthorized\n"
          ],
          "name": "stdout"
        }
      ]
    },
    {
      "cell_type": "code",
      "metadata": {
        "id": "U_F5ZGZErHTu",
        "colab": {
          "base_uri": "https://localhost:8080/"
        },
        "outputId": "5878f2de-9fd3-4816-cc6c-d0a05d0439f5"
      },
      "source": [
        "!unzip -q netflix-shows.zip -d [netflix]"
      ],
      "execution_count": null,
      "outputs": [
        {
          "output_type": "stream",
          "text": [
            "replace [netflix]/netflix_titles.csv? [y]es, [n]o, [A]ll, [N]one, [r]ename: "
          ],
          "name": "stdout"
        }
      ]
    },
    {
      "cell_type": "markdown",
      "metadata": {
        "id": "H-ct6GMeSVk9"
      },
      "source": [
        "##Pobranie i rozpakowanie danych kaggle - imdb"
      ]
    },
    {
      "cell_type": "code",
      "metadata": {
        "colab": {
          "base_uri": "https://localhost:8080/"
        },
        "id": "wu8fuoY9Qb2t",
        "outputId": "63b18b7a-9cd7-45a7-ea5c-e407f113b514"
      },
      "source": [
        "!kaggle datasets download -d stefanoleone992/imdb-extensive-dataset"
      ],
      "execution_count": 6,
      "outputs": [
        {
          "output_type": "stream",
          "text": [
            "Downloading imdb-extensive-dataset.zip to /content\n",
            " 98% 81.0M/82.3M [00:01<00:00, 52.0MB/s]\n",
            "100% 82.3M/82.3M [00:01<00:00, 74.1MB/s]\n"
          ],
          "name": "stdout"
        }
      ]
    },
    {
      "cell_type": "code",
      "metadata": {
        "id": "c11NHM89QnQS"
      },
      "source": [
        "!unzip -q imdb-extensive-dataset.zip -d [netflix]"
      ],
      "execution_count": 7,
      "outputs": []
    },
    {
      "cell_type": "markdown",
      "metadata": {
        "id": "P5nmxNc3T2s9"
      },
      "source": [
        "##Pobranie i rozpakowanie danych kaggle - movielens"
      ]
    },
    {
      "cell_type": "code",
      "metadata": {
        "colab": {
          "base_uri": "https://localhost:8080/"
        },
        "id": "Kqy8DmmUUA4w",
        "outputId": "2676305f-abe9-4813-c0f9-06b1dc8b56b5"
      },
      "source": [
        "!kaggle datasets download -d grouplens/movielens-20m-dataset"
      ],
      "execution_count": null,
      "outputs": [
        {
          "output_type": "stream",
          "text": [
            "Downloading movielens-20m-dataset.zip to /content\n",
            " 94% 184M/195M [00:01<00:00, 88.5MB/s]\n",
            "100% 195M/195M [00:01<00:00, 105MB/s] \n"
          ],
          "name": "stdout"
        }
      ]
    },
    {
      "cell_type": "code",
      "metadata": {
        "id": "tOuMnfUhUE45"
      },
      "source": [
        "!unzip -q movielens-20m-dataset.zip -d [netflix]"
      ],
      "execution_count": null,
      "outputs": []
    },
    {
      "cell_type": "markdown",
      "metadata": {
        "id": "Lw541Vd_Slpz"
      },
      "source": [
        "##Załadowanie dataframes"
      ]
    },
    {
      "cell_type": "code",
      "metadata": {
        "id": "tEdj0XV0vODT"
      },
      "source": [
        "import pandas as pd\n",
        "#netflix_titles = pd.read_csv('/content/[netflix]/netflix_titles.csv')"
      ],
      "execution_count": null,
      "outputs": []
    },
    {
      "cell_type": "code",
      "metadata": {
        "colab": {
          "base_uri": "https://localhost:8080/"
        },
        "id": "dqqUSfiJQ-oQ",
        "outputId": "5a53ef20-53c4-45c0-a87e-bf8e57c66199"
      },
      "source": [
        "imdb_movies = pd.read_csv('/content/[netflix]/IMDb movies.csv')\n",
        "imdb_names = pd.read_csv('/content/[netflix]/IMDb names.csv')\n",
        "imdb_ratings = pd.read_csv('/content/[netflix]/IMDb ratings.csv')\n",
        "imdb_title_principals = pd.read_csv('/content/[netflix]/IMDb title_principals.csv')"
      ],
      "execution_count": 8,
      "outputs": [
        {
          "output_type": "stream",
          "text": [
            "/usr/local/lib/python3.6/dist-packages/IPython/core/interactiveshell.py:2718: DtypeWarning: Columns (3) have mixed types.Specify dtype option on import or set low_memory=False.\n",
            "  interactivity=interactivity, compiler=compiler, result=result)\n"
          ],
          "name": "stderr"
        }
      ]
    },
    {
      "cell_type": "code",
      "metadata": {
        "id": "zjE02Hx9UU8l",
        "colab": {
          "base_uri": "https://localhost:8080/",
          "height": 493
        },
        "outputId": "0166d90a-4238-44d9-a5cf-f1ec783c94d4"
      },
      "source": [
        "movielens_genome_scores = pd.read_csv('/content/[netflix]/genome_scores.csv')\n",
        "movielens_genome_tags = pd.read_csv('/content/[netflix]/genome_tags.csv')\n",
        "movielens_link = pd.read_csv('/content/[netflix]/link.csv')\n",
        "movielens_movie = pd.read_csv('/content/[netflix]/movie.csv')\n",
        "movielens_rating = pd.read_csv('/content/[netflix]/rating.csv')\n",
        "movielens_tag = pd.read_csv('/content/[netflix]/tag.csv')"
      ],
      "execution_count": null,
      "outputs": [
        {
          "output_type": "error",
          "ename": "FileNotFoundError",
          "evalue": "ignored",
          "traceback": [
            "\u001b[0;31m---------------------------------------------------------------------------\u001b[0m",
            "\u001b[0;31mFileNotFoundError\u001b[0m                         Traceback (most recent call last)",
            "\u001b[0;32m<ipython-input-10-3abec3de9343>\u001b[0m in \u001b[0;36m<module>\u001b[0;34m()\u001b[0m\n\u001b[0;32m----> 1\u001b[0;31m \u001b[0mmovielens_genome_scores\u001b[0m \u001b[0;34m=\u001b[0m \u001b[0mpd\u001b[0m\u001b[0;34m.\u001b[0m\u001b[0mread_csv\u001b[0m\u001b[0;34m(\u001b[0m\u001b[0;34m'/content/[netflix]/genome_scores.csv'\u001b[0m\u001b[0;34m)\u001b[0m\u001b[0;34m\u001b[0m\u001b[0;34m\u001b[0m\u001b[0m\n\u001b[0m\u001b[1;32m      2\u001b[0m \u001b[0mmovielens_genome_tags\u001b[0m \u001b[0;34m=\u001b[0m \u001b[0mpd\u001b[0m\u001b[0;34m.\u001b[0m\u001b[0mread_csv\u001b[0m\u001b[0;34m(\u001b[0m\u001b[0;34m'/content/[netflix]/genome_tags.csv'\u001b[0m\u001b[0;34m)\u001b[0m\u001b[0;34m\u001b[0m\u001b[0;34m\u001b[0m\u001b[0m\n\u001b[1;32m      3\u001b[0m \u001b[0mmovielens_link\u001b[0m \u001b[0;34m=\u001b[0m \u001b[0mpd\u001b[0m\u001b[0;34m.\u001b[0m\u001b[0mread_csv\u001b[0m\u001b[0;34m(\u001b[0m\u001b[0;34m'/content/[netflix]/link.csv'\u001b[0m\u001b[0;34m)\u001b[0m\u001b[0;34m\u001b[0m\u001b[0;34m\u001b[0m\u001b[0m\n\u001b[1;32m      4\u001b[0m \u001b[0mmovielens_movie\u001b[0m \u001b[0;34m=\u001b[0m \u001b[0mpd\u001b[0m\u001b[0;34m.\u001b[0m\u001b[0mread_csv\u001b[0m\u001b[0;34m(\u001b[0m\u001b[0;34m'/content/[netflix]/movie.csv'\u001b[0m\u001b[0;34m)\u001b[0m\u001b[0;34m\u001b[0m\u001b[0;34m\u001b[0m\u001b[0m\n\u001b[1;32m      5\u001b[0m \u001b[0mmovielens_rating\u001b[0m \u001b[0;34m=\u001b[0m \u001b[0mpd\u001b[0m\u001b[0;34m.\u001b[0m\u001b[0mread_csv\u001b[0m\u001b[0;34m(\u001b[0m\u001b[0;34m'/content/[netflix]/rating.csv'\u001b[0m\u001b[0;34m)\u001b[0m\u001b[0;34m\u001b[0m\u001b[0;34m\u001b[0m\u001b[0m\n",
            "\u001b[0;32m/usr/local/lib/python3.6/dist-packages/pandas/io/parsers.py\u001b[0m in \u001b[0;36mread_csv\u001b[0;34m(filepath_or_buffer, sep, delimiter, header, names, index_col, usecols, squeeze, prefix, mangle_dupe_cols, dtype, engine, converters, true_values, false_values, skipinitialspace, skiprows, skipfooter, nrows, na_values, keep_default_na, na_filter, verbose, skip_blank_lines, parse_dates, infer_datetime_format, keep_date_col, date_parser, dayfirst, cache_dates, iterator, chunksize, compression, thousands, decimal, lineterminator, quotechar, quoting, doublequote, escapechar, comment, encoding, dialect, error_bad_lines, warn_bad_lines, delim_whitespace, low_memory, memory_map, float_precision)\u001b[0m\n\u001b[1;32m    686\u001b[0m     )\n\u001b[1;32m    687\u001b[0m \u001b[0;34m\u001b[0m\u001b[0m\n\u001b[0;32m--> 688\u001b[0;31m     \u001b[0;32mreturn\u001b[0m \u001b[0m_read\u001b[0m\u001b[0;34m(\u001b[0m\u001b[0mfilepath_or_buffer\u001b[0m\u001b[0;34m,\u001b[0m \u001b[0mkwds\u001b[0m\u001b[0;34m)\u001b[0m\u001b[0;34m\u001b[0m\u001b[0;34m\u001b[0m\u001b[0m\n\u001b[0m\u001b[1;32m    689\u001b[0m \u001b[0;34m\u001b[0m\u001b[0m\n\u001b[1;32m    690\u001b[0m \u001b[0;34m\u001b[0m\u001b[0m\n",
            "\u001b[0;32m/usr/local/lib/python3.6/dist-packages/pandas/io/parsers.py\u001b[0m in \u001b[0;36m_read\u001b[0;34m(filepath_or_buffer, kwds)\u001b[0m\n\u001b[1;32m    452\u001b[0m \u001b[0;34m\u001b[0m\u001b[0m\n\u001b[1;32m    453\u001b[0m     \u001b[0;31m# Create the parser.\u001b[0m\u001b[0;34m\u001b[0m\u001b[0;34m\u001b[0m\u001b[0;34m\u001b[0m\u001b[0m\n\u001b[0;32m--> 454\u001b[0;31m     \u001b[0mparser\u001b[0m \u001b[0;34m=\u001b[0m \u001b[0mTextFileReader\u001b[0m\u001b[0;34m(\u001b[0m\u001b[0mfp_or_buf\u001b[0m\u001b[0;34m,\u001b[0m \u001b[0;34m**\u001b[0m\u001b[0mkwds\u001b[0m\u001b[0;34m)\u001b[0m\u001b[0;34m\u001b[0m\u001b[0;34m\u001b[0m\u001b[0m\n\u001b[0m\u001b[1;32m    455\u001b[0m \u001b[0;34m\u001b[0m\u001b[0m\n\u001b[1;32m    456\u001b[0m     \u001b[0;32mif\u001b[0m \u001b[0mchunksize\u001b[0m \u001b[0;32mor\u001b[0m \u001b[0miterator\u001b[0m\u001b[0;34m:\u001b[0m\u001b[0;34m\u001b[0m\u001b[0;34m\u001b[0m\u001b[0m\n",
            "\u001b[0;32m/usr/local/lib/python3.6/dist-packages/pandas/io/parsers.py\u001b[0m in \u001b[0;36m__init__\u001b[0;34m(self, f, engine, **kwds)\u001b[0m\n\u001b[1;32m    946\u001b[0m             \u001b[0mself\u001b[0m\u001b[0;34m.\u001b[0m\u001b[0moptions\u001b[0m\u001b[0;34m[\u001b[0m\u001b[0;34m\"has_index_names\"\u001b[0m\u001b[0;34m]\u001b[0m \u001b[0;34m=\u001b[0m \u001b[0mkwds\u001b[0m\u001b[0;34m[\u001b[0m\u001b[0;34m\"has_index_names\"\u001b[0m\u001b[0;34m]\u001b[0m\u001b[0;34m\u001b[0m\u001b[0;34m\u001b[0m\u001b[0m\n\u001b[1;32m    947\u001b[0m \u001b[0;34m\u001b[0m\u001b[0m\n\u001b[0;32m--> 948\u001b[0;31m         \u001b[0mself\u001b[0m\u001b[0;34m.\u001b[0m\u001b[0m_make_engine\u001b[0m\u001b[0;34m(\u001b[0m\u001b[0mself\u001b[0m\u001b[0;34m.\u001b[0m\u001b[0mengine\u001b[0m\u001b[0;34m)\u001b[0m\u001b[0;34m\u001b[0m\u001b[0;34m\u001b[0m\u001b[0m\n\u001b[0m\u001b[1;32m    949\u001b[0m \u001b[0;34m\u001b[0m\u001b[0m\n\u001b[1;32m    950\u001b[0m     \u001b[0;32mdef\u001b[0m \u001b[0mclose\u001b[0m\u001b[0;34m(\u001b[0m\u001b[0mself\u001b[0m\u001b[0;34m)\u001b[0m\u001b[0;34m:\u001b[0m\u001b[0;34m\u001b[0m\u001b[0;34m\u001b[0m\u001b[0m\n",
            "\u001b[0;32m/usr/local/lib/python3.6/dist-packages/pandas/io/parsers.py\u001b[0m in \u001b[0;36m_make_engine\u001b[0;34m(self, engine)\u001b[0m\n\u001b[1;32m   1178\u001b[0m     \u001b[0;32mdef\u001b[0m \u001b[0m_make_engine\u001b[0m\u001b[0;34m(\u001b[0m\u001b[0mself\u001b[0m\u001b[0;34m,\u001b[0m \u001b[0mengine\u001b[0m\u001b[0;34m=\u001b[0m\u001b[0;34m\"c\"\u001b[0m\u001b[0;34m)\u001b[0m\u001b[0;34m:\u001b[0m\u001b[0;34m\u001b[0m\u001b[0;34m\u001b[0m\u001b[0m\n\u001b[1;32m   1179\u001b[0m         \u001b[0;32mif\u001b[0m \u001b[0mengine\u001b[0m \u001b[0;34m==\u001b[0m \u001b[0;34m\"c\"\u001b[0m\u001b[0;34m:\u001b[0m\u001b[0;34m\u001b[0m\u001b[0;34m\u001b[0m\u001b[0m\n\u001b[0;32m-> 1180\u001b[0;31m             \u001b[0mself\u001b[0m\u001b[0;34m.\u001b[0m\u001b[0m_engine\u001b[0m \u001b[0;34m=\u001b[0m \u001b[0mCParserWrapper\u001b[0m\u001b[0;34m(\u001b[0m\u001b[0mself\u001b[0m\u001b[0;34m.\u001b[0m\u001b[0mf\u001b[0m\u001b[0;34m,\u001b[0m \u001b[0;34m**\u001b[0m\u001b[0mself\u001b[0m\u001b[0;34m.\u001b[0m\u001b[0moptions\u001b[0m\u001b[0;34m)\u001b[0m\u001b[0;34m\u001b[0m\u001b[0;34m\u001b[0m\u001b[0m\n\u001b[0m\u001b[1;32m   1181\u001b[0m         \u001b[0;32melse\u001b[0m\u001b[0;34m:\u001b[0m\u001b[0;34m\u001b[0m\u001b[0;34m\u001b[0m\u001b[0m\n\u001b[1;32m   1182\u001b[0m             \u001b[0;32mif\u001b[0m \u001b[0mengine\u001b[0m \u001b[0;34m==\u001b[0m \u001b[0;34m\"python\"\u001b[0m\u001b[0;34m:\u001b[0m\u001b[0;34m\u001b[0m\u001b[0;34m\u001b[0m\u001b[0m\n",
            "\u001b[0;32m/usr/local/lib/python3.6/dist-packages/pandas/io/parsers.py\u001b[0m in \u001b[0;36m__init__\u001b[0;34m(self, src, **kwds)\u001b[0m\n\u001b[1;32m   2008\u001b[0m         \u001b[0mkwds\u001b[0m\u001b[0;34m[\u001b[0m\u001b[0;34m\"usecols\"\u001b[0m\u001b[0;34m]\u001b[0m \u001b[0;34m=\u001b[0m \u001b[0mself\u001b[0m\u001b[0;34m.\u001b[0m\u001b[0musecols\u001b[0m\u001b[0;34m\u001b[0m\u001b[0;34m\u001b[0m\u001b[0m\n\u001b[1;32m   2009\u001b[0m \u001b[0;34m\u001b[0m\u001b[0m\n\u001b[0;32m-> 2010\u001b[0;31m         \u001b[0mself\u001b[0m\u001b[0;34m.\u001b[0m\u001b[0m_reader\u001b[0m \u001b[0;34m=\u001b[0m \u001b[0mparsers\u001b[0m\u001b[0;34m.\u001b[0m\u001b[0mTextReader\u001b[0m\u001b[0;34m(\u001b[0m\u001b[0msrc\u001b[0m\u001b[0;34m,\u001b[0m \u001b[0;34m**\u001b[0m\u001b[0mkwds\u001b[0m\u001b[0;34m)\u001b[0m\u001b[0;34m\u001b[0m\u001b[0;34m\u001b[0m\u001b[0m\n\u001b[0m\u001b[1;32m   2011\u001b[0m         \u001b[0mself\u001b[0m\u001b[0;34m.\u001b[0m\u001b[0munnamed_cols\u001b[0m \u001b[0;34m=\u001b[0m \u001b[0mself\u001b[0m\u001b[0;34m.\u001b[0m\u001b[0m_reader\u001b[0m\u001b[0;34m.\u001b[0m\u001b[0munnamed_cols\u001b[0m\u001b[0;34m\u001b[0m\u001b[0;34m\u001b[0m\u001b[0m\n\u001b[1;32m   2012\u001b[0m \u001b[0;34m\u001b[0m\u001b[0m\n",
            "\u001b[0;32mpandas/_libs/parsers.pyx\u001b[0m in \u001b[0;36mpandas._libs.parsers.TextReader.__cinit__\u001b[0;34m()\u001b[0m\n",
            "\u001b[0;32mpandas/_libs/parsers.pyx\u001b[0m in \u001b[0;36mpandas._libs.parsers.TextReader._setup_parser_source\u001b[0;34m()\u001b[0m\n",
            "\u001b[0;31mFileNotFoundError\u001b[0m: [Errno 2] No such file or directory: '/content/[netflix]/genome_scores.csv'"
          ]
        }
      ]
    },
    {
      "cell_type": "markdown",
      "metadata": {
        "id": "o4jpNnrJj-Bf"
      },
      "source": [
        "##Czyszczenie danych\n",
        "zamiana wiersza z TV movie 2019 na 2019\n",
        "dtypes z object na właściwe\n",
        "NaN??\n",
        "gatunki zamiana ze stringa na listy tagów\n"
      ]
    },
    {
      "cell_type": "code",
      "metadata": {
        "id": "ANsPutvgkMWX"
      },
      "source": [
        ""
      ],
      "execution_count": null,
      "outputs": []
    },
    {
      "cell_type": "markdown",
      "metadata": {
        "id": "stnsNibnpxvu"
      },
      "source": [
        "#Netflix - podstawowe dane\n"
      ]
    },
    {
      "cell_type": "code",
      "metadata": {
        "colab": {
          "base_uri": "https://localhost:8080/",
          "height": 666
        },
        "id": "Df1j4jqJvpat",
        "outputId": "efc9ae95-f888-4d54-c7d3-2d3dec6de0f9"
      },
      "source": [
        "netflix_titles.head()"
      ],
      "execution_count": null,
      "outputs": [
        {
          "output_type": "execute_result",
          "data": {
            "text/html": [
              "<div>\n",
              "<style scoped>\n",
              "    .dataframe tbody tr th:only-of-type {\n",
              "        vertical-align: middle;\n",
              "    }\n",
              "\n",
              "    .dataframe tbody tr th {\n",
              "        vertical-align: top;\n",
              "    }\n",
              "\n",
              "    .dataframe thead th {\n",
              "        text-align: right;\n",
              "    }\n",
              "</style>\n",
              "<table border=\"1\" class=\"dataframe\">\n",
              "  <thead>\n",
              "    <tr style=\"text-align: right;\">\n",
              "      <th></th>\n",
              "      <th>show_id</th>\n",
              "      <th>type</th>\n",
              "      <th>title</th>\n",
              "      <th>director</th>\n",
              "      <th>cast</th>\n",
              "      <th>country</th>\n",
              "      <th>date_added</th>\n",
              "      <th>release_year</th>\n",
              "      <th>rating</th>\n",
              "      <th>duration</th>\n",
              "      <th>listed_in</th>\n",
              "      <th>description</th>\n",
              "    </tr>\n",
              "  </thead>\n",
              "  <tbody>\n",
              "    <tr>\n",
              "      <th>0</th>\n",
              "      <td>81145628</td>\n",
              "      <td>Movie</td>\n",
              "      <td>Norm of the North: King Sized Adventure</td>\n",
              "      <td>Richard Finn, Tim Maltby</td>\n",
              "      <td>Alan Marriott, Andrew Toth, Brian Dobson, Cole...</td>\n",
              "      <td>United States, India, South Korea, China</td>\n",
              "      <td>September 9, 2019</td>\n",
              "      <td>2019</td>\n",
              "      <td>TV-PG</td>\n",
              "      <td>90 min</td>\n",
              "      <td>Children &amp; Family Movies, Comedies</td>\n",
              "      <td>Before planning an awesome wedding for his gra...</td>\n",
              "    </tr>\n",
              "    <tr>\n",
              "      <th>1</th>\n",
              "      <td>80117401</td>\n",
              "      <td>Movie</td>\n",
              "      <td>Jandino: Whatever it Takes</td>\n",
              "      <td>NaN</td>\n",
              "      <td>Jandino Asporaat</td>\n",
              "      <td>United Kingdom</td>\n",
              "      <td>September 9, 2016</td>\n",
              "      <td>2016</td>\n",
              "      <td>TV-MA</td>\n",
              "      <td>94 min</td>\n",
              "      <td>Stand-Up Comedy</td>\n",
              "      <td>Jandino Asporaat riffs on the challenges of ra...</td>\n",
              "    </tr>\n",
              "    <tr>\n",
              "      <th>2</th>\n",
              "      <td>70234439</td>\n",
              "      <td>TV Show</td>\n",
              "      <td>Transformers Prime</td>\n",
              "      <td>NaN</td>\n",
              "      <td>Peter Cullen, Sumalee Montano, Frank Welker, J...</td>\n",
              "      <td>United States</td>\n",
              "      <td>September 8, 2018</td>\n",
              "      <td>2013</td>\n",
              "      <td>TV-Y7-FV</td>\n",
              "      <td>1 Season</td>\n",
              "      <td>Kids' TV</td>\n",
              "      <td>With the help of three human allies, the Autob...</td>\n",
              "    </tr>\n",
              "    <tr>\n",
              "      <th>3</th>\n",
              "      <td>80058654</td>\n",
              "      <td>TV Show</td>\n",
              "      <td>Transformers: Robots in Disguise</td>\n",
              "      <td>NaN</td>\n",
              "      <td>Will Friedle, Darren Criss, Constance Zimmer, ...</td>\n",
              "      <td>United States</td>\n",
              "      <td>September 8, 2018</td>\n",
              "      <td>2016</td>\n",
              "      <td>TV-Y7</td>\n",
              "      <td>1 Season</td>\n",
              "      <td>Kids' TV</td>\n",
              "      <td>When a prison ship crash unleashes hundreds of...</td>\n",
              "    </tr>\n",
              "    <tr>\n",
              "      <th>4</th>\n",
              "      <td>80125979</td>\n",
              "      <td>Movie</td>\n",
              "      <td>#realityhigh</td>\n",
              "      <td>Fernando Lebrija</td>\n",
              "      <td>Nesta Cooper, Kate Walsh, John Michael Higgins...</td>\n",
              "      <td>United States</td>\n",
              "      <td>September 8, 2017</td>\n",
              "      <td>2017</td>\n",
              "      <td>TV-14</td>\n",
              "      <td>99 min</td>\n",
              "      <td>Comedies</td>\n",
              "      <td>When nerdy high schooler Dani finally attracts...</td>\n",
              "    </tr>\n",
              "  </tbody>\n",
              "</table>\n",
              "</div>"
            ],
            "text/plain": [
              "    show_id  ...                                        description\n",
              "0  81145628  ...  Before planning an awesome wedding for his gra...\n",
              "1  80117401  ...  Jandino Asporaat riffs on the challenges of ra...\n",
              "2  70234439  ...  With the help of three human allies, the Autob...\n",
              "3  80058654  ...  When a prison ship crash unleashes hundreds of...\n",
              "4  80125979  ...  When nerdy high schooler Dani finally attracts...\n",
              "\n",
              "[5 rows x 12 columns]"
            ]
          },
          "metadata": {
            "tags": []
          },
          "execution_count": 15
        }
      ]
    },
    {
      "cell_type": "code",
      "metadata": {
        "colab": {
          "base_uri": "https://localhost:8080/"
        },
        "id": "lR4GTaGoqm1z",
        "outputId": "81d13dbb-43fd-4301-89d2-09d7d026516a"
      },
      "source": [
        "netflix_titles.shape\n",
        "#rozmiary  - wiersze i kolumny"
      ],
      "execution_count": null,
      "outputs": [
        {
          "output_type": "execute_result",
          "data": {
            "text/plain": [
              "(6234, 12)"
            ]
          },
          "metadata": {
            "tags": []
          },
          "execution_count": 16
        }
      ]
    },
    {
      "cell_type": "code",
      "metadata": {
        "colab": {
          "base_uri": "https://localhost:8080/"
        },
        "id": "O619TBHPp3no",
        "outputId": "1888dae3-b605-4c95-f482-6d18cd282ba0"
      },
      "source": [
        "netflix_titles.info()\n"
      ],
      "execution_count": null,
      "outputs": [
        {
          "output_type": "stream",
          "text": [
            "<class 'pandas.core.frame.DataFrame'>\n",
            "RangeIndex: 6234 entries, 0 to 6233\n",
            "Data columns (total 12 columns):\n",
            " #   Column        Non-Null Count  Dtype \n",
            "---  ------        --------------  ----- \n",
            " 0   show_id       6234 non-null   int64 \n",
            " 1   type          6234 non-null   object\n",
            " 2   title         6234 non-null   object\n",
            " 3   director      4265 non-null   object\n",
            " 4   cast          5664 non-null   object\n",
            " 5   country       5758 non-null   object\n",
            " 6   date_added    6223 non-null   object\n",
            " 7   release_year  6234 non-null   int64 \n",
            " 8   rating        6224 non-null   object\n",
            " 9   duration      6234 non-null   object\n",
            " 10  listed_in     6234 non-null   object\n",
            " 11  description   6234 non-null   object\n",
            "dtypes: int64(2), object(10)\n",
            "memory usage: 584.6+ KB\n"
          ],
          "name": "stdout"
        }
      ]
    },
    {
      "cell_type": "code",
      "metadata": {
        "colab": {
          "base_uri": "https://localhost:8080/",
          "height": 297
        },
        "id": "6849qabLqD-R",
        "outputId": "37e3ae8f-e022-4ad5-d8bf-2ae9b118581e"
      },
      "source": [
        "netflix_titles.describe()\n",
        "#trochę bez sensu, nie ma tutaj dużo danych numerycznych do podsumowań"
      ],
      "execution_count": null,
      "outputs": [
        {
          "output_type": "execute_result",
          "data": {
            "text/html": [
              "<div>\n",
              "<style scoped>\n",
              "    .dataframe tbody tr th:only-of-type {\n",
              "        vertical-align: middle;\n",
              "    }\n",
              "\n",
              "    .dataframe tbody tr th {\n",
              "        vertical-align: top;\n",
              "    }\n",
              "\n",
              "    .dataframe thead th {\n",
              "        text-align: right;\n",
              "    }\n",
              "</style>\n",
              "<table border=\"1\" class=\"dataframe\">\n",
              "  <thead>\n",
              "    <tr style=\"text-align: right;\">\n",
              "      <th></th>\n",
              "      <th>show_id</th>\n",
              "      <th>release_year</th>\n",
              "    </tr>\n",
              "  </thead>\n",
              "  <tbody>\n",
              "    <tr>\n",
              "      <th>count</th>\n",
              "      <td>6.234000e+03</td>\n",
              "      <td>6234.00000</td>\n",
              "    </tr>\n",
              "    <tr>\n",
              "      <th>mean</th>\n",
              "      <td>7.670368e+07</td>\n",
              "      <td>2013.35932</td>\n",
              "    </tr>\n",
              "    <tr>\n",
              "      <th>std</th>\n",
              "      <td>1.094296e+07</td>\n",
              "      <td>8.81162</td>\n",
              "    </tr>\n",
              "    <tr>\n",
              "      <th>min</th>\n",
              "      <td>2.477470e+05</td>\n",
              "      <td>1925.00000</td>\n",
              "    </tr>\n",
              "    <tr>\n",
              "      <th>25%</th>\n",
              "      <td>8.003580e+07</td>\n",
              "      <td>2013.00000</td>\n",
              "    </tr>\n",
              "    <tr>\n",
              "      <th>50%</th>\n",
              "      <td>8.016337e+07</td>\n",
              "      <td>2016.00000</td>\n",
              "    </tr>\n",
              "    <tr>\n",
              "      <th>75%</th>\n",
              "      <td>8.024489e+07</td>\n",
              "      <td>2018.00000</td>\n",
              "    </tr>\n",
              "    <tr>\n",
              "      <th>max</th>\n",
              "      <td>8.123573e+07</td>\n",
              "      <td>2020.00000</td>\n",
              "    </tr>\n",
              "  </tbody>\n",
              "</table>\n",
              "</div>"
            ],
            "text/plain": [
              "            show_id  release_year\n",
              "count  6.234000e+03    6234.00000\n",
              "mean   7.670368e+07    2013.35932\n",
              "std    1.094296e+07       8.81162\n",
              "min    2.477470e+05    1925.00000\n",
              "25%    8.003580e+07    2013.00000\n",
              "50%    8.016337e+07    2016.00000\n",
              "75%    8.024489e+07    2018.00000\n",
              "max    8.123573e+07    2020.00000"
            ]
          },
          "metadata": {
            "tags": []
          },
          "execution_count": 18
        }
      ]
    },
    {
      "cell_type": "markdown",
      "metadata": {
        "id": "armVCGXvrsny"
      },
      "source": [
        "##Netflix dla 2019"
      ]
    },
    {
      "cell_type": "code",
      "metadata": {
        "colab": {
          "base_uri": "https://localhost:8080/",
          "height": 666
        },
        "id": "MoGZa1ttq3-C",
        "outputId": "e0fd4d9c-5756-4504-cb79-5424f5c6c05b"
      },
      "source": [
        "netflix_2019 = netflix_titles.iloc[:,:][netflix_titles.release_year==2019]\n",
        "netflix_2019.head()"
      ],
      "execution_count": null,
      "outputs": [
        {
          "output_type": "execute_result",
          "data": {
            "text/html": [
              "<div>\n",
              "<style scoped>\n",
              "    .dataframe tbody tr th:only-of-type {\n",
              "        vertical-align: middle;\n",
              "    }\n",
              "\n",
              "    .dataframe tbody tr th {\n",
              "        vertical-align: top;\n",
              "    }\n",
              "\n",
              "    .dataframe thead th {\n",
              "        text-align: right;\n",
              "    }\n",
              "</style>\n",
              "<table border=\"1\" class=\"dataframe\">\n",
              "  <thead>\n",
              "    <tr style=\"text-align: right;\">\n",
              "      <th></th>\n",
              "      <th>show_id</th>\n",
              "      <th>type</th>\n",
              "      <th>title</th>\n",
              "      <th>director</th>\n",
              "      <th>cast</th>\n",
              "      <th>country</th>\n",
              "      <th>date_added</th>\n",
              "      <th>release_year</th>\n",
              "      <th>rating</th>\n",
              "      <th>duration</th>\n",
              "      <th>listed_in</th>\n",
              "      <th>description</th>\n",
              "    </tr>\n",
              "  </thead>\n",
              "  <tbody>\n",
              "    <tr>\n",
              "      <th>0</th>\n",
              "      <td>81145628</td>\n",
              "      <td>Movie</td>\n",
              "      <td>Norm of the North: King Sized Adventure</td>\n",
              "      <td>Richard Finn, Tim Maltby</td>\n",
              "      <td>Alan Marriott, Andrew Toth, Brian Dobson, Cole...</td>\n",
              "      <td>United States, India, South Korea, China</td>\n",
              "      <td>September 9, 2019</td>\n",
              "      <td>2019</td>\n",
              "      <td>TV-PG</td>\n",
              "      <td>90 min</td>\n",
              "      <td>Children &amp; Family Movies, Comedies</td>\n",
              "      <td>Before planning an awesome wedding for his gra...</td>\n",
              "    </tr>\n",
              "    <tr>\n",
              "      <th>34</th>\n",
              "      <td>80221550</td>\n",
              "      <td>TV Show</td>\n",
              "      <td>Archibald's Next Big Thing</td>\n",
              "      <td>NaN</td>\n",
              "      <td>Tony Hale, Rosamund Pike, Jordan Fisher, Chels...</td>\n",
              "      <td>NaN</td>\n",
              "      <td>September 6, 2019</td>\n",
              "      <td>2019</td>\n",
              "      <td>TV-Y7</td>\n",
              "      <td>1 Season</td>\n",
              "      <td>Kids' TV, TV Comedies</td>\n",
              "      <td>Happy-go-lucky chicken Archibald may not remem...</td>\n",
              "    </tr>\n",
              "    <tr>\n",
              "      <th>35</th>\n",
              "      <td>81154455</td>\n",
              "      <td>Movie</td>\n",
              "      <td>Article 15</td>\n",
              "      <td>Anubhav Sinha</td>\n",
              "      <td>Ayushmann Khurrana, Nassar, Manoj Pahwa, Kumud...</td>\n",
              "      <td>India</td>\n",
              "      <td>September 6, 2019</td>\n",
              "      <td>2019</td>\n",
              "      <td>TV-MA</td>\n",
              "      <td>125 min</td>\n",
              "      <td>Dramas, International Movies, Thrillers</td>\n",
              "      <td>The grim realities of caste discrimination com...</td>\n",
              "    </tr>\n",
              "    <tr>\n",
              "      <th>38</th>\n",
              "      <td>81132437</td>\n",
              "      <td>Movie</td>\n",
              "      <td>Kill Me If You Dare</td>\n",
              "      <td>Şenol Sönmez</td>\n",
              "      <td>Murat Boz, Seda Bakan, Açelya Topaloğlu, Özgür...</td>\n",
              "      <td>NaN</td>\n",
              "      <td>September 6, 2019</td>\n",
              "      <td>2019</td>\n",
              "      <td>TV-14</td>\n",
              "      <td>100 min</td>\n",
              "      <td>Comedies, International Movies, Romantic Movies</td>\n",
              "      <td>Bogged down with money problems, a couple grow...</td>\n",
              "    </tr>\n",
              "    <tr>\n",
              "      <th>39</th>\n",
              "      <td>80178151</td>\n",
              "      <td>TV Show</td>\n",
              "      <td>The Spy</td>\n",
              "      <td>NaN</td>\n",
              "      <td>Sacha Baron Cohen, Noah Emmerich, Hadar Ratzon...</td>\n",
              "      <td>France</td>\n",
              "      <td>September 6, 2019</td>\n",
              "      <td>2019</td>\n",
              "      <td>TV-MA</td>\n",
              "      <td>1 Season</td>\n",
              "      <td>International TV Shows, TV Dramas, TV Thrillers</td>\n",
              "      <td>In the 1960s, Israeli clerk-turned-secret agen...</td>\n",
              "    </tr>\n",
              "  </tbody>\n",
              "</table>\n",
              "</div>"
            ],
            "text/plain": [
              "     show_id  ...                                        description\n",
              "0   81145628  ...  Before planning an awesome wedding for his gra...\n",
              "34  80221550  ...  Happy-go-lucky chicken Archibald may not remem...\n",
              "35  81154455  ...  The grim realities of caste discrimination com...\n",
              "38  81132437  ...  Bogged down with money problems, a couple grow...\n",
              "39  80178151  ...  In the 1960s, Israeli clerk-turned-secret agen...\n",
              "\n",
              "[5 rows x 12 columns]"
            ]
          },
          "metadata": {
            "tags": []
          },
          "execution_count": 19
        }
      ]
    },
    {
      "cell_type": "code",
      "metadata": {
        "colab": {
          "base_uri": "https://localhost:8080/"
        },
        "id": "W3sHrlc0rx8a",
        "outputId": "823b51f2-22c8-4cc0-f12d-498d65e06e1f"
      },
      "source": [
        "netflix_2019.shape"
      ],
      "execution_count": null,
      "outputs": [
        {
          "output_type": "execute_result",
          "data": {
            "text/plain": [
              "(843, 12)"
            ]
          },
          "metadata": {
            "tags": []
          },
          "execution_count": 20
        }
      ]
    },
    {
      "cell_type": "code",
      "metadata": {
        "colab": {
          "base_uri": "https://localhost:8080/",
          "height": 717
        },
        "id": "olFvtc0kTMaN",
        "outputId": "3ad87b3a-0cc6-4698-8e92-35e98fe7cb40"
      },
      "source": [
        "imdb_movies.tail()"
      ],
      "execution_count": null,
      "outputs": [
        {
          "output_type": "execute_result",
          "data": {
            "text/html": [
              "<div>\n",
              "<style scoped>\n",
              "    .dataframe tbody tr th:only-of-type {\n",
              "        vertical-align: middle;\n",
              "    }\n",
              "\n",
              "    .dataframe tbody tr th {\n",
              "        vertical-align: top;\n",
              "    }\n",
              "\n",
              "    .dataframe thead th {\n",
              "        text-align: right;\n",
              "    }\n",
              "</style>\n",
              "<table border=\"1\" class=\"dataframe\">\n",
              "  <thead>\n",
              "    <tr style=\"text-align: right;\">\n",
              "      <th></th>\n",
              "      <th>imdb_title_id</th>\n",
              "      <th>title</th>\n",
              "      <th>original_title</th>\n",
              "      <th>year</th>\n",
              "      <th>date_published</th>\n",
              "      <th>genre</th>\n",
              "      <th>duration</th>\n",
              "      <th>country</th>\n",
              "      <th>language</th>\n",
              "      <th>director</th>\n",
              "      <th>writer</th>\n",
              "      <th>production_company</th>\n",
              "      <th>actors</th>\n",
              "      <th>description</th>\n",
              "      <th>avg_vote</th>\n",
              "      <th>votes</th>\n",
              "      <th>budget</th>\n",
              "      <th>usa_gross_income</th>\n",
              "      <th>worlwide_gross_income</th>\n",
              "      <th>metascore</th>\n",
              "      <th>reviews_from_users</th>\n",
              "      <th>reviews_from_critics</th>\n",
              "    </tr>\n",
              "  </thead>\n",
              "  <tbody>\n",
              "    <tr>\n",
              "      <th>85850</th>\n",
              "      <td>tt9908390</td>\n",
              "      <td>Le lion</td>\n",
              "      <td>Le lion</td>\n",
              "      <td>2020</td>\n",
              "      <td>2020-01-29</td>\n",
              "      <td>Comedy</td>\n",
              "      <td>95</td>\n",
              "      <td>France, Belgium</td>\n",
              "      <td>French</td>\n",
              "      <td>Ludovic Colbeau-Justin</td>\n",
              "      <td>Alexandre Coquelle, Matthieu Le Naour</td>\n",
              "      <td>Monkey Pack Films</td>\n",
              "      <td>Dany Boon, Philippe Katerine, Anne Serra, Samu...</td>\n",
              "      <td>A psychiatric hospital patient pretends to be ...</td>\n",
              "      <td>5.3</td>\n",
              "      <td>398</td>\n",
              "      <td>NaN</td>\n",
              "      <td>NaN</td>\n",
              "      <td>$ 3507171</td>\n",
              "      <td>NaN</td>\n",
              "      <td>NaN</td>\n",
              "      <td>4.0</td>\n",
              "    </tr>\n",
              "    <tr>\n",
              "      <th>85851</th>\n",
              "      <td>tt9911196</td>\n",
              "      <td>De Beentjes van Sint-Hildegard</td>\n",
              "      <td>De Beentjes van Sint-Hildegard</td>\n",
              "      <td>2020</td>\n",
              "      <td>2020-02-13</td>\n",
              "      <td>Comedy, Drama</td>\n",
              "      <td>103</td>\n",
              "      <td>Netherlands</td>\n",
              "      <td>German, Dutch</td>\n",
              "      <td>Johan Nijenhuis</td>\n",
              "      <td>Radek Bajgar, Herman Finkers</td>\n",
              "      <td>Johan Nijenhuis &amp; Co</td>\n",
              "      <td>Herman Finkers, Johanna ter Steege, Leonie ter...</td>\n",
              "      <td>A middle-aged veterinary surgeon believes his ...</td>\n",
              "      <td>7.7</td>\n",
              "      <td>724</td>\n",
              "      <td>NaN</td>\n",
              "      <td>NaN</td>\n",
              "      <td>$ 7299062</td>\n",
              "      <td>NaN</td>\n",
              "      <td>6.0</td>\n",
              "      <td>4.0</td>\n",
              "    </tr>\n",
              "    <tr>\n",
              "      <th>85852</th>\n",
              "      <td>tt9911774</td>\n",
              "      <td>Padmavyuhathile Abhimanyu</td>\n",
              "      <td>Padmavyuhathile Abhimanyu</td>\n",
              "      <td>2019</td>\n",
              "      <td>2019-03-08</td>\n",
              "      <td>Drama</td>\n",
              "      <td>130</td>\n",
              "      <td>India</td>\n",
              "      <td>Malayalam</td>\n",
              "      <td>Vineesh Aaradya</td>\n",
              "      <td>Vineesh Aaradya, Vineesh Aaradya</td>\n",
              "      <td>RMCC Productions</td>\n",
              "      <td>Anoop Chandran, Indrans, Sona Nair, Simon Brit...</td>\n",
              "      <td>NaN</td>\n",
              "      <td>7.9</td>\n",
              "      <td>265</td>\n",
              "      <td>NaN</td>\n",
              "      <td>NaN</td>\n",
              "      <td>NaN</td>\n",
              "      <td>NaN</td>\n",
              "      <td>NaN</td>\n",
              "      <td>NaN</td>\n",
              "    </tr>\n",
              "    <tr>\n",
              "      <th>85853</th>\n",
              "      <td>tt9914286</td>\n",
              "      <td>Sokagin Çocuklari</td>\n",
              "      <td>Sokagin Çocuklari</td>\n",
              "      <td>2019</td>\n",
              "      <td>2019-03-15</td>\n",
              "      <td>Drama, Family</td>\n",
              "      <td>98</td>\n",
              "      <td>Turkey</td>\n",
              "      <td>Turkish</td>\n",
              "      <td>Ahmet Faik Akinci</td>\n",
              "      <td>Ahmet Faik Akinci, Kasim Uçkan</td>\n",
              "      <td>Gizem Ajans</td>\n",
              "      <td>Ahmet Faik Akinci, Belma Mamati, Metin Keçeci,...</td>\n",
              "      <td>NaN</td>\n",
              "      <td>6.4</td>\n",
              "      <td>194</td>\n",
              "      <td>NaN</td>\n",
              "      <td>NaN</td>\n",
              "      <td>$ 2833</td>\n",
              "      <td>NaN</td>\n",
              "      <td>NaN</td>\n",
              "      <td>NaN</td>\n",
              "    </tr>\n",
              "    <tr>\n",
              "      <th>85854</th>\n",
              "      <td>tt9914942</td>\n",
              "      <td>La vida sense la Sara Amat</td>\n",
              "      <td>La vida sense la Sara Amat</td>\n",
              "      <td>2019</td>\n",
              "      <td>2020-02-05</td>\n",
              "      <td>Drama</td>\n",
              "      <td>74</td>\n",
              "      <td>Spain</td>\n",
              "      <td>Catalan</td>\n",
              "      <td>Laura Jou</td>\n",
              "      <td>Coral Cruz, Pep Puig</td>\n",
              "      <td>La Xarxa de Comunicació Local</td>\n",
              "      <td>Maria Morera Colomer, Biel Rossell Pelfort, Is...</td>\n",
              "      <td>Pep, a 13-year-old boy, is in love with a girl...</td>\n",
              "      <td>6.7</td>\n",
              "      <td>102</td>\n",
              "      <td>NaN</td>\n",
              "      <td>NaN</td>\n",
              "      <td>$ 59794</td>\n",
              "      <td>NaN</td>\n",
              "      <td>NaN</td>\n",
              "      <td>2.0</td>\n",
              "    </tr>\n",
              "  </tbody>\n",
              "</table>\n",
              "</div>"
            ],
            "text/plain": [
              "      imdb_title_id  ... reviews_from_critics\n",
              "85850     tt9908390  ...                  4.0\n",
              "85851     tt9911196  ...                  4.0\n",
              "85852     tt9911774  ...                  NaN\n",
              "85853     tt9914286  ...                  NaN\n",
              "85854     tt9914942  ...                  2.0\n",
              "\n",
              "[5 rows x 22 columns]"
            ]
          },
          "metadata": {
            "tags": []
          },
          "execution_count": 32
        }
      ]
    },
    {
      "cell_type": "markdown",
      "metadata": {
        "id": "mMPbBqGYvKQ8"
      },
      "source": [
        "##IMDB dla 2019"
      ]
    },
    {
      "cell_type": "code",
      "metadata": {
        "colab": {
          "base_uri": "https://localhost:8080/",
          "height": 717
        },
        "id": "TdJ_mhKXtODp",
        "outputId": "1e246baa-398a-4657-d62b-b69cc67520a1"
      },
      "source": [
        "imdb_2019 = imdb_movies.iloc[:,:][imdb_movies.year==2019]\n",
        "imdb_2019.head()"
      ],
      "execution_count": null,
      "outputs": [
        {
          "output_type": "execute_result",
          "data": {
            "text/html": [
              "<div>\n",
              "<style scoped>\n",
              "    .dataframe tbody tr th:only-of-type {\n",
              "        vertical-align: middle;\n",
              "    }\n",
              "\n",
              "    .dataframe tbody tr th {\n",
              "        vertical-align: top;\n",
              "    }\n",
              "\n",
              "    .dataframe thead th {\n",
              "        text-align: right;\n",
              "    }\n",
              "</style>\n",
              "<table border=\"1\" class=\"dataframe\">\n",
              "  <thead>\n",
              "    <tr style=\"text-align: right;\">\n",
              "      <th></th>\n",
              "      <th>imdb_title_id</th>\n",
              "      <th>title</th>\n",
              "      <th>original_title</th>\n",
              "      <th>year</th>\n",
              "      <th>date_published</th>\n",
              "      <th>genre</th>\n",
              "      <th>duration</th>\n",
              "      <th>country</th>\n",
              "      <th>language</th>\n",
              "      <th>director</th>\n",
              "      <th>writer</th>\n",
              "      <th>production_company</th>\n",
              "      <th>actors</th>\n",
              "      <th>description</th>\n",
              "      <th>avg_vote</th>\n",
              "      <th>votes</th>\n",
              "      <th>budget</th>\n",
              "      <th>usa_gross_income</th>\n",
              "      <th>worlwide_gross_income</th>\n",
              "      <th>metascore</th>\n",
              "      <th>reviews_from_users</th>\n",
              "      <th>reviews_from_critics</th>\n",
              "    </tr>\n",
              "  </thead>\n",
              "  <tbody>\n",
              "    <tr>\n",
              "      <th>44619</th>\n",
              "      <td>tt0385887</td>\n",
              "      <td>Motherless Brooklyn - I segreti di una città</td>\n",
              "      <td>Motherless Brooklyn</td>\n",
              "      <td>2019</td>\n",
              "      <td>2019-11-07</td>\n",
              "      <td>Crime, Drama, Mystery</td>\n",
              "      <td>144</td>\n",
              "      <td>USA</td>\n",
              "      <td>English, French</td>\n",
              "      <td>Edward Norton</td>\n",
              "      <td>Edward Norton, Jonathan Lethem</td>\n",
              "      <td>Warner Bros. Pictures</td>\n",
              "      <td>Edward Norton, Gugu Mbatha-Raw, Alec Baldwin, ...</td>\n",
              "      <td>In 1950s New York, a lonely private detective ...</td>\n",
              "      <td>6.8</td>\n",
              "      <td>34759</td>\n",
              "      <td>$ 26000000</td>\n",
              "      <td>$ 9277736</td>\n",
              "      <td>$ 18477736</td>\n",
              "      <td>60.0</td>\n",
              "      <td>319.0</td>\n",
              "      <td>178.0</td>\n",
              "    </tr>\n",
              "    <tr>\n",
              "      <th>46723</th>\n",
              "      <td>tt0437086</td>\n",
              "      <td>Alita - Angelo della battaglia</td>\n",
              "      <td>Alita: Battle Angel</td>\n",
              "      <td>2019</td>\n",
              "      <td>2019-02-14</td>\n",
              "      <td>Action, Adventure, Sci-Fi</td>\n",
              "      <td>122</td>\n",
              "      <td>USA, Japan, Canada</td>\n",
              "      <td>English, Spanish</td>\n",
              "      <td>Robert Rodriguez</td>\n",
              "      <td>James Cameron, Laeta Kalogridis</td>\n",
              "      <td>Twentieth Century Fox</td>\n",
              "      <td>Rosa Salazar, Christoph Waltz, Jennifer Connel...</td>\n",
              "      <td>A deactivated cyborg is revived, but cannot re...</td>\n",
              "      <td>7.3</td>\n",
              "      <td>217183</td>\n",
              "      <td>$ 170000000</td>\n",
              "      <td>$ 85710210</td>\n",
              "      <td>$ 404852543</td>\n",
              "      <td>53.0</td>\n",
              "      <td>2757.0</td>\n",
              "      <td>368.0</td>\n",
              "    </tr>\n",
              "    <tr>\n",
              "      <th>46892</th>\n",
              "      <td>tt0441881</td>\n",
              "      <td>La battaglia di Long Tan</td>\n",
              "      <td>Danger Close: The Battle of Long Tan</td>\n",
              "      <td>2019</td>\n",
              "      <td>2019-08-08</td>\n",
              "      <td>Action, Drama, War</td>\n",
              "      <td>118</td>\n",
              "      <td>Australia</td>\n",
              "      <td>English</td>\n",
              "      <td>Kriv Stenders</td>\n",
              "      <td>Stuart Beattie, James Nicholas</td>\n",
              "      <td>Deeper Water</td>\n",
              "      <td>Travis Fimmel, Toby Blome, Alexander England, ...</td>\n",
              "      <td>In August 1966, in a Vietnamese rubber plantat...</td>\n",
              "      <td>6.8</td>\n",
              "      <td>8131</td>\n",
              "      <td>AUD 24000000</td>\n",
              "      <td>NaN</td>\n",
              "      <td>$ 2078370</td>\n",
              "      <td>NaN</td>\n",
              "      <td>204.0</td>\n",
              "      <td>31.0</td>\n",
              "    </tr>\n",
              "    <tr>\n",
              "      <th>47132</th>\n",
              "      <td>tt0448115</td>\n",
              "      <td>Shazam!</td>\n",
              "      <td>Shazam!</td>\n",
              "      <td>2019</td>\n",
              "      <td>2019-04-03</td>\n",
              "      <td>Action, Adventure, Comedy</td>\n",
              "      <td>132</td>\n",
              "      <td>USA, Canada</td>\n",
              "      <td>English, Spanish</td>\n",
              "      <td>David F. Sandberg</td>\n",
              "      <td>Henry Gayden, Henry Gayden</td>\n",
              "      <td>Warner Bros.</td>\n",
              "      <td>Zachary Levi, Mark Strong, Asher Angel, Jack D...</td>\n",
              "      <td>A newly fostered young boy in search of his mo...</td>\n",
              "      <td>7.1</td>\n",
              "      <td>240858</td>\n",
              "      <td>$ 100000000</td>\n",
              "      <td>$ 140371656</td>\n",
              "      <td>$ 365971656</td>\n",
              "      <td>71.0</td>\n",
              "      <td>2009.0</td>\n",
              "      <td>379.0</td>\n",
              "    </tr>\n",
              "    <tr>\n",
              "      <th>49759</th>\n",
              "      <td>tt0783640</td>\n",
              "      <td>Era mio figlio</td>\n",
              "      <td>The Last Full Measure</td>\n",
              "      <td>2019</td>\n",
              "      <td>2020-04-02</td>\n",
              "      <td>Drama, War</td>\n",
              "      <td>116</td>\n",
              "      <td>USA</td>\n",
              "      <td>English</td>\n",
              "      <td>Todd Robinson</td>\n",
              "      <td>Todd Robinson</td>\n",
              "      <td>Foresight Unlimited</td>\n",
              "      <td>Sebastian Stan, Alison Sudol, Asher Miles Fall...</td>\n",
              "      <td>Thirty-four years after his death, Airman Will...</td>\n",
              "      <td>6.7</td>\n",
              "      <td>5449</td>\n",
              "      <td>$ 20000000</td>\n",
              "      <td>$ 2949212</td>\n",
              "      <td>$ 3364426</td>\n",
              "      <td>51.0</td>\n",
              "      <td>163.0</td>\n",
              "      <td>44.0</td>\n",
              "    </tr>\n",
              "  </tbody>\n",
              "</table>\n",
              "</div>"
            ],
            "text/plain": [
              "      imdb_title_id  ... reviews_from_critics\n",
              "44619     tt0385887  ...                178.0\n",
              "46723     tt0437086  ...                368.0\n",
              "46892     tt0441881  ...                 31.0\n",
              "47132     tt0448115  ...                379.0\n",
              "49759     tt0783640  ...                 44.0\n",
              "\n",
              "[5 rows x 22 columns]"
            ]
          },
          "metadata": {
            "tags": []
          },
          "execution_count": 12
        }
      ]
    },
    {
      "cell_type": "markdown",
      "metadata": {
        "id": "9iicCMNXvOxV"
      },
      "source": [
        "##Łączenie IMDB i Netflix dla 2019"
      ]
    },
    {
      "cell_type": "code",
      "metadata": {
        "colab": {
          "base_uri": "https://localhost:8080/"
        },
        "id": "d5wjOY88t_9i",
        "outputId": "9e0d9da5-3ab7-46d2-8bde-04594361b5fc"
      },
      "source": [
        "netflix_imdb_2019 = pd.merge(netflix_2019, imdb_2019, on=['title'])\n",
        "netflix_imdb_2019.info()"
      ],
      "execution_count": null,
      "outputs": [
        {
          "output_type": "stream",
          "text": [
            "<class 'pandas.core.frame.DataFrame'>\n",
            "Int64Index: 23 entries, 0 to 22\n",
            "Data columns (total 33 columns):\n",
            " #   Column                 Non-Null Count  Dtype  \n",
            "---  ------                 --------------  -----  \n",
            " 0   show_id                23 non-null     int64  \n",
            " 1   type                   23 non-null     object \n",
            " 2   title                  23 non-null     object \n",
            " 3   director_x             22 non-null     object \n",
            " 4   cast                   23 non-null     object \n",
            " 5   country_x              22 non-null     object \n",
            " 6   date_added             23 non-null     object \n",
            " 7   release_year           23 non-null     int64  \n",
            " 8   rating                 23 non-null     object \n",
            " 9   duration_x             23 non-null     object \n",
            " 10  listed_in              23 non-null     object \n",
            " 11  description_x          23 non-null     object \n",
            " 12  imdb_title_id          23 non-null     object \n",
            " 13  original_title         23 non-null     object \n",
            " 14  year                   23 non-null     object \n",
            " 15  date_published         23 non-null     object \n",
            " 16  genre                  23 non-null     object \n",
            " 17  duration_y             23 non-null     int64  \n",
            " 18  country_y              23 non-null     object \n",
            " 19  language               23 non-null     object \n",
            " 20  director_y             23 non-null     object \n",
            " 21  writer                 23 non-null     object \n",
            " 22  production_company     20 non-null     object \n",
            " 23  actors                 23 non-null     object \n",
            " 24  description_y          23 non-null     object \n",
            " 25  avg_vote               23 non-null     float64\n",
            " 26  votes                  23 non-null     int64  \n",
            " 27  budget                 2 non-null      object \n",
            " 28  usa_gross_income       1 non-null      object \n",
            " 29  worlwide_gross_income  7 non-null      object \n",
            " 30  metascore              5 non-null      float64\n",
            " 31  reviews_from_users     23 non-null     float64\n",
            " 32  reviews_from_critics   22 non-null     float64\n",
            "dtypes: float64(4), int64(4), object(25)\n",
            "memory usage: 6.1+ KB\n"
          ],
          "name": "stdout"
        }
      ]
    },
    {
      "cell_type": "code",
      "metadata": {
        "colab": {
          "base_uri": "https://localhost:8080/"
        },
        "id": "-Y0jkWkVu1lH",
        "outputId": "47ada6c5-dc0c-4a13-b07e-0a915d31a79e"
      },
      "source": [
        "netflix_imdb_2019.shape"
      ],
      "execution_count": null,
      "outputs": [
        {
          "output_type": "execute_result",
          "data": {
            "text/plain": [
              "(23, 33)"
            ]
          },
          "metadata": {
            "tags": []
          },
          "execution_count": 24
        }
      ]
    },
    {
      "cell_type": "code",
      "metadata": {
        "id": "TqpxVL1Eu8aa"
      },
      "source": [
        "netflix_imdb_2019"
      ],
      "execution_count": null,
      "outputs": []
    },
    {
      "cell_type": "markdown",
      "metadata": {
        "id": "D5ehJJTuKOSN"
      },
      "source": [
        "##Łączenie IMDB i Netflix dla wszystkich danych"
      ]
    },
    {
      "cell_type": "code",
      "metadata": {
        "colab": {
          "base_uri": "https://localhost:8080/"
        },
        "id": "ysGXu_tP-onE",
        "outputId": "1fc63512-82b4-4248-ccb0-cea92d405515"
      },
      "source": [
        "netflix_imdb_all = pd.merge(netflix_titles, imdb_movies, on=['title'])\n",
        "netflix_imdb_all.info()"
      ],
      "execution_count": null,
      "outputs": [
        {
          "output_type": "stream",
          "text": [
            "<class 'pandas.core.frame.DataFrame'>\n",
            "Int64Index: 2332 entries, 0 to 2331\n",
            "Data columns (total 33 columns):\n",
            " #   Column                 Non-Null Count  Dtype  \n",
            "---  ------                 --------------  -----  \n",
            " 0   show_id                2332 non-null   int64  \n",
            " 1   type                   2332 non-null   object \n",
            " 2   title                  2332 non-null   object \n",
            " 3   director_x             2026 non-null   object \n",
            " 4   cast                   2283 non-null   object \n",
            " 5   country_x              2278 non-null   object \n",
            " 6   date_added             2330 non-null   object \n",
            " 7   release_year           2332 non-null   int64  \n",
            " 8   rating                 2331 non-null   object \n",
            " 9   duration_x             2332 non-null   object \n",
            " 10  listed_in              2332 non-null   object \n",
            " 11  description_x          2332 non-null   object \n",
            " 12  imdb_title_id          2332 non-null   object \n",
            " 13  original_title         2332 non-null   object \n",
            " 14  year                   2332 non-null   object \n",
            " 15  date_published         2332 non-null   object \n",
            " 16  genre                  2332 non-null   object \n",
            " 17  duration_y             2332 non-null   int64  \n",
            " 18  country_y              2328 non-null   object \n",
            " 19  language               2307 non-null   object \n",
            " 20  director_y             2331 non-null   object \n",
            " 21  writer                 2280 non-null   object \n",
            " 22  production_company     2246 non-null   object \n",
            " 23  actors                 2332 non-null   object \n",
            " 24  description_y          2321 non-null   object \n",
            " 25  avg_vote               2332 non-null   float64\n",
            " 26  votes                  2332 non-null   int64  \n",
            " 27  budget                 789 non-null    object \n",
            " 28  usa_gross_income       657 non-null    object \n",
            " 29  worlwide_gross_income  1167 non-null   object \n",
            " 30  metascore              701 non-null    float64\n",
            " 31  reviews_from_users     2267 non-null   float64\n",
            " 32  reviews_from_critics   2114 non-null   float64\n",
            "dtypes: float64(4), int64(4), object(25)\n",
            "memory usage: 619.4+ KB\n"
          ],
          "name": "stdout"
        }
      ]
    },
    {
      "cell_type": "code",
      "metadata": {
        "colab": {
          "base_uri": "https://localhost:8080/",
          "height": 683
        },
        "id": "uASOQ4lg-4Tk",
        "outputId": "124f857f-ddd9-4f7b-baec-1d9feb4416f2"
      },
      "source": [
        "netflix_imdb_all.head()"
      ],
      "execution_count": null,
      "outputs": [
        {
          "output_type": "execute_result",
          "data": {
            "text/html": [
              "<div>\n",
              "<style scoped>\n",
              "    .dataframe tbody tr th:only-of-type {\n",
              "        vertical-align: middle;\n",
              "    }\n",
              "\n",
              "    .dataframe tbody tr th {\n",
              "        vertical-align: top;\n",
              "    }\n",
              "\n",
              "    .dataframe thead th {\n",
              "        text-align: right;\n",
              "    }\n",
              "</style>\n",
              "<table border=\"1\" class=\"dataframe\">\n",
              "  <thead>\n",
              "    <tr style=\"text-align: right;\">\n",
              "      <th></th>\n",
              "      <th>show_id</th>\n",
              "      <th>type</th>\n",
              "      <th>title</th>\n",
              "      <th>director_x</th>\n",
              "      <th>cast</th>\n",
              "      <th>country_x</th>\n",
              "      <th>date_added</th>\n",
              "      <th>release_year</th>\n",
              "      <th>rating</th>\n",
              "      <th>duration_x</th>\n",
              "      <th>listed_in</th>\n",
              "      <th>description_x</th>\n",
              "      <th>imdb_title_id</th>\n",
              "      <th>original_title</th>\n",
              "      <th>year</th>\n",
              "      <th>date_published</th>\n",
              "      <th>genre</th>\n",
              "      <th>duration_y</th>\n",
              "      <th>country_y</th>\n",
              "      <th>language</th>\n",
              "      <th>director_y</th>\n",
              "      <th>writer</th>\n",
              "      <th>production_company</th>\n",
              "      <th>actors</th>\n",
              "      <th>description_y</th>\n",
              "      <th>avg_vote</th>\n",
              "      <th>votes</th>\n",
              "      <th>budget</th>\n",
              "      <th>usa_gross_income</th>\n",
              "      <th>worlwide_gross_income</th>\n",
              "      <th>metascore</th>\n",
              "      <th>reviews_from_users</th>\n",
              "      <th>reviews_from_critics</th>\n",
              "    </tr>\n",
              "  </thead>\n",
              "  <tbody>\n",
              "    <tr>\n",
              "      <th>0</th>\n",
              "      <td>81145628</td>\n",
              "      <td>Movie</td>\n",
              "      <td>Norm of the North: King Sized Adventure</td>\n",
              "      <td>Richard Finn, Tim Maltby</td>\n",
              "      <td>Alan Marriott, Andrew Toth, Brian Dobson, Cole...</td>\n",
              "      <td>United States, India, South Korea, China</td>\n",
              "      <td>September 9, 2019</td>\n",
              "      <td>2019</td>\n",
              "      <td>TV-PG</td>\n",
              "      <td>90 min</td>\n",
              "      <td>Children &amp; Family Movies, Comedies</td>\n",
              "      <td>Before planning an awesome wedding for his gra...</td>\n",
              "      <td>tt9428190</td>\n",
              "      <td>Norm of the North: King Sized Adventure</td>\n",
              "      <td>2019</td>\n",
              "      <td>2019-08-02</td>\n",
              "      <td>Animation, Adventure, Comedy</td>\n",
              "      <td>90</td>\n",
              "      <td>USA, India, South Korea, China</td>\n",
              "      <td>English</td>\n",
              "      <td>Richard Finn, Tim Maltby</td>\n",
              "      <td>Dean Stefan</td>\n",
              "      <td>Assemblage</td>\n",
              "      <td>Alan Marriott, Andrew Toth, Brian Dobson, Cole...</td>\n",
              "      <td>An ancient Chinese artifact has been stolen by...</td>\n",
              "      <td>3.2</td>\n",
              "      <td>284</td>\n",
              "      <td>NaN</td>\n",
              "      <td>NaN</td>\n",
              "      <td>$ 1505059</td>\n",
              "      <td>NaN</td>\n",
              "      <td>13.0</td>\n",
              "      <td>4.0</td>\n",
              "    </tr>\n",
              "    <tr>\n",
              "      <th>1</th>\n",
              "      <td>70304989</td>\n",
              "      <td>Movie</td>\n",
              "      <td>Automata</td>\n",
              "      <td>Gabe Ibáñez</td>\n",
              "      <td>Antonio Banderas, Dylan McDermott, Melanie Gri...</td>\n",
              "      <td>Bulgaria, United States, Spain, Canada</td>\n",
              "      <td>September 8, 2017</td>\n",
              "      <td>2014</td>\n",
              "      <td>R</td>\n",
              "      <td>110 min</td>\n",
              "      <td>International Movies, Sci-Fi &amp; Fantasy, Thrillers</td>\n",
              "      <td>In a dystopian future, an insurance adjuster f...</td>\n",
              "      <td>tt1971325</td>\n",
              "      <td>Autómata</td>\n",
              "      <td>2014</td>\n",
              "      <td>2015-02-26</td>\n",
              "      <td>Action, Drama, Sci-Fi</td>\n",
              "      <td>109</td>\n",
              "      <td>Spain, Bulgaria</td>\n",
              "      <td>English</td>\n",
              "      <td>Gabe Ibáñez</td>\n",
              "      <td>Gabe Ibáñez, Igor Legarreta</td>\n",
              "      <td>Green Moon</td>\n",
              "      <td>Antonio Banderas, Dylan McDermott, Melanie Gri...</td>\n",
              "      <td>Human race is at edge of the end. Robot race i...</td>\n",
              "      <td>6.1</td>\n",
              "      <td>53583</td>\n",
              "      <td>$ 7000000</td>\n",
              "      <td>NaN</td>\n",
              "      <td>$ 6237990</td>\n",
              "      <td>37.0</td>\n",
              "      <td>176.0</td>\n",
              "      <td>151.0</td>\n",
              "    </tr>\n",
              "    <tr>\n",
              "      <th>2</th>\n",
              "      <td>70304989</td>\n",
              "      <td>Movie</td>\n",
              "      <td>Automata</td>\n",
              "      <td>Gabe Ibáñez</td>\n",
              "      <td>Antonio Banderas, Dylan McDermott, Melanie Gri...</td>\n",
              "      <td>Bulgaria, United States, Spain, Canada</td>\n",
              "      <td>September 8, 2017</td>\n",
              "      <td>2014</td>\n",
              "      <td>R</td>\n",
              "      <td>110 min</td>\n",
              "      <td>International Movies, Sci-Fi &amp; Fantasy, Thrillers</td>\n",
              "      <td>In a dystopian future, an insurance adjuster f...</td>\n",
              "      <td>tt8339704</td>\n",
              "      <td>Automata</td>\n",
              "      <td>2019</td>\n",
              "      <td>2020-01-27</td>\n",
              "      <td>Horror</td>\n",
              "      <td>95</td>\n",
              "      <td>UK</td>\n",
              "      <td>English</td>\n",
              "      <td>Lawrie Brewster</td>\n",
              "      <td>Sarah Daly</td>\n",
              "      <td>Hex Studios</td>\n",
              "      <td>Jamie Scott Gordon, Jonathan Hansler, Alexandr...</td>\n",
              "      <td>Antique expert Brendon Cole is sent to authent...</td>\n",
              "      <td>4.3</td>\n",
              "      <td>314</td>\n",
              "      <td>NaN</td>\n",
              "      <td>NaN</td>\n",
              "      <td>NaN</td>\n",
              "      <td>NaN</td>\n",
              "      <td>39.0</td>\n",
              "      <td>5.0</td>\n",
              "    </tr>\n",
              "    <tr>\n",
              "      <th>3</th>\n",
              "      <td>70304990</td>\n",
              "      <td>Movie</td>\n",
              "      <td>Good People</td>\n",
              "      <td>Henrik Ruben Genz</td>\n",
              "      <td>James Franco, Kate Hudson, Tom Wilkinson, Omar...</td>\n",
              "      <td>United States, United Kingdom, Denmark, Sweden</td>\n",
              "      <td>September 8, 2017</td>\n",
              "      <td>2014</td>\n",
              "      <td>R</td>\n",
              "      <td>90 min</td>\n",
              "      <td>Action &amp; Adventure, Thrillers</td>\n",
              "      <td>A struggling couple can't believe their luck w...</td>\n",
              "      <td>tt1361318</td>\n",
              "      <td>Good People</td>\n",
              "      <td>2014</td>\n",
              "      <td>2015-08-21</td>\n",
              "      <td>Action, Crime, Thriller</td>\n",
              "      <td>90</td>\n",
              "      <td>USA, UK, Denmark, Sweden</td>\n",
              "      <td>English</td>\n",
              "      <td>Henrik Ruben Genz</td>\n",
              "      <td>Marcus Sakey, Kelly Masterson</td>\n",
              "      <td>Millennium Films</td>\n",
              "      <td>Sam Spruell, Michael Fox, Diarmaid Murtagh, Fr...</td>\n",
              "      <td>Discovering a stash of cash in their dead tena...</td>\n",
              "      <td>5.5</td>\n",
              "      <td>15257</td>\n",
              "      <td>NaN</td>\n",
              "      <td>NaN</td>\n",
              "      <td>$ 1857574</td>\n",
              "      <td>42.0</td>\n",
              "      <td>56.0</td>\n",
              "      <td>57.0</td>\n",
              "    </tr>\n",
              "    <tr>\n",
              "      <th>4</th>\n",
              "      <td>80057969</td>\n",
              "      <td>Movie</td>\n",
              "      <td>Love</td>\n",
              "      <td>Gaspar Noé</td>\n",
              "      <td>Karl Glusman, Klara Kristin, Aomi Muyock, Ugo ...</td>\n",
              "      <td>France, Belgium</td>\n",
              "      <td>September 8, 2017</td>\n",
              "      <td>2015</td>\n",
              "      <td>NR</td>\n",
              "      <td>135 min</td>\n",
              "      <td>Cult Movies, Dramas, Independent Movies</td>\n",
              "      <td>A man in an unsatisfying marriage recalls the ...</td>\n",
              "      <td>tt0392360</td>\n",
              "      <td>Love</td>\n",
              "      <td>1991</td>\n",
              "      <td>1991-11-15</td>\n",
              "      <td>Drama, Musical, Romance</td>\n",
              "      <td>152</td>\n",
              "      <td>India</td>\n",
              "      <td>Hindi</td>\n",
              "      <td>Suresh Krishna</td>\n",
              "      <td>NaN</td>\n",
              "      <td>NaN</td>\n",
              "      <td>Salman Khan, Revathi, Rita Bhaduri, Shafi Inam...</td>\n",
              "      <td>Prithvi and Maggie fall in love and decide to ...</td>\n",
              "      <td>5.7</td>\n",
              "      <td>1003</td>\n",
              "      <td>NaN</td>\n",
              "      <td>NaN</td>\n",
              "      <td>NaN</td>\n",
              "      <td>NaN</td>\n",
              "      <td>6.0</td>\n",
              "      <td>NaN</td>\n",
              "    </tr>\n",
              "  </tbody>\n",
              "</table>\n",
              "</div>"
            ],
            "text/plain": [
              "    show_id   type  ... reviews_from_users reviews_from_critics\n",
              "0  81145628  Movie  ...               13.0                  4.0\n",
              "1  70304989  Movie  ...              176.0                151.0\n",
              "2  70304989  Movie  ...               39.0                  5.0\n",
              "3  70304990  Movie  ...               56.0                 57.0\n",
              "4  80057969  Movie  ...                6.0                  NaN\n",
              "\n",
              "[5 rows x 33 columns]"
            ]
          },
          "metadata": {
            "tags": []
          },
          "execution_count": 27
        }
      ]
    },
    {
      "cell_type": "code",
      "metadata": {
        "colab": {
          "base_uri": "https://localhost:8080/"
        },
        "id": "SCn8b73HESVA",
        "outputId": "d79d0bf7-e039-46f3-f176-25ea271842d2"
      },
      "source": [
        "imdb_movies.columns"
      ],
      "execution_count": null,
      "outputs": [
        {
          "output_type": "execute_result",
          "data": {
            "text/plain": [
              "Index(['imdb_title_id', 'title', 'original_title', 'year', 'date_published',\n",
              "       'genre', 'duration', 'country', 'language', 'director', 'writer',\n",
              "       'production_company', 'actors', 'description', 'avg_vote', 'votes',\n",
              "       'budget', 'usa_gross_income', 'worlwide_gross_income', 'metascore',\n",
              "       'reviews_from_users', 'reviews_from_critics'],\n",
              "      dtype='object')"
            ]
          },
          "metadata": {
            "tags": []
          },
          "execution_count": 28
        }
      ]
    },
    {
      "cell_type": "markdown",
      "metadata": {
        "id": "ijFglCM0r73b"
      },
      "source": [
        "# Szeregi czasowe - jak przez lata zmieniała się liczba wydawanych filmów? - Ewa"
      ]
    },
    {
      "cell_type": "code",
      "metadata": {
        "id": "3vcqSTlGMnL8",
        "colab": {
          "base_uri": "https://localhost:8080/",
          "height": 686
        },
        "outputId": "63d76b32-0316-40b2-b24c-a50940dee615"
      },
      "source": [
        "import pandas as pd\n",
        "imdb_movies = pd.read_csv('/content/[netflix]/IMDb movies.csv')\n",
        "\n",
        "imdb_movies.head()"
      ],
      "execution_count": null,
      "outputs": [
        {
          "output_type": "stream",
          "text": [
            "/usr/local/lib/python3.6/dist-packages/IPython/core/interactiveshell.py:2718: DtypeWarning: Columns (3) have mixed types.Specify dtype option on import or set low_memory=False.\n",
            "  interactivity=interactivity, compiler=compiler, result=result)\n"
          ],
          "name": "stderr"
        },
        {
          "output_type": "execute_result",
          "data": {
            "text/html": [
              "<div>\n",
              "<style scoped>\n",
              "    .dataframe tbody tr th:only-of-type {\n",
              "        vertical-align: middle;\n",
              "    }\n",
              "\n",
              "    .dataframe tbody tr th {\n",
              "        vertical-align: top;\n",
              "    }\n",
              "\n",
              "    .dataframe thead th {\n",
              "        text-align: right;\n",
              "    }\n",
              "</style>\n",
              "<table border=\"1\" class=\"dataframe\">\n",
              "  <thead>\n",
              "    <tr style=\"text-align: right;\">\n",
              "      <th></th>\n",
              "      <th>imdb_title_id</th>\n",
              "      <th>title</th>\n",
              "      <th>original_title</th>\n",
              "      <th>year</th>\n",
              "      <th>date_published</th>\n",
              "      <th>genre</th>\n",
              "      <th>duration</th>\n",
              "      <th>country</th>\n",
              "      <th>language</th>\n",
              "      <th>director</th>\n",
              "      <th>writer</th>\n",
              "      <th>production_company</th>\n",
              "      <th>actors</th>\n",
              "      <th>description</th>\n",
              "      <th>avg_vote</th>\n",
              "      <th>votes</th>\n",
              "      <th>budget</th>\n",
              "      <th>usa_gross_income</th>\n",
              "      <th>worlwide_gross_income</th>\n",
              "      <th>metascore</th>\n",
              "      <th>reviews_from_users</th>\n",
              "      <th>reviews_from_critics</th>\n",
              "    </tr>\n",
              "  </thead>\n",
              "  <tbody>\n",
              "    <tr>\n",
              "      <th>0</th>\n",
              "      <td>tt0000009</td>\n",
              "      <td>Miss Jerry</td>\n",
              "      <td>Miss Jerry</td>\n",
              "      <td>1894</td>\n",
              "      <td>1894-10-09</td>\n",
              "      <td>Romance</td>\n",
              "      <td>45</td>\n",
              "      <td>USA</td>\n",
              "      <td>None</td>\n",
              "      <td>Alexander Black</td>\n",
              "      <td>Alexander Black</td>\n",
              "      <td>Alexander Black Photoplays</td>\n",
              "      <td>Blanche Bayliss, William Courtenay, Chauncey D...</td>\n",
              "      <td>The adventures of a female reporter in the 1890s.</td>\n",
              "      <td>5.9</td>\n",
              "      <td>154</td>\n",
              "      <td>NaN</td>\n",
              "      <td>NaN</td>\n",
              "      <td>NaN</td>\n",
              "      <td>NaN</td>\n",
              "      <td>1.0</td>\n",
              "      <td>2.0</td>\n",
              "    </tr>\n",
              "    <tr>\n",
              "      <th>1</th>\n",
              "      <td>tt0000574</td>\n",
              "      <td>The Story of the Kelly Gang</td>\n",
              "      <td>The Story of the Kelly Gang</td>\n",
              "      <td>1906</td>\n",
              "      <td>1906-12-26</td>\n",
              "      <td>Biography, Crime, Drama</td>\n",
              "      <td>70</td>\n",
              "      <td>Australia</td>\n",
              "      <td>None</td>\n",
              "      <td>Charles Tait</td>\n",
              "      <td>Charles Tait</td>\n",
              "      <td>J. and N. Tait</td>\n",
              "      <td>Elizabeth Tait, John Tait, Norman Campbell, Be...</td>\n",
              "      <td>True story of notorious Australian outlaw Ned ...</td>\n",
              "      <td>6.1</td>\n",
              "      <td>589</td>\n",
              "      <td>$ 2250</td>\n",
              "      <td>NaN</td>\n",
              "      <td>NaN</td>\n",
              "      <td>NaN</td>\n",
              "      <td>7.0</td>\n",
              "      <td>7.0</td>\n",
              "    </tr>\n",
              "    <tr>\n",
              "      <th>2</th>\n",
              "      <td>tt0001892</td>\n",
              "      <td>Den sorte drøm</td>\n",
              "      <td>Den sorte drøm</td>\n",
              "      <td>1911</td>\n",
              "      <td>1911-08-19</td>\n",
              "      <td>Drama</td>\n",
              "      <td>53</td>\n",
              "      <td>Germany, Denmark</td>\n",
              "      <td>NaN</td>\n",
              "      <td>Urban Gad</td>\n",
              "      <td>Urban Gad, Gebhard Schätzler-Perasini</td>\n",
              "      <td>Fotorama</td>\n",
              "      <td>Asta Nielsen, Valdemar Psilander, Gunnar Helse...</td>\n",
              "      <td>Two men of high rank are both wooing the beaut...</td>\n",
              "      <td>5.8</td>\n",
              "      <td>188</td>\n",
              "      <td>NaN</td>\n",
              "      <td>NaN</td>\n",
              "      <td>NaN</td>\n",
              "      <td>NaN</td>\n",
              "      <td>5.0</td>\n",
              "      <td>2.0</td>\n",
              "    </tr>\n",
              "    <tr>\n",
              "      <th>3</th>\n",
              "      <td>tt0002101</td>\n",
              "      <td>Cleopatra</td>\n",
              "      <td>Cleopatra</td>\n",
              "      <td>1912</td>\n",
              "      <td>1912-11-13</td>\n",
              "      <td>Drama, History</td>\n",
              "      <td>100</td>\n",
              "      <td>USA</td>\n",
              "      <td>English</td>\n",
              "      <td>Charles L. Gaskill</td>\n",
              "      <td>Victorien Sardou</td>\n",
              "      <td>Helen Gardner Picture Players</td>\n",
              "      <td>Helen Gardner, Pearl Sindelar, Miss Fielding, ...</td>\n",
              "      <td>The fabled queen of Egypt's affair with Roman ...</td>\n",
              "      <td>5.2</td>\n",
              "      <td>446</td>\n",
              "      <td>$ 45000</td>\n",
              "      <td>NaN</td>\n",
              "      <td>NaN</td>\n",
              "      <td>NaN</td>\n",
              "      <td>25.0</td>\n",
              "      <td>3.0</td>\n",
              "    </tr>\n",
              "    <tr>\n",
              "      <th>4</th>\n",
              "      <td>tt0002130</td>\n",
              "      <td>L'Inferno</td>\n",
              "      <td>L'Inferno</td>\n",
              "      <td>1911</td>\n",
              "      <td>1911-03-06</td>\n",
              "      <td>Adventure, Drama, Fantasy</td>\n",
              "      <td>68</td>\n",
              "      <td>Italy</td>\n",
              "      <td>Italian</td>\n",
              "      <td>Francesco Bertolini, Adolfo Padovan</td>\n",
              "      <td>Dante Alighieri</td>\n",
              "      <td>Milano Film</td>\n",
              "      <td>Salvatore Papa, Arturo Pirovano, Giuseppe de L...</td>\n",
              "      <td>Loosely adapted from Dante's Divine Comedy and...</td>\n",
              "      <td>7.0</td>\n",
              "      <td>2237</td>\n",
              "      <td>NaN</td>\n",
              "      <td>NaN</td>\n",
              "      <td>NaN</td>\n",
              "      <td>NaN</td>\n",
              "      <td>31.0</td>\n",
              "      <td>14.0</td>\n",
              "    </tr>\n",
              "  </tbody>\n",
              "</table>\n",
              "</div>"
            ],
            "text/plain": [
              "  imdb_title_id  ... reviews_from_critics\n",
              "0     tt0000009  ...                  2.0\n",
              "1     tt0000574  ...                  7.0\n",
              "2     tt0001892  ...                  2.0\n",
              "3     tt0002101  ...                  3.0\n",
              "4     tt0002130  ...                 14.0\n",
              "\n",
              "[5 rows x 22 columns]"
            ]
          },
          "metadata": {
            "tags": []
          },
          "execution_count": 18
        }
      ]
    },
    {
      "cell_type": "code",
      "metadata": {
        "colab": {
          "base_uri": "https://localhost:8080/"
        },
        "id": "siW3H3i_a3iP",
        "outputId": "0f660d33-8824-48b3-9c35-a6cfee36a56d"
      },
      "source": [
        "imdb_movies.dtypes"
      ],
      "execution_count": null,
      "outputs": [
        {
          "output_type": "execute_result",
          "data": {
            "text/plain": [
              "imdb_title_id             object\n",
              "title                     object\n",
              "original_title            object\n",
              "year                      object\n",
              "date_published            object\n",
              "genre                     object\n",
              "duration                   int64\n",
              "country                   object\n",
              "language                  object\n",
              "director                  object\n",
              "writer                    object\n",
              "production_company        object\n",
              "actors                    object\n",
              "description               object\n",
              "avg_vote                 float64\n",
              "votes                      int64\n",
              "budget                    object\n",
              "usa_gross_income          object\n",
              "worlwide_gross_income     object\n",
              "metascore                float64\n",
              "reviews_from_users       float64\n",
              "reviews_from_critics     float64\n",
              "dtype: object"
            ]
          },
          "metadata": {
            "tags": []
          },
          "execution_count": 19
        }
      ]
    },
    {
      "cell_type": "code",
      "metadata": {
        "colab": {
          "base_uri": "https://localhost:8080/"
        },
        "id": "vABCL5oDSef9",
        "outputId": "a1b07f66-d512-4629-9555-4dc526a62dfc"
      },
      "source": [
        "imdb_movies.groupby('year').imdb_title_id.count()"
      ],
      "execution_count": null,
      "outputs": [
        {
          "output_type": "execute_result",
          "data": {
            "text/plain": [
              "year\n",
              "1894                1\n",
              "1906                1\n",
              "1911                5\n",
              "1912                5\n",
              "1913               13\n",
              "                 ... \n",
              "2017             3223\n",
              "2018             3182\n",
              "2019             2168\n",
              "2020              401\n",
              "TV Movie 2019       1\n",
              "Name: imdb_title_id, Length: 168, dtype: int64"
            ]
          },
          "metadata": {
            "tags": []
          },
          "execution_count": 20
        }
      ]
    },
    {
      "cell_type": "code",
      "metadata": {
        "colab": {
          "base_uri": "https://localhost:8080/",
          "height": 198
        },
        "id": "KVsQDllESnRq",
        "outputId": "48b019cb-a9c8-4ee5-fbb1-bd96688ba6e2"
      },
      "source": [
        "imdb_movies[imdb_movies.year == 'TV Movie 2019']"
      ],
      "execution_count": null,
      "outputs": [
        {
          "output_type": "execute_result",
          "data": {
            "text/html": [
              "<div>\n",
              "<style scoped>\n",
              "    .dataframe tbody tr th:only-of-type {\n",
              "        vertical-align: middle;\n",
              "    }\n",
              "\n",
              "    .dataframe tbody tr th {\n",
              "        vertical-align: top;\n",
              "    }\n",
              "\n",
              "    .dataframe thead th {\n",
              "        text-align: right;\n",
              "    }\n",
              "</style>\n",
              "<table border=\"1\" class=\"dataframe\">\n",
              "  <thead>\n",
              "    <tr style=\"text-align: right;\">\n",
              "      <th></th>\n",
              "      <th>imdb_title_id</th>\n",
              "      <th>title</th>\n",
              "      <th>original_title</th>\n",
              "      <th>year</th>\n",
              "      <th>date_published</th>\n",
              "      <th>genre</th>\n",
              "      <th>duration</th>\n",
              "      <th>country</th>\n",
              "      <th>language</th>\n",
              "      <th>director</th>\n",
              "      <th>writer</th>\n",
              "      <th>production_company</th>\n",
              "      <th>actors</th>\n",
              "      <th>description</th>\n",
              "      <th>avg_vote</th>\n",
              "      <th>votes</th>\n",
              "      <th>budget</th>\n",
              "      <th>usa_gross_income</th>\n",
              "      <th>worlwide_gross_income</th>\n",
              "      <th>metascore</th>\n",
              "      <th>reviews_from_users</th>\n",
              "      <th>reviews_from_critics</th>\n",
              "    </tr>\n",
              "  </thead>\n",
              "  <tbody>\n",
              "    <tr>\n",
              "      <th>83917</th>\n",
              "      <td>tt8206668</td>\n",
              "      <td>Bad Education</td>\n",
              "      <td>Bad Education</td>\n",
              "      <td>TV Movie 2019</td>\n",
              "      <td>TV Movie 2019</td>\n",
              "      <td>Biography, Comedy, Crime</td>\n",
              "      <td>108</td>\n",
              "      <td>USA</td>\n",
              "      <td>English</td>\n",
              "      <td>Cory Finley</td>\n",
              "      <td>Mike Makowsky, Robert Kolker</td>\n",
              "      <td>HBO Films</td>\n",
              "      <td>Hugh Jackman, Ray Romano, Welker White, Alliso...</td>\n",
              "      <td>The beloved superintendent of New York's Rosly...</td>\n",
              "      <td>7.1</td>\n",
              "      <td>23973</td>\n",
              "      <td>NaN</td>\n",
              "      <td>NaN</td>\n",
              "      <td>NaN</td>\n",
              "      <td>79.0</td>\n",
              "      <td>135.0</td>\n",
              "      <td>98.0</td>\n",
              "    </tr>\n",
              "  </tbody>\n",
              "</table>\n",
              "</div>"
            ],
            "text/plain": [
              "      imdb_title_id          title  ... reviews_from_users reviews_from_critics\n",
              "83917     tt8206668  Bad Education  ...              135.0                 98.0\n",
              "\n",
              "[1 rows x 22 columns]"
            ]
          },
          "metadata": {
            "tags": []
          },
          "execution_count": 21
        }
      ]
    },
    {
      "cell_type": "code",
      "metadata": {
        "colab": {
          "base_uri": "https://localhost:8080/"
        },
        "id": "QOdsNCNdfb2L",
        "outputId": "a7e85ca0-0f42-4cae-c4ce-5b00e1edac87"
      },
      "source": [
        "imdb_movies.loc[83917, 'year'] = 2019\n",
        "imdb_movies.year = imdb_movies.year.astype('int')\n",
        "imdb_movies.dtypes"
      ],
      "execution_count": null,
      "outputs": [
        {
          "output_type": "execute_result",
          "data": {
            "text/plain": [
              "imdb_title_id             object\n",
              "title                     object\n",
              "original_title            object\n",
              "year                       int64\n",
              "date_published            object\n",
              "genre                     object\n",
              "duration                   int64\n",
              "country                   object\n",
              "language                  object\n",
              "director                  object\n",
              "writer                    object\n",
              "production_company        object\n",
              "actors                    object\n",
              "description               object\n",
              "avg_vote                 float64\n",
              "votes                      int64\n",
              "budget                    object\n",
              "usa_gross_income          object\n",
              "worlwide_gross_income     object\n",
              "metascore                float64\n",
              "reviews_from_users       float64\n",
              "reviews_from_critics     float64\n",
              "dtype: object"
            ]
          },
          "metadata": {
            "tags": []
          },
          "execution_count": 22
        }
      ]
    },
    {
      "cell_type": "code",
      "metadata": {
        "colab": {
          "base_uri": "https://localhost:8080/"
        },
        "id": "A2QdjzSrFjYz",
        "outputId": "9be349b9-4320-420f-8042-290fc79b0a9f"
      },
      "source": [
        "data_year_plot = imdb_movies.groupby('year').imdb_title_id.count()\n",
        "data_year_plot.tail(20)"
      ],
      "execution_count": 124,
      "outputs": [
        {
          "output_type": "execute_result",
          "data": {
            "text/plain": [
              "year\n",
              "2002                3\n",
              "2003                9\n",
              "2004                7\n",
              "2005               15\n",
              "2006               14\n",
              "2007               23\n",
              "2008               11\n",
              "2009               18\n",
              "2010               24\n",
              "2011               65\n",
              "2012              847\n",
              "2013             1916\n",
              "2014             2517\n",
              "2015             2764\n",
              "2016             2992\n",
              "2017             3223\n",
              "2018             3182\n",
              "2019             2168\n",
              "2020              401\n",
              "TV Movie 2019       1\n",
              "Name: imdb_title_id, dtype: int64"
            ]
          },
          "metadata": {
            "tags": []
          },
          "execution_count": 124
        }
      ]
    },
    {
      "cell_type": "code",
      "metadata": {
        "colab": {
          "base_uri": "https://localhost:8080/",
          "height": 279
        },
        "id": "_jrIez2bI9-u",
        "outputId": "5ddfd840-6d20-4a8e-9aff-d1b84fc29531"
      },
      "source": [
        "import matplotlib.pyplot as plt\n",
        "\n",
        "data_year_plot.plot()\n",
        "plt.show()"
      ],
      "execution_count": null,
      "outputs": [
        {
          "output_type": "display_data",
          "data": {
            "image/png": "[encoded data removed]",
            "text/plain": [
              "<Figure size 432x288 with 1 Axes>"
            ]
          },
          "metadata": {
            "tags": [],
            "needs_background": "light"
          }
        }
      ]
    },
    {
      "cell_type": "code",
      "metadata": {
        "colab": {
          "base_uri": "https://localhost:8080/",
          "height": 296
        },
        "id": "A7TL9mP8M_Y1",
        "outputId": "9c820739-0b4e-4c1f-be83-cdc76b045afe"
      },
      "source": [
        "data_year_plot_from2004 = imdb_movies[imdb_movies.year > 2004].groupby('year').imdb_title_id.count()\n",
        "data_year_plot_from2004.plot()\n",
        "\n",
        "# chyba nie ma sensu brać do analizy roku 2020. zastanawiam się nad 2019 - czy przez covida tak mało, czy też braki danych."
      ],
      "execution_count": null,
      "outputs": [
        {
          "output_type": "execute_result",
          "data": {
            "text/plain": [
              "<matplotlib.axes._subplots.AxesSubplot at 0x7fa7022d4fd0>"
            ]
          },
          "metadata": {
            "tags": []
          },
          "execution_count": 25
        },
        {
          "output_type": "display_data",
          "data": {
            "image/png": "[encoded data removed]",
            "text/plain": [
              "<Figure size 432x288 with 1 Axes>"
            ]
          },
          "metadata": {
            "tags": [],
            "needs_background": "light"
          }
        }
      ]
    },
    {
      "cell_type": "code",
      "metadata": {
        "colab": {
          "base_uri": "https://localhost:8080/",
          "height": 296
        },
        "id": "kTgraRHUPsGe",
        "outputId": "fef2f532-fc08-4365-bed8-b2a25612b659"
      },
      "source": [
        "data_year_plot_to2009 = imdb_movies[imdb_movies.year <= 2009].groupby('year').imdb_title_id.count()\n",
        "data_year_plot_to2009.plot()"
      ],
      "execution_count": null,
      "outputs": [
        {
          "output_type": "execute_result",
          "data": {
            "text/plain": [
              "<matplotlib.axes._subplots.AxesSubplot at 0x7fa70240c6d8>"
            ]
          },
          "metadata": {
            "tags": []
          },
          "execution_count": 26
        },
        {
          "output_type": "display_data",
          "data": {
            "image/png": "[encoded data removed]",
            "text/plain": [
              "<Figure size 432x288 with 1 Axes>"
            ]
          },
          "metadata": {
            "tags": [],
            "needs_background": "light"
          }
        }
      ]
    },
    {
      "cell_type": "code",
      "metadata": {
        "colab": {
          "base_uri": "https://localhost:8080/"
        },
        "id": "NbISeXt-SMVp",
        "outputId": "01ce8fe0-429a-4de5-f0af-c98e84952784"
      },
      "source": [
        "imdb_movies.loc[83917, 'date_published'] = '2019-01-01' #ustawiam 1 stycznia jako datę publikacji tego dziwnego filmu\n",
        "\n",
        "pd.to_datetime(imdb_movies['date_published'])"
      ],
      "execution_count": null,
      "outputs": [
        {
          "output_type": "execute_result",
          "data": {
            "text/plain": [
              "0       1894-10-09\n",
              "1       1906-12-26\n",
              "2       1911-08-19\n",
              "3       1912-11-13\n",
              "4       1911-03-06\n",
              "           ...    \n",
              "85850   2020-01-29\n",
              "85851   2020-02-13\n",
              "85852   2019-03-08\n",
              "85853   2019-03-15\n",
              "85854   2020-02-05\n",
              "Name: date_published, Length: 85855, dtype: datetime64[ns]"
            ]
          },
          "metadata": {
            "tags": []
          },
          "execution_count": 27
        }
      ]
    },
    {
      "cell_type": "code",
      "metadata": {
        "colab": {
          "base_uri": "https://localhost:8080/",
          "height": 286
        },
        "id": "t0oFWhICgrjW",
        "outputId": "675164ab-4b15-411e-e5ad-212768adc4d2"
      },
      "source": [
        "imdb_movies['date_published'].dt.year #nie wiem czemu wyskakuje błąd, dkoro wyżej widać, że ta kolumna już jest typem datetime"
      ],
      "execution_count": null,
      "outputs": [
        {
          "output_type": "error",
          "ename": "AttributeError",
          "evalue": "ignored",
          "traceback": [
            "\u001b[0;31m---------------------------------------------------------------------------\u001b[0m",
            "\u001b[0;31mAttributeError\u001b[0m                            Traceback (most recent call last)",
            "\u001b[0;32m<ipython-input-28-226873110479>\u001b[0m in \u001b[0;36m<module>\u001b[0;34m()\u001b[0m\n\u001b[0;32m----> 1\u001b[0;31m \u001b[0mimdb_movies\u001b[0m\u001b[0;34m[\u001b[0m\u001b[0;34m'date_published'\u001b[0m\u001b[0;34m]\u001b[0m\u001b[0;34m.\u001b[0m\u001b[0mdt\u001b[0m\u001b[0;34m.\u001b[0m\u001b[0myear\u001b[0m \u001b[0;31m#nie wiem czemu wyskakuje błąd, dkoro wyżej widać, że ta kolumna już jest typem datetime\u001b[0m\u001b[0;34m\u001b[0m\u001b[0;34m\u001b[0m\u001b[0m\n\u001b[0m",
            "\u001b[0;32m/usr/local/lib/python3.6/dist-packages/pandas/core/generic.py\u001b[0m in \u001b[0;36m__getattr__\u001b[0;34m(self, name)\u001b[0m\n\u001b[1;32m   5135\u001b[0m             \u001b[0;32mor\u001b[0m \u001b[0mname\u001b[0m \u001b[0;32min\u001b[0m \u001b[0mself\u001b[0m\u001b[0;34m.\u001b[0m\u001b[0m_accessors\u001b[0m\u001b[0;34m\u001b[0m\u001b[0;34m\u001b[0m\u001b[0m\n\u001b[1;32m   5136\u001b[0m         ):\n\u001b[0;32m-> 5137\u001b[0;31m             \u001b[0;32mreturn\u001b[0m \u001b[0mobject\u001b[0m\u001b[0;34m.\u001b[0m\u001b[0m__getattribute__\u001b[0m\u001b[0;34m(\u001b[0m\u001b[0mself\u001b[0m\u001b[0;34m,\u001b[0m \u001b[0mname\u001b[0m\u001b[0;34m)\u001b[0m\u001b[0;34m\u001b[0m\u001b[0;34m\u001b[0m\u001b[0m\n\u001b[0m\u001b[1;32m   5138\u001b[0m         \u001b[0;32melse\u001b[0m\u001b[0;34m:\u001b[0m\u001b[0;34m\u001b[0m\u001b[0;34m\u001b[0m\u001b[0m\n\u001b[1;32m   5139\u001b[0m             \u001b[0;32mif\u001b[0m \u001b[0mself\u001b[0m\u001b[0;34m.\u001b[0m\u001b[0m_info_axis\u001b[0m\u001b[0;34m.\u001b[0m\u001b[0m_can_hold_identifiers_and_holds_name\u001b[0m\u001b[0;34m(\u001b[0m\u001b[0mname\u001b[0m\u001b[0;34m)\u001b[0m\u001b[0;34m:\u001b[0m\u001b[0;34m\u001b[0m\u001b[0;34m\u001b[0m\u001b[0m\n",
            "\u001b[0;32m/usr/local/lib/python3.6/dist-packages/pandas/core/accessor.py\u001b[0m in \u001b[0;36m__get__\u001b[0;34m(self, obj, cls)\u001b[0m\n\u001b[1;32m    185\u001b[0m             \u001b[0;31m# we're accessing the attribute of the class, i.e., Dataset.geo\u001b[0m\u001b[0;34m\u001b[0m\u001b[0;34m\u001b[0m\u001b[0;34m\u001b[0m\u001b[0m\n\u001b[1;32m    186\u001b[0m             \u001b[0;32mreturn\u001b[0m \u001b[0mself\u001b[0m\u001b[0;34m.\u001b[0m\u001b[0m_accessor\u001b[0m\u001b[0;34m\u001b[0m\u001b[0;34m\u001b[0m\u001b[0m\n\u001b[0;32m--> 187\u001b[0;31m         \u001b[0maccessor_obj\u001b[0m \u001b[0;34m=\u001b[0m \u001b[0mself\u001b[0m\u001b[0;34m.\u001b[0m\u001b[0m_accessor\u001b[0m\u001b[0;34m(\u001b[0m\u001b[0mobj\u001b[0m\u001b[0;34m)\u001b[0m\u001b[0;34m\u001b[0m\u001b[0;34m\u001b[0m\u001b[0m\n\u001b[0m\u001b[1;32m    188\u001b[0m         \u001b[0;31m# Replace the property with the accessor object. Inspired by:\u001b[0m\u001b[0;34m\u001b[0m\u001b[0;34m\u001b[0m\u001b[0;34m\u001b[0m\u001b[0m\n\u001b[1;32m    189\u001b[0m         \u001b[0;31m# https://www.pydanny.com/cached-property.html\u001b[0m\u001b[0;34m\u001b[0m\u001b[0;34m\u001b[0m\u001b[0;34m\u001b[0m\u001b[0m\n",
            "\u001b[0;32m/usr/local/lib/python3.6/dist-packages/pandas/core/indexes/accessors.py\u001b[0m in \u001b[0;36m__new__\u001b[0;34m(cls, data)\u001b[0m\n\u001b[1;32m    478\u001b[0m             \u001b[0;32mreturn\u001b[0m \u001b[0mPeriodProperties\u001b[0m\u001b[0;34m(\u001b[0m\u001b[0mdata\u001b[0m\u001b[0;34m,\u001b[0m \u001b[0morig\u001b[0m\u001b[0;34m)\u001b[0m\u001b[0;34m\u001b[0m\u001b[0;34m\u001b[0m\u001b[0m\n\u001b[1;32m    479\u001b[0m \u001b[0;34m\u001b[0m\u001b[0m\n\u001b[0;32m--> 480\u001b[0;31m         \u001b[0;32mraise\u001b[0m \u001b[0mAttributeError\u001b[0m\u001b[0;34m(\u001b[0m\u001b[0;34m\"Can only use .dt accessor with datetimelike values\"\u001b[0m\u001b[0;34m)\u001b[0m\u001b[0;34m\u001b[0m\u001b[0;34m\u001b[0m\u001b[0m\n\u001b[0m",
            "\u001b[0;31mAttributeError\u001b[0m: Can only use .dt accessor with datetimelike values"
          ]
        }
      ]
    },
    {
      "cell_type": "markdown",
      "metadata": {
        "id": "bmpmwU6_ACaI"
      },
      "source": [
        "#Na lata jakie rodzaje filmów dominują, jakie trendy w gatunkach - KASIA"
      ]
    },
    {
      "cell_type": "code",
      "metadata": {
        "colab": {
          "base_uri": "https://localhost:8080/"
        },
        "id": "APwgW3KEBXRq",
        "outputId": "965391c8-c33f-415b-9f83-90d7a339de9b"
      },
      "source": [
        "\n",
        "imdb_movies = pd.read_csv('/content/[netflix]/IMDb movies.csv')"
      ],
      "execution_count": 90,
      "outputs": [
        {
          "output_type": "stream",
          "text": [
            "/usr/local/lib/python3.6/dist-packages/IPython/core/interactiveshell.py:2718: DtypeWarning: Columns (3) have mixed types.Specify dtype option on import or set low_memory=False.\n",
            "  interactivity=interactivity, compiler=compiler, result=result)\n"
          ],
          "name": "stderr"
        }
      ]
    },
    {
      "cell_type": "markdown",
      "metadata": {
        "id": "Ee9TwsOE0hTn"
      },
      "source": [
        "##Najczęściej występujące gatunki"
      ]
    },
    {
      "cell_type": "code",
      "metadata": {
        "colab": {
          "base_uri": "https://localhost:8080/"
        },
        "id": "u3aQR491zWfm",
        "outputId": "9a3aeb31-a763-4ce2-e557-ee4f6966c2db"
      },
      "source": [
        "imdb_movies['genre'].value_counts().head(10)"
      ],
      "execution_count": 104,
      "outputs": [
        {
          "output_type": "execute_result",
          "data": {
            "text/plain": [
              "Drama                     12543\n",
              "Comedy                     7693\n",
              "Comedy, Drama              4039\n",
              "Drama, Romance             3455\n",
              "Comedy, Romance            2508\n",
              "Comedy, Drama, Romance     2293\n",
              "Horror                     2268\n",
              "Drama, Thriller            1348\n",
              "Crime, Drama               1343\n",
              "Action, Crime, Drama       1310\n",
              "Name: genre, dtype: int64"
            ]
          },
          "metadata": {
            "tags": []
          },
          "execution_count": 104
        }
      ]
    },
    {
      "cell_type": "code",
      "metadata": {
        "colab": {
          "base_uri": "https://localhost:8080/",
          "height": 265
        },
        "id": "tJYv5nus0scN",
        "outputId": "732c0f8d-7cee-4d4a-b1c4-5f625a8f41e2"
      },
      "source": [
        "ax = imdb_movies['genre'].value_counts().head().plot.barh( rot=0)"
      ],
      "execution_count": 105,
      "outputs": [
        {
          "output_type": "display_data",
          "data": {
            "image/png": "[encoded data removed]",
            "text/plain": [
              "<Figure size 432x288 with 1 Axes>"
            ]
          },
          "metadata": {
            "tags": [],
            "needs_background": "light"
          }
        }
      ]
    },
    {
      "cell_type": "markdown",
      "metadata": {
        "id": "ojWDmviQKbiG"
      },
      "source": [
        "##Ilość gatunków w poszczególnych latach\n",
        "Widać, że gatunki to 'tagi' opisujące film, do jednego filmu przypisuje się coraz więcej gatunków."
      ]
    },
    {
      "cell_type": "code",
      "metadata": {
        "colab": {
          "base_uri": "https://localhost:8080/"
        },
        "id": "-_kyEAbU5mm8",
        "outputId": "668cdafe-4e3a-4655-d8e3-e9d0434e0efd"
      },
      "source": [
        "#ilość gatunków w poszczególnych latach\n",
        "imdb_movies.groupby('year').genre.count().tail(20)"
      ],
      "execution_count": 106,
      "outputs": [
        {
          "output_type": "execute_result",
          "data": {
            "text/plain": [
              "year\n",
              "2002                3\n",
              "2003                9\n",
              "2004                7\n",
              "2005               15\n",
              "2006               14\n",
              "2007               23\n",
              "2008               11\n",
              "2009               18\n",
              "2010               24\n",
              "2011               65\n",
              "2012              847\n",
              "2013             1916\n",
              "2014             2517\n",
              "2015             2764\n",
              "2016             2992\n",
              "2017             3223\n",
              "2018             3182\n",
              "2019             2168\n",
              "2020              401\n",
              "TV Movie 2019       1\n",
              "Name: genre, dtype: int64"
            ]
          },
          "metadata": {
            "tags": []
          },
          "execution_count": 106
        }
      ]
    },
    {
      "cell_type": "markdown",
      "metadata": {
        "id": "Sn1tb4BtKzUT"
      },
      "source": [
        "##Lista wszystkich gatunków"
      ]
    },
    {
      "cell_type": "code",
      "metadata": {
        "colab": {
          "base_uri": "https://localhost:8080/"
        },
        "id": "82I-qUUGBMoK",
        "outputId": "9f636e09-2ffe-423f-d6b6-42e0f429dd0f"
      },
      "source": [
        "genres = imdb_movies['genre'].unique().tolist()\n",
        "genres_all=[]\n",
        "for genre in genres:\n",
        "    for elem in genre.split(','):\n",
        "        genres_all.append(elem.strip())\n",
        "genres_all=list(set(genres_all))\n",
        "genres_all"
      ],
      "execution_count": 107,
      "outputs": [
        {
          "output_type": "execute_result",
          "data": {
            "text/plain": [
              "['News',\n",
              " 'Comedy',\n",
              " 'Adult',\n",
              " 'Fantasy',\n",
              " 'Drama',\n",
              " 'History',\n",
              " 'Sci-Fi',\n",
              " 'Romance',\n",
              " 'Horror',\n",
              " 'Mystery',\n",
              " 'Biography',\n",
              " 'Family',\n",
              " 'Music',\n",
              " 'Documentary',\n",
              " 'Crime',\n",
              " 'Sport',\n",
              " 'Western',\n",
              " 'Thriller',\n",
              " 'Action',\n",
              " 'Animation',\n",
              " 'War',\n",
              " 'Film-Noir',\n",
              " 'Adventure',\n",
              " 'Musical',\n",
              " 'Reality-TV']"
            ]
          },
          "metadata": {
            "tags": []
          },
          "execution_count": 107
        }
      ]
    },
    {
      "cell_type": "markdown",
      "metadata": {
        "id": "A_J_Hd28K4bM"
      },
      "source": [
        "##Unikalne gatunki - najbardziej popularne"
      ]
    },
    {
      "cell_type": "code",
      "metadata": {
        "colab": {
          "base_uri": "https://localhost:8080/",
          "height": 824
        },
        "id": "5lP5rdkz0ODz",
        "outputId": "fc4bea73-1928-4f3d-dd8a-6b85feb715fa"
      },
      "source": [
        "genres = imdb_movies['genre'].tolist()\n",
        "genres_count=[]\n",
        "for genre in genres:\n",
        "    for elem in genre.split(','):\n",
        "        genres_all.append(elem.strip())\n",
        "genres_count=list(genres_all)\n",
        "from collections import Counter\n",
        "genres_count_all=pd.DataFrame.from_dict(Counter(genres_count), orient='index')\n",
        "genres_count_all.rename(columns={'index':'genres', 0:'occurences'}, inplace=True)\n",
        "genres_count_all.sort_values(by='occurences', ascending=False)\n"
      ],
      "execution_count": 114,
      "outputs": [
        {
          "output_type": "execute_result",
          "data": {
            "text/html": [
              "<div>\n",
              "<style scoped>\n",
              "    .dataframe tbody tr th:only-of-type {\n",
              "        vertical-align: middle;\n",
              "    }\n",
              "\n",
              "    .dataframe tbody tr th {\n",
              "        vertical-align: top;\n",
              "    }\n",
              "\n",
              "    .dataframe thead th {\n",
              "        text-align: right;\n",
              "    }\n",
              "</style>\n",
              "<table border=\"1\" class=\"dataframe\">\n",
              "  <thead>\n",
              "    <tr style=\"text-align: right;\">\n",
              "      <th></th>\n",
              "      <th>occurences</th>\n",
              "    </tr>\n",
              "  </thead>\n",
              "  <tbody>\n",
              "    <tr>\n",
              "      <th>Drama</th>\n",
              "      <td>94221</td>\n",
              "    </tr>\n",
              "    <tr>\n",
              "      <th>Comedy</th>\n",
              "      <td>58737</td>\n",
              "    </tr>\n",
              "    <tr>\n",
              "      <th>Romance</th>\n",
              "      <td>28257</td>\n",
              "    </tr>\n",
              "    <tr>\n",
              "      <th>Action</th>\n",
              "      <td>25897</td>\n",
              "    </tr>\n",
              "    <tr>\n",
              "      <th>Thriller</th>\n",
              "      <td>22777</td>\n",
              "    </tr>\n",
              "    <tr>\n",
              "      <th>Crime</th>\n",
              "      <td>22135</td>\n",
              "    </tr>\n",
              "    <tr>\n",
              "      <th>Horror</th>\n",
              "      <td>19115</td>\n",
              "    </tr>\n",
              "    <tr>\n",
              "      <th>Adventure</th>\n",
              "      <td>15181</td>\n",
              "    </tr>\n",
              "    <tr>\n",
              "      <th>Mystery</th>\n",
              "      <td>10451</td>\n",
              "    </tr>\n",
              "    <tr>\n",
              "      <th>Family</th>\n",
              "      <td>7925</td>\n",
              "    </tr>\n",
              "    <tr>\n",
              "      <th>Fantasy</th>\n",
              "      <td>7625</td>\n",
              "    </tr>\n",
              "    <tr>\n",
              "      <th>Sci-Fi</th>\n",
              "      <td>7217</td>\n",
              "    </tr>\n",
              "    <tr>\n",
              "      <th>Biography</th>\n",
              "      <td>4755</td>\n",
              "    </tr>\n",
              "    <tr>\n",
              "      <th>History</th>\n",
              "      <td>4593</td>\n",
              "    </tr>\n",
              "    <tr>\n",
              "      <th>War</th>\n",
              "      <td>4485</td>\n",
              "    </tr>\n",
              "    <tr>\n",
              "      <th>Animation</th>\n",
              "      <td>4283</td>\n",
              "    </tr>\n",
              "    <tr>\n",
              "      <th>Musical</th>\n",
              "      <td>4083</td>\n",
              "    </tr>\n",
              "    <tr>\n",
              "      <th>Music</th>\n",
              "      <td>3379</td>\n",
              "    </tr>\n",
              "    <tr>\n",
              "      <th>Western</th>\n",
              "      <td>3167</td>\n",
              "    </tr>\n",
              "    <tr>\n",
              "      <th>Sport</th>\n",
              "      <td>2129</td>\n",
              "    </tr>\n",
              "    <tr>\n",
              "      <th>Film-Noir</th>\n",
              "      <td>1327</td>\n",
              "    </tr>\n",
              "    <tr>\n",
              "      <th>Reality-TV</th>\n",
              "      <td>7</td>\n",
              "    </tr>\n",
              "    <tr>\n",
              "      <th>Documentary</th>\n",
              "      <td>5</td>\n",
              "    </tr>\n",
              "    <tr>\n",
              "      <th>Adult</th>\n",
              "      <td>5</td>\n",
              "    </tr>\n",
              "    <tr>\n",
              "      <th>News</th>\n",
              "      <td>3</td>\n",
              "    </tr>\n",
              "  </tbody>\n",
              "</table>\n",
              "</div>"
            ],
            "text/plain": [
              "             occurences\n",
              "Drama             94221\n",
              "Comedy            58737\n",
              "Romance           28257\n",
              "Action            25897\n",
              "Thriller          22777\n",
              "Crime             22135\n",
              "Horror            19115\n",
              "Adventure         15181\n",
              "Mystery           10451\n",
              "Family             7925\n",
              "Fantasy            7625\n",
              "Sci-Fi             7217\n",
              "Biography          4755\n",
              "History            4593\n",
              "War                4485\n",
              "Animation          4283\n",
              "Musical            4083\n",
              "Music              3379\n",
              "Western            3167\n",
              "Sport              2129\n",
              "Film-Noir          1327\n",
              "Reality-TV            7\n",
              "Documentary           5\n",
              "Adult                 5\n",
              "News                  3"
            ]
          },
          "metadata": {
            "tags": []
          },
          "execution_count": 114
        }
      ]
    },
    {
      "cell_type": "code",
      "metadata": {
        "colab": {
          "base_uri": "https://localhost:8080/",
          "height": 312
        },
        "id": "UMXPsvKM8D-H",
        "outputId": "6259ac3e-05b8-472d-8afb-d9ab03b5fb6a"
      },
      "source": [
        "ax = genres_count_all.sort_values(by='occurences', ascending=False).head().plot.barh(rot=1, title='Genres by occurences')\n",
        "ax.set_xlabel('occurences')\n",
        "#ax.set_ylabel()\n"
      ],
      "execution_count": 115,
      "outputs": [
        {
          "output_type": "execute_result",
          "data": {
            "text/plain": [
              "Text(0.5, 0, 'occurences')"
            ]
          },
          "metadata": {
            "tags": []
          },
          "execution_count": 115
        },
        {
          "output_type": "display_data",
          "data": {
            "image/png": "[encoded data removed]",
            "text/plain": [
              "<Figure size 432x288 with 1 Axes>"
            ]
          },
          "metadata": {
            "tags": [],
            "needs_background": "light"
          }
        }
      ]
    },
    {
      "cell_type": "markdown",
      "metadata": {
        "id": "UjJRFNeCLFqe"
      },
      "source": [
        "##Gatunki na lata"
      ]
    },
    {
      "cell_type": "code",
      "metadata": {
        "id": "bVhGrZJZ7MKy"
      },
      "source": [
        "imdb_movies['genre_list']=imdb_movies['genre'].str.split(',', n=5)\n",
        "#imdb_movies['genre_list'].value_counts().head(10)"
      ],
      "execution_count": 116,
      "outputs": []
    },
    {
      "cell_type": "code",
      "metadata": {
        "colab": {
          "base_uri": "https://localhost:8080/"
        },
        "id": "mPd8iPIY4RQu",
        "outputId": "f69db6a7-f70d-4118-d3f0-1c47f1056196"
      },
      "source": [
        "genres_by_years=imdb_movies[['genre', 'year']].groupby(['year', 'genre'], as_index=True)['genre'].count()\n",
        "genres_by_years.tail(100)"
      ],
      "execution_count": 117,
      "outputs": [
        {
          "output_type": "execute_result",
          "data": {
            "text/plain": [
              "year           genre                     \n",
              "2020           Adventure, Family              1\n",
              "               Adventure, Family, Fantasy     3\n",
              "               Adventure, Horror              1\n",
              "               Adventure, Romance             1\n",
              "               Animation                      1\n",
              "                                             ..\n",
              "               Sport                          1\n",
              "               Thriller                      18\n",
              "               War                            3\n",
              "               Western                        1\n",
              "TV Movie 2019  Biography, Comedy, Crime       1\n",
              "Name: genre, Length: 100, dtype: int64"
            ]
          },
          "metadata": {
            "tags": []
          },
          "execution_count": 117
        }
      ]
    },
    {
      "cell_type": "code",
      "metadata": {
        "colab": {
          "base_uri": "https://localhost:8080/",
          "height": 541
        },
        "id": "c8HjtJ98MNjM",
        "outputId": "6f55cdf0-40fa-4110-d836-982019c4dd16"
      },
      "source": [
        "#dla roku 2019 zamiana str gatunków na listę\n",
        "genres_split_by_years=imdb_movies[['genre', 'year', 'imdb_title_id']]\n",
        "genres_split_by_years[genres_split_by_years['year']=='2019']\n",
        "genres = genres_split_by_years['genre']\n",
        "\n",
        "new_genres=[]\n",
        "for genre in genres.to_list():\n",
        "    genre = genre.split(',')\n",
        "    new_genres.append(genre)\n",
        "\n",
        "genres_split_by_years['new_genre']=new_genres\n",
        "genres_split_by_years\n"
      ],
      "execution_count": 118,
      "outputs": [
        {
          "output_type": "stream",
          "text": [
            "/usr/local/lib/python3.6/dist-packages/ipykernel_launcher.py:11: SettingWithCopyWarning: \n",
            "A value is trying to be set on a copy of a slice from a DataFrame.\n",
            "Try using .loc[row_indexer,col_indexer] = value instead\n",
            "\n",
            "See the caveats in the documentation: https://pandas.pydata.org/pandas-docs/stable/user_guide/indexing.html#returning-a-view-versus-a-copy\n",
            "  # This is added back by InteractiveShellApp.init_path()\n"
          ],
          "name": "stderr"
        },
        {
          "output_type": "execute_result",
          "data": {
            "text/html": [
              "<div>\n",
              "<style scoped>\n",
              "    .dataframe tbody tr th:only-of-type {\n",
              "        vertical-align: middle;\n",
              "    }\n",
              "\n",
              "    .dataframe tbody tr th {\n",
              "        vertical-align: top;\n",
              "    }\n",
              "\n",
              "    .dataframe thead th {\n",
              "        text-align: right;\n",
              "    }\n",
              "</style>\n",
              "<table border=\"1\" class=\"dataframe\">\n",
              "  <thead>\n",
              "    <tr style=\"text-align: right;\">\n",
              "      <th></th>\n",
              "      <th>genre</th>\n",
              "      <th>year</th>\n",
              "      <th>imdb_title_id</th>\n",
              "      <th>new_genre</th>\n",
              "    </tr>\n",
              "  </thead>\n",
              "  <tbody>\n",
              "    <tr>\n",
              "      <th>0</th>\n",
              "      <td>Romance</td>\n",
              "      <td>1894</td>\n",
              "      <td>tt0000009</td>\n",
              "      <td>[Romance]</td>\n",
              "    </tr>\n",
              "    <tr>\n",
              "      <th>1</th>\n",
              "      <td>Biography, Crime, Drama</td>\n",
              "      <td>1906</td>\n",
              "      <td>tt0000574</td>\n",
              "      <td>[Biography,  Crime,  Drama]</td>\n",
              "    </tr>\n",
              "    <tr>\n",
              "      <th>2</th>\n",
              "      <td>Drama</td>\n",
              "      <td>1911</td>\n",
              "      <td>tt0001892</td>\n",
              "      <td>[Drama]</td>\n",
              "    </tr>\n",
              "    <tr>\n",
              "      <th>3</th>\n",
              "      <td>Drama, History</td>\n",
              "      <td>1912</td>\n",
              "      <td>tt0002101</td>\n",
              "      <td>[Drama,  History]</td>\n",
              "    </tr>\n",
              "    <tr>\n",
              "      <th>4</th>\n",
              "      <td>Adventure, Drama, Fantasy</td>\n",
              "      <td>1911</td>\n",
              "      <td>tt0002130</td>\n",
              "      <td>[Adventure,  Drama,  Fantasy]</td>\n",
              "    </tr>\n",
              "    <tr>\n",
              "      <th>...</th>\n",
              "      <td>...</td>\n",
              "      <td>...</td>\n",
              "      <td>...</td>\n",
              "      <td>...</td>\n",
              "    </tr>\n",
              "    <tr>\n",
              "      <th>85850</th>\n",
              "      <td>Comedy</td>\n",
              "      <td>2020</td>\n",
              "      <td>tt9908390</td>\n",
              "      <td>[Comedy]</td>\n",
              "    </tr>\n",
              "    <tr>\n",
              "      <th>85851</th>\n",
              "      <td>Comedy, Drama</td>\n",
              "      <td>2020</td>\n",
              "      <td>tt9911196</td>\n",
              "      <td>[Comedy,  Drama]</td>\n",
              "    </tr>\n",
              "    <tr>\n",
              "      <th>85852</th>\n",
              "      <td>Drama</td>\n",
              "      <td>2019</td>\n",
              "      <td>tt9911774</td>\n",
              "      <td>[Drama]</td>\n",
              "    </tr>\n",
              "    <tr>\n",
              "      <th>85853</th>\n",
              "      <td>Drama, Family</td>\n",
              "      <td>2019</td>\n",
              "      <td>tt9914286</td>\n",
              "      <td>[Drama,  Family]</td>\n",
              "    </tr>\n",
              "    <tr>\n",
              "      <th>85854</th>\n",
              "      <td>Drama</td>\n",
              "      <td>2019</td>\n",
              "      <td>tt9914942</td>\n",
              "      <td>[Drama]</td>\n",
              "    </tr>\n",
              "  </tbody>\n",
              "</table>\n",
              "<p>85855 rows × 4 columns</p>\n",
              "</div>"
            ],
            "text/plain": [
              "                           genre  ...                      new_genre\n",
              "0                        Romance  ...                      [Romance]\n",
              "1        Biography, Crime, Drama  ...    [Biography,  Crime,  Drama]\n",
              "2                          Drama  ...                        [Drama]\n",
              "3                 Drama, History  ...              [Drama,  History]\n",
              "4      Adventure, Drama, Fantasy  ...  [Adventure,  Drama,  Fantasy]\n",
              "...                          ...  ...                            ...\n",
              "85850                     Comedy  ...                       [Comedy]\n",
              "85851              Comedy, Drama  ...               [Comedy,  Drama]\n",
              "85852                      Drama  ...                        [Drama]\n",
              "85853              Drama, Family  ...               [Drama,  Family]\n",
              "85854                      Drama  ...                        [Drama]\n",
              "\n",
              "[85855 rows x 4 columns]"
            ]
          },
          "metadata": {
            "tags": []
          },
          "execution_count": 118
        }
      ]
    },
    {
      "cell_type": "code",
      "metadata": {
        "id": "2hhtVmBZUtGd",
        "colab": {
          "base_uri": "https://localhost:8080/"
        },
        "outputId": "5f986864-317c-483c-b959-edbe3996b219"
      },
      "source": [
        "genres_in_2019 = genres_split_by_years[genres_split_by_years['year']=='2019']\n",
        "genres_2019=genres_in_2019['new_genre'].to_list()\n",
        "genres_2019"
      ],
      "execution_count": 119,
      "outputs": [
        {
          "output_type": "execute_result",
          "data": {
            "text/plain": [
              "[['Crime', ' Drama'],\n",
              " ['Action', ' Adventure', ' Fantasy'],\n",
              " ['Drama'],\n",
              " ['Drama', ' Romance'],\n",
              " ['Action', ' Adventure', ' Comedy'],\n",
              " ['Comedy', ' Drama'],\n",
              " ['Mystery', ' Thriller'],\n",
              " ['Comedy', ' Drama'],\n",
              " ['Animation', ' Action', ' Adventure'],\n",
              " ['Action', ' Crime', ' Drama'],\n",
              " ['Drama', ' Music'],\n",
              " ['Drama', ' History', ' Thriller'],\n",
              " ['Comedy', ' Drama', ' Family'],\n",
              " ['Comedy', ' Fantasy', ' Romance'],\n",
              " ['Biography', ' Crime', ' Drama'],\n",
              " ['Action', ' Crime', ' Drama'],\n",
              " ['Action', ' Adventure', ' Fantasy'],\n",
              " ['Comedy', ' Drama', ' War'],\n",
              " ['Adventure', ' Comedy', ' Drama'],\n",
              " ['Comedy', ' Family'],\n",
              " ['Drama', ' Horror', ' Mystery'],\n",
              " ['Drama', ' Thriller'],\n",
              " ['Drama', ' Family', ' Sci-Fi'],\n",
              " ['Adventure', ' Horror', ' Mystery'],\n",
              " ['Action', ' Crime', ' Horror'],\n",
              " ['Thriller'],\n",
              " ['Adventure', ' Drama', ' Mystery'],\n",
              " ['Comedy'],\n",
              " ['Drama', ' Horror', ' Mystery'],\n",
              " ['Action', ' Adventure', ' Comedy'],\n",
              " ['Romance'],\n",
              " ['Crime', ' Drama', ' Mystery'],\n",
              " ['Comedy', ' Drama'],\n",
              " ['Drama', ' History', ' Thriller'],\n",
              " ['Crime', ' Thriller'],\n",
              " ['Comedy', ' Drama', ' Romance'],\n",
              " ['Thriller'],\n",
              " ['Action', ' Comedy', ' Horror'],\n",
              " ['Drama'],\n",
              " ['Comedy', ' Drama'],\n",
              " ['Biography', ' Drama'],\n",
              " ['Biography'],\n",
              " ['Adventure', ' Drama', ' Sci-Fi'],\n",
              " ['Drama'],\n",
              " ['Horror', ' Thriller'],\n",
              " ['Drama', ' Romance'],\n",
              " ['Action', ' Crime', ' Thriller'],\n",
              " ['Crime', ' Drama', ' Horror'],\n",
              " ['Action', ' Drama', ' Sci-Fi'],\n",
              " ['Adventure', ' Drama', ' Family'],\n",
              " ['Biography', ' Drama', ' Romance'],\n",
              " ['Drama', ' Sci-Fi'],\n",
              " ['Drama', ' Family'],\n",
              " ['Adventure', ' Horror', ' Mystery'],\n",
              " ['Horror', ' Thriller'],\n",
              " ['Biography', ' Comedy', ' Drama'],\n",
              " ['Drama'],\n",
              " ['Comedy', ' Drama', ' Romance'],\n",
              " ['Comedy', ' Drama', ' Family'],\n",
              " ['Drama', ' Fantasy', ' Horror'],\n",
              " ['Action', ' Drama', ' War'],\n",
              " ['Drama'],\n",
              " ['Thriller'],\n",
              " ['Animation', ' Action', ' Adventure'],\n",
              " ['Biography', ' Crime', ' Drama'],\n",
              " ['Drama', ' Thriller'],\n",
              " ['Action', ' Crime', ' Thriller'],\n",
              " ['Fantasy', ' Horror', ' Mystery'],\n",
              " ['Comedy', ' Horror'],\n",
              " ['Horror', ' Thriller'],\n",
              " ['Horror', ' Mystery', ' Thriller'],\n",
              " ['Drama', ' Horror', ' Thriller'],\n",
              " ['Drama'],\n",
              " ['Drama'],\n",
              " ['Horror', ' Thriller'],\n",
              " ['Comedy', ' Romance'],\n",
              " ['Action'],\n",
              " ['Comedy', ' Drama'],\n",
              " ['Action', ' Adventure', ' Fantasy'],\n",
              " ['Animation', ' Action', ' Horror'],\n",
              " ['Action', ' Crime', ' Drama'],\n",
              " ['Horror', ' Thriller'],\n",
              " ['Action', ' Comedy', ' Crime'],\n",
              " ['Thriller'],\n",
              " ['Comedy', ' Drama'],\n",
              " ['Action', ' Adventure', ' Drama'],\n",
              " ['Horror'],\n",
              " ['Comedy'],\n",
              " ['Drama', ' Fantasy', ' Sport'],\n",
              " ['Drama', ' Horror', ' Mystery'],\n",
              " ['Adventure', ' Family', ' Fantasy'],\n",
              " ['Drama'],\n",
              " ['Comedy'],\n",
              " ['Drama', ' Sci-Fi'],\n",
              " ['Horror', ' Thriller'],\n",
              " ['Action'],\n",
              " ['Thriller'],\n",
              " ['Comedy', ' Drama'],\n",
              " ['Horror'],\n",
              " ['Horror'],\n",
              " ['Horror', ' Thriller'],\n",
              " ['Horror', ' Thriller'],\n",
              " ['Action', ' Crime', ' Drama'],\n",
              " ['Music'],\n",
              " ['Comedy', ' Drama'],\n",
              " ['Drama'],\n",
              " ['Thriller'],\n",
              " ['Adventure'],\n",
              " ['Drama', ' Romance'],\n",
              " ['Action', ' Crime', ' Drama'],\n",
              " ['Action', ' Thriller'],\n",
              " ['Animation', ' Adventure', ' Comedy'],\n",
              " ['Action', ' Adventure', ' Sci-Fi'],\n",
              " ['Action', ' Adventure', ' Drama'],\n",
              " ['Drama', ' Fantasy', ' Mystery'],\n",
              " ['Comedy', ' Drama'],\n",
              " ['Comedy'],\n",
              " ['Horror', ' Thriller'],\n",
              " ['Drama'],\n",
              " ['Comedy'],\n",
              " ['Animation', ' Adventure', ' Comedy'],\n",
              " ['Comedy'],\n",
              " ['Drama', ' Romance'],\n",
              " ['Drama'],\n",
              " ['Drama', ' Fantasy', ' Horror'],\n",
              " ['Comedy', ' Drama'],\n",
              " ['Comedy'],\n",
              " ['Drama'],\n",
              " ['Thriller'],\n",
              " ['Mystery', ' Thriller'],\n",
              " ['Thriller'],\n",
              " ['Drama'],\n",
              " ['Sci-Fi', ' Thriller'],\n",
              " ['Drama'],\n",
              " ['Comedy', ' Drama'],\n",
              " ['Horror'],\n",
              " ['Animation', ' Adventure', ' Comedy'],\n",
              " ['Comedy', ' Drama'],\n",
              " ['Animation', ' Action', ' Adventure'],\n",
              " ['Crime'],\n",
              " ['Crime', ' Drama'],\n",
              " ['Comedy', ' Drama'],\n",
              " ['Action', ' Comedy', ' Crime'],\n",
              " ['Comedy'],\n",
              " ['Adventure', ' Mystery', ' Sci-Fi'],\n",
              " ['Adventure', ' Drama', ' Family'],\n",
              " ['Action', ' Comedy', ' Crime'],\n",
              " ['Animation', ' Family', ' Fantasy'],\n",
              " ['Horror', ' Mystery', ' Thriller'],\n",
              " ['Drama', ' Romance'],\n",
              " ['Animation', ' Adventure', ' Comedy'],\n",
              " ['Comedy', ' Horror'],\n",
              " ['Adventure', ' Drama', ' Sci-Fi'],\n",
              " ['Drama'],\n",
              " ['Action', ' Crime', ' Drama'],\n",
              " ['Action', ' Crime', ' Drama'],\n",
              " ['Thriller'],\n",
              " ['Drama', ' Fantasy', ' Romance'],\n",
              " ['Horror', ' Thriller'],\n",
              " ['Action', ' Biography', ' Drama'],\n",
              " ['Comedy', ' Drama'],\n",
              " ['Comedy'],\n",
              " ['Biography', ' Crime', ' Drama'],\n",
              " ['Drama'],\n",
              " ['Drama', ' Sci-Fi'],\n",
              " ['Drama', ' Horror', ' Mystery'],\n",
              " ['Biography', ' Comedy', ' Drama'],\n",
              " ['Comedy', ' Drama'],\n",
              " ['Drama', ' Thriller'],\n",
              " ['Animation', ' Adventure', ' Comedy'],\n",
              " ['Drama'],\n",
              " ['Comedy', ' Romance'],\n",
              " ['Drama'],\n",
              " ['Comedy'],\n",
              " ['Drama', ' Romance'],\n",
              " ['Adventure', ' Family', ' Fantasy'],\n",
              " ['Comedy', ' Drama', ' Romance'],\n",
              " ['Biography', ' Drama', ' History'],\n",
              " ['Drama', ' Sport'],\n",
              " ['Crime', ' Drama'],\n",
              " ['Biography', ' Crime', ' Drama'],\n",
              " ['Thriller'],\n",
              " ['Thriller'],\n",
              " ['Thriller'],\n",
              " ['Crime', ' Drama', ' Thriller'],\n",
              " ['Horror', ' Mystery', ' Thriller'],\n",
              " ['Biography', ' Crime', ' Drama'],\n",
              " ['Horror', ' Mystery'],\n",
              " ['Comedy', ' Crime', ' Drama'],\n",
              " ['Biography', ' Drama', ' Western'],\n",
              " ['Comedy', ' Crime'],\n",
              " ['Animation', ' Adventure', ' Romance'],\n",
              " ['Drama', ' History', ' Thriller'],\n",
              " ['Comedy', ' Romance'],\n",
              " ['Comedy'],\n",
              " ['Action', ' Thriller'],\n",
              " ['Comedy', ' Drama'],\n",
              " ['Crime', ' Drama'],\n",
              " ['Drama', ' Thriller'],\n",
              " ['Action', ' Adventure', ' Comedy'],\n",
              " ['Comedy'],\n",
              " ['Crime', ' Drama'],\n",
              " ['Horror', ' Mystery', ' Thriller'],\n",
              " ['Drama', ' Thriller'],\n",
              " ['Horror', ' Mystery', ' Sci-Fi'],\n",
              " ['Sci-Fi'],\n",
              " ['Drama', ' Sci-Fi'],\n",
              " ['Comedy'],\n",
              " ['Horror', ' Thriller'],\n",
              " ['Romance', ' Thriller'],\n",
              " ['Mystery'],\n",
              " ['Comedy', ' Family', ' Fantasy'],\n",
              " ['Animation', ' Adventure', ' Comedy'],\n",
              " ['Adventure', ' Biography', ' Drama'],\n",
              " ['Comedy'],\n",
              " ['Crime', ' Drama', ' Thriller'],\n",
              " ['Comedy', ' Drama', ' Sport'],\n",
              " ['Fantasy', ' Sci-Fi', ' Thriller'],\n",
              " ['Adventure'],\n",
              " ['Family', ' Sport'],\n",
              " ['Horror', ' Mystery', ' Thriller'],\n",
              " ['Action', ' Crime', ' Drama'],\n",
              " ['Drama'],\n",
              " ['War'],\n",
              " ['Horror', ' Mystery', ' Sci-Fi'],\n",
              " ['Action', ' Comedy', ' Sci-Fi'],\n",
              " ['Drama', ' Fantasy', ' Horror'],\n",
              " ['Horror', ' Mystery', ' Thriller'],\n",
              " ['Action'],\n",
              " ['Comedy', ' Romance'],\n",
              " ['Drama'],\n",
              " ['Horror', ' Romance', ' Thriller'],\n",
              " ['Drama', ' Horror', ' Mystery'],\n",
              " ['Drama', ' Thriller'],\n",
              " ['Sci-Fi'],\n",
              " ['Adventure'],\n",
              " ['Action', ' Drama', ' Thriller'],\n",
              " ['Comedy', ' Drama'],\n",
              " ['Adventure', ' Drama', ' Family'],\n",
              " ['Drama', ' Mystery', ' Thriller'],\n",
              " ['Action', ' Horror', ' Western'],\n",
              " ['Horror'],\n",
              " ['Action', ' Crime', ' Thriller'],\n",
              " ['Drama', ' Music'],\n",
              " ['Comedy', ' Drama', ' Romance'],\n",
              " ['Drama', ' Music'],\n",
              " ['Comedy', ' Musical', ' Romance'],\n",
              " ['Drama'],\n",
              " ['Biography', ' Crime', ' Drama'],\n",
              " ['Horror'],\n",
              " ['Action'],\n",
              " ['Horror'],\n",
              " ['Action', ' Drama', ' Romance'],\n",
              " ['Drama'],\n",
              " ['Comedy', ' Crime', ' Drama'],\n",
              " ['Drama', ' Mystery', ' Thriller'],\n",
              " ['Drama'],\n",
              " ['Action', ' Crime', ' Thriller'],\n",
              " ['Action'],\n",
              " ['Crime', ' Drama', ' Mystery'],\n",
              " ['Crime', ' Drama', ' Thriller'],\n",
              " ['Drama'],\n",
              " ['Horror'],\n",
              " ['Drama'],\n",
              " ['Drama', ' Horror', ' Mystery'],\n",
              " ['Drama'],\n",
              " ['Horror', ' Thriller'],\n",
              " ['Drama', ' Musical', ' Thriller'],\n",
              " ['Drama', ' Fantasy', ' Horror'],\n",
              " ['Comedy'],\n",
              " ['Horror', ' Sci-Fi'],\n",
              " ['Action', ' Crime', ' Drama'],\n",
              " ['Drama'],\n",
              " ['Drama', ' Thriller'],\n",
              " ['Drama'],\n",
              " ['Action', ' Crime', ' Drama'],\n",
              " ['Drama'],\n",
              " ['Drama', ' History', ' Thriller'],\n",
              " ['Drama', ' Mystery', ' Thriller'],\n",
              " ['Crime', ' Drama', ' Thriller'],\n",
              " ['Action', ' Biography', ' Crime'],\n",
              " ['Thriller'],\n",
              " ['Comedy', ' Drama', ' Family'],\n",
              " ['Thriller'],\n",
              " ['Adventure', ' Horror', ' Mystery'],\n",
              " ['Thriller'],\n",
              " ['Action', ' Crime', ' Drama'],\n",
              " ['Crime', ' Drama', ' Thriller'],\n",
              " ['Action', ' Fantasy', ' Horror'],\n",
              " ['Comedy', ' Drama'],\n",
              " ['Comedy', ' Drama', ' Fantasy'],\n",
              " ['Adventure'],\n",
              " ['Crime', ' Drama', ' Thriller'],\n",
              " ['Comedy', ' Drama'],\n",
              " ['Action', ' Horror'],\n",
              " ['Animation', ' Action', ' Adventure'],\n",
              " ['Animation', ' Adventure', ' Family'],\n",
              " ['Action', ' Crime', ' Drama'],\n",
              " ['Biography', ' Drama', ' Romance'],\n",
              " ['Action', ' Adventure', ' Comedy'],\n",
              " ['Horror'],\n",
              " ['Biography', ' Drama'],\n",
              " ['Drama'],\n",
              " ['Thriller'],\n",
              " ['Comedy', ' Crime', ' Drama'],\n",
              " ['Horror', ' Thriller'],\n",
              " ['Comedy'],\n",
              " ['Action', ' Adventure', ' Comedy'],\n",
              " ['Adventure', ' Comedy', ' Drama'],\n",
              " ['Action', ' Adventure', ' Horror'],\n",
              " ['Comedy', ' Drama'],\n",
              " ['Drama'],\n",
              " ['Drama', ' Horror', ' Mystery'],\n",
              " ['Drama', ' Mystery', ' Thriller'],\n",
              " ['Biography', ' Drama'],\n",
              " ['Comedy', ' Drama'],\n",
              " ['Action', ' Crime', ' Drama'],\n",
              " ['Drama'],\n",
              " ['Drama'],\n",
              " ['Horror', ' Thriller'],\n",
              " ['Action', ' Adventure', ' Drama'],\n",
              " ['Adventure', ' Comedy'],\n",
              " ['Comedy', ' Crime', ' Drama'],\n",
              " ['Drama', ' Romance', ' War'],\n",
              " ['Comedy'],\n",
              " ['Drama', ' Sport'],\n",
              " ['Comedy'],\n",
              " ['Action', ' Drama'],\n",
              " ['Thriller'],\n",
              " ['Drama', ' Romance'],\n",
              " ['Comedy', ' Mystery', ' Thriller'],\n",
              " ['Horror'],\n",
              " ['Biography', ' Drama', ' Romance'],\n",
              " ['Drama', ' Fantasy', ' Horror'],\n",
              " ['Horror'],\n",
              " ['Crime', ' Drama', ' Thriller'],\n",
              " ['Adventure', ' Drama'],\n",
              " ['Horror', ' Thriller'],\n",
              " ['Thriller'],\n",
              " ['Thriller'],\n",
              " ['Crime', ' Romance'],\n",
              " ['Horror'],\n",
              " ['Drama'],\n",
              " ['Comedy', ' Crime'],\n",
              " ['Action', ' Comedy', ' Thriller'],\n",
              " ['Action', ' Sci-Fi'],\n",
              " ['Horror'],\n",
              " ['Comedy', ' Romance'],\n",
              " ['Biography', ' Drama', ' History'],\n",
              " ['Adventure', ' Drama', ' Mystery'],\n",
              " ['Drama', ' Sci-Fi', ' Thriller'],\n",
              " ['Action', ' Crime', ' Drama'],\n",
              " ['Comedy', ' Drama'],\n",
              " ['Action', ' Comedy'],\n",
              " ['Comedy', ' Music'],\n",
              " ['Crime', ' Drama', ' Horror'],\n",
              " ['Drama', ' History', ' War'],\n",
              " ['Action', ' Adventure', ' Fantasy'],\n",
              " ['Comedy', ' Drama'],\n",
              " ['Animation', ' Adventure', ' Comedy'],\n",
              " ['Drama', ' Thriller'],\n",
              " ['Animation', ' Adventure', ' Drama'],\n",
              " ['Action'],\n",
              " ['Comedy', ' Drama'],\n",
              " ['Comedy', ' Crime', ' Drama'],\n",
              " ['Horror', ' Thriller'],\n",
              " ['Drama', ' Horror', ' Thriller'],\n",
              " ['Fantasy', ' Sci-Fi', ' Thriller'],\n",
              " ['Crime', ' Drama', ' Thriller'],\n",
              " ['Adventure', ' Family', ' Fantasy'],\n",
              " ['Action', ' Adventure', ' Drama'],\n",
              " ['Thriller'],\n",
              " ['Action', ' Crime', ' Thriller'],\n",
              " ['Drama'],\n",
              " ['Drama'],\n",
              " ['Drama'],\n",
              " ['Adventure'],\n",
              " ['Horror'],\n",
              " ['Family'],\n",
              " ['Comedy', ' Drama'],\n",
              " ['Comedy', ' Crime', ' Thriller'],\n",
              " ['Thriller'],\n",
              " ['Action', ' Thriller'],\n",
              " ['Drama', ' Thriller'],\n",
              " ['Animation', ' Adventure', ' Comedy'],\n",
              " ['Comedy', ' Thriller'],\n",
              " ['Action', ' Drama', ' Thriller'],\n",
              " ['Adventure', ' Music', ' Sci-Fi'],\n",
              " ['Action'],\n",
              " ['Drama', ' War'],\n",
              " ['Drama', ' Horror', ' Mystery'],\n",
              " ['Family'],\n",
              " ['Comedy'],\n",
              " ['Horror', ' Thriller'],\n",
              " ['Horror', ' Thriller'],\n",
              " ['Action', ' Adventure', ' Family'],\n",
              " ['Drama'],\n",
              " ['Drama'],\n",
              " ['Horror'],\n",
              " ['Action', ' Crime', ' Drama'],\n",
              " ['Horror', ' Thriller'],\n",
              " ['Action', ' Drama', ' History'],\n",
              " ['Thriller'],\n",
              " ['Mystery', ' Thriller'],\n",
              " ['Horror', ' Mystery', ' Thriller'],\n",
              " ['Action', ' Crime', ' Thriller'],\n",
              " ['Drama', ' Thriller'],\n",
              " ['Animation', ' Adventure', ' Family'],\n",
              " ['Drama'],\n",
              " ['Drama', ' Mystery', ' Sci-Fi'],\n",
              " ['Action', ' Crime', ' Fantasy'],\n",
              " ['Comedy'],\n",
              " ['Adventure', ' Drama', ' Family'],\n",
              " ['Horror', ' Mystery', ' Thriller'],\n",
              " ['Action', ' Adventure', ' Sci-Fi'],\n",
              " ['Animation', ' Adventure', ' Comedy'],\n",
              " ['Action', ' Adventure', ' Crime'],\n",
              " ['Crime', ' Drama', ' Mystery'],\n",
              " ['Crime', ' Drama', ' Mystery'],\n",
              " ['Animation', ' Action', ' Adventure'],\n",
              " ['Crime', ' Drama', ' Thriller'],\n",
              " ['Animation', ' Adventure', ' Comedy'],\n",
              " ['Drama'],\n",
              " ['Biography', ' Comedy', ' Drama'],\n",
              " ['Drama', ' Romance'],\n",
              " ['Comedy', ' Horror', ' Mystery'],\n",
              " ['Biography', ' Drama', ' History'],\n",
              " ['Biography', ' Comedy', ' Crime'],\n",
              " ['Comedy', ' Drama', ' Horror'],\n",
              " ['Crime', ' Drama', ' Thriller'],\n",
              " ['Drama'],\n",
              " ['Comedy'],\n",
              " ['Sci-Fi', ' Thriller'],\n",
              " ['Drama'],\n",
              " ['Biography', ' Drama'],\n",
              " ['Drama', ' Romance'],\n",
              " ['Horror'],\n",
              " ['Action', ' Crime', ' Drama'],\n",
              " ['Comedy'],\n",
              " ['Horror', ' Thriller'],\n",
              " ['Crime', ' Thriller'],\n",
              " ['Drama', ' Music', ' Romance'],\n",
              " ['Drama'],\n",
              " ['Comedy'],\n",
              " ['Animation', ' Adventure', ' Comedy'],\n",
              " ['Action', ' Drama', ' Thriller'],\n",
              " ['Action', ' Sci-Fi'],\n",
              " ['Comedy', ' Drama'],\n",
              " ['Action', ' Adventure', ' Sci-Fi'],\n",
              " ['Thriller'],\n",
              " ['Biography', ' Drama', ' History'],\n",
              " ['Drama', ' Mystery'],\n",
              " ['Drama', ' Family'],\n",
              " ['Drama', ' Romance'],\n",
              " ['Action', ' Thriller'],\n",
              " ['Drama', ' Mystery', ' Thriller'],\n",
              " ['Family', ' Romance', ' Sci-Fi'],\n",
              " ['Drama'],\n",
              " ['Sci-Fi', ' Thriller'],\n",
              " ['Comedy'],\n",
              " ['Comedy'],\n",
              " ['Biography', ' Comedy', ' Drama'],\n",
              " ['Drama'],\n",
              " ['Comedy', ' Horror'],\n",
              " ['Drama'],\n",
              " ['Drama'],\n",
              " ['Comedy'],\n",
              " ['Action', ' Drama', ' History'],\n",
              " ['Horror', ' Thriller'],\n",
              " ['Drama', ' Sci-Fi', ' Thriller'],\n",
              " ['Sci-Fi', ' Thriller'],\n",
              " ['Comedy', ' Drama'],\n",
              " ['Adventure', ' Drama', ' Fantasy'],\n",
              " ['Animation', ' Comedy', ' Family'],\n",
              " ['Action', ' Adventure', ' Sci-Fi'],\n",
              " ['Drama'],\n",
              " ['Drama'],\n",
              " ['Thriller'],\n",
              " ['Horror'],\n",
              " ['Drama'],\n",
              " ['Crime', ' Drama', ' Thriller'],\n",
              " ['Action', ' Crime', ' Thriller'],\n",
              " ['Drama', ' Sport'],\n",
              " ['Comedy', ' Drama'],\n",
              " ['Crime', ' Drama', ' Mystery'],\n",
              " ['Drama'],\n",
              " ['Crime', ' Drama', ' Thriller'],\n",
              " ['Action', ' Sci-Fi'],\n",
              " ['Action', ' Thriller'],\n",
              " ['Thriller'],\n",
              " ['Thriller'],\n",
              " ['Comedy', ' Sci-Fi'],\n",
              " ['Drama'],\n",
              " ['Drama'],\n",
              " ['Drama', ' History'],\n",
              " ['Sci-Fi'],\n",
              " ['Comedy', ' Family'],\n",
              " ['Comedy'],\n",
              " ['Crime', ' Thriller'],\n",
              " ['Drama', ' Mystery'],\n",
              " ['Biography', ' Drama', ' Romance'],\n",
              " ['Comedy', ' Crime', ' Fantasy'],\n",
              " ['Drama'],\n",
              " ['Thriller'],\n",
              " ['Drama', ' History'],\n",
              " ['Drama', ' Horror', ' Mystery'],\n",
              " ['Comedy', ' Drama'],\n",
              " ['Comedy'],\n",
              " ['Comedy'],\n",
              " ['Comedy', ' Sci-Fi'],\n",
              " ['Drama'],\n",
              " ['Thriller'],\n",
              " ['Horror', ' Mystery', ' Thriller'],\n",
              " ['Comedy', ' Drama', ' Thriller'],\n",
              " ['Crime', ' Drama', ' Thriller'],\n",
              " ['Drama'],\n",
              " ['Animation', ' Comedy', ' Family'],\n",
              " ['Action', ' Crime', ' Thriller'],\n",
              " ['Animation', ' Drama', ' Family'],\n",
              " ['Drama', ' Thriller'],\n",
              " ['Adventure', ' Drama'],\n",
              " ['Horror', ' Thriller'],\n",
              " ['Drama', ' Thriller'],\n",
              " ['Drama', ' Mystery', ' Sci-Fi'],\n",
              " ['Drama', ' Horror', ' Mystery'],\n",
              " ['Action', ' Adventure', ' Thriller'],\n",
              " ['Action', ' Adventure', ' Family'],\n",
              " ['Adventure', ' Drama', ' Fantasy'],\n",
              " ['Drama', ' Sci-Fi', ' Thriller'],\n",
              " ['Drama'],\n",
              " ['Biography', ' Drama', ' History'],\n",
              " ['Drama', ' Sci-Fi', ' Thriller'],\n",
              " ['Fantasy', ' Mystery', ' Thriller'],\n",
              " ['Biography', ' Drama', ' Thriller'],\n",
              " ['Action', ' Crime', ' Drama'],\n",
              " ['Thriller'],\n",
              " ['Action', ' Thriller'],\n",
              " ['Drama', ' Thriller'],\n",
              " ['Action', ' Crime', ' Drama'],\n",
              " ['Comedy'],\n",
              " ['Horror'],\n",
              " ['Comedy'],\n",
              " ['Comedy', ' Drama', ' Family'],\n",
              " ['Horror'],\n",
              " ['Crime', ' Drama', ' Thriller'],\n",
              " ['Drama', ' Thriller'],\n",
              " ['Horror', ' Mystery', ' Thriller'],\n",
              " ['Horror'],\n",
              " ['Action', ' Drama', ' Romance'],\n",
              " ['Comedy'],\n",
              " ['Thriller'],\n",
              " ['Comedy'],\n",
              " ['Action', ' Crime', ' Drama'],\n",
              " ['Drama'],\n",
              " ['Drama'],\n",
              " ['Comedy', ' Fantasy', ' Horror'],\n",
              " ['Crime', ' Drama'],\n",
              " ['Fantasy', ' Horror', ' Mystery'],\n",
              " ['Drama', ' Family', ' Fantasy'],\n",
              " ['Action', ' Comedy', ' Thriller'],\n",
              " ['Action', ' Biography', ' Drama'],\n",
              " ['Drama'],\n",
              " ['Action', ' Adventure', ' Drama'],\n",
              " ['Biography', ' Drama', ' History'],\n",
              " ['Comedy'],\n",
              " ['Drama', ' Mystery', ' Romance'],\n",
              " ['Drama', ' Family'],\n",
              " ['Action', ' Adventure', ' Drama'],\n",
              " ['Comedy', ' Drama'],\n",
              " ['Comedy', ' Drama'],\n",
              " ['Action', ' Thriller'],\n",
              " ['Family'],\n",
              " ['Crime', ' Drama', ' Horror'],\n",
              " ['Romance', ' Thriller'],\n",
              " ['Drama', ' Horror', ' Thriller'],\n",
              " ['Drama', ' Horror', ' Thriller'],\n",
              " ['Thriller'],\n",
              " ['Drama'],\n",
              " ['Comedy', ' Horror'],\n",
              " ['Action', ' Drama', ' Horror'],\n",
              " ['Action', ' Drama', ' Romance'],\n",
              " ['Crime', ' Drama'],\n",
              " ['Family'],\n",
              " ['Comedy', ' Horror', ' Thriller'],\n",
              " ['Drama'],\n",
              " ['Biography', ' Drama'],\n",
              " ['Drama', ' Romance'],\n",
              " ['Horror'],\n",
              " ['Comedy'],\n",
              " ['Horror', ' Mystery', ' Thriller'],\n",
              " ['Comedy', ' Romance'],\n",
              " ['Drama', ' Mystery'],\n",
              " ['Comedy', ' Mystery'],\n",
              " ['Comedy', ' Drama'],\n",
              " ['Action', ' Comedy', ' Crime'],\n",
              " ['Drama', ' Romance'],\n",
              " ['Action', ' Adventure', ' Fantasy'],\n",
              " ['Family', ' Sport'],\n",
              " ['Comedy', ' Crime', ' Mystery'],\n",
              " ['Comedy'],\n",
              " ['Action', ' Drama'],\n",
              " ['Horror', ' Mystery', ' Thriller'],\n",
              " ['Action', ' Drama', ' Thriller'],\n",
              " ['Comedy'],\n",
              " ['Action', ' Drama', ' Sport'],\n",
              " ['Comedy'],\n",
              " ['Action', ' Comedy'],\n",
              " ['Action', ' Adventure', ' Drama'],\n",
              " ['Comedy', ' Crime'],\n",
              " ['Biography', ' Drama'],\n",
              " ['Drama'],\n",
              " ['Animation', ' Drama', ' Family'],\n",
              " ['Drama', ' Music'],\n",
              " ['Thriller'],\n",
              " ['Crime', ' Thriller'],\n",
              " ['Horror'],\n",
              " ['Drama'],\n",
              " ['Comedy'],\n",
              " ['Drama', ' Mystery', ' Thriller'],\n",
              " ['Comedy', ' Romance'],\n",
              " ['Action', ' Drama', ' Horror'],\n",
              " ['Comedy', ' Horror', ' Thriller'],\n",
              " ['Drama'],\n",
              " ['Crime', ' Fantasy', ' Horror'],\n",
              " ['Comedy', ' Drama'],\n",
              " ['Comedy', ' Horror', ' Thriller'],\n",
              " ['Thriller'],\n",
              " ['Comedy', ' Romance'],\n",
              " ['Thriller'],\n",
              " ['Drama'],\n",
              " ['Fantasy', ' Horror'],\n",
              " ['Comedy', ' Drama'],\n",
              " ['Drama'],\n",
              " ['Horror'],\n",
              " ['Animation', ' Action', ' Adventure'],\n",
              " ['Comedy', ' Drama'],\n",
              " ['Horror', ' Mystery', ' Thriller'],\n",
              " ['Comedy', ' Romance'],\n",
              " ['Drama'],\n",
              " ['Comedy', ' Drama'],\n",
              " ['Drama', ' Romance'],\n",
              " ['Drama'],\n",
              " ['Horror', ' Thriller'],\n",
              " ['Thriller'],\n",
              " ['Action', ' Crime', ' Drama'],\n",
              " ['Horror', ' Thriller'],\n",
              " ['Action', ' Comedy', ' Crime'],\n",
              " ['Drama', ' Romance', ' Sport'],\n",
              " ['Comedy', ' Horror', ' Romance'],\n",
              " ['Drama', ' Horror', ' Mystery'],\n",
              " ['Drama'],\n",
              " ['Horror', ' Thriller'],\n",
              " ['Drama', ' Music'],\n",
              " ['Horror', ' Sci-Fi', ' Thriller'],\n",
              " ['Drama', ' History'],\n",
              " ['Adventure', ' Western'],\n",
              " ['Drama'],\n",
              " ['Action', ' Adventure', ' Drama'],\n",
              " ['Crime', ' Drama', ' Thriller'],\n",
              " ['Horror'],\n",
              " ['Comedy', ' Romance'],\n",
              " ['Action'],\n",
              " ['Action', ' Drama', ' Sci-Fi'],\n",
              " ['Drama'],\n",
              " ['Drama'],\n",
              " ['Comedy'],\n",
              " ['Drama', ' History'],\n",
              " ['Horror', ' Mystery', ' Thriller'],\n",
              " ['Comedy'],\n",
              " ['Adventure', ' Drama'],\n",
              " ['Drama'],\n",
              " ['Crime', ' Thriller'],\n",
              " ['Adventure', ' Comedy', ' Crime'],\n",
              " ['Drama'],\n",
              " ['Drama', ' Thriller'],\n",
              " ['Drama', ' Family', ' Thriller'],\n",
              " ['Drama', ' Horror', ' Sci-Fi'],\n",
              " ['Comedy', ' Romance'],\n",
              " ['Action', ' Drama', ' Sport'],\n",
              " ['Drama', ' Thriller'],\n",
              " ['Drama', ' Mystery'],\n",
              " ['Crime', ' Drama', ' Mystery'],\n",
              " ['Horror'],\n",
              " ['Drama'],\n",
              " ['Adventure', ' Drama', ' Horror'],\n",
              " ['Thriller'],\n",
              " ['Drama'],\n",
              " ['Drama'],\n",
              " ['Family'],\n",
              " ['Thriller'],\n",
              " ['Action', ' Drama'],\n",
              " ['Action', ' Comedy', ' Crime'],\n",
              " ['Comedy'],\n",
              " ['Adventure', ' Comedy'],\n",
              " ['Drama', ' Horror', ' Thriller'],\n",
              " ['Crime', ' Drama', ' Thriller'],\n",
              " ['Drama', ' Fantasy', ' Horror'],\n",
              " ['Biography', ' Drama'],\n",
              " ['Drama'],\n",
              " ['Comedy', ' Drama'],\n",
              " ['Comedy', ' Romance'],\n",
              " ['Sport'],\n",
              " ['Action', ' Drama'],\n",
              " ['Comedy', ' Romance'],\n",
              " ['Comedy', ' Thriller'],\n",
              " ['Horror'],\n",
              " ['Drama', ' Mystery', ' Romance'],\n",
              " ['Comedy', ' Romance'],\n",
              " ['Drama'],\n",
              " ['Comedy', ' Horror', ' Sci-Fi'],\n",
              " ['Action', ' Crime', ' Drama'],\n",
              " ['Horror'],\n",
              " ['Action', ' Thriller'],\n",
              " ['Comedy', ' Romance'],\n",
              " ['Comedy'],\n",
              " ['Drama', ' Romance'],\n",
              " ['Animation', ' Adventure', ' Comedy'],\n",
              " ['Drama', ' Family', ' War'],\n",
              " ['Comedy'],\n",
              " ['Action', ' Crime', ' Drama'],\n",
              " ['Thriller'],\n",
              " ['Mystery', ' Sci-Fi', ' Thriller'],\n",
              " ['Comedy'],\n",
              " ['Drama', ' War'],\n",
              " ['Comedy', ' Drama'],\n",
              " ['Adventure', ' Family'],\n",
              " ['Comedy'],\n",
              " ['Drama'],\n",
              " ['Comedy', ' Drama'],\n",
              " ['Drama'],\n",
              " ['Action', ' Thriller'],\n",
              " ['Drama'],\n",
              " ['Drama', ' Thriller'],\n",
              " ['Comedy', ' Drama'],\n",
              " ['Action', ' Drama', ' History'],\n",
              " ['Comedy', ' Romance'],\n",
              " ['Horror'],\n",
              " ['Drama', ' Horror', ' Thriller'],\n",
              " ['Horror'],\n",
              " ['Action', ' Thriller'],\n",
              " ['Action', ' Adventure', ' Sci-Fi'],\n",
              " ['Drama', ' Romance'],\n",
              " ['Drama', ' Horror', ' Thriller'],\n",
              " ['Action', ' Adventure'],\n",
              " ['Horror', ' Mystery', ' Sci-Fi'],\n",
              " ['Comedy', ' Crime', ' Fantasy'],\n",
              " ['Drama', ' Thriller'],\n",
              " ['Comedy', ' Horror', ' Sci-Fi'],\n",
              " ['Drama', ' History'],\n",
              " ['Biography', ' Drama'],\n",
              " ['Drama', ' Sci-Fi'],\n",
              " ['Thriller'],\n",
              " ['Drama'],\n",
              " ['Sci-Fi'],\n",
              " ['Crime', ' Drama', ' Mystery'],\n",
              " ['Horror', ' Mystery'],\n",
              " ['Crime', ' Horror', ' Thriller'],\n",
              " ['Action', ' Thriller'],\n",
              " ['Action', ' Thriller'],\n",
              " ['Comedy', ' Horror'],\n",
              " ['Drama'],\n",
              " ['Comedy', ' Crime', ' Drama'],\n",
              " ['Thriller'],\n",
              " ['Animation', ' Comedy', ' Family'],\n",
              " ['Drama'],\n",
              " ['Comedy', ' Drama', ' Fantasy'],\n",
              " ['Drama'],\n",
              " ['Animation', ' Drama', ' War'],\n",
              " ['Action', ' Drama', ' History'],\n",
              " ['Drama', ' Horror', ' Thriller'],\n",
              " ['Drama'],\n",
              " ['Adventure', ' Comedy', ' Family'],\n",
              " ['Thriller'],\n",
              " ['Adventure', ' Comedy', ' Family'],\n",
              " ['Drama', ' Horror', ' Mystery'],\n",
              " ['Comedy'],\n",
              " ['Biography', ' Drama', ' Romance'],\n",
              " ['Drama', ' Romance'],\n",
              " ['Drama'],\n",
              " ['Action', ' Comedy'],\n",
              " ['Comedy', ' Romance'],\n",
              " ['Drama', ' Horror', ' Mystery'],\n",
              " ['Crime', ' Drama'],\n",
              " ['Drama'],\n",
              " ['Comedy', ' Drama'],\n",
              " ['Drama'],\n",
              " ['Action', ' Comedy', ' Thriller'],\n",
              " ['Action', ' Crime', ' Thriller'],\n",
              " ['Drama'],\n",
              " ['Comedy', ' Drama'],\n",
              " ['Drama', ' Romance'],\n",
              " ['Action', ' Adventure', ' Family'],\n",
              " ['Biography', ' Drama', ' History'],\n",
              " ['Romance'],\n",
              " ['Action', ' Drama', ' Thriller'],\n",
              " ['Thriller'],\n",
              " ['Drama', ' Sci-Fi'],\n",
              " ['Drama'],\n",
              " ['Biography', ' Drama', ' History'],\n",
              " ['Biography', ' Drama', ' Sport'],\n",
              " ['Crime', ' Drama'],\n",
              " ['Comedy', ' Crime', ' Drama'],\n",
              " ['Crime', ' Drama'],\n",
              " ['Action', ' Sci-Fi'],\n",
              " ['Drama', ' Romance'],\n",
              " ['Thriller'],\n",
              " ['Horror', ' Thriller'],\n",
              " ['Drama'],\n",
              " ['Horror'],\n",
              " ['Crime', ' Drama'],\n",
              " ['Action', ' Thriller'],\n",
              " ['Drama', ' Mystery'],\n",
              " ['Comedy', ' Crime'],\n",
              " ['Comedy'],\n",
              " ['Adventure', ' Drama', ' Family'],\n",
              " ['Drama'],\n",
              " ['Comedy'],\n",
              " ['Crime', ' Drama', ' Mystery'],\n",
              " ['Thriller'],\n",
              " ['Comedy', ' Fantasy', ' Romance'],\n",
              " ['Horror'],\n",
              " ['Action', ' Adventure', ' Comedy'],\n",
              " ['Adventure', ' Comedy', ' Drama'],\n",
              " ['Thriller'],\n",
              " ['Drama'],\n",
              " ['Comedy', ' Drama'],\n",
              " ['Comedy', ' Drama', ' Romance'],\n",
              " ['Comedy', ' Drama'],\n",
              " ['Horror'],\n",
              " ['Drama'],\n",
              " ['Animation', ' Action', ' Adventure'],\n",
              " ['Crime', ' Horror', ' Thriller'],\n",
              " ['Adventure', ' Family', ' Fantasy'],\n",
              " ['Comedy'],\n",
              " ['Drama'],\n",
              " ['Crime', ' Drama', ' Horror'],\n",
              " ['Comedy'],\n",
              " ['Comedy', ' Drama'],\n",
              " ['Comedy', ' Horror'],\n",
              " ['Comedy', ' Drama', ' Romance'],\n",
              " ['Drama'],\n",
              " ['Comedy'],\n",
              " ['Action', ' Drama', ' Thriller'],\n",
              " ['Comedy', ' Horror', ' Thriller'],\n",
              " ['Comedy', ' Drama'],\n",
              " ['Crime', ' Drama', ' Thriller'],\n",
              " ['Drama', ' Horror', ' Thriller'],\n",
              " ['Adventure', ' Drama'],\n",
              " ['Comedy', ' Thriller'],\n",
              " ['Comedy'],\n",
              " ['War'],\n",
              " ['Horror'],\n",
              " ['Drama'],\n",
              " ['Comedy', ' Family', ' History'],\n",
              " ['Drama', ' Thriller'],\n",
              " ['Drama'],\n",
              " ['Action'],\n",
              " ['Drama', ' Music'],\n",
              " ['Action', ' Comedy', ' Drama'],\n",
              " ['Action', ' Comedy', ' Fantasy'],\n",
              " ['Drama', ' History'],\n",
              " ['Action', ' Drama'],\n",
              " ['Action', ' Western'],\n",
              " ['Action', ' Comedy', ' Crime'],\n",
              " ['Comedy'],\n",
              " ['Musical'],\n",
              " ['Biography', ' Crime', ' Drama'],\n",
              " ['Horror', ' Thriller'],\n",
              " ['Drama', ' Horror'],\n",
              " ['Action', ' Crime', ' Drama'],\n",
              " ['Drama'],\n",
              " ['Comedy'],\n",
              " ['Drama', ' Horror', ' Mystery'],\n",
              " ['Comedy', ' Family'],\n",
              " ['Drama', ' Romance', ' Thriller'],\n",
              " ['Drama'],\n",
              " ['Comedy', ' Fantasy', ' Mystery'],\n",
              " ['Drama'],\n",
              " ['Comedy'],\n",
              " ['Crime', ' Drama'],\n",
              " ['Comedy', ' Mystery', ' Thriller'],\n",
              " ['Horror'],\n",
              " ['Action'],\n",
              " ['Biography', ' Drama'],\n",
              " ['Drama', ' Romance'],\n",
              " ['Fantasy', ' Horror'],\n",
              " ['Drama'],\n",
              " ['Drama'],\n",
              " ['Crime', ' Drama'],\n",
              " ['Crime', ' Drama'],\n",
              " ['Comedy', ' Horror', ' Mystery'],\n",
              " ['Comedy', ' Crime', ' Drama'],\n",
              " ['Crime', ' Drama', ' Thriller'],\n",
              " ['Drama', ' Thriller'],\n",
              " ['Drama'],\n",
              " ['Comedy'],\n",
              " ['Drama'],\n",
              " ['Romance'],\n",
              " ['Drama', ' History', ' War'],\n",
              " ['Comedy', ' Drama'],\n",
              " ['Action', ' Crime', ' Thriller'],\n",
              " ['Action', ' Thriller'],\n",
              " ['Drama'],\n",
              " ['Action', ' Drama', ' History'],\n",
              " ['Drama', ' Horror', ' Mystery'],\n",
              " ['Comedy', ' Horror'],\n",
              " ['Action', ' Crime', ' Thriller'],\n",
              " ['Horror', ' Mystery', ' Thriller'],\n",
              " ['Horror'],\n",
              " ['Thriller'],\n",
              " ['Comedy'],\n",
              " ['Horror'],\n",
              " ['Sci-Fi'],\n",
              " ['Comedy'],\n",
              " ['Drama', ' Horror', ' Thriller'],\n",
              " ['Horror', ' Thriller'],\n",
              " ['Action', ' Drama', ' War'],\n",
              " ['Adventure', ' Comedy'],\n",
              " ['Drama'],\n",
              " ['Fantasy', ' Romance'],\n",
              " ['Action', ' Horror', ' Sci-Fi'],\n",
              " ['Horror', ' Thriller'],\n",
              " ['Crime', ' Thriller'],\n",
              " ['Drama', ' Romance'],\n",
              " ['Comedy', ' Drama'],\n",
              " ['Comedy', ' Sci-Fi', ' Thriller'],\n",
              " ['Action', ' Comedy'],\n",
              " ['Comedy'],\n",
              " ['Biography', ' Drama'],\n",
              " ['Drama'],\n",
              " ['Comedy', ' Drama'],\n",
              " ['Drama'],\n",
              " ['Drama'],\n",
              " ['Action', ' Crime', ' Drama'],\n",
              " ['Action'],\n",
              " ['Horror'],\n",
              " ['Comedy', ' Drama'],\n",
              " ['History'],\n",
              " ['Comedy'],\n",
              " ['Drama'],\n",
              " ['Comedy', ' Crime'],\n",
              " ['Drama'],\n",
              " ['Comedy', ' Drama', ' Horror'],\n",
              " ['Comedy'],\n",
              " ['Drama'],\n",
              " ['Action', ' Crime', ' Mystery'],\n",
              " ['Drama'],\n",
              " ['Action', ' Crime', ' Drama'],\n",
              " ['Drama', ' History', ' Western'],\n",
              " ['Thriller'],\n",
              " ['Horror', ' Mystery', ' Thriller'],\n",
              " ['Comedy'],\n",
              " ['Comedy'],\n",
              " ['Drama'],\n",
              " ['Drama', ' Horror', ' Thriller'],\n",
              " ['Comedy', ' Horror'],\n",
              " ['Comedy', ' Drama', ' Horror'],\n",
              " ['Drama'],\n",
              " ['Comedy'],\n",
              " ['Horror', ' Mystery', ' Thriller'],\n",
              " ['Crime', ' Thriller'],\n",
              " ['Drama', ' Thriller'],\n",
              " ['History', ' War'],\n",
              " ['Biography', ' Comedy', ' Drama'],\n",
              " ['Comedy', ' Drama'],\n",
              " ['Action', ' Drama'],\n",
              " ['Drama'],\n",
              " ['Action', ' Adventure', ' Comedy'],\n",
              " ['Drama', ' Horror', ' Thriller'],\n",
              " ['Crime', ' Mystery', ' Thriller'],\n",
              " ['Action'],\n",
              " ['Drama'],\n",
              " ['Drama', ' Fantasy', ' Horror'],\n",
              " ['Biography', ' Drama', ' History'],\n",
              " ['Drama', ' History'],\n",
              " ['Drama'],\n",
              " ['Drama'],\n",
              " ['Drama'],\n",
              " ['Horror', ' Thriller'],\n",
              " ['Comedy', ' Family'],\n",
              " ['Adventure', ' Comedy', ' Fantasy'],\n",
              " ['Comedy', ' Romance'],\n",
              " ['Action', ' Drama', ' Thriller'],\n",
              " ['Action', ' History'],\n",
              " ['Thriller'],\n",
              " ['Action', ' Drama', ' History'],\n",
              " ['Horror'],\n",
              " ['Horror'],\n",
              " ['Action', ' Drama'],\n",
              " ['Comedy', ' Drama', ' Fantasy'],\n",
              " ['Action', ' Drama'],\n",
              " ['Comedy'],\n",
              " ['Crime', ' Drama', ' Horror'],\n",
              " ['Drama', ' Romance'],\n",
              " ['Comedy'],\n",
              " ['Action', ' Thriller'],\n",
              " ['Comedy', ' Drama', ' Fantasy'],\n",
              " ['Biography', ' Drama', ' History'],\n",
              " ['Horror'],\n",
              " ['Horror', ' Thriller'],\n",
              " ...]"
            ]
          },
          "metadata": {
            "tags": []
          },
          "execution_count": 119
        }
      ]
    },
    {
      "cell_type": "code",
      "metadata": {
        "id": "BUR-mP61MN1_",
        "colab": {
          "base_uri": "https://localhost:8080/",
          "height": 1000
        },
        "outputId": "8b5e74af-2773-4181-c1a0-5a505ed4ef8e"
      },
      "source": [
        "genres_count=[]\n",
        "genres_all=[]\n",
        "for genres in genres_2019:\n",
        "    for genre in genres:\n",
        "        genres_all.append(genre)\n",
        "genres_count_2019=list(genres_all)\n",
        "from collections import Counter\n",
        "genres_count_all_2019=pd.DataFrame.from_dict(Counter(genres_count_2019), orient='index')\n",
        "genres_count_all_2019.rename(columns={'index':'genres', 0:'occurences'}, inplace=True)\n",
        "\n",
        "genres_count_all_2019.sort_values(by='occurences', ascending=False)"
      ],
      "execution_count": 120,
      "outputs": [
        {
          "output_type": "execute_result",
          "data": {
            "text/html": [
              "<div>\n",
              "<style scoped>\n",
              "    .dataframe tbody tr th:only-of-type {\n",
              "        vertical-align: middle;\n",
              "    }\n",
              "\n",
              "    .dataframe tbody tr th {\n",
              "        vertical-align: top;\n",
              "    }\n",
              "\n",
              "    .dataframe thead th {\n",
              "        text-align: right;\n",
              "    }\n",
              "</style>\n",
              "<table border=\"1\" class=\"dataframe\">\n",
              "  <thead>\n",
              "    <tr style=\"text-align: right;\">\n",
              "      <th></th>\n",
              "      <th>occurences</th>\n",
              "    </tr>\n",
              "  </thead>\n",
              "  <tbody>\n",
              "    <tr>\n",
              "      <th>Drama</th>\n",
              "      <td>640</td>\n",
              "    </tr>\n",
              "    <tr>\n",
              "      <th>Comedy</th>\n",
              "      <td>549</td>\n",
              "    </tr>\n",
              "    <tr>\n",
              "      <th>Drama</th>\n",
              "      <td>535</td>\n",
              "    </tr>\n",
              "    <tr>\n",
              "      <th>Thriller</th>\n",
              "      <td>328</td>\n",
              "    </tr>\n",
              "    <tr>\n",
              "      <th>Action</th>\n",
              "      <td>322</td>\n",
              "    </tr>\n",
              "    <tr>\n",
              "      <th>Romance</th>\n",
              "      <td>209</td>\n",
              "    </tr>\n",
              "    <tr>\n",
              "      <th>Horror</th>\n",
              "      <td>163</td>\n",
              "    </tr>\n",
              "    <tr>\n",
              "      <th>Horror</th>\n",
              "      <td>152</td>\n",
              "    </tr>\n",
              "    <tr>\n",
              "      <th>Mystery</th>\n",
              "      <td>141</td>\n",
              "    </tr>\n",
              "    <tr>\n",
              "      <th>Crime</th>\n",
              "      <td>122</td>\n",
              "    </tr>\n",
              "    <tr>\n",
              "      <th>Comedy</th>\n",
              "      <td>112</td>\n",
              "    </tr>\n",
              "    <tr>\n",
              "      <th>Crime</th>\n",
              "      <td>108</td>\n",
              "    </tr>\n",
              "    <tr>\n",
              "      <th>Adventure</th>\n",
              "      <td>94</td>\n",
              "    </tr>\n",
              "    <tr>\n",
              "      <th>Family</th>\n",
              "      <td>86</td>\n",
              "    </tr>\n",
              "    <tr>\n",
              "      <th>Thriller</th>\n",
              "      <td>79</td>\n",
              "    </tr>\n",
              "    <tr>\n",
              "      <th>Fantasy</th>\n",
              "      <td>76</td>\n",
              "    </tr>\n",
              "    <tr>\n",
              "      <th>Animation</th>\n",
              "      <td>75</td>\n",
              "    </tr>\n",
              "    <tr>\n",
              "      <th>Biography</th>\n",
              "      <td>72</td>\n",
              "    </tr>\n",
              "    <tr>\n",
              "      <th>Sci-Fi</th>\n",
              "      <td>72</td>\n",
              "    </tr>\n",
              "    <tr>\n",
              "      <th>Adventure</th>\n",
              "      <td>70</td>\n",
              "    </tr>\n",
              "    <tr>\n",
              "      <th>History</th>\n",
              "      <td>55</td>\n",
              "    </tr>\n",
              "    <tr>\n",
              "      <th>Sport</th>\n",
              "      <td>34</td>\n",
              "    </tr>\n",
              "    <tr>\n",
              "      <th>Music</th>\n",
              "      <td>26</td>\n",
              "    </tr>\n",
              "    <tr>\n",
              "      <th>War</th>\n",
              "      <td>26</td>\n",
              "    </tr>\n",
              "    <tr>\n",
              "      <th>Action</th>\n",
              "      <td>25</td>\n",
              "    </tr>\n",
              "    <tr>\n",
              "      <th>Family</th>\n",
              "      <td>17</td>\n",
              "    </tr>\n",
              "    <tr>\n",
              "      <th>Fantasy</th>\n",
              "      <td>15</td>\n",
              "    </tr>\n",
              "    <tr>\n",
              "      <th>Mystery</th>\n",
              "      <td>15</td>\n",
              "    </tr>\n",
              "    <tr>\n",
              "      <th>Romance</th>\n",
              "      <td>14</td>\n",
              "    </tr>\n",
              "    <tr>\n",
              "      <th>Sci-Fi</th>\n",
              "      <td>12</td>\n",
              "    </tr>\n",
              "    <tr>\n",
              "      <th>Biography</th>\n",
              "      <td>10</td>\n",
              "    </tr>\n",
              "    <tr>\n",
              "      <th>Musical</th>\n",
              "      <td>9</td>\n",
              "    </tr>\n",
              "    <tr>\n",
              "      <th>Western</th>\n",
              "      <td>8</td>\n",
              "    </tr>\n",
              "    <tr>\n",
              "      <th>History</th>\n",
              "      <td>5</td>\n",
              "    </tr>\n",
              "    <tr>\n",
              "      <th>War</th>\n",
              "      <td>3</td>\n",
              "    </tr>\n",
              "    <tr>\n",
              "      <th>Western</th>\n",
              "      <td>3</td>\n",
              "    </tr>\n",
              "    <tr>\n",
              "      <th>Sport</th>\n",
              "      <td>2</td>\n",
              "    </tr>\n",
              "    <tr>\n",
              "      <th>Musical</th>\n",
              "      <td>2</td>\n",
              "    </tr>\n",
              "    <tr>\n",
              "      <th>Music</th>\n",
              "      <td>1</td>\n",
              "    </tr>\n",
              "    <tr>\n",
              "      <th>Documentary</th>\n",
              "      <td>1</td>\n",
              "    </tr>\n",
              "  </tbody>\n",
              "</table>\n",
              "</div>"
            ],
            "text/plain": [
              "             occurences\n",
              "Drama               640\n",
              "Comedy              549\n",
              " Drama              535\n",
              " Thriller           328\n",
              "Action              322\n",
              " Romance            209\n",
              "Horror              163\n",
              " Horror             152\n",
              " Mystery            141\n",
              " Crime              122\n",
              " Comedy             112\n",
              "Crime               108\n",
              " Adventure           94\n",
              " Family              86\n",
              "Thriller             79\n",
              " Fantasy             76\n",
              "Animation            75\n",
              "Biography            72\n",
              " Sci-Fi              72\n",
              "Adventure            70\n",
              " History             55\n",
              " Sport               34\n",
              " Music               26\n",
              " War                 26\n",
              " Action              25\n",
              "Family               17\n",
              "Fantasy              15\n",
              "Mystery              15\n",
              "Romance              14\n",
              "Sci-Fi               12\n",
              " Biography           10\n",
              " Musical              9\n",
              " Western              8\n",
              "History               5\n",
              "War                   3\n",
              "Western               3\n",
              "Sport                 2\n",
              "Musical               2\n",
              "Music                 1\n",
              "Documentary           1"
            ]
          },
          "metadata": {
            "tags": []
          },
          "execution_count": 120
        }
      ]
    },
    {
      "cell_type": "code",
      "metadata": {
        "colab": {
          "base_uri": "https://localhost:8080/",
          "height": 266
        },
        "id": "8HiGmz9haaqW",
        "outputId": "eaae7008-aeda-48bd-ee23-e62423c3c23a"
      },
      "source": [
        "#Genres by years\n",
        "\n",
        "table={}\n",
        "years = ['2010', '2011', '2012','2013','2014','2015','2016', '2017','2018','2019']\n",
        "genres = ['Drama', 'Comedy', 'Romance', 'Action', 'Thriller','Crime', 'Horror']\n",
        "\n",
        "for year in years:\n",
        "\n",
        "    genres_in_year = genres_split_by_years[genres_split_by_years['year']==year]['new_genre']\n",
        "    genres_in_year=[item.strip() for sublist in genres_in_year for item in sublist]\n",
        "    table[year]={}\n",
        "    for genre in genres: ##genres_all nie działa???\n",
        "        table[year][genre]=genres_in_year.count(genre)\n",
        "\n",
        "genres_in_years = pd.DataFrame(table)\n",
        "genres_in_years\n",
        "   \n",
        "\n"
      ],
      "execution_count": 121,
      "outputs": [
        {
          "output_type": "execute_result",
          "data": {
            "text/html": [
              "<div>\n",
              "<style scoped>\n",
              "    .dataframe tbody tr th:only-of-type {\n",
              "        vertical-align: middle;\n",
              "    }\n",
              "\n",
              "    .dataframe tbody tr th {\n",
              "        vertical-align: top;\n",
              "    }\n",
              "\n",
              "    .dataframe thead th {\n",
              "        text-align: right;\n",
              "    }\n",
              "</style>\n",
              "<table border=\"1\" class=\"dataframe\">\n",
              "  <thead>\n",
              "    <tr style=\"text-align: right;\">\n",
              "      <th></th>\n",
              "      <th>2010</th>\n",
              "      <th>2011</th>\n",
              "      <th>2012</th>\n",
              "      <th>2013</th>\n",
              "      <th>2014</th>\n",
              "      <th>2015</th>\n",
              "      <th>2016</th>\n",
              "      <th>2017</th>\n",
              "      <th>2018</th>\n",
              "      <th>2019</th>\n",
              "    </tr>\n",
              "  </thead>\n",
              "  <tbody>\n",
              "    <tr>\n",
              "      <th>Drama</th>\n",
              "      <td>11</td>\n",
              "      <td>35</td>\n",
              "      <td>425</td>\n",
              "      <td>1043</td>\n",
              "      <td>1344</td>\n",
              "      <td>1511</td>\n",
              "      <td>1623</td>\n",
              "      <td>1752</td>\n",
              "      <td>1669</td>\n",
              "      <td>1175</td>\n",
              "    </tr>\n",
              "    <tr>\n",
              "      <th>Comedy</th>\n",
              "      <td>12</td>\n",
              "      <td>22</td>\n",
              "      <td>292</td>\n",
              "      <td>663</td>\n",
              "      <td>887</td>\n",
              "      <td>923</td>\n",
              "      <td>999</td>\n",
              "      <td>1016</td>\n",
              "      <td>1020</td>\n",
              "      <td>661</td>\n",
              "    </tr>\n",
              "    <tr>\n",
              "      <th>Romance</th>\n",
              "      <td>3</td>\n",
              "      <td>11</td>\n",
              "      <td>112</td>\n",
              "      <td>310</td>\n",
              "      <td>403</td>\n",
              "      <td>411</td>\n",
              "      <td>409</td>\n",
              "      <td>396</td>\n",
              "      <td>384</td>\n",
              "      <td>223</td>\n",
              "    </tr>\n",
              "    <tr>\n",
              "      <th>Action</th>\n",
              "      <td>2</td>\n",
              "      <td>16</td>\n",
              "      <td>120</td>\n",
              "      <td>257</td>\n",
              "      <td>335</td>\n",
              "      <td>409</td>\n",
              "      <td>475</td>\n",
              "      <td>495</td>\n",
              "      <td>476</td>\n",
              "      <td>347</td>\n",
              "    </tr>\n",
              "    <tr>\n",
              "      <th>Thriller</th>\n",
              "      <td>4</td>\n",
              "      <td>9</td>\n",
              "      <td>109</td>\n",
              "      <td>318</td>\n",
              "      <td>431</td>\n",
              "      <td>502</td>\n",
              "      <td>548</td>\n",
              "      <td>573</td>\n",
              "      <td>531</td>\n",
              "      <td>407</td>\n",
              "    </tr>\n",
              "    <tr>\n",
              "      <th>Crime</th>\n",
              "      <td>2</td>\n",
              "      <td>8</td>\n",
              "      <td>67</td>\n",
              "      <td>169</td>\n",
              "      <td>229</td>\n",
              "      <td>243</td>\n",
              "      <td>304</td>\n",
              "      <td>324</td>\n",
              "      <td>290</td>\n",
              "      <td>230</td>\n",
              "    </tr>\n",
              "    <tr>\n",
              "      <th>Horror</th>\n",
              "      <td>2</td>\n",
              "      <td>5</td>\n",
              "      <td>113</td>\n",
              "      <td>249</td>\n",
              "      <td>390</td>\n",
              "      <td>428</td>\n",
              "      <td>432</td>\n",
              "      <td>479</td>\n",
              "      <td>462</td>\n",
              "      <td>315</td>\n",
              "    </tr>\n",
              "  </tbody>\n",
              "</table>\n",
              "</div>"
            ],
            "text/plain": [
              "          2010  2011  2012  2013  2014  2015  2016  2017  2018  2019\n",
              "Drama       11    35   425  1043  1344  1511  1623  1752  1669  1175\n",
              "Comedy      12    22   292   663   887   923   999  1016  1020   661\n",
              "Romance      3    11   112   310   403   411   409   396   384   223\n",
              "Action       2    16   120   257   335   409   475   495   476   347\n",
              "Thriller     4     9   109   318   431   502   548   573   531   407\n",
              "Crime        2     8    67   169   229   243   304   324   290   230\n",
              "Horror       2     5   113   249   390   428   432   479   462   315"
            ]
          },
          "metadata": {
            "tags": []
          },
          "execution_count": 121
        }
      ]
    },
    {
      "cell_type": "code",
      "metadata": {
        "colab": {
          "base_uri": "https://localhost:8080/",
          "height": 282
        },
        "id": "ldFdbsHHGEKT",
        "outputId": "79e700a1-4f73-47c4-ad23-aaee0611a237"
      },
      "source": [
        "genres_in_years.T.plot()"
      ],
      "execution_count": 122,
      "outputs": [
        {
          "output_type": "execute_result",
          "data": {
            "text/plain": [
              "<matplotlib.axes._subplots.AxesSubplot at 0x7f752ba6df98>"
            ]
          },
          "metadata": {
            "tags": []
          },
          "execution_count": 122
        },
        {
          "output_type": "display_data",
          "data": {
            "image/png": "[encoded data removed]",
            "text/plain": [
              "<Figure size 432x288 with 1 Axes>"
            ]
          },
          "metadata": {
            "tags": [],
            "needs_background": "light"
          }
        }
      ]
    },
    {
      "cell_type": "code",
      "metadata": {
        "colab": {
          "base_uri": "https://localhost:8080/"
        },
        "id": "dsXxLCagzguI",
        "outputId": "cfe910fd-f726-4103-c4f6-59c9e8ea514a"
      },
      "source": [
        "#sprawdzenie roku 2010\n",
        "genres_in_2010 = genres_split_by_years[genres_split_by_years['year']=='2010']\n",
        "genres_2010=genres_in_2010['new_genre'].to_list()\n",
        "genres_2010"
      ],
      "execution_count": 123,
      "outputs": [
        {
          "output_type": "execute_result",
          "data": {
            "text/plain": [
              "[['Drama', ' Thriller'],\n",
              " ['Drama'],\n",
              " ['Comedy'],\n",
              " ['Comedy', ' Family'],\n",
              " ['Drama'],\n",
              " ['Action'],\n",
              " ['Animation', ' Drama', ' Family'],\n",
              " ['Comedy'],\n",
              " ['Animation', ' Adventure', ' Comedy'],\n",
              " ['Comedy', ' Romance'],\n",
              " ['Mystery', ' Thriller'],\n",
              " ['Drama', ' Horror', ' Thriller'],\n",
              " ['Comedy'],\n",
              " ['Drama', ' Musical', ' Romance'],\n",
              " ['Comedy', ' Drama', ' Romance'],\n",
              " ['Comedy'],\n",
              " ['Comedy'],\n",
              " ['Drama', ' Fantasy', ' Horror'],\n",
              " ['Action', ' Adventure', ' Music'],\n",
              " ['Drama'],\n",
              " ['Comedy', ' Crime', ' Drama'],\n",
              " ['Comedy'],\n",
              " ['Comedy', ' Crime', ' Drama'],\n",
              " ['Thriller', ' War']]"
            ]
          },
          "metadata": {
            "tags": []
          },
          "execution_count": 123
        }
      ]
    },
    {
      "cell_type": "code",
      "metadata": {
        "colab": {
          "base_uri": "https://localhost:8080/"
        },
        "id": "k1B20Xdv0SSY",
        "outputId": "d1f93f43-7fe6-4710-b02d-c8f8c3a2b5b5"
      },
      "source": [
        "data_year_plot = imdb_movies.groupby('year').imdb_title_id.count()\n",
        "data_year_plot.tail(20)"
      ],
      "execution_count": 130,
      "outputs": [
        {
          "output_type": "execute_result",
          "data": {
            "text/plain": [
              "year\n",
              "2002                3\n",
              "2003                9\n",
              "2004                7\n",
              "2005               15\n",
              "2006               14\n",
              "2007               23\n",
              "2008               11\n",
              "2009               18\n",
              "2010               24\n",
              "2011               65\n",
              "2012              847\n",
              "2013             1916\n",
              "2014             2517\n",
              "2015             2764\n",
              "2016             2992\n",
              "2017             3223\n",
              "2018             3182\n",
              "2019             2168\n",
              "2020              401\n",
              "TV Movie 2019       1\n",
              "Name: imdb_title_id, dtype: int64"
            ]
          },
          "metadata": {
            "tags": []
          },
          "execution_count": 130
        }
      ]
    },
    {
      "cell_type": "markdown",
      "metadata": {
        "id": "XWkmeu9eqbkP"
      },
      "source": [
        "# Jakie kraje dominują w produkcji filmów  - które wypuszczają najwięcej filmów, i z 5 największych zrobić szeregi czasowe - GRZESIEK"
      ]
    },
    {
      "cell_type": "code",
      "metadata": {
        "id": "MLi7rdX7KBaz",
        "colab": {
          "base_uri": "https://localhost:8080/"
        },
        "outputId": "1337d568-fa00-49ae-99af-aa7204fceffb"
      },
      "source": [
        "import pandas as pd\n",
        "imdb_movies = pd.read_csv('/content/[netflix]/IMDb movies.csv')"
      ],
      "execution_count": null,
      "outputs": [
        {
          "output_type": "stream",
          "text": [
            "/usr/local/lib/python3.6/dist-packages/IPython/core/interactiveshell.py:2718: DtypeWarning: Columns (3) have mixed types.Specify dtype option on import or set low_memory=False.\n",
            "  interactivity=interactivity, compiler=compiler, result=result)\n"
          ],
          "name": "stderr"
        }
      ]
    },
    {
      "cell_type": "code",
      "metadata": {
        "id": "qZcOsQSZdqyX",
        "colab": {
          "base_uri": "https://localhost:8080/"
        },
        "outputId": "276b4475-4dac-42f3-8819-fb650469d0a1"
      },
      "source": [
        "''' \n",
        "Po pierwsze, te kraje są bardzo dziwne. Po drugie nie jestem \n",
        "w stanie określić która firma produkcyjna należy do danego kraju. \n",
        "Po trzecie te wszystkie kraje pokazują gdzie filmy zostały nakręcone.\n",
        "'''\n",
        "imdb_movies['country'].value_counts().head(10)"
      ],
      "execution_count": null,
      "outputs": [
        {
          "output_type": "execute_result",
          "data": {
            "text/plain": [
              "USA          28511\n",
              "India         6065\n",
              "UK            4111\n",
              "Japan         3077\n",
              "France        3055\n",
              "Italy         2444\n",
              "Canada        1802\n",
              "Germany       1396\n",
              "Turkey        1351\n",
              "Hong Kong     1239\n",
              "Name: country, dtype: int64"
            ]
          },
          "metadata": {
            "tags": []
          },
          "execution_count": 17
        }
      ]
    },
    {
      "cell_type": "code",
      "metadata": {
        "colab": {
          "base_uri": "https://localhost:8080/",
          "height": 514
        },
        "id": "ojV2XmGcIYIs",
        "outputId": "93d03426-723f-443d-d266-72ab55c21fca"
      },
      "source": [
        "'''\n",
        "Te wykresy są okej, ale później jest coś nie tak...\n",
        "'''\n",
        "import matplotlib.pyplot as plt\n",
        "import seaborn as sn\n",
        "chart_country = imdb_movies['country'].value_counts().head(10)\n",
        "chart_country.plot(kind='barh', figsize=(16,8), fontsize=13)\n",
        "plt.title(\"Where the movies were filmed\", fontsize=10)\n",
        "plt.xlabel('Number of movies')\n",
        "plt.ylabel('Countries')\n",
        "plt.show()"
      ],
      "execution_count": null,
      "outputs": [
        {
          "output_type": "display_data",
          "data": {
            "image/png": "[encoded data removed]",
            "text/plain": [
              "<Figure size 1152x576 with 1 Axes>"
            ]
          },
          "metadata": {
            "tags": [],
            "needs_background": "light"
          }
        }
      ]
    },
    {
      "cell_type": "code",
      "metadata": {
        "colab": {
          "base_uri": "https://localhost:8080/",
          "height": 296
        },
        "id": "LSg7AO4gIfpa",
        "outputId": "3133b7ba-53f4-462c-f151-aa8dd78b3f8f"
      },
      "source": [
        "'''\n",
        "Jak tutaj widzimy że daty się pomieszały. Spróbowałem sortować datę i nie jestem w stanie tego naprawić.\n",
        "'''\n",
        "imdb_movies.groupby('year').country.count().plot()"
      ],
      "execution_count": null,
      "outputs": [
        {
          "output_type": "execute_result",
          "data": {
            "text/plain": [
              "<matplotlib.axes._subplots.AxesSubplot at 0x7f86ca05dfd0>"
            ]
          },
          "metadata": {
            "tags": []
          },
          "execution_count": 19
        },
        {
          "output_type": "display_data",
          "data": {
            "image/png": "[encoded data removed]",
            "text/plain": [
              "<Figure size 432x288 with 1 Axes>"
            ]
          },
          "metadata": {
            "tags": [],
            "needs_background": "light"
          }
        }
      ]
    },
    {
      "cell_type": "code",
      "metadata": {
        "colab": {
          "base_uri": "https://localhost:8080/",
          "height": 419
        },
        "id": "MClRb_24Po-N",
        "outputId": "6796a0f3-c79a-410c-b88c-21ed692397bd"
      },
      "source": [
        "countries_new = imdb_movies[['year', 'country']]\n",
        "countries_new"
      ],
      "execution_count": null,
      "outputs": [
        {
          "output_type": "execute_result",
          "data": {
            "text/html": [
              "<div>\n",
              "<style scoped>\n",
              "    .dataframe tbody tr th:only-of-type {\n",
              "        vertical-align: middle;\n",
              "    }\n",
              "\n",
              "    .dataframe tbody tr th {\n",
              "        vertical-align: top;\n",
              "    }\n",
              "\n",
              "    .dataframe thead th {\n",
              "        text-align: right;\n",
              "    }\n",
              "</style>\n",
              "<table border=\"1\" class=\"dataframe\">\n",
              "  <thead>\n",
              "    <tr style=\"text-align: right;\">\n",
              "      <th></th>\n",
              "      <th>year</th>\n",
              "      <th>country</th>\n",
              "    </tr>\n",
              "  </thead>\n",
              "  <tbody>\n",
              "    <tr>\n",
              "      <th>0</th>\n",
              "      <td>1894</td>\n",
              "      <td>USA</td>\n",
              "    </tr>\n",
              "    <tr>\n",
              "      <th>1</th>\n",
              "      <td>1906</td>\n",
              "      <td>Australia</td>\n",
              "    </tr>\n",
              "    <tr>\n",
              "      <th>2</th>\n",
              "      <td>1911</td>\n",
              "      <td>Germany, Denmark</td>\n",
              "    </tr>\n",
              "    <tr>\n",
              "      <th>3</th>\n",
              "      <td>1912</td>\n",
              "      <td>USA</td>\n",
              "    </tr>\n",
              "    <tr>\n",
              "      <th>4</th>\n",
              "      <td>1911</td>\n",
              "      <td>Italy</td>\n",
              "    </tr>\n",
              "    <tr>\n",
              "      <th>...</th>\n",
              "      <td>...</td>\n",
              "      <td>...</td>\n",
              "    </tr>\n",
              "    <tr>\n",
              "      <th>85850</th>\n",
              "      <td>2020</td>\n",
              "      <td>France, Belgium</td>\n",
              "    </tr>\n",
              "    <tr>\n",
              "      <th>85851</th>\n",
              "      <td>2020</td>\n",
              "      <td>Netherlands</td>\n",
              "    </tr>\n",
              "    <tr>\n",
              "      <th>85852</th>\n",
              "      <td>2019</td>\n",
              "      <td>India</td>\n",
              "    </tr>\n",
              "    <tr>\n",
              "      <th>85853</th>\n",
              "      <td>2019</td>\n",
              "      <td>Turkey</td>\n",
              "    </tr>\n",
              "    <tr>\n",
              "      <th>85854</th>\n",
              "      <td>2019</td>\n",
              "      <td>Spain</td>\n",
              "    </tr>\n",
              "  </tbody>\n",
              "</table>\n",
              "<p>85855 rows × 2 columns</p>\n",
              "</div>"
            ],
            "text/plain": [
              "       year           country\n",
              "0      1894               USA\n",
              "1      1906         Australia\n",
              "2      1911  Germany, Denmark\n",
              "3      1912               USA\n",
              "4      1911             Italy\n",
              "...     ...               ...\n",
              "85850  2020   France, Belgium\n",
              "85851  2020       Netherlands\n",
              "85852  2019             India\n",
              "85853  2019            Turkey\n",
              "85854  2019             Spain\n",
              "\n",
              "[85855 rows x 2 columns]"
            ]
          },
          "metadata": {
            "tags": []
          },
          "execution_count": 55
        }
      ]
    },
    {
      "cell_type": "code",
      "metadata": {
        "colab": {
          "base_uri": "https://localhost:8080/"
        },
        "id": "vrCPOu_RKcgm",
        "outputId": "4159d09a-d8f8-4d56-aff2-69c60c1b0cf7"
      },
      "source": [
        "'''\n",
        "Teraz sprawdzam produkcję filmu. Jak widać że czołowe firmy należą do USA oprócz Mosfilm i Canal+.\n",
        "'''\n",
        "imdb_movies['production_company'].value_counts().head(20)"
      ],
      "execution_count": null,
      "outputs": [
        {
          "output_type": "execute_result",
          "data": {
            "text/plain": [
              "Metro-Goldwyn-Mayer (MGM)                1284\n",
              "Warner Bros.                             1153\n",
              "Columbia Pictures                         914\n",
              "Paramount Pictures                        903\n",
              "Twentieth Century Fox                     865\n",
              "Universal Pictures                        732\n",
              "RKO Radio Pictures                        535\n",
              "Mosfilm                                   279\n",
              "Universal International Pictures (UI)     272\n",
              "Canal+                                    231\n",
              "Republic Pictures (I)                     208\n",
              "New Line Cinema                           205\n",
              "CJ Entertainment                          175\n",
              "Shaw Brothers                             169\n",
              "Toho Company                              158\n",
              "First National Pictures                   155\n",
              "Shochiku                                  144\n",
              "Golden Harvest Company                    140\n",
              "Touchstone Pictures                       140\n",
              "Lenfilm Studio                            137\n",
              "Name: production_company, dtype: int64"
            ]
          },
          "metadata": {
            "tags": []
          },
          "execution_count": 30
        }
      ]
    },
    {
      "cell_type": "code",
      "metadata": {
        "colab": {
          "base_uri": "https://localhost:8080/",
          "height": 522
        },
        "id": "Td9iHHRRRxCq",
        "outputId": "5509e7e6-5443-4ef7-eae4-62d4f7c28080"
      },
      "source": [
        "imdb_production = imdb_movies['production_company'].value_counts()\n",
        "imdb_production.iloc[:10].plot(kind='barh',figsize=(16,8),fontsize=13)\n",
        "plt.title(\"production companies and number of movies\",fontsize=15)\n",
        "plt.xlabel('number of movies',fontsize=14)\n",
        "sn.set_style(\"whitegrid\")"
      ],
      "execution_count": null,
      "outputs": [
        {
          "output_type": "display_data",
          "data": {
            "image/png": "[encoded data removed]",
            "text/plain": [
              "<Figure size 1152x576 with 1 Axes>"
            ]
          },
          "metadata": {
            "tags": []
          }
        }
      ]
    },
    {
      "cell_type": "code",
      "metadata": {
        "colab": {
          "base_uri": "https://localhost:8080/",
          "height": 235
        },
        "id": "9hUuPuVSI8OU",
        "outputId": "a16d2921-9b8d-4e0e-a57d-c4a3e7afdc5a"
      },
      "source": [
        "'''\n",
        "Tutaj niestety jest za mało kolumn żeby określić w których krajach produkowali najwięcej \n",
        "filmików, więc sprawdzam które produkcje filmowe zostały najbardziej ocenione.\n",
        "'''\n",
        "imdb_movies.corr()"
      ],
      "execution_count": null,
      "outputs": [
        {
          "output_type": "execute_result",
          "data": {
            "text/html": [
              "<div>\n",
              "<style scoped>\n",
              "    .dataframe tbody tr th:only-of-type {\n",
              "        vertical-align: middle;\n",
              "    }\n",
              "\n",
              "    .dataframe tbody tr th {\n",
              "        vertical-align: top;\n",
              "    }\n",
              "\n",
              "    .dataframe thead th {\n",
              "        text-align: right;\n",
              "    }\n",
              "</style>\n",
              "<table border=\"1\" class=\"dataframe\">\n",
              "  <thead>\n",
              "    <tr style=\"text-align: right;\">\n",
              "      <th></th>\n",
              "      <th>duration</th>\n",
              "      <th>avg_vote</th>\n",
              "      <th>votes</th>\n",
              "      <th>metascore</th>\n",
              "      <th>reviews_from_users</th>\n",
              "      <th>reviews_from_critics</th>\n",
              "    </tr>\n",
              "  </thead>\n",
              "  <tbody>\n",
              "    <tr>\n",
              "      <th>duration</th>\n",
              "      <td>1.000000</td>\n",
              "      <td>0.242432</td>\n",
              "      <td>0.125618</td>\n",
              "      <td>0.210531</td>\n",
              "      <td>0.130836</td>\n",
              "      <td>0.135465</td>\n",
              "    </tr>\n",
              "    <tr>\n",
              "      <th>avg_vote</th>\n",
              "      <td>0.242432</td>\n",
              "      <td>1.000000</td>\n",
              "      <td>0.166972</td>\n",
              "      <td>0.691338</td>\n",
              "      <td>0.138185</td>\n",
              "      <td>0.200526</td>\n",
              "    </tr>\n",
              "    <tr>\n",
              "      <th>votes</th>\n",
              "      <td>0.125618</td>\n",
              "      <td>0.166972</td>\n",
              "      <td>1.000000</td>\n",
              "      <td>0.194730</td>\n",
              "      <td>0.766237</td>\n",
              "      <td>0.671635</td>\n",
              "    </tr>\n",
              "    <tr>\n",
              "      <th>metascore</th>\n",
              "      <td>0.210531</td>\n",
              "      <td>0.691338</td>\n",
              "      <td>0.194730</td>\n",
              "      <td>1.000000</td>\n",
              "      <td>0.126131</td>\n",
              "      <td>0.236107</td>\n",
              "    </tr>\n",
              "    <tr>\n",
              "      <th>reviews_from_users</th>\n",
              "      <td>0.130836</td>\n",
              "      <td>0.138185</td>\n",
              "      <td>0.766237</td>\n",
              "      <td>0.126131</td>\n",
              "      <td>1.000000</td>\n",
              "      <td>0.671634</td>\n",
              "    </tr>\n",
              "    <tr>\n",
              "      <th>reviews_from_critics</th>\n",
              "      <td>0.135465</td>\n",
              "      <td>0.200526</td>\n",
              "      <td>0.671635</td>\n",
              "      <td>0.236107</td>\n",
              "      <td>0.671634</td>\n",
              "      <td>1.000000</td>\n",
              "    </tr>\n",
              "  </tbody>\n",
              "</table>\n",
              "</div>"
            ],
            "text/plain": [
              "                      duration  ...  reviews_from_critics\n",
              "duration              1.000000  ...              0.135465\n",
              "avg_vote              0.242432  ...              0.200526\n",
              "votes                 0.125618  ...              0.671635\n",
              "metascore             0.210531  ...              0.236107\n",
              "reviews_from_users    0.130836  ...              0.671634\n",
              "reviews_from_critics  0.135465  ...              1.000000\n",
              "\n",
              "[6 rows x 6 columns]"
            ]
          },
          "metadata": {
            "tags": []
          },
          "execution_count": 20
        }
      ]
    },
    {
      "cell_type": "code",
      "metadata": {
        "colab": {
          "base_uri": "https://localhost:8080/",
          "height": 1000
        },
        "id": "j5ZcwPqfI7Cd",
        "outputId": "a8d28952-5635-49f3-e25e-57dd047b36cf"
      },
      "source": [
        "movie_sliced = imdb_movies[0:1000]\n",
        "\n",
        "\n",
        "plt.figure(figsize=(15,15))\n",
        "sn.swarmplot(x='avg_vote', y='country', data = movie_sliced)\n",
        "plt.title ('Which countries have the best productions?', fontsize=20, fontweight='bold')\n",
        "plt.xlabel('Score')\n",
        "plt.ylabel('Country')\n",
        "plt.show()"
      ],
      "execution_count": null,
      "outputs": [
        {
          "output_type": "stream",
          "text": [
            "/usr/local/lib/python3.6/dist-packages/seaborn/categorical.py:1296: UserWarning: 83.2% of the points cannot be placed; you may want to decrease the size of the markers or use stripplot.\n",
            "  warnings.warn(msg, UserWarning)\n",
            "/usr/local/lib/python3.6/dist-packages/seaborn/categorical.py:1296: UserWarning: 34.1% of the points cannot be placed; you may want to decrease the size of the markers or use stripplot.\n",
            "  warnings.warn(msg, UserWarning)\n",
            "/usr/local/lib/python3.6/dist-packages/seaborn/categorical.py:1296: UserWarning: 27.1% of the points cannot be placed; you may want to decrease the size of the markers or use stripplot.\n",
            "  warnings.warn(msg, UserWarning)\n",
            "/usr/local/lib/python3.6/dist-packages/seaborn/categorical.py:1296: UserWarning: 9.1% of the points cannot be placed; you may want to decrease the size of the markers or use stripplot.\n",
            "  warnings.warn(msg, UserWarning)\n",
            "/usr/local/lib/python3.6/dist-packages/seaborn/categorical.py:1296: UserWarning: 16.1% of the points cannot be placed; you may want to decrease the size of the markers or use stripplot.\n",
            "  warnings.warn(msg, UserWarning)\n"
          ],
          "name": "stderr"
        },
        {
          "output_type": "display_data",
          "data": {
            "image/png": "[encoded data removed]",
            "text/plain": [
              "<Figure size 1080x1080 with 1 Axes>"
            ]
          },
          "metadata": {
            "tags": [],
            "needs_background": "light"
          }
        }
      ]
    },
    {
      "cell_type": "markdown",
      "metadata": {
        "id": "JXgZfv-Db-Hg"
      },
      "source": [
        "#Ile przypadków, że scenarzysta jest jednocześnie reżyserem w filmie - EWA"
      ]
    },
    {
      "cell_type": "code",
      "metadata": {
        "colab": {
          "base_uri": "https://localhost:8080/"
        },
        "id": "mE0CtFgfhGGl",
        "outputId": "76fc5d4a-dbcc-4ca0-cacf-c74207550549"
      },
      "source": [
        "imdb_movies = pd.read_csv('/content/[netflix]/IMDb movies.csv')"
      ],
      "execution_count": null,
      "outputs": [
        {
          "output_type": "stream",
          "text": [
            "/usr/local/lib/python3.6/dist-packages/IPython/core/interactiveshell.py:2718: DtypeWarning: Columns (3) have mixed types.Specify dtype option on import or set low_memory=False.\n",
            "  interactivity=interactivity, compiler=compiler, result=result)\n"
          ],
          "name": "stderr"
        }
      ]
    },
    {
      "cell_type": "code",
      "metadata": {
        "colab": {
          "base_uri": "https://localhost:8080/"
        },
        "id": "iJMvZD-dljyz",
        "outputId": "f483fec8-63ed-429d-e312-9495e9f3d43a"
      },
      "source": [
        "imdb_movies[imdb_movies.writer == imdb_movies.director].director.count()\r\n",
        "# to tak prosto, czyli odpowiada na postawione pytanie, \r\n",
        "# ale tylko wtedy jeśli jest jeden reżyser i jeden scenarzysta."
      ],
      "execution_count": null,
      "outputs": [
        {
          "output_type": "execute_result",
          "data": {
            "text/plain": [
              "17797"
            ]
          },
          "metadata": {
            "tags": []
          },
          "execution_count": 12
        }
      ]
    },
    {
      "cell_type": "code",
      "metadata": {
        "colab": {
          "base_uri": "https://localhost:8080/",
          "height": 419
        },
        "id": "ROp-ak4tmSTR",
        "outputId": "2eb5383b-5cb5-4042-d3a3-1a1617c1e6e4"
      },
      "source": [
        "imdb_movies['writer_1'] = imdb_movies.writer.str.split(pat=',', expand=True)[0]\r\n",
        "imdb_movies['writer_2'] = imdb_movies.writer.str.split(pat=',', expand=True)[1]\r\n",
        "imdb_movies[['writer_1', 'writer_2']]"
      ],
      "execution_count": null,
      "outputs": [
        {
          "output_type": "execute_result",
          "data": {
            "text/html": [
              "<div>\n",
              "<style scoped>\n",
              "    .dataframe tbody tr th:only-of-type {\n",
              "        vertical-align: middle;\n",
              "    }\n",
              "\n",
              "    .dataframe tbody tr th {\n",
              "        vertical-align: top;\n",
              "    }\n",
              "\n",
              "    .dataframe thead th {\n",
              "        text-align: right;\n",
              "    }\n",
              "</style>\n",
              "<table border=\"1\" class=\"dataframe\">\n",
              "  <thead>\n",
              "    <tr style=\"text-align: right;\">\n",
              "      <th></th>\n",
              "      <th>writer_1</th>\n",
              "      <th>writer_2</th>\n",
              "    </tr>\n",
              "  </thead>\n",
              "  <tbody>\n",
              "    <tr>\n",
              "      <th>0</th>\n",
              "      <td>Alexander Black</td>\n",
              "      <td>None</td>\n",
              "    </tr>\n",
              "    <tr>\n",
              "      <th>1</th>\n",
              "      <td>Charles Tait</td>\n",
              "      <td>None</td>\n",
              "    </tr>\n",
              "    <tr>\n",
              "      <th>2</th>\n",
              "      <td>Urban Gad</td>\n",
              "      <td>Gebhard Schätzler-Perasini</td>\n",
              "    </tr>\n",
              "    <tr>\n",
              "      <th>3</th>\n",
              "      <td>Victorien Sardou</td>\n",
              "      <td>None</td>\n",
              "    </tr>\n",
              "    <tr>\n",
              "      <th>4</th>\n",
              "      <td>Dante Alighieri</td>\n",
              "      <td>None</td>\n",
              "    </tr>\n",
              "    <tr>\n",
              "      <th>...</th>\n",
              "      <td>...</td>\n",
              "      <td>...</td>\n",
              "    </tr>\n",
              "    <tr>\n",
              "      <th>85850</th>\n",
              "      <td>Alexandre Coquelle</td>\n",
              "      <td>Matthieu Le Naour</td>\n",
              "    </tr>\n",
              "    <tr>\n",
              "      <th>85851</th>\n",
              "      <td>Radek Bajgar</td>\n",
              "      <td>Herman Finkers</td>\n",
              "    </tr>\n",
              "    <tr>\n",
              "      <th>85852</th>\n",
              "      <td>Vineesh Aaradya</td>\n",
              "      <td>Vineesh Aaradya</td>\n",
              "    </tr>\n",
              "    <tr>\n",
              "      <th>85853</th>\n",
              "      <td>Ahmet Faik Akinci</td>\n",
              "      <td>Kasim Uçkan</td>\n",
              "    </tr>\n",
              "    <tr>\n",
              "      <th>85854</th>\n",
              "      <td>Coral Cruz</td>\n",
              "      <td>Pep Puig</td>\n",
              "    </tr>\n",
              "  </tbody>\n",
              "</table>\n",
              "<p>85855 rows × 2 columns</p>\n",
              "</div>"
            ],
            "text/plain": [
              "                 writer_1                     writer_2\n",
              "0         Alexander Black                         None\n",
              "1            Charles Tait                         None\n",
              "2               Urban Gad   Gebhard Schätzler-Perasini\n",
              "3        Victorien Sardou                         None\n",
              "4         Dante Alighieri                         None\n",
              "...                   ...                          ...\n",
              "85850  Alexandre Coquelle            Matthieu Le Naour\n",
              "85851        Radek Bajgar               Herman Finkers\n",
              "85852     Vineesh Aaradya              Vineesh Aaradya\n",
              "85853   Ahmet Faik Akinci                  Kasim Uçkan\n",
              "85854          Coral Cruz                     Pep Puig\n",
              "\n",
              "[85855 rows x 2 columns]"
            ]
          },
          "metadata": {
            "tags": []
          },
          "execution_count": 27
        }
      ]
    },
    {
      "cell_type": "code",
      "metadata": {
        "colab": {
          "base_uri": "https://localhost:8080/",
          "height": 419
        },
        "id": "rkZM8CsByU5A",
        "outputId": "ab3c1a0c-4ce7-41e6-bd3b-5583ffe9b71f"
      },
      "source": [
        "imdb_movies['director_1'] = imdb_movies.director.str.split(pat=',', expand=True)[0]\r\n",
        "imdb_movies['director_2'] = imdb_movies.director.str.split(pat=',', expand=True)[1]\r\n",
        "imdb_movies[['director_1', 'director_2']]"
      ],
      "execution_count": null,
      "outputs": [
        {
          "output_type": "execute_result",
          "data": {
            "text/html": [
              "<div>\n",
              "<style scoped>\n",
              "    .dataframe tbody tr th:only-of-type {\n",
              "        vertical-align: middle;\n",
              "    }\n",
              "\n",
              "    .dataframe tbody tr th {\n",
              "        vertical-align: top;\n",
              "    }\n",
              "\n",
              "    .dataframe thead th {\n",
              "        text-align: right;\n",
              "    }\n",
              "</style>\n",
              "<table border=\"1\" class=\"dataframe\">\n",
              "  <thead>\n",
              "    <tr style=\"text-align: right;\">\n",
              "      <th></th>\n",
              "      <th>director_1</th>\n",
              "      <th>director_2</th>\n",
              "    </tr>\n",
              "  </thead>\n",
              "  <tbody>\n",
              "    <tr>\n",
              "      <th>0</th>\n",
              "      <td>Alexander Black</td>\n",
              "      <td>None</td>\n",
              "    </tr>\n",
              "    <tr>\n",
              "      <th>1</th>\n",
              "      <td>Charles Tait</td>\n",
              "      <td>None</td>\n",
              "    </tr>\n",
              "    <tr>\n",
              "      <th>2</th>\n",
              "      <td>Urban Gad</td>\n",
              "      <td>None</td>\n",
              "    </tr>\n",
              "    <tr>\n",
              "      <th>3</th>\n",
              "      <td>Charles L. Gaskill</td>\n",
              "      <td>None</td>\n",
              "    </tr>\n",
              "    <tr>\n",
              "      <th>4</th>\n",
              "      <td>Francesco Bertolini</td>\n",
              "      <td>Adolfo Padovan</td>\n",
              "    </tr>\n",
              "    <tr>\n",
              "      <th>...</th>\n",
              "      <td>...</td>\n",
              "      <td>...</td>\n",
              "    </tr>\n",
              "    <tr>\n",
              "      <th>85850</th>\n",
              "      <td>Ludovic Colbeau-Justin</td>\n",
              "      <td>None</td>\n",
              "    </tr>\n",
              "    <tr>\n",
              "      <th>85851</th>\n",
              "      <td>Johan Nijenhuis</td>\n",
              "      <td>None</td>\n",
              "    </tr>\n",
              "    <tr>\n",
              "      <th>85852</th>\n",
              "      <td>Vineesh Aaradya</td>\n",
              "      <td>None</td>\n",
              "    </tr>\n",
              "    <tr>\n",
              "      <th>85853</th>\n",
              "      <td>Ahmet Faik Akinci</td>\n",
              "      <td>None</td>\n",
              "    </tr>\n",
              "    <tr>\n",
              "      <th>85854</th>\n",
              "      <td>Laura Jou</td>\n",
              "      <td>None</td>\n",
              "    </tr>\n",
              "  </tbody>\n",
              "</table>\n",
              "<p>85855 rows × 2 columns</p>\n",
              "</div>"
            ],
            "text/plain": [
              "                   director_1       director_2\n",
              "0             Alexander Black             None\n",
              "1                Charles Tait             None\n",
              "2                   Urban Gad             None\n",
              "3          Charles L. Gaskill             None\n",
              "4         Francesco Bertolini   Adolfo Padovan\n",
              "...                       ...              ...\n",
              "85850  Ludovic Colbeau-Justin             None\n",
              "85851         Johan Nijenhuis             None\n",
              "85852         Vineesh Aaradya             None\n",
              "85853       Ahmet Faik Akinci             None\n",
              "85854               Laura Jou             None\n",
              "\n",
              "[85855 rows x 2 columns]"
            ]
          },
          "metadata": {
            "tags": []
          },
          "execution_count": 29
        }
      ]
    },
    {
      "cell_type": "code",
      "metadata": {
        "colab": {
          "base_uri": "https://localhost:8080/"
        },
        "id": "r_LE6nvHy14c",
        "outputId": "8d5e6b5f-7216-44f7-bca1-e5a84bcbbe0b"
      },
      "source": [
        "# tu taki brzydki długi warunek :)\r\n",
        "# ale wydaje mi się, że dobrze porównuje i zlicza wyżej utworzone kolumny\r\n",
        "\r\n",
        "imdb_movies[(imdb_movies.writer_1 == imdb_movies.director_1) | \r\n",
        "        (imdb_movies.writer_1 == imdb_movies.director_2) | \r\n",
        "        (imdb_movies.writer_2 == imdb_movies.director_1) | \r\n",
        "        (imdb_movies.writer_2 == imdb_movies.director_2)].imdb_title_id.count()"
      ],
      "execution_count": null,
      "outputs": [
        {
          "output_type": "execute_result",
          "data": {
            "text/plain": [
              "31803"
            ]
          },
          "metadata": {
            "tags": []
          },
          "execution_count": 48
        }
      ]
    },
    {
      "cell_type": "markdown",
      "metadata": {
        "id": "B0KEiQ-icEhG"
      },
      "source": [
        "#Reżyser - z największymi średnimi głosów, największa liczba głosów - KASIA"
      ]
    },
    {
      "cell_type": "code",
      "metadata": {
        "colab": {
          "base_uri": "https://localhost:8080/"
        },
        "id": "olzrjnGZM5Th",
        "outputId": "e595e366-9ab7-4b2f-c0fa-3183b88d5d43"
      },
      "source": [
        "imdb_movies = pd.read_csv('/content/[netflix]/IMDb movies.csv')"
      ],
      "execution_count": 16,
      "outputs": [
        {
          "output_type": "stream",
          "text": [
            "/usr/local/lib/python3.6/dist-packages/IPython/core/interactiveshell.py:2718: DtypeWarning: Columns (3) have mixed types.Specify dtype option on import or set low_memory=False.\n",
            "  interactivity=interactivity, compiler=compiler, result=result)\n"
          ],
          "name": "stderr"
        }
      ]
    },
    {
      "cell_type": "code",
      "metadata": {
        "colab": {
          "base_uri": "https://localhost:8080/"
        },
        "id": "7w8lBzLteXAP",
        "outputId": "7e7743e0-067e-494c-a7bc-e969bdc318e4"
      },
      "source": [
        "imdb_movies.columns"
      ],
      "execution_count": 17,
      "outputs": [
        {
          "output_type": "execute_result",
          "data": {
            "text/plain": [
              "Index(['imdb_title_id', 'title', 'original_title', 'year', 'date_published',\n",
              "       'genre', 'duration', 'country', 'language', 'director', 'writer',\n",
              "       'production_company', 'actors', 'description', 'avg_vote', 'votes',\n",
              "       'budget', 'usa_gross_income', 'worlwide_gross_income', 'metascore',\n",
              "       'reviews_from_users', 'reviews_from_critics'],\n",
              "      dtype='object')"
            ]
          },
          "metadata": {
            "tags": []
          },
          "execution_count": 17
        }
      ]
    },
    {
      "cell_type": "code",
      "metadata": {
        "colab": {
          "base_uri": "https://localhost:8080/",
          "height": 390
        },
        "id": "i-xNUUc2Ea33",
        "outputId": "b54b7762-7489-4a5a-820a-f062462fba0b"
      },
      "source": [
        "#Reżyserzy z największą średnią ocen, którzy nakręcili więcej niż 5 filmów\n",
        "imdb_directors_av_votes=imdb_movies[['director','avg_vote']].groupby('director').agg(['count', 'mean']).reset_index()\n",
        "imdb_directors_av_votes[imdb_directors_av_votes['avg_vote']['count']>5].sort_values(by=('avg_vote','mean'), ascending=False).reset_index().head(10)"
      ],
      "execution_count": 89,
      "outputs": [
        {
          "output_type": "execute_result",
          "data": {
            "text/html": [
              "<div>\n",
              "<style scoped>\n",
              "    .dataframe tbody tr th:only-of-type {\n",
              "        vertical-align: middle;\n",
              "    }\n",
              "\n",
              "    .dataframe tbody tr th {\n",
              "        vertical-align: top;\n",
              "    }\n",
              "\n",
              "    .dataframe thead tr th {\n",
              "        text-align: left;\n",
              "    }\n",
              "</style>\n",
              "<table border=\"1\" class=\"dataframe\">\n",
              "  <thead>\n",
              "    <tr>\n",
              "      <th></th>\n",
              "      <th>index</th>\n",
              "      <th>director</th>\n",
              "      <th colspan=\"2\" halign=\"left\">avg_vote</th>\n",
              "    </tr>\n",
              "    <tr>\n",
              "      <th></th>\n",
              "      <th></th>\n",
              "      <th></th>\n",
              "      <th>count</th>\n",
              "      <th>mean</th>\n",
              "    </tr>\n",
              "  </thead>\n",
              "  <tbody>\n",
              "    <tr>\n",
              "      <th>0</th>\n",
              "      <td>5749</td>\n",
              "      <td>Christopher Nolan</td>\n",
              "      <td>11</td>\n",
              "      <td>8.218182</td>\n",
              "    </tr>\n",
              "    <tr>\n",
              "      <th>1</th>\n",
              "      <td>28854</td>\n",
              "      <td>Satyajit Ray</td>\n",
              "      <td>28</td>\n",
              "      <td>8.025000</td>\n",
              "    </tr>\n",
              "    <tr>\n",
              "      <th>2</th>\n",
              "      <td>1753</td>\n",
              "      <td>Andrei Tarkovsky</td>\n",
              "      <td>7</td>\n",
              "      <td>8.014286</td>\n",
              "    </tr>\n",
              "    <tr>\n",
              "      <th>3</th>\n",
              "      <td>12193</td>\n",
              "      <td>Hayao Miyazaki</td>\n",
              "      <td>12</td>\n",
              "      <td>8.008333</td>\n",
              "    </tr>\n",
              "    <tr>\n",
              "      <th>4</th>\n",
              "      <td>29269</td>\n",
              "      <td>Sergio Leone</td>\n",
              "      <td>7</td>\n",
              "      <td>7.928571</td>\n",
              "    </tr>\n",
              "    <tr>\n",
              "      <th>5</th>\n",
              "      <td>12725</td>\n",
              "      <td>Humayun Ahmed</td>\n",
              "      <td>7</td>\n",
              "      <td>7.900000</td>\n",
              "    </tr>\n",
              "    <tr>\n",
              "      <th>6</th>\n",
              "      <td>13739</td>\n",
              "      <td>James Cameron</td>\n",
              "      <td>7</td>\n",
              "      <td>7.885714</td>\n",
              "    </tr>\n",
              "    <tr>\n",
              "      <th>7</th>\n",
              "      <td>25895</td>\n",
              "      <td>Quentin Tarantino</td>\n",
              "      <td>12</td>\n",
              "      <td>7.858333</td>\n",
              "    </tr>\n",
              "    <tr>\n",
              "      <th>8</th>\n",
              "      <td>31398</td>\n",
              "      <td>Tengiz Abuladze</td>\n",
              "      <td>6</td>\n",
              "      <td>7.850000</td>\n",
              "    </tr>\n",
              "    <tr>\n",
              "      <th>9</th>\n",
              "      <td>29214</td>\n",
              "      <td>Sergey A.</td>\n",
              "      <td>24</td>\n",
              "      <td>7.850000</td>\n",
              "    </tr>\n",
              "  </tbody>\n",
              "</table>\n",
              "</div>"
            ],
            "text/plain": [
              "   index           director avg_vote          \n",
              "                               count      mean\n",
              "0   5749  Christopher Nolan       11  8.218182\n",
              "1  28854       Satyajit Ray       28  8.025000\n",
              "2   1753   Andrei Tarkovsky        7  8.014286\n",
              "3  12193     Hayao Miyazaki       12  8.008333\n",
              "4  29269       Sergio Leone        7  7.928571\n",
              "5  12725      Humayun Ahmed        7  7.900000\n",
              "6  13739      James Cameron        7  7.885714\n",
              "7  25895  Quentin Tarantino       12  7.858333\n",
              "8  31398    Tengiz Abuladze        6  7.850000\n",
              "9  29214          Sergey A.       24  7.850000"
            ]
          },
          "metadata": {
            "tags": []
          },
          "execution_count": 89
        }
      ]
    },
    {
      "cell_type": "code",
      "metadata": {
        "colab": {
          "base_uri": "https://localhost:8080/",
          "height": 390
        },
        "id": "ex0nfPXVpbSt",
        "outputId": "26ca8f16-fa54-4dd2-de8a-d8f9fb121c4f"
      },
      "source": [
        "#reżyserzy, którzy kręcą dużo i źle ;)\n",
        "imdb_directors_av_votes[imdb_directors_av_votes['avg_vote']['count']>10].sort_values(by=('avg_vote','mean'), ascending=True).head(10)"
      ],
      "execution_count": 67,
      "outputs": [
        {
          "output_type": "execute_result",
          "data": {
            "text/html": [
              "<div>\n",
              "<style scoped>\n",
              "    .dataframe tbody tr th:only-of-type {\n",
              "        vertical-align: middle;\n",
              "    }\n",
              "\n",
              "    .dataframe tbody tr th {\n",
              "        vertical-align: top;\n",
              "    }\n",
              "\n",
              "    .dataframe thead tr th {\n",
              "        text-align: left;\n",
              "    }\n",
              "</style>\n",
              "<table border=\"1\" class=\"dataframe\">\n",
              "  <thead>\n",
              "    <tr>\n",
              "      <th></th>\n",
              "      <th>director</th>\n",
              "      <th colspan=\"2\" halign=\"left\">avg_vote</th>\n",
              "    </tr>\n",
              "    <tr>\n",
              "      <th></th>\n",
              "      <th></th>\n",
              "      <th>count</th>\n",
              "      <th>mean</th>\n",
              "    </tr>\n",
              "  </thead>\n",
              "  <tbody>\n",
              "    <tr>\n",
              "      <th>4153</th>\n",
              "      <td>Brett Kelly</td>\n",
              "      <td>18</td>\n",
              "      <td>1.533333</td>\n",
              "    </tr>\n",
              "    <tr>\n",
              "      <th>26614</th>\n",
              "      <td>Rene Perez</td>\n",
              "      <td>18</td>\n",
              "      <td>2.805556</td>\n",
              "    </tr>\n",
              "    <tr>\n",
              "      <th>14121</th>\n",
              "      <td>Jared Cohn</td>\n",
              "      <td>16</td>\n",
              "      <td>2.943750</td>\n",
              "    </tr>\n",
              "    <tr>\n",
              "      <th>20607</th>\n",
              "      <td>Mark Atkins</td>\n",
              "      <td>12</td>\n",
              "      <td>3.066667</td>\n",
              "    </tr>\n",
              "    <tr>\n",
              "      <th>1831</th>\n",
              "      <td>Andrew Jones</td>\n",
              "      <td>24</td>\n",
              "      <td>3.241667</td>\n",
              "    </tr>\n",
              "    <tr>\n",
              "      <th>7102</th>\n",
              "      <td>David DeCoteau</td>\n",
              "      <td>44</td>\n",
              "      <td>3.259091</td>\n",
              "    </tr>\n",
              "    <tr>\n",
              "      <th>30577</th>\n",
              "      <td>Steven M. Smith</td>\n",
              "      <td>12</td>\n",
              "      <td>3.266667</td>\n",
              "    </tr>\n",
              "    <tr>\n",
              "      <th>6933</th>\n",
              "      <td>Daryush Shokof</td>\n",
              "      <td>11</td>\n",
              "      <td>3.318182</td>\n",
              "    </tr>\n",
              "    <tr>\n",
              "      <th>18975</th>\n",
              "      <td>Leigh Scott</td>\n",
              "      <td>12</td>\n",
              "      <td>3.341667</td>\n",
              "    </tr>\n",
              "    <tr>\n",
              "      <th>27025</th>\n",
              "      <td>Rick Sloane</td>\n",
              "      <td>11</td>\n",
              "      <td>3.400000</td>\n",
              "    </tr>\n",
              "  </tbody>\n",
              "</table>\n",
              "</div>"
            ],
            "text/plain": [
              "              director avg_vote          \n",
              "                          count      mean\n",
              "4153       Brett Kelly       18  1.533333\n",
              "26614       Rene Perez       18  2.805556\n",
              "14121       Jared Cohn       16  2.943750\n",
              "20607      Mark Atkins       12  3.066667\n",
              "1831      Andrew Jones       24  3.241667\n",
              "7102    David DeCoteau       44  3.259091\n",
              "30577  Steven M. Smith       12  3.266667\n",
              "6933    Daryush Shokof       11  3.318182\n",
              "18975      Leigh Scott       12  3.341667\n",
              "27025      Rick Sloane       11  3.400000"
            ]
          },
          "metadata": {
            "tags": []
          },
          "execution_count": 67
        }
      ]
    },
    {
      "cell_type": "code",
      "metadata": {
        "colab": {
          "base_uri": "https://localhost:8080/",
          "height": 390
        },
        "id": "NnJMXP8EpGDp",
        "outputId": "8b4c3079-93eb-4ccc-eef4-89b847a4d4dd"
      },
      "source": [
        "#jakie oceny dostają reżyserzy którzy idą 'na ilość'\n",
        "imdb_directors_av_votes[imdb_directors_av_votes['avg_vote']['count']>5].sort_values(by=('avg_vote','count'), ascending=False).head(10)"
      ],
      "execution_count": 65,
      "outputs": [
        {
          "output_type": "execute_result",
          "data": {
            "text/html": [
              "<div>\n",
              "<style scoped>\n",
              "    .dataframe tbody tr th:only-of-type {\n",
              "        vertical-align: middle;\n",
              "    }\n",
              "\n",
              "    .dataframe tbody tr th {\n",
              "        vertical-align: top;\n",
              "    }\n",
              "\n",
              "    .dataframe thead tr th {\n",
              "        text-align: left;\n",
              "    }\n",
              "</style>\n",
              "<table border=\"1\" class=\"dataframe\">\n",
              "  <thead>\n",
              "    <tr>\n",
              "      <th></th>\n",
              "      <th>director</th>\n",
              "      <th colspan=\"2\" halign=\"left\">avg_vote</th>\n",
              "    </tr>\n",
              "    <tr>\n",
              "      <th></th>\n",
              "      <th></th>\n",
              "      <th>count</th>\n",
              "      <th>mean</th>\n",
              "    </tr>\n",
              "  </thead>\n",
              "  <tbody>\n",
              "    <tr>\n",
              "      <th>15006</th>\n",
              "      <td>Jesús Franco</td>\n",
              "      <td>87</td>\n",
              "      <td>4.718391</td>\n",
              "    </tr>\n",
              "    <tr>\n",
              "      <th>21840</th>\n",
              "      <td>Michael Curtiz</td>\n",
              "      <td>85</td>\n",
              "      <td>6.543529</td>\n",
              "    </tr>\n",
              "    <tr>\n",
              "      <th>19114</th>\n",
              "      <td>Lesley Selander</td>\n",
              "      <td>78</td>\n",
              "      <td>6.214103</td>\n",
              "    </tr>\n",
              "    <tr>\n",
              "      <th>19360</th>\n",
              "      <td>Lloyd Bacon</td>\n",
              "      <td>73</td>\n",
              "      <td>6.232877</td>\n",
              "    </tr>\n",
              "    <tr>\n",
              "      <th>33646</th>\n",
              "      <td>William Beaudine</td>\n",
              "      <td>70</td>\n",
              "      <td>5.861429</td>\n",
              "    </tr>\n",
              "    <tr>\n",
              "      <th>26955</th>\n",
              "      <td>Richard Thorpe</td>\n",
              "      <td>68</td>\n",
              "      <td>6.263235</td>\n",
              "    </tr>\n",
              "    <tr>\n",
              "      <th>15682</th>\n",
              "      <td>John Ford</td>\n",
              "      <td>67</td>\n",
              "      <td>6.710448</td>\n",
              "    </tr>\n",
              "    <tr>\n",
              "      <th>11306</th>\n",
              "      <td>Gordon Douglas</td>\n",
              "      <td>64</td>\n",
              "      <td>6.175000</td>\n",
              "    </tr>\n",
              "    <tr>\n",
              "      <th>26370</th>\n",
              "      <td>Raoul Walsh</td>\n",
              "      <td>61</td>\n",
              "      <td>6.590164</td>\n",
              "    </tr>\n",
              "    <tr>\n",
              "      <th>21702</th>\n",
              "      <td>Mervyn LeRoy</td>\n",
              "      <td>59</td>\n",
              "      <td>6.689831</td>\n",
              "    </tr>\n",
              "  </tbody>\n",
              "</table>\n",
              "</div>"
            ],
            "text/plain": [
              "               director avg_vote          \n",
              "                           count      mean\n",
              "15006      Jesús Franco       87  4.718391\n",
              "21840    Michael Curtiz       85  6.543529\n",
              "19114   Lesley Selander       78  6.214103\n",
              "19360       Lloyd Bacon       73  6.232877\n",
              "33646  William Beaudine       70  5.861429\n",
              "26955    Richard Thorpe       68  6.263235\n",
              "15682         John Ford       67  6.710448\n",
              "11306    Gordon Douglas       64  6.175000\n",
              "26370       Raoul Walsh       61  6.590164\n",
              "21702      Mervyn LeRoy       59  6.689831"
            ]
          },
          "metadata": {
            "tags": []
          },
          "execution_count": 65
        }
      ]
    },
    {
      "cell_type": "code",
      "metadata": {
        "colab": {
          "base_uri": "https://localhost:8080/",
          "height": 390
        },
        "id": "-9QT462Yn3hW",
        "outputId": "c8df4d6a-a372-4980-fd18-61bd39fdbd88"
      },
      "source": [
        "#Reżyserzy których filmy otrzymują średnio najwięcej głosów, którzy nakręcili więcej niż 5 filmów\n",
        "imdb_directors_sum_votes=imdb_movies[['director','votes']].groupby('director').agg(['count', 'sum']).reset_index()\n",
        "imdb_directors_sum_votes['votes_per_film'] = imdb_directors_sum_votes['votes']['sum']/imdb_directors_sum_votes['votes']['count']\n",
        "imdb_directors_sum_votes['votes_per_film']=imdb_directors_sum_votes['votes_per_film'].astype('int')\n",
        "imdb_directors_sum_votes[imdb_directors_sum_votes['votes']['count']>5].sort_values(by=('votes_per_film'), ascending=False).head(10)"
      ],
      "execution_count": 88,
      "outputs": [
        {
          "output_type": "execute_result",
          "data": {
            "text/html": [
              "<div>\n",
              "<style scoped>\n",
              "    .dataframe tbody tr th:only-of-type {\n",
              "        vertical-align: middle;\n",
              "    }\n",
              "\n",
              "    .dataframe tbody tr th {\n",
              "        vertical-align: top;\n",
              "    }\n",
              "\n",
              "    .dataframe thead tr th {\n",
              "        text-align: left;\n",
              "    }\n",
              "</style>\n",
              "<table border=\"1\" class=\"dataframe\">\n",
              "  <thead>\n",
              "    <tr>\n",
              "      <th></th>\n",
              "      <th>director</th>\n",
              "      <th colspan=\"2\" halign=\"left\">votes</th>\n",
              "      <th>votes_per_film</th>\n",
              "    </tr>\n",
              "    <tr>\n",
              "      <th></th>\n",
              "      <th></th>\n",
              "      <th>count</th>\n",
              "      <th>sum</th>\n",
              "      <th></th>\n",
              "    </tr>\n",
              "  </thead>\n",
              "  <tbody>\n",
              "    <tr>\n",
              "      <th>5749</th>\n",
              "      <td>Christopher Nolan</td>\n",
              "      <td>11</td>\n",
              "      <td>11653144</td>\n",
              "      <td>1059376</td>\n",
              "    </tr>\n",
              "    <tr>\n",
              "      <th>25895</th>\n",
              "      <td>Quentin Tarantino</td>\n",
              "      <td>12</td>\n",
              "      <td>8458703</td>\n",
              "      <td>704891</td>\n",
              "    </tr>\n",
              "    <tr>\n",
              "      <th>13739</th>\n",
              "      <td>James Cameron</td>\n",
              "      <td>7</td>\n",
              "      <td>4915763</td>\n",
              "      <td>702251</td>\n",
              "    </tr>\n",
              "    <tr>\n",
              "      <th>7141</th>\n",
              "      <td>David Fincher</td>\n",
              "      <td>10</td>\n",
              "      <td>6944421</td>\n",
              "      <td>694442</td>\n",
              "    </tr>\n",
              "    <tr>\n",
              "      <th>25197</th>\n",
              "      <td>Peter Jackson</td>\n",
              "      <td>13</td>\n",
              "      <td>7304418</td>\n",
              "      <td>561878</td>\n",
              "    </tr>\n",
              "    <tr>\n",
              "      <th>10749</th>\n",
              "      <td>George Lucas</td>\n",
              "      <td>6</td>\n",
              "      <td>3364510</td>\n",
              "      <td>560751</td>\n",
              "    </tr>\n",
              "    <tr>\n",
              "      <th>2353</th>\n",
              "      <td>Anthony Russo, Joe Russo</td>\n",
              "      <td>6</td>\n",
              "      <td>3006253</td>\n",
              "      <td>501042</td>\n",
              "    </tr>\n",
              "    <tr>\n",
              "      <th>13336</th>\n",
              "      <td>J.J. Abrams</td>\n",
              "      <td>6</td>\n",
              "      <td>2881528</td>\n",
              "      <td>480254</td>\n",
              "    </tr>\n",
              "    <tr>\n",
              "      <th>18639</th>\n",
              "      <td>Lana Wachowski, Lilly Wachowski</td>\n",
              "      <td>6</td>\n",
              "      <td>2871445</td>\n",
              "      <td>478574</td>\n",
              "    </tr>\n",
              "    <tr>\n",
              "      <th>34464</th>\n",
              "      <td>Zack Snyder</td>\n",
              "      <td>8</td>\n",
              "      <td>3410835</td>\n",
              "      <td>426354</td>\n",
              "    </tr>\n",
              "  </tbody>\n",
              "</table>\n",
              "</div>"
            ],
            "text/plain": [
              "                              director votes           votes_per_film\n",
              "                                       count       sum               \n",
              "5749                 Christopher Nolan    11  11653144        1059376\n",
              "25895                Quentin Tarantino    12   8458703         704891\n",
              "13739                    James Cameron     7   4915763         702251\n",
              "7141                     David Fincher    10   6944421         694442\n",
              "25197                    Peter Jackson    13   7304418         561878\n",
              "10749                     George Lucas     6   3364510         560751\n",
              "2353          Anthony Russo, Joe Russo     6   3006253         501042\n",
              "13336                      J.J. Abrams     6   2881528         480254\n",
              "18639  Lana Wachowski, Lilly Wachowski     6   2871445         478574\n",
              "34464                      Zack Snyder     8   3410835         426354"
            ]
          },
          "metadata": {
            "tags": []
          },
          "execution_count": 88
        }
      ]
    },
    {
      "cell_type": "markdown",
      "metadata": {
        "id": "-h7hkXzEviiQ"
      },
      "source": [
        "#Scenarzysta - jw - GRZESIEK"
      ]
    },
    {
      "cell_type": "markdown",
      "metadata": {
        "id": "9W8xArYTDiXq"
      },
      "source": [
        "#Reżyser - dochód z filmów"
      ]
    },
    {
      "cell_type": "markdown",
      "metadata": {
        "id": "ayQvVo1kDsy8"
      },
      "source": [
        "##Reżyserzy z największą ilością filmów"
      ]
    },
    {
      "cell_type": "code",
      "metadata": {
        "colab": {
          "base_uri": "https://localhost:8080/"
        },
        "id": "CxuXSsn4cQsR",
        "outputId": "9925fa4f-ca3e-4e9c-fe55-8c39afd0e775"
      },
      "source": [
        "#Reżyserzy z największą ilością filmów\n",
        "imdb_movies['director'].value_counts().head(10)"
      ],
      "execution_count": null,
      "outputs": [
        {
          "output_type": "execute_result",
          "data": {
            "text/plain": [
              "Jesús Franco        87\n",
              "Michael Curtiz      85\n",
              "Lesley Selander     78\n",
              "Lloyd Bacon         73\n",
              "William Beaudine    70\n",
              "Richard Thorpe      68\n",
              "John Ford           67\n",
              "Gordon Douglas      64\n",
              "Raoul Walsh         61\n",
              "Mervyn LeRoy        59\n",
              "Name: director, dtype: int64"
            ]
          },
          "metadata": {
            "tags": []
          },
          "execution_count": 129
        }
      ]
    },
    {
      "cell_type": "markdown",
      "metadata": {
        "id": "v63jzkQGD1Lw"
      },
      "source": [
        "##Reżyserzy, których filmy osiągnęły największy dochód na świecie - dot. dochodów w USD - może zrobić jeszcze INR rupię indyjską? Bolywood? Może filmy kręcone w Chinach (jaka waluta?) jaki mają dochód?"
      ]
    },
    {
      "cell_type": "code",
      "metadata": {
        "colab": {
          "base_uri": "https://localhost:8080/"
        },
        "id": "-0UrVoZISlX8",
        "outputId": "201a14c2-5ff5-4535-d268-be390b58185b"
      },
      "source": [
        "imdb_movies['worlwide_gross_income']"
      ],
      "execution_count": null,
      "outputs": [
        {
          "output_type": "execute_result",
          "data": {
            "text/plain": [
              "0              NaN\n",
              "1              NaN\n",
              "2              NaN\n",
              "3              NaN\n",
              "4              NaN\n",
              "           ...    \n",
              "85850    $ 3507171\n",
              "85851    $ 7299062\n",
              "85852          NaN\n",
              "85853       $ 2833\n",
              "85854      $ 59794\n",
              "Name: worlwide_gross_income, Length: 85855, dtype: object"
            ]
          },
          "metadata": {
            "tags": []
          },
          "execution_count": 133
        }
      ]
    },
    {
      "cell_type": "code",
      "metadata": {
        "id": "KegG_vIAlcep"
      },
      "source": [
        "#Wyczyszczenie NaN\n",
        "imdb_movies['worlwide_gross_income'].replace(np.nan, '$ 0', inplace=True)"
      ],
      "execution_count": null,
      "outputs": []
    },
    {
      "cell_type": "code",
      "metadata": {
        "id": "BymbVmBGRx6s"
      },
      "source": [
        "#poprzez split oddzielenie waluty od wartości\n",
        "imdb_movies['worlwide_gross_income']=imdb_movies['worlwide_gross_income'].apply(lambda x: x.split())\n"
      ],
      "execution_count": null,
      "outputs": []
    },
    {
      "cell_type": "code",
      "metadata": {
        "id": "4GGFU8o2S8pe"
      },
      "source": [
        "#Wydzielenie walut do osobnej kolumny\n",
        "imdb_movies['currency_for_wwincome']=imdb_movies['worlwide_gross_income'].apply(lambda x: x[0])"
      ],
      "execution_count": null,
      "outputs": []
    },
    {
      "cell_type": "code",
      "metadata": {
        "colab": {
          "base_uri": "https://localhost:8080/"
        },
        "id": "t124m9psTMZt",
        "outputId": "856921f4-fa69-487d-c90f-9a6b2c1300bc"
      },
      "source": [
        "#Waluty występujące w worlwide gross income\n",
        "imdb_movies['currency_for_wwincome'].unique()"
      ],
      "execution_count": null,
      "outputs": [
        {
          "output_type": "execute_result",
          "data": {
            "text/plain": [
              "array(['$', 'GBP', 'INR', 'NPR', 'PKR'], dtype=object)"
            ]
          },
          "metadata": {
            "tags": []
          },
          "execution_count": 138
        }
      ]
    },
    {
      "cell_type": "code",
      "metadata": {
        "id": "XlsJ8FwdTXnA"
      },
      "source": [
        "#kolumna z worlwide gross income tylko z wartościami\n",
        "imdb_movies['worlwide_gross_income']=imdb_movies['worlwide_gross_income'].apply(lambda x: x[1])"
      ],
      "execution_count": null,
      "outputs": []
    },
    {
      "cell_type": "code",
      "metadata": {
        "id": "97LPEe7AT_cu"
      },
      "source": [
        "#zmiana stringów na int\n",
        "imdb_movies['worlwide_gross_income']=imdb_movies['worlwide_gross_income'].astype(int)"
      ],
      "execution_count": null,
      "outputs": []
    },
    {
      "cell_type": "code",
      "metadata": {
        "id": "LFyztu93UhX2"
      },
      "source": [
        "#nowa df z danymi gdzie worlwide_gross_income w dolarach\n",
        "imdb_movies_USD = imdb_movies[imdb_movies['currency_for_wwincome']=='$']"
      ],
      "execution_count": null,
      "outputs": []
    },
    {
      "cell_type": "code",
      "metadata": {
        "colab": {
          "base_uri": "https://localhost:8080/"
        },
        "id": "aGtcxetjXiUX",
        "outputId": "d5452395-36ff-4718-93a5-3c0786e20987"
      },
      "source": [
        "#zmiana typu z obj na int\n",
        "imdb_movies_USD['worlwide_gross_income'] =imdb_movies_USD['worlwide_gross_income'].astype(int)"
      ],
      "execution_count": null,
      "outputs": [
        {
          "output_type": "stream",
          "text": [
            "/usr/local/lib/python3.6/dist-packages/ipykernel_launcher.py:1: SettingWithCopyWarning: \n",
            "A value is trying to be set on a copy of a slice from a DataFrame.\n",
            "Try using .loc[row_indexer,col_indexer] = value instead\n",
            "\n",
            "See the caveats in the documentation: https://pandas.pydata.org/pandas-docs/stable/user_guide/indexing.html#returning-a-view-versus-a-copy\n",
            "  \"\"\"Entry point for launching an IPython kernel.\n"
          ],
          "name": "stderr"
        }
      ]
    },
    {
      "cell_type": "code",
      "metadata": {
        "id": "dzJstpodYTfy"
      },
      "source": [
        "imdb_movies_USD['worlwide_gross_income']"
      ],
      "execution_count": null,
      "outputs": []
    },
    {
      "cell_type": "code",
      "metadata": {
        "id": "mfpdbYDnE_xc"
      },
      "source": [
        "#Wyczyszczenie $ i spacji - tak się nie da bo różne waluty\n",
        "#imdb_movies['worlwide_gross_income']=imdb_movies['worlwide_gross_income'].apply(lambda x: x[2:])\n"
      ],
      "execution_count": null,
      "outputs": []
    },
    {
      "cell_type": "code",
      "metadata": {
        "id": "4BZqQs48eEk2",
        "colab": {
          "base_uri": "https://localhost:8080/",
          "height": 669
        },
        "outputId": "27d896ae-1991-49b5-add7-b7c16fbe60f4"
      },
      "source": [
        "#Reżyserzy z największym dochodem w dolarach\n",
        "imdb_movies_USD.groupby('director').agg({'imdb_title_id':'count','worlwide_gross_income':'sum'}).reset_index().rename(columns={'imdb_title_id':'films_count'}).sort_values(by='worlwide_gross_income', ascending=False).head(20)"
      ],
      "execution_count": null,
      "outputs": [
        {
          "output_type": "execute_result",
          "data": {
            "text/html": [
              "<div>\n",
              "<style scoped>\n",
              "    .dataframe tbody tr th:only-of-type {\n",
              "        vertical-align: middle;\n",
              "    }\n",
              "\n",
              "    .dataframe tbody tr th {\n",
              "        vertical-align: top;\n",
              "    }\n",
              "\n",
              "    .dataframe thead th {\n",
              "        text-align: right;\n",
              "    }\n",
              "</style>\n",
              "<table border=\"1\" class=\"dataframe\">\n",
              "  <thead>\n",
              "    <tr style=\"text-align: right;\">\n",
              "      <th></th>\n",
              "      <th>director</th>\n",
              "      <th>films_count</th>\n",
              "      <th>worlwide_gross_income</th>\n",
              "    </tr>\n",
              "  </thead>\n",
              "  <tbody>\n",
              "    <tr>\n",
              "      <th>30601</th>\n",
              "      <td>Steven Spielberg</td>\n",
              "      <td>32</td>\n",
              "      <td>10521265279</td>\n",
              "    </tr>\n",
              "    <tr>\n",
              "      <th>2352</th>\n",
              "      <td>Anthony Russo, Joe Russo</td>\n",
              "      <td>6</td>\n",
              "      <td>6848715547</td>\n",
              "    </tr>\n",
              "    <tr>\n",
              "      <th>25192</th>\n",
              "      <td>Peter Jackson</td>\n",
              "      <td>13</td>\n",
              "      <td>6601458791</td>\n",
              "    </tr>\n",
              "    <tr>\n",
              "      <th>21769</th>\n",
              "      <td>Michael Bay</td>\n",
              "      <td>14</td>\n",
              "      <td>6451692798</td>\n",
              "    </tr>\n",
              "    <tr>\n",
              "      <th>13738</th>\n",
              "      <td>James Cameron</td>\n",
              "      <td>7</td>\n",
              "      <td>6185441282</td>\n",
              "    </tr>\n",
              "    <tr>\n",
              "      <th>7486</th>\n",
              "      <td>David Yates</td>\n",
              "      <td>8</td>\n",
              "      <td>6021255883</td>\n",
              "    </tr>\n",
              "    <tr>\n",
              "      <th>5748</th>\n",
              "      <td>Christopher Nolan</td>\n",
              "      <td>11</td>\n",
              "      <td>4870773767</td>\n",
              "    </tr>\n",
              "    <tr>\n",
              "      <th>13335</th>\n",
              "      <td>J.J. Abrams</td>\n",
              "      <td>6</td>\n",
              "      <td>4653989459</td>\n",
              "    </tr>\n",
              "    <tr>\n",
              "      <th>27840</th>\n",
              "      <td>Ron Howard</td>\n",
              "      <td>25</td>\n",
              "      <td>4390732419</td>\n",
              "    </tr>\n",
              "    <tr>\n",
              "      <th>16072</th>\n",
              "      <td>Jon Favreau</td>\n",
              "      <td>9</td>\n",
              "      <td>4348727274</td>\n",
              "    </tr>\n",
              "    <tr>\n",
              "      <th>31755</th>\n",
              "      <td>Tim Burton</td>\n",
              "      <td>18</td>\n",
              "      <td>4338312709</td>\n",
              "    </tr>\n",
              "    <tr>\n",
              "      <th>5370</th>\n",
              "      <td>Chris Columbus</td>\n",
              "      <td>15</td>\n",
              "      <td>4134539583</td>\n",
              "    </tr>\n",
              "    <tr>\n",
              "      <th>27047</th>\n",
              "      <td>Ridley Scott</td>\n",
              "      <td>25</td>\n",
              "      <td>4114600082</td>\n",
              "    </tr>\n",
              "    <tr>\n",
              "      <th>27755</th>\n",
              "      <td>Roland Emmerich</td>\n",
              "      <td>17</td>\n",
              "      <td>3994574698</td>\n",
              "    </tr>\n",
              "    <tr>\n",
              "      <th>27521</th>\n",
              "      <td>Robert Zemeckis</td>\n",
              "      <td>18</td>\n",
              "      <td>3981267377</td>\n",
              "    </tr>\n",
              "    <tr>\n",
              "      <th>11319</th>\n",
              "      <td>Gore Verbinski</td>\n",
              "      <td>10</td>\n",
              "      <td>3753024705</td>\n",
              "    </tr>\n",
              "    <tr>\n",
              "      <th>4460</th>\n",
              "      <td>Bryan Singer</td>\n",
              "      <td>11</td>\n",
              "      <td>3723434645</td>\n",
              "    </tr>\n",
              "    <tr>\n",
              "      <th>13937</th>\n",
              "      <td>James Wan</td>\n",
              "      <td>9</td>\n",
              "      <td>3708173136</td>\n",
              "    </tr>\n",
              "    <tr>\n",
              "      <th>10748</th>\n",
              "      <td>George Lucas</td>\n",
              "      <td>6</td>\n",
              "      <td>3442459149</td>\n",
              "    </tr>\n",
              "    <tr>\n",
              "      <th>6004</th>\n",
              "      <td>Clint Eastwood</td>\n",
              "      <td>38</td>\n",
              "      <td>3418006368</td>\n",
              "    </tr>\n",
              "  </tbody>\n",
              "</table>\n",
              "</div>"
            ],
            "text/plain": [
              "                       director  films_count  worlwide_gross_income\n",
              "30601          Steven Spielberg           32            10521265279\n",
              "2352   Anthony Russo, Joe Russo            6             6848715547\n",
              "25192             Peter Jackson           13             6601458791\n",
              "21769               Michael Bay           14             6451692798\n",
              "13738             James Cameron            7             6185441282\n",
              "7486                David Yates            8             6021255883\n",
              "5748          Christopher Nolan           11             4870773767\n",
              "13335               J.J. Abrams            6             4653989459\n",
              "27840                Ron Howard           25             4390732419\n",
              "16072               Jon Favreau            9             4348727274\n",
              "31755                Tim Burton           18             4338312709\n",
              "5370             Chris Columbus           15             4134539583\n",
              "27047              Ridley Scott           25             4114600082\n",
              "27755           Roland Emmerich           17             3994574698\n",
              "27521           Robert Zemeckis           18             3981267377\n",
              "11319            Gore Verbinski           10             3753024705\n",
              "4460               Bryan Singer           11             3723434645\n",
              "13937                 James Wan            9             3708173136\n",
              "10748              George Lucas            6             3442459149\n",
              "6004             Clint Eastwood           38             3418006368"
            ]
          },
          "metadata": {
            "tags": []
          },
          "execution_count": 167
        }
      ]
    }
  ]
}