{
  "nbformat": 4,
  "nbformat_minor": 0,
  "metadata": {
    "colab": {
      "name": "Netflix_data.ipynb",
      "provenance": [],
      "collapsed_sections": [
        "o4jpNnrJj-Bf",
        "tJDGVkPHV_rp",
        "DtaS3d_XWRwi",
        "6YHoIgqEYx_l",
        "ztd-DpwRaFJF"
      ],
      "include_colab_link": true
    },
    "kernelspec": {
      "display_name": "Python 3",
      "name": "python3"
    }
  },
  "cells": [
    {
      "cell_type": "markdown",
      "metadata": {
        "id": "view-in-github",
        "colab_type": "text"
      },
      "source": [
        "<a href=\"https://colab.research.google.com/github/KatBotkowska/CodersCrew/blob/master/Netflix_data.ipynb\" target=\"_parent\"><img src=\"https://colab.research.google.com/assets/colab-badge.svg\" alt=\"Open In Colab\"/></a>"
      ]
    },
    {
      "cell_type": "markdown",
      "metadata": {
        "id": "Wv9tKl95kefb"
      },
      "source": [
        "##Importy"
      ]
    },
    {
      "cell_type": "code",
      "metadata": {
        "id": "a709fZDUFMfc"
      },
      "source": [
        "import pandas as pd\n",
        "import numpy as np\n",
        "import seaborn as sn\n",
        "import os\n",
        "import matplotlib.pyplot as plt\n",
        "from wordcloud import WordCloud"
      ],
      "execution_count": 1,
      "outputs": []
    },
    {
      "cell_type": "code",
      "metadata": {
        "colab": {
          "base_uri": "https://localhost:8080/"
        },
        "id": "hqDwSSzWplTI",
        "outputId": "c6ab3c9f-214c-446a-fe06-7545158ad3ae"
      },
      "source": [
        "#podłączenie google drive\n",
        "from google.colab import drive\n",
        "drive.mount('/content/gdrive')"
      ],
      "execution_count": 96,
      "outputs": [
        {
          "output_type": "stream",
          "text": [
            "Mounted at /content/gdrive\n"
          ],
          "name": "stdout"
        }
      ]
    },
    {
      "cell_type": "code",
      "metadata": {
        "id": "pezF5SSlqJLm"
      },
      "source": [
        "root_path = 'gdrive/My Drive/netflix/'"
      ],
      "execution_count": 3,
      "outputs": []
    },
    {
      "cell_type": "code",
      "metadata": {
        "colab": {
          "resources": {
            "http://localhost:8080/nbextensions/google.colab/files.js": {
              "data": "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",
              "ok": true,
              "headers": [
                [
                  "content-type",
                  "application/javascript"
                ]
              ],
              "status": 200,
              "status_text": ""
            }
          },
          "base_uri": "https://localhost:8080/",
          "height": 89
        },
        "id": "gRka04f8qzYk",
        "outputId": "574e980e-6df0-4fd5-85aa-66035caf7c86"
      },
      "source": [
        "from google.colab import files\n",
        "files.upload()  #this will prompt you to upload the kaggle.json"
      ],
      "execution_count": 41,
      "outputs": [
        {
          "output_type": "display_data",
          "data": {
            "text/html": [
              "\n",
              "     <input type=\"file\" id=\"files-9a9d6277-5925-429f-8be1-81c6fa35cd86\" name=\"files[]\" multiple disabled\n",
              "        style=\"border:none\" />\n",
              "     <output id=\"result-9a9d6277-5925-429f-8be1-81c6fa35cd86\">\n",
              "      Upload widget is only available when the cell has been executed in the\n",
              "      current browser session. Please rerun this cell to enable.\n",
              "      </output>\n",
              "      <script src=\"/nbextensions/google.colab/files.js\"></script> "
            ],
            "text/plain": [
              "<IPython.core.display.HTML object>"
            ]
          },
          "metadata": {
            "tags": []
          }
        },
        {
          "output_type": "stream",
          "text": [
            "Saving kaggle.json to kaggle.json\n"
          ],
          "name": "stdout"
        },
        {
          "output_type": "execute_result",
          "data": {
            "text/plain": [
              "{'kaggle.json': b'{\"username\":\"kbotkowska\",\"key\":\"90ebb11108c952959800f5549af3472d\"}'}"
            ]
          },
          "metadata": {
            "tags": []
          },
          "execution_count": 41
        }
      ]
    },
    {
      "cell_type": "code",
      "metadata": {
        "colab": {
          "base_uri": "https://localhost:8080/"
        },
        "id": "QKw8uL2brD0I",
        "outputId": "558a3dda-97a1-490d-e828-169daabaf4e1"
      },
      "source": [
        "!pip install -q kaggle\n",
        "!mkdir -p ~/.kaggle\n",
        "!cp kaggle.json ~/.kaggle/\n",
        "!ls ~/.kaggle\n",
        "!chmod 600 /root/.kaggle/kaggle.json  # set permission"
      ],
      "execution_count": 42,
      "outputs": [
        {
          "output_type": "stream",
          "text": [
            "kaggle.json\n"
          ],
          "name": "stdout"
        }
      ]
    },
    {
      "cell_type": "code",
      "metadata": {
        "colab": {
          "base_uri": "https://localhost:8080/"
        },
        "id": "WID4EyQEJWA2",
        "outputId": "a430f939-2df8-473b-9deb-a0a9d16487e4"
      },
      "source": [
        "from google.colab import drive\n",
        "drive.mount('/content/drive')"
      ],
      "execution_count": 40,
      "outputs": [
        {
          "output_type": "stream",
          "text": [
            "Mounted at /content/drive\n"
          ],
          "name": "stdout"
        }
      ]
    },
    {
      "cell_type": "markdown",
      "metadata": {
        "id": "H-ct6GMeSVk9"
      },
      "source": [
        "##Pobranie i rozpakowanie danych kaggle - IMDb"
      ]
    },
    {
      "cell_type": "code",
      "metadata": {
        "colab": {
          "base_uri": "https://localhost:8080/"
        },
        "id": "wu8fuoY9Qb2t",
        "outputId": "9156a48e-c273-4aeb-878a-77407bf6548a"
      },
      "source": [
        "!kaggle datasets download -d stefanoleone992/imdb-extensive-dataset"
      ],
      "execution_count": 43,
      "outputs": [
        {
          "output_type": "stream",
          "text": [
            "Downloading imdb-extensive-dataset.zip to /content\n",
            " 98% 81.0M/82.3M [00:00<00:00, 87.5MB/s]\n",
            "100% 82.3M/82.3M [00:00<00:00, 105MB/s] \n"
          ],
          "name": "stdout"
        }
      ]
    },
    {
      "cell_type": "code",
      "metadata": {
        "id": "lPoPJQ06a-0w"
      },
      "source": [
        "!unzip -q imdb-extensive-dataset.zip -d [netflix]"
      ],
      "execution_count": 44,
      "outputs": []
    },
    {
      "cell_type": "code",
      "metadata": {
        "colab": {
          "base_uri": "https://localhost:8080/"
        },
        "id": "dqqUSfiJQ-oQ",
        "outputId": "b964b772-1cec-4844-f23a-f5fd6ba77650"
      },
      "source": [
        "imdb_movies = pd.read_csv('/content/[netflix]/IMDb movies.csv')"
      ],
      "execution_count": 49,
      "outputs": [
        {
          "output_type": "stream",
          "text": [
            "/usr/local/lib/python3.7/dist-packages/IPython/core/interactiveshell.py:2718: DtypeWarning: Columns (3) have mixed types.Specify dtype option on import or set low_memory=False.\n",
            "  interactivity=interactivity, compiler=compiler, result=result)\n"
          ],
          "name": "stderr"
        }
      ]
    },
    {
      "cell_type": "code",
      "metadata": {
        "id": "3vcqSTlGMnL8",
        "colab": {
          "base_uri": "https://localhost:8080/",
          "height": 666
        },
        "outputId": "08d191e1-b1b9-46df-d5c8-e75a8236dcb0"
      },
      "source": [
        "imdb_movies.head()"
      ],
      "execution_count": null,
      "outputs": [
        {
          "output_type": "execute_result",
          "data": {
            "text/html": [
              "<div>\n",
              "<style scoped>\n",
              "    .dataframe tbody tr th:only-of-type {\n",
              "        vertical-align: middle;\n",
              "    }\n",
              "\n",
              "    .dataframe tbody tr th {\n",
              "        vertical-align: top;\n",
              "    }\n",
              "\n",
              "    .dataframe thead th {\n",
              "        text-align: right;\n",
              "    }\n",
              "</style>\n",
              "<table border=\"1\" class=\"dataframe\">\n",
              "  <thead>\n",
              "    <tr style=\"text-align: right;\">\n",
              "      <th></th>\n",
              "      <th>imdb_title_id</th>\n",
              "      <th>title</th>\n",
              "      <th>original_title</th>\n",
              "      <th>year</th>\n",
              "      <th>date_published</th>\n",
              "      <th>genre</th>\n",
              "      <th>duration</th>\n",
              "      <th>country</th>\n",
              "      <th>language</th>\n",
              "      <th>director</th>\n",
              "      <th>writer</th>\n",
              "      <th>production_company</th>\n",
              "      <th>actors</th>\n",
              "      <th>description</th>\n",
              "      <th>avg_vote</th>\n",
              "      <th>votes</th>\n",
              "      <th>budget</th>\n",
              "      <th>usa_gross_income</th>\n",
              "      <th>worlwide_gross_income</th>\n",
              "      <th>metascore</th>\n",
              "      <th>reviews_from_users</th>\n",
              "      <th>reviews_from_critics</th>\n",
              "    </tr>\n",
              "  </thead>\n",
              "  <tbody>\n",
              "    <tr>\n",
              "      <th>0</th>\n",
              "      <td>tt0000009</td>\n",
              "      <td>Miss Jerry</td>\n",
              "      <td>Miss Jerry</td>\n",
              "      <td>1894</td>\n",
              "      <td>1894-10-09</td>\n",
              "      <td>Romance</td>\n",
              "      <td>45</td>\n",
              "      <td>USA</td>\n",
              "      <td>None</td>\n",
              "      <td>Alexander Black</td>\n",
              "      <td>Alexander Black</td>\n",
              "      <td>Alexander Black Photoplays</td>\n",
              "      <td>Blanche Bayliss, William Courtenay, Chauncey D...</td>\n",
              "      <td>The adventures of a female reporter in the 1890s.</td>\n",
              "      <td>5.9</td>\n",
              "      <td>154</td>\n",
              "      <td>NaN</td>\n",
              "      <td>NaN</td>\n",
              "      <td>NaN</td>\n",
              "      <td>NaN</td>\n",
              "      <td>1.0</td>\n",
              "      <td>2.0</td>\n",
              "    </tr>\n",
              "    <tr>\n",
              "      <th>1</th>\n",
              "      <td>tt0000574</td>\n",
              "      <td>The Story of the Kelly Gang</td>\n",
              "      <td>The Story of the Kelly Gang</td>\n",
              "      <td>1906</td>\n",
              "      <td>1906-12-26</td>\n",
              "      <td>Biography, Crime, Drama</td>\n",
              "      <td>70</td>\n",
              "      <td>Australia</td>\n",
              "      <td>None</td>\n",
              "      <td>Charles Tait</td>\n",
              "      <td>Charles Tait</td>\n",
              "      <td>J. and N. Tait</td>\n",
              "      <td>Elizabeth Tait, John Tait, Norman Campbell, Be...</td>\n",
              "      <td>True story of notorious Australian outlaw Ned ...</td>\n",
              "      <td>6.1</td>\n",
              "      <td>589</td>\n",
              "      <td>$ 2250</td>\n",
              "      <td>NaN</td>\n",
              "      <td>NaN</td>\n",
              "      <td>NaN</td>\n",
              "      <td>7.0</td>\n",
              "      <td>7.0</td>\n",
              "    </tr>\n",
              "    <tr>\n",
              "      <th>2</th>\n",
              "      <td>tt0001892</td>\n",
              "      <td>Den sorte drøm</td>\n",
              "      <td>Den sorte drøm</td>\n",
              "      <td>1911</td>\n",
              "      <td>1911-08-19</td>\n",
              "      <td>Drama</td>\n",
              "      <td>53</td>\n",
              "      <td>Germany, Denmark</td>\n",
              "      <td>NaN</td>\n",
              "      <td>Urban Gad</td>\n",
              "      <td>Urban Gad, Gebhard Schätzler-Perasini</td>\n",
              "      <td>Fotorama</td>\n",
              "      <td>Asta Nielsen, Valdemar Psilander, Gunnar Helse...</td>\n",
              "      <td>Two men of high rank are both wooing the beaut...</td>\n",
              "      <td>5.8</td>\n",
              "      <td>188</td>\n",
              "      <td>NaN</td>\n",
              "      <td>NaN</td>\n",
              "      <td>NaN</td>\n",
              "      <td>NaN</td>\n",
              "      <td>5.0</td>\n",
              "      <td>2.0</td>\n",
              "    </tr>\n",
              "    <tr>\n",
              "      <th>3</th>\n",
              "      <td>tt0002101</td>\n",
              "      <td>Cleopatra</td>\n",
              "      <td>Cleopatra</td>\n",
              "      <td>1912</td>\n",
              "      <td>1912-11-13</td>\n",
              "      <td>Drama, History</td>\n",
              "      <td>100</td>\n",
              "      <td>USA</td>\n",
              "      <td>English</td>\n",
              "      <td>Charles L. Gaskill</td>\n",
              "      <td>Victorien Sardou</td>\n",
              "      <td>Helen Gardner Picture Players</td>\n",
              "      <td>Helen Gardner, Pearl Sindelar, Miss Fielding, ...</td>\n",
              "      <td>The fabled queen of Egypt's affair with Roman ...</td>\n",
              "      <td>5.2</td>\n",
              "      <td>446</td>\n",
              "      <td>$ 45000</td>\n",
              "      <td>NaN</td>\n",
              "      <td>NaN</td>\n",
              "      <td>NaN</td>\n",
              "      <td>25.0</td>\n",
              "      <td>3.0</td>\n",
              "    </tr>\n",
              "    <tr>\n",
              "      <th>4</th>\n",
              "      <td>tt0002130</td>\n",
              "      <td>L'Inferno</td>\n",
              "      <td>L'Inferno</td>\n",
              "      <td>1911</td>\n",
              "      <td>1911-03-06</td>\n",
              "      <td>Adventure, Drama, Fantasy</td>\n",
              "      <td>68</td>\n",
              "      <td>Italy</td>\n",
              "      <td>Italian</td>\n",
              "      <td>Francesco Bertolini, Adolfo Padovan</td>\n",
              "      <td>Dante Alighieri</td>\n",
              "      <td>Milano Film</td>\n",
              "      <td>Salvatore Papa, Arturo Pirovano, Giuseppe de L...</td>\n",
              "      <td>Loosely adapted from Dante's Divine Comedy and...</td>\n",
              "      <td>7.0</td>\n",
              "      <td>2237</td>\n",
              "      <td>NaN</td>\n",
              "      <td>NaN</td>\n",
              "      <td>NaN</td>\n",
              "      <td>NaN</td>\n",
              "      <td>31.0</td>\n",
              "      <td>14.0</td>\n",
              "    </tr>\n",
              "  </tbody>\n",
              "</table>\n",
              "</div>"
            ],
            "text/plain": [
              "  imdb_title_id  ... reviews_from_critics\n",
              "0     tt0000009  ...                  2.0\n",
              "1     tt0000574  ...                  7.0\n",
              "2     tt0001892  ...                  2.0\n",
              "3     tt0002101  ...                  3.0\n",
              "4     tt0002130  ...                 14.0\n",
              "\n",
              "[5 rows x 22 columns]"
            ]
          },
          "metadata": {
            "tags": []
          },
          "execution_count": 9
        }
      ]
    },
    {
      "cell_type": "code",
      "metadata": {
        "id": "7w8lBzLteXAP",
        "colab": {
          "base_uri": "https://localhost:8080/"
        },
        "outputId": "fb6b7e7f-9c43-4b1d-d829-d921ec03cb0e"
      },
      "source": [
        "imdb_movies.columns"
      ],
      "execution_count": null,
      "outputs": [
        {
          "output_type": "execute_result",
          "data": {
            "text/plain": [
              "Index(['imdb_title_id', 'title', 'original_title', 'year', 'date_published',\n",
              "       'genre', 'duration', 'country', 'language', 'director', 'writer',\n",
              "       'production_company', 'actors', 'description', 'avg_vote', 'votes',\n",
              "       'budget', 'usa_gross_income', 'worlwide_gross_income', 'metascore',\n",
              "       'reviews_from_users', 'reviews_from_critics'],\n",
              "      dtype='object')"
            ]
          },
          "metadata": {
            "tags": []
          },
          "execution_count": 10
        }
      ]
    },
    {
      "cell_type": "markdown",
      "metadata": {
        "id": "o4jpNnrJj-Bf"
      },
      "source": [
        "##Czyszczenie danych\n"
      ]
    },
    {
      "cell_type": "markdown",
      "metadata": {
        "id": "tJDGVkPHV_rp"
      },
      "source": [
        "###zamiana wiersza z TV movie 2019 na 2019\n",
        "dtypes z object na właściwe\n",
        "NaN??\n",
        "gatunki zamiana ze stringa na listy tagów - TUTAJ?"
      ]
    },
    {
      "cell_type": "code",
      "metadata": {
        "id": "siW3H3i_a3iP",
        "colab": {
          "base_uri": "https://localhost:8080/"
        },
        "outputId": "0b614871-17a4-41f2-8fda-f097813de937"
      },
      "source": [
        "imdb_movies.dtypes"
      ],
      "execution_count": null,
      "outputs": [
        {
          "output_type": "execute_result",
          "data": {
            "text/plain": [
              "imdb_title_id             object\n",
              "title                     object\n",
              "original_title            object\n",
              "year                      object\n",
              "date_published            object\n",
              "genre                     object\n",
              "duration                   int64\n",
              "country                   object\n",
              "language                  object\n",
              "director                  object\n",
              "writer                    object\n",
              "production_company        object\n",
              "actors                    object\n",
              "description               object\n",
              "avg_vote                 float64\n",
              "votes                      int64\n",
              "budget                    object\n",
              "usa_gross_income          object\n",
              "worlwide_gross_income     object\n",
              "metascore                float64\n",
              "reviews_from_users       float64\n",
              "reviews_from_critics     float64\n",
              "dtype: object"
            ]
          },
          "metadata": {
            "tags": []
          },
          "execution_count": 11
        }
      ]
    },
    {
      "cell_type": "code",
      "metadata": {
        "id": "KVsQDllESnRq",
        "colab": {
          "base_uri": "https://localhost:8080/",
          "height": 202
        },
        "outputId": "aa7e4521-e881-4d36-9a9a-fe8951b145ff"
      },
      "source": [
        "imdb_movies[imdb_movies.year == 'TV Movie 2019']"
      ],
      "execution_count": null,
      "outputs": [
        {
          "output_type": "execute_result",
          "data": {
            "text/html": [
              "<div>\n",
              "<style scoped>\n",
              "    .dataframe tbody tr th:only-of-type {\n",
              "        vertical-align: middle;\n",
              "    }\n",
              "\n",
              "    .dataframe tbody tr th {\n",
              "        vertical-align: top;\n",
              "    }\n",
              "\n",
              "    .dataframe thead th {\n",
              "        text-align: right;\n",
              "    }\n",
              "</style>\n",
              "<table border=\"1\" class=\"dataframe\">\n",
              "  <thead>\n",
              "    <tr style=\"text-align: right;\">\n",
              "      <th></th>\n",
              "      <th>imdb_title_id</th>\n",
              "      <th>title</th>\n",
              "      <th>original_title</th>\n",
              "      <th>year</th>\n",
              "      <th>date_published</th>\n",
              "      <th>genre</th>\n",
              "      <th>duration</th>\n",
              "      <th>country</th>\n",
              "      <th>language</th>\n",
              "      <th>director</th>\n",
              "      <th>writer</th>\n",
              "      <th>production_company</th>\n",
              "      <th>actors</th>\n",
              "      <th>description</th>\n",
              "      <th>avg_vote</th>\n",
              "      <th>votes</th>\n",
              "      <th>budget</th>\n",
              "      <th>usa_gross_income</th>\n",
              "      <th>worlwide_gross_income</th>\n",
              "      <th>metascore</th>\n",
              "      <th>reviews_from_users</th>\n",
              "      <th>reviews_from_critics</th>\n",
              "    </tr>\n",
              "  </thead>\n",
              "  <tbody>\n",
              "    <tr>\n",
              "      <th>83917</th>\n",
              "      <td>tt8206668</td>\n",
              "      <td>Bad Education</td>\n",
              "      <td>Bad Education</td>\n",
              "      <td>TV Movie 2019</td>\n",
              "      <td>TV Movie 2019</td>\n",
              "      <td>Biography, Comedy, Crime</td>\n",
              "      <td>108</td>\n",
              "      <td>USA</td>\n",
              "      <td>English</td>\n",
              "      <td>Cory Finley</td>\n",
              "      <td>Mike Makowsky, Robert Kolker</td>\n",
              "      <td>HBO Films</td>\n",
              "      <td>Hugh Jackman, Ray Romano, Welker White, Alliso...</td>\n",
              "      <td>The beloved superintendent of New York's Rosly...</td>\n",
              "      <td>7.1</td>\n",
              "      <td>23973</td>\n",
              "      <td>NaN</td>\n",
              "      <td>NaN</td>\n",
              "      <td>NaN</td>\n",
              "      <td>79.0</td>\n",
              "      <td>135.0</td>\n",
              "      <td>98.0</td>\n",
              "    </tr>\n",
              "  </tbody>\n",
              "</table>\n",
              "</div>"
            ],
            "text/plain": [
              "      imdb_title_id          title  ... reviews_from_users reviews_from_critics\n",
              "83917     tt8206668  Bad Education  ...              135.0                 98.0\n",
              "\n",
              "[1 rows x 22 columns]"
            ]
          },
          "metadata": {
            "tags": []
          },
          "execution_count": 12
        }
      ]
    },
    {
      "cell_type": "code",
      "metadata": {
        "id": "QOdsNCNdfb2L",
        "colab": {
          "base_uri": "https://localhost:8080/"
        },
        "outputId": "409f6ece-b458-403d-b57c-3909134f0db2"
      },
      "source": [
        "imdb_movies.loc[83917, 'year'] = 2019\n",
        "imdb_movies.year = imdb_movies.year.astype('int')\n",
        "imdb_movies.dtypes"
      ],
      "execution_count": null,
      "outputs": [
        {
          "output_type": "execute_result",
          "data": {
            "text/plain": [
              "imdb_title_id             object\n",
              "title                     object\n",
              "original_title            object\n",
              "year                       int64\n",
              "date_published            object\n",
              "genre                     object\n",
              "duration                   int64\n",
              "country                   object\n",
              "language                  object\n",
              "director                  object\n",
              "writer                    object\n",
              "production_company        object\n",
              "actors                    object\n",
              "description               object\n",
              "avg_vote                 float64\n",
              "votes                      int64\n",
              "budget                    object\n",
              "usa_gross_income          object\n",
              "worlwide_gross_income     object\n",
              "metascore                float64\n",
              "reviews_from_users       float64\n",
              "reviews_from_critics     float64\n",
              "dtype: object"
            ]
          },
          "metadata": {
            "tags": []
          },
          "execution_count": 13
        }
      ]
    },
    {
      "cell_type": "markdown",
      "metadata": {
        "id": "DtaS3d_XWRwi"
      },
      "source": [
        "###Wyczyszenie kolumn dotyczących dochodu - worlwide_gross_income - object z NaN, dodatkowo nazwa waluty przy kwotach"
      ]
    },
    {
      "cell_type": "code",
      "metadata": {
        "colab": {
          "base_uri": "https://localhost:8080/"
        },
        "id": "Dwq-SZAFV2U4",
        "outputId": "0c22d46c-d5a8-4548-8bc1-4e725e4547c3"
      },
      "source": [
        "imdb_movies['worlwide_gross_income']"
      ],
      "execution_count": null,
      "outputs": [
        {
          "output_type": "execute_result",
          "data": {
            "text/plain": [
              "0              NaN\n",
              "1              NaN\n",
              "2              NaN\n",
              "3              NaN\n",
              "4              NaN\n",
              "           ...    \n",
              "85850    $ 3507171\n",
              "85851    $ 7299062\n",
              "85852          NaN\n",
              "85853       $ 2833\n",
              "85854      $ 59794\n",
              "Name: worlwide_gross_income, Length: 85855, dtype: object"
            ]
          },
          "metadata": {
            "tags": []
          },
          "execution_count": 14
        }
      ]
    },
    {
      "cell_type": "code",
      "metadata": {
        "id": "ajo5gCTlV2VK"
      },
      "source": [
        "#Wyczyszczenie NaN\n",
        "imdb_movies['worlwide_gross_income'].replace(np.nan, '$ 0', inplace=True)"
      ],
      "execution_count": null,
      "outputs": []
    },
    {
      "cell_type": "code",
      "metadata": {
        "id": "Yfn1-U3TV2VL"
      },
      "source": [
        "#poprzez split oddzielenie waluty od wartości\n",
        "imdb_movies['worlwide_gross_income']=imdb_movies['worlwide_gross_income'].apply(lambda x: x.split())\n"
      ],
      "execution_count": null,
      "outputs": []
    },
    {
      "cell_type": "code",
      "metadata": {
        "id": "u_Wz4q6WV2VL"
      },
      "source": [
        "#Wydzielenie walut do osobnej kolumny\n",
        "imdb_movies['currency_for_wwincome']=imdb_movies['worlwide_gross_income'].apply(lambda x: x[0])"
      ],
      "execution_count": null,
      "outputs": []
    },
    {
      "cell_type": "code",
      "metadata": {
        "colab": {
          "base_uri": "https://localhost:8080/"
        },
        "id": "-7RiI3h1V2VL",
        "outputId": "5067653d-a368-4b78-f8e8-84ff12b43e92"
      },
      "source": [
        "#Waluty występujące w worlwide gross income\n",
        "imdb_movies['currency_for_wwincome'].unique()"
      ],
      "execution_count": null,
      "outputs": [
        {
          "output_type": "execute_result",
          "data": {
            "text/plain": [
              "array(['$', 'GBP', 'INR', 'NPR', 'PKR'], dtype=object)"
            ]
          },
          "metadata": {
            "tags": []
          },
          "execution_count": 18
        }
      ]
    },
    {
      "cell_type": "code",
      "metadata": {
        "id": "ptVlnHQoV2VM"
      },
      "source": [
        "#kolumna z worlwide gross income tylko z wartościami\n",
        "imdb_movies['worlwide_gross_income']=imdb_movies['worlwide_gross_income'].apply(lambda x: x[1])"
      ],
      "execution_count": null,
      "outputs": []
    },
    {
      "cell_type": "code",
      "metadata": {
        "id": "-si49rq7V2VM"
      },
      "source": [
        "#zmiana stringów na int\n",
        "imdb_movies['worlwide_gross_income']=imdb_movies['worlwide_gross_income'].astype(int)"
      ],
      "execution_count": null,
      "outputs": []
    },
    {
      "cell_type": "code",
      "metadata": {
        "id": "k4LVwiKUV2VN"
      },
      "source": [
        "#zmiana typu z obj na int\n",
        "imdb_movies['worlwide_gross_income'] =imdb_movies['worlwide_gross_income'].astype(int)"
      ],
      "execution_count": null,
      "outputs": []
    },
    {
      "cell_type": "code",
      "metadata": {
        "colab": {
          "base_uri": "https://localhost:8080/"
        },
        "id": "FfhgermkV2VN",
        "outputId": "abe38ed0-729c-4e7d-af35-534e6487cd2f"
      },
      "source": [
        "imdb_movies['worlwide_gross_income']"
      ],
      "execution_count": null,
      "outputs": [
        {
          "output_type": "execute_result",
          "data": {
            "text/plain": [
              "0              0\n",
              "1              0\n",
              "2              0\n",
              "3              0\n",
              "4              0\n",
              "          ...   \n",
              "85850    3507171\n",
              "85851    7299062\n",
              "85852          0\n",
              "85853       2833\n",
              "85854      59794\n",
              "Name: worlwide_gross_income, Length: 85855, dtype: int64"
            ]
          },
          "metadata": {
            "tags": []
          },
          "execution_count": 22
        }
      ]
    },
    {
      "cell_type": "code",
      "metadata": {
        "colab": {
          "base_uri": "https://localhost:8080/"
        },
        "id": "U-eRFL92W5Iz",
        "outputId": "6e4d65ab-d523-428c-ead5-0f1b2306c855"
      },
      "source": [
        "imdb_movies['currency_for_wwincome']"
      ],
      "execution_count": null,
      "outputs": [
        {
          "output_type": "execute_result",
          "data": {
            "text/plain": [
              "0        $\n",
              "1        $\n",
              "2        $\n",
              "3        $\n",
              "4        $\n",
              "        ..\n",
              "85850    $\n",
              "85851    $\n",
              "85852    $\n",
              "85853    $\n",
              "85854    $\n",
              "Name: currency_for_wwincome, Length: 85855, dtype: object"
            ]
          },
          "metadata": {
            "tags": []
          },
          "execution_count": 23
        }
      ]
    },
    {
      "cell_type": "markdown",
      "metadata": {
        "id": "6YHoIgqEYx_l"
      },
      "source": [
        "###Wyczyszczenie kolumn dotyczących dochodu w USA - USA_gross_income - object z NaN, nazwy waluty przy kwotach\n"
      ]
    },
    {
      "cell_type": "code",
      "metadata": {
        "colab": {
          "base_uri": "https://localhost:8080/"
        },
        "id": "YURsabnCZBNv",
        "outputId": "ee8407cf-b279-49a3-b237-8883e6aec26d"
      },
      "source": [
        "imdb_movies['usa_gross_income']"
      ],
      "execution_count": null,
      "outputs": [
        {
          "output_type": "execute_result",
          "data": {
            "text/plain": [
              "0        NaN\n",
              "1        NaN\n",
              "2        NaN\n",
              "3        NaN\n",
              "4        NaN\n",
              "        ... \n",
              "85850    NaN\n",
              "85851    NaN\n",
              "85852    NaN\n",
              "85853    NaN\n",
              "85854    NaN\n",
              "Name: usa_gross_income, Length: 85855, dtype: object"
            ]
          },
          "metadata": {
            "tags": []
          },
          "execution_count": 24
        }
      ]
    },
    {
      "cell_type": "code",
      "metadata": {
        "id": "Yki8zop9ZBN9"
      },
      "source": [
        "#Wyczyszczenie NaN\n",
        "imdb_movies['usa_gross_income'].replace(np.nan, '$ 0', inplace=True)"
      ],
      "execution_count": null,
      "outputs": []
    },
    {
      "cell_type": "code",
      "metadata": {
        "id": "DYhtCidNZBN9"
      },
      "source": [
        "#poprzez split oddzielenie waluty od wartości\n",
        "imdb_movies['usa_gross_income']=imdb_movies['usa_gross_income'].apply(lambda x: x.split())\n"
      ],
      "execution_count": null,
      "outputs": []
    },
    {
      "cell_type": "code",
      "metadata": {
        "id": "4mAhgysEZBN-"
      },
      "source": [
        "#Wydzielenie walut do osobnej kolumny\n",
        "imdb_movies['currency_for_usaincome']=imdb_movies['usa_gross_income'].apply(lambda x: x[0])"
      ],
      "execution_count": null,
      "outputs": []
    },
    {
      "cell_type": "code",
      "metadata": {
        "colab": {
          "base_uri": "https://localhost:8080/"
        },
        "id": "0ljIfOeIZBN-",
        "outputId": "1c71b077-6f5a-49c1-d43a-269839ba219e"
      },
      "source": [
        "#Waluty występujące w USA gross income\n",
        "imdb_movies['currency_for_usaincome'].unique()"
      ],
      "execution_count": null,
      "outputs": [
        {
          "output_type": "execute_result",
          "data": {
            "text/plain": [
              "array(['$', 'EUR', 'GBP', 'HKD'], dtype=object)"
            ]
          },
          "metadata": {
            "tags": []
          },
          "execution_count": 28
        }
      ]
    },
    {
      "cell_type": "code",
      "metadata": {
        "id": "bUF04I1WZBN_"
      },
      "source": [
        "#kolumna z USA gross income tylko z wartościami\n",
        "imdb_movies['usa_gross_income']=imdb_movies['usa_gross_income'].apply(lambda x: x[1])"
      ],
      "execution_count": null,
      "outputs": []
    },
    {
      "cell_type": "code",
      "metadata": {
        "id": "sIuj3Ox1ZBN_"
      },
      "source": [
        "#zmiana stringów na int\n",
        "imdb_movies['usa_gross_income']=imdb_movies['usa_gross_income'].astype(int)"
      ],
      "execution_count": null,
      "outputs": []
    },
    {
      "cell_type": "code",
      "metadata": {
        "id": "6Pj0WhegZBOA"
      },
      "source": [
        "#zmiana typu z obj na int\n",
        "imdb_movies['usa_gross_income'] =imdb_movies['usa_gross_income'].astype(int)"
      ],
      "execution_count": null,
      "outputs": []
    },
    {
      "cell_type": "code",
      "metadata": {
        "colab": {
          "base_uri": "https://localhost:8080/"
        },
        "id": "DPpbGq5kZBOA",
        "outputId": "c62b3a62-8e05-4d65-bbaf-f369200c1f0c"
      },
      "source": [
        "imdb_movies['usa_gross_income']"
      ],
      "execution_count": null,
      "outputs": [
        {
          "output_type": "execute_result",
          "data": {
            "text/plain": [
              "0        0\n",
              "1        0\n",
              "2        0\n",
              "3        0\n",
              "4        0\n",
              "        ..\n",
              "85850    0\n",
              "85851    0\n",
              "85852    0\n",
              "85853    0\n",
              "85854    0\n",
              "Name: usa_gross_income, Length: 85855, dtype: int64"
            ]
          },
          "metadata": {
            "tags": []
          },
          "execution_count": 32
        }
      ]
    },
    {
      "cell_type": "code",
      "metadata": {
        "colab": {
          "base_uri": "https://localhost:8080/"
        },
        "id": "fytuOJ4TZbF_",
        "outputId": "641e816e-1efb-42a5-eed9-9d35d4507db0"
      },
      "source": [
        "imdb_movies['currency_for_usaincome']"
      ],
      "execution_count": null,
      "outputs": [
        {
          "output_type": "execute_result",
          "data": {
            "text/plain": [
              "0        $\n",
              "1        $\n",
              "2        $\n",
              "3        $\n",
              "4        $\n",
              "        ..\n",
              "85850    $\n",
              "85851    $\n",
              "85852    $\n",
              "85853    $\n",
              "85854    $\n",
              "Name: currency_for_usaincome, Length: 85855, dtype: object"
            ]
          },
          "metadata": {
            "tags": []
          },
          "execution_count": 33
        }
      ]
    },
    {
      "cell_type": "markdown",
      "metadata": {
        "id": "ztd-DpwRaFJF"
      },
      "source": [
        "###Wyczyszczenie kolumn dotyczących budżetu filmów - budget - obj z NaN, waluty przy wartościach"
      ]
    },
    {
      "cell_type": "code",
      "metadata": {
        "colab": {
          "base_uri": "https://localhost:8080/"
        },
        "id": "VoB_3YB2aMz0",
        "outputId": "9a685dd0-bf90-4147-ca8d-df193c73c582"
      },
      "source": [
        "imdb_movies['budget']"
      ],
      "execution_count": null,
      "outputs": [
        {
          "output_type": "execute_result",
          "data": {
            "text/plain": [
              "0            NaN\n",
              "1         $ 2250\n",
              "2            NaN\n",
              "3        $ 45000\n",
              "4            NaN\n",
              "          ...   \n",
              "85850        NaN\n",
              "85851        NaN\n",
              "85852        NaN\n",
              "85853        NaN\n",
              "85854        NaN\n",
              "Name: budget, Length: 85855, dtype: object"
            ]
          },
          "metadata": {
            "tags": []
          },
          "execution_count": 34
        }
      ]
    },
    {
      "cell_type": "code",
      "metadata": {
        "id": "oZ-8GrQDaM0A"
      },
      "source": [
        "#Wyczyszczenie NaN\n",
        "imdb_movies['budget'].replace(np.nan, '$ 0', inplace=True)"
      ],
      "execution_count": null,
      "outputs": []
    },
    {
      "cell_type": "code",
      "metadata": {
        "id": "bcVlgbuXaM0B"
      },
      "source": [
        "#poprzez split oddzielenie waluty od wartości\n",
        "imdb_movies['budget']=imdb_movies['budget'].apply(lambda x: x.split())\n"
      ],
      "execution_count": null,
      "outputs": []
    },
    {
      "cell_type": "code",
      "metadata": {
        "id": "jWVRO-iwaM0B"
      },
      "source": [
        "#Wydzielenie walut do osobnej kolumny\n",
        "imdb_movies['currency_for_budget']=imdb_movies['budget'].apply(lambda x: x[0])"
      ],
      "execution_count": null,
      "outputs": []
    },
    {
      "cell_type": "code",
      "metadata": {
        "colab": {
          "base_uri": "https://localhost:8080/"
        },
        "id": "Kbsd07QSaM0B",
        "outputId": "ddf88b93-6336-4aab-aa60-48509e5c2da6"
      },
      "source": [
        "#Waluty występujące w budget\n",
        "imdb_movies['currency_for_budget'].unique()"
      ],
      "execution_count": null,
      "outputs": [
        {
          "output_type": "execute_result",
          "data": {
            "text/plain": [
              "array(['$', 'ITL', 'ROL', 'SEK', 'FRF', 'NOK', 'GBP', 'DEM', 'PTE', 'FIM',\n",
              "       'CAD', 'INR', 'CHF', 'ESP', 'JPY', 'DKK', 'NLG', 'PLN', 'RUR',\n",
              "       'AUD', 'KRW', 'BEF', 'XAU', 'HKD', 'NZD', 'CNY', 'EUR', 'PYG',\n",
              "       'ISK', 'IEP', 'TRL', 'HRK', 'SIT', 'PHP', 'HUF', 'DOP', 'JMD',\n",
              "       'CZK', 'SGD', 'BRL', 'BDT', 'ATS', 'BND', 'EGP', 'THB', 'GRD',\n",
              "       'ZAR', 'NPR', 'IDR', 'PKR', 'MXN', 'BGL', 'EEK', 'YUM', 'MYR',\n",
              "       'IRR', 'CLP', 'SKK', 'LTL', 'TWD', 'MTL', 'LVL', 'COP', 'ARS',\n",
              "       'UAH', 'RON', 'ALL', 'NGN', 'ILS', 'VEB', 'VND', 'TTD', 'JOD',\n",
              "       'LKR', 'GEL', 'MNT', 'AZM', 'AMD', 'AED'], dtype=object)"
            ]
          },
          "metadata": {
            "tags": []
          },
          "execution_count": 38
        }
      ]
    },
    {
      "cell_type": "code",
      "metadata": {
        "id": "d6Fyj6CHaM0C"
      },
      "source": [
        "#kolumna z budget tylko z wartościami\n",
        "imdb_movies['budget']=imdb_movies['budget'].apply(lambda x: x[1])"
      ],
      "execution_count": null,
      "outputs": []
    },
    {
      "cell_type": "code",
      "metadata": {
        "id": "MLqXraDPaM0C"
      },
      "source": [
        "#zmiana stringów na int\n",
        "imdb_movies['budget']=imdb_movies['budget'].astype(int)"
      ],
      "execution_count": null,
      "outputs": []
    },
    {
      "cell_type": "code",
      "metadata": {
        "id": "1A-lHlXmaM0D"
      },
      "source": [
        "#zmiana typu z obj na int\n",
        "imdb_movies['budget'] =imdb_movies['budget'].astype(int)"
      ],
      "execution_count": null,
      "outputs": []
    },
    {
      "cell_type": "code",
      "metadata": {
        "colab": {
          "base_uri": "https://localhost:8080/"
        },
        "id": "bM8nL69TaM0D",
        "outputId": "3837931c-1996-4199-9c85-c7d30ba07dc4"
      },
      "source": [
        "imdb_movies['budget']"
      ],
      "execution_count": null,
      "outputs": [
        {
          "output_type": "execute_result",
          "data": {
            "text/plain": [
              "0            0\n",
              "1         2250\n",
              "2            0\n",
              "3        45000\n",
              "4            0\n",
              "         ...  \n",
              "85850        0\n",
              "85851        0\n",
              "85852        0\n",
              "85853        0\n",
              "85854        0\n",
              "Name: budget, Length: 85855, dtype: int64"
            ]
          },
          "metadata": {
            "tags": []
          },
          "execution_count": 42
        }
      ]
    },
    {
      "cell_type": "code",
      "metadata": {
        "colab": {
          "base_uri": "https://localhost:8080/"
        },
        "id": "WdbYMttfam6T",
        "outputId": "de1cde81-795c-47df-adbb-4db4bd5970f6"
      },
      "source": [
        "imdb_movies['currency_for_budget']"
      ],
      "execution_count": null,
      "outputs": [
        {
          "output_type": "execute_result",
          "data": {
            "text/plain": [
              "0        $\n",
              "1        $\n",
              "2        $\n",
              "3        $\n",
              "4        $\n",
              "        ..\n",
              "85850    $\n",
              "85851    $\n",
              "85852    $\n",
              "85853    $\n",
              "85854    $\n",
              "Name: currency_for_budget, Length: 85855, dtype: object"
            ]
          },
          "metadata": {
            "tags": []
          },
          "execution_count": 43
        }
      ]
    },
    {
      "cell_type": "markdown",
      "metadata": {
        "id": "ijFglCM0r73b"
      },
      "source": [
        "# Jak przez lata zmieniała się liczba wydawanych filmów? - Ewa"
      ]
    },
    {
      "cell_type": "code",
      "metadata": {
        "id": "vABCL5oDSef9"
      },
      "source": [
        "imdb_movies.groupby('year').imdb_title_id.count()"
      ],
      "execution_count": null,
      "outputs": []
    },
    {
      "cell_type": "code",
      "metadata": {
        "id": "A2QdjzSrFjYz"
      },
      "source": [
        "data_year_plot = imdb_movies.groupby('year').imdb_title_id.count()\n",
        "data_year_plot.tail(20)"
      ],
      "execution_count": null,
      "outputs": []
    },
    {
      "cell_type": "markdown",
      "metadata": {
        "id": "baWIdfnkFJ6g"
      },
      "source": [
        "## Lata 1894-2020"
      ]
    },
    {
      "cell_type": "code",
      "metadata": {
        "id": "_jrIez2bI9-u",
        "colab": {
          "base_uri": "https://localhost:8080/",
          "height": 279
        },
        "outputId": "e51ee4c7-1044-4a97-f75f-f256b601939c"
      },
      "source": [
        "data_year_plot.plot()\n",
        "plt.show()"
      ],
      "execution_count": null,
      "outputs": [
        {
          "output_type": "display_data",
          "data": {
            "image/png": "[encoded data removed]",
            "text/plain": [
              "<Figure size 432x288 with 1 Axes>"
            ]
          },
          "metadata": {
            "tags": [],
            "needs_background": "light"
          }
        }
      ]
    },
    {
      "cell_type": "markdown",
      "metadata": {
        "id": "oesd2B1UIYJn"
      },
      "source": [
        "## Lata 1894-2009"
      ]
    },
    {
      "cell_type": "code",
      "metadata": {
        "id": "kTgraRHUPsGe",
        "colab": {
          "base_uri": "https://localhost:8080/",
          "height": 296
        },
        "outputId": "54723381-4e4a-4153-8efe-5c798dc88528"
      },
      "source": [
        "data_year_plot_to2009 = imdb_movies[imdb_movies.year <= 2009].groupby('year').imdb_title_id.count()\n",
        "data_year_plot_to2009.plot()"
      ],
      "execution_count": null,
      "outputs": [
        {
          "output_type": "execute_result",
          "data": {
            "text/plain": [
              "<matplotlib.axes._subplots.AxesSubplot at 0x7fd10a51ae90>"
            ]
          },
          "metadata": {
            "tags": []
          },
          "execution_count": 47
        },
        {
          "output_type": "display_data",
          "data": {
            "image/png": "[encoded data removed]",
            "text/plain": [
              "<Figure size 432x288 with 1 Axes>"
            ]
          },
          "metadata": {
            "tags": [],
            "needs_background": "light"
          }
        }
      ]
    },
    {
      "cell_type": "markdown",
      "metadata": {
        "id": "H2wsMikdImSP"
      },
      "source": [
        "## Lata 2005-2019"
      ]
    },
    {
      "cell_type": "code",
      "metadata": {
        "colab": {
          "base_uri": "https://localhost:8080/",
          "height": 300
        },
        "id": "KJdUY-bQWJ-u",
        "outputId": "ff03ce65-cfea-4550-956c-a2e1ca54775b"
      },
      "source": [
        "#Wykres bez roku 2020, ze względu na niepełne dane\n",
        "data_year_plot_from2004_to2019 = imdb_movies[(imdb_movies.year > 2004) & (imdb_movies.year<2020)].groupby('year').imdb_title_id.count()\n",
        "data_year_plot_from2004_to2019.plot()"
      ],
      "execution_count": null,
      "outputs": [
        {
          "output_type": "execute_result",
          "data": {
            "text/plain": [
              "<matplotlib.axes._subplots.AxesSubplot at 0x7fd10a8904d0>"
            ]
          },
          "metadata": {
            "tags": []
          },
          "execution_count": 48
        },
        {
          "output_type": "display_data",
          "data": {
            "image/png": "[encoded data removed]",
            "text/plain": [
              "<Figure size 432x288 with 1 Axes>"
            ]
          },
          "metadata": {
            "tags": [],
            "needs_background": "light"
          }
        }
      ]
    },
    {
      "cell_type": "markdown",
      "metadata": {
        "id": "bmpmwU6_ACaI"
      },
      "source": [
        "# Jakie gatunki filmów są najpopularniejsze? - Kasia"
      ]
    },
    {
      "cell_type": "markdown",
      "metadata": {
        "id": "Ee9TwsOE0hTn"
      },
      "source": [
        "##Najczęściej występujące gatunki"
      ]
    },
    {
      "cell_type": "code",
      "metadata": {
        "id": "u3aQR491zWfm"
      },
      "source": [
        "imdb_movies['genre'].value_counts().head(10)"
      ],
      "execution_count": null,
      "outputs": []
    },
    {
      "cell_type": "code",
      "metadata": {
        "id": "tJYv5nus0scN",
        "colab": {
          "base_uri": "https://localhost:8080/",
          "height": 265
        },
        "outputId": "12275df5-83f1-423b-981c-787e76bd837b"
      },
      "source": [
        "ax = imdb_movies['genre'].value_counts().head().plot.barh(rot=0)"
      ],
      "execution_count": null,
      "outputs": [
        {
          "output_type": "display_data",
          "data": {
            "image/png": "[encoded data removed]",
            "text/plain": [
              "<Figure size 432x288 with 1 Axes>"
            ]
          },
          "metadata": {
            "tags": [],
            "needs_background": "light"
          }
        }
      ]
    },
    {
      "cell_type": "markdown",
      "metadata": {
        "id": "ojWDmviQKbiG"
      },
      "source": [
        "##Liczba gatunków w poszczególnych latach\n",
        "Widać, że gatunki to 'tagi' opisujące film, do jednego filmu przypisuje się coraz więcej gatunków."
      ]
    },
    {
      "cell_type": "code",
      "metadata": {
        "id": "-_kyEAbU5mm8"
      },
      "source": [
        "#Liczba gatunków filmów w poszczególnych latach\n",
        "imdb_movies.groupby('year').genre.nunique().tail(20)"
      ],
      "execution_count": null,
      "outputs": []
    },
    {
      "cell_type": "markdown",
      "metadata": {
        "id": "Sn1tb4BtKzUT"
      },
      "source": [
        "##Lista wszystkich gatunków"
      ]
    },
    {
      "cell_type": "code",
      "metadata": {
        "id": "82I-qUUGBMoK"
      },
      "source": [
        "genres = imdb_movies['genre'].unique().tolist()\n",
        "genres_all=[]\n",
        "for genre in genres:\n",
        "    for elem in genre.split(','):\n",
        "        genres_all.append(elem.strip())\n",
        "genres_all=list(set(genres_all))\n",
        "genres_all"
      ],
      "execution_count": null,
      "outputs": []
    },
    {
      "cell_type": "markdown",
      "metadata": {
        "id": "A_J_Hd28K4bM"
      },
      "source": [
        "##Unikalne gatunki - najbardziej popularne"
      ]
    },
    {
      "cell_type": "code",
      "metadata": {
        "id": "5lP5rdkz0ODz"
      },
      "source": [
        "genres = imdb_movies['genre'].tolist()\n",
        "genres_count=[]\n",
        "for genre in genres:\n",
        "    for elem in genre.split(','):\n",
        "        genres_all.append(elem.strip())\n",
        "genres_count=list(genres_all)\n",
        "from collections import Counter\n",
        "genres_count_all=pd.DataFrame.from_dict(Counter(genres_count), orient='index')\n",
        "genres_count_all.rename(columns={'index':'genres', 0:'occurences'}, inplace=True)\n",
        "genres_count_all.sort_values(by='occurences', ascending=False)\n"
      ],
      "execution_count": null,
      "outputs": []
    },
    {
      "cell_type": "code",
      "metadata": {
        "id": "UMXPsvKM8D-H",
        "colab": {
          "base_uri": "https://localhost:8080/",
          "height": 312
        },
        "outputId": "ae960f10-7cb4-4644-ea5c-6fae4ef6248c"
      },
      "source": [
        "ax = genres_count_all.sort_values(by='occurences', ascending=False).head().plot.barh(rot=1, title='Genres by occurences')\n",
        "ax.set_xlabel('occurences')\n",
        "#ax.set_ylabel()\n"
      ],
      "execution_count": null,
      "outputs": [
        {
          "output_type": "execute_result",
          "data": {
            "text/plain": [
              "Text(0.5, 0, 'occurences')"
            ]
          },
          "metadata": {
            "tags": []
          },
          "execution_count": 54
        },
        {
          "output_type": "display_data",
          "data": {
            "image/png": "[encoded data removed]",
            "text/plain": [
              "<Figure size 432x288 with 1 Axes>"
            ]
          },
          "metadata": {
            "tags": [],
            "needs_background": "light"
          }
        }
      ]
    },
    {
      "cell_type": "markdown",
      "metadata": {
        "id": "UjJRFNeCLFqe"
      },
      "source": [
        "## Najpopularniejsze gatunki filmów według lat\n"
      ]
    },
    {
      "cell_type": "code",
      "metadata": {
        "id": "bVhGrZJZ7MKy"
      },
      "source": [
        "imdb_movies['genre_list']=imdb_movies['genre'].str.split(',', n=5)"
      ],
      "execution_count": null,
      "outputs": []
    },
    {
      "cell_type": "code",
      "metadata": {
        "id": "mPd8iPIY4RQu"
      },
      "source": [
        "genres_by_years=imdb_movies[['genre', 'year']].groupby(['year', 'genre'], as_index=True)['genre'].count()\n",
        "genres_by_years.tail(100)"
      ],
      "execution_count": null,
      "outputs": []
    },
    {
      "cell_type": "code",
      "metadata": {
        "id": "c8HjtJ98MNjM"
      },
      "source": [
        "#dla roku 2019 zamiana str gatunków na listę\n",
        "genres_split_by_years=imdb_movies[['genre', 'year', 'imdb_title_id']]\n",
        "#genres_split_by_years[genres_split_by_years['year']==2019]\n",
        "genres = genres_split_by_years['genre']\n",
        "new_genres=[]\n",
        "for genre in genres.to_list():\n",
        "    genre = genre.split(',')\n",
        "    new_genres.append(genre)\n",
        "\n",
        "genres_split_by_years['new_genre']=new_genres\n",
        "genres_split_by_years\n"
      ],
      "execution_count": null,
      "outputs": []
    },
    {
      "cell_type": "code",
      "metadata": {
        "id": "2hhtVmBZUtGd"
      },
      "source": [
        "genres_in_2019 = genres_split_by_years[genres_split_by_years['year']==2019]\n",
        "genres_2019=genres_in_2019['new_genre'].to_list()\n",
        "genres_2019[:20]"
      ],
      "execution_count": null,
      "outputs": []
    },
    {
      "cell_type": "code",
      "metadata": {
        "id": "BUR-mP61MN1_"
      },
      "source": [
        "genres_count=[]\n",
        "genres_all=[]\n",
        "for genres in genres_2019:\n",
        "    for genre in genres:\n",
        "        genres_all.append(genre.strip())\n",
        "genres_count_2019=list(genres_all)\n",
        "from collections import Counter\n",
        "genres_count_all_2019=pd.DataFrame.from_dict(Counter(genres_count_2019), orient='index')\n",
        "genres_count_all_2019.rename(columns={'index':'genres', 0:'occurences'}, inplace=True)\n",
        "\n",
        "genres_count_all_2019.sort_values(by='occurences', ascending=False)"
      ],
      "execution_count": null,
      "outputs": []
    },
    {
      "cell_type": "code",
      "metadata": {
        "id": "8HiGmz9haaqW"
      },
      "source": [
        "#Genres by years\n",
        "\n",
        "table={}\n",
        "years = [2010, 2011, 2012,2013,2014,2015,2016, 2017,2018,2019]\n",
        "genres = ['Drama', 'Comedy', 'Romance', 'Action', 'Thriller','Crime', 'Horror']\n",
        "\n",
        "for year in years:\n",
        "\n",
        "    genres_in_year = genres_split_by_years[genres_split_by_years['year']==year]['new_genre']\n",
        "    genres_in_year=[item.strip() for sublist in genres_in_year for item in sublist]\n",
        "    table[year]={}\n",
        "    for genre in genres: ##genres_all nie działa???\n",
        "        table[year][genre]=genres_in_year.count(genre)\n",
        "\n",
        "genres_in_years = pd.DataFrame(table)\n",
        "genres_in_years\n",
        "   \n",
        "\n"
      ],
      "execution_count": null,
      "outputs": []
    },
    {
      "cell_type": "code",
      "metadata": {
        "id": "ldFdbsHHGEKT",
        "colab": {
          "base_uri": "https://localhost:8080/",
          "height": 282
        },
        "outputId": "7c54ac2b-dca1-4c6b-d847-9902419c0880"
      },
      "source": [
        "genres_in_years.T.plot()"
      ],
      "execution_count": null,
      "outputs": [
        {
          "output_type": "execute_result",
          "data": {
            "text/plain": [
              "<matplotlib.axes._subplots.AxesSubplot at 0x7fd10a034390>"
            ]
          },
          "metadata": {
            "tags": []
          },
          "execution_count": 61
        },
        {
          "output_type": "display_data",
          "data": {
            "image/png": "[encoded data removed]",
            "text/plain": [
              "<Figure size 432x288 with 1 Axes>"
            ]
          },
          "metadata": {
            "tags": [],
            "needs_background": "light"
          }
        }
      ]
    },
    {
      "cell_type": "markdown",
      "metadata": {
        "id": "XWkmeu9eqbkP"
      },
      "source": [
        "# Jakie kraje dominują w produkcji filmów  - które wypuszczają najwięcej filmów, i z 5 największych zrobić szeregi czasowe - GRZESIEK"
      ]
    },
    {
      "cell_type": "code",
      "metadata": {
        "id": "qZcOsQSZdqyX",
        "colab": {
          "base_uri": "https://localhost:8080/"
        },
        "outputId": "64226236-300c-49c0-9655-d781c0fa0b73"
      },
      "source": [
        "''' \n",
        "Po pierwsze, te kraje są bardzo dziwne. Po drugie nie jestem \n",
        "w stanie określić która firma produkcyjna należy do danego kraju. \n",
        "Po trzecie te wszystkie kraje pokazują gdzie filmy zostały nakręcone.\n",
        "'''\n",
        "imdb_movies['country'].value_counts().head(10)"
      ],
      "execution_count": null,
      "outputs": [
        {
          "output_type": "execute_result",
          "data": {
            "text/plain": [
              "USA          28511\n",
              "India         6065\n",
              "UK            4111\n",
              "Japan         3077\n",
              "France        3055\n",
              "Italy         2444\n",
              "Canada        1802\n",
              "Germany       1396\n",
              "Turkey        1351\n",
              "Hong Kong     1239\n",
              "Name: country, dtype: int64"
            ]
          },
          "metadata": {
            "tags": []
          },
          "execution_count": 62
        }
      ]
    },
    {
      "cell_type": "code",
      "metadata": {
        "id": "ojV2XmGcIYIs",
        "colab": {
          "base_uri": "https://localhost:8080/",
          "height": 514
        },
        "outputId": "b729550f-3341-46c6-d22b-2e20eacc1907"
      },
      "source": [
        "'''\n",
        "Te wykresy są okej, ale później jest coś nie tak...\n",
        "'''\n",
        "chart_country = imdb_movies['country'].value_counts().head(10)\n",
        "chart_country.plot(kind='barh', figsize=(16,8), fontsize=13)\n",
        "plt.title(\"Where the movies were filmed\", fontsize=10)\n",
        "plt.xlabel('Number of movies')\n",
        "plt.ylabel('Countries')\n",
        "plt.show()"
      ],
      "execution_count": null,
      "outputs": [
        {
          "output_type": "display_data",
          "data": {
            "image/png": "[encoded data removed]",
            "text/plain": [
              "<Figure size 1152x576 with 1 Axes>"
            ]
          },
          "metadata": {
            "tags": [],
            "needs_background": "light"
          }
        }
      ]
    },
    {
      "cell_type": "code",
      "metadata": {
        "id": "LSg7AO4gIfpa",
        "colab": {
          "base_uri": "https://localhost:8080/",
          "height": 296
        },
        "outputId": "47919a6a-bd62-409a-f85a-e44433c8b400"
      },
      "source": [
        "imdb_movies.groupby('year').country.count().plot()"
      ],
      "execution_count": null,
      "outputs": [
        {
          "output_type": "execute_result",
          "data": {
            "text/plain": [
              "<matplotlib.axes._subplots.AxesSubplot at 0x7fd105874a50>"
            ]
          },
          "metadata": {
            "tags": []
          },
          "execution_count": 64
        },
        {
          "output_type": "display_data",
          "data": {
            "image/png": "[encoded data removed]",
            "text/plain": [
              "<Figure size 432x288 with 1 Axes>"
            ]
          },
          "metadata": {
            "tags": [],
            "needs_background": "light"
          }
        }
      ]
    },
    {
      "cell_type": "code",
      "metadata": {
        "id": "MClRb_24Po-N",
        "colab": {
          "base_uri": "https://localhost:8080/",
          "height": 419
        },
        "outputId": "e14077ea-0eac-4ea1-a13b-7d420d6faf18"
      },
      "source": [
        "countries_new = imdb_movies[['year', 'country']]\n",
        "countries_new"
      ],
      "execution_count": null,
      "outputs": [
        {
          "output_type": "execute_result",
          "data": {
            "text/html": [
              "<div>\n",
              "<style scoped>\n",
              "    .dataframe tbody tr th:only-of-type {\n",
              "        vertical-align: middle;\n",
              "    }\n",
              "\n",
              "    .dataframe tbody tr th {\n",
              "        vertical-align: top;\n",
              "    }\n",
              "\n",
              "    .dataframe thead th {\n",
              "        text-align: right;\n",
              "    }\n",
              "</style>\n",
              "<table border=\"1\" class=\"dataframe\">\n",
              "  <thead>\n",
              "    <tr style=\"text-align: right;\">\n",
              "      <th></th>\n",
              "      <th>year</th>\n",
              "      <th>country</th>\n",
              "    </tr>\n",
              "  </thead>\n",
              "  <tbody>\n",
              "    <tr>\n",
              "      <th>0</th>\n",
              "      <td>1894</td>\n",
              "      <td>USA</td>\n",
              "    </tr>\n",
              "    <tr>\n",
              "      <th>1</th>\n",
              "      <td>1906</td>\n",
              "      <td>Australia</td>\n",
              "    </tr>\n",
              "    <tr>\n",
              "      <th>2</th>\n",
              "      <td>1911</td>\n",
              "      <td>Germany, Denmark</td>\n",
              "    </tr>\n",
              "    <tr>\n",
              "      <th>3</th>\n",
              "      <td>1912</td>\n",
              "      <td>USA</td>\n",
              "    </tr>\n",
              "    <tr>\n",
              "      <th>4</th>\n",
              "      <td>1911</td>\n",
              "      <td>Italy</td>\n",
              "    </tr>\n",
              "    <tr>\n",
              "      <th>...</th>\n",
              "      <td>...</td>\n",
              "      <td>...</td>\n",
              "    </tr>\n",
              "    <tr>\n",
              "      <th>85850</th>\n",
              "      <td>2020</td>\n",
              "      <td>France, Belgium</td>\n",
              "    </tr>\n",
              "    <tr>\n",
              "      <th>85851</th>\n",
              "      <td>2020</td>\n",
              "      <td>Netherlands</td>\n",
              "    </tr>\n",
              "    <tr>\n",
              "      <th>85852</th>\n",
              "      <td>2019</td>\n",
              "      <td>India</td>\n",
              "    </tr>\n",
              "    <tr>\n",
              "      <th>85853</th>\n",
              "      <td>2019</td>\n",
              "      <td>Turkey</td>\n",
              "    </tr>\n",
              "    <tr>\n",
              "      <th>85854</th>\n",
              "      <td>2019</td>\n",
              "      <td>Spain</td>\n",
              "    </tr>\n",
              "  </tbody>\n",
              "</table>\n",
              "<p>85855 rows × 2 columns</p>\n",
              "</div>"
            ],
            "text/plain": [
              "       year           country\n",
              "0      1894               USA\n",
              "1      1906         Australia\n",
              "2      1911  Germany, Denmark\n",
              "3      1912               USA\n",
              "4      1911             Italy\n",
              "...     ...               ...\n",
              "85850  2020   France, Belgium\n",
              "85851  2020       Netherlands\n",
              "85852  2019             India\n",
              "85853  2019            Turkey\n",
              "85854  2019             Spain\n",
              "\n",
              "[85855 rows x 2 columns]"
            ]
          },
          "metadata": {
            "tags": []
          },
          "execution_count": 65
        }
      ]
    },
    {
      "cell_type": "code",
      "metadata": {
        "id": "vrCPOu_RKcgm",
        "colab": {
          "base_uri": "https://localhost:8080/"
        },
        "outputId": "0645d8ff-e9cc-4e28-faa2-c597887bceee"
      },
      "source": [
        "'''\n",
        "Teraz sprawdzam produkcję filmu. Jak widać że czołowe firmy należą do USA oprócz Mosfilm i Canal+.\n",
        "'''\n",
        "imdb_movies['production_company'].value_counts().head(20)"
      ],
      "execution_count": null,
      "outputs": [
        {
          "output_type": "execute_result",
          "data": {
            "text/plain": [
              "Metro-Goldwyn-Mayer (MGM)                1284\n",
              "Warner Bros.                             1153\n",
              "Columbia Pictures                         914\n",
              "Paramount Pictures                        903\n",
              "Twentieth Century Fox                     865\n",
              "Universal Pictures                        732\n",
              "RKO Radio Pictures                        535\n",
              "Mosfilm                                   279\n",
              "Universal International Pictures (UI)     272\n",
              "Canal+                                    231\n",
              "Republic Pictures (I)                     208\n",
              "New Line Cinema                           205\n",
              "CJ Entertainment                          175\n",
              "Shaw Brothers                             169\n",
              "Toho Company                              158\n",
              "First National Pictures                   155\n",
              "Shochiku                                  144\n",
              "Golden Harvest Company                    140\n",
              "Touchstone Pictures                       140\n",
              "Lenfilm Studio                            137\n",
              "Name: production_company, dtype: int64"
            ]
          },
          "metadata": {
            "tags": []
          },
          "execution_count": 66
        }
      ]
    },
    {
      "cell_type": "code",
      "metadata": {
        "id": "Td9iHHRRRxCq",
        "colab": {
          "base_uri": "https://localhost:8080/",
          "height": 522
        },
        "outputId": "a4b18000-2b74-46e9-e801-a482dee071d8"
      },
      "source": [
        "imdb_production = imdb_movies['production_company'].value_counts()\n",
        "imdb_production.iloc[:10].plot(kind='barh',figsize=(16,8),fontsize=13)\n",
        "plt.title(\"production companies and number of movies\",fontsize=15)\n",
        "plt.xlabel('number of movies',fontsize=14)\n",
        "sn.set_style(\"whitegrid\")"
      ],
      "execution_count": null,
      "outputs": [
        {
          "output_type": "display_data",
          "data": {
            "image/png": "[encoded data removed]",
            "text/plain": [
              "<Figure size 1152x576 with 1 Axes>"
            ]
          },
          "metadata": {
            "tags": [],
            "needs_background": "light"
          }
        }
      ]
    },
    {
      "cell_type": "code",
      "metadata": {
        "id": "9hUuPuVSI8OU",
        "colab": {
          "base_uri": "https://localhost:8080/",
          "height": 359
        },
        "outputId": "e61702d4-5df5-49ff-b8ad-75ccdf2e5734"
      },
      "source": [
        "'''\n",
        "Tutaj niestety jest za mało kolumn żeby określić w których krajach produkowali najwięcej \n",
        "filmów, więc sprawdzam które produkcje filmowe zostały najlepiej ocenione.\n",
        "'''\n",
        "imdb_movies.corr()"
      ],
      "execution_count": null,
      "outputs": [
        {
          "output_type": "execute_result",
          "data": {
            "text/html": [
              "<div>\n",
              "<style scoped>\n",
              "    .dataframe tbody tr th:only-of-type {\n",
              "        vertical-align: middle;\n",
              "    }\n",
              "\n",
              "    .dataframe tbody tr th {\n",
              "        vertical-align: top;\n",
              "    }\n",
              "\n",
              "    .dataframe thead th {\n",
              "        text-align: right;\n",
              "    }\n",
              "</style>\n",
              "<table border=\"1\" class=\"dataframe\">\n",
              "  <thead>\n",
              "    <tr style=\"text-align: right;\">\n",
              "      <th></th>\n",
              "      <th>year</th>\n",
              "      <th>duration</th>\n",
              "      <th>avg_vote</th>\n",
              "      <th>votes</th>\n",
              "      <th>budget</th>\n",
              "      <th>usa_gross_income</th>\n",
              "      <th>worlwide_gross_income</th>\n",
              "      <th>metascore</th>\n",
              "      <th>reviews_from_users</th>\n",
              "      <th>reviews_from_critics</th>\n",
              "    </tr>\n",
              "  </thead>\n",
              "  <tbody>\n",
              "    <tr>\n",
              "      <th>year</th>\n",
              "      <td>1.000000</td>\n",
              "      <td>0.172810</td>\n",
              "      <td>-0.217559</td>\n",
              "      <td>0.058559</td>\n",
              "      <td>0.014228</td>\n",
              "      <td>0.060783</td>\n",
              "      <td>0.082185</td>\n",
              "      <td>-0.183089</td>\n",
              "      <td>0.070624</td>\n",
              "      <td>0.138014</td>\n",
              "    </tr>\n",
              "    <tr>\n",
              "      <th>duration</th>\n",
              "      <td>0.172810</td>\n",
              "      <td>1.000000</td>\n",
              "      <td>0.242432</td>\n",
              "      <td>0.125618</td>\n",
              "      <td>0.010798</td>\n",
              "      <td>0.099893</td>\n",
              "      <td>0.112783</td>\n",
              "      <td>0.210531</td>\n",
              "      <td>0.130836</td>\n",
              "      <td>0.135465</td>\n",
              "    </tr>\n",
              "    <tr>\n",
              "      <th>avg_vote</th>\n",
              "      <td>-0.217559</td>\n",
              "      <td>0.242432</td>\n",
              "      <td>1.000000</td>\n",
              "      <td>0.166972</td>\n",
              "      <td>-0.004513</td>\n",
              "      <td>0.104801</td>\n",
              "      <td>0.098050</td>\n",
              "      <td>0.691338</td>\n",
              "      <td>0.138185</td>\n",
              "      <td>0.200526</td>\n",
              "    </tr>\n",
              "    <tr>\n",
              "      <th>votes</th>\n",
              "      <td>0.058559</td>\n",
              "      <td>0.125618</td>\n",
              "      <td>0.166972</td>\n",
              "      <td>1.000000</td>\n",
              "      <td>0.004387</td>\n",
              "      <td>0.703496</td>\n",
              "      <td>0.662827</td>\n",
              "      <td>0.194730</td>\n",
              "      <td>0.766237</td>\n",
              "      <td>0.671635</td>\n",
              "    </tr>\n",
              "    <tr>\n",
              "      <th>budget</th>\n",
              "      <td>0.014228</td>\n",
              "      <td>0.010798</td>\n",
              "      <td>-0.004513</td>\n",
              "      <td>0.004387</td>\n",
              "      <td>1.000000</td>\n",
              "      <td>0.004543</td>\n",
              "      <td>0.006731</td>\n",
              "      <td>0.005449</td>\n",
              "      <td>0.012036</td>\n",
              "      <td>0.009339</td>\n",
              "    </tr>\n",
              "    <tr>\n",
              "      <th>usa_gross_income</th>\n",
              "      <td>0.060783</td>\n",
              "      <td>0.099893</td>\n",
              "      <td>0.104801</td>\n",
              "      <td>0.703496</td>\n",
              "      <td>0.004543</td>\n",
              "      <td>1.000000</td>\n",
              "      <td>0.917454</td>\n",
              "      <td>0.065852</td>\n",
              "      <td>0.657322</td>\n",
              "      <td>0.600560</td>\n",
              "    </tr>\n",
              "    <tr>\n",
              "      <th>worlwide_gross_income</th>\n",
              "      <td>0.082185</td>\n",
              "      <td>0.112783</td>\n",
              "      <td>0.098050</td>\n",
              "      <td>0.662827</td>\n",
              "      <td>0.006731</td>\n",
              "      <td>0.917454</td>\n",
              "      <td>1.000000</td>\n",
              "      <td>0.063352</td>\n",
              "      <td>0.630510</td>\n",
              "      <td>0.572743</td>\n",
              "    </tr>\n",
              "    <tr>\n",
              "      <th>metascore</th>\n",
              "      <td>-0.183089</td>\n",
              "      <td>0.210531</td>\n",
              "      <td>0.691338</td>\n",
              "      <td>0.194730</td>\n",
              "      <td>0.005449</td>\n",
              "      <td>0.065852</td>\n",
              "      <td>0.063352</td>\n",
              "      <td>1.000000</td>\n",
              "      <td>0.126131</td>\n",
              "      <td>0.236107</td>\n",
              "    </tr>\n",
              "    <tr>\n",
              "      <th>reviews_from_users</th>\n",
              "      <td>0.070624</td>\n",
              "      <td>0.130836</td>\n",
              "      <td>0.138185</td>\n",
              "      <td>0.766237</td>\n",
              "      <td>0.012036</td>\n",
              "      <td>0.657322</td>\n",
              "      <td>0.630510</td>\n",
              "      <td>0.126131</td>\n",
              "      <td>1.000000</td>\n",
              "      <td>0.671634</td>\n",
              "    </tr>\n",
              "    <tr>\n",
              "      <th>reviews_from_critics</th>\n",
              "      <td>0.138014</td>\n",
              "      <td>0.135465</td>\n",
              "      <td>0.200526</td>\n",
              "      <td>0.671635</td>\n",
              "      <td>0.009339</td>\n",
              "      <td>0.600560</td>\n",
              "      <td>0.572743</td>\n",
              "      <td>0.236107</td>\n",
              "      <td>0.671634</td>\n",
              "      <td>1.000000</td>\n",
              "    </tr>\n",
              "  </tbody>\n",
              "</table>\n",
              "</div>"
            ],
            "text/plain": [
              "                           year  ...  reviews_from_critics\n",
              "year                   1.000000  ...              0.138014\n",
              "duration               0.172810  ...              0.135465\n",
              "avg_vote              -0.217559  ...              0.200526\n",
              "votes                  0.058559  ...              0.671635\n",
              "budget                 0.014228  ...              0.009339\n",
              "usa_gross_income       0.060783  ...              0.600560\n",
              "worlwide_gross_income  0.082185  ...              0.572743\n",
              "metascore             -0.183089  ...              0.236107\n",
              "reviews_from_users     0.070624  ...              0.671634\n",
              "reviews_from_critics   0.138014  ...              1.000000\n",
              "\n",
              "[10 rows x 10 columns]"
            ]
          },
          "metadata": {
            "tags": []
          },
          "execution_count": 68
        }
      ]
    },
    {
      "cell_type": "code",
      "metadata": {
        "id": "j5ZcwPqfI7Cd",
        "colab": {
          "base_uri": "https://localhost:8080/",
          "height": 1000
        },
        "outputId": "377610fe-26fc-444f-dfc0-ef38f416d32c"
      },
      "source": [
        "movie_sliced = imdb_movies[0:1000]\n",
        "\n",
        "\n",
        "plt.figure(figsize=(15,15))\n",
        "sn.swarmplot(x='avg_vote', y='country', data = movie_sliced)\n",
        "plt.title ('Which countries have the best productions?', fontsize=20, fontweight='bold')\n",
        "plt.xlabel('Score')\n",
        "plt.ylabel('Country')\n",
        "plt.show()"
      ],
      "execution_count": null,
      "outputs": [
        {
          "output_type": "stream",
          "text": [
            "/usr/local/lib/python3.7/dist-packages/seaborn/categorical.py:1296: UserWarning: 83.2% of the points cannot be placed; you may want to decrease the size of the markers or use stripplot.\n",
            "  warnings.warn(msg, UserWarning)\n",
            "/usr/local/lib/python3.7/dist-packages/seaborn/categorical.py:1296: UserWarning: 34.1% of the points cannot be placed; you may want to decrease the size of the markers or use stripplot.\n",
            "  warnings.warn(msg, UserWarning)\n",
            "/usr/local/lib/python3.7/dist-packages/seaborn/categorical.py:1296: UserWarning: 27.1% of the points cannot be placed; you may want to decrease the size of the markers or use stripplot.\n",
            "  warnings.warn(msg, UserWarning)\n",
            "/usr/local/lib/python3.7/dist-packages/seaborn/categorical.py:1296: UserWarning: 9.1% of the points cannot be placed; you may want to decrease the size of the markers or use stripplot.\n",
            "  warnings.warn(msg, UserWarning)\n",
            "/usr/local/lib/python3.7/dist-packages/seaborn/categorical.py:1296: UserWarning: 16.1% of the points cannot be placed; you may want to decrease the size of the markers or use stripplot.\n",
            "  warnings.warn(msg, UserWarning)\n"
          ],
          "name": "stderr"
        },
        {
          "output_type": "display_data",
          "data": {
            "image/png": "[encoded data removed]",
            "text/plain": [
              "<Figure size 1080x1080 with 1 Axes>"
            ]
          },
          "metadata": {
            "tags": []
          }
        }
      ]
    },
    {
      "cell_type": "markdown",
      "metadata": {
        "id": "JXgZfv-Db-Hg"
      },
      "source": [
        "#Ile przypadków, że scenarzysta jest jednocześnie reżyserem w filmie - Ewa"
      ]
    },
    {
      "cell_type": "code",
      "metadata": {
        "id": "iJMvZD-dljyz",
        "colab": {
          "base_uri": "https://localhost:8080/"
        },
        "outputId": "aa63e608-65ba-49e6-b8af-6ffdb9c0e242"
      },
      "source": [
        "imdb_movies[imdb_movies.writer == imdb_movies.director].director.count()\n",
        "# to tak prosto, czyli odpowiada na postawione pytanie, \n",
        "# ale tylko wtedy jeśli jest jeden reżyser i jeden scenarzysta."
      ],
      "execution_count": null,
      "outputs": [
        {
          "output_type": "execute_result",
          "data": {
            "text/plain": [
              "17797"
            ]
          },
          "metadata": {
            "tags": []
          },
          "execution_count": 70
        }
      ]
    },
    {
      "cell_type": "code",
      "metadata": {
        "id": "ROp-ak4tmSTR",
        "colab": {
          "base_uri": "https://localhost:8080/",
          "height": 419
        },
        "outputId": "eae67b41-05d1-4c9a-ce2c-9ffad082edda"
      },
      "source": [
        "imdb_movies['writer_1'] = imdb_movies.writer.str.split(pat=',', expand=True)[0]\n",
        "imdb_movies['writer_2'] = imdb_movies.writer.str.split(pat=',', expand=True)[1]\n",
        "imdb_movies[['writer_1', 'writer_2']]"
      ],
      "execution_count": null,
      "outputs": [
        {
          "output_type": "execute_result",
          "data": {
            "text/html": [
              "<div>\n",
              "<style scoped>\n",
              "    .dataframe tbody tr th:only-of-type {\n",
              "        vertical-align: middle;\n",
              "    }\n",
              "\n",
              "    .dataframe tbody tr th {\n",
              "        vertical-align: top;\n",
              "    }\n",
              "\n",
              "    .dataframe thead th {\n",
              "        text-align: right;\n",
              "    }\n",
              "</style>\n",
              "<table border=\"1\" class=\"dataframe\">\n",
              "  <thead>\n",
              "    <tr style=\"text-align: right;\">\n",
              "      <th></th>\n",
              "      <th>writer_1</th>\n",
              "      <th>writer_2</th>\n",
              "    </tr>\n",
              "  </thead>\n",
              "  <tbody>\n",
              "    <tr>\n",
              "      <th>0</th>\n",
              "      <td>Alexander Black</td>\n",
              "      <td>None</td>\n",
              "    </tr>\n",
              "    <tr>\n",
              "      <th>1</th>\n",
              "      <td>Charles Tait</td>\n",
              "      <td>None</td>\n",
              "    </tr>\n",
              "    <tr>\n",
              "      <th>2</th>\n",
              "      <td>Urban Gad</td>\n",
              "      <td>Gebhard Schätzler-Perasini</td>\n",
              "    </tr>\n",
              "    <tr>\n",
              "      <th>3</th>\n",
              "      <td>Victorien Sardou</td>\n",
              "      <td>None</td>\n",
              "    </tr>\n",
              "    <tr>\n",
              "      <th>4</th>\n",
              "      <td>Dante Alighieri</td>\n",
              "      <td>None</td>\n",
              "    </tr>\n",
              "    <tr>\n",
              "      <th>...</th>\n",
              "      <td>...</td>\n",
              "      <td>...</td>\n",
              "    </tr>\n",
              "    <tr>\n",
              "      <th>85850</th>\n",
              "      <td>Alexandre Coquelle</td>\n",
              "      <td>Matthieu Le Naour</td>\n",
              "    </tr>\n",
              "    <tr>\n",
              "      <th>85851</th>\n",
              "      <td>Radek Bajgar</td>\n",
              "      <td>Herman Finkers</td>\n",
              "    </tr>\n",
              "    <tr>\n",
              "      <th>85852</th>\n",
              "      <td>Vineesh Aaradya</td>\n",
              "      <td>Vineesh Aaradya</td>\n",
              "    </tr>\n",
              "    <tr>\n",
              "      <th>85853</th>\n",
              "      <td>Ahmet Faik Akinci</td>\n",
              "      <td>Kasim Uçkan</td>\n",
              "    </tr>\n",
              "    <tr>\n",
              "      <th>85854</th>\n",
              "      <td>Coral Cruz</td>\n",
              "      <td>Pep Puig</td>\n",
              "    </tr>\n",
              "  </tbody>\n",
              "</table>\n",
              "<p>85855 rows × 2 columns</p>\n",
              "</div>"
            ],
            "text/plain": [
              "                 writer_1                     writer_2\n",
              "0         Alexander Black                         None\n",
              "1            Charles Tait                         None\n",
              "2               Urban Gad   Gebhard Schätzler-Perasini\n",
              "3        Victorien Sardou                         None\n",
              "4         Dante Alighieri                         None\n",
              "...                   ...                          ...\n",
              "85850  Alexandre Coquelle            Matthieu Le Naour\n",
              "85851        Radek Bajgar               Herman Finkers\n",
              "85852     Vineesh Aaradya              Vineesh Aaradya\n",
              "85853   Ahmet Faik Akinci                  Kasim Uçkan\n",
              "85854          Coral Cruz                     Pep Puig\n",
              "\n",
              "[85855 rows x 2 columns]"
            ]
          },
          "metadata": {
            "tags": []
          },
          "execution_count": 71
        }
      ]
    },
    {
      "cell_type": "code",
      "metadata": {
        "id": "rkZM8CsByU5A",
        "colab": {
          "base_uri": "https://localhost:8080/",
          "height": 419
        },
        "outputId": "607c7450-5af4-4de1-dc44-8ba9ea4478cb"
      },
      "source": [
        "imdb_movies['director_1'] = imdb_movies.director.str.split(pat=',', expand=True)[0]\n",
        "imdb_movies['director_2'] = imdb_movies.director.str.split(pat=',', expand=True)[1]\n",
        "imdb_movies[['director_1', 'director_2']]"
      ],
      "execution_count": null,
      "outputs": [
        {
          "output_type": "execute_result",
          "data": {
            "text/html": [
              "<div>\n",
              "<style scoped>\n",
              "    .dataframe tbody tr th:only-of-type {\n",
              "        vertical-align: middle;\n",
              "    }\n",
              "\n",
              "    .dataframe tbody tr th {\n",
              "        vertical-align: top;\n",
              "    }\n",
              "\n",
              "    .dataframe thead th {\n",
              "        text-align: right;\n",
              "    }\n",
              "</style>\n",
              "<table border=\"1\" class=\"dataframe\">\n",
              "  <thead>\n",
              "    <tr style=\"text-align: right;\">\n",
              "      <th></th>\n",
              "      <th>director_1</th>\n",
              "      <th>director_2</th>\n",
              "    </tr>\n",
              "  </thead>\n",
              "  <tbody>\n",
              "    <tr>\n",
              "      <th>0</th>\n",
              "      <td>Alexander Black</td>\n",
              "      <td>None</td>\n",
              "    </tr>\n",
              "    <tr>\n",
              "      <th>1</th>\n",
              "      <td>Charles Tait</td>\n",
              "      <td>None</td>\n",
              "    </tr>\n",
              "    <tr>\n",
              "      <th>2</th>\n",
              "      <td>Urban Gad</td>\n",
              "      <td>None</td>\n",
              "    </tr>\n",
              "    <tr>\n",
              "      <th>3</th>\n",
              "      <td>Charles L. Gaskill</td>\n",
              "      <td>None</td>\n",
              "    </tr>\n",
              "    <tr>\n",
              "      <th>4</th>\n",
              "      <td>Francesco Bertolini</td>\n",
              "      <td>Adolfo Padovan</td>\n",
              "    </tr>\n",
              "    <tr>\n",
              "      <th>...</th>\n",
              "      <td>...</td>\n",
              "      <td>...</td>\n",
              "    </tr>\n",
              "    <tr>\n",
              "      <th>85850</th>\n",
              "      <td>Ludovic Colbeau-Justin</td>\n",
              "      <td>None</td>\n",
              "    </tr>\n",
              "    <tr>\n",
              "      <th>85851</th>\n",
              "      <td>Johan Nijenhuis</td>\n",
              "      <td>None</td>\n",
              "    </tr>\n",
              "    <tr>\n",
              "      <th>85852</th>\n",
              "      <td>Vineesh Aaradya</td>\n",
              "      <td>None</td>\n",
              "    </tr>\n",
              "    <tr>\n",
              "      <th>85853</th>\n",
              "      <td>Ahmet Faik Akinci</td>\n",
              "      <td>None</td>\n",
              "    </tr>\n",
              "    <tr>\n",
              "      <th>85854</th>\n",
              "      <td>Laura Jou</td>\n",
              "      <td>None</td>\n",
              "    </tr>\n",
              "  </tbody>\n",
              "</table>\n",
              "<p>85855 rows × 2 columns</p>\n",
              "</div>"
            ],
            "text/plain": [
              "                   director_1       director_2\n",
              "0             Alexander Black             None\n",
              "1                Charles Tait             None\n",
              "2                   Urban Gad             None\n",
              "3          Charles L. Gaskill             None\n",
              "4         Francesco Bertolini   Adolfo Padovan\n",
              "...                       ...              ...\n",
              "85850  Ludovic Colbeau-Justin             None\n",
              "85851         Johan Nijenhuis             None\n",
              "85852         Vineesh Aaradya             None\n",
              "85853       Ahmet Faik Akinci             None\n",
              "85854               Laura Jou             None\n",
              "\n",
              "[85855 rows x 2 columns]"
            ]
          },
          "metadata": {
            "tags": []
          },
          "execution_count": 72
        }
      ]
    },
    {
      "cell_type": "code",
      "metadata": {
        "id": "r_LE6nvHy14c",
        "colab": {
          "base_uri": "https://localhost:8080/"
        },
        "outputId": "a73b4fd0-dab6-4195-d161-42dcf061d4cf"
      },
      "source": [
        "imdb_movies[(imdb_movies.writer_1 == imdb_movies.director_1) | \n",
        "        (imdb_movies.writer_1 == imdb_movies.director_2) | \n",
        "        (imdb_movies.writer_2 == imdb_movies.director_1) | \n",
        "        (imdb_movies.writer_2 == imdb_movies.director_2)].imdb_title_id.count()"
      ],
      "execution_count": null,
      "outputs": [
        {
          "output_type": "execute_result",
          "data": {
            "text/plain": [
              "31803"
            ]
          },
          "metadata": {
            "tags": []
          },
          "execution_count": 73
        }
      ]
    },
    {
      "cell_type": "markdown",
      "metadata": {
        "id": "B0KEiQ-icEhG"
      },
      "source": [
        "#Reżyser - z największymi średnimi głosów, największa liczba głosów - KASIA"
      ]
    },
    {
      "cell_type": "code",
      "metadata": {
        "id": "i-xNUUc2Ea33",
        "colab": {
          "base_uri": "https://localhost:8080/",
          "height": 390
        },
        "outputId": "408d5a4b-097e-47f2-dc50-f1f263e8e7eb"
      },
      "source": [
        "#Reżyserzy z największą średnią ocen, którzy nakręcili więcej niż 5 filmów\n",
        "imdb_directors_av_votes=imdb_movies[['director','avg_vote']].groupby('director').agg(['count', 'mean']).reset_index()\n",
        "imdb_directors_av_votes[imdb_directors_av_votes['avg_vote']['count']>5].sort_values(by=('avg_vote','mean'), ascending=False).reset_index().head(10)"
      ],
      "execution_count": null,
      "outputs": [
        {
          "output_type": "execute_result",
          "data": {
            "text/html": [
              "<div>\n",
              "<style scoped>\n",
              "    .dataframe tbody tr th:only-of-type {\n",
              "        vertical-align: middle;\n",
              "    }\n",
              "\n",
              "    .dataframe tbody tr th {\n",
              "        vertical-align: top;\n",
              "    }\n",
              "\n",
              "    .dataframe thead tr th {\n",
              "        text-align: left;\n",
              "    }\n",
              "</style>\n",
              "<table border=\"1\" class=\"dataframe\">\n",
              "  <thead>\n",
              "    <tr>\n",
              "      <th></th>\n",
              "      <th>index</th>\n",
              "      <th>director</th>\n",
              "      <th colspan=\"2\" halign=\"left\">avg_vote</th>\n",
              "    </tr>\n",
              "    <tr>\n",
              "      <th></th>\n",
              "      <th></th>\n",
              "      <th></th>\n",
              "      <th>count</th>\n",
              "      <th>mean</th>\n",
              "    </tr>\n",
              "  </thead>\n",
              "  <tbody>\n",
              "    <tr>\n",
              "      <th>0</th>\n",
              "      <td>5749</td>\n",
              "      <td>Christopher Nolan</td>\n",
              "      <td>11</td>\n",
              "      <td>8.218182</td>\n",
              "    </tr>\n",
              "    <tr>\n",
              "      <th>1</th>\n",
              "      <td>28854</td>\n",
              "      <td>Satyajit Ray</td>\n",
              "      <td>28</td>\n",
              "      <td>8.025000</td>\n",
              "    </tr>\n",
              "    <tr>\n",
              "      <th>2</th>\n",
              "      <td>1753</td>\n",
              "      <td>Andrei Tarkovsky</td>\n",
              "      <td>7</td>\n",
              "      <td>8.014286</td>\n",
              "    </tr>\n",
              "    <tr>\n",
              "      <th>3</th>\n",
              "      <td>12193</td>\n",
              "      <td>Hayao Miyazaki</td>\n",
              "      <td>12</td>\n",
              "      <td>8.008333</td>\n",
              "    </tr>\n",
              "    <tr>\n",
              "      <th>4</th>\n",
              "      <td>29269</td>\n",
              "      <td>Sergio Leone</td>\n",
              "      <td>7</td>\n",
              "      <td>7.928571</td>\n",
              "    </tr>\n",
              "    <tr>\n",
              "      <th>5</th>\n",
              "      <td>12725</td>\n",
              "      <td>Humayun Ahmed</td>\n",
              "      <td>7</td>\n",
              "      <td>7.900000</td>\n",
              "    </tr>\n",
              "    <tr>\n",
              "      <th>6</th>\n",
              "      <td>13739</td>\n",
              "      <td>James Cameron</td>\n",
              "      <td>7</td>\n",
              "      <td>7.885714</td>\n",
              "    </tr>\n",
              "    <tr>\n",
              "      <th>7</th>\n",
              "      <td>25895</td>\n",
              "      <td>Quentin Tarantino</td>\n",
              "      <td>12</td>\n",
              "      <td>7.858333</td>\n",
              "    </tr>\n",
              "    <tr>\n",
              "      <th>8</th>\n",
              "      <td>31398</td>\n",
              "      <td>Tengiz Abuladze</td>\n",
              "      <td>6</td>\n",
              "      <td>7.850000</td>\n",
              "    </tr>\n",
              "    <tr>\n",
              "      <th>9</th>\n",
              "      <td>29214</td>\n",
              "      <td>Sergey A.</td>\n",
              "      <td>24</td>\n",
              "      <td>7.850000</td>\n",
              "    </tr>\n",
              "  </tbody>\n",
              "</table>\n",
              "</div>"
            ],
            "text/plain": [
              "   index           director avg_vote          \n",
              "                               count      mean\n",
              "0   5749  Christopher Nolan       11  8.218182\n",
              "1  28854       Satyajit Ray       28  8.025000\n",
              "2   1753   Andrei Tarkovsky        7  8.014286\n",
              "3  12193     Hayao Miyazaki       12  8.008333\n",
              "4  29269       Sergio Leone        7  7.928571\n",
              "5  12725      Humayun Ahmed        7  7.900000\n",
              "6  13739      James Cameron        7  7.885714\n",
              "7  25895  Quentin Tarantino       12  7.858333\n",
              "8  31398    Tengiz Abuladze        6  7.850000\n",
              "9  29214          Sergey A.       24  7.850000"
            ]
          },
          "metadata": {
            "tags": []
          },
          "execution_count": 74
        }
      ]
    },
    {
      "cell_type": "code",
      "metadata": {
        "id": "ex0nfPXVpbSt",
        "colab": {
          "base_uri": "https://localhost:8080/",
          "height": 390
        },
        "outputId": "76103765-bfcd-40a4-abac-14c5e7b1fb2a"
      },
      "source": [
        "#reżyserzy, którzy kręcą dużo i źle ;)\n",
        "imdb_directors_av_votes[imdb_directors_av_votes['avg_vote']['count']>10].sort_values(by=('avg_vote','mean'), ascending=True).head(10)"
      ],
      "execution_count": null,
      "outputs": [
        {
          "output_type": "execute_result",
          "data": {
            "text/html": [
              "<div>\n",
              "<style scoped>\n",
              "    .dataframe tbody tr th:only-of-type {\n",
              "        vertical-align: middle;\n",
              "    }\n",
              "\n",
              "    .dataframe tbody tr th {\n",
              "        vertical-align: top;\n",
              "    }\n",
              "\n",
              "    .dataframe thead tr th {\n",
              "        text-align: left;\n",
              "    }\n",
              "</style>\n",
              "<table border=\"1\" class=\"dataframe\">\n",
              "  <thead>\n",
              "    <tr>\n",
              "      <th></th>\n",
              "      <th>director</th>\n",
              "      <th colspan=\"2\" halign=\"left\">avg_vote</th>\n",
              "    </tr>\n",
              "    <tr>\n",
              "      <th></th>\n",
              "      <th></th>\n",
              "      <th>count</th>\n",
              "      <th>mean</th>\n",
              "    </tr>\n",
              "  </thead>\n",
              "  <tbody>\n",
              "    <tr>\n",
              "      <th>4153</th>\n",
              "      <td>Brett Kelly</td>\n",
              "      <td>18</td>\n",
              "      <td>1.533333</td>\n",
              "    </tr>\n",
              "    <tr>\n",
              "      <th>26614</th>\n",
              "      <td>Rene Perez</td>\n",
              "      <td>18</td>\n",
              "      <td>2.805556</td>\n",
              "    </tr>\n",
              "    <tr>\n",
              "      <th>14121</th>\n",
              "      <td>Jared Cohn</td>\n",
              "      <td>16</td>\n",
              "      <td>2.943750</td>\n",
              "    </tr>\n",
              "    <tr>\n",
              "      <th>20607</th>\n",
              "      <td>Mark Atkins</td>\n",
              "      <td>12</td>\n",
              "      <td>3.066667</td>\n",
              "    </tr>\n",
              "    <tr>\n",
              "      <th>1831</th>\n",
              "      <td>Andrew Jones</td>\n",
              "      <td>24</td>\n",
              "      <td>3.241667</td>\n",
              "    </tr>\n",
              "    <tr>\n",
              "      <th>7102</th>\n",
              "      <td>David DeCoteau</td>\n",
              "      <td>44</td>\n",
              "      <td>3.259091</td>\n",
              "    </tr>\n",
              "    <tr>\n",
              "      <th>30577</th>\n",
              "      <td>Steven M. Smith</td>\n",
              "      <td>12</td>\n",
              "      <td>3.266667</td>\n",
              "    </tr>\n",
              "    <tr>\n",
              "      <th>6933</th>\n",
              "      <td>Daryush Shokof</td>\n",
              "      <td>11</td>\n",
              "      <td>3.318182</td>\n",
              "    </tr>\n",
              "    <tr>\n",
              "      <th>18975</th>\n",
              "      <td>Leigh Scott</td>\n",
              "      <td>12</td>\n",
              "      <td>3.341667</td>\n",
              "    </tr>\n",
              "    <tr>\n",
              "      <th>27025</th>\n",
              "      <td>Rick Sloane</td>\n",
              "      <td>11</td>\n",
              "      <td>3.400000</td>\n",
              "    </tr>\n",
              "  </tbody>\n",
              "</table>\n",
              "</div>"
            ],
            "text/plain": [
              "              director avg_vote          \n",
              "                          count      mean\n",
              "4153       Brett Kelly       18  1.533333\n",
              "26614       Rene Perez       18  2.805556\n",
              "14121       Jared Cohn       16  2.943750\n",
              "20607      Mark Atkins       12  3.066667\n",
              "1831      Andrew Jones       24  3.241667\n",
              "7102    David DeCoteau       44  3.259091\n",
              "30577  Steven M. Smith       12  3.266667\n",
              "6933    Daryush Shokof       11  3.318182\n",
              "18975      Leigh Scott       12  3.341667\n",
              "27025      Rick Sloane       11  3.400000"
            ]
          },
          "metadata": {
            "tags": []
          },
          "execution_count": 75
        }
      ]
    },
    {
      "cell_type": "code",
      "metadata": {
        "id": "NnJMXP8EpGDp",
        "colab": {
          "base_uri": "https://localhost:8080/",
          "height": 390
        },
        "outputId": "11ec8e87-4ad3-4314-9609-bb3411b2b880"
      },
      "source": [
        "#jakie oceny dostają reżyserzy którzy idą 'na ilość'\n",
        "imdb_directors_av_votes[imdb_directors_av_votes['avg_vote']['count']>5].sort_values(by=('avg_vote','count'), ascending=False).head(10)"
      ],
      "execution_count": null,
      "outputs": [
        {
          "output_type": "execute_result",
          "data": {
            "text/html": [
              "<div>\n",
              "<style scoped>\n",
              "    .dataframe tbody tr th:only-of-type {\n",
              "        vertical-align: middle;\n",
              "    }\n",
              "\n",
              "    .dataframe tbody tr th {\n",
              "        vertical-align: top;\n",
              "    }\n",
              "\n",
              "    .dataframe thead tr th {\n",
              "        text-align: left;\n",
              "    }\n",
              "</style>\n",
              "<table border=\"1\" class=\"dataframe\">\n",
              "  <thead>\n",
              "    <tr>\n",
              "      <th></th>\n",
              "      <th>director</th>\n",
              "      <th colspan=\"2\" halign=\"left\">avg_vote</th>\n",
              "    </tr>\n",
              "    <tr>\n",
              "      <th></th>\n",
              "      <th></th>\n",
              "      <th>count</th>\n",
              "      <th>mean</th>\n",
              "    </tr>\n",
              "  </thead>\n",
              "  <tbody>\n",
              "    <tr>\n",
              "      <th>15006</th>\n",
              "      <td>Jesús Franco</td>\n",
              "      <td>87</td>\n",
              "      <td>4.718391</td>\n",
              "    </tr>\n",
              "    <tr>\n",
              "      <th>21840</th>\n",
              "      <td>Michael Curtiz</td>\n",
              "      <td>85</td>\n",
              "      <td>6.543529</td>\n",
              "    </tr>\n",
              "    <tr>\n",
              "      <th>19114</th>\n",
              "      <td>Lesley Selander</td>\n",
              "      <td>78</td>\n",
              "      <td>6.214103</td>\n",
              "    </tr>\n",
              "    <tr>\n",
              "      <th>19360</th>\n",
              "      <td>Lloyd Bacon</td>\n",
              "      <td>73</td>\n",
              "      <td>6.232877</td>\n",
              "    </tr>\n",
              "    <tr>\n",
              "      <th>33646</th>\n",
              "      <td>William Beaudine</td>\n",
              "      <td>70</td>\n",
              "      <td>5.861429</td>\n",
              "    </tr>\n",
              "    <tr>\n",
              "      <th>26955</th>\n",
              "      <td>Richard Thorpe</td>\n",
              "      <td>68</td>\n",
              "      <td>6.263235</td>\n",
              "    </tr>\n",
              "    <tr>\n",
              "      <th>15682</th>\n",
              "      <td>John Ford</td>\n",
              "      <td>67</td>\n",
              "      <td>6.710448</td>\n",
              "    </tr>\n",
              "    <tr>\n",
              "      <th>11306</th>\n",
              "      <td>Gordon Douglas</td>\n",
              "      <td>64</td>\n",
              "      <td>6.175000</td>\n",
              "    </tr>\n",
              "    <tr>\n",
              "      <th>26370</th>\n",
              "      <td>Raoul Walsh</td>\n",
              "      <td>61</td>\n",
              "      <td>6.590164</td>\n",
              "    </tr>\n",
              "    <tr>\n",
              "      <th>21702</th>\n",
              "      <td>Mervyn LeRoy</td>\n",
              "      <td>59</td>\n",
              "      <td>6.689831</td>\n",
              "    </tr>\n",
              "  </tbody>\n",
              "</table>\n",
              "</div>"
            ],
            "text/plain": [
              "               director avg_vote          \n",
              "                           count      mean\n",
              "15006      Jesús Franco       87  4.718391\n",
              "21840    Michael Curtiz       85  6.543529\n",
              "19114   Lesley Selander       78  6.214103\n",
              "19360       Lloyd Bacon       73  6.232877\n",
              "33646  William Beaudine       70  5.861429\n",
              "26955    Richard Thorpe       68  6.263235\n",
              "15682         John Ford       67  6.710448\n",
              "11306    Gordon Douglas       64  6.175000\n",
              "26370       Raoul Walsh       61  6.590164\n",
              "21702      Mervyn LeRoy       59  6.689831"
            ]
          },
          "metadata": {
            "tags": []
          },
          "execution_count": 76
        }
      ]
    },
    {
      "cell_type": "code",
      "metadata": {
        "id": "-9QT462Yn3hW",
        "colab": {
          "base_uri": "https://localhost:8080/",
          "height": 390
        },
        "outputId": "3d264073-244b-467e-990f-83f0e47acb2e"
      },
      "source": [
        "#Reżyserzy których filmy otrzymują średnio najwięcej głosów, którzy nakręcili więcej niż 5 filmów\n",
        "imdb_directors_sum_votes=imdb_movies[['director','votes']].groupby('director').agg(['count', 'sum']).reset_index()\n",
        "imdb_directors_sum_votes['votes_per_film'] = imdb_directors_sum_votes['votes']['sum']/imdb_directors_sum_votes['votes']['count']\n",
        "imdb_directors_sum_votes['votes_per_film']=imdb_directors_sum_votes['votes_per_film'].astype('int')\n",
        "imdb_directors_sum_votes[imdb_directors_sum_votes['votes']['count']>5].sort_values(by=('votes_per_film'), ascending=False).head(10)"
      ],
      "execution_count": null,
      "outputs": [
        {
          "output_type": "execute_result",
          "data": {
            "text/html": [
              "<div>\n",
              "<style scoped>\n",
              "    .dataframe tbody tr th:only-of-type {\n",
              "        vertical-align: middle;\n",
              "    }\n",
              "\n",
              "    .dataframe tbody tr th {\n",
              "        vertical-align: top;\n",
              "    }\n",
              "\n",
              "    .dataframe thead tr th {\n",
              "        text-align: left;\n",
              "    }\n",
              "</style>\n",
              "<table border=\"1\" class=\"dataframe\">\n",
              "  <thead>\n",
              "    <tr>\n",
              "      <th></th>\n",
              "      <th>director</th>\n",
              "      <th colspan=\"2\" halign=\"left\">votes</th>\n",
              "      <th>votes_per_film</th>\n",
              "    </tr>\n",
              "    <tr>\n",
              "      <th></th>\n",
              "      <th></th>\n",
              "      <th>count</th>\n",
              "      <th>sum</th>\n",
              "      <th></th>\n",
              "    </tr>\n",
              "  </thead>\n",
              "  <tbody>\n",
              "    <tr>\n",
              "      <th>5749</th>\n",
              "      <td>Christopher Nolan</td>\n",
              "      <td>11</td>\n",
              "      <td>11653144</td>\n",
              "      <td>1059376</td>\n",
              "    </tr>\n",
              "    <tr>\n",
              "      <th>25895</th>\n",
              "      <td>Quentin Tarantino</td>\n",
              "      <td>12</td>\n",
              "      <td>8458703</td>\n",
              "      <td>704891</td>\n",
              "    </tr>\n",
              "    <tr>\n",
              "      <th>13739</th>\n",
              "      <td>James Cameron</td>\n",
              "      <td>7</td>\n",
              "      <td>4915763</td>\n",
              "      <td>702251</td>\n",
              "    </tr>\n",
              "    <tr>\n",
              "      <th>7141</th>\n",
              "      <td>David Fincher</td>\n",
              "      <td>10</td>\n",
              "      <td>6944421</td>\n",
              "      <td>694442</td>\n",
              "    </tr>\n",
              "    <tr>\n",
              "      <th>25197</th>\n",
              "      <td>Peter Jackson</td>\n",
              "      <td>13</td>\n",
              "      <td>7304418</td>\n",
              "      <td>561878</td>\n",
              "    </tr>\n",
              "    <tr>\n",
              "      <th>10749</th>\n",
              "      <td>George Lucas</td>\n",
              "      <td>6</td>\n",
              "      <td>3364510</td>\n",
              "      <td>560751</td>\n",
              "    </tr>\n",
              "    <tr>\n",
              "      <th>2353</th>\n",
              "      <td>Anthony Russo, Joe Russo</td>\n",
              "      <td>6</td>\n",
              "      <td>3006253</td>\n",
              "      <td>501042</td>\n",
              "    </tr>\n",
              "    <tr>\n",
              "      <th>13336</th>\n",
              "      <td>J.J. Abrams</td>\n",
              "      <td>6</td>\n",
              "      <td>2881528</td>\n",
              "      <td>480254</td>\n",
              "    </tr>\n",
              "    <tr>\n",
              "      <th>18639</th>\n",
              "      <td>Lana Wachowski, Lilly Wachowski</td>\n",
              "      <td>6</td>\n",
              "      <td>2871445</td>\n",
              "      <td>478574</td>\n",
              "    </tr>\n",
              "    <tr>\n",
              "      <th>34464</th>\n",
              "      <td>Zack Snyder</td>\n",
              "      <td>8</td>\n",
              "      <td>3410835</td>\n",
              "      <td>426354</td>\n",
              "    </tr>\n",
              "  </tbody>\n",
              "</table>\n",
              "</div>"
            ],
            "text/plain": [
              "                              director votes           votes_per_film\n",
              "                                       count       sum               \n",
              "5749                 Christopher Nolan    11  11653144        1059376\n",
              "25895                Quentin Tarantino    12   8458703         704891\n",
              "13739                    James Cameron     7   4915763         702251\n",
              "7141                     David Fincher    10   6944421         694442\n",
              "25197                    Peter Jackson    13   7304418         561878\n",
              "10749                     George Lucas     6   3364510         560751\n",
              "2353          Anthony Russo, Joe Russo     6   3006253         501042\n",
              "13336                      J.J. Abrams     6   2881528         480254\n",
              "18639  Lana Wachowski, Lilly Wachowski     6   2871445         478574\n",
              "34464                      Zack Snyder     8   3410835         426354"
            ]
          },
          "metadata": {
            "tags": []
          },
          "execution_count": 77
        }
      ]
    },
    {
      "cell_type": "markdown",
      "metadata": {
        "id": "-h7hkXzEviiQ"
      },
      "source": [
        "#Scenarzysta - jw - GRZESIEK"
      ]
    },
    {
      "cell_type": "code",
      "metadata": {
        "id": "gLcNnKBIomsu",
        "colab": {
          "base_uri": "https://localhost:8080/",
          "height": 390
        },
        "outputId": "0a70704e-69a7-4130-8771-908f5e7e28b3"
      },
      "source": [
        "imdb_writers_av_votes=imdb_movies[['writer','avg_vote']].groupby('writer').agg(['count', 'mean']).reset_index()\n",
        "imdb_writers_av_votes[imdb_writers_av_votes['avg_vote']['count']>10].sort_values(by=('avg_vote','mean'), ascending=False).reset_index().head(10)"
      ],
      "execution_count": null,
      "outputs": [
        {
          "output_type": "execute_result",
          "data": {
            "text/html": [
              "<div>\n",
              "<style scoped>\n",
              "    .dataframe tbody tr th:only-of-type {\n",
              "        vertical-align: middle;\n",
              "    }\n",
              "\n",
              "    .dataframe tbody tr th {\n",
              "        vertical-align: top;\n",
              "    }\n",
              "\n",
              "    .dataframe thead tr th {\n",
              "        text-align: left;\n",
              "    }\n",
              "</style>\n",
              "<table border=\"1\" class=\"dataframe\">\n",
              "  <thead>\n",
              "    <tr>\n",
              "      <th></th>\n",
              "      <th>index</th>\n",
              "      <th>writer</th>\n",
              "      <th colspan=\"2\" halign=\"left\">avg_vote</th>\n",
              "    </tr>\n",
              "    <tr>\n",
              "      <th></th>\n",
              "      <th></th>\n",
              "      <th></th>\n",
              "      <th>count</th>\n",
              "      <th>mean</th>\n",
              "    </tr>\n",
              "  </thead>\n",
              "  <tbody>\n",
              "    <tr>\n",
              "      <th>0</th>\n",
              "      <td>65706</td>\n",
              "      <td>Yavuz Turgul</td>\n",
              "      <td>12</td>\n",
              "      <td>7.783333</td>\n",
              "    </tr>\n",
              "    <tr>\n",
              "      <th>1</th>\n",
              "      <td>56788</td>\n",
              "      <td>Sergey A.</td>\n",
              "      <td>15</td>\n",
              "      <td>7.746667</td>\n",
              "    </tr>\n",
              "    <tr>\n",
              "      <th>2</th>\n",
              "      <td>74</td>\n",
              "      <td>A.K. Lohithadas</td>\n",
              "      <td>20</td>\n",
              "      <td>7.655000</td>\n",
              "    </tr>\n",
              "    <tr>\n",
              "      <th>3</th>\n",
              "      <td>9589</td>\n",
              "      <td>Charles Chaplin</td>\n",
              "      <td>13</td>\n",
              "      <td>7.646154</td>\n",
              "    </tr>\n",
              "    <tr>\n",
              "      <th>4</th>\n",
              "      <td>65095</td>\n",
              "      <td>William Shakespeare</td>\n",
              "      <td>25</td>\n",
              "      <td>7.608000</td>\n",
              "    </tr>\n",
              "    <tr>\n",
              "      <th>5</th>\n",
              "      <td>25612</td>\n",
              "      <td>Ingmar Bergman</td>\n",
              "      <td>27</td>\n",
              "      <td>7.540741</td>\n",
              "    </tr>\n",
              "    <tr>\n",
              "      <th>6</th>\n",
              "      <td>58438</td>\n",
              "      <td>Sreenivasan</td>\n",
              "      <td>19</td>\n",
              "      <td>7.510526</td>\n",
              "    </tr>\n",
              "    <tr>\n",
              "      <th>7</th>\n",
              "      <td>61641</td>\n",
              "      <td>Titus Popovici</td>\n",
              "      <td>14</td>\n",
              "      <td>7.500000</td>\n",
              "    </tr>\n",
              "    <tr>\n",
              "      <th>8</th>\n",
              "      <td>5751</td>\n",
              "      <td>Bahram Beizai</td>\n",
              "      <td>11</td>\n",
              "      <td>7.472727</td>\n",
              "    </tr>\n",
              "    <tr>\n",
              "      <th>9</th>\n",
              "      <td>38874</td>\n",
              "      <td>M.T. Vasudevan Nair</td>\n",
              "      <td>12</td>\n",
              "      <td>7.441667</td>\n",
              "    </tr>\n",
              "  </tbody>\n",
              "</table>\n",
              "</div>"
            ],
            "text/plain": [
              "   index               writer avg_vote          \n",
              "                                 count      mean\n",
              "0  65706         Yavuz Turgul       12  7.783333\n",
              "1  56788            Sergey A.       15  7.746667\n",
              "2     74      A.K. Lohithadas       20  7.655000\n",
              "3   9589      Charles Chaplin       13  7.646154\n",
              "4  65095  William Shakespeare       25  7.608000\n",
              "5  25612       Ingmar Bergman       27  7.540741\n",
              "6  58438          Sreenivasan       19  7.510526\n",
              "7  61641       Titus Popovici       14  7.500000\n",
              "8   5751        Bahram Beizai       11  7.472727\n",
              "9  38874  M.T. Vasudevan Nair       12  7.441667"
            ]
          },
          "metadata": {
            "tags": []
          },
          "execution_count": 78
        }
      ]
    },
    {
      "cell_type": "code",
      "metadata": {
        "id": "zgWFKOSUpggd",
        "colab": {
          "base_uri": "https://localhost:8080/",
          "height": 390
        },
        "outputId": "7be40608-1df1-41e8-8dff-b2da9a88fcf7"
      },
      "source": [
        "imdb_writers_av_votes[imdb_writers_av_votes['avg_vote']['count']>10].sort_values(by=('avg_vote','mean'), ascending=True).head(10)"
      ],
      "execution_count": null,
      "outputs": [
        {
          "output_type": "execute_result",
          "data": {
            "text/html": [
              "<div>\n",
              "<style scoped>\n",
              "    .dataframe tbody tr th:only-of-type {\n",
              "        vertical-align: middle;\n",
              "    }\n",
              "\n",
              "    .dataframe tbody tr th {\n",
              "        vertical-align: top;\n",
              "    }\n",
              "\n",
              "    .dataframe thead tr th {\n",
              "        text-align: left;\n",
              "    }\n",
              "</style>\n",
              "<table border=\"1\" class=\"dataframe\">\n",
              "  <thead>\n",
              "    <tr>\n",
              "      <th></th>\n",
              "      <th>writer</th>\n",
              "      <th colspan=\"2\" halign=\"left\">avg_vote</th>\n",
              "    </tr>\n",
              "    <tr>\n",
              "      <th></th>\n",
              "      <th></th>\n",
              "      <th>count</th>\n",
              "      <th>mean</th>\n",
              "    </tr>\n",
              "  </thead>\n",
              "  <tbody>\n",
              "    <tr>\n",
              "      <th>3368</th>\n",
              "      <td>Andrew Jones</td>\n",
              "      <td>20</td>\n",
              "      <td>3.250000</td>\n",
              "    </tr>\n",
              "    <tr>\n",
              "      <th>10348</th>\n",
              "      <td>Chris Hyde</td>\n",
              "      <td>11</td>\n",
              "      <td>3.790909</td>\n",
              "    </tr>\n",
              "    <tr>\n",
              "      <th>45413</th>\n",
              "      <td>Neal Marshall Stevens</td>\n",
              "      <td>12</td>\n",
              "      <td>4.075000</td>\n",
              "    </tr>\n",
              "    <tr>\n",
              "      <th>54066</th>\n",
              "      <td>Rolfe Kanefsky</td>\n",
              "      <td>13</td>\n",
              "      <td>4.153846</td>\n",
              "    </tr>\n",
              "    <tr>\n",
              "      <th>13240</th>\n",
              "      <td>David A. Prior</td>\n",
              "      <td>12</td>\n",
              "      <td>4.300000</td>\n",
              "    </tr>\n",
              "    <tr>\n",
              "      <th>29641</th>\n",
              "      <td>Jesús Franco, Jesús Franco</td>\n",
              "      <td>21</td>\n",
              "      <td>4.461905</td>\n",
              "    </tr>\n",
              "    <tr>\n",
              "      <th>26964</th>\n",
              "      <td>Jake Helgren</td>\n",
              "      <td>11</td>\n",
              "      <td>4.581818</td>\n",
              "    </tr>\n",
              "    <tr>\n",
              "      <th>8878</th>\n",
              "      <td>Carlo Vanzina, Enrico Vanzina</td>\n",
              "      <td>32</td>\n",
              "      <td>4.656250</td>\n",
              "    </tr>\n",
              "    <tr>\n",
              "      <th>40081</th>\n",
              "      <td>Mariano Ozores</td>\n",
              "      <td>11</td>\n",
              "      <td>4.800000</td>\n",
              "    </tr>\n",
              "    <tr>\n",
              "      <th>21481</th>\n",
              "      <td>Giannis Sklavos</td>\n",
              "      <td>15</td>\n",
              "      <td>4.806667</td>\n",
              "    </tr>\n",
              "  </tbody>\n",
              "</table>\n",
              "</div>"
            ],
            "text/plain": [
              "                              writer avg_vote          \n",
              "                                        count      mean\n",
              "3368                    Andrew Jones       20  3.250000\n",
              "10348                     Chris Hyde       11  3.790909\n",
              "45413          Neal Marshall Stevens       12  4.075000\n",
              "54066                 Rolfe Kanefsky       13  4.153846\n",
              "13240                 David A. Prior       12  4.300000\n",
              "29641     Jesús Franco, Jesús Franco       21  4.461905\n",
              "26964                   Jake Helgren       11  4.581818\n",
              "8878   Carlo Vanzina, Enrico Vanzina       32  4.656250\n",
              "40081                 Mariano Ozores       11  4.800000\n",
              "21481                Giannis Sklavos       15  4.806667"
            ]
          },
          "metadata": {
            "tags": []
          },
          "execution_count": 79
        }
      ]
    },
    {
      "cell_type": "code",
      "metadata": {
        "id": "WCIKHn8NqRw_",
        "colab": {
          "base_uri": "https://localhost:8080/",
          "height": 390
        },
        "outputId": "a058e83b-62f1-4e9d-b54e-d86b8715bb4a"
      },
      "source": [
        "imdb_writers_av_votes[imdb_writers_av_votes['avg_vote']['count']>5].sort_values(by=('avg_vote','count'), ascending=False).head(10)"
      ],
      "execution_count": null,
      "outputs": [
        {
          "output_type": "execute_result",
          "data": {
            "text/html": [
              "<div>\n",
              "<style scoped>\n",
              "    .dataframe tbody tr th:only-of-type {\n",
              "        vertical-align: middle;\n",
              "    }\n",
              "\n",
              "    .dataframe tbody tr th {\n",
              "        vertical-align: top;\n",
              "    }\n",
              "\n",
              "    .dataframe thead tr th {\n",
              "        text-align: left;\n",
              "    }\n",
              "</style>\n",
              "<table border=\"1\" class=\"dataframe\">\n",
              "  <thead>\n",
              "    <tr>\n",
              "      <th></th>\n",
              "      <th>writer</th>\n",
              "      <th colspan=\"2\" halign=\"left\">avg_vote</th>\n",
              "    </tr>\n",
              "    <tr>\n",
              "      <th></th>\n",
              "      <th></th>\n",
              "      <th>count</th>\n",
              "      <th>mean</th>\n",
              "    </tr>\n",
              "  </thead>\n",
              "  <tbody>\n",
              "    <tr>\n",
              "      <th>29999</th>\n",
              "      <td>Jing Wong</td>\n",
              "      <td>84</td>\n",
              "      <td>5.664286</td>\n",
              "    </tr>\n",
              "    <tr>\n",
              "      <th>35968</th>\n",
              "      <td>Kuang Ni</td>\n",
              "      <td>45</td>\n",
              "      <td>6.448889</td>\n",
              "    </tr>\n",
              "    <tr>\n",
              "      <th>65383</th>\n",
              "      <td>Woody Allen</td>\n",
              "      <td>40</td>\n",
              "      <td>6.962500</td>\n",
              "    </tr>\n",
              "    <tr>\n",
              "      <th>17334</th>\n",
              "      <td>Erdogan Tünas</td>\n",
              "      <td>35</td>\n",
              "      <td>5.782857</td>\n",
              "    </tr>\n",
              "    <tr>\n",
              "      <th>37295</th>\n",
              "      <td>Leonardo Benvenuti, Piero De Bernardi</td>\n",
              "      <td>34</td>\n",
              "      <td>6.441176</td>\n",
              "    </tr>\n",
              "    <tr>\n",
              "      <th>8878</th>\n",
              "      <td>Carlo Vanzina, Enrico Vanzina</td>\n",
              "      <td>32</td>\n",
              "      <td>4.656250</td>\n",
              "    </tr>\n",
              "    <tr>\n",
              "      <th>9968</th>\n",
              "      <td>Cheh Chang, Kuang Ni</td>\n",
              "      <td>31</td>\n",
              "      <td>6.732258</td>\n",
              "    </tr>\n",
              "    <tr>\n",
              "      <th>21466</th>\n",
              "      <td>Giannis Dalianidis</td>\n",
              "      <td>29</td>\n",
              "      <td>6.051724</td>\n",
              "    </tr>\n",
              "    <tr>\n",
              "      <th>55241</th>\n",
              "      <td>Safa Önal</td>\n",
              "      <td>27</td>\n",
              "      <td>6.288889</td>\n",
              "    </tr>\n",
              "    <tr>\n",
              "      <th>25612</th>\n",
              "      <td>Ingmar Bergman</td>\n",
              "      <td>27</td>\n",
              "      <td>7.540741</td>\n",
              "    </tr>\n",
              "  </tbody>\n",
              "</table>\n",
              "</div>"
            ],
            "text/plain": [
              "                                      writer avg_vote          \n",
              "                                                count      mean\n",
              "29999                              Jing Wong       84  5.664286\n",
              "35968                               Kuang Ni       45  6.448889\n",
              "65383                            Woody Allen       40  6.962500\n",
              "17334                          Erdogan Tünas       35  5.782857\n",
              "37295  Leonardo Benvenuti, Piero De Bernardi       34  6.441176\n",
              "8878           Carlo Vanzina, Enrico Vanzina       32  4.656250\n",
              "9968                    Cheh Chang, Kuang Ni       31  6.732258\n",
              "21466                     Giannis Dalianidis       29  6.051724\n",
              "55241                              Safa Önal       27  6.288889\n",
              "25612                         Ingmar Bergman       27  7.540741"
            ]
          },
          "metadata": {
            "tags": []
          },
          "execution_count": 80
        }
      ]
    },
    {
      "cell_type": "code",
      "metadata": {
        "id": "yo6aUZ0nqY4U",
        "colab": {
          "base_uri": "https://localhost:8080/",
          "height": 390
        },
        "outputId": "d1d0835d-8056-41c4-e64c-43a7f4f99d6d"
      },
      "source": [
        "imdb_writers_sum_votes=imdb_movies[['writer','votes']].groupby('writer').agg(['count', 'sum']).reset_index()\n",
        "imdb_writers_sum_votes['votes_per_film'] = imdb_writers_sum_votes['votes']['sum']/imdb_writers_sum_votes['votes']['count']\n",
        "imdb_writers_sum_votes['votes_per_film']=imdb_writers_sum_votes['votes_per_film'].astype('int')\n",
        "imdb_writers_sum_votes[imdb_writers_sum_votes['votes']['count']>5].sort_values(by=('votes_per_film'), ascending=False).head(10)"
      ],
      "execution_count": null,
      "outputs": [
        {
          "output_type": "execute_result",
          "data": {
            "text/html": [
              "<div>\n",
              "<style scoped>\n",
              "    .dataframe tbody tr th:only-of-type {\n",
              "        vertical-align: middle;\n",
              "    }\n",
              "\n",
              "    .dataframe tbody tr th {\n",
              "        vertical-align: top;\n",
              "    }\n",
              "\n",
              "    .dataframe thead tr th {\n",
              "        text-align: left;\n",
              "    }\n",
              "</style>\n",
              "<table border=\"1\" class=\"dataframe\">\n",
              "  <thead>\n",
              "    <tr>\n",
              "      <th></th>\n",
              "      <th>writer</th>\n",
              "      <th colspan=\"2\" halign=\"left\">votes</th>\n",
              "      <th>votes_per_film</th>\n",
              "    </tr>\n",
              "    <tr>\n",
              "      <th></th>\n",
              "      <th></th>\n",
              "      <th>count</th>\n",
              "      <th>sum</th>\n",
              "      <th></th>\n",
              "    </tr>\n",
              "  </thead>\n",
              "  <tbody>\n",
              "    <tr>\n",
              "      <th>50296</th>\n",
              "      <td>Quentin Tarantino</td>\n",
              "      <td>6</td>\n",
              "      <td>4020378</td>\n",
              "      <td>670063</td>\n",
              "    </tr>\n",
              "    <tr>\n",
              "      <th>10874</th>\n",
              "      <td>Christopher Markus, Stephen McFeely</td>\n",
              "      <td>8</td>\n",
              "      <td>3992065</td>\n",
              "      <td>499008</td>\n",
              "    </tr>\n",
              "    <tr>\n",
              "      <th>37682</th>\n",
              "      <td>Lilly Wachowski, Lana Wachowski</td>\n",
              "      <td>8</td>\n",
              "      <td>3957627</td>\n",
              "      <td>494703</td>\n",
              "    </tr>\n",
              "    <tr>\n",
              "      <th>19029</th>\n",
              "      <td>Fran Walsh, Philippa Boyens</td>\n",
              "      <td>6</td>\n",
              "      <td>2439951</td>\n",
              "      <td>406658</td>\n",
              "    </tr>\n",
              "    <tr>\n",
              "      <th>51745</th>\n",
              "      <td>Rhett Reese, Paul Wernick</td>\n",
              "      <td>6</td>\n",
              "      <td>2352446</td>\n",
              "      <td>392074</td>\n",
              "    </tr>\n",
              "    <tr>\n",
              "      <th>53518</th>\n",
              "      <td>Robert Zemeckis, Bob Gale</td>\n",
              "      <td>6</td>\n",
              "      <td>1937286</td>\n",
              "      <td>322881</td>\n",
              "    </tr>\n",
              "    <tr>\n",
              "      <th>3420</th>\n",
              "      <td>Andrew Niccol</td>\n",
              "      <td>7</td>\n",
              "      <td>1956048</td>\n",
              "      <td>279435</td>\n",
              "    </tr>\n",
              "    <tr>\n",
              "      <th>13287</th>\n",
              "      <td>David Ayer</td>\n",
              "      <td>6</td>\n",
              "      <td>1675039</td>\n",
              "      <td>279173</td>\n",
              "    </tr>\n",
              "    <tr>\n",
              "      <th>38834</th>\n",
              "      <td>M. Night Shyamalan</td>\n",
              "      <td>12</td>\n",
              "      <td>3002774</td>\n",
              "      <td>250231</td>\n",
              "    </tr>\n",
              "    <tr>\n",
              "      <th>38274</th>\n",
              "      <td>Luc Besson, Robert Mark Kamen</td>\n",
              "      <td>10</td>\n",
              "      <td>2200519</td>\n",
              "      <td>220051</td>\n",
              "    </tr>\n",
              "  </tbody>\n",
              "</table>\n",
              "</div>"
            ],
            "text/plain": [
              "                                    writer votes          votes_per_film\n",
              "                                           count      sum               \n",
              "50296                    Quentin Tarantino     6  4020378         670063\n",
              "10874  Christopher Markus, Stephen McFeely     8  3992065         499008\n",
              "37682      Lilly Wachowski, Lana Wachowski     8  3957627         494703\n",
              "19029          Fran Walsh, Philippa Boyens     6  2439951         406658\n",
              "51745            Rhett Reese, Paul Wernick     6  2352446         392074\n",
              "53518            Robert Zemeckis, Bob Gale     6  1937286         322881\n",
              "3420                         Andrew Niccol     7  1956048         279435\n",
              "13287                           David Ayer     6  1675039         279173\n",
              "38834                   M. Night Shyamalan    12  3002774         250231\n",
              "38274        Luc Besson, Robert Mark Kamen    10  2200519         220051"
            ]
          },
          "metadata": {
            "tags": []
          },
          "execution_count": 81
        }
      ]
    },
    {
      "cell_type": "markdown",
      "metadata": {
        "id": "9W8xArYTDiXq"
      },
      "source": [
        "#Reżyser - dochód z filmów - Kasia"
      ]
    },
    {
      "cell_type": "markdown",
      "metadata": {
        "id": "ayQvVo1kDsy8"
      },
      "source": [
        "##Reżyserzy z największą ilością filmów"
      ]
    },
    {
      "cell_type": "code",
      "metadata": {
        "id": "CxuXSsn4cQsR",
        "colab": {
          "base_uri": "https://localhost:8080/"
        },
        "outputId": "35dd23fb-6887-42f6-cb6a-cf4975336dc2"
      },
      "source": [
        "#Reżyserzy z największą liczbą filmów\n",
        "imdb_movies['director'].value_counts().head(10)"
      ],
      "execution_count": null,
      "outputs": [
        {
          "output_type": "execute_result",
          "data": {
            "text/plain": [
              "Jesús Franco        87\n",
              "Michael Curtiz      85\n",
              "Lesley Selander     78\n",
              "Lloyd Bacon         73\n",
              "William Beaudine    70\n",
              "Richard Thorpe      68\n",
              "John Ford           67\n",
              "Gordon Douglas      64\n",
              "Raoul Walsh         61\n",
              "Mervyn LeRoy        59\n",
              "Name: director, dtype: int64"
            ]
          },
          "metadata": {
            "tags": []
          },
          "execution_count": 82
        }
      ]
    },
    {
      "cell_type": "markdown",
      "metadata": {
        "id": "v63jzkQGD1Lw"
      },
      "source": [
        "##Reżyserzy, których filmy osiągnęły największy dochód na świecie - dot. dochodów podanych w USD"
      ]
    },
    {
      "cell_type": "code",
      "metadata": {
        "id": "LFyztu93UhX2"
      },
      "source": [
        "#nowa df z danymi gdzie worlwide_gross_income w dolarach\n",
        "imdb_movies_USD_wwincome = imdb_movies[imdb_movies['currency_for_wwincome']=='$']"
      ],
      "execution_count": null,
      "outputs": []
    },
    {
      "cell_type": "code",
      "metadata": {
        "id": "4BZqQs48eEk2",
        "colab": {
          "base_uri": "https://localhost:8080/",
          "height": 669
        },
        "outputId": "91ef56bd-f891-4179-f374-fb563aa0e7fb"
      },
      "source": [
        "#Reżyserzy z największym dochodem w dolarach-dochód z wszystkich filmów\n",
        "imdb_director_worlwide_income=imdb_movies_USD_wwincome.groupby('director').agg({'imdb_title_id':'count','worlwide_gross_income':'sum'}).reset_index().rename(columns={'imdb_title_id':'films_count'}).sort_values(by='worlwide_gross_income', ascending=False)\n",
        "imdb_director_worlwide_income['worlwide_gross_income']=imdb_director_worlwide_income['worlwide_gross_income']/1000000\n",
        "imdb_director_worlwide_income['worlwide_gross_income'] = round(imdb_director_worlwide_income['worlwide_gross_income'],2)\n",
        "imdb_director_worlwide_income.columns = ['director', 'films_count', 'worlwide_gross_income_in_mln']\n",
        "imdb_director_worlwide_income.head(20)"
      ],
      "execution_count": null,
      "outputs": [
        {
          "output_type": "execute_result",
          "data": {
            "text/html": [
              "<div>\n",
              "<style scoped>\n",
              "    .dataframe tbody tr th:only-of-type {\n",
              "        vertical-align: middle;\n",
              "    }\n",
              "\n",
              "    .dataframe tbody tr th {\n",
              "        vertical-align: top;\n",
              "    }\n",
              "\n",
              "    .dataframe thead th {\n",
              "        text-align: right;\n",
              "    }\n",
              "</style>\n",
              "<table border=\"1\" class=\"dataframe\">\n",
              "  <thead>\n",
              "    <tr style=\"text-align: right;\">\n",
              "      <th></th>\n",
              "      <th>director</th>\n",
              "      <th>films_count</th>\n",
              "      <th>worlwide_gross_income_in_mln</th>\n",
              "    </tr>\n",
              "  </thead>\n",
              "  <tbody>\n",
              "    <tr>\n",
              "      <th>30601</th>\n",
              "      <td>Steven Spielberg</td>\n",
              "      <td>32</td>\n",
              "      <td>10521.27</td>\n",
              "    </tr>\n",
              "    <tr>\n",
              "      <th>2352</th>\n",
              "      <td>Anthony Russo, Joe Russo</td>\n",
              "      <td>6</td>\n",
              "      <td>6848.72</td>\n",
              "    </tr>\n",
              "    <tr>\n",
              "      <th>25192</th>\n",
              "      <td>Peter Jackson</td>\n",
              "      <td>13</td>\n",
              "      <td>6601.46</td>\n",
              "    </tr>\n",
              "    <tr>\n",
              "      <th>21769</th>\n",
              "      <td>Michael Bay</td>\n",
              "      <td>14</td>\n",
              "      <td>6451.69</td>\n",
              "    </tr>\n",
              "    <tr>\n",
              "      <th>13738</th>\n",
              "      <td>James Cameron</td>\n",
              "      <td>7</td>\n",
              "      <td>6185.44</td>\n",
              "    </tr>\n",
              "    <tr>\n",
              "      <th>7486</th>\n",
              "      <td>David Yates</td>\n",
              "      <td>8</td>\n",
              "      <td>6021.26</td>\n",
              "    </tr>\n",
              "    <tr>\n",
              "      <th>5748</th>\n",
              "      <td>Christopher Nolan</td>\n",
              "      <td>11</td>\n",
              "      <td>4870.77</td>\n",
              "    </tr>\n",
              "    <tr>\n",
              "      <th>13335</th>\n",
              "      <td>J.J. Abrams</td>\n",
              "      <td>6</td>\n",
              "      <td>4653.99</td>\n",
              "    </tr>\n",
              "    <tr>\n",
              "      <th>27840</th>\n",
              "      <td>Ron Howard</td>\n",
              "      <td>25</td>\n",
              "      <td>4390.73</td>\n",
              "    </tr>\n",
              "    <tr>\n",
              "      <th>16072</th>\n",
              "      <td>Jon Favreau</td>\n",
              "      <td>9</td>\n",
              "      <td>4348.73</td>\n",
              "    </tr>\n",
              "    <tr>\n",
              "      <th>31755</th>\n",
              "      <td>Tim Burton</td>\n",
              "      <td>18</td>\n",
              "      <td>4338.31</td>\n",
              "    </tr>\n",
              "    <tr>\n",
              "      <th>5370</th>\n",
              "      <td>Chris Columbus</td>\n",
              "      <td>15</td>\n",
              "      <td>4134.54</td>\n",
              "    </tr>\n",
              "    <tr>\n",
              "      <th>27047</th>\n",
              "      <td>Ridley Scott</td>\n",
              "      <td>25</td>\n",
              "      <td>4114.60</td>\n",
              "    </tr>\n",
              "    <tr>\n",
              "      <th>27755</th>\n",
              "      <td>Roland Emmerich</td>\n",
              "      <td>17</td>\n",
              "      <td>3994.57</td>\n",
              "    </tr>\n",
              "    <tr>\n",
              "      <th>27521</th>\n",
              "      <td>Robert Zemeckis</td>\n",
              "      <td>18</td>\n",
              "      <td>3981.27</td>\n",
              "    </tr>\n",
              "    <tr>\n",
              "      <th>11319</th>\n",
              "      <td>Gore Verbinski</td>\n",
              "      <td>10</td>\n",
              "      <td>3753.02</td>\n",
              "    </tr>\n",
              "    <tr>\n",
              "      <th>4460</th>\n",
              "      <td>Bryan Singer</td>\n",
              "      <td>11</td>\n",
              "      <td>3723.43</td>\n",
              "    </tr>\n",
              "    <tr>\n",
              "      <th>13937</th>\n",
              "      <td>James Wan</td>\n",
              "      <td>9</td>\n",
              "      <td>3708.17</td>\n",
              "    </tr>\n",
              "    <tr>\n",
              "      <th>10748</th>\n",
              "      <td>George Lucas</td>\n",
              "      <td>6</td>\n",
              "      <td>3442.46</td>\n",
              "    </tr>\n",
              "    <tr>\n",
              "      <th>6004</th>\n",
              "      <td>Clint Eastwood</td>\n",
              "      <td>38</td>\n",
              "      <td>3418.01</td>\n",
              "    </tr>\n",
              "  </tbody>\n",
              "</table>\n",
              "</div>"
            ],
            "text/plain": [
              "                       director  films_count  worlwide_gross_income_in_mln\n",
              "30601          Steven Spielberg           32                      10521.27\n",
              "2352   Anthony Russo, Joe Russo            6                       6848.72\n",
              "25192             Peter Jackson           13                       6601.46\n",
              "21769               Michael Bay           14                       6451.69\n",
              "13738             James Cameron            7                       6185.44\n",
              "7486                David Yates            8                       6021.26\n",
              "5748          Christopher Nolan           11                       4870.77\n",
              "13335               J.J. Abrams            6                       4653.99\n",
              "27840                Ron Howard           25                       4390.73\n",
              "16072               Jon Favreau            9                       4348.73\n",
              "31755                Tim Burton           18                       4338.31\n",
              "5370             Chris Columbus           15                       4134.54\n",
              "27047              Ridley Scott           25                       4114.60\n",
              "27755           Roland Emmerich           17                       3994.57\n",
              "27521           Robert Zemeckis           18                       3981.27\n",
              "11319            Gore Verbinski           10                       3753.02\n",
              "4460               Bryan Singer           11                       3723.43\n",
              "13937                 James Wan            9                       3708.17\n",
              "10748              George Lucas            6                       3442.46\n",
              "6004             Clint Eastwood           38                       3418.01"
            ]
          },
          "metadata": {
            "tags": []
          },
          "execution_count": 84
        }
      ]
    },
    {
      "cell_type": "code",
      "metadata": {
        "id": "hwl_rcZxWGx2",
        "colab": {
          "base_uri": "https://localhost:8080/",
          "height": 204
        },
        "outputId": "54caeccc-807f-40e5-8fcc-5c5c7f033f12"
      },
      "source": [
        "#średni dochód z filmów na świecie\n",
        "imdb_director_worlwide_income['average_worlwide_income_in_mln']=imdb_director_worlwide_income['worlwide_gross_income_in_mln']/imdb_director_worlwide_income['films_count']\n",
        "imdb_director_worlwide_income['average_worlwide_income_in_mln']=imdb_director_worlwide_income['average_worlwide_income_in_mln'].astype(int)\n",
        "imdb_director_worlwide_income.sort_values(by='average_worlwide_income_in_mln', ascending=False).head()"
      ],
      "execution_count": null,
      "outputs": [
        {
          "output_type": "execute_result",
          "data": {
            "text/html": [
              "<div>\n",
              "<style scoped>\n",
              "    .dataframe tbody tr th:only-of-type {\n",
              "        vertical-align: middle;\n",
              "    }\n",
              "\n",
              "    .dataframe tbody tr th {\n",
              "        vertical-align: top;\n",
              "    }\n",
              "\n",
              "    .dataframe thead th {\n",
              "        text-align: right;\n",
              "    }\n",
              "</style>\n",
              "<table border=\"1\" class=\"dataframe\">\n",
              "  <thead>\n",
              "    <tr style=\"text-align: right;\">\n",
              "      <th></th>\n",
              "      <th>director</th>\n",
              "      <th>films_count</th>\n",
              "      <th>worlwide_gross_income_in_mln</th>\n",
              "      <th>average_worlwide_income_in_mln</th>\n",
              "    </tr>\n",
              "  </thead>\n",
              "  <tbody>\n",
              "    <tr>\n",
              "      <th>5362</th>\n",
              "      <td>Chris Buck, Jennifer Lee</td>\n",
              "      <td>2</td>\n",
              "      <td>2730.83</td>\n",
              "      <td>1365</td>\n",
              "    </tr>\n",
              "    <tr>\n",
              "      <th>2352</th>\n",
              "      <td>Anthony Russo, Joe Russo</td>\n",
              "      <td>6</td>\n",
              "      <td>6848.72</td>\n",
              "      <td>1141</td>\n",
              "    </tr>\n",
              "    <tr>\n",
              "      <th>18500</th>\n",
              "      <td>Kyle Balda, Pierre Coffin</td>\n",
              "      <td>2</td>\n",
              "      <td>2194.24</td>\n",
              "      <td>1097</td>\n",
              "    </tr>\n",
              "    <tr>\n",
              "      <th>16531</th>\n",
              "      <td>Josh Cooley</td>\n",
              "      <td>1</td>\n",
              "      <td>1073.39</td>\n",
              "      <td>1073</td>\n",
              "    </tr>\n",
              "    <tr>\n",
              "      <th>18950</th>\n",
              "      <td>Lee Unkrich</td>\n",
              "      <td>1</td>\n",
              "      <td>1066.97</td>\n",
              "      <td>1066</td>\n",
              "    </tr>\n",
              "  </tbody>\n",
              "</table>\n",
              "</div>"
            ],
            "text/plain": [
              "                        director  ...  average_worlwide_income_in_mln\n",
              "5362    Chris Buck, Jennifer Lee  ...                            1365\n",
              "2352    Anthony Russo, Joe Russo  ...                            1141\n",
              "18500  Kyle Balda, Pierre Coffin  ...                            1097\n",
              "16531                Josh Cooley  ...                            1073\n",
              "18950                Lee Unkrich  ...                            1066\n",
              "\n",
              "[5 rows x 4 columns]"
            ]
          },
          "metadata": {
            "tags": []
          },
          "execution_count": 85
        }
      ]
    },
    {
      "cell_type": "markdown",
      "metadata": {
        "id": "uL_1jfbjxCOx"
      },
      "source": [
        "##Bollywood"
      ]
    },
    {
      "cell_type": "code",
      "metadata": {
        "id": "0rVFUnU-wtrY"
      },
      "source": [
        "##Bolywood\n",
        "#nowa df z danymi gdzie worlwide_gross_income w rupii indyjskiej \n",
        "imdb_movies_INR = imdb_movies[imdb_movies['currency_for_wwincome']=='INR']"
      ],
      "execution_count": null,
      "outputs": []
    },
    {
      "cell_type": "code",
      "metadata": {
        "id": "GyUQxE9RxmPf",
        "colab": {
          "base_uri": "https://localhost:8080/",
          "height": 359
        },
        "outputId": "599795ef-ceb6-4342-bfe2-388a2050bce1"
      },
      "source": [
        "#Reżyserzy z największym dochodem w rupii indyjskiej\n",
        "imdb_movies_INR.groupby('director').agg({'imdb_title_id':'count','worlwide_gross_income':'sum'}).reset_index().rename(columns={'imdb_title_id':'films_count'}).sort_values(by='worlwide_gross_income', ascending=False).head(10)"
      ],
      "execution_count": null,
      "outputs": [
        {
          "output_type": "execute_result",
          "data": {
            "text/html": [
              "<div>\n",
              "<style scoped>\n",
              "    .dataframe tbody tr th:only-of-type {\n",
              "        vertical-align: middle;\n",
              "    }\n",
              "\n",
              "    .dataframe tbody tr th {\n",
              "        vertical-align: top;\n",
              "    }\n",
              "\n",
              "    .dataframe thead th {\n",
              "        text-align: right;\n",
              "    }\n",
              "</style>\n",
              "<table border=\"1\" class=\"dataframe\">\n",
              "  <thead>\n",
              "    <tr style=\"text-align: right;\">\n",
              "      <th></th>\n",
              "      <th>director</th>\n",
              "      <th>films_count</th>\n",
              "      <th>worlwide_gross_income</th>\n",
              "    </tr>\n",
              "  </thead>\n",
              "  <tbody>\n",
              "    <tr>\n",
              "      <th>29</th>\n",
              "      <td>Puri Jagannadh</td>\n",
              "      <td>3</td>\n",
              "      <td>1330300000</td>\n",
              "    </tr>\n",
              "    <tr>\n",
              "      <th>28</th>\n",
              "      <td>Prem</td>\n",
              "      <td>1</td>\n",
              "      <td>1300000000</td>\n",
              "    </tr>\n",
              "    <tr>\n",
              "      <th>26</th>\n",
              "      <td>P. Vasu</td>\n",
              "      <td>2</td>\n",
              "      <td>923400000</td>\n",
              "    </tr>\n",
              "    <tr>\n",
              "      <th>15</th>\n",
              "      <td>K.S. Ravikumar</td>\n",
              "      <td>2</td>\n",
              "      <td>740000000</td>\n",
              "    </tr>\n",
              "    <tr>\n",
              "      <th>44</th>\n",
              "      <td>Thiru</td>\n",
              "      <td>1</td>\n",
              "      <td>740000000</td>\n",
              "    </tr>\n",
              "    <tr>\n",
              "      <th>17</th>\n",
              "      <td>Kishore Kumar Pardasani</td>\n",
              "      <td>1</td>\n",
              "      <td>660100000</td>\n",
              "    </tr>\n",
              "    <tr>\n",
              "      <th>4</th>\n",
              "      <td>Alphonse Puthren</td>\n",
              "      <td>1</td>\n",
              "      <td>600000000</td>\n",
              "    </tr>\n",
              "    <tr>\n",
              "      <th>51</th>\n",
              "      <td>Vignesh Shivan</td>\n",
              "      <td>1</td>\n",
              "      <td>550000000</td>\n",
              "    </tr>\n",
              "    <tr>\n",
              "      <th>36</th>\n",
              "      <td>Satish Vegesna</td>\n",
              "      <td>1</td>\n",
              "      <td>530500000</td>\n",
              "    </tr>\n",
              "    <tr>\n",
              "      <th>12</th>\n",
              "      <td>Hari</td>\n",
              "      <td>1</td>\n",
              "      <td>510000000</td>\n",
              "    </tr>\n",
              "  </tbody>\n",
              "</table>\n",
              "</div>"
            ],
            "text/plain": [
              "                   director  films_count  worlwide_gross_income\n",
              "29           Puri Jagannadh            3             1330300000\n",
              "28                     Prem            1             1300000000\n",
              "26                  P. Vasu            2              923400000\n",
              "15           K.S. Ravikumar            2              740000000\n",
              "44                    Thiru            1              740000000\n",
              "17  Kishore Kumar Pardasani            1              660100000\n",
              "4          Alphonse Puthren            1              600000000\n",
              "51           Vignesh Shivan            1              550000000\n",
              "36           Satish Vegesna            1              530500000\n",
              "12                     Hari            1              510000000"
            ]
          },
          "metadata": {
            "tags": []
          },
          "execution_count": 87
        }
      ]
    },
    {
      "cell_type": "markdown",
      "metadata": {
        "id": "MU-1SgHdye9g"
      },
      "source": [
        "##Reżyserzy - dochód z filmów w USA"
      ]
    },
    {
      "cell_type": "code",
      "metadata": {
        "id": "5i5dorjmyjOO",
        "colab": {
          "base_uri": "https://localhost:8080/",
          "height": 666
        },
        "outputId": "da0be234-cadc-4c2a-9c92-8ad42b2bd6dd"
      },
      "source": [
        "imdb_movies[imdb_movies['usa_gross_income'].notnull()].head()"
      ],
      "execution_count": null,
      "outputs": [
        {
          "output_type": "execute_result",
          "data": {
            "text/html": [
              "<div>\n",
              "<style scoped>\n",
              "    .dataframe tbody tr th:only-of-type {\n",
              "        vertical-align: middle;\n",
              "    }\n",
              "\n",
              "    .dataframe tbody tr th {\n",
              "        vertical-align: top;\n",
              "    }\n",
              "\n",
              "    .dataframe thead th {\n",
              "        text-align: right;\n",
              "    }\n",
              "</style>\n",
              "<table border=\"1\" class=\"dataframe\">\n",
              "  <thead>\n",
              "    <tr style=\"text-align: right;\">\n",
              "      <th></th>\n",
              "      <th>imdb_title_id</th>\n",
              "      <th>title</th>\n",
              "      <th>original_title</th>\n",
              "      <th>year</th>\n",
              "      <th>date_published</th>\n",
              "      <th>genre</th>\n",
              "      <th>duration</th>\n",
              "      <th>country</th>\n",
              "      <th>language</th>\n",
              "      <th>director</th>\n",
              "      <th>writer</th>\n",
              "      <th>production_company</th>\n",
              "      <th>actors</th>\n",
              "      <th>description</th>\n",
              "      <th>avg_vote</th>\n",
              "      <th>votes</th>\n",
              "      <th>budget</th>\n",
              "      <th>usa_gross_income</th>\n",
              "      <th>worlwide_gross_income</th>\n",
              "      <th>metascore</th>\n",
              "      <th>reviews_from_users</th>\n",
              "      <th>reviews_from_critics</th>\n",
              "      <th>currency_for_wwincome</th>\n",
              "      <th>currency_for_usaincome</th>\n",
              "      <th>currency_for_budget</th>\n",
              "      <th>genre_list</th>\n",
              "      <th>writer_1</th>\n",
              "      <th>writer_2</th>\n",
              "      <th>director_1</th>\n",
              "      <th>director_2</th>\n",
              "    </tr>\n",
              "  </thead>\n",
              "  <tbody>\n",
              "    <tr>\n",
              "      <th>0</th>\n",
              "      <td>tt0000009</td>\n",
              "      <td>Miss Jerry</td>\n",
              "      <td>Miss Jerry</td>\n",
              "      <td>1894</td>\n",
              "      <td>1894-10-09</td>\n",
              "      <td>Romance</td>\n",
              "      <td>45</td>\n",
              "      <td>USA</td>\n",
              "      <td>None</td>\n",
              "      <td>Alexander Black</td>\n",
              "      <td>Alexander Black</td>\n",
              "      <td>Alexander Black Photoplays</td>\n",
              "      <td>Blanche Bayliss, William Courtenay, Chauncey D...</td>\n",
              "      <td>The adventures of a female reporter in the 1890s.</td>\n",
              "      <td>5.9</td>\n",
              "      <td>154</td>\n",
              "      <td>0</td>\n",
              "      <td>0</td>\n",
              "      <td>0</td>\n",
              "      <td>NaN</td>\n",
              "      <td>1.0</td>\n",
              "      <td>2.0</td>\n",
              "      <td>$</td>\n",
              "      <td>$</td>\n",
              "      <td>$</td>\n",
              "      <td>[Romance]</td>\n",
              "      <td>Alexander Black</td>\n",
              "      <td>None</td>\n",
              "      <td>Alexander Black</td>\n",
              "      <td>None</td>\n",
              "    </tr>\n",
              "    <tr>\n",
              "      <th>1</th>\n",
              "      <td>tt0000574</td>\n",
              "      <td>The Story of the Kelly Gang</td>\n",
              "      <td>The Story of the Kelly Gang</td>\n",
              "      <td>1906</td>\n",
              "      <td>1906-12-26</td>\n",
              "      <td>Biography, Crime, Drama</td>\n",
              "      <td>70</td>\n",
              "      <td>Australia</td>\n",
              "      <td>None</td>\n",
              "      <td>Charles Tait</td>\n",
              "      <td>Charles Tait</td>\n",
              "      <td>J. and N. Tait</td>\n",
              "      <td>Elizabeth Tait, John Tait, Norman Campbell, Be...</td>\n",
              "      <td>True story of notorious Australian outlaw Ned ...</td>\n",
              "      <td>6.1</td>\n",
              "      <td>589</td>\n",
              "      <td>2250</td>\n",
              "      <td>0</td>\n",
              "      <td>0</td>\n",
              "      <td>NaN</td>\n",
              "      <td>7.0</td>\n",
              "      <td>7.0</td>\n",
              "      <td>$</td>\n",
              "      <td>$</td>\n",
              "      <td>$</td>\n",
              "      <td>[Biography,  Crime,  Drama]</td>\n",
              "      <td>Charles Tait</td>\n",
              "      <td>None</td>\n",
              "      <td>Charles Tait</td>\n",
              "      <td>None</td>\n",
              "    </tr>\n",
              "    <tr>\n",
              "      <th>2</th>\n",
              "      <td>tt0001892</td>\n",
              "      <td>Den sorte drøm</td>\n",
              "      <td>Den sorte drøm</td>\n",
              "      <td>1911</td>\n",
              "      <td>1911-08-19</td>\n",
              "      <td>Drama</td>\n",
              "      <td>53</td>\n",
              "      <td>Germany, Denmark</td>\n",
              "      <td>NaN</td>\n",
              "      <td>Urban Gad</td>\n",
              "      <td>Urban Gad, Gebhard Schätzler-Perasini</td>\n",
              "      <td>Fotorama</td>\n",
              "      <td>Asta Nielsen, Valdemar Psilander, Gunnar Helse...</td>\n",
              "      <td>Two men of high rank are both wooing the beaut...</td>\n",
              "      <td>5.8</td>\n",
              "      <td>188</td>\n",
              "      <td>0</td>\n",
              "      <td>0</td>\n",
              "      <td>0</td>\n",
              "      <td>NaN</td>\n",
              "      <td>5.0</td>\n",
              "      <td>2.0</td>\n",
              "      <td>$</td>\n",
              "      <td>$</td>\n",
              "      <td>$</td>\n",
              "      <td>[Drama]</td>\n",
              "      <td>Urban Gad</td>\n",
              "      <td>Gebhard Schätzler-Perasini</td>\n",
              "      <td>Urban Gad</td>\n",
              "      <td>None</td>\n",
              "    </tr>\n",
              "    <tr>\n",
              "      <th>3</th>\n",
              "      <td>tt0002101</td>\n",
              "      <td>Cleopatra</td>\n",
              "      <td>Cleopatra</td>\n",
              "      <td>1912</td>\n",
              "      <td>1912-11-13</td>\n",
              "      <td>Drama, History</td>\n",
              "      <td>100</td>\n",
              "      <td>USA</td>\n",
              "      <td>English</td>\n",
              "      <td>Charles L. Gaskill</td>\n",
              "      <td>Victorien Sardou</td>\n",
              "      <td>Helen Gardner Picture Players</td>\n",
              "      <td>Helen Gardner, Pearl Sindelar, Miss Fielding, ...</td>\n",
              "      <td>The fabled queen of Egypt's affair with Roman ...</td>\n",
              "      <td>5.2</td>\n",
              "      <td>446</td>\n",
              "      <td>45000</td>\n",
              "      <td>0</td>\n",
              "      <td>0</td>\n",
              "      <td>NaN</td>\n",
              "      <td>25.0</td>\n",
              "      <td>3.0</td>\n",
              "      <td>$</td>\n",
              "      <td>$</td>\n",
              "      <td>$</td>\n",
              "      <td>[Drama,  History]</td>\n",
              "      <td>Victorien Sardou</td>\n",
              "      <td>None</td>\n",
              "      <td>Charles L. Gaskill</td>\n",
              "      <td>None</td>\n",
              "    </tr>\n",
              "    <tr>\n",
              "      <th>4</th>\n",
              "      <td>tt0002130</td>\n",
              "      <td>L'Inferno</td>\n",
              "      <td>L'Inferno</td>\n",
              "      <td>1911</td>\n",
              "      <td>1911-03-06</td>\n",
              "      <td>Adventure, Drama, Fantasy</td>\n",
              "      <td>68</td>\n",
              "      <td>Italy</td>\n",
              "      <td>Italian</td>\n",
              "      <td>Francesco Bertolini, Adolfo Padovan</td>\n",
              "      <td>Dante Alighieri</td>\n",
              "      <td>Milano Film</td>\n",
              "      <td>Salvatore Papa, Arturo Pirovano, Giuseppe de L...</td>\n",
              "      <td>Loosely adapted from Dante's Divine Comedy and...</td>\n",
              "      <td>7.0</td>\n",
              "      <td>2237</td>\n",
              "      <td>0</td>\n",
              "      <td>0</td>\n",
              "      <td>0</td>\n",
              "      <td>NaN</td>\n",
              "      <td>31.0</td>\n",
              "      <td>14.0</td>\n",
              "      <td>$</td>\n",
              "      <td>$</td>\n",
              "      <td>$</td>\n",
              "      <td>[Adventure,  Drama,  Fantasy]</td>\n",
              "      <td>Dante Alighieri</td>\n",
              "      <td>None</td>\n",
              "      <td>Francesco Bertolini</td>\n",
              "      <td>Adolfo Padovan</td>\n",
              "    </tr>\n",
              "  </tbody>\n",
              "</table>\n",
              "</div>"
            ],
            "text/plain": [
              "  imdb_title_id  ...       director_2\n",
              "0     tt0000009  ...             None\n",
              "1     tt0000574  ...             None\n",
              "2     tt0001892  ...             None\n",
              "3     tt0002101  ...             None\n",
              "4     tt0002130  ...   Adolfo Padovan\n",
              "\n",
              "[5 rows x 30 columns]"
            ]
          },
          "metadata": {
            "tags": []
          },
          "execution_count": 88
        }
      ]
    },
    {
      "cell_type": "code",
      "metadata": {
        "id": "K1jxMYb0iFSI"
      },
      "source": [
        "#nowa df z danymi gdzie usa_gross_income w dolarach\n",
        "imdb_movies_USD_usaincome = imdb_movies[imdb_movies['currency_for_usaincome']=='$']"
      ],
      "execution_count": null,
      "outputs": []
    },
    {
      "cell_type": "code",
      "metadata": {
        "id": "ZgcpMtPYiFSJ",
        "colab": {
          "base_uri": "https://localhost:8080/",
          "height": 669
        },
        "outputId": "3dd88797-353e-422f-c2b9-d2c77df59740"
      },
      "source": [
        "#Reżyserzy z największym dochodem w dolarach\n",
        "imdb_director_USA_income = imdb_movies_USD_usaincome.groupby('director').agg({'imdb_title_id':'count','usa_gross_income':'sum'}).reset_index().rename(columns={'imdb_title_id':'films_count'}).sort_values(by='usa_gross_income', ascending=False).head(20)\n",
        "imdb_director_USA_income"
      ],
      "execution_count": null,
      "outputs": [
        {
          "output_type": "execute_result",
          "data": {
            "text/html": [
              "<div>\n",
              "<style scoped>\n",
              "    .dataframe tbody tr th:only-of-type {\n",
              "        vertical-align: middle;\n",
              "    }\n",
              "\n",
              "    .dataframe tbody tr th {\n",
              "        vertical-align: top;\n",
              "    }\n",
              "\n",
              "    .dataframe thead th {\n",
              "        text-align: right;\n",
              "    }\n",
              "</style>\n",
              "<table border=\"1\" class=\"dataframe\">\n",
              "  <thead>\n",
              "    <tr style=\"text-align: right;\">\n",
              "      <th></th>\n",
              "      <th>director</th>\n",
              "      <th>films_count</th>\n",
              "      <th>usa_gross_income</th>\n",
              "    </tr>\n",
              "  </thead>\n",
              "  <tbody>\n",
              "    <tr>\n",
              "      <th>30607</th>\n",
              "      <td>Steven Spielberg</td>\n",
              "      <td>32</td>\n",
              "      <td>4510254035</td>\n",
              "    </tr>\n",
              "    <tr>\n",
              "      <th>21771</th>\n",
              "      <td>Michael Bay</td>\n",
              "      <td>14</td>\n",
              "      <td>2326509503</td>\n",
              "    </tr>\n",
              "    <tr>\n",
              "      <th>2353</th>\n",
              "      <td>Anthony Russo, Joe Russo</td>\n",
              "      <td>6</td>\n",
              "      <td>2281004133</td>\n",
              "    </tr>\n",
              "    <tr>\n",
              "      <th>13336</th>\n",
              "      <td>J.J. Abrams</td>\n",
              "      <td>6</td>\n",
              "      <td>2199407427</td>\n",
              "    </tr>\n",
              "    <tr>\n",
              "      <th>25197</th>\n",
              "      <td>Peter Jackson</td>\n",
              "      <td>13</td>\n",
              "      <td>2134677462</td>\n",
              "    </tr>\n",
              "    <tr>\n",
              "      <th>27845</th>\n",
              "      <td>Ron Howard</td>\n",
              "      <td>25</td>\n",
              "      <td>2106835706</td>\n",
              "    </tr>\n",
              "    <tr>\n",
              "      <th>5749</th>\n",
              "      <td>Christopher Nolan</td>\n",
              "      <td>11</td>\n",
              "      <td>2006601194</td>\n",
              "    </tr>\n",
              "    <tr>\n",
              "      <th>6005</th>\n",
              "      <td>Clint Eastwood</td>\n",
              "      <td>38</td>\n",
              "      <td>1978448340</td>\n",
              "    </tr>\n",
              "    <tr>\n",
              "      <th>13739</th>\n",
              "      <td>James Cameron</td>\n",
              "      <td>7</td>\n",
              "      <td>1950027629</td>\n",
              "    </tr>\n",
              "    <tr>\n",
              "      <th>27526</th>\n",
              "      <td>Robert Zemeckis</td>\n",
              "      <td>18</td>\n",
              "      <td>1949943723</td>\n",
              "    </tr>\n",
              "    <tr>\n",
              "      <th>31761</th>\n",
              "      <td>Tim Burton</td>\n",
              "      <td>18</td>\n",
              "      <td>1902383162</td>\n",
              "    </tr>\n",
              "    <tr>\n",
              "      <th>16073</th>\n",
              "      <td>Jon Favreau</td>\n",
              "      <td>9</td>\n",
              "      <td>1879970186</td>\n",
              "    </tr>\n",
              "    <tr>\n",
              "      <th>7487</th>\n",
              "      <td>David Yates</td>\n",
              "      <td>8</td>\n",
              "      <td>1792652412</td>\n",
              "    </tr>\n",
              "    <tr>\n",
              "      <th>5371</th>\n",
              "      <td>Chris Columbus</td>\n",
              "      <td>15</td>\n",
              "      <td>1751228822</td>\n",
              "    </tr>\n",
              "    <tr>\n",
              "      <th>10749</th>\n",
              "      <td>George Lucas</td>\n",
              "      <td>6</td>\n",
              "      <td>1743927501</td>\n",
              "    </tr>\n",
              "    <tr>\n",
              "      <th>27052</th>\n",
              "      <td>Ridley Scott</td>\n",
              "      <td>25</td>\n",
              "      <td>1661945255</td>\n",
              "    </tr>\n",
              "    <tr>\n",
              "      <th>28506</th>\n",
              "      <td>Sam Raimi</td>\n",
              "      <td>15</td>\n",
              "      <td>1530011153</td>\n",
              "    </tr>\n",
              "    <tr>\n",
              "      <th>11320</th>\n",
              "      <td>Gore Verbinski</td>\n",
              "      <td>10</td>\n",
              "      <td>1529410193</td>\n",
              "    </tr>\n",
              "    <tr>\n",
              "      <th>9950</th>\n",
              "      <td>Francis Lawrence</td>\n",
              "      <td>7</td>\n",
              "      <td>1481481244</td>\n",
              "    </tr>\n",
              "    <tr>\n",
              "      <th>31964</th>\n",
              "      <td>Todd Phillips</td>\n",
              "      <td>10</td>\n",
              "      <td>1373182950</td>\n",
              "    </tr>\n",
              "  </tbody>\n",
              "</table>\n",
              "</div>"
            ],
            "text/plain": [
              "                       director  films_count  usa_gross_income\n",
              "30607          Steven Spielberg           32        4510254035\n",
              "21771               Michael Bay           14        2326509503\n",
              "2353   Anthony Russo, Joe Russo            6        2281004133\n",
              "13336               J.J. Abrams            6        2199407427\n",
              "25197             Peter Jackson           13        2134677462\n",
              "27845                Ron Howard           25        2106835706\n",
              "5749          Christopher Nolan           11        2006601194\n",
              "6005             Clint Eastwood           38        1978448340\n",
              "13739             James Cameron            7        1950027629\n",
              "27526           Robert Zemeckis           18        1949943723\n",
              "31761                Tim Burton           18        1902383162\n",
              "16073               Jon Favreau            9        1879970186\n",
              "7487                David Yates            8        1792652412\n",
              "5371             Chris Columbus           15        1751228822\n",
              "10749              George Lucas            6        1743927501\n",
              "27052              Ridley Scott           25        1661945255\n",
              "28506                 Sam Raimi           15        1530011153\n",
              "11320            Gore Verbinski           10        1529410193\n",
              "9950           Francis Lawrence            7        1481481244\n",
              "31964             Todd Phillips           10        1373182950"
            ]
          },
          "metadata": {
            "tags": []
          },
          "execution_count": 90
        }
      ]
    },
    {
      "cell_type": "code",
      "metadata": {
        "id": "Ek8mQ8r4ZQIf",
        "colab": {
          "base_uri": "https://localhost:8080/",
          "height": 514
        },
        "outputId": "d5ee8f48-a50b-4099-85d0-5314a5a8d113"
      },
      "source": [
        "#średni dochód z filmów w USA\n",
        "imdb_director_USA_income['average_USA_income']=imdb_director_USA_income['usa_gross_income']/imdb_director_USA_income['films_count']\n",
        "imdb_director_USA_income['average_USA_income']=imdb_director_USA_income['average_USA_income'].astype(int)\n",
        "imdb_director_USA_income.sort_values(by='average_USA_income', ascending=False).head(15)"
      ],
      "execution_count": null,
      "outputs": [
        {
          "output_type": "execute_result",
          "data": {
            "text/html": [
              "<div>\n",
              "<style scoped>\n",
              "    .dataframe tbody tr th:only-of-type {\n",
              "        vertical-align: middle;\n",
              "    }\n",
              "\n",
              "    .dataframe tbody tr th {\n",
              "        vertical-align: top;\n",
              "    }\n",
              "\n",
              "    .dataframe thead th {\n",
              "        text-align: right;\n",
              "    }\n",
              "</style>\n",
              "<table border=\"1\" class=\"dataframe\">\n",
              "  <thead>\n",
              "    <tr style=\"text-align: right;\">\n",
              "      <th></th>\n",
              "      <th>director</th>\n",
              "      <th>films_count</th>\n",
              "      <th>usa_gross_income</th>\n",
              "      <th>average_USA_income</th>\n",
              "    </tr>\n",
              "  </thead>\n",
              "  <tbody>\n",
              "    <tr>\n",
              "      <th>2353</th>\n",
              "      <td>Anthony Russo, Joe Russo</td>\n",
              "      <td>6</td>\n",
              "      <td>2281004133</td>\n",
              "      <td>380167355</td>\n",
              "    </tr>\n",
              "    <tr>\n",
              "      <th>13336</th>\n",
              "      <td>J.J. Abrams</td>\n",
              "      <td>6</td>\n",
              "      <td>2199407427</td>\n",
              "      <td>366567904</td>\n",
              "    </tr>\n",
              "    <tr>\n",
              "      <th>10749</th>\n",
              "      <td>George Lucas</td>\n",
              "      <td>6</td>\n",
              "      <td>1743927501</td>\n",
              "      <td>290654583</td>\n",
              "    </tr>\n",
              "    <tr>\n",
              "      <th>13739</th>\n",
              "      <td>James Cameron</td>\n",
              "      <td>7</td>\n",
              "      <td>1950027629</td>\n",
              "      <td>278575375</td>\n",
              "    </tr>\n",
              "    <tr>\n",
              "      <th>7487</th>\n",
              "      <td>David Yates</td>\n",
              "      <td>8</td>\n",
              "      <td>1792652412</td>\n",
              "      <td>224081551</td>\n",
              "    </tr>\n",
              "    <tr>\n",
              "      <th>9950</th>\n",
              "      <td>Francis Lawrence</td>\n",
              "      <td>7</td>\n",
              "      <td>1481481244</td>\n",
              "      <td>211640177</td>\n",
              "    </tr>\n",
              "    <tr>\n",
              "      <th>16073</th>\n",
              "      <td>Jon Favreau</td>\n",
              "      <td>9</td>\n",
              "      <td>1879970186</td>\n",
              "      <td>208885576</td>\n",
              "    </tr>\n",
              "    <tr>\n",
              "      <th>5749</th>\n",
              "      <td>Christopher Nolan</td>\n",
              "      <td>11</td>\n",
              "      <td>2006601194</td>\n",
              "      <td>182418290</td>\n",
              "    </tr>\n",
              "    <tr>\n",
              "      <th>21771</th>\n",
              "      <td>Michael Bay</td>\n",
              "      <td>14</td>\n",
              "      <td>2326509503</td>\n",
              "      <td>166179250</td>\n",
              "    </tr>\n",
              "    <tr>\n",
              "      <th>25197</th>\n",
              "      <td>Peter Jackson</td>\n",
              "      <td>13</td>\n",
              "      <td>2134677462</td>\n",
              "      <td>164205958</td>\n",
              "    </tr>\n",
              "    <tr>\n",
              "      <th>11320</th>\n",
              "      <td>Gore Verbinski</td>\n",
              "      <td>10</td>\n",
              "      <td>1529410193</td>\n",
              "      <td>152941019</td>\n",
              "    </tr>\n",
              "    <tr>\n",
              "      <th>30607</th>\n",
              "      <td>Steven Spielberg</td>\n",
              "      <td>32</td>\n",
              "      <td>4510254035</td>\n",
              "      <td>140945438</td>\n",
              "    </tr>\n",
              "    <tr>\n",
              "      <th>31964</th>\n",
              "      <td>Todd Phillips</td>\n",
              "      <td>10</td>\n",
              "      <td>1373182950</td>\n",
              "      <td>137318295</td>\n",
              "    </tr>\n",
              "    <tr>\n",
              "      <th>5371</th>\n",
              "      <td>Chris Columbus</td>\n",
              "      <td>15</td>\n",
              "      <td>1751228822</td>\n",
              "      <td>116748588</td>\n",
              "    </tr>\n",
              "    <tr>\n",
              "      <th>27526</th>\n",
              "      <td>Robert Zemeckis</td>\n",
              "      <td>18</td>\n",
              "      <td>1949943723</td>\n",
              "      <td>108330206</td>\n",
              "    </tr>\n",
              "  </tbody>\n",
              "</table>\n",
              "</div>"
            ],
            "text/plain": [
              "                       director  ...  average_USA_income\n",
              "2353   Anthony Russo, Joe Russo  ...           380167355\n",
              "13336               J.J. Abrams  ...           366567904\n",
              "10749              George Lucas  ...           290654583\n",
              "13739             James Cameron  ...           278575375\n",
              "7487                David Yates  ...           224081551\n",
              "9950           Francis Lawrence  ...           211640177\n",
              "16073               Jon Favreau  ...           208885576\n",
              "5749          Christopher Nolan  ...           182418290\n",
              "21771               Michael Bay  ...           166179250\n",
              "25197             Peter Jackson  ...           164205958\n",
              "11320            Gore Verbinski  ...           152941019\n",
              "30607          Steven Spielberg  ...           140945438\n",
              "31964             Todd Phillips  ...           137318295\n",
              "5371             Chris Columbus  ...           116748588\n",
              "27526           Robert Zemeckis  ...           108330206\n",
              "\n",
              "[15 rows x 4 columns]"
            ]
          },
          "metadata": {
            "tags": []
          },
          "execution_count": 91
        }
      ]
    },
    {
      "cell_type": "markdown",
      "metadata": {
        "id": "iRLAO1Md3anR"
      },
      "source": [
        "##Reżyserzy - dochód na swiecie i w USA"
      ]
    },
    {
      "cell_type": "code",
      "metadata": {
        "id": "-cUwz8g_3pB0",
        "colab": {
          "base_uri": "https://localhost:8080/",
          "height": 204
        },
        "outputId": "9f9fed0e-ea9e-456c-acb9-5ce44713d348"
      },
      "source": [
        "#Reżyserzy z największym średnim dochodem na film w dolarach (tam gdzie i dochód na świecie i dochód w USA jest w $)\n",
        "imdb_movies_income_USD = imdb_movies[imdb_movies.currency_for_usaincome.eq('$') & imdb_movies.currency_for_wwincome.eq('$')]\n",
        "imdb_average_income = imdb_movies_income_USD.groupby('director').agg({'imdb_title_id':'count','usa_gross_income':'mean', 'worlwide_gross_income':'mean'}).reset_index().rename(columns={'imdb_title_id':'films_count'}).sort_values(by='worlwide_gross_income', ascending=False)\n",
        "imdb_average_income['usa_gross_income'] = imdb_average_income['usa_gross_income'].astype(int)\n",
        "imdb_average_income['worlwide_gross_income'] = imdb_average_income['worlwide_gross_income'].astype(int)\n",
        "imdb_average_income.head()\n"
      ],
      "execution_count": null,
      "outputs": [
        {
          "output_type": "execute_result",
          "data": {
            "text/html": [
              "<div>\n",
              "<style scoped>\n",
              "    .dataframe tbody tr th:only-of-type {\n",
              "        vertical-align: middle;\n",
              "    }\n",
              "\n",
              "    .dataframe tbody tr th {\n",
              "        vertical-align: top;\n",
              "    }\n",
              "\n",
              "    .dataframe thead th {\n",
              "        text-align: right;\n",
              "    }\n",
              "</style>\n",
              "<table border=\"1\" class=\"dataframe\">\n",
              "  <thead>\n",
              "    <tr style=\"text-align: right;\">\n",
              "      <th></th>\n",
              "      <th>director</th>\n",
              "      <th>films_count</th>\n",
              "      <th>usa_gross_income</th>\n",
              "      <th>worlwide_gross_income</th>\n",
              "    </tr>\n",
              "  </thead>\n",
              "  <tbody>\n",
              "    <tr>\n",
              "      <th>5362</th>\n",
              "      <td>Chris Buck, Jennifer Lee</td>\n",
              "      <td>2</td>\n",
              "      <td>439055793</td>\n",
              "      <td>1365415143</td>\n",
              "    </tr>\n",
              "    <tr>\n",
              "      <th>2352</th>\n",
              "      <td>Anthony Russo, Joe Russo</td>\n",
              "      <td>6</td>\n",
              "      <td>380167355</td>\n",
              "      <td>1141452591</td>\n",
              "    </tr>\n",
              "    <tr>\n",
              "      <th>18500</th>\n",
              "      <td>Kyle Balda, Pierre Coffin</td>\n",
              "      <td>2</td>\n",
              "      <td>300335035</td>\n",
              "      <td>1097121269</td>\n",
              "    </tr>\n",
              "    <tr>\n",
              "      <th>16531</th>\n",
              "      <td>Josh Cooley</td>\n",
              "      <td>1</td>\n",
              "      <td>434038008</td>\n",
              "      <td>1073394593</td>\n",
              "    </tr>\n",
              "    <tr>\n",
              "      <th>18950</th>\n",
              "      <td>Lee Unkrich</td>\n",
              "      <td>1</td>\n",
              "      <td>415004880</td>\n",
              "      <td>1066969703</td>\n",
              "    </tr>\n",
              "  </tbody>\n",
              "</table>\n",
              "</div>"
            ],
            "text/plain": [
              "                        director  ...  worlwide_gross_income\n",
              "5362    Chris Buck, Jennifer Lee  ...             1365415143\n",
              "2352    Anthony Russo, Joe Russo  ...             1141452591\n",
              "18500  Kyle Balda, Pierre Coffin  ...             1097121269\n",
              "16531                Josh Cooley  ...             1073394593\n",
              "18950                Lee Unkrich  ...             1066969703\n",
              "\n",
              "[5 rows x 4 columns]"
            ]
          },
          "metadata": {
            "tags": []
          },
          "execution_count": 92
        }
      ]
    },
    {
      "cell_type": "markdown",
      "metadata": {
        "id": "W57ihrLm4C-Z"
      },
      "source": [
        "##Reżyserzy - budżet filmów"
      ]
    },
    {
      "cell_type": "code",
      "metadata": {
        "id": "xOssCqd04YYP",
        "colab": {
          "base_uri": "https://localhost:8080/",
          "height": 666
        },
        "outputId": "98cdc460-06b9-4b24-9ebe-76c5f7cf5f30"
      },
      "source": [
        "imdb_movies[imdb_movies['budget'].notnull()].head()"
      ],
      "execution_count": null,
      "outputs": [
        {
          "output_type": "execute_result",
          "data": {
            "text/html": [
              "<div>\n",
              "<style scoped>\n",
              "    .dataframe tbody tr th:only-of-type {\n",
              "        vertical-align: middle;\n",
              "    }\n",
              "\n",
              "    .dataframe tbody tr th {\n",
              "        vertical-align: top;\n",
              "    }\n",
              "\n",
              "    .dataframe thead th {\n",
              "        text-align: right;\n",
              "    }\n",
              "</style>\n",
              "<table border=\"1\" class=\"dataframe\">\n",
              "  <thead>\n",
              "    <tr style=\"text-align: right;\">\n",
              "      <th></th>\n",
              "      <th>imdb_title_id</th>\n",
              "      <th>title</th>\n",
              "      <th>original_title</th>\n",
              "      <th>year</th>\n",
              "      <th>date_published</th>\n",
              "      <th>genre</th>\n",
              "      <th>duration</th>\n",
              "      <th>country</th>\n",
              "      <th>language</th>\n",
              "      <th>director</th>\n",
              "      <th>writer</th>\n",
              "      <th>production_company</th>\n",
              "      <th>actors</th>\n",
              "      <th>description</th>\n",
              "      <th>avg_vote</th>\n",
              "      <th>votes</th>\n",
              "      <th>budget</th>\n",
              "      <th>usa_gross_income</th>\n",
              "      <th>worlwide_gross_income</th>\n",
              "      <th>metascore</th>\n",
              "      <th>reviews_from_users</th>\n",
              "      <th>reviews_from_critics</th>\n",
              "      <th>currency_for_wwincome</th>\n",
              "      <th>currency_for_usaincome</th>\n",
              "      <th>currency_for_budget</th>\n",
              "      <th>genre_list</th>\n",
              "      <th>writer_1</th>\n",
              "      <th>writer_2</th>\n",
              "      <th>director_1</th>\n",
              "      <th>director_2</th>\n",
              "    </tr>\n",
              "  </thead>\n",
              "  <tbody>\n",
              "    <tr>\n",
              "      <th>0</th>\n",
              "      <td>tt0000009</td>\n",
              "      <td>Miss Jerry</td>\n",
              "      <td>Miss Jerry</td>\n",
              "      <td>1894</td>\n",
              "      <td>1894-10-09</td>\n",
              "      <td>Romance</td>\n",
              "      <td>45</td>\n",
              "      <td>USA</td>\n",
              "      <td>None</td>\n",
              "      <td>Alexander Black</td>\n",
              "      <td>Alexander Black</td>\n",
              "      <td>Alexander Black Photoplays</td>\n",
              "      <td>Blanche Bayliss, William Courtenay, Chauncey D...</td>\n",
              "      <td>The adventures of a female reporter in the 1890s.</td>\n",
              "      <td>5.9</td>\n",
              "      <td>154</td>\n",
              "      <td>0</td>\n",
              "      <td>0</td>\n",
              "      <td>0</td>\n",
              "      <td>NaN</td>\n",
              "      <td>1.0</td>\n",
              "      <td>2.0</td>\n",
              "      <td>$</td>\n",
              "      <td>$</td>\n",
              "      <td>$</td>\n",
              "      <td>[Romance]</td>\n",
              "      <td>Alexander Black</td>\n",
              "      <td>None</td>\n",
              "      <td>Alexander Black</td>\n",
              "      <td>None</td>\n",
              "    </tr>\n",
              "    <tr>\n",
              "      <th>1</th>\n",
              "      <td>tt0000574</td>\n",
              "      <td>The Story of the Kelly Gang</td>\n",
              "      <td>The Story of the Kelly Gang</td>\n",
              "      <td>1906</td>\n",
              "      <td>1906-12-26</td>\n",
              "      <td>Biography, Crime, Drama</td>\n",
              "      <td>70</td>\n",
              "      <td>Australia</td>\n",
              "      <td>None</td>\n",
              "      <td>Charles Tait</td>\n",
              "      <td>Charles Tait</td>\n",
              "      <td>J. and N. Tait</td>\n",
              "      <td>Elizabeth Tait, John Tait, Norman Campbell, Be...</td>\n",
              "      <td>True story of notorious Australian outlaw Ned ...</td>\n",
              "      <td>6.1</td>\n",
              "      <td>589</td>\n",
              "      <td>2250</td>\n",
              "      <td>0</td>\n",
              "      <td>0</td>\n",
              "      <td>NaN</td>\n",
              "      <td>7.0</td>\n",
              "      <td>7.0</td>\n",
              "      <td>$</td>\n",
              "      <td>$</td>\n",
              "      <td>$</td>\n",
              "      <td>[Biography,  Crime,  Drama]</td>\n",
              "      <td>Charles Tait</td>\n",
              "      <td>None</td>\n",
              "      <td>Charles Tait</td>\n",
              "      <td>None</td>\n",
              "    </tr>\n",
              "    <tr>\n",
              "      <th>2</th>\n",
              "      <td>tt0001892</td>\n",
              "      <td>Den sorte drøm</td>\n",
              "      <td>Den sorte drøm</td>\n",
              "      <td>1911</td>\n",
              "      <td>1911-08-19</td>\n",
              "      <td>Drama</td>\n",
              "      <td>53</td>\n",
              "      <td>Germany, Denmark</td>\n",
              "      <td>NaN</td>\n",
              "      <td>Urban Gad</td>\n",
              "      <td>Urban Gad, Gebhard Schätzler-Perasini</td>\n",
              "      <td>Fotorama</td>\n",
              "      <td>Asta Nielsen, Valdemar Psilander, Gunnar Helse...</td>\n",
              "      <td>Two men of high rank are both wooing the beaut...</td>\n",
              "      <td>5.8</td>\n",
              "      <td>188</td>\n",
              "      <td>0</td>\n",
              "      <td>0</td>\n",
              "      <td>0</td>\n",
              "      <td>NaN</td>\n",
              "      <td>5.0</td>\n",
              "      <td>2.0</td>\n",
              "      <td>$</td>\n",
              "      <td>$</td>\n",
              "      <td>$</td>\n",
              "      <td>[Drama]</td>\n",
              "      <td>Urban Gad</td>\n",
              "      <td>Gebhard Schätzler-Perasini</td>\n",
              "      <td>Urban Gad</td>\n",
              "      <td>None</td>\n",
              "    </tr>\n",
              "    <tr>\n",
              "      <th>3</th>\n",
              "      <td>tt0002101</td>\n",
              "      <td>Cleopatra</td>\n",
              "      <td>Cleopatra</td>\n",
              "      <td>1912</td>\n",
              "      <td>1912-11-13</td>\n",
              "      <td>Drama, History</td>\n",
              "      <td>100</td>\n",
              "      <td>USA</td>\n",
              "      <td>English</td>\n",
              "      <td>Charles L. Gaskill</td>\n",
              "      <td>Victorien Sardou</td>\n",
              "      <td>Helen Gardner Picture Players</td>\n",
              "      <td>Helen Gardner, Pearl Sindelar, Miss Fielding, ...</td>\n",
              "      <td>The fabled queen of Egypt's affair with Roman ...</td>\n",
              "      <td>5.2</td>\n",
              "      <td>446</td>\n",
              "      <td>45000</td>\n",
              "      <td>0</td>\n",
              "      <td>0</td>\n",
              "      <td>NaN</td>\n",
              "      <td>25.0</td>\n",
              "      <td>3.0</td>\n",
              "      <td>$</td>\n",
              "      <td>$</td>\n",
              "      <td>$</td>\n",
              "      <td>[Drama,  History]</td>\n",
              "      <td>Victorien Sardou</td>\n",
              "      <td>None</td>\n",
              "      <td>Charles L. Gaskill</td>\n",
              "      <td>None</td>\n",
              "    </tr>\n",
              "    <tr>\n",
              "      <th>4</th>\n",
              "      <td>tt0002130</td>\n",
              "      <td>L'Inferno</td>\n",
              "      <td>L'Inferno</td>\n",
              "      <td>1911</td>\n",
              "      <td>1911-03-06</td>\n",
              "      <td>Adventure, Drama, Fantasy</td>\n",
              "      <td>68</td>\n",
              "      <td>Italy</td>\n",
              "      <td>Italian</td>\n",
              "      <td>Francesco Bertolini, Adolfo Padovan</td>\n",
              "      <td>Dante Alighieri</td>\n",
              "      <td>Milano Film</td>\n",
              "      <td>Salvatore Papa, Arturo Pirovano, Giuseppe de L...</td>\n",
              "      <td>Loosely adapted from Dante's Divine Comedy and...</td>\n",
              "      <td>7.0</td>\n",
              "      <td>2237</td>\n",
              "      <td>0</td>\n",
              "      <td>0</td>\n",
              "      <td>0</td>\n",
              "      <td>NaN</td>\n",
              "      <td>31.0</td>\n",
              "      <td>14.0</td>\n",
              "      <td>$</td>\n",
              "      <td>$</td>\n",
              "      <td>$</td>\n",
              "      <td>[Adventure,  Drama,  Fantasy]</td>\n",
              "      <td>Dante Alighieri</td>\n",
              "      <td>None</td>\n",
              "      <td>Francesco Bertolini</td>\n",
              "      <td>Adolfo Padovan</td>\n",
              "    </tr>\n",
              "  </tbody>\n",
              "</table>\n",
              "</div>"
            ],
            "text/plain": [
              "  imdb_title_id  ...       director_2\n",
              "0     tt0000009  ...             None\n",
              "1     tt0000574  ...             None\n",
              "2     tt0001892  ...             None\n",
              "3     tt0002101  ...             None\n",
              "4     tt0002130  ...   Adolfo Padovan\n",
              "\n",
              "[5 rows x 30 columns]"
            ]
          },
          "metadata": {
            "tags": []
          },
          "execution_count": 93
        }
      ]
    },
    {
      "cell_type": "code",
      "metadata": {
        "id": "BrbOzDMn4YYW"
      },
      "source": [
        "#nowa df z danymi gdzie budget w dolarach\n",
        "imdb_movies_USD_budget = imdb_movies[imdb_movies['currency_for_budget']=='$']"
      ],
      "execution_count": null,
      "outputs": []
    },
    {
      "cell_type": "code",
      "metadata": {
        "id": "2e-Qa8L44YYX",
        "colab": {
          "base_uri": "https://localhost:8080/",
          "height": 669
        },
        "outputId": "cd031020-0ee4-4463-f89e-ed5f06f24751"
      },
      "source": [
        "#Reżyserzy - średni budżet w dolarach na film\n",
        "df = imdb_movies_USD_budget.groupby('director').agg({'imdb_title_id':'count','budget':'mean'}).reset_index().rename(columns={'imdb_title_id':'films_count'}).sort_values(by='budget', ascending=False).head(20)\n",
        "df['budget'] = df['budget'].round(0)\n",
        "df['budget_per_film'] = df['budget']/df['films_count']\n",
        "df.reset_index().sort_values(by='films_count', ascending=False).head(20)\n"
      ],
      "execution_count": null,
      "outputs": [
        {
          "output_type": "execute_result",
          "data": {
            "text/html": [
              "<div>\n",
              "<style scoped>\n",
              "    .dataframe tbody tr th:only-of-type {\n",
              "        vertical-align: middle;\n",
              "    }\n",
              "\n",
              "    .dataframe tbody tr th {\n",
              "        vertical-align: top;\n",
              "    }\n",
              "\n",
              "    .dataframe thead th {\n",
              "        text-align: right;\n",
              "    }\n",
              "</style>\n",
              "<table border=\"1\" class=\"dataframe\">\n",
              "  <thead>\n",
              "    <tr style=\"text-align: right;\">\n",
              "      <th></th>\n",
              "      <th>index</th>\n",
              "      <th>director</th>\n",
              "      <th>films_count</th>\n",
              "      <th>budget</th>\n",
              "      <th>budget_per_film</th>\n",
              "    </tr>\n",
              "  </thead>\n",
              "  <tbody>\n",
              "    <tr>\n",
              "      <th>8</th>\n",
              "      <td>2198</td>\n",
              "      <td>Anthony Russo, Joe Russo</td>\n",
              "      <td>6</td>\n",
              "      <td>193833333.0</td>\n",
              "      <td>32305555.5</td>\n",
              "    </tr>\n",
              "    <tr>\n",
              "      <th>12</th>\n",
              "      <td>12488</td>\n",
              "      <td>J.J. Abrams</td>\n",
              "      <td>6</td>\n",
              "      <td>176666667.0</td>\n",
              "      <td>29444444.5</td>\n",
              "    </tr>\n",
              "    <tr>\n",
              "      <th>1</th>\n",
              "      <td>1773</td>\n",
              "      <td>Andrew Stanton</td>\n",
              "      <td>2</td>\n",
              "      <td>215000000.0</td>\n",
              "      <td>107500000.0</td>\n",
              "    </tr>\n",
              "    <tr>\n",
              "      <th>0</th>\n",
              "      <td>21783</td>\n",
              "      <td>Nathan Greno, Byron Howard</td>\n",
              "      <td>1</td>\n",
              "      <td>260000000.0</td>\n",
              "      <td>260000000.0</td>\n",
              "    </tr>\n",
              "    <tr>\n",
              "      <th>11</th>\n",
              "      <td>25767</td>\n",
              "      <td>Robert Stromberg</td>\n",
              "      <td>1</td>\n",
              "      <td>180000000.0</td>\n",
              "      <td>180000000.0</td>\n",
              "    </tr>\n",
              "    <tr>\n",
              "      <th>18</th>\n",
              "      <td>4373</td>\n",
              "      <td>Carl Rinsch</td>\n",
              "      <td>1</td>\n",
              "      <td>175000000.0</td>\n",
              "      <td>175000000.0</td>\n",
              "    </tr>\n",
              "    <tr>\n",
              "      <th>17</th>\n",
              "      <td>25423</td>\n",
              "      <td>Rob Letterman, Conrad Vernon</td>\n",
              "      <td>1</td>\n",
              "      <td>175000000.0</td>\n",
              "      <td>175000000.0</td>\n",
              "    </tr>\n",
              "    <tr>\n",
              "      <th>16</th>\n",
              "      <td>17791</td>\n",
              "      <td>Lee Unkrich, Adrian Molina</td>\n",
              "      <td>1</td>\n",
              "      <td>175000000.0</td>\n",
              "      <td>175000000.0</td>\n",
              "    </tr>\n",
              "    <tr>\n",
              "      <th>15</th>\n",
              "      <td>23475</td>\n",
              "      <td>Pete Docter, Bob Peterson</td>\n",
              "      <td>1</td>\n",
              "      <td>175000000.0</td>\n",
              "      <td>175000000.0</td>\n",
              "    </tr>\n",
              "    <tr>\n",
              "      <th>14</th>\n",
              "      <td>3915</td>\n",
              "      <td>Brian Fee</td>\n",
              "      <td>1</td>\n",
              "      <td>175000000.0</td>\n",
              "      <td>175000000.0</td>\n",
              "    </tr>\n",
              "    <tr>\n",
              "      <th>13</th>\n",
              "      <td>23477</td>\n",
              "      <td>Pete Docter, Ronnie Del Carmen</td>\n",
              "      <td>1</td>\n",
              "      <td>175000000.0</td>\n",
              "      <td>175000000.0</td>\n",
              "    </tr>\n",
              "    <tr>\n",
              "      <th>10</th>\n",
              "      <td>14326</td>\n",
              "      <td>Joachim Rønning</td>\n",
              "      <td>1</td>\n",
              "      <td>185000000.0</td>\n",
              "      <td>185000000.0</td>\n",
              "    </tr>\n",
              "    <tr>\n",
              "      <th>9</th>\n",
              "      <td>19308</td>\n",
              "      <td>Mark Andrews, Brenda Chapman</td>\n",
              "      <td>1</td>\n",
              "      <td>185000000.0</td>\n",
              "      <td>185000000.0</td>\n",
              "    </tr>\n",
              "    <tr>\n",
              "      <th>7</th>\n",
              "      <td>14831</td>\n",
              "      <td>John Lasseter, Bradford Lewis</td>\n",
              "      <td>1</td>\n",
              "      <td>200000000.0</td>\n",
              "      <td>200000000.0</td>\n",
              "    </tr>\n",
              "    <tr>\n",
              "      <th>6</th>\n",
              "      <td>15518</td>\n",
              "      <td>Josh Cooley</td>\n",
              "      <td>1</td>\n",
              "      <td>200000000.0</td>\n",
              "      <td>200000000.0</td>\n",
              "    </tr>\n",
              "    <tr>\n",
              "      <th>5</th>\n",
              "      <td>1774</td>\n",
              "      <td>Andrew Stanton, Angus MacLane</td>\n",
              "      <td>1</td>\n",
              "      <td>200000000.0</td>\n",
              "      <td>200000000.0</td>\n",
              "    </tr>\n",
              "    <tr>\n",
              "      <th>4</th>\n",
              "      <td>27969</td>\n",
              "      <td>Simon Kinberg</td>\n",
              "      <td>1</td>\n",
              "      <td>200000000.0</td>\n",
              "      <td>200000000.0</td>\n",
              "    </tr>\n",
              "    <tr>\n",
              "      <th>3</th>\n",
              "      <td>17790</td>\n",
              "      <td>Lee Unkrich</td>\n",
              "      <td>1</td>\n",
              "      <td>200000000.0</td>\n",
              "      <td>200000000.0</td>\n",
              "    </tr>\n",
              "    <tr>\n",
              "      <th>2</th>\n",
              "      <td>23682</td>\n",
              "      <td>Peter Sohn</td>\n",
              "      <td>1</td>\n",
              "      <td>200000000.0</td>\n",
              "      <td>200000000.0</td>\n",
              "    </tr>\n",
              "    <tr>\n",
              "      <th>19</th>\n",
              "      <td>23771</td>\n",
              "      <td>Phil Johnston, Rich Moore</td>\n",
              "      <td>1</td>\n",
              "      <td>175000000.0</td>\n",
              "      <td>175000000.0</td>\n",
              "    </tr>\n",
              "  </tbody>\n",
              "</table>\n",
              "</div>"
            ],
            "text/plain": [
              "    index                        director  ...       budget  budget_per_film\n",
              "8    2198        Anthony Russo, Joe Russo  ...  193833333.0       32305555.5\n",
              "12  12488                     J.J. Abrams  ...  176666667.0       29444444.5\n",
              "1    1773                  Andrew Stanton  ...  215000000.0      107500000.0\n",
              "0   21783      Nathan Greno, Byron Howard  ...  260000000.0      260000000.0\n",
              "11  25767                Robert Stromberg  ...  180000000.0      180000000.0\n",
              "18   4373                     Carl Rinsch  ...  175000000.0      175000000.0\n",
              "17  25423    Rob Letterman, Conrad Vernon  ...  175000000.0      175000000.0\n",
              "16  17791      Lee Unkrich, Adrian Molina  ...  175000000.0      175000000.0\n",
              "15  23475       Pete Docter, Bob Peterson  ...  175000000.0      175000000.0\n",
              "14   3915                       Brian Fee  ...  175000000.0      175000000.0\n",
              "13  23477  Pete Docter, Ronnie Del Carmen  ...  175000000.0      175000000.0\n",
              "10  14326                 Joachim Rønning  ...  185000000.0      185000000.0\n",
              "9   19308    Mark Andrews, Brenda Chapman  ...  185000000.0      185000000.0\n",
              "7   14831   John Lasseter, Bradford Lewis  ...  200000000.0      200000000.0\n",
              "6   15518                     Josh Cooley  ...  200000000.0      200000000.0\n",
              "5    1774   Andrew Stanton, Angus MacLane  ...  200000000.0      200000000.0\n",
              "4   27969                   Simon Kinberg  ...  200000000.0      200000000.0\n",
              "3   17790                     Lee Unkrich  ...  200000000.0      200000000.0\n",
              "2   23682                      Peter Sohn  ...  200000000.0      200000000.0\n",
              "19  23771       Phil Johnston, Rich Moore  ...  175000000.0      175000000.0\n",
              "\n",
              "[20 rows x 5 columns]"
            ]
          },
          "metadata": {
            "tags": []
          },
          "execution_count": 95
        }
      ]
    },
    {
      "cell_type": "markdown",
      "metadata": {
        "id": "SHVcrDFL8plC"
      },
      "source": [
        "##Reżyserzy - dochód, budżet"
      ]
    },
    {
      "cell_type": "code",
      "metadata": {
        "id": "d2wDAH-U8spm",
        "colab": {
          "base_uri": "https://localhost:8080/",
          "height": 669
        },
        "outputId": "4332d06b-871a-469f-fd20-78095ed6d908"
      },
      "source": [
        "#Reżyserzy z największym dochodem ŚREDNIM !! w dolarach plus budżet\n",
        "#PROBLEM - BIERZE POD UWAGĘ TYLKO AMERYKAŃSKICH REŻYSERÓW - FILMY, DLA KTÓRYCH BUDŻET DOCHÓD NA ŚWIECIE I W USA PODANY JEST W DOLARACH\n",
        "imdb_movies_all_USD = imdb_movies[imdb_movies.currency_for_usaincome.eq('$') & imdb_movies.currency_for_wwincome.eq('$') & imdb_movies.currency_for_budget.eq('$')]\n",
        "df = imdb_movies_all_USD.groupby('director').agg({'imdb_title_id':'count','usa_gross_income':'mean', 'worlwide_gross_income':'mean', 'budget':'mean'}).reset_index().rename(columns={'imdb_title_id':'films_count'}).sort_values(by='worlwide_gross_income', ascending=False).head(20)\n",
        "df['budget']=df['budget'].astype(int)\n",
        "df['worlwide_gross_income'] = df['worlwide_gross_income'].astype(int)\n",
        "df['usa_gross_income'] = df['usa_gross_income'].astype(int)\n",
        "df['return_on_films']=df['worlwide_gross_income']/df['budget']\n",
        "df.reset_index().sort_values(by='return_on_films', ascending=False).head(20)"
      ],
      "execution_count": null,
      "outputs": [
        {
          "output_type": "execute_result",
          "data": {
            "text/html": [
              "<div>\n",
              "<style scoped>\n",
              "    .dataframe tbody tr th:only-of-type {\n",
              "        vertical-align: middle;\n",
              "    }\n",
              "\n",
              "    .dataframe tbody tr th {\n",
              "        vertical-align: top;\n",
              "    }\n",
              "\n",
              "    .dataframe thead th {\n",
              "        text-align: right;\n",
              "    }\n",
              "</style>\n",
              "<table border=\"1\" class=\"dataframe\">\n",
              "  <thead>\n",
              "    <tr style=\"text-align: right;\">\n",
              "      <th></th>\n",
              "      <th>index</th>\n",
              "      <th>director</th>\n",
              "      <th>films_count</th>\n",
              "      <th>usa_gross_income</th>\n",
              "      <th>worlwide_gross_income</th>\n",
              "      <th>budget</th>\n",
              "      <th>return_on_films</th>\n",
              "    </tr>\n",
              "  </thead>\n",
              "  <tbody>\n",
              "    <tr>\n",
              "      <th>7</th>\n",
              "      <td>25952</td>\n",
              "      <td>Roger Allers, Rob Minkoff</td>\n",
              "      <td>1</td>\n",
              "      <td>422783777</td>\n",
              "      <td>968511805</td>\n",
              "      <td>45000000</td>\n",
              "      <td>21.522485</td>\n",
              "    </tr>\n",
              "    <tr>\n",
              "      <th>2</th>\n",
              "      <td>17362</td>\n",
              "      <td>Kyle Balda, Pierre Coffin</td>\n",
              "      <td>2</td>\n",
              "      <td>300335035</td>\n",
              "      <td>1097121269</td>\n",
              "      <td>77000000</td>\n",
              "      <td>14.248328</td>\n",
              "    </tr>\n",
              "    <tr>\n",
              "      <th>13</th>\n",
              "      <td>5109</td>\n",
              "      <td>Chris Renaud, Yarrow Cheney</td>\n",
              "      <td>1</td>\n",
              "      <td>368384330</td>\n",
              "      <td>875457937</td>\n",
              "      <td>75000000</td>\n",
              "      <td>11.672772</td>\n",
              "    </tr>\n",
              "    <tr>\n",
              "      <th>19</th>\n",
              "      <td>23949</td>\n",
              "      <td>Pierre Coffin, Chris Renaud</td>\n",
              "      <td>2</td>\n",
              "      <td>309789685</td>\n",
              "      <td>756939995</td>\n",
              "      <td>72500000</td>\n",
              "      <td>10.440552</td>\n",
              "    </tr>\n",
              "    <tr>\n",
              "      <th>8</th>\n",
              "      <td>1774</td>\n",
              "      <td>Andrew Stanton, Lee Unkrich</td>\n",
              "      <td>1</td>\n",
              "      <td>380843261</td>\n",
              "      <td>940350086</td>\n",
              "      <td>94000000</td>\n",
              "      <td>10.003724</td>\n",
              "    </tr>\n",
              "    <tr>\n",
              "      <th>10</th>\n",
              "      <td>4475</td>\n",
              "      <td>Carlos Saldanha, Mike Thurmeier</td>\n",
              "      <td>1</td>\n",
              "      <td>196573705</td>\n",
              "      <td>886686817</td>\n",
              "      <td>90000000</td>\n",
              "      <td>9.852076</td>\n",
              "    </tr>\n",
              "    <tr>\n",
              "      <th>12</th>\n",
              "      <td>28566</td>\n",
              "      <td>Steve Martino, Mike Thurmeier</td>\n",
              "      <td>1</td>\n",
              "      <td>161321843</td>\n",
              "      <td>877244782</td>\n",
              "      <td>95000000</td>\n",
              "      <td>9.234156</td>\n",
              "    </tr>\n",
              "    <tr>\n",
              "      <th>0</th>\n",
              "      <td>5006</td>\n",
              "      <td>Chris Buck, Jennifer Lee</td>\n",
              "      <td>2</td>\n",
              "      <td>439055793</td>\n",
              "      <td>1365415143</td>\n",
              "      <td>150000000</td>\n",
              "      <td>9.102768</td>\n",
              "    </tr>\n",
              "    <tr>\n",
              "      <th>11</th>\n",
              "      <td>12865</td>\n",
              "      <td>James Cameron</td>\n",
              "      <td>7</td>\n",
              "      <td>278575375</td>\n",
              "      <td>883634468</td>\n",
              "      <td>106985714</td>\n",
              "      <td>8.259369</td>\n",
              "    </tr>\n",
              "    <tr>\n",
              "      <th>6</th>\n",
              "      <td>4229</td>\n",
              "      <td>Byron Howard, Rich Moore</td>\n",
              "      <td>1</td>\n",
              "      <td>341268248</td>\n",
              "      <td>1023789075</td>\n",
              "      <td>150000000</td>\n",
              "      <td>6.825260</td>\n",
              "    </tr>\n",
              "    <tr>\n",
              "      <th>9</th>\n",
              "      <td>1651</td>\n",
              "      <td>Andrew Adamson, Kelly Asbury</td>\n",
              "      <td>1</td>\n",
              "      <td>441226247</td>\n",
              "      <td>928760770</td>\n",
              "      <td>150000000</td>\n",
              "      <td>6.191738</td>\n",
              "    </tr>\n",
              "    <tr>\n",
              "      <th>1</th>\n",
              "      <td>2197</td>\n",
              "      <td>Anthony Russo, Joe Russo</td>\n",
              "      <td>6</td>\n",
              "      <td>380167355</td>\n",
              "      <td>1141452591</td>\n",
              "      <td>193833333</td>\n",
              "      <td>5.888835</td>\n",
              "    </tr>\n",
              "    <tr>\n",
              "      <th>3</th>\n",
              "      <td>15517</td>\n",
              "      <td>Josh Cooley</td>\n",
              "      <td>1</td>\n",
              "      <td>434038008</td>\n",
              "      <td>1073394593</td>\n",
              "      <td>200000000</td>\n",
              "      <td>5.366973</td>\n",
              "    </tr>\n",
              "    <tr>\n",
              "      <th>4</th>\n",
              "      <td>17789</td>\n",
              "      <td>Lee Unkrich</td>\n",
              "      <td>1</td>\n",
              "      <td>415004880</td>\n",
              "      <td>1066969703</td>\n",
              "      <td>200000000</td>\n",
              "      <td>5.334849</td>\n",
              "    </tr>\n",
              "    <tr>\n",
              "      <th>5</th>\n",
              "      <td>1773</td>\n",
              "      <td>Andrew Stanton, Angus MacLane</td>\n",
              "      <td>1</td>\n",
              "      <td>486295561</td>\n",
              "      <td>1028570889</td>\n",
              "      <td>200000000</td>\n",
              "      <td>5.142854</td>\n",
              "    </tr>\n",
              "    <tr>\n",
              "      <th>15</th>\n",
              "      <td>5086</td>\n",
              "      <td>Chris Miller, Raman Hui</td>\n",
              "      <td>1</td>\n",
              "      <td>322719944</td>\n",
              "      <td>813367380</td>\n",
              "      <td>160000000</td>\n",
              "      <td>5.083546</td>\n",
              "    </tr>\n",
              "    <tr>\n",
              "      <th>14</th>\n",
              "      <td>23471</td>\n",
              "      <td>Pete Docter, Ronnie Del Carmen</td>\n",
              "      <td>1</td>\n",
              "      <td>356921711</td>\n",
              "      <td>858071350</td>\n",
              "      <td>175000000</td>\n",
              "      <td>4.903265</td>\n",
              "    </tr>\n",
              "    <tr>\n",
              "      <th>16</th>\n",
              "      <td>17790</td>\n",
              "      <td>Lee Unkrich, Adrian Molina</td>\n",
              "      <td>1</td>\n",
              "      <td>209726015</td>\n",
              "      <td>807083670</td>\n",
              "      <td>175000000</td>\n",
              "      <td>4.611907</td>\n",
              "    </tr>\n",
              "    <tr>\n",
              "      <th>17</th>\n",
              "      <td>12487</td>\n",
              "      <td>J.J. Abrams</td>\n",
              "      <td>6</td>\n",
              "      <td>366567904</td>\n",
              "      <td>775664909</td>\n",
              "      <td>176666666</td>\n",
              "      <td>4.390556</td>\n",
              "    </tr>\n",
              "    <tr>\n",
              "      <th>18</th>\n",
              "      <td>25761</td>\n",
              "      <td>Robert Stromberg</td>\n",
              "      <td>1</td>\n",
              "      <td>241410378</td>\n",
              "      <td>758411648</td>\n",
              "      <td>180000000</td>\n",
              "      <td>4.213398</td>\n",
              "    </tr>\n",
              "  </tbody>\n",
              "</table>\n",
              "</div>"
            ],
            "text/plain": [
              "    index                         director  ...     budget  return_on_films\n",
              "7   25952        Roger Allers, Rob Minkoff  ...   45000000        21.522485\n",
              "2   17362        Kyle Balda, Pierre Coffin  ...   77000000        14.248328\n",
              "13   5109      Chris Renaud, Yarrow Cheney  ...   75000000        11.672772\n",
              "19  23949      Pierre Coffin, Chris Renaud  ...   72500000        10.440552\n",
              "8    1774      Andrew Stanton, Lee Unkrich  ...   94000000        10.003724\n",
              "10   4475  Carlos Saldanha, Mike Thurmeier  ...   90000000         9.852076\n",
              "12  28566    Steve Martino, Mike Thurmeier  ...   95000000         9.234156\n",
              "0    5006         Chris Buck, Jennifer Lee  ...  150000000         9.102768\n",
              "11  12865                    James Cameron  ...  106985714         8.259369\n",
              "6    4229         Byron Howard, Rich Moore  ...  150000000         6.825260\n",
              "9    1651     Andrew Adamson, Kelly Asbury  ...  150000000         6.191738\n",
              "1    2197         Anthony Russo, Joe Russo  ...  193833333         5.888835\n",
              "3   15517                      Josh Cooley  ...  200000000         5.366973\n",
              "4   17789                      Lee Unkrich  ...  200000000         5.334849\n",
              "5    1773    Andrew Stanton, Angus MacLane  ...  200000000         5.142854\n",
              "15   5086          Chris Miller, Raman Hui  ...  160000000         5.083546\n",
              "14  23471   Pete Docter, Ronnie Del Carmen  ...  175000000         4.903265\n",
              "16  17790       Lee Unkrich, Adrian Molina  ...  175000000         4.611907\n",
              "17  12487                      J.J. Abrams  ...  176666666         4.390556\n",
              "18  25761                 Robert Stromberg  ...  180000000         4.213398\n",
              "\n",
              "[20 rows x 7 columns]"
            ]
          },
          "metadata": {
            "tags": []
          },
          "execution_count": 96
        }
      ]
    },
    {
      "cell_type": "markdown",
      "metadata": {
        "id": "oZ-FZx_ikMP6"
      },
      "source": [
        "#Scenarzyści - dochody z filmów na świecie i w USA - Kasia"
      ]
    },
    {
      "cell_type": "markdown",
      "metadata": {
        "id": "uz_NapE_kb_X"
      },
      "source": [
        "##Scenarzyści z największą liczbą filmów"
      ]
    },
    {
      "cell_type": "code",
      "metadata": {
        "id": "o8HvSfxHkb_i",
        "colab": {
          "base_uri": "https://localhost:8080/"
        },
        "outputId": "b39ac8fe-463d-454b-9dc1-d672cb57a6a9"
      },
      "source": [
        "#Scenarzyści z największą ilością filmów\n",
        "imdb_movies['writer'].value_counts().head(10)"
      ],
      "execution_count": null,
      "outputs": [
        {
          "output_type": "execute_result",
          "data": {
            "text/plain": [
              "Jing Wong                                84\n",
              "Kuang Ni                                 45\n",
              "Woody Allen                              40\n",
              "Erdogan Tünas                            35\n",
              "Leonardo Benvenuti, Piero De Bernardi    34\n",
              "Carlo Vanzina, Enrico Vanzina            32\n",
              "Cheh Chang, Kuang Ni                     31\n",
              "Giannis Dalianidis                       29\n",
              "Safa Önal                                27\n",
              "Ingmar Bergman                           27\n",
              "Name: writer, dtype: int64"
            ]
          },
          "metadata": {
            "tags": []
          },
          "execution_count": 97
        }
      ]
    },
    {
      "cell_type": "markdown",
      "metadata": {
        "id": "sEpw6hh-mMT4"
      },
      "source": [
        "##Scenarzyści z największym dochodem na świecie - w dolarach"
      ]
    },
    {
      "cell_type": "code",
      "metadata": {
        "id": "K7ekR8alk9LL",
        "colab": {
          "base_uri": "https://localhost:8080/",
          "height": 669
        },
        "outputId": "401fac45-6038-4f1a-f169-e099ff3958df"
      },
      "source": [
        "#Scenarzysci z największym dochodem w dolarach - dla dochodów światowych\n",
        "\n",
        "imdb_movies_USD_wwincome.groupby('writer').agg({'imdb_title_id':'count','worlwide_gross_income':'sum'}).reset_index().rename(columns={'imdb_title_id':'films_count'}).sort_values(by='worlwide_gross_income', ascending=False).head(20)"
      ],
      "execution_count": null,
      "outputs": [
        {
          "output_type": "execute_result",
          "data": {
            "text/html": [
              "<div>\n",
              "<style scoped>\n",
              "    .dataframe tbody tr th:only-of-type {\n",
              "        vertical-align: middle;\n",
              "    }\n",
              "\n",
              "    .dataframe tbody tr th {\n",
              "        vertical-align: top;\n",
              "    }\n",
              "\n",
              "    .dataframe thead th {\n",
              "        text-align: right;\n",
              "    }\n",
              "</style>\n",
              "<table border=\"1\" class=\"dataframe\">\n",
              "  <thead>\n",
              "    <tr style=\"text-align: right;\">\n",
              "      <th></th>\n",
              "      <th>writer</th>\n",
              "      <th>films_count</th>\n",
              "      <th>worlwide_gross_income</th>\n",
              "    </tr>\n",
              "  </thead>\n",
              "  <tbody>\n",
              "    <tr>\n",
              "      <th>10868</th>\n",
              "      <td>Christopher Markus, Stephen McFeely</td>\n",
              "      <td>8</td>\n",
              "      <td>7591223776</td>\n",
              "    </tr>\n",
              "    <tr>\n",
              "      <th>27095</th>\n",
              "      <td>James Cameron</td>\n",
              "      <td>3</td>\n",
              "      <td>5075609059</td>\n",
              "    </tr>\n",
              "    <tr>\n",
              "      <th>59138</th>\n",
              "      <td>Steve Kloves, J.K. Rowling</td>\n",
              "      <td>4</td>\n",
              "      <td>4149909030</td>\n",
              "    </tr>\n",
              "    <tr>\n",
              "      <th>11041</th>\n",
              "      <td>Cinco Paul, Ken Daurio</td>\n",
              "      <td>7</td>\n",
              "      <td>3911671756</td>\n",
              "    </tr>\n",
              "    <tr>\n",
              "      <th>60635</th>\n",
              "      <td>Ted Elliott, Terry Rossio</td>\n",
              "      <td>4</td>\n",
              "      <td>3727154034</td>\n",
              "    </tr>\n",
              "    <tr>\n",
              "      <th>19021</th>\n",
              "      <td>Fran Walsh, Philippa Boyens</td>\n",
              "      <td>6</td>\n",
              "      <td>3671047673</td>\n",
              "    </tr>\n",
              "    <tr>\n",
              "      <th>42311</th>\n",
              "      <td>Melissa Rosenberg, Stephenie Meyer</td>\n",
              "      <td>5</td>\n",
              "      <td>3359899919</td>\n",
              "    </tr>\n",
              "    <tr>\n",
              "      <th>10394</th>\n",
              "      <td>Chris Morgan, Gary Scott Thompson</td>\n",
              "      <td>4</td>\n",
              "      <td>3290231059</td>\n",
              "    </tr>\n",
              "    <tr>\n",
              "      <th>26337</th>\n",
              "      <td>J.R.R. Tolkien, Fran Walsh</td>\n",
              "      <td>3</td>\n",
              "      <td>2981432817</td>\n",
              "    </tr>\n",
              "    <tr>\n",
              "      <th>32030</th>\n",
              "      <td>Jonathan Nolan, Christopher Nolan</td>\n",
              "      <td>4</td>\n",
              "      <td>2893006769</td>\n",
              "    </tr>\n",
              "    <tr>\n",
              "      <th>31927</th>\n",
              "      <td>Jonathan Aibel, Glenn Berger</td>\n",
              "      <td>7</td>\n",
              "      <td>2847433500</td>\n",
              "    </tr>\n",
              "    <tr>\n",
              "      <th>38819</th>\n",
              "      <td>M. Night Shyamalan</td>\n",
              "      <td>12</td>\n",
              "      <td>2765958333</td>\n",
              "    </tr>\n",
              "    <tr>\n",
              "      <th>29177</th>\n",
              "      <td>Jennifer Lee, Hans Christian Andersen</td>\n",
              "      <td>2</td>\n",
              "      <td>2730830286</td>\n",
              "    </tr>\n",
              "    <tr>\n",
              "      <th>10386</th>\n",
              "      <td>Chris McKenna, Erik Sommers</td>\n",
              "      <td>3</td>\n",
              "      <td>2716704372</td>\n",
              "    </tr>\n",
              "    <tr>\n",
              "      <th>26290</th>\n",
              "      <td>J.K. Rowling, Steve Kloves</td>\n",
              "      <td>3</td>\n",
              "      <td>2677713538</td>\n",
              "    </tr>\n",
              "    <tr>\n",
              "      <th>20902</th>\n",
              "      <td>George Lucas</td>\n",
              "      <td>3</td>\n",
              "      <td>2671242179</td>\n",
              "    </tr>\n",
              "    <tr>\n",
              "      <th>31212</th>\n",
              "      <td>John Lasseter, Andrew Stanton</td>\n",
              "      <td>3</td>\n",
              "      <td>2503623155</td>\n",
              "    </tr>\n",
              "    <tr>\n",
              "      <th>16551</th>\n",
              "      <td>Ehren Kruger</td>\n",
              "      <td>6</td>\n",
              "      <td>2500384610</td>\n",
              "    </tr>\n",
              "    <tr>\n",
              "      <th>51724</th>\n",
              "      <td>Rhett Reese, Paul Wernick</td>\n",
              "      <td>6</td>\n",
              "      <td>2269891324</td>\n",
              "    </tr>\n",
              "    <tr>\n",
              "      <th>45399</th>\n",
              "      <td>Neal Purvis, Robert Wade</td>\n",
              "      <td>7</td>\n",
              "      <td>2247963441</td>\n",
              "    </tr>\n",
              "  </tbody>\n",
              "</table>\n",
              "</div>"
            ],
            "text/plain": [
              "                                      writer  ...  worlwide_gross_income\n",
              "10868    Christopher Markus, Stephen McFeely  ...             7591223776\n",
              "27095                          James Cameron  ...             5075609059\n",
              "59138             Steve Kloves, J.K. Rowling  ...             4149909030\n",
              "11041                 Cinco Paul, Ken Daurio  ...             3911671756\n",
              "60635              Ted Elliott, Terry Rossio  ...             3727154034\n",
              "19021            Fran Walsh, Philippa Boyens  ...             3671047673\n",
              "42311     Melissa Rosenberg, Stephenie Meyer  ...             3359899919\n",
              "10394      Chris Morgan, Gary Scott Thompson  ...             3290231059\n",
              "26337             J.R.R. Tolkien, Fran Walsh  ...             2981432817\n",
              "32030      Jonathan Nolan, Christopher Nolan  ...             2893006769\n",
              "31927           Jonathan Aibel, Glenn Berger  ...             2847433500\n",
              "38819                     M. Night Shyamalan  ...             2765958333\n",
              "29177  Jennifer Lee, Hans Christian Andersen  ...             2730830286\n",
              "10386            Chris McKenna, Erik Sommers  ...             2716704372\n",
              "26290             J.K. Rowling, Steve Kloves  ...             2677713538\n",
              "20902                           George Lucas  ...             2671242179\n",
              "31212          John Lasseter, Andrew Stanton  ...             2503623155\n",
              "16551                           Ehren Kruger  ...             2500384610\n",
              "51724              Rhett Reese, Paul Wernick  ...             2269891324\n",
              "45399               Neal Purvis, Robert Wade  ...             2247963441\n",
              "\n",
              "[20 rows x 3 columns]"
            ]
          },
          "metadata": {
            "tags": []
          },
          "execution_count": 98
        }
      ]
    },
    {
      "cell_type": "markdown",
      "metadata": {
        "id": "AEhsd2oGmXyD"
      },
      "source": [
        "##Scenarzyści największy dochód z filmów w USA"
      ]
    },
    {
      "cell_type": "code",
      "metadata": {
        "id": "0JuCWdtimm_F",
        "colab": {
          "base_uri": "https://localhost:8080/",
          "height": 669
        },
        "outputId": "c8e768fb-7cf0-4eae-8e19-61ef0f1dfe1d"
      },
      "source": [
        "#Scenarzyści z największym dochodem w dolarach - dochód w USA\n",
        "\n",
        "imdb_movies_USD_usaincome.groupby('writer').agg({'imdb_title_id':'count','usa_gross_income':'sum'}).reset_index().rename(columns={'imdb_title_id':'films_count'}).sort_values(by='usa_gross_income', ascending=False).head(20)"
      ],
      "execution_count": null,
      "outputs": [
        {
          "output_type": "execute_result",
          "data": {
            "text/html": [
              "<div>\n",
              "<style scoped>\n",
              "    .dataframe tbody tr th:only-of-type {\n",
              "        vertical-align: middle;\n",
              "    }\n",
              "\n",
              "    .dataframe tbody tr th {\n",
              "        vertical-align: top;\n",
              "    }\n",
              "\n",
              "    .dataframe thead th {\n",
              "        text-align: right;\n",
              "    }\n",
              "</style>\n",
              "<table border=\"1\" class=\"dataframe\">\n",
              "  <thead>\n",
              "    <tr style=\"text-align: right;\">\n",
              "      <th></th>\n",
              "      <th>writer</th>\n",
              "      <th>films_count</th>\n",
              "      <th>usa_gross_income</th>\n",
              "    </tr>\n",
              "  </thead>\n",
              "  <tbody>\n",
              "    <tr>\n",
              "      <th>10874</th>\n",
              "      <td>Christopher Markus, Stephen McFeely</td>\n",
              "      <td>8</td>\n",
              "      <td>2538385516</td>\n",
              "    </tr>\n",
              "    <tr>\n",
              "      <th>11047</th>\n",
              "      <td>Cinco Paul, Ken Daurio</td>\n",
              "      <td>7</td>\n",
              "      <td>1520210642</td>\n",
              "    </tr>\n",
              "    <tr>\n",
              "      <th>27105</th>\n",
              "      <td>James Cameron</td>\n",
              "      <td>3</td>\n",
              "      <td>1474332616</td>\n",
              "    </tr>\n",
              "    <tr>\n",
              "      <th>42324</th>\n",
              "      <td>Melissa Rosenberg, Stephenie Meyer</td>\n",
              "      <td>5</td>\n",
              "      <td>1365922347</td>\n",
              "    </tr>\n",
              "    <tr>\n",
              "      <th>20909</th>\n",
              "      <td>George Lucas</td>\n",
              "      <td>3</td>\n",
              "      <td>1315813761</td>\n",
              "    </tr>\n",
              "    <tr>\n",
              "      <th>38831</th>\n",
              "      <td>M. Night Shyamalan</td>\n",
              "      <td>12</td>\n",
              "      <td>1284074128</td>\n",
              "    </tr>\n",
              "    <tr>\n",
              "      <th>60653</th>\n",
              "      <td>Ted Elliott, Terry Rossio</td>\n",
              "      <td>4</td>\n",
              "      <td>1279221957</td>\n",
              "    </tr>\n",
              "    <tr>\n",
              "      <th>59155</th>\n",
              "      <td>Steve Kloves, J.K. Rowling</td>\n",
              "      <td>4</td>\n",
              "      <td>1270480367</td>\n",
              "    </tr>\n",
              "    <tr>\n",
              "      <th>32039</th>\n",
              "      <td>Jonathan Nolan, Christopher Nolan</td>\n",
              "      <td>4</td>\n",
              "      <td>1224483040</td>\n",
              "    </tr>\n",
              "    <tr>\n",
              "      <th>19029</th>\n",
              "      <td>Fran Walsh, Philippa Boyens</td>\n",
              "      <td>6</td>\n",
              "      <td>1094635508</td>\n",
              "    </tr>\n",
              "    <tr>\n",
              "      <th>26347</th>\n",
              "      <td>J.R.R. Tolkien, Fran Walsh</td>\n",
              "      <td>3</td>\n",
              "      <td>1035942020</td>\n",
              "    </tr>\n",
              "    <tr>\n",
              "      <th>31221</th>\n",
              "      <td>John Lasseter, Andrew Stanton</td>\n",
              "      <td>3</td>\n",
              "      <td>1011841453</td>\n",
              "    </tr>\n",
              "    <tr>\n",
              "      <th>10392</th>\n",
              "      <td>Chris McKenna, Erik Sommers</td>\n",
              "      <td>3</td>\n",
              "      <td>1011720996</td>\n",
              "    </tr>\n",
              "    <tr>\n",
              "      <th>51742</th>\n",
              "      <td>Rhett Reese, Paul Wernick</td>\n",
              "      <td>6</td>\n",
              "      <td>989132894</td>\n",
              "    </tr>\n",
              "    <tr>\n",
              "      <th>31936</th>\n",
              "      <td>Jonathan Aibel, Glenn Berger</td>\n",
              "      <td>7</td>\n",
              "      <td>974024111</td>\n",
              "    </tr>\n",
              "    <tr>\n",
              "      <th>10400</th>\n",
              "      <td>Chris Morgan, Gary Scott Thompson</td>\n",
              "      <td>4</td>\n",
              "      <td>956588810</td>\n",
              "    </tr>\n",
              "    <tr>\n",
              "      <th>53602</th>\n",
              "      <td>Roberto Orci, Alex Kurtzman</td>\n",
              "      <td>5</td>\n",
              "      <td>952459447</td>\n",
              "    </tr>\n",
              "    <tr>\n",
              "      <th>36868</th>\n",
              "      <td>Lawrence Kasdan, J.J. Abrams</td>\n",
              "      <td>1</td>\n",
              "      <td>936662225</td>\n",
              "    </tr>\n",
              "    <tr>\n",
              "      <th>31123</th>\n",
              "      <td>John Hughes</td>\n",
              "      <td>20</td>\n",
              "      <td>926984452</td>\n",
              "    </tr>\n",
              "    <tr>\n",
              "      <th>29186</th>\n",
              "      <td>Jennifer Lee, Hans Christian Andersen</td>\n",
              "      <td>2</td>\n",
              "      <td>878111587</td>\n",
              "    </tr>\n",
              "  </tbody>\n",
              "</table>\n",
              "</div>"
            ],
            "text/plain": [
              "                                      writer  films_count  usa_gross_income\n",
              "10874    Christopher Markus, Stephen McFeely            8        2538385516\n",
              "11047                 Cinco Paul, Ken Daurio            7        1520210642\n",
              "27105                          James Cameron            3        1474332616\n",
              "42324     Melissa Rosenberg, Stephenie Meyer            5        1365922347\n",
              "20909                           George Lucas            3        1315813761\n",
              "38831                     M. Night Shyamalan           12        1284074128\n",
              "60653              Ted Elliott, Terry Rossio            4        1279221957\n",
              "59155             Steve Kloves, J.K. Rowling            4        1270480367\n",
              "32039      Jonathan Nolan, Christopher Nolan            4        1224483040\n",
              "19029            Fran Walsh, Philippa Boyens            6        1094635508\n",
              "26347             J.R.R. Tolkien, Fran Walsh            3        1035942020\n",
              "31221          John Lasseter, Andrew Stanton            3        1011841453\n",
              "10392            Chris McKenna, Erik Sommers            3        1011720996\n",
              "51742              Rhett Reese, Paul Wernick            6         989132894\n",
              "31936           Jonathan Aibel, Glenn Berger            7         974024111\n",
              "10400      Chris Morgan, Gary Scott Thompson            4         956588810\n",
              "53602            Roberto Orci, Alex Kurtzman            5         952459447\n",
              "36868           Lawrence Kasdan, J.J. Abrams            1         936662225\n",
              "31123                            John Hughes           20         926984452\n",
              "29186  Jennifer Lee, Hans Christian Andersen            2         878111587"
            ]
          },
          "metadata": {
            "tags": []
          },
          "execution_count": 99
        }
      ]
    },
    {
      "cell_type": "markdown",
      "metadata": {
        "id": "LNP0zseIlg5n"
      },
      "source": [
        "##Scenarzyści średni dochód na świecie, w USA"
      ]
    },
    {
      "cell_type": "code",
      "metadata": {
        "id": "92sC66aAkYk5",
        "colab": {
          "base_uri": "https://localhost:8080/",
          "height": 204
        },
        "outputId": "1ed951a1-32d3-444b-8991-13d8df0ba092"
      },
      "source": [
        "#Scenarzyści z największym średnim dochodem na film w dolarach (tam gdzie i dochód na świecie i dochód w USA jest w $)\n",
        "imdb_movies_income_USD = imdb_movies[imdb_movies.currency_for_usaincome.eq('$') & imdb_movies.currency_for_wwincome.eq('$')]\n",
        "imdb_average_income = imdb_movies_income_USD.groupby('writer').agg({'imdb_title_id':'count','usa_gross_income':'mean', 'worlwide_gross_income':'mean'}).reset_index().rename(columns={'imdb_title_id':'films_count'}).sort_values(by='worlwide_gross_income', ascending=False)\n",
        "imdb_average_income['average_usa_gross_income'] = imdb_average_income['usa_gross_income'].astype(int)\n",
        "imdb_average_income['average_worlwide_gross_income'] = imdb_average_income['worlwide_gross_income'].astype(int)\n",
        "imdb_average_income.drop(['usa_gross_income', 'worlwide_gross_income'], axis=1, inplace=True)\n",
        "imdb_average_income.head()\n"
      ],
      "execution_count": null,
      "outputs": [
        {
          "output_type": "execute_result",
          "data": {
            "text/html": [
              "<div>\n",
              "<style scoped>\n",
              "    .dataframe tbody tr th:only-of-type {\n",
              "        vertical-align: middle;\n",
              "    }\n",
              "\n",
              "    .dataframe tbody tr th {\n",
              "        vertical-align: top;\n",
              "    }\n",
              "\n",
              "    .dataframe thead th {\n",
              "        text-align: right;\n",
              "    }\n",
              "</style>\n",
              "<table border=\"1\" class=\"dataframe\">\n",
              "  <thead>\n",
              "    <tr style=\"text-align: right;\">\n",
              "      <th></th>\n",
              "      <th>writer</th>\n",
              "      <th>films_count</th>\n",
              "      <th>average_usa_gross_income</th>\n",
              "      <th>average_worlwide_gross_income</th>\n",
              "    </tr>\n",
              "  </thead>\n",
              "  <tbody>\n",
              "    <tr>\n",
              "      <th>36855</th>\n",
              "      <td>Lawrence Kasdan, J.J. Abrams</td>\n",
              "      <td>1</td>\n",
              "      <td>936662225</td>\n",
              "      <td>2068224036</td>\n",
              "    </tr>\n",
              "    <tr>\n",
              "      <th>27094</th>\n",
              "      <td>James Cameron</td>\n",
              "      <td>3</td>\n",
              "      <td>491444205</td>\n",
              "      <td>1691869686</td>\n",
              "    </tr>\n",
              "    <tr>\n",
              "      <th>28943</th>\n",
              "      <td>Jeff Nathanson, Irene Mecchi</td>\n",
              "      <td>1</td>\n",
              "      <td>543638043</td>\n",
              "      <td>1656963790</td>\n",
              "    </tr>\n",
              "    <tr>\n",
              "      <th>32713</th>\n",
              "      <td>Joss Whedon, Zak Penn</td>\n",
              "      <td>1</td>\n",
              "      <td>623357910</td>\n",
              "      <td>1518814206</td>\n",
              "    </tr>\n",
              "    <tr>\n",
              "      <th>32711</th>\n",
              "      <td>Joss Whedon, Stan Lee</td>\n",
              "      <td>1</td>\n",
              "      <td>459005868</td>\n",
              "      <td>1402808753</td>\n",
              "    </tr>\n",
              "  </tbody>\n",
              "</table>\n",
              "</div>"
            ],
            "text/plain": [
              "                             writer  ...  average_worlwide_gross_income\n",
              "36855  Lawrence Kasdan, J.J. Abrams  ...                     2068224036\n",
              "27094                 James Cameron  ...                     1691869686\n",
              "28943  Jeff Nathanson, Irene Mecchi  ...                     1656963790\n",
              "32713         Joss Whedon, Zak Penn  ...                     1518814206\n",
              "32711         Joss Whedon, Stan Lee  ...                     1402808753\n",
              "\n",
              "[5 rows x 4 columns]"
            ]
          },
          "metadata": {
            "tags": []
          },
          "execution_count": 100
        }
      ]
    },
    {
      "cell_type": "markdown",
      "metadata": {
        "id": "ZsJm_UWXlmiu"
      },
      "source": [
        "##Scenarzyści budżet filmów"
      ]
    },
    {
      "cell_type": "code",
      "metadata": {
        "id": "AYLXzc7imCFA",
        "colab": {
          "base_uri": "https://localhost:8080/",
          "height": 669
        },
        "outputId": "989a9948-3929-4ac9-8390-e6ae61c8cd3e"
      },
      "source": [
        "#Scenarzyści - średni budżet w dolarach na film\n",
        "df = imdb_movies_USD_budget.groupby('director').agg({'imdb_title_id':'count','budget':'mean'}).reset_index().rename(columns={'imdb_title_id':'films_count'}).sort_values(by='budget', ascending=False).head(20)\n",
        "df['budget'] = df['budget'].round(0)\n",
        "df['budget_per_film'] = df['budget']/df['films_count']\n",
        "df.reset_index().sort_values(by='budget_per_film', ascending=False).head(20)\n"
      ],
      "execution_count": null,
      "outputs": [
        {
          "output_type": "execute_result",
          "data": {
            "text/html": [
              "<div>\n",
              "<style scoped>\n",
              "    .dataframe tbody tr th:only-of-type {\n",
              "        vertical-align: middle;\n",
              "    }\n",
              "\n",
              "    .dataframe tbody tr th {\n",
              "        vertical-align: top;\n",
              "    }\n",
              "\n",
              "    .dataframe thead th {\n",
              "        text-align: right;\n",
              "    }\n",
              "</style>\n",
              "<table border=\"1\" class=\"dataframe\">\n",
              "  <thead>\n",
              "    <tr style=\"text-align: right;\">\n",
              "      <th></th>\n",
              "      <th>index</th>\n",
              "      <th>director</th>\n",
              "      <th>films_count</th>\n",
              "      <th>budget</th>\n",
              "      <th>budget_per_film</th>\n",
              "    </tr>\n",
              "  </thead>\n",
              "  <tbody>\n",
              "    <tr>\n",
              "      <th>0</th>\n",
              "      <td>21783</td>\n",
              "      <td>Nathan Greno, Byron Howard</td>\n",
              "      <td>1</td>\n",
              "      <td>260000000.0</td>\n",
              "      <td>260000000.0</td>\n",
              "    </tr>\n",
              "    <tr>\n",
              "      <th>2</th>\n",
              "      <td>23682</td>\n",
              "      <td>Peter Sohn</td>\n",
              "      <td>1</td>\n",
              "      <td>200000000.0</td>\n",
              "      <td>200000000.0</td>\n",
              "    </tr>\n",
              "    <tr>\n",
              "      <th>3</th>\n",
              "      <td>17790</td>\n",
              "      <td>Lee Unkrich</td>\n",
              "      <td>1</td>\n",
              "      <td>200000000.0</td>\n",
              "      <td>200000000.0</td>\n",
              "    </tr>\n",
              "    <tr>\n",
              "      <th>4</th>\n",
              "      <td>27969</td>\n",
              "      <td>Simon Kinberg</td>\n",
              "      <td>1</td>\n",
              "      <td>200000000.0</td>\n",
              "      <td>200000000.0</td>\n",
              "    </tr>\n",
              "    <tr>\n",
              "      <th>5</th>\n",
              "      <td>1774</td>\n",
              "      <td>Andrew Stanton, Angus MacLane</td>\n",
              "      <td>1</td>\n",
              "      <td>200000000.0</td>\n",
              "      <td>200000000.0</td>\n",
              "    </tr>\n",
              "    <tr>\n",
              "      <th>6</th>\n",
              "      <td>15518</td>\n",
              "      <td>Josh Cooley</td>\n",
              "      <td>1</td>\n",
              "      <td>200000000.0</td>\n",
              "      <td>200000000.0</td>\n",
              "    </tr>\n",
              "    <tr>\n",
              "      <th>7</th>\n",
              "      <td>14831</td>\n",
              "      <td>John Lasseter, Bradford Lewis</td>\n",
              "      <td>1</td>\n",
              "      <td>200000000.0</td>\n",
              "      <td>200000000.0</td>\n",
              "    </tr>\n",
              "    <tr>\n",
              "      <th>9</th>\n",
              "      <td>19308</td>\n",
              "      <td>Mark Andrews, Brenda Chapman</td>\n",
              "      <td>1</td>\n",
              "      <td>185000000.0</td>\n",
              "      <td>185000000.0</td>\n",
              "    </tr>\n",
              "    <tr>\n",
              "      <th>10</th>\n",
              "      <td>14326</td>\n",
              "      <td>Joachim Rønning</td>\n",
              "      <td>1</td>\n",
              "      <td>185000000.0</td>\n",
              "      <td>185000000.0</td>\n",
              "    </tr>\n",
              "    <tr>\n",
              "      <th>11</th>\n",
              "      <td>25767</td>\n",
              "      <td>Robert Stromberg</td>\n",
              "      <td>1</td>\n",
              "      <td>180000000.0</td>\n",
              "      <td>180000000.0</td>\n",
              "    </tr>\n",
              "    <tr>\n",
              "      <th>13</th>\n",
              "      <td>23477</td>\n",
              "      <td>Pete Docter, Ronnie Del Carmen</td>\n",
              "      <td>1</td>\n",
              "      <td>175000000.0</td>\n",
              "      <td>175000000.0</td>\n",
              "    </tr>\n",
              "    <tr>\n",
              "      <th>14</th>\n",
              "      <td>3915</td>\n",
              "      <td>Brian Fee</td>\n",
              "      <td>1</td>\n",
              "      <td>175000000.0</td>\n",
              "      <td>175000000.0</td>\n",
              "    </tr>\n",
              "    <tr>\n",
              "      <th>15</th>\n",
              "      <td>23475</td>\n",
              "      <td>Pete Docter, Bob Peterson</td>\n",
              "      <td>1</td>\n",
              "      <td>175000000.0</td>\n",
              "      <td>175000000.0</td>\n",
              "    </tr>\n",
              "    <tr>\n",
              "      <th>16</th>\n",
              "      <td>17791</td>\n",
              "      <td>Lee Unkrich, Adrian Molina</td>\n",
              "      <td>1</td>\n",
              "      <td>175000000.0</td>\n",
              "      <td>175000000.0</td>\n",
              "    </tr>\n",
              "    <tr>\n",
              "      <th>17</th>\n",
              "      <td>25423</td>\n",
              "      <td>Rob Letterman, Conrad Vernon</td>\n",
              "      <td>1</td>\n",
              "      <td>175000000.0</td>\n",
              "      <td>175000000.0</td>\n",
              "    </tr>\n",
              "    <tr>\n",
              "      <th>18</th>\n",
              "      <td>4373</td>\n",
              "      <td>Carl Rinsch</td>\n",
              "      <td>1</td>\n",
              "      <td>175000000.0</td>\n",
              "      <td>175000000.0</td>\n",
              "    </tr>\n",
              "    <tr>\n",
              "      <th>19</th>\n",
              "      <td>23771</td>\n",
              "      <td>Phil Johnston, Rich Moore</td>\n",
              "      <td>1</td>\n",
              "      <td>175000000.0</td>\n",
              "      <td>175000000.0</td>\n",
              "    </tr>\n",
              "    <tr>\n",
              "      <th>1</th>\n",
              "      <td>1773</td>\n",
              "      <td>Andrew Stanton</td>\n",
              "      <td>2</td>\n",
              "      <td>215000000.0</td>\n",
              "      <td>107500000.0</td>\n",
              "    </tr>\n",
              "    <tr>\n",
              "      <th>8</th>\n",
              "      <td>2198</td>\n",
              "      <td>Anthony Russo, Joe Russo</td>\n",
              "      <td>6</td>\n",
              "      <td>193833333.0</td>\n",
              "      <td>32305555.5</td>\n",
              "    </tr>\n",
              "    <tr>\n",
              "      <th>12</th>\n",
              "      <td>12488</td>\n",
              "      <td>J.J. Abrams</td>\n",
              "      <td>6</td>\n",
              "      <td>176666667.0</td>\n",
              "      <td>29444444.5</td>\n",
              "    </tr>\n",
              "  </tbody>\n",
              "</table>\n",
              "</div>"
            ],
            "text/plain": [
              "    index                        director  ...       budget  budget_per_film\n",
              "0   21783      Nathan Greno, Byron Howard  ...  260000000.0      260000000.0\n",
              "2   23682                      Peter Sohn  ...  200000000.0      200000000.0\n",
              "3   17790                     Lee Unkrich  ...  200000000.0      200000000.0\n",
              "4   27969                   Simon Kinberg  ...  200000000.0      200000000.0\n",
              "5    1774   Andrew Stanton, Angus MacLane  ...  200000000.0      200000000.0\n",
              "6   15518                     Josh Cooley  ...  200000000.0      200000000.0\n",
              "7   14831   John Lasseter, Bradford Lewis  ...  200000000.0      200000000.0\n",
              "9   19308    Mark Andrews, Brenda Chapman  ...  185000000.0      185000000.0\n",
              "10  14326                 Joachim Rønning  ...  185000000.0      185000000.0\n",
              "11  25767                Robert Stromberg  ...  180000000.0      180000000.0\n",
              "13  23477  Pete Docter, Ronnie Del Carmen  ...  175000000.0      175000000.0\n",
              "14   3915                       Brian Fee  ...  175000000.0      175000000.0\n",
              "15  23475       Pete Docter, Bob Peterson  ...  175000000.0      175000000.0\n",
              "16  17791      Lee Unkrich, Adrian Molina  ...  175000000.0      175000000.0\n",
              "17  25423    Rob Letterman, Conrad Vernon  ...  175000000.0      175000000.0\n",
              "18   4373                     Carl Rinsch  ...  175000000.0      175000000.0\n",
              "19  23771       Phil Johnston, Rich Moore  ...  175000000.0      175000000.0\n",
              "1    1773                  Andrew Stanton  ...  215000000.0      107500000.0\n",
              "8    2198        Anthony Russo, Joe Russo  ...  193833333.0       32305555.5\n",
              "12  12488                     J.J. Abrams  ...  176666667.0       29444444.5\n",
              "\n",
              "[20 rows x 5 columns]"
            ]
          },
          "metadata": {
            "tags": []
          },
          "execution_count": 101
        }
      ]
    },
    {
      "cell_type": "markdown",
      "metadata": {
        "id": "CTjCBxs5mq57"
      },
      "source": [
        "##Scenarzyści - dochód, budżet"
      ]
    },
    {
      "cell_type": "code",
      "metadata": {
        "id": "hxB4eopGmq59",
        "colab": {
          "base_uri": "https://localhost:8080/",
          "height": 669
        },
        "outputId": "762c84fc-1b1d-4dfe-8b90-0a9ee3e1aed3"
      },
      "source": [
        "#Scenarzyści z największym dochodem ŚREDNIM !! w dolarach plus budżet\n",
        "#PROBLEM - BIERZE POD UWAGĘ TYLKO AMERYKAŃSKICH SCENARZYSTÓW - BUDŻET W DOLARACH?\n",
        "imdb_movies_all_USD = imdb_movies[imdb_movies.currency_for_usaincome.eq('$') & imdb_movies.currency_for_wwincome.eq('$') & imdb_movies.currency_for_budget.eq('$')]\n",
        "df = imdb_movies_all_USD.groupby('writer').agg({'imdb_title_id':'count','usa_gross_income':'mean', 'worlwide_gross_income':'mean', 'budget':'mean'}).reset_index().rename(columns={'imdb_title_id':'films_count'}).sort_values(by='worlwide_gross_income', ascending=False).head(20)\n",
        "df['budget']=df['budget'].astype(int)\n",
        "df['worlwide_gross_income'] = df['worlwide_gross_income'].astype(int)\n",
        "df['usa_gross_income'] = df['usa_gross_income'].astype(int)\n",
        "df['return_on_films']=df['worlwide_gross_income']/df['budget']\n",
        "df.reset_index().sort_values(by='return_on_films', ascending=False).head(20)"
      ],
      "execution_count": null,
      "outputs": [
        {
          "output_type": "execute_result",
          "data": {
            "text/html": [
              "<div>\n",
              "<style scoped>\n",
              "    .dataframe tbody tr th:only-of-type {\n",
              "        vertical-align: middle;\n",
              "    }\n",
              "\n",
              "    .dataframe tbody tr th {\n",
              "        vertical-align: top;\n",
              "    }\n",
              "\n",
              "    .dataframe thead th {\n",
              "        text-align: right;\n",
              "    }\n",
              "</style>\n",
              "<table border=\"1\" class=\"dataframe\">\n",
              "  <thead>\n",
              "    <tr style=\"text-align: right;\">\n",
              "      <th></th>\n",
              "      <th>index</th>\n",
              "      <th>writer</th>\n",
              "      <th>films_count</th>\n",
              "      <th>usa_gross_income</th>\n",
              "      <th>worlwide_gross_income</th>\n",
              "      <th>budget</th>\n",
              "      <th>return_on_films</th>\n",
              "    </tr>\n",
              "  </thead>\n",
              "  <tbody>\n",
              "    <tr>\n",
              "      <th>14</th>\n",
              "      <td>57076</td>\n",
              "      <td>Todd Phillips, Scott Silver</td>\n",
              "      <td>1</td>\n",
              "      <td>335451311</td>\n",
              "      <td>1074251311</td>\n",
              "      <td>55000000</td>\n",
              "      <td>19.531842</td>\n",
              "    </tr>\n",
              "    <tr>\n",
              "      <th>1</th>\n",
              "      <td>25147</td>\n",
              "      <td>James Cameron</td>\n",
              "      <td>3</td>\n",
              "      <td>491444205</td>\n",
              "      <td>1691869686</td>\n",
              "      <td>169000000</td>\n",
              "      <td>10.011063</td>\n",
              "    </tr>\n",
              "    <tr>\n",
              "      <th>5</th>\n",
              "      <td>27092</td>\n",
              "      <td>Jennifer Lee, Hans Christian Andersen</td>\n",
              "      <td>2</td>\n",
              "      <td>439055793</td>\n",
              "      <td>1365415143</td>\n",
              "      <td>150000000</td>\n",
              "      <td>9.102768</td>\n",
              "    </tr>\n",
              "    <tr>\n",
              "      <th>13</th>\n",
              "      <td>48457</td>\n",
              "      <td>Rick Jaffa, Amanda Silver</td>\n",
              "      <td>2</td>\n",
              "      <td>414515405</td>\n",
              "      <td>1076101158</td>\n",
              "      <td>121500000</td>\n",
              "      <td>8.856800</td>\n",
              "    </tr>\n",
              "    <tr>\n",
              "      <th>0</th>\n",
              "      <td>34229</td>\n",
              "      <td>Lawrence Kasdan, J.J. Abrams</td>\n",
              "      <td>1</td>\n",
              "      <td>936662225</td>\n",
              "      <td>2068224036</td>\n",
              "      <td>245000000</td>\n",
              "      <td>8.441731</td>\n",
              "    </tr>\n",
              "    <tr>\n",
              "      <th>9</th>\n",
              "      <td>54375</td>\n",
              "      <td>Stephen Chbosky, Evan Spiliotopoulos</td>\n",
              "      <td>1</td>\n",
              "      <td>504481165</td>\n",
              "      <td>1264064380</td>\n",
              "      <td>160000000</td>\n",
              "      <td>7.900402</td>\n",
              "    </tr>\n",
              "    <tr>\n",
              "      <th>8</th>\n",
              "      <td>13386</td>\n",
              "      <td>Derek Connolly, Colin Trevorrow</td>\n",
              "      <td>1</td>\n",
              "      <td>417719760</td>\n",
              "      <td>1331958159</td>\n",
              "      <td>170000000</td>\n",
              "      <td>7.835048</td>\n",
              "    </tr>\n",
              "    <tr>\n",
              "      <th>12</th>\n",
              "      <td>12673</td>\n",
              "      <td>David Leslie Johnson-McGoldrick, Will Beall</td>\n",
              "      <td>1</td>\n",
              "      <td>335061807</td>\n",
              "      <td>1148485886</td>\n",
              "      <td>160000000</td>\n",
              "      <td>7.178037</td>\n",
              "    </tr>\n",
              "    <tr>\n",
              "      <th>3</th>\n",
              "      <td>30421</td>\n",
              "      <td>Joss Whedon, Zak Penn</td>\n",
              "      <td>1</td>\n",
              "      <td>623357910</td>\n",
              "      <td>1518814206</td>\n",
              "      <td>220000000</td>\n",
              "      <td>6.903701</td>\n",
              "    </tr>\n",
              "    <tr>\n",
              "      <th>19</th>\n",
              "      <td>7819</td>\n",
              "      <td>Byron Howard, Rich Moore</td>\n",
              "      <td>1</td>\n",
              "      <td>341268248</td>\n",
              "      <td>1023789075</td>\n",
              "      <td>150000000</td>\n",
              "      <td>6.825260</td>\n",
              "    </tr>\n",
              "    <tr>\n",
              "      <th>6</th>\n",
              "      <td>50727</td>\n",
              "      <td>Ryan Coogler, Joe Robert Cole</td>\n",
              "      <td>1</td>\n",
              "      <td>700426566</td>\n",
              "      <td>1347280838</td>\n",
              "      <td>200000000</td>\n",
              "      <td>6.736404</td>\n",
              "    </tr>\n",
              "    <tr>\n",
              "      <th>2</th>\n",
              "      <td>26866</td>\n",
              "      <td>Jeff Nathanson, Irene Mecchi</td>\n",
              "      <td>1</td>\n",
              "      <td>543638043</td>\n",
              "      <td>1656963790</td>\n",
              "      <td>260000000</td>\n",
              "      <td>6.372938</td>\n",
              "    </tr>\n",
              "    <tr>\n",
              "      <th>11</th>\n",
              "      <td>14459</td>\n",
              "      <td>Drew Pearce, Shane Black</td>\n",
              "      <td>1</td>\n",
              "      <td>409013994</td>\n",
              "      <td>1214811252</td>\n",
              "      <td>200000000</td>\n",
              "      <td>6.074056</td>\n",
              "    </tr>\n",
              "    <tr>\n",
              "      <th>16</th>\n",
              "      <td>54718</td>\n",
              "      <td>Steve Kloves, J.K. Rowling</td>\n",
              "      <td>3</td>\n",
              "      <td>324710882</td>\n",
              "      <td>1057652039</td>\n",
              "      <td>175000000</td>\n",
              "      <td>6.043726</td>\n",
              "    </tr>\n",
              "    <tr>\n",
              "      <th>18</th>\n",
              "      <td>28420</td>\n",
              "      <td>John August, Guy Ritchie</td>\n",
              "      <td>1</td>\n",
              "      <td>355559216</td>\n",
              "      <td>1050693953</td>\n",
              "      <td>183000000</td>\n",
              "      <td>5.741497</td>\n",
              "    </tr>\n",
              "    <tr>\n",
              "      <th>4</th>\n",
              "      <td>30419</td>\n",
              "      <td>Joss Whedon, Stan Lee</td>\n",
              "      <td>1</td>\n",
              "      <td>459005868</td>\n",
              "      <td>1402808753</td>\n",
              "      <td>250000000</td>\n",
              "      <td>5.611235</td>\n",
              "    </tr>\n",
              "    <tr>\n",
              "      <th>17</th>\n",
              "      <td>9697</td>\n",
              "      <td>Chris Weitz, Tony Gilroy</td>\n",
              "      <td>1</td>\n",
              "      <td>532177324</td>\n",
              "      <td>1056057720</td>\n",
              "      <td>200000000</td>\n",
              "      <td>5.280289</td>\n",
              "    </tr>\n",
              "    <tr>\n",
              "      <th>10</th>\n",
              "      <td>18952</td>\n",
              "      <td>Gary Scott Thompson, Chris Morgan</td>\n",
              "      <td>1</td>\n",
              "      <td>226008385</td>\n",
              "      <td>1236005118</td>\n",
              "      <td>250000000</td>\n",
              "      <td>4.944020</td>\n",
              "    </tr>\n",
              "    <tr>\n",
              "      <th>7</th>\n",
              "      <td>47864</td>\n",
              "      <td>Rian Johnson, George Lucas</td>\n",
              "      <td>1</td>\n",
              "      <td>620181382</td>\n",
              "      <td>1332540187</td>\n",
              "      <td>317000000</td>\n",
              "      <td>4.203597</td>\n",
              "    </tr>\n",
              "    <tr>\n",
              "      <th>15</th>\n",
              "      <td>9679</td>\n",
              "      <td>Chris Terrio, J.J. Abrams</td>\n",
              "      <td>1</td>\n",
              "      <td>515202542</td>\n",
              "      <td>1074144248</td>\n",
              "      <td>275000000</td>\n",
              "      <td>3.905979</td>\n",
              "    </tr>\n",
              "  </tbody>\n",
              "</table>\n",
              "</div>"
            ],
            "text/plain": [
              "    index  ... return_on_films\n",
              "14  57076  ...       19.531842\n",
              "1   25147  ...       10.011063\n",
              "5   27092  ...        9.102768\n",
              "13  48457  ...        8.856800\n",
              "0   34229  ...        8.441731\n",
              "9   54375  ...        7.900402\n",
              "8   13386  ...        7.835048\n",
              "12  12673  ...        7.178037\n",
              "3   30421  ...        6.903701\n",
              "19   7819  ...        6.825260\n",
              "6   50727  ...        6.736404\n",
              "2   26866  ...        6.372938\n",
              "11  14459  ...        6.074056\n",
              "16  54718  ...        6.043726\n",
              "18  28420  ...        5.741497\n",
              "4   30419  ...        5.611235\n",
              "17   9697  ...        5.280289\n",
              "10  18952  ...        4.944020\n",
              "7   47864  ...        4.203597\n",
              "15   9679  ...        3.905979\n",
              "\n",
              "[20 rows x 7 columns]"
            ]
          },
          "metadata": {
            "tags": []
          },
          "execution_count": 102
        }
      ]
    },
    {
      "cell_type": "markdown",
      "metadata": {
        "id": "eMwHRmvnXcWJ"
      },
      "source": [
        "# Aktorzy z największymi średnimi głosów, największą liczą głosów, budżet filmów i dochody - EWA i Kasia"
      ]
    },
    {
      "cell_type": "markdown",
      "metadata": {
        "id": "h5Dk-QC9-Jwf"
      },
      "source": [
        "##Przygotowanie tabeli pomocniczej z aktorami i ocenami"
      ]
    },
    {
      "cell_type": "code",
      "metadata": {
        "id": "larxeEF8daE4",
        "colab": {
          "base_uri": "https://localhost:8080/",
          "height": 677
        },
        "outputId": "5d5639b7-78b2-4d62-b2cc-02008c740f6d"
      },
      "source": [
        "imdb_movies_actors = imdb_movies.actors.str.split(pat=',', expand=True)\n",
        "imdb_movies_actors['avg_vote'] = imdb_movies['avg_vote']\n",
        "imdb_movies_actors['budget'] = imdb_movies['budget']\n",
        "imdb_movies_actors['currency_for_budget']=imdb_movies['currency_for_budget']\n",
        "\n",
        "imdb_movies_actors"
      ],
      "execution_count": null,
      "outputs": [
        {
          "output_type": "execute_result",
          "data": {
            "text/html": [
              "<div>\n",
              "<style scoped>\n",
              "    .dataframe tbody tr th:only-of-type {\n",
              "        vertical-align: middle;\n",
              "    }\n",
              "\n",
              "    .dataframe tbody tr th {\n",
              "        vertical-align: top;\n",
              "    }\n",
              "\n",
              "    .dataframe thead th {\n",
              "        text-align: right;\n",
              "    }\n",
              "</style>\n",
              "<table border=\"1\" class=\"dataframe\">\n",
              "  <thead>\n",
              "    <tr style=\"text-align: right;\">\n",
              "      <th></th>\n",
              "      <th>0</th>\n",
              "      <th>1</th>\n",
              "      <th>2</th>\n",
              "      <th>3</th>\n",
              "      <th>4</th>\n",
              "      <th>5</th>\n",
              "      <th>6</th>\n",
              "      <th>7</th>\n",
              "      <th>8</th>\n",
              "      <th>9</th>\n",
              "      <th>10</th>\n",
              "      <th>11</th>\n",
              "      <th>12</th>\n",
              "      <th>13</th>\n",
              "      <th>14</th>\n",
              "      <th>15</th>\n",
              "      <th>avg_vote</th>\n",
              "      <th>budget</th>\n",
              "      <th>currency_for_budget</th>\n",
              "    </tr>\n",
              "  </thead>\n",
              "  <tbody>\n",
              "    <tr>\n",
              "      <th>0</th>\n",
              "      <td>Blanche Bayliss</td>\n",
              "      <td>William Courtenay</td>\n",
              "      <td>Chauncey Depew</td>\n",
              "      <td>None</td>\n",
              "      <td>None</td>\n",
              "      <td>None</td>\n",
              "      <td>None</td>\n",
              "      <td>None</td>\n",
              "      <td>None</td>\n",
              "      <td>None</td>\n",
              "      <td>None</td>\n",
              "      <td>None</td>\n",
              "      <td>None</td>\n",
              "      <td>None</td>\n",
              "      <td>None</td>\n",
              "      <td>None</td>\n",
              "      <td>5.9</td>\n",
              "      <td>0</td>\n",
              "      <td>$</td>\n",
              "    </tr>\n",
              "    <tr>\n",
              "      <th>1</th>\n",
              "      <td>Elizabeth Tait</td>\n",
              "      <td>John Tait</td>\n",
              "      <td>Norman Campbell</td>\n",
              "      <td>Bella Cola</td>\n",
              "      <td>Will Coyne</td>\n",
              "      <td>Sam Crewes</td>\n",
              "      <td>Jack Ennis</td>\n",
              "      <td>John Forde</td>\n",
              "      <td>Vera Linden</td>\n",
              "      <td>Mr. Marshall</td>\n",
              "      <td>Mr. McKenzie</td>\n",
              "      <td>Frank Mills</td>\n",
              "      <td>Ollie Wilson</td>\n",
              "      <td>None</td>\n",
              "      <td>None</td>\n",
              "      <td>None</td>\n",
              "      <td>6.1</td>\n",
              "      <td>2250</td>\n",
              "      <td>$</td>\n",
              "    </tr>\n",
              "    <tr>\n",
              "      <th>2</th>\n",
              "      <td>Asta Nielsen</td>\n",
              "      <td>Valdemar Psilander</td>\n",
              "      <td>Gunnar Helsengreen</td>\n",
              "      <td>Emil Albes</td>\n",
              "      <td>Hugo Flink</td>\n",
              "      <td>Mary Hagen</td>\n",
              "      <td>None</td>\n",
              "      <td>None</td>\n",
              "      <td>None</td>\n",
              "      <td>None</td>\n",
              "      <td>None</td>\n",
              "      <td>None</td>\n",
              "      <td>None</td>\n",
              "      <td>None</td>\n",
              "      <td>None</td>\n",
              "      <td>None</td>\n",
              "      <td>5.8</td>\n",
              "      <td>0</td>\n",
              "      <td>$</td>\n",
              "    </tr>\n",
              "    <tr>\n",
              "      <th>3</th>\n",
              "      <td>Helen Gardner</td>\n",
              "      <td>Pearl Sindelar</td>\n",
              "      <td>Miss Fielding</td>\n",
              "      <td>Miss Robson</td>\n",
              "      <td>Helene Costello</td>\n",
              "      <td>Charles Sindelar</td>\n",
              "      <td>Mr. Howard</td>\n",
              "      <td>James R. Waite</td>\n",
              "      <td>Mr. Osborne</td>\n",
              "      <td>Harry Knowles</td>\n",
              "      <td>Mr. Paul</td>\n",
              "      <td>Mr. Brady</td>\n",
              "      <td>Mr. Corker</td>\n",
              "      <td>None</td>\n",
              "      <td>None</td>\n",
              "      <td>None</td>\n",
              "      <td>5.2</td>\n",
              "      <td>45000</td>\n",
              "      <td>$</td>\n",
              "    </tr>\n",
              "    <tr>\n",
              "      <th>4</th>\n",
              "      <td>Salvatore Papa</td>\n",
              "      <td>Arturo Pirovano</td>\n",
              "      <td>Giuseppe de Liguoro</td>\n",
              "      <td>Pier Delle Vigne</td>\n",
              "      <td>Augusto Milla</td>\n",
              "      <td>Attilio Motta</td>\n",
              "      <td>Emilise Beretta</td>\n",
              "      <td>None</td>\n",
              "      <td>None</td>\n",
              "      <td>None</td>\n",
              "      <td>None</td>\n",
              "      <td>None</td>\n",
              "      <td>None</td>\n",
              "      <td>None</td>\n",
              "      <td>None</td>\n",
              "      <td>None</td>\n",
              "      <td>7.0</td>\n",
              "      <td>0</td>\n",
              "      <td>$</td>\n",
              "    </tr>\n",
              "    <tr>\n",
              "      <th>...</th>\n",
              "      <td>...</td>\n",
              "      <td>...</td>\n",
              "      <td>...</td>\n",
              "      <td>...</td>\n",
              "      <td>...</td>\n",
              "      <td>...</td>\n",
              "      <td>...</td>\n",
              "      <td>...</td>\n",
              "      <td>...</td>\n",
              "      <td>...</td>\n",
              "      <td>...</td>\n",
              "      <td>...</td>\n",
              "      <td>...</td>\n",
              "      <td>...</td>\n",
              "      <td>...</td>\n",
              "      <td>...</td>\n",
              "      <td>...</td>\n",
              "      <td>...</td>\n",
              "      <td>...</td>\n",
              "    </tr>\n",
              "    <tr>\n",
              "      <th>85850</th>\n",
              "      <td>Dany Boon</td>\n",
              "      <td>Philippe Katerine</td>\n",
              "      <td>Anne Serra</td>\n",
              "      <td>Samuel Jouy</td>\n",
              "      <td>Sophie Verbeeck</td>\n",
              "      <td>Carole Brana</td>\n",
              "      <td>Benoît Pétré</td>\n",
              "      <td>Aksel Ustun</td>\n",
              "      <td>Mathieu Lardot</td>\n",
              "      <td>Olivier Sa</td>\n",
              "      <td>Julien Prevost</td>\n",
              "      <td>Antoine Mathieu</td>\n",
              "      <td>David Ban</td>\n",
              "      <td>Stan</td>\n",
              "      <td>Guillaume Clémencin</td>\n",
              "      <td>None</td>\n",
              "      <td>5.3</td>\n",
              "      <td>0</td>\n",
              "      <td>$</td>\n",
              "    </tr>\n",
              "    <tr>\n",
              "      <th>85851</th>\n",
              "      <td>Herman Finkers</td>\n",
              "      <td>Johanna ter Steege</td>\n",
              "      <td>Leonie ter Braak</td>\n",
              "      <td>Stef Assen</td>\n",
              "      <td>Annie Beumers</td>\n",
              "      <td>Jos Brummelhuis</td>\n",
              "      <td>Reinier Bulder</td>\n",
              "      <td>Daphne Bunskoek</td>\n",
              "      <td>Karlijn Koel</td>\n",
              "      <td>Karlijn Lansink</td>\n",
              "      <td>Marieke Lustenhouwer</td>\n",
              "      <td>Jan Roerink</td>\n",
              "      <td>Ferdi Stofmeel</td>\n",
              "      <td>Aniek Stokkers</td>\n",
              "      <td>Belinda van der Stoep</td>\n",
              "      <td>None</td>\n",
              "      <td>7.7</td>\n",
              "      <td>0</td>\n",
              "      <td>$</td>\n",
              "    </tr>\n",
              "    <tr>\n",
              "      <th>85852</th>\n",
              "      <td>Anoop Chandran</td>\n",
              "      <td>Indrans</td>\n",
              "      <td>Sona Nair</td>\n",
              "      <td>Simon Britto Rodrigues</td>\n",
              "      <td>None</td>\n",
              "      <td>None</td>\n",
              "      <td>None</td>\n",
              "      <td>None</td>\n",
              "      <td>None</td>\n",
              "      <td>None</td>\n",
              "      <td>None</td>\n",
              "      <td>None</td>\n",
              "      <td>None</td>\n",
              "      <td>None</td>\n",
              "      <td>None</td>\n",
              "      <td>None</td>\n",
              "      <td>7.9</td>\n",
              "      <td>0</td>\n",
              "      <td>$</td>\n",
              "    </tr>\n",
              "    <tr>\n",
              "      <th>85853</th>\n",
              "      <td>Ahmet Faik Akinci</td>\n",
              "      <td>Belma Mamati</td>\n",
              "      <td>Metin Keçeci</td>\n",
              "      <td>Burhan Sirmabiyik</td>\n",
              "      <td>Orhan Aydin</td>\n",
              "      <td>Tevfik Yapici</td>\n",
              "      <td>Yusuf Eksi</td>\n",
              "      <td>Toygun Ates</td>\n",
              "      <td>Aziz Özuysal</td>\n",
              "      <td>Dilek Ölekli</td>\n",
              "      <td>Arcan Bunial</td>\n",
              "      <td>Seval Hislisoy</td>\n",
              "      <td>Ergül Çolakoglu</td>\n",
              "      <td>Gülçin Ugur</td>\n",
              "      <td>Ibrahim Balaban</td>\n",
              "      <td>None</td>\n",
              "      <td>6.4</td>\n",
              "      <td>0</td>\n",
              "      <td>$</td>\n",
              "    </tr>\n",
              "    <tr>\n",
              "      <th>85854</th>\n",
              "      <td>Maria Morera Colomer</td>\n",
              "      <td>Biel Rossell Pelfort</td>\n",
              "      <td>Isaac Alcayde</td>\n",
              "      <td>Lluís Altés</td>\n",
              "      <td>Joan Amargós</td>\n",
              "      <td>Pepo Blasco</td>\n",
              "      <td>Cesc Casanovas</td>\n",
              "      <td>Oriol Cervera</td>\n",
              "      <td>Pau Escobar</td>\n",
              "      <td>Jordi Figueras</td>\n",
              "      <td>Arés Fuster</td>\n",
              "      <td>Judit Martín</td>\n",
              "      <td>Martí Múrcia</td>\n",
              "      <td>Mariona Pagès</td>\n",
              "      <td>Francesca Piñón</td>\n",
              "      <td>None</td>\n",
              "      <td>6.7</td>\n",
              "      <td>0</td>\n",
              "      <td>$</td>\n",
              "    </tr>\n",
              "  </tbody>\n",
              "</table>\n",
              "<p>85855 rows × 19 columns</p>\n",
              "</div>"
            ],
            "text/plain": [
              "                          0                      1  ... budget currency_for_budget\n",
              "0           Blanche Bayliss      William Courtenay  ...      0                   $\n",
              "1            Elizabeth Tait              John Tait  ...   2250                   $\n",
              "2              Asta Nielsen     Valdemar Psilander  ...      0                   $\n",
              "3             Helen Gardner         Pearl Sindelar  ...  45000                   $\n",
              "4            Salvatore Papa        Arturo Pirovano  ...      0                   $\n",
              "...                     ...                    ...  ...    ...                 ...\n",
              "85850             Dany Boon      Philippe Katerine  ...      0                   $\n",
              "85851        Herman Finkers     Johanna ter Steege  ...      0                   $\n",
              "85852        Anoop Chandran                Indrans  ...      0                   $\n",
              "85853     Ahmet Faik Akinci           Belma Mamati  ...      0                   $\n",
              "85854  Maria Morera Colomer   Biel Rossell Pelfort  ...      0                   $\n",
              "\n",
              "[85855 rows x 19 columns]"
            ]
          },
          "metadata": {
            "tags": []
          },
          "execution_count": 103
        }
      ]
    },
    {
      "cell_type": "code",
      "metadata": {
        "id": "V-Jsn_lOZZGY",
        "colab": {
          "base_uri": "https://localhost:8080/",
          "height": 35
        },
        "outputId": "0902a6fb-0164-493a-de76-472010ed083f"
      },
      "source": [
        "imdb_movies_actors[1][1]"
      ],
      "execution_count": null,
      "outputs": [
        {
          "output_type": "execute_result",
          "data": {
            "application/vnd.google.colaboratory.intrinsic+json": {
              "type": "string"
            },
            "text/plain": [
              "' John Tait'"
            ]
          },
          "metadata": {
            "tags": []
          },
          "execution_count": 104
        }
      ]
    },
    {
      "cell_type": "code",
      "metadata": {
        "id": "ggtfrusfKlNC"
      },
      "source": [
        "def remove_white_space_before(x):\n",
        "  if isinstance(x, str):\n",
        "    if x[0] == ' ':\n",
        "      x = x[1:]\n",
        "  return x"
      ],
      "execution_count": null,
      "outputs": []
    },
    {
      "cell_type": "code",
      "metadata": {
        "id": "hu6-kB9BDkLL"
      },
      "source": [
        "# tu usuwam spacje przed imionami we wszytskich kolumnach\n",
        "\n",
        "for i in range(0,16):\n",
        "  imdb_movies_actors[i] = imdb_movies_actors[i].apply(remove_white_space_before)"
      ],
      "execution_count": null,
      "outputs": []
    },
    {
      "cell_type": "code",
      "metadata": {
        "id": "20Yj-9pDTBME",
        "colab": {
          "base_uri": "https://localhost:8080/",
          "height": 35
        },
        "outputId": "4b105d68-fa1b-473e-f4c4-31c91c5d0adf"
      },
      "source": [
        "imdb_movies_actors[1][1]"
      ],
      "execution_count": null,
      "outputs": [
        {
          "output_type": "execute_result",
          "data": {
            "application/vnd.google.colaboratory.intrinsic+json": {
              "type": "string"
            },
            "text/plain": [
              "'John Tait'"
            ]
          },
          "metadata": {
            "tags": []
          },
          "execution_count": 107
        }
      ]
    },
    {
      "cell_type": "code",
      "metadata": {
        "id": "sqiYBbZqbsos",
        "colab": {
          "base_uri": "https://localhost:8080/",
          "height": 419
        },
        "outputId": "26a73a0e-57ed-4aa4-804a-78cc9dfb8d9b"
      },
      "source": [
        "actors = {}\n",
        "for i in range(0, 16):\n",
        "  actors[\"act_column{0}\".format(i)] = imdb_movies_actors[[i, 'avg_vote']].groupby(i).agg(['count', 'sum'])\n",
        "  actors[\"act_column{0}\".format(i)].columns = actors[\"act_column{0}\".format(i)].columns.droplevel(0)\n",
        "  actors[\"act_column{0}\".format(i)].index.name = None\n",
        "\n",
        "actors['act_column0']"
      ],
      "execution_count": null,
      "outputs": [
        {
          "output_type": "execute_result",
          "data": {
            "text/html": [
              "<div>\n",
              "<style scoped>\n",
              "    .dataframe tbody tr th:only-of-type {\n",
              "        vertical-align: middle;\n",
              "    }\n",
              "\n",
              "    .dataframe tbody tr th {\n",
              "        vertical-align: top;\n",
              "    }\n",
              "\n",
              "    .dataframe thead th {\n",
              "        text-align: right;\n",
              "    }\n",
              "</style>\n",
              "<table border=\"1\" class=\"dataframe\">\n",
              "  <thead>\n",
              "    <tr style=\"text-align: right;\">\n",
              "      <th></th>\n",
              "      <th>count</th>\n",
              "      <th>sum</th>\n",
              "    </tr>\n",
              "  </thead>\n",
              "  <tbody>\n",
              "    <tr>\n",
              "      <th>'Lee' George Quinones</th>\n",
              "      <td>1</td>\n",
              "      <td>7.1</td>\n",
              "    </tr>\n",
              "    <tr>\n",
              "      <th>'University' Jeevan</th>\n",
              "      <td>1</td>\n",
              "      <td>5.7</td>\n",
              "    </tr>\n",
              "    <tr>\n",
              "      <th>'Weird Al' Yankovic</th>\n",
              "      <td>1</td>\n",
              "      <td>7.0</td>\n",
              "    </tr>\n",
              "    <tr>\n",
              "      <th>2Mex</th>\n",
              "      <td>1</td>\n",
              "      <td>3.8</td>\n",
              "    </tr>\n",
              "    <tr>\n",
              "      <th>50 Cent</th>\n",
              "      <td>5</td>\n",
              "      <td>23.7</td>\n",
              "    </tr>\n",
              "    <tr>\n",
              "      <th>...</th>\n",
              "      <td>...</td>\n",
              "      <td>...</td>\n",
              "    </tr>\n",
              "    <tr>\n",
              "      <th>Þorsteinn Bachmann</th>\n",
              "      <td>1</td>\n",
              "      <td>5.6</td>\n",
              "    </tr>\n",
              "    <tr>\n",
              "      <th>Þorsteinn Guðmundsson</th>\n",
              "      <td>1</td>\n",
              "      <td>6.1</td>\n",
              "    </tr>\n",
              "    <tr>\n",
              "      <th>Þröstur Leó Gunnarsson</th>\n",
              "      <td>2</td>\n",
              "      <td>11.9</td>\n",
              "    </tr>\n",
              "    <tr>\n",
              "      <th>Þórhallur Sigurðsson</th>\n",
              "      <td>1</td>\n",
              "      <td>5.7</td>\n",
              "    </tr>\n",
              "    <tr>\n",
              "      <th>Þórhallur Sverrisson</th>\n",
              "      <td>1</td>\n",
              "      <td>7.0</td>\n",
              "    </tr>\n",
              "  </tbody>\n",
              "</table>\n",
              "<p>37146 rows × 2 columns</p>\n",
              "</div>"
            ],
            "text/plain": [
              "                        count   sum\n",
              "'Lee' George Quinones       1   7.1\n",
              "'University' Jeevan         1   5.7\n",
              "'Weird Al' Yankovic         1   7.0\n",
              "2Mex                        1   3.8\n",
              "50 Cent                     5  23.7\n",
              "...                       ...   ...\n",
              "Þorsteinn Bachmann          1   5.6\n",
              "Þorsteinn Guðmundsson       1   6.1\n",
              "Þröstur Leó Gunnarsson      2  11.9\n",
              "Þórhallur Sigurðsson        1   5.7\n",
              "Þórhallur Sverrisson        1   7.0\n",
              "\n",
              "[37146 rows x 2 columns]"
            ]
          },
          "metadata": {
            "tags": []
          },
          "execution_count": 108
        }
      ]
    },
    {
      "cell_type": "code",
      "metadata": {
        "id": "BYGeYPXulnq6",
        "colab": {
          "base_uri": "https://localhost:8080/",
          "height": 419
        },
        "outputId": "bccec59b-db97-44db-ab39-6238b5025ceb"
      },
      "source": [
        "actors_all = actors['act_column0']\n",
        "for i in range(1,16):\n",
        "  actors_all = actors_all.add(actors[\"act_column{0}\".format(i)], fill_value=0)\n",
        "\n",
        "actors_all"
      ],
      "execution_count": null,
      "outputs": [
        {
          "output_type": "execute_result",
          "data": {
            "text/html": [
              "<div>\n",
              "<style scoped>\n",
              "    .dataframe tbody tr th:only-of-type {\n",
              "        vertical-align: middle;\n",
              "    }\n",
              "\n",
              "    .dataframe tbody tr th {\n",
              "        vertical-align: top;\n",
              "    }\n",
              "\n",
              "    .dataframe thead th {\n",
              "        text-align: right;\n",
              "    }\n",
              "</style>\n",
              "<table border=\"1\" class=\"dataframe\">\n",
              "  <thead>\n",
              "    <tr style=\"text-align: right;\">\n",
              "      <th></th>\n",
              "      <th>count</th>\n",
              "      <th>sum</th>\n",
              "    </tr>\n",
              "  </thead>\n",
              "  <tbody>\n",
              "    <tr>\n",
              "      <th>'Astor' Escobar</th>\n",
              "      <td>1.0</td>\n",
              "      <td>6.4</td>\n",
              "    </tr>\n",
              "    <tr>\n",
              "      <th>'Baby' Carmen De Rue</th>\n",
              "      <td>3.0</td>\n",
              "      <td>15.5</td>\n",
              "    </tr>\n",
              "    <tr>\n",
              "      <th>'Bang Bang' Toto Ruta</th>\n",
              "      <td>1.0</td>\n",
              "      <td>7.1</td>\n",
              "    </tr>\n",
              "    <tr>\n",
              "      <th>'Big Al' Solomon</th>\n",
              "      <td>1.0</td>\n",
              "      <td>3.4</td>\n",
              "    </tr>\n",
              "    <tr>\n",
              "      <th>'Big Jack' Provan</th>\n",
              "      <td>1.0</td>\n",
              "      <td>6.0</td>\n",
              "    </tr>\n",
              "    <tr>\n",
              "      <th>...</th>\n",
              "      <td>...</td>\n",
              "      <td>...</td>\n",
              "    </tr>\n",
              "    <tr>\n",
              "      <th>Þórir Waagfjörð</th>\n",
              "      <td>1.0</td>\n",
              "      <td>5.3</td>\n",
              "    </tr>\n",
              "    <tr>\n",
              "      <th>Þórunn Antónía Magnúsdóttir</th>\n",
              "      <td>1.0</td>\n",
              "      <td>6.3</td>\n",
              "    </tr>\n",
              "    <tr>\n",
              "      <th>Þórunn Arna Kristjánsdóttir</th>\n",
              "      <td>1.0</td>\n",
              "      <td>7.1</td>\n",
              "    </tr>\n",
              "    <tr>\n",
              "      <th>Þórunn Magnea Magnúsdóttir</th>\n",
              "      <td>3.0</td>\n",
              "      <td>19.8</td>\n",
              "    </tr>\n",
              "    <tr>\n",
              "      <th>Þórður Árnason</th>\n",
              "      <td>1.0</td>\n",
              "      <td>7.3</td>\n",
              "    </tr>\n",
              "  </tbody>\n",
              "</table>\n",
              "<p>417320 rows × 2 columns</p>\n",
              "</div>"
            ],
            "text/plain": [
              "                             count   sum\n",
              "'Astor' Escobar                1.0   6.4\n",
              "'Baby' Carmen De Rue           3.0  15.5\n",
              "'Bang Bang' Toto Ruta          1.0   7.1\n",
              "'Big Al' Solomon               1.0   3.4\n",
              "'Big Jack' Provan              1.0   6.0\n",
              "...                            ...   ...\n",
              "Þórir Waagfjörð                1.0   5.3\n",
              "Þórunn Antónía Magnúsdóttir    1.0   6.3\n",
              "Þórunn Arna Kristjánsdóttir    1.0   7.1\n",
              "Þórunn Magnea Magnúsdóttir     3.0  19.8\n",
              "Þórður Árnason                 1.0   7.3\n",
              "\n",
              "[417320 rows x 2 columns]"
            ]
          },
          "metadata": {
            "tags": []
          },
          "execution_count": 109
        }
      ]
    },
    {
      "cell_type": "code",
      "metadata": {
        "id": "WHl-SaK5nZkJ",
        "colab": {
          "base_uri": "https://localhost:8080/",
          "height": 419
        },
        "outputId": "ee9a2a9b-9e62-4b35-8ec1-f1a67716bd30"
      },
      "source": [
        "actors_all['avg_vote'] = actors_all['sum']/actors_all['count']\n",
        "actors_all"
      ],
      "execution_count": null,
      "outputs": [
        {
          "output_type": "execute_result",
          "data": {
            "text/html": [
              "<div>\n",
              "<style scoped>\n",
              "    .dataframe tbody tr th:only-of-type {\n",
              "        vertical-align: middle;\n",
              "    }\n",
              "\n",
              "    .dataframe tbody tr th {\n",
              "        vertical-align: top;\n",
              "    }\n",
              "\n",
              "    .dataframe thead th {\n",
              "        text-align: right;\n",
              "    }\n",
              "</style>\n",
              "<table border=\"1\" class=\"dataframe\">\n",
              "  <thead>\n",
              "    <tr style=\"text-align: right;\">\n",
              "      <th></th>\n",
              "      <th>count</th>\n",
              "      <th>sum</th>\n",
              "      <th>avg_vote</th>\n",
              "    </tr>\n",
              "  </thead>\n",
              "  <tbody>\n",
              "    <tr>\n",
              "      <th>'Astor' Escobar</th>\n",
              "      <td>1.0</td>\n",
              "      <td>6.4</td>\n",
              "      <td>6.400000</td>\n",
              "    </tr>\n",
              "    <tr>\n",
              "      <th>'Baby' Carmen De Rue</th>\n",
              "      <td>3.0</td>\n",
              "      <td>15.5</td>\n",
              "      <td>5.166667</td>\n",
              "    </tr>\n",
              "    <tr>\n",
              "      <th>'Bang Bang' Toto Ruta</th>\n",
              "      <td>1.0</td>\n",
              "      <td>7.1</td>\n",
              "      <td>7.100000</td>\n",
              "    </tr>\n",
              "    <tr>\n",
              "      <th>'Big Al' Solomon</th>\n",
              "      <td>1.0</td>\n",
              "      <td>3.4</td>\n",
              "      <td>3.400000</td>\n",
              "    </tr>\n",
              "    <tr>\n",
              "      <th>'Big Jack' Provan</th>\n",
              "      <td>1.0</td>\n",
              "      <td>6.0</td>\n",
              "      <td>6.000000</td>\n",
              "    </tr>\n",
              "    <tr>\n",
              "      <th>...</th>\n",
              "      <td>...</td>\n",
              "      <td>...</td>\n",
              "      <td>...</td>\n",
              "    </tr>\n",
              "    <tr>\n",
              "      <th>Þórir Waagfjörð</th>\n",
              "      <td>1.0</td>\n",
              "      <td>5.3</td>\n",
              "      <td>5.300000</td>\n",
              "    </tr>\n",
              "    <tr>\n",
              "      <th>Þórunn Antónía Magnúsdóttir</th>\n",
              "      <td>1.0</td>\n",
              "      <td>6.3</td>\n",
              "      <td>6.300000</td>\n",
              "    </tr>\n",
              "    <tr>\n",
              "      <th>Þórunn Arna Kristjánsdóttir</th>\n",
              "      <td>1.0</td>\n",
              "      <td>7.1</td>\n",
              "      <td>7.100000</td>\n",
              "    </tr>\n",
              "    <tr>\n",
              "      <th>Þórunn Magnea Magnúsdóttir</th>\n",
              "      <td>3.0</td>\n",
              "      <td>19.8</td>\n",
              "      <td>6.600000</td>\n",
              "    </tr>\n",
              "    <tr>\n",
              "      <th>Þórður Árnason</th>\n",
              "      <td>1.0</td>\n",
              "      <td>7.3</td>\n",
              "      <td>7.300000</td>\n",
              "    </tr>\n",
              "  </tbody>\n",
              "</table>\n",
              "<p>417320 rows × 3 columns</p>\n",
              "</div>"
            ],
            "text/plain": [
              "                             count   sum  avg_vote\n",
              "'Astor' Escobar                1.0   6.4  6.400000\n",
              "'Baby' Carmen De Rue           3.0  15.5  5.166667\n",
              "'Bang Bang' Toto Ruta          1.0   7.1  7.100000\n",
              "'Big Al' Solomon               1.0   3.4  3.400000\n",
              "'Big Jack' Provan              1.0   6.0  6.000000\n",
              "...                            ...   ...       ...\n",
              "Þórir Waagfjörð                1.0   5.3  5.300000\n",
              "Þórunn Antónía Magnúsdóttir    1.0   6.3  6.300000\n",
              "Þórunn Arna Kristjánsdóttir    1.0   7.1  7.100000\n",
              "Þórunn Magnea Magnúsdóttir     3.0  19.8  6.600000\n",
              "Þórður Árnason                 1.0   7.3  7.300000\n",
              "\n",
              "[417320 rows x 3 columns]"
            ]
          },
          "metadata": {
            "tags": []
          },
          "execution_count": 110
        }
      ]
    },
    {
      "cell_type": "markdown",
      "metadata": {
        "id": "tJmB4uocF2fZ"
      },
      "source": [
        "##Aktorzy - średnia ocen oraz liczba filmów, w których zagrali"
      ]
    },
    {
      "cell_type": "code",
      "metadata": {
        "id": "muyBx_iXo96q",
        "colab": {
          "base_uri": "https://localhost:8080/",
          "height": 359
        },
        "outputId": "636c96b8-1b17-4f4b-9faa-c68f20380473"
      },
      "source": [
        "# Aktorzy, którzy zagrali w więcej niż 15 filmach posortowani wg średniej oceny filmu\n",
        "\n",
        "actors_all[actors_all['count'] > 15].sort_values(by='avg_vote', ascending=False).reset_index().head(10)"
      ],
      "execution_count": null,
      "outputs": [
        {
          "output_type": "execute_result",
          "data": {
            "text/html": [
              "<div>\n",
              "<style scoped>\n",
              "    .dataframe tbody tr th:only-of-type {\n",
              "        vertical-align: middle;\n",
              "    }\n",
              "\n",
              "    .dataframe tbody tr th {\n",
              "        vertical-align: top;\n",
              "    }\n",
              "\n",
              "    .dataframe thead th {\n",
              "        text-align: right;\n",
              "    }\n",
              "</style>\n",
              "<table border=\"1\" class=\"dataframe\">\n",
              "  <thead>\n",
              "    <tr style=\"text-align: right;\">\n",
              "      <th></th>\n",
              "      <th>index</th>\n",
              "      <th>count</th>\n",
              "      <th>sum</th>\n",
              "      <th>avg_vote</th>\n",
              "    </tr>\n",
              "  </thead>\n",
              "  <tbody>\n",
              "    <tr>\n",
              "      <th>0</th>\n",
              "      <td>Rabi Ghosh</td>\n",
              "      <td>17.0</td>\n",
              "      <td>133.5</td>\n",
              "      <td>7.852941</td>\n",
              "    </tr>\n",
              "    <tr>\n",
              "      <th>1</th>\n",
              "      <td>Sergey A.</td>\n",
              "      <td>31.0</td>\n",
              "      <td>240.0</td>\n",
              "      <td>7.741935</td>\n",
              "    </tr>\n",
              "    <tr>\n",
              "      <th>2</th>\n",
              "      <td>Vyacheslav Tikhonov</td>\n",
              "      <td>16.0</td>\n",
              "      <td>123.0</td>\n",
              "      <td>7.687500</td>\n",
              "    </tr>\n",
              "    <tr>\n",
              "      <th>3</th>\n",
              "      <td>Toma Caragiu</td>\n",
              "      <td>17.0</td>\n",
              "      <td>129.5</td>\n",
              "      <td>7.617647</td>\n",
              "    </tr>\n",
              "    <tr>\n",
              "      <th>4</th>\n",
              "      <td>Charles Chaplin</td>\n",
              "      <td>18.0</td>\n",
              "      <td>137.1</td>\n",
              "      <td>7.616667</td>\n",
              "    </tr>\n",
              "    <tr>\n",
              "      <th>5</th>\n",
              "      <td>Sebastian Papaiani</td>\n",
              "      <td>26.0</td>\n",
              "      <td>197.2</td>\n",
              "      <td>7.584615</td>\n",
              "    </tr>\n",
              "    <tr>\n",
              "      <th>6</th>\n",
              "      <td>Yoshimasa Hosoya</td>\n",
              "      <td>17.0</td>\n",
              "      <td>128.7</td>\n",
              "      <td>7.570588</td>\n",
              "    </tr>\n",
              "    <tr>\n",
              "      <th>7</th>\n",
              "      <td>Bora Todorovic</td>\n",
              "      <td>19.0</td>\n",
              "      <td>143.8</td>\n",
              "      <td>7.568421</td>\n",
              "    </tr>\n",
              "    <tr>\n",
              "      <th>8</th>\n",
              "      <td>Sankaradi</td>\n",
              "      <td>45.0</td>\n",
              "      <td>339.5</td>\n",
              "      <td>7.544444</td>\n",
              "    </tr>\n",
              "    <tr>\n",
              "      <th>9</th>\n",
              "      <td>George Mihaita</td>\n",
              "      <td>16.0</td>\n",
              "      <td>120.7</td>\n",
              "      <td>7.543750</td>\n",
              "    </tr>\n",
              "  </tbody>\n",
              "</table>\n",
              "</div>"
            ],
            "text/plain": [
              "                 index  count    sum  avg_vote\n",
              "0           Rabi Ghosh   17.0  133.5  7.852941\n",
              "1            Sergey A.   31.0  240.0  7.741935\n",
              "2  Vyacheslav Tikhonov   16.0  123.0  7.687500\n",
              "3         Toma Caragiu   17.0  129.5  7.617647\n",
              "4      Charles Chaplin   18.0  137.1  7.616667\n",
              "5   Sebastian Papaiani   26.0  197.2  7.584615\n",
              "6     Yoshimasa Hosoya   17.0  128.7  7.570588\n",
              "7       Bora Todorovic   19.0  143.8  7.568421\n",
              "8            Sankaradi   45.0  339.5  7.544444\n",
              "9       George Mihaita   16.0  120.7  7.543750"
            ]
          },
          "metadata": {
            "tags": []
          },
          "execution_count": 111
        }
      ]
    },
    {
      "cell_type": "code",
      "metadata": {
        "id": "w8fI4d7Qqv01",
        "colab": {
          "base_uri": "https://localhost:8080/",
          "height": 359
        },
        "outputId": "425e4b27-6fa7-4e74-c865-227aa0a2d0cc"
      },
      "source": [
        "# Aktorzy, którzy zagrali w więcej niż 50 filmach posortowani wg średniej oceny filmu\n",
        "\n",
        "actors_all[actors_all['count'] > 50].sort_values(by='avg_vote', ascending=False).reset_index().head(10)\n",
        "\n",
        "# Myślałam, że jakieś bardziej znane nazwiska się pojawią :D"
      ],
      "execution_count": null,
      "outputs": [
        {
          "output_type": "execute_result",
          "data": {
            "text/html": [
              "<div>\n",
              "<style scoped>\n",
              "    .dataframe tbody tr th:only-of-type {\n",
              "        vertical-align: middle;\n",
              "    }\n",
              "\n",
              "    .dataframe tbody tr th {\n",
              "        vertical-align: top;\n",
              "    }\n",
              "\n",
              "    .dataframe thead th {\n",
              "        text-align: right;\n",
              "    }\n",
              "</style>\n",
              "<table border=\"1\" class=\"dataframe\">\n",
              "  <thead>\n",
              "    <tr style=\"text-align: right;\">\n",
              "      <th></th>\n",
              "      <th>index</th>\n",
              "      <th>count</th>\n",
              "      <th>sum</th>\n",
              "      <th>avg_vote</th>\n",
              "    </tr>\n",
              "  </thead>\n",
              "  <tbody>\n",
              "    <tr>\n",
              "      <th>0</th>\n",
              "      <td>Kamal Haasan</td>\n",
              "      <td>76.0</td>\n",
              "      <td>565.8</td>\n",
              "      <td>7.444737</td>\n",
              "    </tr>\n",
              "    <tr>\n",
              "      <th>1</th>\n",
              "      <td>Sener Sen</td>\n",
              "      <td>55.0</td>\n",
              "      <td>404.4</td>\n",
              "      <td>7.352727</td>\n",
              "    </tr>\n",
              "    <tr>\n",
              "      <th>2</th>\n",
              "      <td>Thilakan</td>\n",
              "      <td>69.0</td>\n",
              "      <td>506.5</td>\n",
              "      <td>7.340580</td>\n",
              "    </tr>\n",
              "    <tr>\n",
              "      <th>3</th>\n",
              "      <td>Kemal Sunal</td>\n",
              "      <td>78.0</td>\n",
              "      <td>568.0</td>\n",
              "      <td>7.282051</td>\n",
              "    </tr>\n",
              "    <tr>\n",
              "      <th>4</th>\n",
              "      <td>Pavle Vuisic</td>\n",
              "      <td>51.0</td>\n",
              "      <td>367.2</td>\n",
              "      <td>7.200000</td>\n",
              "    </tr>\n",
              "    <tr>\n",
              "      <th>5</th>\n",
              "      <td>Tatsuya Nakadai</td>\n",
              "      <td>58.0</td>\n",
              "      <td>415.3</td>\n",
              "      <td>7.160345</td>\n",
              "    </tr>\n",
              "    <tr>\n",
              "      <th>6</th>\n",
              "      <td>Bogdan Diklic</td>\n",
              "      <td>69.0</td>\n",
              "      <td>492.6</td>\n",
              "      <td>7.139130</td>\n",
              "    </tr>\n",
              "    <tr>\n",
              "      <th>7</th>\n",
              "      <td>Takashi Shimura</td>\n",
              "      <td>51.0</td>\n",
              "      <td>363.9</td>\n",
              "      <td>7.135294</td>\n",
              "    </tr>\n",
              "    <tr>\n",
              "      <th>8</th>\n",
              "      <td>Toshirô Mifune</td>\n",
              "      <td>62.0</td>\n",
              "      <td>437.7</td>\n",
              "      <td>7.059677</td>\n",
              "    </tr>\n",
              "    <tr>\n",
              "      <th>9</th>\n",
              "      <td>Sreenivasan</td>\n",
              "      <td>83.0</td>\n",
              "      <td>585.5</td>\n",
              "      <td>7.054217</td>\n",
              "    </tr>\n",
              "  </tbody>\n",
              "</table>\n",
              "</div>"
            ],
            "text/plain": [
              "             index  count    sum  avg_vote\n",
              "0     Kamal Haasan   76.0  565.8  7.444737\n",
              "1        Sener Sen   55.0  404.4  7.352727\n",
              "2         Thilakan   69.0  506.5  7.340580\n",
              "3      Kemal Sunal   78.0  568.0  7.282051\n",
              "4     Pavle Vuisic   51.0  367.2  7.200000\n",
              "5  Tatsuya Nakadai   58.0  415.3  7.160345\n",
              "6    Bogdan Diklic   69.0  492.6  7.139130\n",
              "7  Takashi Shimura   51.0  363.9  7.135294\n",
              "8   Toshirô Mifune   62.0  437.7  7.059677\n",
              "9      Sreenivasan   83.0  585.5  7.054217"
            ]
          },
          "metadata": {
            "tags": []
          },
          "execution_count": 112
        }
      ]
    },
    {
      "cell_type": "code",
      "metadata": {
        "id": "hadVd8hhrQpn",
        "colab": {
          "base_uri": "https://localhost:8080/",
          "height": 359
        },
        "outputId": "a3f37fac-ee6d-454c-be69-f3bfee11eb14"
      },
      "source": [
        "# Aktorzy, którzy zagrali w większej liczbie filmów\n",
        "\n",
        "actors_all.sort_values(by='count', ascending=False).reset_index().head(10)"
      ],
      "execution_count": null,
      "outputs": [
        {
          "output_type": "execute_result",
          "data": {
            "text/html": [
              "<div>\n",
              "<style scoped>\n",
              "    .dataframe tbody tr th:only-of-type {\n",
              "        vertical-align: middle;\n",
              "    }\n",
              "\n",
              "    .dataframe tbody tr th {\n",
              "        vertical-align: top;\n",
              "    }\n",
              "\n",
              "    .dataframe thead th {\n",
              "        text-align: right;\n",
              "    }\n",
              "</style>\n",
              "<table border=\"1\" class=\"dataframe\">\n",
              "  <thead>\n",
              "    <tr style=\"text-align: right;\">\n",
              "      <th></th>\n",
              "      <th>index</th>\n",
              "      <th>count</th>\n",
              "      <th>sum</th>\n",
              "      <th>avg_vote</th>\n",
              "    </tr>\n",
              "  </thead>\n",
              "  <tbody>\n",
              "    <tr>\n",
              "      <th>0</th>\n",
              "      <td>Brahmanandam</td>\n",
              "      <td>318.0</td>\n",
              "      <td>1892.5</td>\n",
              "      <td>5.951258</td>\n",
              "    </tr>\n",
              "    <tr>\n",
              "      <th>1</th>\n",
              "      <td>Anupam Kher</td>\n",
              "      <td>211.0</td>\n",
              "      <td>1195.3</td>\n",
              "      <td>5.664929</td>\n",
              "    </tr>\n",
              "    <tr>\n",
              "      <th>2</th>\n",
              "      <td>Nassar</td>\n",
              "      <td>204.0</td>\n",
              "      <td>1282.9</td>\n",
              "      <td>6.288725</td>\n",
              "    </tr>\n",
              "    <tr>\n",
              "      <th>3</th>\n",
              "      <td>Eric Roberts</td>\n",
              "      <td>204.0</td>\n",
              "      <td>904.0</td>\n",
              "      <td>4.431373</td>\n",
              "    </tr>\n",
              "    <tr>\n",
              "      <th>4</th>\n",
              "      <td>Prakash Raj</td>\n",
              "      <td>189.0</td>\n",
              "      <td>1169.9</td>\n",
              "      <td>6.189947</td>\n",
              "    </tr>\n",
              "    <tr>\n",
              "      <th>5</th>\n",
              "      <td>Tanikella Bharani</td>\n",
              "      <td>173.0</td>\n",
              "      <td>1076.7</td>\n",
              "      <td>6.223699</td>\n",
              "    </tr>\n",
              "    <tr>\n",
              "      <th>6</th>\n",
              "      <td>Amitabh Bachchan</td>\n",
              "      <td>173.0</td>\n",
              "      <td>1079.1</td>\n",
              "      <td>6.237572</td>\n",
              "    </tr>\n",
              "    <tr>\n",
              "      <th>7</th>\n",
              "      <td>Mohanlal</td>\n",
              "      <td>169.0</td>\n",
              "      <td>1120.3</td>\n",
              "      <td>6.628994</td>\n",
              "    </tr>\n",
              "    <tr>\n",
              "      <th>8</th>\n",
              "      <td>Gérard Depardieu</td>\n",
              "      <td>164.0</td>\n",
              "      <td>1000.1</td>\n",
              "      <td>6.098171</td>\n",
              "    </tr>\n",
              "    <tr>\n",
              "      <th>9</th>\n",
              "      <td>John Carradine</td>\n",
              "      <td>162.0</td>\n",
              "      <td>895.7</td>\n",
              "      <td>5.529012</td>\n",
              "    </tr>\n",
              "  </tbody>\n",
              "</table>\n",
              "</div>"
            ],
            "text/plain": [
              "               index  count     sum  avg_vote\n",
              "0       Brahmanandam  318.0  1892.5  5.951258\n",
              "1        Anupam Kher  211.0  1195.3  5.664929\n",
              "2             Nassar  204.0  1282.9  6.288725\n",
              "3       Eric Roberts  204.0   904.0  4.431373\n",
              "4        Prakash Raj  189.0  1169.9  6.189947\n",
              "5  Tanikella Bharani  173.0  1076.7  6.223699\n",
              "6   Amitabh Bachchan  173.0  1079.1  6.237572\n",
              "7           Mohanlal  169.0  1120.3  6.628994\n",
              "8   Gérard Depardieu  164.0  1000.1  6.098171\n",
              "9     John Carradine  162.0   895.7  5.529012"
            ]
          },
          "metadata": {
            "tags": []
          },
          "execution_count": 113
        }
      ]
    },
    {
      "cell_type": "markdown",
      "metadata": {
        "id": "BotxmmDbBBBV"
      },
      "source": [
        "##Przygotowanie tabeli pomocniczej z aktorami i budżetem"
      ]
    },
    {
      "cell_type": "code",
      "metadata": {
        "id": "vGfaNaho92OS",
        "colab": {
          "base_uri": "https://localhost:8080/",
          "height": 289
        },
        "outputId": "38501cc5-293f-438d-f4c6-8c5d0f921274"
      },
      "source": [
        "imdb_movies_actors_budget = imdb_movies.actors.str.split(pat=',', expand=True)\n",
        "imdb_movies_actors_budget['budget'] = imdb_movies['budget']\n",
        "imdb_movies_actors_budget['currency_for_budget']=imdb_movies['currency_for_budget']\n",
        "#nowa df z danymi gdzie budget w dolarach\n",
        "imdb_movies_actors_budget_USD = imdb_movies_actors_budget[imdb_movies_actors_budget['currency_for_budget']=='$']\n",
        "imdb_movies_actors_budget_USD.head()"
      ],
      "execution_count": null,
      "outputs": [
        {
          "output_type": "execute_result",
          "data": {
            "text/html": [
              "<div>\n",
              "<style scoped>\n",
              "    .dataframe tbody tr th:only-of-type {\n",
              "        vertical-align: middle;\n",
              "    }\n",
              "\n",
              "    .dataframe tbody tr th {\n",
              "        vertical-align: top;\n",
              "    }\n",
              "\n",
              "    .dataframe thead th {\n",
              "        text-align: right;\n",
              "    }\n",
              "</style>\n",
              "<table border=\"1\" class=\"dataframe\">\n",
              "  <thead>\n",
              "    <tr style=\"text-align: right;\">\n",
              "      <th></th>\n",
              "      <th>0</th>\n",
              "      <th>1</th>\n",
              "      <th>2</th>\n",
              "      <th>3</th>\n",
              "      <th>4</th>\n",
              "      <th>5</th>\n",
              "      <th>6</th>\n",
              "      <th>7</th>\n",
              "      <th>8</th>\n",
              "      <th>9</th>\n",
              "      <th>10</th>\n",
              "      <th>11</th>\n",
              "      <th>12</th>\n",
              "      <th>13</th>\n",
              "      <th>14</th>\n",
              "      <th>15</th>\n",
              "      <th>budget</th>\n",
              "      <th>currency_for_budget</th>\n",
              "    </tr>\n",
              "  </thead>\n",
              "  <tbody>\n",
              "    <tr>\n",
              "      <th>0</th>\n",
              "      <td>Blanche Bayliss</td>\n",
              "      <td>William Courtenay</td>\n",
              "      <td>Chauncey Depew</td>\n",
              "      <td>None</td>\n",
              "      <td>None</td>\n",
              "      <td>None</td>\n",
              "      <td>None</td>\n",
              "      <td>None</td>\n",
              "      <td>None</td>\n",
              "      <td>None</td>\n",
              "      <td>None</td>\n",
              "      <td>None</td>\n",
              "      <td>None</td>\n",
              "      <td>None</td>\n",
              "      <td>None</td>\n",
              "      <td>None</td>\n",
              "      <td>0</td>\n",
              "      <td>$</td>\n",
              "    </tr>\n",
              "    <tr>\n",
              "      <th>1</th>\n",
              "      <td>Elizabeth Tait</td>\n",
              "      <td>John Tait</td>\n",
              "      <td>Norman Campbell</td>\n",
              "      <td>Bella Cola</td>\n",
              "      <td>Will Coyne</td>\n",
              "      <td>Sam Crewes</td>\n",
              "      <td>Jack Ennis</td>\n",
              "      <td>John Forde</td>\n",
              "      <td>Vera Linden</td>\n",
              "      <td>Mr. Marshall</td>\n",
              "      <td>Mr. McKenzie</td>\n",
              "      <td>Frank Mills</td>\n",
              "      <td>Ollie Wilson</td>\n",
              "      <td>None</td>\n",
              "      <td>None</td>\n",
              "      <td>None</td>\n",
              "      <td>2250</td>\n",
              "      <td>$</td>\n",
              "    </tr>\n",
              "    <tr>\n",
              "      <th>2</th>\n",
              "      <td>Asta Nielsen</td>\n",
              "      <td>Valdemar Psilander</td>\n",
              "      <td>Gunnar Helsengreen</td>\n",
              "      <td>Emil Albes</td>\n",
              "      <td>Hugo Flink</td>\n",
              "      <td>Mary Hagen</td>\n",
              "      <td>None</td>\n",
              "      <td>None</td>\n",
              "      <td>None</td>\n",
              "      <td>None</td>\n",
              "      <td>None</td>\n",
              "      <td>None</td>\n",
              "      <td>None</td>\n",
              "      <td>None</td>\n",
              "      <td>None</td>\n",
              "      <td>None</td>\n",
              "      <td>0</td>\n",
              "      <td>$</td>\n",
              "    </tr>\n",
              "    <tr>\n",
              "      <th>3</th>\n",
              "      <td>Helen Gardner</td>\n",
              "      <td>Pearl Sindelar</td>\n",
              "      <td>Miss Fielding</td>\n",
              "      <td>Miss Robson</td>\n",
              "      <td>Helene Costello</td>\n",
              "      <td>Charles Sindelar</td>\n",
              "      <td>Mr. Howard</td>\n",
              "      <td>James R. Waite</td>\n",
              "      <td>Mr. Osborne</td>\n",
              "      <td>Harry Knowles</td>\n",
              "      <td>Mr. Paul</td>\n",
              "      <td>Mr. Brady</td>\n",
              "      <td>Mr. Corker</td>\n",
              "      <td>None</td>\n",
              "      <td>None</td>\n",
              "      <td>None</td>\n",
              "      <td>45000</td>\n",
              "      <td>$</td>\n",
              "    </tr>\n",
              "    <tr>\n",
              "      <th>4</th>\n",
              "      <td>Salvatore Papa</td>\n",
              "      <td>Arturo Pirovano</td>\n",
              "      <td>Giuseppe de Liguoro</td>\n",
              "      <td>Pier Delle Vigne</td>\n",
              "      <td>Augusto Milla</td>\n",
              "      <td>Attilio Motta</td>\n",
              "      <td>Emilise Beretta</td>\n",
              "      <td>None</td>\n",
              "      <td>None</td>\n",
              "      <td>None</td>\n",
              "      <td>None</td>\n",
              "      <td>None</td>\n",
              "      <td>None</td>\n",
              "      <td>None</td>\n",
              "      <td>None</td>\n",
              "      <td>None</td>\n",
              "      <td>0</td>\n",
              "      <td>$</td>\n",
              "    </tr>\n",
              "  </tbody>\n",
              "</table>\n",
              "</div>"
            ],
            "text/plain": [
              "                 0                    1  ... budget currency_for_budget\n",
              "0  Blanche Bayliss    William Courtenay  ...      0                   $\n",
              "1   Elizabeth Tait            John Tait  ...   2250                   $\n",
              "2     Asta Nielsen   Valdemar Psilander  ...      0                   $\n",
              "3    Helen Gardner       Pearl Sindelar  ...  45000                   $\n",
              "4   Salvatore Papa      Arturo Pirovano  ...      0                   $\n",
              "\n",
              "[5 rows x 18 columns]"
            ]
          },
          "metadata": {
            "tags": []
          },
          "execution_count": 114
        }
      ]
    },
    {
      "cell_type": "code",
      "metadata": {
        "colab": {
          "base_uri": "https://localhost:8080/"
        },
        "id": "650oXtKf_HZ6",
        "outputId": "d0983fa0-407c-4677-ca9d-7997e8d5c997"
      },
      "source": [
        "imdb_movies_actors_budget_USD.shape"
      ],
      "execution_count": null,
      "outputs": [
        {
          "output_type": "execute_result",
          "data": {
            "text/plain": [
              "(78747, 18)"
            ]
          },
          "metadata": {
            "tags": []
          },
          "execution_count": 115
        }
      ]
    },
    {
      "cell_type": "code",
      "metadata": {
        "colab": {
          "base_uri": "https://localhost:8080/"
        },
        "id": "v6GqMVal_jhj",
        "outputId": "3b34048c-7d05-43c2-8d34-ab6d320b9c0e"
      },
      "source": [
        "for i in range(0,16):\n",
        "  imdb_movies_actors_budget_USD[i] = imdb_movies_actors_budget_USD[i].apply(remove_white_space_before)"
      ],
      "execution_count": null,
      "outputs": [
        {
          "output_type": "stream",
          "text": [
            "/usr/local/lib/python3.7/dist-packages/ipykernel_launcher.py:2: SettingWithCopyWarning: \n",
            "A value is trying to be set on a copy of a slice from a DataFrame.\n",
            "Try using .loc[row_indexer,col_indexer] = value instead\n",
            "\n",
            "See the caveats in the documentation: https://pandas.pydata.org/pandas-docs/stable/user_guide/indexing.html#returning-a-view-versus-a-copy\n",
            "  \n"
          ],
          "name": "stderr"
        }
      ]
    },
    {
      "cell_type": "code",
      "metadata": {
        "colab": {
          "base_uri": "https://localhost:8080/",
          "height": 419
        },
        "id": "vO8JdQQp_jhk",
        "outputId": "b03579ef-add8-46bf-9162-1f4e8715124b"
      },
      "source": [
        "actors_budget = {}\n",
        "for i in range(0, 16):\n",
        "  actors_budget[\"act_column{0}\".format(i)] = imdb_movies_actors_budget_USD[[i, 'budget']].groupby(i).agg(['count', 'sum'])\n",
        "  actors_budget[\"act_column{0}\".format(i)].columns = actors_budget[\"act_column{0}\".format(i)].columns.droplevel(0)\n",
        "  actors_budget[\"act_column{0}\".format(i)].index.name = None\n",
        "\n",
        "actors_budget['act_column0']"
      ],
      "execution_count": null,
      "outputs": [
        {
          "output_type": "execute_result",
          "data": {
            "text/html": [
              "<div>\n",
              "<style scoped>\n",
              "    .dataframe tbody tr th:only-of-type {\n",
              "        vertical-align: middle;\n",
              "    }\n",
              "\n",
              "    .dataframe tbody tr th {\n",
              "        vertical-align: top;\n",
              "    }\n",
              "\n",
              "    .dataframe thead th {\n",
              "        text-align: right;\n",
              "    }\n",
              "</style>\n",
              "<table border=\"1\" class=\"dataframe\">\n",
              "  <thead>\n",
              "    <tr style=\"text-align: right;\">\n",
              "      <th></th>\n",
              "      <th>count</th>\n",
              "      <th>sum</th>\n",
              "    </tr>\n",
              "  </thead>\n",
              "  <tbody>\n",
              "    <tr>\n",
              "      <th>'Lee' George Quinones</th>\n",
              "      <td>1</td>\n",
              "      <td>0</td>\n",
              "    </tr>\n",
              "    <tr>\n",
              "      <th>'Weird Al' Yankovic</th>\n",
              "      <td>1</td>\n",
              "      <td>5000000</td>\n",
              "    </tr>\n",
              "    <tr>\n",
              "      <th>2Mex</th>\n",
              "      <td>1</td>\n",
              "      <td>0</td>\n",
              "    </tr>\n",
              "    <tr>\n",
              "      <th>50 Cent</th>\n",
              "      <td>5</td>\n",
              "      <td>88000000</td>\n",
              "    </tr>\n",
              "    <tr>\n",
              "      <th>A Martinez</th>\n",
              "      <td>1</td>\n",
              "      <td>0</td>\n",
              "    </tr>\n",
              "    <tr>\n",
              "      <th>...</th>\n",
              "      <td>...</td>\n",
              "      <td>...</td>\n",
              "    </tr>\n",
              "    <tr>\n",
              "      <th>Ümit Bülent Dinçer</th>\n",
              "      <td>1</td>\n",
              "      <td>700000</td>\n",
              "    </tr>\n",
              "    <tr>\n",
              "      <th>Þorsteinn Guðmundsson</th>\n",
              "      <td>1</td>\n",
              "      <td>1800000</td>\n",
              "    </tr>\n",
              "    <tr>\n",
              "      <th>Þröstur Leó Gunnarsson</th>\n",
              "      <td>1</td>\n",
              "      <td>0</td>\n",
              "    </tr>\n",
              "    <tr>\n",
              "      <th>Þórhallur Sigurðsson</th>\n",
              "      <td>1</td>\n",
              "      <td>0</td>\n",
              "    </tr>\n",
              "    <tr>\n",
              "      <th>Þórhallur Sverrisson</th>\n",
              "      <td>1</td>\n",
              "      <td>200000</td>\n",
              "    </tr>\n",
              "  </tbody>\n",
              "</table>\n",
              "<p>34363 rows × 2 columns</p>\n",
              "</div>"
            ],
            "text/plain": [
              "                        count       sum\n",
              "'Lee' George Quinones       1         0\n",
              "'Weird Al' Yankovic         1   5000000\n",
              "2Mex                        1         0\n",
              "50 Cent                     5  88000000\n",
              "A Martinez                  1         0\n",
              "...                       ...       ...\n",
              "Ümit Bülent Dinçer          1    700000\n",
              "Þorsteinn Guðmundsson       1   1800000\n",
              "Þröstur Leó Gunnarsson      1         0\n",
              "Þórhallur Sigurðsson        1         0\n",
              "Þórhallur Sverrisson        1    200000\n",
              "\n",
              "[34363 rows x 2 columns]"
            ]
          },
          "metadata": {
            "tags": []
          },
          "execution_count": 117
        }
      ]
    },
    {
      "cell_type": "code",
      "metadata": {
        "colab": {
          "base_uri": "https://localhost:8080/",
          "height": 419
        },
        "id": "DNq8nvTv_jhl",
        "outputId": "c84c1163-9b09-44a0-fd3e-8f9dfda0d09d"
      },
      "source": [
        "actors_budget_all = actors_budget['act_column0']\n",
        "for i in range(1,16):\n",
        "  actors_budget_all = actors_budget_all.add(actors_budget[\"act_column{0}\".format(i)], fill_value=0)\n",
        "\n",
        "actors_budget_all"
      ],
      "execution_count": null,
      "outputs": [
        {
          "output_type": "execute_result",
          "data": {
            "text/html": [
              "<div>\n",
              "<style scoped>\n",
              "    .dataframe tbody tr th:only-of-type {\n",
              "        vertical-align: middle;\n",
              "    }\n",
              "\n",
              "    .dataframe tbody tr th {\n",
              "        vertical-align: top;\n",
              "    }\n",
              "\n",
              "    .dataframe thead th {\n",
              "        text-align: right;\n",
              "    }\n",
              "</style>\n",
              "<table border=\"1\" class=\"dataframe\">\n",
              "  <thead>\n",
              "    <tr style=\"text-align: right;\">\n",
              "      <th></th>\n",
              "      <th>count</th>\n",
              "      <th>sum</th>\n",
              "    </tr>\n",
              "  </thead>\n",
              "  <tbody>\n",
              "    <tr>\n",
              "      <th>'Baby' Carmen De Rue</th>\n",
              "      <td>3.0</td>\n",
              "      <td>20000.0</td>\n",
              "    </tr>\n",
              "    <tr>\n",
              "      <th>'Bang Bang' Toto Ruta</th>\n",
              "      <td>1.0</td>\n",
              "      <td>0.0</td>\n",
              "    </tr>\n",
              "    <tr>\n",
              "      <th>'Big Al' Solomon</th>\n",
              "      <td>1.0</td>\n",
              "      <td>0.0</td>\n",
              "    </tr>\n",
              "    <tr>\n",
              "      <th>'Big Jack' Provan</th>\n",
              "      <td>1.0</td>\n",
              "      <td>100000.0</td>\n",
              "    </tr>\n",
              "    <tr>\n",
              "      <th>'Big Walter' Price</th>\n",
              "      <td>1.0</td>\n",
              "      <td>0.0</td>\n",
              "    </tr>\n",
              "    <tr>\n",
              "      <th>...</th>\n",
              "      <td>...</td>\n",
              "      <td>...</td>\n",
              "    </tr>\n",
              "    <tr>\n",
              "      <th>Þórir Gunnar Jónsson</th>\n",
              "      <td>1.0</td>\n",
              "      <td>0.0</td>\n",
              "    </tr>\n",
              "    <tr>\n",
              "      <th>Þórir Waagfjörð</th>\n",
              "      <td>1.0</td>\n",
              "      <td>0.0</td>\n",
              "    </tr>\n",
              "    <tr>\n",
              "      <th>Þórunn Antónía Magnúsdóttir</th>\n",
              "      <td>1.0</td>\n",
              "      <td>0.0</td>\n",
              "    </tr>\n",
              "    <tr>\n",
              "      <th>Þórunn Magnea Magnúsdóttir</th>\n",
              "      <td>2.0</td>\n",
              "      <td>0.0</td>\n",
              "    </tr>\n",
              "    <tr>\n",
              "      <th>Þórður Árnason</th>\n",
              "      <td>1.0</td>\n",
              "      <td>0.0</td>\n",
              "    </tr>\n",
              "  </tbody>\n",
              "</table>\n",
              "<p>388828 rows × 2 columns</p>\n",
              "</div>"
            ],
            "text/plain": [
              "                             count       sum\n",
              "'Baby' Carmen De Rue           3.0   20000.0\n",
              "'Bang Bang' Toto Ruta          1.0       0.0\n",
              "'Big Al' Solomon               1.0       0.0\n",
              "'Big Jack' Provan              1.0  100000.0\n",
              "'Big Walter' Price             1.0       0.0\n",
              "...                            ...       ...\n",
              "Þórir Gunnar Jónsson           1.0       0.0\n",
              "Þórir Waagfjörð                1.0       0.0\n",
              "Þórunn Antónía Magnúsdóttir    1.0       0.0\n",
              "Þórunn Magnea Magnúsdóttir     2.0       0.0\n",
              "Þórður Árnason                 1.0       0.0\n",
              "\n",
              "[388828 rows x 2 columns]"
            ]
          },
          "metadata": {
            "tags": []
          },
          "execution_count": 118
        }
      ]
    },
    {
      "cell_type": "code",
      "metadata": {
        "colab": {
          "base_uri": "https://localhost:8080/",
          "height": 204
        },
        "id": "65e-pWPx_jhl",
        "outputId": "4b7071a3-c290-443b-d43d-286ee1fbe995"
      },
      "source": [
        "actors_budget_all['avg_budget'] = actors_budget_all['sum']/actors_all['count']\n",
        "actors_budget_all['avg_budget'] = actors_budget_all['avg_budget'].astype(int)\n",
        "actors_budget_all.head()"
      ],
      "execution_count": null,
      "outputs": [
        {
          "output_type": "execute_result",
          "data": {
            "text/html": [
              "<div>\n",
              "<style scoped>\n",
              "    .dataframe tbody tr th:only-of-type {\n",
              "        vertical-align: middle;\n",
              "    }\n",
              "\n",
              "    .dataframe tbody tr th {\n",
              "        vertical-align: top;\n",
              "    }\n",
              "\n",
              "    .dataframe thead th {\n",
              "        text-align: right;\n",
              "    }\n",
              "</style>\n",
              "<table border=\"1\" class=\"dataframe\">\n",
              "  <thead>\n",
              "    <tr style=\"text-align: right;\">\n",
              "      <th></th>\n",
              "      <th>count</th>\n",
              "      <th>sum</th>\n",
              "      <th>avg_budget</th>\n",
              "    </tr>\n",
              "  </thead>\n",
              "  <tbody>\n",
              "    <tr>\n",
              "      <th>'Baby' Carmen De Rue</th>\n",
              "      <td>3.0</td>\n",
              "      <td>20000.0</td>\n",
              "      <td>6666</td>\n",
              "    </tr>\n",
              "    <tr>\n",
              "      <th>'Bang Bang' Toto Ruta</th>\n",
              "      <td>1.0</td>\n",
              "      <td>0.0</td>\n",
              "      <td>0</td>\n",
              "    </tr>\n",
              "    <tr>\n",
              "      <th>'Big Al' Solomon</th>\n",
              "      <td>1.0</td>\n",
              "      <td>0.0</td>\n",
              "      <td>0</td>\n",
              "    </tr>\n",
              "    <tr>\n",
              "      <th>'Big Jack' Provan</th>\n",
              "      <td>1.0</td>\n",
              "      <td>100000.0</td>\n",
              "      <td>100000</td>\n",
              "    </tr>\n",
              "    <tr>\n",
              "      <th>'Big Walter' Price</th>\n",
              "      <td>1.0</td>\n",
              "      <td>0.0</td>\n",
              "      <td>0</td>\n",
              "    </tr>\n",
              "  </tbody>\n",
              "</table>\n",
              "</div>"
            ],
            "text/plain": [
              "                       count       sum  avg_budget\n",
              "'Baby' Carmen De Rue     3.0   20000.0        6666\n",
              "'Bang Bang' Toto Ruta    1.0       0.0           0\n",
              "'Big Al' Solomon         1.0       0.0           0\n",
              "'Big Jack' Provan        1.0  100000.0      100000\n",
              "'Big Walter' Price       1.0       0.0           0"
            ]
          },
          "metadata": {
            "tags": []
          },
          "execution_count": 119
        }
      ]
    },
    {
      "cell_type": "markdown",
      "metadata": {
        "id": "UINJgPGW9loi"
      },
      "source": [
        "##Aktorzy - dane o budżecie filmów - dla budżetów w USD\n",
        "\n"
      ]
    },
    {
      "cell_type": "code",
      "metadata": {
        "colab": {
          "base_uri": "https://localhost:8080/",
          "height": 359
        },
        "id": "vQpExEWy_jhm",
        "outputId": "4ecafeb3-7679-4a1d-a0fb-9f7bbc2439dd"
      },
      "source": [
        "# Aktorzy, którzy zagrali w więcej niż 15 filmach posortowani wg średniego budżetu filmu\n",
        "\n",
        "actors_budget_all[actors_budget_all['count'] > 15].sort_values(by='avg_budget', ascending=False).reset_index().head(10)"
      ],
      "execution_count": null,
      "outputs": [
        {
          "output_type": "execute_result",
          "data": {
            "text/html": [
              "<div>\n",
              "<style scoped>\n",
              "    .dataframe tbody tr th:only-of-type {\n",
              "        vertical-align: middle;\n",
              "    }\n",
              "\n",
              "    .dataframe tbody tr th {\n",
              "        vertical-align: top;\n",
              "    }\n",
              "\n",
              "    .dataframe thead th {\n",
              "        text-align: right;\n",
              "    }\n",
              "</style>\n",
              "<table border=\"1\" class=\"dataframe\">\n",
              "  <thead>\n",
              "    <tr style=\"text-align: right;\">\n",
              "      <th></th>\n",
              "      <th>index</th>\n",
              "      <th>count</th>\n",
              "      <th>sum</th>\n",
              "      <th>avg_budget</th>\n",
              "    </tr>\n",
              "  </thead>\n",
              "  <tbody>\n",
              "    <tr>\n",
              "      <th>0</th>\n",
              "      <td>Chris Hemsworth</td>\n",
              "      <td>22.0</td>\n",
              "      <td>2.614000e+09</td>\n",
              "      <td>118818181</td>\n",
              "    </tr>\n",
              "    <tr>\n",
              "      <th>1</th>\n",
              "      <td>Tyrese Gibson</td>\n",
              "      <td>16.0</td>\n",
              "      <td>1.535800e+09</td>\n",
              "      <td>95987500</td>\n",
              "    </tr>\n",
              "    <tr>\n",
              "      <th>2</th>\n",
              "      <td>Will Smith</td>\n",
              "      <td>31.0</td>\n",
              "      <td>2.865100e+09</td>\n",
              "      <td>92422580</td>\n",
              "    </tr>\n",
              "    <tr>\n",
              "      <th>3</th>\n",
              "      <td>Dwayne Johnson</td>\n",
              "      <td>34.0</td>\n",
              "      <td>2.977000e+09</td>\n",
              "      <td>87558823</td>\n",
              "    </tr>\n",
              "    <tr>\n",
              "      <th>4</th>\n",
              "      <td>Karen Gillan</td>\n",
              "      <td>17.0</td>\n",
              "      <td>1.436000e+09</td>\n",
              "      <td>84470588</td>\n",
              "    </tr>\n",
              "    <tr>\n",
              "      <th>5</th>\n",
              "      <td>Vin Diesel</td>\n",
              "      <td>25.0</td>\n",
              "      <td>2.036000e+09</td>\n",
              "      <td>81440000</td>\n",
              "    </tr>\n",
              "    <tr>\n",
              "      <th>6</th>\n",
              "      <td>Paul Bettany</td>\n",
              "      <td>33.0</td>\n",
              "      <td>2.763500e+09</td>\n",
              "      <td>81279411</td>\n",
              "    </tr>\n",
              "    <tr>\n",
              "      <th>7</th>\n",
              "      <td>Hugh Jackman</td>\n",
              "      <td>29.0</td>\n",
              "      <td>2.418000e+09</td>\n",
              "      <td>80600000</td>\n",
              "    </tr>\n",
              "    <tr>\n",
              "      <th>8</th>\n",
              "      <td>Tom Hiddleston</td>\n",
              "      <td>16.0</td>\n",
              "      <td>1.434000e+09</td>\n",
              "      <td>79666666</td>\n",
              "    </tr>\n",
              "    <tr>\n",
              "      <th>9</th>\n",
              "      <td>T.J. Miller</td>\n",
              "      <td>20.0</td>\n",
              "      <td>1.573000e+09</td>\n",
              "      <td>78650000</td>\n",
              "    </tr>\n",
              "  </tbody>\n",
              "</table>\n",
              "</div>"
            ],
            "text/plain": [
              "             index  count           sum  avg_budget\n",
              "0  Chris Hemsworth   22.0  2.614000e+09   118818181\n",
              "1    Tyrese Gibson   16.0  1.535800e+09    95987500\n",
              "2       Will Smith   31.0  2.865100e+09    92422580\n",
              "3   Dwayne Johnson   34.0  2.977000e+09    87558823\n",
              "4     Karen Gillan   17.0  1.436000e+09    84470588\n",
              "5       Vin Diesel   25.0  2.036000e+09    81440000\n",
              "6     Paul Bettany   33.0  2.763500e+09    81279411\n",
              "7     Hugh Jackman   29.0  2.418000e+09    80600000\n",
              "8   Tom Hiddleston   16.0  1.434000e+09    79666666\n",
              "9      T.J. Miller   20.0  1.573000e+09    78650000"
            ]
          },
          "metadata": {
            "tags": []
          },
          "execution_count": 120
        }
      ]
    },
    {
      "cell_type": "code",
      "metadata": {
        "colab": {
          "base_uri": "https://localhost:8080/",
          "height": 359
        },
        "id": "u7dekbic_jhm",
        "outputId": "edd82da5-7d71-4911-d2bc-cedcce7918fc"
      },
      "source": [
        "# Aktorzy, którzy zagrali w więcej niż 50 filmach posortowani wg średniego budżetu filmu\n",
        "\n",
        "actors_budget_all[actors_budget_all['count'] > 50].sort_values(by='avg_budget', ascending=False).reset_index().head(10)\n"
      ],
      "execution_count": null,
      "outputs": [
        {
          "output_type": "execute_result",
          "data": {
            "text/html": [
              "<div>\n",
              "<style scoped>\n",
              "    .dataframe tbody tr th:only-of-type {\n",
              "        vertical-align: middle;\n",
              "    }\n",
              "\n",
              "    .dataframe tbody tr th {\n",
              "        vertical-align: top;\n",
              "    }\n",
              "\n",
              "    .dataframe thead th {\n",
              "        text-align: right;\n",
              "    }\n",
              "</style>\n",
              "<table border=\"1\" class=\"dataframe\">\n",
              "  <thead>\n",
              "    <tr style=\"text-align: right;\">\n",
              "      <th></th>\n",
              "      <th>index</th>\n",
              "      <th>count</th>\n",
              "      <th>sum</th>\n",
              "      <th>avg_budget</th>\n",
              "    </tr>\n",
              "  </thead>\n",
              "  <tbody>\n",
              "    <tr>\n",
              "      <th>0</th>\n",
              "      <td>Johnny Depp</td>\n",
              "      <td>54.0</td>\n",
              "      <td>3.663300e+09</td>\n",
              "      <td>67838888</td>\n",
              "    </tr>\n",
              "    <tr>\n",
              "      <th>1</th>\n",
              "      <td>Robert Downey Jr.</td>\n",
              "      <td>65.0</td>\n",
              "      <td>3.589500e+09</td>\n",
              "      <td>54386363</td>\n",
              "    </tr>\n",
              "    <tr>\n",
              "      <th>2</th>\n",
              "      <td>Tom Hanks</td>\n",
              "      <td>53.0</td>\n",
              "      <td>2.589050e+09</td>\n",
              "      <td>48850000</td>\n",
              "    </tr>\n",
              "    <tr>\n",
              "      <th>3</th>\n",
              "      <td>Samuel L. Jackson</td>\n",
              "      <td>100.0</td>\n",
              "      <td>4.852665e+09</td>\n",
              "      <td>48046188</td>\n",
              "    </tr>\n",
              "    <tr>\n",
              "      <th>4</th>\n",
              "      <td>Morgan Freeman</td>\n",
              "      <td>75.0</td>\n",
              "      <td>3.370900e+09</td>\n",
              "      <td>44945333</td>\n",
              "    </tr>\n",
              "    <tr>\n",
              "      <th>5</th>\n",
              "      <td>Gary Oldman</td>\n",
              "      <td>53.0</td>\n",
              "      <td>2.372800e+09</td>\n",
              "      <td>42371428</td>\n",
              "    </tr>\n",
              "    <tr>\n",
              "      <th>6</th>\n",
              "      <td>Harrison Ford</td>\n",
              "      <td>51.0</td>\n",
              "      <td>2.157577e+09</td>\n",
              "      <td>42305431</td>\n",
              "    </tr>\n",
              "    <tr>\n",
              "      <th>7</th>\n",
              "      <td>Sylvester Stallone</td>\n",
              "      <td>55.0</td>\n",
              "      <td>2.169520e+09</td>\n",
              "      <td>39445818</td>\n",
              "    </tr>\n",
              "    <tr>\n",
              "      <th>8</th>\n",
              "      <td>Woody Harrelson</td>\n",
              "      <td>64.0</td>\n",
              "      <td>2.487700e+09</td>\n",
              "      <td>38272307</td>\n",
              "    </tr>\n",
              "    <tr>\n",
              "      <th>9</th>\n",
              "      <td>Liam Neeson</td>\n",
              "      <td>67.0</td>\n",
              "      <td>2.556620e+09</td>\n",
              "      <td>38158507</td>\n",
              "    </tr>\n",
              "  </tbody>\n",
              "</table>\n",
              "</div>"
            ],
            "text/plain": [
              "                index  count           sum  avg_budget\n",
              "0         Johnny Depp   54.0  3.663300e+09    67838888\n",
              "1   Robert Downey Jr.   65.0  3.589500e+09    54386363\n",
              "2           Tom Hanks   53.0  2.589050e+09    48850000\n",
              "3   Samuel L. Jackson  100.0  4.852665e+09    48046188\n",
              "4      Morgan Freeman   75.0  3.370900e+09    44945333\n",
              "5         Gary Oldman   53.0  2.372800e+09    42371428\n",
              "6       Harrison Ford   51.0  2.157577e+09    42305431\n",
              "7  Sylvester Stallone   55.0  2.169520e+09    39445818\n",
              "8     Woody Harrelson   64.0  2.487700e+09    38272307\n",
              "9         Liam Neeson   67.0  2.556620e+09    38158507"
            ]
          },
          "metadata": {
            "tags": []
          },
          "execution_count": 121
        }
      ]
    },
    {
      "cell_type": "markdown",
      "metadata": {
        "id": "LXNouJaAriMf"
      },
      "source": [
        "##Przygotowanie tabeli pomocniczej z aktorami i dochodami z filmow na świecie (dochody w USD)\n",
        "\n"
      ]
    },
    {
      "cell_type": "code",
      "metadata": {
        "id": "oHUvdgZMse6U",
        "colab": {
          "base_uri": "https://localhost:8080/",
          "height": 289
        },
        "outputId": "1c7cfa96-86ef-4531-ce15-d5e85dbd76ad"
      },
      "source": [
        "imdb_movies_actors_income_worldwide = imdb_movies.actors.str.split(pat=',', expand=True)\n",
        "imdb_movies_actors_income_worldwide['worlwide_gross_income'] = imdb_movies['worlwide_gross_income']\n",
        "imdb_movies_actors_income_worldwide['currency_for_wwincome']=imdb_movies['currency_for_wwincome']\n",
        "#nowa df z danymi gdzie dochód w dolarach\n",
        "imdb_movies_actors_income_worldwide_USD = imdb_movies_actors_income_worldwide[imdb_movies_actors_income_worldwide['currency_for_wwincome']=='$']\n",
        "imdb_movies_actors_income_worldwide_USD.head()"
      ],
      "execution_count": null,
      "outputs": [
        {
          "output_type": "execute_result",
          "data": {
            "text/html": [
              "<div>\n",
              "<style scoped>\n",
              "    .dataframe tbody tr th:only-of-type {\n",
              "        vertical-align: middle;\n",
              "    }\n",
              "\n",
              "    .dataframe tbody tr th {\n",
              "        vertical-align: top;\n",
              "    }\n",
              "\n",
              "    .dataframe thead th {\n",
              "        text-align: right;\n",
              "    }\n",
              "</style>\n",
              "<table border=\"1\" class=\"dataframe\">\n",
              "  <thead>\n",
              "    <tr style=\"text-align: right;\">\n",
              "      <th></th>\n",
              "      <th>0</th>\n",
              "      <th>1</th>\n",
              "      <th>2</th>\n",
              "      <th>3</th>\n",
              "      <th>4</th>\n",
              "      <th>5</th>\n",
              "      <th>6</th>\n",
              "      <th>7</th>\n",
              "      <th>8</th>\n",
              "      <th>9</th>\n",
              "      <th>10</th>\n",
              "      <th>11</th>\n",
              "      <th>12</th>\n",
              "      <th>13</th>\n",
              "      <th>14</th>\n",
              "      <th>15</th>\n",
              "      <th>worlwide_gross_income</th>\n",
              "      <th>currency_for_wwincome</th>\n",
              "    </tr>\n",
              "  </thead>\n",
              "  <tbody>\n",
              "    <tr>\n",
              "      <th>0</th>\n",
              "      <td>Blanche Bayliss</td>\n",
              "      <td>William Courtenay</td>\n",
              "      <td>Chauncey Depew</td>\n",
              "      <td>None</td>\n",
              "      <td>None</td>\n",
              "      <td>None</td>\n",
              "      <td>None</td>\n",
              "      <td>None</td>\n",
              "      <td>None</td>\n",
              "      <td>None</td>\n",
              "      <td>None</td>\n",
              "      <td>None</td>\n",
              "      <td>None</td>\n",
              "      <td>None</td>\n",
              "      <td>None</td>\n",
              "      <td>None</td>\n",
              "      <td>0</td>\n",
              "      <td>$</td>\n",
              "    </tr>\n",
              "    <tr>\n",
              "      <th>1</th>\n",
              "      <td>Elizabeth Tait</td>\n",
              "      <td>John Tait</td>\n",
              "      <td>Norman Campbell</td>\n",
              "      <td>Bella Cola</td>\n",
              "      <td>Will Coyne</td>\n",
              "      <td>Sam Crewes</td>\n",
              "      <td>Jack Ennis</td>\n",
              "      <td>John Forde</td>\n",
              "      <td>Vera Linden</td>\n",
              "      <td>Mr. Marshall</td>\n",
              "      <td>Mr. McKenzie</td>\n",
              "      <td>Frank Mills</td>\n",
              "      <td>Ollie Wilson</td>\n",
              "      <td>None</td>\n",
              "      <td>None</td>\n",
              "      <td>None</td>\n",
              "      <td>0</td>\n",
              "      <td>$</td>\n",
              "    </tr>\n",
              "    <tr>\n",
              "      <th>2</th>\n",
              "      <td>Asta Nielsen</td>\n",
              "      <td>Valdemar Psilander</td>\n",
              "      <td>Gunnar Helsengreen</td>\n",
              "      <td>Emil Albes</td>\n",
              "      <td>Hugo Flink</td>\n",
              "      <td>Mary Hagen</td>\n",
              "      <td>None</td>\n",
              "      <td>None</td>\n",
              "      <td>None</td>\n",
              "      <td>None</td>\n",
              "      <td>None</td>\n",
              "      <td>None</td>\n",
              "      <td>None</td>\n",
              "      <td>None</td>\n",
              "      <td>None</td>\n",
              "      <td>None</td>\n",
              "      <td>0</td>\n",
              "      <td>$</td>\n",
              "    </tr>\n",
              "    <tr>\n",
              "      <th>3</th>\n",
              "      <td>Helen Gardner</td>\n",
              "      <td>Pearl Sindelar</td>\n",
              "      <td>Miss Fielding</td>\n",
              "      <td>Miss Robson</td>\n",
              "      <td>Helene Costello</td>\n",
              "      <td>Charles Sindelar</td>\n",
              "      <td>Mr. Howard</td>\n",
              "      <td>James R. Waite</td>\n",
              "      <td>Mr. Osborne</td>\n",
              "      <td>Harry Knowles</td>\n",
              "      <td>Mr. Paul</td>\n",
              "      <td>Mr. Brady</td>\n",
              "      <td>Mr. Corker</td>\n",
              "      <td>None</td>\n",
              "      <td>None</td>\n",
              "      <td>None</td>\n",
              "      <td>0</td>\n",
              "      <td>$</td>\n",
              "    </tr>\n",
              "    <tr>\n",
              "      <th>4</th>\n",
              "      <td>Salvatore Papa</td>\n",
              "      <td>Arturo Pirovano</td>\n",
              "      <td>Giuseppe de Liguoro</td>\n",
              "      <td>Pier Delle Vigne</td>\n",
              "      <td>Augusto Milla</td>\n",
              "      <td>Attilio Motta</td>\n",
              "      <td>Emilise Beretta</td>\n",
              "      <td>None</td>\n",
              "      <td>None</td>\n",
              "      <td>None</td>\n",
              "      <td>None</td>\n",
              "      <td>None</td>\n",
              "      <td>None</td>\n",
              "      <td>None</td>\n",
              "      <td>None</td>\n",
              "      <td>None</td>\n",
              "      <td>0</td>\n",
              "      <td>$</td>\n",
              "    </tr>\n",
              "  </tbody>\n",
              "</table>\n",
              "</div>"
            ],
            "text/plain": [
              "                 0  ... currency_for_wwincome\n",
              "0  Blanche Bayliss  ...                     $\n",
              "1   Elizabeth Tait  ...                     $\n",
              "2     Asta Nielsen  ...                     $\n",
              "3    Helen Gardner  ...                     $\n",
              "4   Salvatore Papa  ...                     $\n",
              "\n",
              "[5 rows x 18 columns]"
            ]
          },
          "metadata": {
            "tags": []
          },
          "execution_count": 122
        }
      ]
    },
    {
      "cell_type": "code",
      "metadata": {
        "colab": {
          "base_uri": "https://localhost:8080/"
        },
        "id": "fyZjVcExse6k",
        "outputId": "1bd3012e-22db-450d-8c1a-a504fd5cc632"
      },
      "source": [
        "imdb_movies_actors_income_worldwide_USD.shape"
      ],
      "execution_count": null,
      "outputs": [
        {
          "output_type": "execute_result",
          "data": {
            "text/plain": [
              "(85794, 18)"
            ]
          },
          "metadata": {
            "tags": []
          },
          "execution_count": 123
        }
      ]
    },
    {
      "cell_type": "code",
      "metadata": {
        "colab": {
          "base_uri": "https://localhost:8080/"
        },
        "id": "WWxSwQZase6l",
        "outputId": "21ebb468-de40-4dc6-a99b-c3c9f065cdf0"
      },
      "source": [
        "for i in range(0,16):\n",
        "  imdb_movies_actors_income_worldwide_USD[i] = imdb_movies_actors_income_worldwide_USD[i].apply(remove_white_space_before)"
      ],
      "execution_count": null,
      "outputs": [
        {
          "output_type": "stream",
          "text": [
            "/usr/local/lib/python3.7/dist-packages/ipykernel_launcher.py:2: SettingWithCopyWarning: \n",
            "A value is trying to be set on a copy of a slice from a DataFrame.\n",
            "Try using .loc[row_indexer,col_indexer] = value instead\n",
            "\n",
            "See the caveats in the documentation: https://pandas.pydata.org/pandas-docs/stable/user_guide/indexing.html#returning-a-view-versus-a-copy\n",
            "  \n"
          ],
          "name": "stderr"
        }
      ]
    },
    {
      "cell_type": "code",
      "metadata": {
        "colab": {
          "base_uri": "https://localhost:8080/",
          "height": 419
        },
        "id": "VEkBlhjFse6l",
        "outputId": "aca3435b-9155-4380-f376-99ad31796506"
      },
      "source": [
        "actors_wwincome = {}\n",
        "for i in range(0, 16):\n",
        "  actors_wwincome[\"act_column{0}\".format(i)] = imdb_movies_actors_income_worldwide_USD[[i, 'worlwide_gross_income']].groupby(i).agg(['count', 'sum'])\n",
        "  actors_wwincome[\"act_column{0}\".format(i)].columns = actors_wwincome[\"act_column{0}\".format(i)].columns.droplevel(0)\n",
        "  actors_wwincome[\"act_column{0}\".format(i)].index.name = None\n",
        "\n",
        "actors_wwincome['act_column0']"
      ],
      "execution_count": null,
      "outputs": [
        {
          "output_type": "execute_result",
          "data": {
            "text/html": [
              "<div>\n",
              "<style scoped>\n",
              "    .dataframe tbody tr th:only-of-type {\n",
              "        vertical-align: middle;\n",
              "    }\n",
              "\n",
              "    .dataframe tbody tr th {\n",
              "        vertical-align: top;\n",
              "    }\n",
              "\n",
              "    .dataframe thead th {\n",
              "        text-align: right;\n",
              "    }\n",
              "</style>\n",
              "<table border=\"1\" class=\"dataframe\">\n",
              "  <thead>\n",
              "    <tr style=\"text-align: right;\">\n",
              "      <th></th>\n",
              "      <th>count</th>\n",
              "      <th>sum</th>\n",
              "    </tr>\n",
              "  </thead>\n",
              "  <tbody>\n",
              "    <tr>\n",
              "      <th>'Lee' George Quinones</th>\n",
              "      <td>1</td>\n",
              "      <td>4948</td>\n",
              "    </tr>\n",
              "    <tr>\n",
              "      <th>'University' Jeevan</th>\n",
              "      <td>1</td>\n",
              "      <td>41836</td>\n",
              "    </tr>\n",
              "    <tr>\n",
              "      <th>'Weird Al' Yankovic</th>\n",
              "      <td>1</td>\n",
              "      <td>6157157</td>\n",
              "    </tr>\n",
              "    <tr>\n",
              "      <th>2Mex</th>\n",
              "      <td>1</td>\n",
              "      <td>0</td>\n",
              "    </tr>\n",
              "    <tr>\n",
              "      <th>50 Cent</th>\n",
              "      <td>5</td>\n",
              "      <td>49160787</td>\n",
              "    </tr>\n",
              "    <tr>\n",
              "      <th>...</th>\n",
              "      <td>...</td>\n",
              "      <td>...</td>\n",
              "    </tr>\n",
              "    <tr>\n",
              "      <th>Þorsteinn Bachmann</th>\n",
              "      <td>1</td>\n",
              "      <td>24361</td>\n",
              "    </tr>\n",
              "    <tr>\n",
              "      <th>Þorsteinn Guðmundsson</th>\n",
              "      <td>1</td>\n",
              "      <td>261779</td>\n",
              "    </tr>\n",
              "    <tr>\n",
              "      <th>Þröstur Leó Gunnarsson</th>\n",
              "      <td>2</td>\n",
              "      <td>0</td>\n",
              "    </tr>\n",
              "    <tr>\n",
              "      <th>Þórhallur Sigurðsson</th>\n",
              "      <td>1</td>\n",
              "      <td>325032</td>\n",
              "    </tr>\n",
              "    <tr>\n",
              "      <th>Þórhallur Sverrisson</th>\n",
              "      <td>1</td>\n",
              "      <td>308626</td>\n",
              "    </tr>\n",
              "  </tbody>\n",
              "</table>\n",
              "<p>37143 rows × 2 columns</p>\n",
              "</div>"
            ],
            "text/plain": [
              "                        count       sum\n",
              "'Lee' George Quinones       1      4948\n",
              "'University' Jeevan         1     41836\n",
              "'Weird Al' Yankovic         1   6157157\n",
              "2Mex                        1         0\n",
              "50 Cent                     5  49160787\n",
              "...                       ...       ...\n",
              "Þorsteinn Bachmann          1     24361\n",
              "Þorsteinn Guðmundsson       1    261779\n",
              "Þröstur Leó Gunnarsson      2         0\n",
              "Þórhallur Sigurðsson        1    325032\n",
              "Þórhallur Sverrisson        1    308626\n",
              "\n",
              "[37143 rows x 2 columns]"
            ]
          },
          "metadata": {
            "tags": []
          },
          "execution_count": 125
        }
      ]
    },
    {
      "cell_type": "code",
      "metadata": {
        "colab": {
          "base_uri": "https://localhost:8080/",
          "height": 419
        },
        "id": "rOAyPyxese6m",
        "outputId": "27fa18b8-eba3-49bc-919e-48d8e70421a7"
      },
      "source": [
        "actors_wwincome_all = actors_wwincome['act_column0']\n",
        "for i in range(1,16):\n",
        "  actors_wwincome_all = actors_wwincome_all.add(actors_wwincome[\"act_column{0}\".format(i)], fill_value=0)\n",
        "\n",
        "actors_wwincome_all"
      ],
      "execution_count": null,
      "outputs": [
        {
          "output_type": "execute_result",
          "data": {
            "text/html": [
              "<div>\n",
              "<style scoped>\n",
              "    .dataframe tbody tr th:only-of-type {\n",
              "        vertical-align: middle;\n",
              "    }\n",
              "\n",
              "    .dataframe tbody tr th {\n",
              "        vertical-align: top;\n",
              "    }\n",
              "\n",
              "    .dataframe thead th {\n",
              "        text-align: right;\n",
              "    }\n",
              "</style>\n",
              "<table border=\"1\" class=\"dataframe\">\n",
              "  <thead>\n",
              "    <tr style=\"text-align: right;\">\n",
              "      <th></th>\n",
              "      <th>count</th>\n",
              "      <th>sum</th>\n",
              "    </tr>\n",
              "  </thead>\n",
              "  <tbody>\n",
              "    <tr>\n",
              "      <th>'Astor' Escobar</th>\n",
              "      <td>1.0</td>\n",
              "      <td>3439.0</td>\n",
              "    </tr>\n",
              "    <tr>\n",
              "      <th>'Baby' Carmen De Rue</th>\n",
              "      <td>3.0</td>\n",
              "      <td>0.0</td>\n",
              "    </tr>\n",
              "    <tr>\n",
              "      <th>'Bang Bang' Toto Ruta</th>\n",
              "      <td>1.0</td>\n",
              "      <td>0.0</td>\n",
              "    </tr>\n",
              "    <tr>\n",
              "      <th>'Big Al' Solomon</th>\n",
              "      <td>1.0</td>\n",
              "      <td>0.0</td>\n",
              "    </tr>\n",
              "    <tr>\n",
              "      <th>'Big Jack' Provan</th>\n",
              "      <td>1.0</td>\n",
              "      <td>0.0</td>\n",
              "    </tr>\n",
              "    <tr>\n",
              "      <th>...</th>\n",
              "      <td>...</td>\n",
              "      <td>...</td>\n",
              "    </tr>\n",
              "    <tr>\n",
              "      <th>Þórir Waagfjörð</th>\n",
              "      <td>1.0</td>\n",
              "      <td>0.0</td>\n",
              "    </tr>\n",
              "    <tr>\n",
              "      <th>Þórunn Antónía Magnúsdóttir</th>\n",
              "      <td>1.0</td>\n",
              "      <td>125366.0</td>\n",
              "    </tr>\n",
              "    <tr>\n",
              "      <th>Þórunn Arna Kristjánsdóttir</th>\n",
              "      <td>1.0</td>\n",
              "      <td>56439.0</td>\n",
              "    </tr>\n",
              "    <tr>\n",
              "      <th>Þórunn Magnea Magnúsdóttir</th>\n",
              "      <td>3.0</td>\n",
              "      <td>823114.0</td>\n",
              "    </tr>\n",
              "    <tr>\n",
              "      <th>Þórður Árnason</th>\n",
              "      <td>1.0</td>\n",
              "      <td>0.0</td>\n",
              "    </tr>\n",
              "  </tbody>\n",
              "</table>\n",
              "<p>417244 rows × 2 columns</p>\n",
              "</div>"
            ],
            "text/plain": [
              "                             count       sum\n",
              "'Astor' Escobar                1.0    3439.0\n",
              "'Baby' Carmen De Rue           3.0       0.0\n",
              "'Bang Bang' Toto Ruta          1.0       0.0\n",
              "'Big Al' Solomon               1.0       0.0\n",
              "'Big Jack' Provan              1.0       0.0\n",
              "...                            ...       ...\n",
              "Þórir Waagfjörð                1.0       0.0\n",
              "Þórunn Antónía Magnúsdóttir    1.0  125366.0\n",
              "Þórunn Arna Kristjánsdóttir    1.0   56439.0\n",
              "Þórunn Magnea Magnúsdóttir     3.0  823114.0\n",
              "Þórður Árnason                 1.0       0.0\n",
              "\n",
              "[417244 rows x 2 columns]"
            ]
          },
          "metadata": {
            "tags": []
          },
          "execution_count": 126
        }
      ]
    },
    {
      "cell_type": "code",
      "metadata": {
        "colab": {
          "base_uri": "https://localhost:8080/",
          "height": 204
        },
        "id": "bFLCA3SDse6m",
        "outputId": "ae230ef9-d47b-4394-a118-10ab6a619d72"
      },
      "source": [
        "actors_wwincome_all['avg_income'] = actors_wwincome_all['sum']/actors_wwincome_all['count']\n",
        "actors_wwincome_all['avg_income'] = actors_wwincome_all['avg_income'].astype(int)\n",
        "actors_wwincome_all.head()"
      ],
      "execution_count": null,
      "outputs": [
        {
          "output_type": "execute_result",
          "data": {
            "text/html": [
              "<div>\n",
              "<style scoped>\n",
              "    .dataframe tbody tr th:only-of-type {\n",
              "        vertical-align: middle;\n",
              "    }\n",
              "\n",
              "    .dataframe tbody tr th {\n",
              "        vertical-align: top;\n",
              "    }\n",
              "\n",
              "    .dataframe thead th {\n",
              "        text-align: right;\n",
              "    }\n",
              "</style>\n",
              "<table border=\"1\" class=\"dataframe\">\n",
              "  <thead>\n",
              "    <tr style=\"text-align: right;\">\n",
              "      <th></th>\n",
              "      <th>count</th>\n",
              "      <th>sum</th>\n",
              "      <th>avg_income</th>\n",
              "    </tr>\n",
              "  </thead>\n",
              "  <tbody>\n",
              "    <tr>\n",
              "      <th>'Astor' Escobar</th>\n",
              "      <td>1.0</td>\n",
              "      <td>3439.0</td>\n",
              "      <td>3439</td>\n",
              "    </tr>\n",
              "    <tr>\n",
              "      <th>'Baby' Carmen De Rue</th>\n",
              "      <td>3.0</td>\n",
              "      <td>0.0</td>\n",
              "      <td>0</td>\n",
              "    </tr>\n",
              "    <tr>\n",
              "      <th>'Bang Bang' Toto Ruta</th>\n",
              "      <td>1.0</td>\n",
              "      <td>0.0</td>\n",
              "      <td>0</td>\n",
              "    </tr>\n",
              "    <tr>\n",
              "      <th>'Big Al' Solomon</th>\n",
              "      <td>1.0</td>\n",
              "      <td>0.0</td>\n",
              "      <td>0</td>\n",
              "    </tr>\n",
              "    <tr>\n",
              "      <th>'Big Jack' Provan</th>\n",
              "      <td>1.0</td>\n",
              "      <td>0.0</td>\n",
              "      <td>0</td>\n",
              "    </tr>\n",
              "  </tbody>\n",
              "</table>\n",
              "</div>"
            ],
            "text/plain": [
              "                       count     sum  avg_income\n",
              "'Astor' Escobar          1.0  3439.0        3439\n",
              "'Baby' Carmen De Rue     3.0     0.0           0\n",
              "'Bang Bang' Toto Ruta    1.0     0.0           0\n",
              "'Big Al' Solomon         1.0     0.0           0\n",
              "'Big Jack' Provan        1.0     0.0           0"
            ]
          },
          "metadata": {
            "tags": []
          },
          "execution_count": 127
        }
      ]
    },
    {
      "cell_type": "markdown",
      "metadata": {
        "id": "t3x1ryQJCGte"
      },
      "source": [
        "##Aktorzy - dane o dochodach z filmów na świecie-dla dochodów w USD"
      ]
    },
    {
      "cell_type": "code",
      "metadata": {
        "id": "Ir_rMhFqCgD4",
        "colab": {
          "base_uri": "https://localhost:8080/",
          "height": 359
        },
        "outputId": "13960e35-6650-4288-d15d-4349294e624d"
      },
      "source": [
        "# Aktorzy, którzy zagrali w więcej niż 15 filmach posortowani wg średniego dochodu filmu\n",
        "\n",
        "actors_wwincome_all[actors_wwincome_all['count'] > 15].sort_values(by='avg_income', ascending=False).reset_index().head(10)"
      ],
      "execution_count": null,
      "outputs": [
        {
          "output_type": "execute_result",
          "data": {
            "text/html": [
              "<div>\n",
              "<style scoped>\n",
              "    .dataframe tbody tr th:only-of-type {\n",
              "        vertical-align: middle;\n",
              "    }\n",
              "\n",
              "    .dataframe tbody tr th {\n",
              "        vertical-align: top;\n",
              "    }\n",
              "\n",
              "    .dataframe thead th {\n",
              "        text-align: right;\n",
              "    }\n",
              "</style>\n",
              "<table border=\"1\" class=\"dataframe\">\n",
              "  <thead>\n",
              "    <tr style=\"text-align: right;\">\n",
              "      <th></th>\n",
              "      <th>index</th>\n",
              "      <th>count</th>\n",
              "      <th>sum</th>\n",
              "      <th>avg_income</th>\n",
              "    </tr>\n",
              "  </thead>\n",
              "  <tbody>\n",
              "    <tr>\n",
              "      <th>0</th>\n",
              "      <td>Chris Hemsworth</td>\n",
              "      <td>22.0</td>\n",
              "      <td>1.147803e+10</td>\n",
              "      <td>521728681</td>\n",
              "    </tr>\n",
              "    <tr>\n",
              "      <th>1</th>\n",
              "      <td>Karen Gillan</td>\n",
              "      <td>17.0</td>\n",
              "      <td>8.466564e+09</td>\n",
              "      <td>498033177</td>\n",
              "    </tr>\n",
              "    <tr>\n",
              "      <th>2</th>\n",
              "      <td>Tyrese Gibson</td>\n",
              "      <td>16.0</td>\n",
              "      <td>7.416835e+09</td>\n",
              "      <td>463552206</td>\n",
              "    </tr>\n",
              "    <tr>\n",
              "      <th>3</th>\n",
              "      <td>Tom Holland</td>\n",
              "      <td>23.0</td>\n",
              "      <td>8.907200e+09</td>\n",
              "      <td>387269567</td>\n",
              "    </tr>\n",
              "    <tr>\n",
              "      <th>4</th>\n",
              "      <td>Tom Hiddleston</td>\n",
              "      <td>18.0</td>\n",
              "      <td>6.560569e+09</td>\n",
              "      <td>364476040</td>\n",
              "    </tr>\n",
              "    <tr>\n",
              "      <th>5</th>\n",
              "      <td>Chris Evans</td>\n",
              "      <td>32.0</td>\n",
              "      <td>1.150020e+10</td>\n",
              "      <td>359381296</td>\n",
              "    </tr>\n",
              "    <tr>\n",
              "      <th>6</th>\n",
              "      <td>Dwayne Johnson</td>\n",
              "      <td>34.0</td>\n",
              "      <td>1.193922e+10</td>\n",
              "      <td>351153519</td>\n",
              "    </tr>\n",
              "    <tr>\n",
              "      <th>7</th>\n",
              "      <td>Don Cheadle</td>\n",
              "      <td>31.0</td>\n",
              "      <td>1.070395e+10</td>\n",
              "      <td>345288554</td>\n",
              "    </tr>\n",
              "    <tr>\n",
              "      <th>8</th>\n",
              "      <td>Domhnall Gleeson</td>\n",
              "      <td>22.0</td>\n",
              "      <td>7.460717e+09</td>\n",
              "      <td>339123482</td>\n",
              "    </tr>\n",
              "    <tr>\n",
              "      <th>9</th>\n",
              "      <td>Vin Diesel</td>\n",
              "      <td>25.0</td>\n",
              "      <td>8.341824e+09</td>\n",
              "      <td>333672944</td>\n",
              "    </tr>\n",
              "  </tbody>\n",
              "</table>\n",
              "</div>"
            ],
            "text/plain": [
              "              index  count           sum  avg_income\n",
              "0   Chris Hemsworth   22.0  1.147803e+10   521728681\n",
              "1      Karen Gillan   17.0  8.466564e+09   498033177\n",
              "2     Tyrese Gibson   16.0  7.416835e+09   463552206\n",
              "3       Tom Holland   23.0  8.907200e+09   387269567\n",
              "4    Tom Hiddleston   18.0  6.560569e+09   364476040\n",
              "5       Chris Evans   32.0  1.150020e+10   359381296\n",
              "6    Dwayne Johnson   34.0  1.193922e+10   351153519\n",
              "7       Don Cheadle   31.0  1.070395e+10   345288554\n",
              "8  Domhnall Gleeson   22.0  7.460717e+09   339123482\n",
              "9        Vin Diesel   25.0  8.341824e+09   333672944"
            ]
          },
          "metadata": {
            "tags": []
          },
          "execution_count": 128
        }
      ]
    },
    {
      "cell_type": "code",
      "metadata": {
        "colab": {
          "base_uri": "https://localhost:8080/",
          "height": 359
        },
        "id": "Ry6_Y_I_CgD4",
        "outputId": "3cfa5eef-5b97-42cf-daf3-a41297696b25"
      },
      "source": [
        "# Aktorzy, którzy zagrali w więcej niż 50 filmach posortowani wg średniego dochodu światowego z filmu\n",
        "\n",
        "actors_wwincome_all[actors_wwincome_all['count'] > 50].sort_values(by='avg_income', ascending=False).reset_index().head(10)\n"
      ],
      "execution_count": null,
      "outputs": [
        {
          "output_type": "execute_result",
          "data": {
            "text/html": [
              "<div>\n",
              "<style scoped>\n",
              "    .dataframe tbody tr th:only-of-type {\n",
              "        vertical-align: middle;\n",
              "    }\n",
              "\n",
              "    .dataframe tbody tr th {\n",
              "        vertical-align: top;\n",
              "    }\n",
              "\n",
              "    .dataframe thead th {\n",
              "        text-align: right;\n",
              "    }\n",
              "</style>\n",
              "<table border=\"1\" class=\"dataframe\">\n",
              "  <thead>\n",
              "    <tr style=\"text-align: right;\">\n",
              "      <th></th>\n",
              "      <th>index</th>\n",
              "      <th>count</th>\n",
              "      <th>sum</th>\n",
              "      <th>avg_income</th>\n",
              "    </tr>\n",
              "  </thead>\n",
              "  <tbody>\n",
              "    <tr>\n",
              "      <th>0</th>\n",
              "      <td>Robert Downey Jr.</td>\n",
              "      <td>66.0</td>\n",
              "      <td>1.520525e+10</td>\n",
              "      <td>230382569</td>\n",
              "    </tr>\n",
              "    <tr>\n",
              "      <th>1</th>\n",
              "      <td>Tom Hanks</td>\n",
              "      <td>53.0</td>\n",
              "      <td>1.081401e+10</td>\n",
              "      <td>204037912</td>\n",
              "    </tr>\n",
              "    <tr>\n",
              "      <th>2</th>\n",
              "      <td>Johnny Depp</td>\n",
              "      <td>54.0</td>\n",
              "      <td>1.039725e+10</td>\n",
              "      <td>192541750</td>\n",
              "    </tr>\n",
              "    <tr>\n",
              "      <th>3</th>\n",
              "      <td>Harrison Ford</td>\n",
              "      <td>51.0</td>\n",
              "      <td>9.818819e+09</td>\n",
              "      <td>192525864</td>\n",
              "    </tr>\n",
              "    <tr>\n",
              "      <th>4</th>\n",
              "      <td>Samuel L. Jackson</td>\n",
              "      <td>101.0</td>\n",
              "      <td>1.821119e+10</td>\n",
              "      <td>180308787</td>\n",
              "    </tr>\n",
              "    <tr>\n",
              "      <th>5</th>\n",
              "      <td>Stanley Tucci</td>\n",
              "      <td>67.0</td>\n",
              "      <td>9.205019e+09</td>\n",
              "      <td>137388342</td>\n",
              "    </tr>\n",
              "    <tr>\n",
              "      <th>6</th>\n",
              "      <td>Gary Oldman</td>\n",
              "      <td>56.0</td>\n",
              "      <td>7.625443e+09</td>\n",
              "      <td>136168628</td>\n",
              "    </tr>\n",
              "    <tr>\n",
              "      <th>7</th>\n",
              "      <td>Morgan Freeman</td>\n",
              "      <td>75.0</td>\n",
              "      <td>1.008919e+10</td>\n",
              "      <td>134522598</td>\n",
              "    </tr>\n",
              "    <tr>\n",
              "      <th>8</th>\n",
              "      <td>Bill Nighy</td>\n",
              "      <td>51.0</td>\n",
              "      <td>6.354133e+09</td>\n",
              "      <td>124590840</td>\n",
              "    </tr>\n",
              "    <tr>\n",
              "      <th>9</th>\n",
              "      <td>Woody Harrelson</td>\n",
              "      <td>65.0</td>\n",
              "      <td>7.768507e+09</td>\n",
              "      <td>119515489</td>\n",
              "    </tr>\n",
              "  </tbody>\n",
              "</table>\n",
              "</div>"
            ],
            "text/plain": [
              "               index  count           sum  avg_income\n",
              "0  Robert Downey Jr.   66.0  1.520525e+10   230382569\n",
              "1          Tom Hanks   53.0  1.081401e+10   204037912\n",
              "2        Johnny Depp   54.0  1.039725e+10   192541750\n",
              "3      Harrison Ford   51.0  9.818819e+09   192525864\n",
              "4  Samuel L. Jackson  101.0  1.821119e+10   180308787\n",
              "5      Stanley Tucci   67.0  9.205019e+09   137388342\n",
              "6        Gary Oldman   56.0  7.625443e+09   136168628\n",
              "7     Morgan Freeman   75.0  1.008919e+10   134522598\n",
              "8         Bill Nighy   51.0  6.354133e+09   124590840\n",
              "9    Woody Harrelson   65.0  7.768507e+09   119515489"
            ]
          },
          "metadata": {
            "tags": []
          },
          "execution_count": 129
        }
      ]
    },
    {
      "cell_type": "code",
      "metadata": {
        "colab": {
          "base_uri": "https://localhost:8080/",
          "height": 359
        },
        "id": "bRRThG1KCgD5",
        "outputId": "655fda34-dbce-49a8-964a-d7fddb56a7d3"
      },
      "source": [
        "# Aktorzy, którzy zagrali w większej liczbie filmów\n",
        "\n",
        "actors_wwincome_all.sort_values(by='count', ascending=False).reset_index().head(10)"
      ],
      "execution_count": null,
      "outputs": [
        {
          "output_type": "execute_result",
          "data": {
            "text/html": [
              "<div>\n",
              "<style scoped>\n",
              "    .dataframe tbody tr th:only-of-type {\n",
              "        vertical-align: middle;\n",
              "    }\n",
              "\n",
              "    .dataframe tbody tr th {\n",
              "        vertical-align: top;\n",
              "    }\n",
              "\n",
              "    .dataframe thead th {\n",
              "        text-align: right;\n",
              "    }\n",
              "</style>\n",
              "<table border=\"1\" class=\"dataframe\">\n",
              "  <thead>\n",
              "    <tr style=\"text-align: right;\">\n",
              "      <th></th>\n",
              "      <th>index</th>\n",
              "      <th>count</th>\n",
              "      <th>sum</th>\n",
              "      <th>avg_income</th>\n",
              "    </tr>\n",
              "  </thead>\n",
              "  <tbody>\n",
              "    <tr>\n",
              "      <th>0</th>\n",
              "      <td>Brahmanandam</td>\n",
              "      <td>307.0</td>\n",
              "      <td>6.050008e+07</td>\n",
              "      <td>197068</td>\n",
              "    </tr>\n",
              "    <tr>\n",
              "      <th>1</th>\n",
              "      <td>Anupam Kher</td>\n",
              "      <td>211.0</td>\n",
              "      <td>6.762133e+08</td>\n",
              "      <td>3204802</td>\n",
              "    </tr>\n",
              "    <tr>\n",
              "      <th>2</th>\n",
              "      <td>Eric Roberts</td>\n",
              "      <td>204.0</td>\n",
              "      <td>1.733503e+09</td>\n",
              "      <td>8497565</td>\n",
              "    </tr>\n",
              "    <tr>\n",
              "      <th>3</th>\n",
              "      <td>Nassar</td>\n",
              "      <td>195.0</td>\n",
              "      <td>3.443206e+08</td>\n",
              "      <td>1765746</td>\n",
              "    </tr>\n",
              "    <tr>\n",
              "      <th>4</th>\n",
              "      <td>Prakash Raj</td>\n",
              "      <td>179.0</td>\n",
              "      <td>4.183257e+07</td>\n",
              "      <td>233701</td>\n",
              "    </tr>\n",
              "    <tr>\n",
              "      <th>5</th>\n",
              "      <td>Amitabh Bachchan</td>\n",
              "      <td>173.0</td>\n",
              "      <td>6.473548e+08</td>\n",
              "      <td>3741935</td>\n",
              "    </tr>\n",
              "    <tr>\n",
              "      <th>6</th>\n",
              "      <td>Mohanlal</td>\n",
              "      <td>168.0</td>\n",
              "      <td>2.583789e+07</td>\n",
              "      <td>153796</td>\n",
              "    </tr>\n",
              "    <tr>\n",
              "      <th>7</th>\n",
              "      <td>Tanikella Bharani</td>\n",
              "      <td>165.0</td>\n",
              "      <td>2.801136e+08</td>\n",
              "      <td>1697658</td>\n",
              "    </tr>\n",
              "    <tr>\n",
              "      <th>8</th>\n",
              "      <td>Gérard Depardieu</td>\n",
              "      <td>164.0</td>\n",
              "      <td>2.023881e+09</td>\n",
              "      <td>12340735</td>\n",
              "    </tr>\n",
              "    <tr>\n",
              "      <th>9</th>\n",
              "      <td>John Carradine</td>\n",
              "      <td>162.0</td>\n",
              "      <td>1.824451e+08</td>\n",
              "      <td>1126204</td>\n",
              "    </tr>\n",
              "  </tbody>\n",
              "</table>\n",
              "</div>"
            ],
            "text/plain": [
              "               index  count           sum  avg_income\n",
              "0       Brahmanandam  307.0  6.050008e+07      197068\n",
              "1        Anupam Kher  211.0  6.762133e+08     3204802\n",
              "2       Eric Roberts  204.0  1.733503e+09     8497565\n",
              "3             Nassar  195.0  3.443206e+08     1765746\n",
              "4        Prakash Raj  179.0  4.183257e+07      233701\n",
              "5   Amitabh Bachchan  173.0  6.473548e+08     3741935\n",
              "6           Mohanlal  168.0  2.583789e+07      153796\n",
              "7  Tanikella Bharani  165.0  2.801136e+08     1697658\n",
              "8   Gérard Depardieu  164.0  2.023881e+09    12340735\n",
              "9     John Carradine  162.0  1.824451e+08     1126204"
            ]
          },
          "metadata": {
            "tags": []
          },
          "execution_count": 130
        }
      ]
    },
    {
      "cell_type": "markdown",
      "metadata": {
        "id": "p_rYQaWAvH8V"
      },
      "source": [
        "##Przygotowanie tabeli pomocniczej z aktorami i dochodami z filmów w USA - dochody podane w USD"
      ]
    },
    {
      "cell_type": "code",
      "metadata": {
        "id": "aiuuu0jdGdn1",
        "colab": {
          "base_uri": "https://localhost:8080/",
          "height": 289
        },
        "outputId": "97346ae0-26b0-4d6e-9fa6-d32959d447a0"
      },
      "source": [
        "imdb_movies_actors_income_USA = imdb_movies.actors.str.split(pat=',', expand=True)\n",
        "imdb_movies_actors_income_USA['usa_gross_income'] = imdb_movies['usa_gross_income']\n",
        "imdb_movies_actors_income_USA['currency_for_usaincome']=imdb_movies['currency_for_usaincome']\n",
        "#nowa df z danymi gdzie dochód w dolarach\n",
        "imdb_movies_actors_income_USA_USD = imdb_movies_actors_income_USA[imdb_movies_actors_income_USA['currency_for_usaincome']=='$']\n",
        "imdb_movies_actors_income_USA_USD.head()"
      ],
      "execution_count": null,
      "outputs": [
        {
          "output_type": "execute_result",
          "data": {
            "text/html": [
              "<div>\n",
              "<style scoped>\n",
              "    .dataframe tbody tr th:only-of-type {\n",
              "        vertical-align: middle;\n",
              "    }\n",
              "\n",
              "    .dataframe tbody tr th {\n",
              "        vertical-align: top;\n",
              "    }\n",
              "\n",
              "    .dataframe thead th {\n",
              "        text-align: right;\n",
              "    }\n",
              "</style>\n",
              "<table border=\"1\" class=\"dataframe\">\n",
              "  <thead>\n",
              "    <tr style=\"text-align: right;\">\n",
              "      <th></th>\n",
              "      <th>0</th>\n",
              "      <th>1</th>\n",
              "      <th>2</th>\n",
              "      <th>3</th>\n",
              "      <th>4</th>\n",
              "      <th>5</th>\n",
              "      <th>6</th>\n",
              "      <th>7</th>\n",
              "      <th>8</th>\n",
              "      <th>9</th>\n",
              "      <th>10</th>\n",
              "      <th>11</th>\n",
              "      <th>12</th>\n",
              "      <th>13</th>\n",
              "      <th>14</th>\n",
              "      <th>15</th>\n",
              "      <th>usa_gross_income</th>\n",
              "      <th>currency_for_usaincome</th>\n",
              "    </tr>\n",
              "  </thead>\n",
              "  <tbody>\n",
              "    <tr>\n",
              "      <th>0</th>\n",
              "      <td>Blanche Bayliss</td>\n",
              "      <td>William Courtenay</td>\n",
              "      <td>Chauncey Depew</td>\n",
              "      <td>None</td>\n",
              "      <td>None</td>\n",
              "      <td>None</td>\n",
              "      <td>None</td>\n",
              "      <td>None</td>\n",
              "      <td>None</td>\n",
              "      <td>None</td>\n",
              "      <td>None</td>\n",
              "      <td>None</td>\n",
              "      <td>None</td>\n",
              "      <td>None</td>\n",
              "      <td>None</td>\n",
              "      <td>None</td>\n",
              "      <td>0</td>\n",
              "      <td>$</td>\n",
              "    </tr>\n",
              "    <tr>\n",
              "      <th>1</th>\n",
              "      <td>Elizabeth Tait</td>\n",
              "      <td>John Tait</td>\n",
              "      <td>Norman Campbell</td>\n",
              "      <td>Bella Cola</td>\n",
              "      <td>Will Coyne</td>\n",
              "      <td>Sam Crewes</td>\n",
              "      <td>Jack Ennis</td>\n",
              "      <td>John Forde</td>\n",
              "      <td>Vera Linden</td>\n",
              "      <td>Mr. Marshall</td>\n",
              "      <td>Mr. McKenzie</td>\n",
              "      <td>Frank Mills</td>\n",
              "      <td>Ollie Wilson</td>\n",
              "      <td>None</td>\n",
              "      <td>None</td>\n",
              "      <td>None</td>\n",
              "      <td>0</td>\n",
              "      <td>$</td>\n",
              "    </tr>\n",
              "    <tr>\n",
              "      <th>2</th>\n",
              "      <td>Asta Nielsen</td>\n",
              "      <td>Valdemar Psilander</td>\n",
              "      <td>Gunnar Helsengreen</td>\n",
              "      <td>Emil Albes</td>\n",
              "      <td>Hugo Flink</td>\n",
              "      <td>Mary Hagen</td>\n",
              "      <td>None</td>\n",
              "      <td>None</td>\n",
              "      <td>None</td>\n",
              "      <td>None</td>\n",
              "      <td>None</td>\n",
              "      <td>None</td>\n",
              "      <td>None</td>\n",
              "      <td>None</td>\n",
              "      <td>None</td>\n",
              "      <td>None</td>\n",
              "      <td>0</td>\n",
              "      <td>$</td>\n",
              "    </tr>\n",
              "    <tr>\n",
              "      <th>3</th>\n",
              "      <td>Helen Gardner</td>\n",
              "      <td>Pearl Sindelar</td>\n",
              "      <td>Miss Fielding</td>\n",
              "      <td>Miss Robson</td>\n",
              "      <td>Helene Costello</td>\n",
              "      <td>Charles Sindelar</td>\n",
              "      <td>Mr. Howard</td>\n",
              "      <td>James R. Waite</td>\n",
              "      <td>Mr. Osborne</td>\n",
              "      <td>Harry Knowles</td>\n",
              "      <td>Mr. Paul</td>\n",
              "      <td>Mr. Brady</td>\n",
              "      <td>Mr. Corker</td>\n",
              "      <td>None</td>\n",
              "      <td>None</td>\n",
              "      <td>None</td>\n",
              "      <td>0</td>\n",
              "      <td>$</td>\n",
              "    </tr>\n",
              "    <tr>\n",
              "      <th>4</th>\n",
              "      <td>Salvatore Papa</td>\n",
              "      <td>Arturo Pirovano</td>\n",
              "      <td>Giuseppe de Liguoro</td>\n",
              "      <td>Pier Delle Vigne</td>\n",
              "      <td>Augusto Milla</td>\n",
              "      <td>Attilio Motta</td>\n",
              "      <td>Emilise Beretta</td>\n",
              "      <td>None</td>\n",
              "      <td>None</td>\n",
              "      <td>None</td>\n",
              "      <td>None</td>\n",
              "      <td>None</td>\n",
              "      <td>None</td>\n",
              "      <td>None</td>\n",
              "      <td>None</td>\n",
              "      <td>None</td>\n",
              "      <td>0</td>\n",
              "      <td>$</td>\n",
              "    </tr>\n",
              "  </tbody>\n",
              "</table>\n",
              "</div>"
            ],
            "text/plain": [
              "                 0  ... currency_for_usaincome\n",
              "0  Blanche Bayliss  ...                      $\n",
              "1   Elizabeth Tait  ...                      $\n",
              "2     Asta Nielsen  ...                      $\n",
              "3    Helen Gardner  ...                      $\n",
              "4   Salvatore Papa  ...                      $\n",
              "\n",
              "[5 rows x 18 columns]"
            ]
          },
          "metadata": {
            "tags": []
          },
          "execution_count": 131
        }
      ]
    },
    {
      "cell_type": "code",
      "metadata": {
        "colab": {
          "base_uri": "https://localhost:8080/"
        },
        "id": "eMamYlrHGdn3",
        "outputId": "f3c13bce-5959-4d36-b79f-37ca50db7ba3"
      },
      "source": [
        "imdb_movies_actors_income_USA_USD.shape"
      ],
      "execution_count": null,
      "outputs": [
        {
          "output_type": "execute_result",
          "data": {
            "text/plain": [
              "(85850, 18)"
            ]
          },
          "metadata": {
            "tags": []
          },
          "execution_count": 132
        }
      ]
    },
    {
      "cell_type": "code",
      "metadata": {
        "colab": {
          "base_uri": "https://localhost:8080/"
        },
        "id": "6eahczL3Gdn3",
        "outputId": "323ec13b-6ea7-49b3-a9a1-14f35997104b"
      },
      "source": [
        "for i in range(0,16):\n",
        "  imdb_movies_actors_income_USA_USD[i] = imdb_movies_actors_income_USA_USD[i].apply(remove_white_space_before)\n",
        "#imdb_movies_actors_income_USA_USD[1][1] # ta spacja przed imieniem zniszczyła mi piątkowy wieczór"
      ],
      "execution_count": null,
      "outputs": [
        {
          "output_type": "stream",
          "text": [
            "/usr/local/lib/python3.7/dist-packages/ipykernel_launcher.py:2: SettingWithCopyWarning: \n",
            "A value is trying to be set on a copy of a slice from a DataFrame.\n",
            "Try using .loc[row_indexer,col_indexer] = value instead\n",
            "\n",
            "See the caveats in the documentation: https://pandas.pydata.org/pandas-docs/stable/user_guide/indexing.html#returning-a-view-versus-a-copy\n",
            "  \n"
          ],
          "name": "stderr"
        }
      ]
    },
    {
      "cell_type": "code",
      "metadata": {
        "id": "jKaaDZHYGdn4",
        "colab": {
          "base_uri": "https://localhost:8080/",
          "height": 419
        },
        "outputId": "1973756d-ee08-4db7-9ab2-aff18c4643a4"
      },
      "source": [
        "actors = {}\n",
        "for i in range(0, 16):\n",
        "  actors[\"act_column{0}\".format(i)] = imdb_movies_actors_income_USA_USD[[i, 'usa_gross_income']].groupby(i).agg(['count', 'sum'])\n",
        "  actors[\"act_column{0}\".format(i)].columns = actors[\"act_column{0}\".format(i)].columns.droplevel(0)\n",
        "  actors[\"act_column{0}\".format(i)].index.name = None\n",
        "\n",
        "actors['act_column0']"
      ],
      "execution_count": null,
      "outputs": [
        {
          "output_type": "execute_result",
          "data": {
            "text/html": [
              "<div>\n",
              "<style scoped>\n",
              "    .dataframe tbody tr th:only-of-type {\n",
              "        vertical-align: middle;\n",
              "    }\n",
              "\n",
              "    .dataframe tbody tr th {\n",
              "        vertical-align: top;\n",
              "    }\n",
              "\n",
              "    .dataframe thead th {\n",
              "        text-align: right;\n",
              "    }\n",
              "</style>\n",
              "<table border=\"1\" class=\"dataframe\">\n",
              "  <thead>\n",
              "    <tr style=\"text-align: right;\">\n",
              "      <th></th>\n",
              "      <th>count</th>\n",
              "      <th>sum</th>\n",
              "    </tr>\n",
              "  </thead>\n",
              "  <tbody>\n",
              "    <tr>\n",
              "      <th>'Lee' George Quinones</th>\n",
              "      <td>1</td>\n",
              "      <td>0</td>\n",
              "    </tr>\n",
              "    <tr>\n",
              "      <th>'University' Jeevan</th>\n",
              "      <td>1</td>\n",
              "      <td>0</td>\n",
              "    </tr>\n",
              "    <tr>\n",
              "      <th>'Weird Al' Yankovic</th>\n",
              "      <td>1</td>\n",
              "      <td>6157157</td>\n",
              "    </tr>\n",
              "    <tr>\n",
              "      <th>2Mex</th>\n",
              "      <td>1</td>\n",
              "      <td>0</td>\n",
              "    </tr>\n",
              "    <tr>\n",
              "      <th>50 Cent</th>\n",
              "      <td>5</td>\n",
              "      <td>30985352</td>\n",
              "    </tr>\n",
              "    <tr>\n",
              "      <th>...</th>\n",
              "      <td>...</td>\n",
              "      <td>...</td>\n",
              "    </tr>\n",
              "    <tr>\n",
              "      <th>Þorsteinn Bachmann</th>\n",
              "      <td>1</td>\n",
              "      <td>0</td>\n",
              "    </tr>\n",
              "    <tr>\n",
              "      <th>Þorsteinn Guðmundsson</th>\n",
              "      <td>1</td>\n",
              "      <td>0</td>\n",
              "    </tr>\n",
              "    <tr>\n",
              "      <th>Þröstur Leó Gunnarsson</th>\n",
              "      <td>2</td>\n",
              "      <td>0</td>\n",
              "    </tr>\n",
              "    <tr>\n",
              "      <th>Þórhallur Sigurðsson</th>\n",
              "      <td>1</td>\n",
              "      <td>0</td>\n",
              "    </tr>\n",
              "    <tr>\n",
              "      <th>Þórhallur Sverrisson</th>\n",
              "      <td>1</td>\n",
              "      <td>0</td>\n",
              "    </tr>\n",
              "  </tbody>\n",
              "</table>\n",
              "<p>37146 rows × 2 columns</p>\n",
              "</div>"
            ],
            "text/plain": [
              "                        count       sum\n",
              "'Lee' George Quinones       1         0\n",
              "'University' Jeevan         1         0\n",
              "'Weird Al' Yankovic         1   6157157\n",
              "2Mex                        1         0\n",
              "50 Cent                     5  30985352\n",
              "...                       ...       ...\n",
              "Þorsteinn Bachmann          1         0\n",
              "Þorsteinn Guðmundsson       1         0\n",
              "Þröstur Leó Gunnarsson      2         0\n",
              "Þórhallur Sigurðsson        1         0\n",
              "Þórhallur Sverrisson        1         0\n",
              "\n",
              "[37146 rows x 2 columns]"
            ]
          },
          "metadata": {
            "tags": []
          },
          "execution_count": 134
        }
      ]
    },
    {
      "cell_type": "code",
      "metadata": {
        "id": "dVv2aoEbGdn5",
        "colab": {
          "base_uri": "https://localhost:8080/",
          "height": 419
        },
        "outputId": "999b136e-8d97-49c6-9b8c-5070540ff2d6"
      },
      "source": [
        "actors_all = actors['act_column0']\n",
        "for i in range(1,16):\n",
        "  actors_all = actors_all.add(actors[\"act_column{0}\".format(i)], fill_value=0)\n",
        "\n",
        "actors_all"
      ],
      "execution_count": null,
      "outputs": [
        {
          "output_type": "execute_result",
          "data": {
            "text/html": [
              "<div>\n",
              "<style scoped>\n",
              "    .dataframe tbody tr th:only-of-type {\n",
              "        vertical-align: middle;\n",
              "    }\n",
              "\n",
              "    .dataframe tbody tr th {\n",
              "        vertical-align: top;\n",
              "    }\n",
              "\n",
              "    .dataframe thead th {\n",
              "        text-align: right;\n",
              "    }\n",
              "</style>\n",
              "<table border=\"1\" class=\"dataframe\">\n",
              "  <thead>\n",
              "    <tr style=\"text-align: right;\">\n",
              "      <th></th>\n",
              "      <th>count</th>\n",
              "      <th>sum</th>\n",
              "    </tr>\n",
              "  </thead>\n",
              "  <tbody>\n",
              "    <tr>\n",
              "      <th>'Astor' Escobar</th>\n",
              "      <td>1.0</td>\n",
              "      <td>0.0</td>\n",
              "    </tr>\n",
              "    <tr>\n",
              "      <th>'Baby' Carmen De Rue</th>\n",
              "      <td>3.0</td>\n",
              "      <td>0.0</td>\n",
              "    </tr>\n",
              "    <tr>\n",
              "      <th>'Bang Bang' Toto Ruta</th>\n",
              "      <td>1.0</td>\n",
              "      <td>0.0</td>\n",
              "    </tr>\n",
              "    <tr>\n",
              "      <th>'Big Al' Solomon</th>\n",
              "      <td>1.0</td>\n",
              "      <td>0.0</td>\n",
              "    </tr>\n",
              "    <tr>\n",
              "      <th>'Big Jack' Provan</th>\n",
              "      <td>1.0</td>\n",
              "      <td>0.0</td>\n",
              "    </tr>\n",
              "    <tr>\n",
              "      <th>...</th>\n",
              "      <td>...</td>\n",
              "      <td>...</td>\n",
              "    </tr>\n",
              "    <tr>\n",
              "      <th>Þórir Waagfjörð</th>\n",
              "      <td>1.0</td>\n",
              "      <td>0.0</td>\n",
              "    </tr>\n",
              "    <tr>\n",
              "      <th>Þórunn Antónía Magnúsdóttir</th>\n",
              "      <td>1.0</td>\n",
              "      <td>0.0</td>\n",
              "    </tr>\n",
              "    <tr>\n",
              "      <th>Þórunn Arna Kristjánsdóttir</th>\n",
              "      <td>1.0</td>\n",
              "      <td>0.0</td>\n",
              "    </tr>\n",
              "    <tr>\n",
              "      <th>Þórunn Magnea Magnúsdóttir</th>\n",
              "      <td>3.0</td>\n",
              "      <td>0.0</td>\n",
              "    </tr>\n",
              "    <tr>\n",
              "      <th>Þórður Árnason</th>\n",
              "      <td>1.0</td>\n",
              "      <td>0.0</td>\n",
              "    </tr>\n",
              "  </tbody>\n",
              "</table>\n",
              "<p>417311 rows × 2 columns</p>\n",
              "</div>"
            ],
            "text/plain": [
              "                             count  sum\n",
              "'Astor' Escobar                1.0  0.0\n",
              "'Baby' Carmen De Rue           3.0  0.0\n",
              "'Bang Bang' Toto Ruta          1.0  0.0\n",
              "'Big Al' Solomon               1.0  0.0\n",
              "'Big Jack' Provan              1.0  0.0\n",
              "...                            ...  ...\n",
              "Þórir Waagfjörð                1.0  0.0\n",
              "Þórunn Antónía Magnúsdóttir    1.0  0.0\n",
              "Þórunn Arna Kristjánsdóttir    1.0  0.0\n",
              "Þórunn Magnea Magnúsdóttir     3.0  0.0\n",
              "Þórður Árnason                 1.0  0.0\n",
              "\n",
              "[417311 rows x 2 columns]"
            ]
          },
          "metadata": {
            "tags": []
          },
          "execution_count": 135
        }
      ]
    },
    {
      "cell_type": "code",
      "metadata": {
        "colab": {
          "base_uri": "https://localhost:8080/",
          "height": 204
        },
        "id": "whnVSt0fGdn5",
        "outputId": "f587547d-5b52-42ef-9552-1aa94edc7f28"
      },
      "source": [
        "actors_all['avg_income_USA'] = actors_all['sum']/actors_all['count']\n",
        "actors_all['avg_income_USA']=actors_all['avg_income_USA'].astype(int)\n",
        "actors_all.head()"
      ],
      "execution_count": null,
      "outputs": [
        {
          "output_type": "execute_result",
          "data": {
            "text/html": [
              "<div>\n",
              "<style scoped>\n",
              "    .dataframe tbody tr th:only-of-type {\n",
              "        vertical-align: middle;\n",
              "    }\n",
              "\n",
              "    .dataframe tbody tr th {\n",
              "        vertical-align: top;\n",
              "    }\n",
              "\n",
              "    .dataframe thead th {\n",
              "        text-align: right;\n",
              "    }\n",
              "</style>\n",
              "<table border=\"1\" class=\"dataframe\">\n",
              "  <thead>\n",
              "    <tr style=\"text-align: right;\">\n",
              "      <th></th>\n",
              "      <th>count</th>\n",
              "      <th>sum</th>\n",
              "      <th>avg_income_USA</th>\n",
              "    </tr>\n",
              "  </thead>\n",
              "  <tbody>\n",
              "    <tr>\n",
              "      <th>'Astor' Escobar</th>\n",
              "      <td>1.0</td>\n",
              "      <td>0.0</td>\n",
              "      <td>0</td>\n",
              "    </tr>\n",
              "    <tr>\n",
              "      <th>'Baby' Carmen De Rue</th>\n",
              "      <td>3.0</td>\n",
              "      <td>0.0</td>\n",
              "      <td>0</td>\n",
              "    </tr>\n",
              "    <tr>\n",
              "      <th>'Bang Bang' Toto Ruta</th>\n",
              "      <td>1.0</td>\n",
              "      <td>0.0</td>\n",
              "      <td>0</td>\n",
              "    </tr>\n",
              "    <tr>\n",
              "      <th>'Big Al' Solomon</th>\n",
              "      <td>1.0</td>\n",
              "      <td>0.0</td>\n",
              "      <td>0</td>\n",
              "    </tr>\n",
              "    <tr>\n",
              "      <th>'Big Jack' Provan</th>\n",
              "      <td>1.0</td>\n",
              "      <td>0.0</td>\n",
              "      <td>0</td>\n",
              "    </tr>\n",
              "  </tbody>\n",
              "</table>\n",
              "</div>"
            ],
            "text/plain": [
              "                       count  sum  avg_income_USA\n",
              "'Astor' Escobar          1.0  0.0               0\n",
              "'Baby' Carmen De Rue     3.0  0.0               0\n",
              "'Bang Bang' Toto Ruta    1.0  0.0               0\n",
              "'Big Al' Solomon         1.0  0.0               0\n",
              "'Big Jack' Provan        1.0  0.0               0"
            ]
          },
          "metadata": {
            "tags": []
          },
          "execution_count": 136
        }
      ]
    },
    {
      "cell_type": "markdown",
      "metadata": {
        "id": "ndIz3hRPGdnl"
      },
      "source": [
        "##Aktorzy - dane o dochodach z filmów w USA-dla dochodów w USD"
      ]
    },
    {
      "cell_type": "code",
      "metadata": {
        "colab": {
          "base_uri": "https://localhost:8080/",
          "height": 359
        },
        "id": "tGEhHhaTGdn6",
        "outputId": "13dea310-636c-4565-8ff0-a54eed2145ad"
      },
      "source": [
        "# Aktorzy, którzy zagrali w więcej niż 15 filmach posortowani wg średniego budżetu filmu\n",
        "\n",
        "actors_all[actors_all['count'] > 15].sort_values(by='avg_income_USA', ascending=False).reset_index().head(10)"
      ],
      "execution_count": null,
      "outputs": [
        {
          "output_type": "execute_result",
          "data": {
            "text/html": [
              "<div>\n",
              "<style scoped>\n",
              "    .dataframe tbody tr th:only-of-type {\n",
              "        vertical-align: middle;\n",
              "    }\n",
              "\n",
              "    .dataframe tbody tr th {\n",
              "        vertical-align: top;\n",
              "    }\n",
              "\n",
              "    .dataframe thead th {\n",
              "        text-align: right;\n",
              "    }\n",
              "</style>\n",
              "<table border=\"1\" class=\"dataframe\">\n",
              "  <thead>\n",
              "    <tr style=\"text-align: right;\">\n",
              "      <th></th>\n",
              "      <th>index</th>\n",
              "      <th>count</th>\n",
              "      <th>sum</th>\n",
              "      <th>avg_income_USA</th>\n",
              "    </tr>\n",
              "  </thead>\n",
              "  <tbody>\n",
              "    <tr>\n",
              "      <th>0</th>\n",
              "      <td>Chris Hemsworth</td>\n",
              "      <td>22.0</td>\n",
              "      <td>4.148417e+09</td>\n",
              "      <td>188564413</td>\n",
              "    </tr>\n",
              "    <tr>\n",
              "      <th>1</th>\n",
              "      <td>Karen Gillan</td>\n",
              "      <td>17.0</td>\n",
              "      <td>3.114521e+09</td>\n",
              "      <td>183207144</td>\n",
              "    </tr>\n",
              "    <tr>\n",
              "      <th>2</th>\n",
              "      <td>Frank Oz</td>\n",
              "      <td>22.0</td>\n",
              "      <td>3.646024e+09</td>\n",
              "      <td>165728345</td>\n",
              "    </tr>\n",
              "    <tr>\n",
              "      <th>3</th>\n",
              "      <td>Tyrese Gibson</td>\n",
              "      <td>16.0</td>\n",
              "      <td>2.472558e+09</td>\n",
              "      <td>154534892</td>\n",
              "    </tr>\n",
              "    <tr>\n",
              "      <th>4</th>\n",
              "      <td>Domhnall Gleeson</td>\n",
              "      <td>22.0</td>\n",
              "      <td>3.167297e+09</td>\n",
              "      <td>143968039</td>\n",
              "    </tr>\n",
              "    <tr>\n",
              "      <th>5</th>\n",
              "      <td>Mike Myers</td>\n",
              "      <td>17.0</td>\n",
              "      <td>2.307485e+09</td>\n",
              "      <td>135734402</td>\n",
              "    </tr>\n",
              "    <tr>\n",
              "      <th>6</th>\n",
              "      <td>Tom Hiddleston</td>\n",
              "      <td>18.0</td>\n",
              "      <td>2.353763e+09</td>\n",
              "      <td>130764612</td>\n",
              "    </tr>\n",
              "    <tr>\n",
              "      <th>7</th>\n",
              "      <td>Chris Evans</td>\n",
              "      <td>32.0</td>\n",
              "      <td>4.152250e+09</td>\n",
              "      <td>129757823</td>\n",
              "    </tr>\n",
              "    <tr>\n",
              "      <th>8</th>\n",
              "      <td>Tom Holland</td>\n",
              "      <td>23.0</td>\n",
              "      <td>2.923099e+09</td>\n",
              "      <td>127091251</td>\n",
              "    </tr>\n",
              "    <tr>\n",
              "      <th>9</th>\n",
              "      <td>Don Cheadle</td>\n",
              "      <td>31.0</td>\n",
              "      <td>3.910690e+09</td>\n",
              "      <td>126151303</td>\n",
              "    </tr>\n",
              "  </tbody>\n",
              "</table>\n",
              "</div>"
            ],
            "text/plain": [
              "              index  count           sum  avg_income_USA\n",
              "0   Chris Hemsworth   22.0  4.148417e+09       188564413\n",
              "1      Karen Gillan   17.0  3.114521e+09       183207144\n",
              "2          Frank Oz   22.0  3.646024e+09       165728345\n",
              "3     Tyrese Gibson   16.0  2.472558e+09       154534892\n",
              "4  Domhnall Gleeson   22.0  3.167297e+09       143968039\n",
              "5        Mike Myers   17.0  2.307485e+09       135734402\n",
              "6    Tom Hiddleston   18.0  2.353763e+09       130764612\n",
              "7       Chris Evans   32.0  4.152250e+09       129757823\n",
              "8       Tom Holland   23.0  2.923099e+09       127091251\n",
              "9       Don Cheadle   31.0  3.910690e+09       126151303"
            ]
          },
          "metadata": {
            "tags": []
          },
          "execution_count": 137
        }
      ]
    },
    {
      "cell_type": "code",
      "metadata": {
        "colab": {
          "base_uri": "https://localhost:8080/",
          "height": 359
        },
        "id": "KSeh8B52Gdn6",
        "outputId": "bef9a073-0cf8-4a90-f2f1-33e8ee3fa5d8"
      },
      "source": [
        "# Aktorzy, którzy zagrali w więcej niż 50 filmach posortowani wg średniego dochodu światowego z filmu\n",
        "\n",
        "actors_all[actors_all['count'] > 50].sort_values(by='avg_income_USA', ascending=False).reset_index().head(10)\n"
      ],
      "execution_count": null,
      "outputs": [
        {
          "output_type": "execute_result",
          "data": {
            "text/html": [
              "<div>\n",
              "<style scoped>\n",
              "    .dataframe tbody tr th:only-of-type {\n",
              "        vertical-align: middle;\n",
              "    }\n",
              "\n",
              "    .dataframe tbody tr th {\n",
              "        vertical-align: top;\n",
              "    }\n",
              "\n",
              "    .dataframe thead th {\n",
              "        text-align: right;\n",
              "    }\n",
              "</style>\n",
              "<table border=\"1\" class=\"dataframe\">\n",
              "  <thead>\n",
              "    <tr style=\"text-align: right;\">\n",
              "      <th></th>\n",
              "      <th>index</th>\n",
              "      <th>count</th>\n",
              "      <th>sum</th>\n",
              "      <th>avg_income_USA</th>\n",
              "    </tr>\n",
              "  </thead>\n",
              "  <tbody>\n",
              "    <tr>\n",
              "      <th>0</th>\n",
              "      <td>Harrison Ford</td>\n",
              "      <td>51.0</td>\n",
              "      <td>5.133300e+09</td>\n",
              "      <td>100652933</td>\n",
              "    </tr>\n",
              "    <tr>\n",
              "      <th>1</th>\n",
              "      <td>Tom Hanks</td>\n",
              "      <td>53.0</td>\n",
              "      <td>5.108131e+09</td>\n",
              "      <td>96379838</td>\n",
              "    </tr>\n",
              "    <tr>\n",
              "      <th>2</th>\n",
              "      <td>Robert Downey Jr.</td>\n",
              "      <td>66.0</td>\n",
              "      <td>5.968773e+09</td>\n",
              "      <td>90435961</td>\n",
              "    </tr>\n",
              "    <tr>\n",
              "      <th>3</th>\n",
              "      <td>Samuel L. Jackson</td>\n",
              "      <td>101.0</td>\n",
              "      <td>7.609365e+09</td>\n",
              "      <td>75340249</td>\n",
              "    </tr>\n",
              "    <tr>\n",
              "      <th>4</th>\n",
              "      <td>Johnny Depp</td>\n",
              "      <td>54.0</td>\n",
              "      <td>3.834734e+09</td>\n",
              "      <td>71013591</td>\n",
              "    </tr>\n",
              "    <tr>\n",
              "      <th>5</th>\n",
              "      <td>Morgan Freeman</td>\n",
              "      <td>75.0</td>\n",
              "      <td>4.684529e+09</td>\n",
              "      <td>62460382</td>\n",
              "    </tr>\n",
              "    <tr>\n",
              "      <th>6</th>\n",
              "      <td>Stanley Tucci</td>\n",
              "      <td>67.0</td>\n",
              "      <td>3.854686e+09</td>\n",
              "      <td>57532634</td>\n",
              "    </tr>\n",
              "    <tr>\n",
              "      <th>7</th>\n",
              "      <td>Gary Oldman</td>\n",
              "      <td>56.0</td>\n",
              "      <td>3.154514e+09</td>\n",
              "      <td>56330614</td>\n",
              "    </tr>\n",
              "    <tr>\n",
              "      <th>8</th>\n",
              "      <td>Robin Williams</td>\n",
              "      <td>52.0</td>\n",
              "      <td>2.919167e+09</td>\n",
              "      <td>56137828</td>\n",
              "    </tr>\n",
              "    <tr>\n",
              "      <th>9</th>\n",
              "      <td>Woody Harrelson</td>\n",
              "      <td>65.0</td>\n",
              "      <td>3.272033e+09</td>\n",
              "      <td>50338968</td>\n",
              "    </tr>\n",
              "  </tbody>\n",
              "</table>\n",
              "</div>"
            ],
            "text/plain": [
              "               index  count           sum  avg_income_USA\n",
              "0      Harrison Ford   51.0  5.133300e+09       100652933\n",
              "1          Tom Hanks   53.0  5.108131e+09        96379838\n",
              "2  Robert Downey Jr.   66.0  5.968773e+09        90435961\n",
              "3  Samuel L. Jackson  101.0  7.609365e+09        75340249\n",
              "4        Johnny Depp   54.0  3.834734e+09        71013591\n",
              "5     Morgan Freeman   75.0  4.684529e+09        62460382\n",
              "6      Stanley Tucci   67.0  3.854686e+09        57532634\n",
              "7        Gary Oldman   56.0  3.154514e+09        56330614\n",
              "8     Robin Williams   52.0  2.919167e+09        56137828\n",
              "9    Woody Harrelson   65.0  3.272033e+09        50338968"
            ]
          },
          "metadata": {
            "tags": []
          },
          "execution_count": 138
        }
      ]
    },
    {
      "cell_type": "code",
      "metadata": {
        "colab": {
          "base_uri": "https://localhost:8080/",
          "height": 359
        },
        "id": "O6VHYyN2Gdn6",
        "outputId": "ddcd91e4-a35a-4f61-d30a-593d92faa6ba"
      },
      "source": [
        "# Aktorzy, którzy zagrali w większej liczbie filmów\n",
        "\n",
        "actors_all.sort_values(by='count', ascending=False).reset_index().head(10)"
      ],
      "execution_count": null,
      "outputs": [
        {
          "output_type": "execute_result",
          "data": {
            "text/html": [
              "<div>\n",
              "<style scoped>\n",
              "    .dataframe tbody tr th:only-of-type {\n",
              "        vertical-align: middle;\n",
              "    }\n",
              "\n",
              "    .dataframe tbody tr th {\n",
              "        vertical-align: top;\n",
              "    }\n",
              "\n",
              "    .dataframe thead th {\n",
              "        text-align: right;\n",
              "    }\n",
              "</style>\n",
              "<table border=\"1\" class=\"dataframe\">\n",
              "  <thead>\n",
              "    <tr style=\"text-align: right;\">\n",
              "      <th></th>\n",
              "      <th>index</th>\n",
              "      <th>count</th>\n",
              "      <th>sum</th>\n",
              "      <th>avg_income_USA</th>\n",
              "    </tr>\n",
              "  </thead>\n",
              "  <tbody>\n",
              "    <tr>\n",
              "      <th>0</th>\n",
              "      <td>Brahmanandam</td>\n",
              "      <td>318.0</td>\n",
              "      <td>2103865.0</td>\n",
              "      <td>6615</td>\n",
              "    </tr>\n",
              "    <tr>\n",
              "      <th>1</th>\n",
              "      <td>Anupam Kher</td>\n",
              "      <td>211.0</td>\n",
              "      <td>257325335.0</td>\n",
              "      <td>1219551</td>\n",
              "    </tr>\n",
              "    <tr>\n",
              "      <th>2</th>\n",
              "      <td>Nassar</td>\n",
              "      <td>204.0</td>\n",
              "      <td>33731241.0</td>\n",
              "      <td>165349</td>\n",
              "    </tr>\n",
              "    <tr>\n",
              "      <th>3</th>\n",
              "      <td>Eric Roberts</td>\n",
              "      <td>204.0</td>\n",
              "      <td>896370358.0</td>\n",
              "      <td>4393972</td>\n",
              "    </tr>\n",
              "    <tr>\n",
              "      <th>4</th>\n",
              "      <td>Prakash Raj</td>\n",
              "      <td>189.0</td>\n",
              "      <td>9310368.0</td>\n",
              "      <td>49261</td>\n",
              "    </tr>\n",
              "    <tr>\n",
              "      <th>5</th>\n",
              "      <td>Amitabh Bachchan</td>\n",
              "      <td>173.0</td>\n",
              "      <td>182555260.0</td>\n",
              "      <td>1055232</td>\n",
              "    </tr>\n",
              "    <tr>\n",
              "      <th>6</th>\n",
              "      <td>Tanikella Bharani</td>\n",
              "      <td>173.0</td>\n",
              "      <td>29427700.0</td>\n",
              "      <td>170102</td>\n",
              "    </tr>\n",
              "    <tr>\n",
              "      <th>7</th>\n",
              "      <td>Mohanlal</td>\n",
              "      <td>169.0</td>\n",
              "      <td>247008.0</td>\n",
              "      <td>1461</td>\n",
              "    </tr>\n",
              "    <tr>\n",
              "      <th>8</th>\n",
              "      <td>Gérard Depardieu</td>\n",
              "      <td>164.0</td>\n",
              "      <td>475335601.0</td>\n",
              "      <td>2898387</td>\n",
              "    </tr>\n",
              "    <tr>\n",
              "      <th>9</th>\n",
              "      <td>John Carradine</td>\n",
              "      <td>162.0</td>\n",
              "      <td>190597083.0</td>\n",
              "      <td>1176525</td>\n",
              "    </tr>\n",
              "  </tbody>\n",
              "</table>\n",
              "</div>"
            ],
            "text/plain": [
              "               index  count          sum  avg_income_USA\n",
              "0       Brahmanandam  318.0    2103865.0            6615\n",
              "1        Anupam Kher  211.0  257325335.0         1219551\n",
              "2             Nassar  204.0   33731241.0          165349\n",
              "3       Eric Roberts  204.0  896370358.0         4393972\n",
              "4        Prakash Raj  189.0    9310368.0           49261\n",
              "5   Amitabh Bachchan  173.0  182555260.0         1055232\n",
              "6  Tanikella Bharani  173.0   29427700.0          170102\n",
              "7           Mohanlal  169.0     247008.0            1461\n",
              "8   Gérard Depardieu  164.0  475335601.0         2898387\n",
              "9     John Carradine  162.0  190597083.0         1176525"
            ]
          },
          "metadata": {
            "tags": []
          },
          "execution_count": 139
        }
      ]
    },
    {
      "cell_type": "markdown",
      "metadata": {
        "id": "H9cL5aNVnkIw"
      },
      "source": [
        "# Firma produkująca - dane o ocenach i głosach - GRZESIEK\n",
        "\n"
      ]
    },
    {
      "cell_type": "code",
      "metadata": {
        "colab": {
          "base_uri": "https://localhost:8080/",
          "height": 395
        },
        "id": "Ds8VQjYRTlH3",
        "outputId": "32a0ba49-2862-4124-c336-a7e8e9ccf850"
      },
      "source": [
        "import seaborn as sns\n",
        "\n",
        "def count_genre(x):\n",
        "    #concatenate all the rows of the genrs.\n",
        "    data_plot = imdb_movies[x].str.cat(sep = '|')\n",
        "    data = pd.Series(data_plot.split('|'))\n",
        "    #conts each of the genre and return.\n",
        "    info = data.value_counts(ascending=False)\n",
        "    return info\n",
        "\n",
        "#Firmy produkując najwiecej filmów - 20 największych\n",
        "production_company = count_genre('production_company')\n",
        "\n",
        "#plot he barh plot.\n",
        "production_company.iloc[:20].plot(kind='barh',figsize=(16,8),fontsize=13)\n",
        "plt.title(\"Production Companies Vs Number Of Movies\",fontsize=15)\n",
        "plt.xlabel('Number Of Movies',fontsize=14)\n",
        "sns.set_style(\"whitegrid\")"
      ],
      "execution_count": null,
      "outputs": [
        {
          "output_type": "display_data",
          "data": {
            "image/png": "[encoded data removed]",
            "text/plain": [
              "<Figure size 1152x576 with 1 Axes>"
            ]
          },
          "metadata": {
            "tags": [],
            "needs_background": "light"
          }
        }
      ]
    },
    {
      "cell_type": "code",
      "metadata": {
        "id": "Bpi0057ZyUT5",
        "colab": {
          "base_uri": "https://localhost:8080/",
          "height": 592
        },
        "outputId": "6ba07124-4554-4ce8-aa61-6f1505d5cb71"
      },
      "source": [
        "imdb_movies.production_company.value_counts()[:30].plot.pie(autopct='%1.1f%%',figsize=(10,10))"
      ],
      "execution_count": null,
      "outputs": [
        {
          "output_type": "execute_result",
          "data": {
            "text/plain": [
              "<matplotlib.axes._subplots.AxesSubplot at 0x7f1fa13f0a50>"
            ]
          },
          "metadata": {
            "tags": []
          },
          "execution_count": 22
        },
        {
          "output_type": "display_data",
          "data": {
            "image/png": "[encoded data removed]",
            "text/plain": [
              "<Figure size 720x720 with 1 Axes>"
            ]
          },
          "metadata": {
            "tags": []
          }
        }
      ]
    },
    {
      "cell_type": "code",
      "metadata": {
        "id": "UIAiD8Uu8Wgw",
        "colab": {
          "base_uri": "https://localhost:8080/"
        },
        "outputId": "5b659ff3-f934-477d-f00c-e389570ac17c"
      },
      "source": [
        "#Ile razy średnio są oceniane filmy danej firmy produkującej - popularność\n",
        "df = imdb_movies.groupby('production_company')\n",
        "df1 = df['reviews_from_users'].mean()\n",
        "df1.sort_values(ascending = False, inplace = True)\n",
        "top10production_users = df1.head(10)\n",
        "print(top10production_users)"
      ],
      "execution_count": null,
      "outputs": [
        {
          "output_type": "stream",
          "text": [
            "production_company\n",
            "Three's Company Production    5261.000000\n",
            "Avi Arad Productions          3632.000000\n",
            "Monkeypaw Productions         3082.000000\n",
            "Bay Films                     2298.000000\n",
            "Marvel Studios                2285.750000\n",
            "KatzSmith Productions         2231.000000\n",
            "Lucasfilm                     2202.545455\n",
            "Lava Bear Films               1875.000000\n",
            "Haxan Films                   1786.000000\n",
            "Syncopy                       1763.500000\n",
            "Name: reviews_from_users, dtype: float64\n"
          ],
          "name": "stdout"
        }
      ]
    },
    {
      "cell_type": "code",
      "metadata": {
        "id": "otBZ9VJ390Rm",
        "colab": {
          "base_uri": "https://localhost:8080/"
        },
        "outputId": "576291f9-01c3-4cd7-dd2e-d9afc19bad9b"
      },
      "source": [
        "#Średnia ilość ocen krytyków filmów danej firmy produkującej\n",
        "df = imdb_movies.groupby('production_company')\n",
        "df1 = df['reviews_from_critics'].mean()\n",
        "df1.sort_values(ascending = False, inplace = True)\n",
        "top10production_critics = df1.head(10)\n",
        "print(top10production_critics)"
      ],
      "execution_count": null,
      "outputs": [
        {
          "output_type": "stream",
          "text": [
            "production_company\n",
            "Double Dare You (DDY)      731.000000\n",
            "Lava Bear Films            725.000000\n",
            "Visiona Romantica          696.000000\n",
            "B24                        643.000000\n",
            "Marvel Studios             621.916667\n",
            "Cottonwood Pictures        616.000000\n",
            "Marvel Entertainment       614.000000\n",
            "Monkeypaw Productions      527.000000\n",
            "Cloud Atlas Productions    523.000000\n",
            "EFTI                       496.000000\n",
            "Name: reviews_from_critics, dtype: float64\n"
          ],
          "name": "stdout"
        }
      ]
    },
    {
      "cell_type": "code",
      "metadata": {
        "id": "kH-1760bUxXP",
        "colab": {
          "base_uri": "https://localhost:8080/",
          "height": 390
        },
        "outputId": "debd4bcc-c933-4ea1-99cc-03c1cdfb6a3e"
      },
      "source": [
        "#Firmy produkujące - liczba wyprodukowaych filmów oraz średnia ocen tych filmów dla firm z powyżej 5 filmów\n",
        "imdb_companies_av_votes=imdb_movies[['production_company','avg_vote']].groupby('production_company').agg(['count', 'mean']).reset_index()\n",
        "imdb_companies_av_votes[imdb_companies_av_votes['avg_vote']['count']>5].sort_values(by=('avg_vote','mean'), ascending=False).reset_index().head(10)"
      ],
      "execution_count": null,
      "outputs": [
        {
          "output_type": "execute_result",
          "data": {
            "text/html": [
              "<div>\n",
              "<style scoped>\n",
              "    .dataframe tbody tr th:only-of-type {\n",
              "        vertical-align: middle;\n",
              "    }\n",
              "\n",
              "    .dataframe tbody tr th {\n",
              "        vertical-align: top;\n",
              "    }\n",
              "\n",
              "    .dataframe thead tr th {\n",
              "        text-align: left;\n",
              "    }\n",
              "</style>\n",
              "<table border=\"1\" class=\"dataframe\">\n",
              "  <thead>\n",
              "    <tr>\n",
              "      <th></th>\n",
              "      <th>index</th>\n",
              "      <th>production_company</th>\n",
              "      <th colspan=\"2\" halign=\"left\">avg_vote</th>\n",
              "    </tr>\n",
              "    <tr>\n",
              "      <th></th>\n",
              "      <th></th>\n",
              "      <th></th>\n",
              "      <th>count</th>\n",
              "      <th>mean</th>\n",
              "    </tr>\n",
              "  </thead>\n",
              "  <tbody>\n",
              "    <tr>\n",
              "      <th>0</th>\n",
              "      <td>22021</td>\n",
              "      <td>National Theatre</td>\n",
              "      <td>11</td>\n",
              "      <td>8.345455</td>\n",
              "    </tr>\n",
              "    <tr>\n",
              "      <th>1</th>\n",
              "      <td>30808</td>\n",
              "      <td>Vijaya Pictures</td>\n",
              "      <td>6</td>\n",
              "      <td>8.333333</td>\n",
              "    </tr>\n",
              "    <tr>\n",
              "      <th>2</th>\n",
              "      <td>22022</td>\n",
              "      <td>National Theatre Live</td>\n",
              "      <td>7</td>\n",
              "      <td>8.328571</td>\n",
              "    </tr>\n",
              "    <tr>\n",
              "      <th>3</th>\n",
              "      <td>24209</td>\n",
              "      <td>Poornodaya Movie Creations</td>\n",
              "      <td>6</td>\n",
              "      <td>8.283333</td>\n",
              "    </tr>\n",
              "    <tr>\n",
              "      <th>4</th>\n",
              "      <td>28080</td>\n",
              "      <td>StarKid Productions</td>\n",
              "      <td>6</td>\n",
              "      <td>8.016667</td>\n",
              "    </tr>\n",
              "    <tr>\n",
              "      <th>5</th>\n",
              "      <td>7101</td>\n",
              "      <td>Charles Chaplin Productions</td>\n",
              "      <td>11</td>\n",
              "      <td>7.972727</td>\n",
              "    </tr>\n",
              "    <tr>\n",
              "      <th>6</th>\n",
              "      <td>3671</td>\n",
              "      <td>Azerbaijanfilm</td>\n",
              "      <td>32</td>\n",
              "      <td>7.950000</td>\n",
              "    </tr>\n",
              "    <tr>\n",
              "      <th>7</th>\n",
              "      <td>2960</td>\n",
              "      <td>Art Film 80</td>\n",
              "      <td>7</td>\n",
              "      <td>7.942857</td>\n",
              "    </tr>\n",
              "    <tr>\n",
              "      <th>8</th>\n",
              "      <td>26090</td>\n",
              "      <td>Rupam Chitra</td>\n",
              "      <td>6</td>\n",
              "      <td>7.916667</td>\n",
              "    </tr>\n",
              "    <tr>\n",
              "      <th>9</th>\n",
              "      <td>4913</td>\n",
              "      <td>Bimal Roy Productions</td>\n",
              "      <td>6</td>\n",
              "      <td>7.883333</td>\n",
              "    </tr>\n",
              "  </tbody>\n",
              "</table>\n",
              "</div>"
            ],
            "text/plain": [
              "   index           production_company avg_vote          \n",
              "                                         count      mean\n",
              "0  22021             National Theatre       11  8.345455\n",
              "1  30808              Vijaya Pictures        6  8.333333\n",
              "2  22022        National Theatre Live        7  8.328571\n",
              "3  24209   Poornodaya Movie Creations        6  8.283333\n",
              "4  28080          StarKid Productions        6  8.016667\n",
              "5   7101  Charles Chaplin Productions       11  7.972727\n",
              "6   3671               Azerbaijanfilm       32  7.950000\n",
              "7   2960                  Art Film 80        7  7.942857\n",
              "8  26090                 Rupam Chitra        6  7.916667\n",
              "9   4913        Bimal Roy Productions        6  7.883333"
            ]
          },
          "metadata": {
            "tags": []
          },
          "execution_count": 17
        }
      ]
    },
    {
      "cell_type": "code",
      "metadata": {
        "id": "rtvJ2YZhWge8"
      },
      "source": [
        ""
      ],
      "execution_count": null,
      "outputs": []
    },
    {
      "cell_type": "markdown",
      "metadata": {
        "id": "mxGDnW-431ix"
      },
      "source": [
        "#Głosy -najczęściej oceniane filmy, korelacja budżetu ze średnią głosów, korelacja przychodu ze średnią głosów - przychodu w USA i na świecie - KASIA"
      ]
    },
    {
      "cell_type": "code",
      "metadata": {
        "id": "D-db71oqIj0S"
      },
      "source": [
        "imdb_votes = imdb_movies_all_USD = imdb_movies[imdb_movies.currency_for_usaincome.eq('$') & imdb_movies.currency_for_wwincome.eq('$') & imdb_movies.currency_for_budget.eq('$')]\n",
        "imdb_votes = imdb_votes[['title', 'avg_vote', 'votes', 'budget', 'worlwide_gross_income', 'reviews_from_users', 'reviews_from_critics']]\n",
        "imdb_votes.head()"
      ],
      "execution_count": null,
      "outputs": []
    },
    {
      "cell_type": "code",
      "metadata": {
        "id": "D9UqpyZGMVex"
      },
      "source": [
        "##do uzupełnienia z grześka kodu - powiększyć, kolory\n",
        "imdb_corr=imdb_votes.corr()\n",
        "imdb_corr"
      ],
      "execution_count": null,
      "outputs": []
    },
    {
      "cell_type": "code",
      "metadata": {
        "id": "6viLxh1AMuff"
      },
      "source": [
        "plt.figure(figsize=(10,10))\n",
        "sn.heatmap(imdb_corr,annot=True,linewidths=0.01,vmax=1,square=True,cbar=True);\n",
        "sn.heatmap"
      ],
      "execution_count": null,
      "outputs": []
    },
    {
      "cell_type": "markdown",
      "metadata": {
        "id": "YaI44T4XtcoR"
      },
      "source": [
        "# Chmura słów z opisów filmów - EWA"
      ]
    },
    {
      "cell_type": "code",
      "metadata": {
        "id": "pCzlh410x1nv"
      },
      "source": [
        "imdb_movies['description'] = imdb_movies['description'].astype('str')\n",
        "text = ' '.join(imdb_movies[\"description\"])"
      ],
      "execution_count": null,
      "outputs": []
    },
    {
      "cell_type": "code",
      "metadata": {
        "id": "2ovyT60AyVNl"
      },
      "source": [
        "text[:300]"
      ],
      "execution_count": null,
      "outputs": []
    },
    {
      "cell_type": "code",
      "metadata": {
        "id": "xWjWGMBdyfcT"
      },
      "source": [
        "wc = WordCloud(max_words=300, width=800, height=600, max_font_size=100, background_color=\"white\")\n",
        "\n",
        "# generate word cloud\n",
        "wc.generate(text)\n",
        "plt.figure(figsize=(15, 10))\n",
        "plt.imshow(wc)\n",
        "plt.axis(\"off\")"
      ],
      "execution_count": null,
      "outputs": []
    },
    {
      "cell_type": "markdown",
      "metadata": {
        "id": "VXry0XBeQw8_"
      },
      "source": [
        "#Machine Learning"
      ]
    },
    {
      "cell_type": "markdown",
      "metadata": {
        "id": "wZSahCBYQu7I"
      },
      "source": [
        "##Pobranie i rozpakowanie danych kaggle - MovieLens"
      ]
    },
    {
      "cell_type": "code",
      "metadata": {
        "id": "luDX_9INQu7K",
        "colab": {
          "base_uri": "https://localhost:8080/"
        },
        "outputId": "f49a89e2-5893-44a2-cab8-390dfaac91f6"
      },
      "source": [
        "!kaggle datasets download -d grouplens/movielens-20m-dataset"
      ],
      "execution_count": 45,
      "outputs": [
        {
          "output_type": "stream",
          "text": [
            "Downloading movielens-20m-dataset.zip to /content\n",
            " 94% 184M/195M [00:03<00:00, 63.5MB/s]\n",
            "100% 195M/195M [00:03<00:00, 63.2MB/s]\n"
          ],
          "name": "stdout"
        }
      ]
    },
    {
      "cell_type": "code",
      "metadata": {
        "id": "Aq-P_bE5Qu7L"
      },
      "source": [
        "!unzip -q movielens-20m-dataset.zip -d [netflix]"
      ],
      "execution_count": 46,
      "outputs": []
    },
    {
      "cell_type": "code",
      "metadata": {
        "id": "TiQRufmqQu7M"
      },
      "source": [
        "movielens_movies = pd.read_csv('/content/[netflix]/movie.csv')\n",
        "movielens_ratings = pd.read_csv('/content/[netflix]/rating.csv')"
      ],
      "execution_count": 47,
      "outputs": []
    },
    {
      "cell_type": "code",
      "metadata": {
        "id": "_y1yudMUQu7M"
      },
      "source": [
        "movielens_movies.head()"
      ],
      "execution_count": null,
      "outputs": []
    },
    {
      "cell_type": "code",
      "metadata": {
        "id": "bNrT6AzqiAV-"
      },
      "source": [
        "movielens_movies.shape"
      ],
      "execution_count": null,
      "outputs": []
    },
    {
      "cell_type": "code",
      "metadata": {
        "id": "p6KwUK55SY3a"
      },
      "source": [
        "movielens_ratings.head()"
      ],
      "execution_count": null,
      "outputs": []
    },
    {
      "cell_type": "code",
      "metadata": {
        "id": "UN6ZcphXiDGI"
      },
      "source": [
        "movielens_ratings.shape"
      ],
      "execution_count": null,
      "outputs": []
    },
    {
      "cell_type": "markdown",
      "metadata": {
        "id": "f4xkQAMQSgXa"
      },
      "source": [
        "##Łączenie datasetów - IMDb i MovieLens"
      ]
    },
    {
      "cell_type": "code",
      "metadata": {
        "id": "w0PEzqRZS7Tq",
        "colab": {
          "base_uri": "https://localhost:8080/"
        },
        "outputId": "b1f2e406-9714-431c-ab47-16b92b1924f9"
      },
      "source": [
        "# tworzę nową kolumnę z tytułem i rokiem produkcji w nawiasie\n",
        "\n",
        "imdb_movies['title_year'] = imdb_movies.apply(lambda row: row.title + \" (\" + str(row.year) + \")\", axis=1)\n",
        "imdb_movies['title_year']"
      ],
      "execution_count": 50,
      "outputs": [
        {
          "output_type": "execute_result",
          "data": {
            "text/plain": [
              "0                            Miss Jerry (1894)\n",
              "1           The Story of the Kelly Gang (1906)\n",
              "2                        Den sorte drøm (1911)\n",
              "3                             Cleopatra (1912)\n",
              "4                             L'Inferno (1911)\n",
              "                         ...                  \n",
              "85850                           Le lion (2020)\n",
              "85851    De Beentjes van Sint-Hildegard (2020)\n",
              "85852         Padmavyuhathile Abhimanyu (2019)\n",
              "85853                 Sokagin Çocuklari (2019)\n",
              "85854        La vida sense la Sara Amat (2019)\n",
              "Name: title_year, Length: 85855, dtype: object"
            ]
          },
          "metadata": {
            "tags": []
          },
          "execution_count": 50
        }
      ]
    },
    {
      "cell_type": "code",
      "metadata": {
        "id": "HCG6kstqWc5b"
      },
      "source": [
        "# muszę nadać taką samą nazwę (title_year) dla kolumny w movielens, wg której chcę łączyć\n",
        "\n",
        "movielens_movies.columns = ['movieId', 'title_year', 'genres']"
      ],
      "execution_count": 51,
      "outputs": []
    },
    {
      "cell_type": "code",
      "metadata": {
        "id": "MYn6A1mCVUcP",
        "colab": {
          "base_uri": "https://localhost:8080/"
        },
        "outputId": "ccfe087b-b5c0-4b98-8c8f-651c654ec4da"
      },
      "source": [
        "movies_merged_by_title = pd.merge(movielens_movies, imdb_movies, on='title_year')\n",
        "movies_merged_by_title.shape"
      ],
      "execution_count": 52,
      "outputs": [
        {
          "output_type": "execute_result",
          "data": {
            "text/plain": [
              "(5598, 25)"
            ]
          },
          "metadata": {
            "tags": []
          },
          "execution_count": 52
        }
      ]
    },
    {
      "cell_type": "code",
      "metadata": {
        "id": "3SRQYqsRW_t3",
        "colab": {
          "base_uri": "https://localhost:8080/"
        },
        "outputId": "befe5039-ea52-4d28-8bd5-4b30fb919033"
      },
      "source": [
        "# spróbuję jeszcze z 'orginal_title' połączyć z rokiem produkcji w nawiasie\n",
        "\n",
        "imdb_movies['title_year'] = imdb_movies.apply(lambda row: row.original_title + \" (\" + str(row.year) + \")\", axis=1)\n",
        "movies_merged_by_original_title = pd.merge(movielens_movies, imdb_movies, on='title_year')\n",
        "movies_merged_by_original_title.shape"
      ],
      "execution_count": 53,
      "outputs": [
        {
          "output_type": "execute_result",
          "data": {
            "text/plain": [
              "(11935, 25)"
            ]
          },
          "metadata": {
            "tags": []
          },
          "execution_count": 53
        }
      ]
    },
    {
      "cell_type": "code",
      "metadata": {
        "id": "g7flRy15euYO",
        "colab": {
          "base_uri": "https://localhost:8080/",
          "height": 419
        },
        "outputId": "1d3f3a71-9bcc-4cb6-ef61-dfc137a7e57e"
      },
      "source": [
        "# ze względu na większą liczbę pokrywających się tytułów, decyduję się na połączenie baz wg 'original_title'\n",
        "\n",
        "movies_merged = movies_merged_by_original_title[['movieId', 'title_year']]\n",
        "movies_merged"
      ],
      "execution_count": 54,
      "outputs": [
        {
          "output_type": "execute_result",
          "data": {
            "text/html": [
              "<div>\n",
              "<style scoped>\n",
              "    .dataframe tbody tr th:only-of-type {\n",
              "        vertical-align: middle;\n",
              "    }\n",
              "\n",
              "    .dataframe tbody tr th {\n",
              "        vertical-align: top;\n",
              "    }\n",
              "\n",
              "    .dataframe thead th {\n",
              "        text-align: right;\n",
              "    }\n",
              "</style>\n",
              "<table border=\"1\" class=\"dataframe\">\n",
              "  <thead>\n",
              "    <tr style=\"text-align: right;\">\n",
              "      <th></th>\n",
              "      <th>movieId</th>\n",
              "      <th>title_year</th>\n",
              "    </tr>\n",
              "  </thead>\n",
              "  <tbody>\n",
              "    <tr>\n",
              "      <th>0</th>\n",
              "      <td>1</td>\n",
              "      <td>Toy Story (1995)</td>\n",
              "    </tr>\n",
              "    <tr>\n",
              "      <th>1</th>\n",
              "      <td>2</td>\n",
              "      <td>Jumanji (1995)</td>\n",
              "    </tr>\n",
              "    <tr>\n",
              "      <th>2</th>\n",
              "      <td>3</td>\n",
              "      <td>Grumpier Old Men (1995)</td>\n",
              "    </tr>\n",
              "    <tr>\n",
              "      <th>3</th>\n",
              "      <td>4</td>\n",
              "      <td>Waiting to Exhale (1995)</td>\n",
              "    </tr>\n",
              "    <tr>\n",
              "      <th>4</th>\n",
              "      <td>5</td>\n",
              "      <td>Father of the Bride Part II (1995)</td>\n",
              "    </tr>\n",
              "    <tr>\n",
              "      <th>...</th>\n",
              "      <td>...</td>\n",
              "      <td>...</td>\n",
              "    </tr>\n",
              "    <tr>\n",
              "      <th>11930</th>\n",
              "      <td>131168</td>\n",
              "      <td>Phoenix (2014)</td>\n",
              "    </tr>\n",
              "    <tr>\n",
              "      <th>11931</th>\n",
              "      <td>131170</td>\n",
              "      <td>Parallels (2015)</td>\n",
              "    </tr>\n",
              "    <tr>\n",
              "      <th>11932</th>\n",
              "      <td>131174</td>\n",
              "      <td>Gentlemen (2014)</td>\n",
              "    </tr>\n",
              "    <tr>\n",
              "      <th>11933</th>\n",
              "      <td>131231</td>\n",
              "      <td>Standby (2014)</td>\n",
              "    </tr>\n",
              "    <tr>\n",
              "      <th>11934</th>\n",
              "      <td>131256</td>\n",
              "      <td>Feuer, Eis &amp; Dosenbier (2002)</td>\n",
              "    </tr>\n",
              "  </tbody>\n",
              "</table>\n",
              "<p>11935 rows × 2 columns</p>\n",
              "</div>"
            ],
            "text/plain": [
              "       movieId                          title_year\n",
              "0            1                    Toy Story (1995)\n",
              "1            2                      Jumanji (1995)\n",
              "2            3             Grumpier Old Men (1995)\n",
              "3            4            Waiting to Exhale (1995)\n",
              "4            5  Father of the Bride Part II (1995)\n",
              "...        ...                                 ...\n",
              "11930   131168                      Phoenix (2014)\n",
              "11931   131170                    Parallels (2015)\n",
              "11932   131174                    Gentlemen (2014)\n",
              "11933   131231                      Standby (2014)\n",
              "11934   131256       Feuer, Eis & Dosenbier (2002)\n",
              "\n",
              "[11935 rows x 2 columns]"
            ]
          },
          "metadata": {
            "tags": []
          },
          "execution_count": 54
        }
      ]
    },
    {
      "cell_type": "code",
      "metadata": {
        "id": "S_2NcPpPhwLk",
        "colab": {
          "base_uri": "https://localhost:8080/"
        },
        "outputId": "adfa4720-d2ec-4f95-f71a-8801b22141df"
      },
      "source": [
        "# tworzę listę id filmów z movies_merged (z powtórzeniami, bo to bez znaczenia) \n",
        "list_of_Ids_merged_movies = movies_merged.movieId.tolist()\n",
        "\n",
        "# tworzę skorygowaną tabelę z ocenami użytkowników tak, aby występowały w niej oceny tylko tych filmów, które nas interesują\n",
        "movielens_ratings_corrected = movielens_ratings[movielens_ratings['movieId'].isin(list_of_Ids_merged_movies)][['userId', 'movieId', 'rating']]\n",
        "\n",
        "movielens_ratings_corrected.shape"
      ],
      "execution_count": 55,
      "outputs": [
        {
          "output_type": "execute_result",
          "data": {
            "text/plain": [
              "(13435892, 3)"
            ]
          },
          "metadata": {
            "tags": []
          },
          "execution_count": 55
        }
      ]
    },
    {
      "cell_type": "code",
      "metadata": {
        "id": "dm6h8lcEFU3N",
        "colab": {
          "base_uri": "https://localhost:8080/",
          "height": 204
        },
        "outputId": "91498e34-c995-45fe-8338-12b491877745"
      },
      "source": [
        "movielens_ratings_corrected.head()"
      ],
      "execution_count": null,
      "outputs": [
        {
          "output_type": "execute_result",
          "data": {
            "text/html": [
              "<div>\n",
              "<style scoped>\n",
              "    .dataframe tbody tr th:only-of-type {\n",
              "        vertical-align: middle;\n",
              "    }\n",
              "\n",
              "    .dataframe tbody tr th {\n",
              "        vertical-align: top;\n",
              "    }\n",
              "\n",
              "    .dataframe thead th {\n",
              "        text-align: right;\n",
              "    }\n",
              "</style>\n",
              "<table border=\"1\" class=\"dataframe\">\n",
              "  <thead>\n",
              "    <tr style=\"text-align: right;\">\n",
              "      <th></th>\n",
              "      <th>userId</th>\n",
              "      <th>movieId</th>\n",
              "      <th>rating</th>\n",
              "    </tr>\n",
              "  </thead>\n",
              "  <tbody>\n",
              "    <tr>\n",
              "      <th>0</th>\n",
              "      <td>1</td>\n",
              "      <td>2</td>\n",
              "      <td>3.5</td>\n",
              "    </tr>\n",
              "    <tr>\n",
              "      <th>6</th>\n",
              "      <td>1</td>\n",
              "      <td>151</td>\n",
              "      <td>4.0</td>\n",
              "    </tr>\n",
              "    <tr>\n",
              "      <th>7</th>\n",
              "      <td>1</td>\n",
              "      <td>223</td>\n",
              "      <td>4.0</td>\n",
              "    </tr>\n",
              "    <tr>\n",
              "      <th>8</th>\n",
              "      <td>1</td>\n",
              "      <td>253</td>\n",
              "      <td>4.0</td>\n",
              "    </tr>\n",
              "    <tr>\n",
              "      <th>11</th>\n",
              "      <td>1</td>\n",
              "      <td>296</td>\n",
              "      <td>4.0</td>\n",
              "    </tr>\n",
              "  </tbody>\n",
              "</table>\n",
              "</div>"
            ],
            "text/plain": [
              "    userId  movieId  rating\n",
              "0        1        2     3.5\n",
              "6        1      151     4.0\n",
              "7        1      223     4.0\n",
              "8        1      253     4.0\n",
              "11       1      296     4.0"
            ]
          },
          "metadata": {
            "tags": []
          },
          "execution_count": 162
        }
      ]
    },
    {
      "cell_type": "code",
      "metadata": {
        "id": "0Ww6Njr0nBxo"
      },
      "source": [
        "movielens_ratings_corrected.to_csv('/content/gdrive/My Drive/CodersCrew/ratings_to_pick_out')"
      ],
      "execution_count": null,
      "outputs": []
    },
    {
      "cell_type": "markdown",
      "metadata": {
        "id": "zEp6icb8x6GP"
      },
      "source": [
        "##Dataframe z wylosowanymi danymi by ograniczyć zużycie pamięci przy trenowaniu modelu"
      ]
    },
    {
      "cell_type": "code",
      "metadata": {
        "id": "gZKiyxBnpper"
      },
      "source": [
        "sample_ratings = pd.read_csv('/content/gdrive/MyDrive/CodersCrew/sample_ratings2.csv')"
      ],
      "execution_count": 105,
      "outputs": []
    },
    {
      "cell_type": "code",
      "metadata": {
        "id": "0TdI46U0PBGu",
        "colab": {
          "base_uri": "https://localhost:8080/"
        },
        "outputId": "41a16193-a9f6-4f15-a47f-1e09c1bb01ac"
      },
      "source": [
        "print('Min value: ' + str(sample_ratings.rating.min()))\n",
        "print('Max value: ' + str(sample_ratings.rating.max()))"
      ],
      "execution_count": 106,
      "outputs": [
        {
          "output_type": "stream",
          "text": [
            "Min value: 0.5\n",
            "Max value: 5.0\n"
          ],
          "name": "stdout"
        }
      ]
    },
    {
      "cell_type": "code",
      "metadata": {
        "id": "m4MSM3bvQeVY",
        "colab": {
          "base_uri": "https://localhost:8080/"
        },
        "outputId": "0132a96d-87b1-4fb1-cc50-666a571520d1"
      },
      "source": [
        "!pip install scikit-surprise"
      ],
      "execution_count": 10,
      "outputs": [
        {
          "output_type": "stream",
          "text": [
            "Collecting scikit-surprise\n",
            "\u001b[?25l  Downloading https://files.pythonhosted.org/packages/97/37/5d334adaf5ddd65da99fc65f6507e0e4599d092ba048f4302fe8775619e8/scikit-surprise-1.1.1.tar.gz (11.8MB)\n",
            "\u001b[K     |████████████████████████████████| 11.8MB 6.8MB/s \n",
            "\u001b[?25hRequirement already satisfied: joblib>=0.11 in /usr/local/lib/python3.7/dist-packages (from scikit-surprise) (1.0.1)\n",
            "Requirement already satisfied: numpy>=1.11.2 in /usr/local/lib/python3.7/dist-packages (from scikit-surprise) (1.19.5)\n",
            "Requirement already satisfied: scipy>=1.0.0 in /usr/local/lib/python3.7/dist-packages (from scikit-surprise) (1.4.1)\n",
            "Requirement already satisfied: six>=1.10.0 in /usr/local/lib/python3.7/dist-packages (from scikit-surprise) (1.15.0)\n",
            "Building wheels for collected packages: scikit-surprise\n",
            "  Building wheel for scikit-surprise (setup.py) ... \u001b[?25l\u001b[?25hdone\n",
            "  Created wheel for scikit-surprise: filename=scikit_surprise-1.1.1-cp37-cp37m-linux_x86_64.whl size=1617542 sha256=a9269df26d3d0ab620f506bc5ce0200809e851c20a871e9b495f8a7a4efb89a2\n",
            "  Stored in directory: /root/.cache/pip/wheels/78/9c/3d/41b419c9d2aff5b6e2b4c0fc8d25c538202834058f9ed110d0\n",
            "Successfully built scikit-surprise\n",
            "Installing collected packages: scikit-surprise\n",
            "Successfully installed scikit-surprise-1.1.1\n"
          ],
          "name": "stdout"
        }
      ]
    },
    {
      "cell_type": "code",
      "metadata": {
        "id": "oqd-j3GoFa7a"
      },
      "source": [
        "from surprise import Dataset, Reader, KNNWithMeans\n",
        "\n",
        "reader = Reader(rating_scale=(0, 5))\n"
      ],
      "execution_count": 107,
      "outputs": []
    },
    {
      "cell_type": "code",
      "metadata": {
        "id": "irvXhBxBwZzE"
      },
      "source": [
        "data = Dataset.load_from_df(sample_ratings[['userId', 'movieId', 'rating']], reader)"
      ],
      "execution_count": 108,
      "outputs": []
    },
    {
      "cell_type": "code",
      "metadata": {
        "colab": {
          "base_uri": "https://localhost:8080/"
        },
        "id": "mAraRZYIAjHm",
        "outputId": "34285de8-29f0-4537-921d-67d75b683e0b"
      },
      "source": [
        "trainsetfull = data.build_full_trainset()\n",
        "print('Number of users: ', trainsetfull.n_users, '\\n')\n",
        "print('Number of items: ', trainsetfull.n_items, '\\n')"
      ],
      "execution_count": 109,
      "outputs": [
        {
          "output_type": "stream",
          "text": [
            "Number of users:  8945 \n",
            "\n",
            "Number of items:  2555 \n",
            "\n"
          ],
          "name": "stdout"
        }
      ]
    },
    {
      "cell_type": "code",
      "metadata": {
        "colab": {
          "base_uri": "https://localhost:8080/"
        },
        "id": "kPuZS0KaAsCv",
        "outputId": "eeef6cc6-871e-422a-bfcc-078e37669988"
      },
      "source": [
        "from surprise.model_selection import cross_validate\n",
        "\n",
        "my_k = 15\n",
        "my_min_k = 5\n",
        "my_sim_option = {\n",
        "    'name':'pearson', 'user_based':True\n",
        "    }\n",
        "\n",
        "algo = KNNWithMeans(\n",
        "    k = my_k, min_k = my_min_k, \n",
        "    sim_options = my_sim_option, verbose = True\n",
        "    )\n",
        "    \n",
        "results = cross_validate(\n",
        "    algo = algo, data = data, measures=['RMSE'], \n",
        "    cv=5, return_train_measures=True\n",
        "    )\n",
        "    \n",
        "print(results['test_rmse'].mean())"
      ],
      "execution_count": 110,
      "outputs": [
        {
          "output_type": "stream",
          "text": [
            "Computing the pearson similarity matrix...\n",
            "Done computing similarity matrix.\n",
            "Computing the pearson similarity matrix...\n",
            "Done computing similarity matrix.\n",
            "Computing the pearson similarity matrix...\n",
            "Done computing similarity matrix.\n",
            "Computing the pearson similarity matrix...\n",
            "Done computing similarity matrix.\n",
            "Computing the pearson similarity matrix...\n",
            "Done computing similarity matrix.\n",
            "1.093495128333169\n"
          ],
          "name": "stdout"
        }
      ]
    },
    {
      "cell_type": "code",
      "metadata": {
        "colab": {
          "base_uri": "https://localhost:8080/"
        },
        "id": "mXJyVaV5BlZZ",
        "outputId": "97272a29-fb9b-4d8c-9a62-ad4e74c6bbd3"
      },
      "source": [
        "my_k = 15\n",
        "my_min_k = 5\n",
        "my_sim_option = {\n",
        "    'name':'pearson', 'user_based': False\n",
        "    }\n",
        "\n",
        "algo = KNNWithMeans(\n",
        "    k = my_k, min_k = my_min_k, \n",
        "    sim_options = my_sim_option, verbose = True\n",
        "    )\n",
        "    \n",
        "results = cross_validate(\n",
        "    algo = algo, data = data, measures=['RMSE'], \n",
        "    cv=5, return_train_measures=True\n",
        "    )\n",
        "    \n",
        "print(results['test_rmse'].mean())"
      ],
      "execution_count": 111,
      "outputs": [
        {
          "output_type": "stream",
          "text": [
            "Computing the pearson similarity matrix...\n",
            "Done computing similarity matrix.\n",
            "Computing the pearson similarity matrix...\n",
            "Done computing similarity matrix.\n",
            "Computing the pearson similarity matrix...\n",
            "Done computing similarity matrix.\n",
            "Computing the pearson similarity matrix...\n",
            "Done computing similarity matrix.\n",
            "Computing the pearson similarity matrix...\n",
            "Done computing similarity matrix.\n",
            "1.0614994980713734\n"
          ],
          "name": "stdout"
        }
      ]
    },
    {
      "cell_type": "code",
      "metadata": {
        "id": "QcwJ-vfxSUS_",
        "colab": {
          "base_uri": "https://localhost:8080/"
        },
        "outputId": "2771cff8-6084-4414-c0c7-c482fc94da43"
      },
      "source": [
        "algo.fit(trainsetfull)"
      ],
      "execution_count": 112,
      "outputs": [
        {
          "output_type": "stream",
          "text": [
            "Computing the pearson similarity matrix...\n",
            "Done computing similarity matrix.\n"
          ],
          "name": "stdout"
        },
        {
          "output_type": "execute_result",
          "data": {
            "text/plain": [
              "<surprise.prediction_algorithms.knns.KNNWithMeans at 0x7f3315bf6610>"
            ]
          },
          "metadata": {
            "tags": []
          },
          "execution_count": 112
        }
      ]
    },
    {
      "cell_type": "code",
      "metadata": {
        "colab": {
          "base_uri": "https://localhost:8080/"
        },
        "id": "Se4EQr4Y-FJa",
        "outputId": "0d73043d-114f-4817-b810-0aa8cfe9213e"
      },
      "source": [
        "prediction = algo.predict(80746, 111) #userId, movieId\n",
        "prediction.est"
      ],
      "execution_count": 113,
      "outputs": [
        {
          "output_type": "execute_result",
          "data": {
            "text/plain": [
              "4.1"
            ]
          },
          "metadata": {
            "tags": []
          },
          "execution_count": 113
        }
      ]
    },
    {
      "cell_type": "code",
      "metadata": {
        "colab": {
          "base_uri": "https://localhost:8080/"
        },
        "id": "U-eRuWgGLh-l",
        "outputId": "50727615-0963-4d9e-fbd2-7940ca661209"
      },
      "source": [
        "list_of_Idsmovies = []\n",
        "\n",
        "for i in range(0,len(sample_ratings['movieId']-1)):\n",
        "  if sample_ratings['movieId'][i] not in list_of_Idsmovies:\n",
        "    list_of_Idsmovies.append(sample_ratings['movieId'][i])\n",
        "\n",
        "list_of_Idsmovies[:10]"
      ],
      "execution_count": 114,
      "outputs": [
        {
          "output_type": "execute_result",
          "data": {
            "text/plain": [
              "[1748, 3174, 597, 2915, 1042, 252, 111, 1391, 71535, 104841]"
            ]
          },
          "metadata": {
            "tags": []
          },
          "execution_count": 114
        }
      ]
    },
    {
      "cell_type": "code",
      "metadata": {
        "id": "WOP2zK4WK0p7"
      },
      "source": [
        "def gimmie_recommendations(userId, num_of_movies = 10):\n",
        "  \n",
        "  predictions = {}\n",
        "  \n",
        "  for i in range(0,len(list_of_Idsmovies)-1):\n",
        "    predictions[list_of_Idsmovies[i]] = algo.predict(userId, list_of_Idsmovies[i]).est\n",
        "\n",
        "  sorted_predictions = sorted(predictions.values(), reverse=True)\n",
        "  recommendations_ids = {}\n",
        "  \n",
        "  for i in sorted_predictions:\n",
        "    for k in predictions.keys():\n",
        "      if predictions[k] == i:\n",
        "        recommendations_ids[k] = predictions[k] \n",
        "\n",
        "  best_recommendations_ids = list(recommendations_ids.keys())[:num_of_movies+1]\n",
        "  recommendations = []\n",
        "  for j in range(0, len(best_recommendations_ids)-1):\n",
        "    for i in range(0, len(movies_merged)-1):\n",
        "      if movies_merged['movieId'][i] == best_recommendations_ids[j]:\n",
        "        recommendations.append(movies_merged['title_year'][i])\n",
        "\n",
        "  return recommendations"
      ],
      "execution_count": 115,
      "outputs": []
    },
    {
      "cell_type": "code",
      "metadata": {
        "colab": {
          "base_uri": "https://localhost:8080/"
        },
        "id": "8SwwMQmllyuy",
        "outputId": "354466f4-599b-41d0-9292-6c2661a14583"
      },
      "source": [
        "algo.predict(48499,5452).est"
      ],
      "execution_count": 116,
      "outputs": [
        {
          "output_type": "execute_result",
          "data": {
            "text/plain": [
              "1.4"
            ]
          },
          "metadata": {
            "tags": []
          },
          "execution_count": 116
        }
      ]
    },
    {
      "cell_type": "code",
      "metadata": {
        "colab": {
          "base_uri": "https://localhost:8080/"
        },
        "id": "-Tpt8lIOR6Mc",
        "outputId": "364c8de8-23a8-4a9c-b326-da9cffddabb7"
      },
      "source": [
        "# przykładowe użycie funkcji dla użytkownika o numerze id 80747, który prosi o zarekomendowanie 5 filmów :)\n",
        "\n",
        "\n",
        "gimmie_recommendations(48499, 10)"
      ],
      "execution_count": 117,
      "outputs": [
        {
          "output_type": "execute_result",
          "data": {
            "text/plain": [
              "['Take the Money and Run (1969)',\n",
              " 'Wilde (1997)',\n",
              " 'Chuck & Buck (2000)',\n",
              " 'Torn Curtain (1966)',\n",
              " 'Crimes and Misdemeanors (1989)',\n",
              " 'In the Bedroom (2001)',\n",
              " 'How to Deal (2003)',\n",
              " 'Gaslight (1944)',\n",
              " 'Elmer Gantry (1960)',\n",
              " 'Tom and Jerry: The Movie (1992)']"
            ]
          },
          "metadata": {
            "tags": []
          },
          "execution_count": 117
        }
      ]
    },
    {
      "cell_type": "code",
      "metadata": {
        "colab": {
          "base_uri": "https://localhost:8080/"
        },
        "id": "G_qUm2mfk_rO",
        "outputId": "5c0b5911-c35e-4ae8-aa18-163bc5c95e68"
      },
      "source": [
        "gimmie_recommendations(102098, 10)"
      ],
      "execution_count": 118,
      "outputs": [
        {
          "output_type": "execute_result",
          "data": {
            "text/plain": [
              "['Take the Money and Run (1969)',\n",
              " 'Wilde (1997)',\n",
              " 'Chuck & Buck (2000)',\n",
              " 'Torn Curtain (1966)',\n",
              " 'Crimes and Misdemeanors (1989)',\n",
              " 'In the Bedroom (2001)',\n",
              " 'How to Deal (2003)',\n",
              " 'Gaslight (1944)',\n",
              " 'Elmer Gantry (1960)',\n",
              " 'Tom and Jerry: The Movie (1992)']"
            ]
          },
          "metadata": {
            "tags": []
          },
          "execution_count": 118
        }
      ]
    },
    {
      "cell_type": "code",
      "metadata": {
        "colab": {
          "base_uri": "https://localhost:8080/"
        },
        "id": "XJMb6tq-lLSy",
        "outputId": "97af57a1-1d81-45c4-fec4-c1ba687c632a"
      },
      "source": [
        "#nowy użytkownik z większą iloscią filmów\n",
        "gimmie_recommendations(114710, 10)"
      ],
      "execution_count": 121,
      "outputs": [
        {
          "output_type": "execute_result",
          "data": {
            "text/plain": [
              "['Take the Money and Run (1969)',\n",
              " 'Wilde (1997)',\n",
              " 'Chuck & Buck (2000)',\n",
              " 'Torn Curtain (1966)',\n",
              " 'Crimes and Misdemeanors (1989)',\n",
              " 'In the Bedroom (2001)',\n",
              " 'How to Deal (2003)',\n",
              " 'Gaslight (1944)',\n",
              " 'Elmer Gantry (1960)',\n",
              " 'Tom and Jerry: The Movie (1992)']"
            ]
          },
          "metadata": {
            "tags": []
          },
          "execution_count": 121
        }
      ]
    },
    {
      "cell_type": "code",
      "metadata": {
        "colab": {
          "base_uri": "https://localhost:8080/"
        },
        "id": "jmEfgL_1wEQg",
        "outputId": "d730dbc0-8b69-46c3-a974-6b25db66e039"
      },
      "source": [
        "#nowy użytkownik z większą iloscią filmów\n",
        "gimmie_recommendations(8534, 10)"
      ],
      "execution_count": 122,
      "outputs": [
        {
          "output_type": "execute_result",
          "data": {
            "text/plain": [
              "['Take the Money and Run (1969)',\n",
              " 'Wilde (1997)',\n",
              " 'Chuck & Buck (2000)',\n",
              " 'Torn Curtain (1966)',\n",
              " 'Crimes and Misdemeanors (1989)',\n",
              " 'In the Bedroom (2001)',\n",
              " 'How to Deal (2003)',\n",
              " 'Gaslight (1944)',\n",
              " 'Elmer Gantry (1960)',\n",
              " 'Tom and Jerry: The Movie (1992)']"
            ]
          },
          "metadata": {
            "tags": []
          },
          "execution_count": 122
        }
      ]
    },
    {
      "cell_type": "code",
      "metadata": {
        "colab": {
          "base_uri": "https://localhost:8080/"
        },
        "id": "NAyMugPbwH94",
        "outputId": "268a2d28-bce8-4279-94ad-3a17fdeb86c2"
      },
      "source": [
        "#nowy użytkownik z większą iloscią filmów\n",
        "gimmie_recommendations(73404,10)"
      ],
      "execution_count": 124,
      "outputs": [
        {
          "output_type": "execute_result",
          "data": {
            "text/plain": [
              "['Take the Money and Run (1969)',\n",
              " 'Wilde (1997)',\n",
              " 'Chuck & Buck (2000)',\n",
              " 'Torn Curtain (1966)',\n",
              " 'Crimes and Misdemeanors (1989)',\n",
              " 'In the Bedroom (2001)',\n",
              " 'How to Deal (2003)',\n",
              " 'Gaslight (1944)',\n",
              " 'Elmer Gantry (1960)',\n",
              " 'Tom and Jerry: The Movie (1992)']"
            ]
          },
          "metadata": {
            "tags": []
          },
          "execution_count": 124
        }
      ]
    },
    {
      "cell_type": "code",
      "metadata": {
        "colab": {
          "base_uri": "https://localhost:8080/"
        },
        "id": "nw3kyk40cSs3",
        "outputId": "6b35693d-7c7b-4375-bc62-6ad6383eee17"
      },
      "source": [
        "userId = int(input(\"Your ID: \"))\n",
        "num_of_movies = int(input(\"How many recommenations do you want? \"))\n",
        "\n",
        "gimmie_recommendations(userId, num_of_movies)"
      ],
      "execution_count": 85,
      "outputs": [
        {
          "output_type": "stream",
          "text": [
            "Your ID: 80747\n",
            "How many recommenations do you want? 10\n"
          ],
          "name": "stdout"
        },
        {
          "output_type": "execute_result",
          "data": {
            "text/plain": [
              "['Dark City (1998)',\n",
              " 'Man on the Moon (1999)',\n",
              " 'Pretty Woman (1990)',\n",
              " 'Risky Business (1983)',\n",
              " 'That Thing You Do! (1996)',\n",
              " 'I.Q. (1994)',\n",
              " 'Taxi Driver (1976)',\n",
              " 'Mars Attacks! (1996)',\n",
              " 'Zombieland (2009)',\n",
              " 'Gravity (2013)']"
            ]
          },
          "metadata": {
            "tags": []
          },
          "execution_count": 85
        }
      ]
    },
    {
      "cell_type": "code",
      "metadata": {
        "colab": {
          "base_uri": "https://localhost:8080/",
          "height": 266
        },
        "id": "gne2ZraIoCPI",
        "outputId": "47dfedae-caa9-4f03-dd6a-9d16327984e4"
      },
      "source": [
        "sample_ratings[sample_ratings.userId==114710]"
      ],
      "execution_count": 120,
      "outputs": [
        {
          "output_type": "execute_result",
          "data": {
            "text/html": [
              "<div>\n",
              "<style scoped>\n",
              "    .dataframe tbody tr th:only-of-type {\n",
              "        vertical-align: middle;\n",
              "    }\n",
              "\n",
              "    .dataframe tbody tr th {\n",
              "        vertical-align: top;\n",
              "    }\n",
              "\n",
              "    .dataframe thead th {\n",
              "        text-align: right;\n",
              "    }\n",
              "</style>\n",
              "<table border=\"1\" class=\"dataframe\">\n",
              "  <thead>\n",
              "    <tr style=\"text-align: right;\">\n",
              "      <th></th>\n",
              "      <th>Unnamed: 0</th>\n",
              "      <th>Unnamed: 0.1</th>\n",
              "      <th>userId</th>\n",
              "      <th>movieId</th>\n",
              "      <th>rating</th>\n",
              "    </tr>\n",
              "  </thead>\n",
              "  <tbody>\n",
              "    <tr>\n",
              "      <th>9998</th>\n",
              "      <td>11146702</td>\n",
              "      <td>16585177</td>\n",
              "      <td>114710</td>\n",
              "      <td>2329</td>\n",
              "      <td>3.0</td>\n",
              "    </tr>\n",
              "    <tr>\n",
              "      <th>10007</th>\n",
              "      <td>841989</td>\n",
              "      <td>1251858</td>\n",
              "      <td>114710</td>\n",
              "      <td>56367</td>\n",
              "      <td>3.0</td>\n",
              "    </tr>\n",
              "    <tr>\n",
              "      <th>10008</th>\n",
              "      <td>841990</td>\n",
              "      <td>1251859</td>\n",
              "      <td>114710</td>\n",
              "      <td>3500</td>\n",
              "      <td>3.0</td>\n",
              "    </tr>\n",
              "    <tr>\n",
              "      <th>10009</th>\n",
              "      <td>841991</td>\n",
              "      <td>1251860</td>\n",
              "      <td>114710</td>\n",
              "      <td>1441</td>\n",
              "      <td>2.0</td>\n",
              "    </tr>\n",
              "    <tr>\n",
              "      <th>10010</th>\n",
              "      <td>841992</td>\n",
              "      <td>1251861</td>\n",
              "      <td>114710</td>\n",
              "      <td>354</td>\n",
              "      <td>2.0</td>\n",
              "    </tr>\n",
              "    <tr>\n",
              "      <th>10011</th>\n",
              "      <td>841993</td>\n",
              "      <td>1251862</td>\n",
              "      <td>114710</td>\n",
              "      <td>2012</td>\n",
              "      <td>1.0</td>\n",
              "    </tr>\n",
              "    <tr>\n",
              "      <th>10012</th>\n",
              "      <td>841994</td>\n",
              "      <td>1251863</td>\n",
              "      <td>114710</td>\n",
              "      <td>1831</td>\n",
              "      <td>5.0</td>\n",
              "    </tr>\n",
              "  </tbody>\n",
              "</table>\n",
              "</div>"
            ],
            "text/plain": [
              "       Unnamed: 0  Unnamed: 0.1  userId  movieId  rating\n",
              "9998     11146702      16585177  114710     2329     3.0\n",
              "10007      841989       1251858  114710    56367     3.0\n",
              "10008      841990       1251859  114710     3500     3.0\n",
              "10009      841991       1251860  114710     1441     2.0\n",
              "10010      841992       1251861  114710      354     2.0\n",
              "10011      841993       1251862  114710     2012     1.0\n",
              "10012      841994       1251863  114710     1831     5.0"
            ]
          },
          "metadata": {
            "tags": []
          },
          "execution_count": 120
        }
      ]
    },
    {
      "cell_type": "code",
      "metadata": {
        "colab": {
          "base_uri": "https://localhost:8080/",
          "height": 80
        },
        "id": "Pugyt24LijWb",
        "outputId": "d88f8171-a7b6-442e-b2cd-ef111011c875"
      },
      "source": [
        "movies_merged[movies_merged.movieId==2959]"
      ],
      "execution_count": 74,
      "outputs": [
        {
          "output_type": "execute_result",
          "data": {
            "text/html": [
              "<div>\n",
              "<style scoped>\n",
              "    .dataframe tbody tr th:only-of-type {\n",
              "        vertical-align: middle;\n",
              "    }\n",
              "\n",
              "    .dataframe tbody tr th {\n",
              "        vertical-align: top;\n",
              "    }\n",
              "\n",
              "    .dataframe thead th {\n",
              "        text-align: right;\n",
              "    }\n",
              "</style>\n",
              "<table border=\"1\" class=\"dataframe\">\n",
              "  <thead>\n",
              "    <tr style=\"text-align: right;\">\n",
              "      <th></th>\n",
              "      <th>movieId</th>\n",
              "      <th>title_year</th>\n",
              "    </tr>\n",
              "  </thead>\n",
              "  <tbody>\n",
              "    <tr>\n",
              "      <th>1700</th>\n",
              "      <td>2959</td>\n",
              "      <td>Fight Club (1999)</td>\n",
              "    </tr>\n",
              "  </tbody>\n",
              "</table>\n",
              "</div>"
            ],
            "text/plain": [
              "      movieId         title_year\n",
              "1700     2959  Fight Club (1999)"
            ]
          },
          "metadata": {
            "tags": []
          },
          "execution_count": 74
        }
      ]
    },
    {
      "cell_type": "code",
      "metadata": {
        "colab": {
          "base_uri": "https://localhost:8080/",
          "height": 419
        },
        "id": "DaJpT6NtdcKj",
        "outputId": "85524cee-44d9-4a01-f012-8268269def9c"
      },
      "source": [
        "sample_ratings.sort_values(by='rating', ascending=False)"
      ],
      "execution_count": 72,
      "outputs": [
        {
          "output_type": "execute_result",
          "data": {
            "text/html": [
              "<div>\n",
              "<style scoped>\n",
              "    .dataframe tbody tr th:only-of-type {\n",
              "        vertical-align: middle;\n",
              "    }\n",
              "\n",
              "    .dataframe tbody tr th {\n",
              "        vertical-align: top;\n",
              "    }\n",
              "\n",
              "    .dataframe thead th {\n",
              "        text-align: right;\n",
              "    }\n",
              "</style>\n",
              "<table border=\"1\" class=\"dataframe\">\n",
              "  <thead>\n",
              "    <tr style=\"text-align: right;\">\n",
              "      <th></th>\n",
              "      <th>Unnamed: 0</th>\n",
              "      <th>Unnamed: 0.1</th>\n",
              "      <th>userId</th>\n",
              "      <th>movieId</th>\n",
              "      <th>rating</th>\n",
              "    </tr>\n",
              "  </thead>\n",
              "  <tbody>\n",
              "    <tr>\n",
              "      <th>8528</th>\n",
              "      <td>4725687</td>\n",
              "      <td>7033068</td>\n",
              "      <td>48499</td>\n",
              "      <td>2959</td>\n",
              "      <td>5.0</td>\n",
              "    </tr>\n",
              "    <tr>\n",
              "      <th>5817</th>\n",
              "      <td>7777212</td>\n",
              "      <td>11575090</td>\n",
              "      <td>79935</td>\n",
              "      <td>3037</td>\n",
              "      <td>5.0</td>\n",
              "    </tr>\n",
              "    <tr>\n",
              "      <th>1084</th>\n",
              "      <td>2223397</td>\n",
              "      <td>3312974</td>\n",
              "      <td>22651</td>\n",
              "      <td>292</td>\n",
              "      <td>5.0</td>\n",
              "    </tr>\n",
              "    <tr>\n",
              "      <th>8167</th>\n",
              "      <td>9934916</td>\n",
              "      <td>14782272</td>\n",
              "      <td>102098</td>\n",
              "      <td>7482</td>\n",
              "      <td>5.0</td>\n",
              "    </tr>\n",
              "    <tr>\n",
              "      <th>5839</th>\n",
              "      <td>9991318</td>\n",
              "      <td>14866264</td>\n",
              "      <td>102699</td>\n",
              "      <td>3499</td>\n",
              "      <td>5.0</td>\n",
              "    </tr>\n",
              "    <tr>\n",
              "      <th>...</th>\n",
              "      <td>...</td>\n",
              "      <td>...</td>\n",
              "      <td>...</td>\n",
              "      <td>...</td>\n",
              "      <td>...</td>\n",
              "    </tr>\n",
              "    <tr>\n",
              "      <th>7459</th>\n",
              "      <td>6339086</td>\n",
              "      <td>9436383</td>\n",
              "      <td>65295</td>\n",
              "      <td>5452</td>\n",
              "      <td>0.5</td>\n",
              "    </tr>\n",
              "    <tr>\n",
              "      <th>932</th>\n",
              "      <td>12058409</td>\n",
              "      <td>17944279</td>\n",
              "      <td>124097</td>\n",
              "      <td>1517</td>\n",
              "      <td>0.5</td>\n",
              "    </tr>\n",
              "    <tr>\n",
              "      <th>4621</th>\n",
              "      <td>9753801</td>\n",
              "      <td>14512629</td>\n",
              "      <td>100288</td>\n",
              "      <td>52929</td>\n",
              "      <td>0.5</td>\n",
              "    </tr>\n",
              "    <tr>\n",
              "      <th>5457</th>\n",
              "      <td>9978000</td>\n",
              "      <td>14846460</td>\n",
              "      <td>102570</td>\n",
              "      <td>5991</td>\n",
              "      <td>0.5</td>\n",
              "    </tr>\n",
              "    <tr>\n",
              "      <th>6284</th>\n",
              "      <td>11643223</td>\n",
              "      <td>17326513</td>\n",
              "      <td>119791</td>\n",
              "      <td>2431</td>\n",
              "      <td>0.5</td>\n",
              "    </tr>\n",
              "  </tbody>\n",
              "</table>\n",
              "<p>10000 rows × 5 columns</p>\n",
              "</div>"
            ],
            "text/plain": [
              "      Unnamed: 0  Unnamed: 0.1  userId  movieId  rating\n",
              "8528     4725687       7033068   48499     2959     5.0\n",
              "5817     7777212      11575090   79935     3037     5.0\n",
              "1084     2223397       3312974   22651      292     5.0\n",
              "8167     9934916      14782272  102098     7482     5.0\n",
              "5839     9991318      14866264  102699     3499     5.0\n",
              "...          ...           ...     ...      ...     ...\n",
              "7459     6339086       9436383   65295     5452     0.5\n",
              "932     12058409      17944279  124097     1517     0.5\n",
              "4621     9753801      14512629  100288    52929     0.5\n",
              "5457     9978000      14846460  102570     5991     0.5\n",
              "6284    11643223      17326513  119791     2431     0.5\n",
              "\n",
              "[10000 rows x 5 columns]"
            ]
          },
          "metadata": {
            "tags": []
          },
          "execution_count": 72
        }
      ]
    },
    {
      "cell_type": "code",
      "metadata": {
        "colab": {
          "base_uri": "https://localhost:8080/",
          "height": 204
        },
        "id": "UGj4sOKTfB7x",
        "outputId": "95da810a-6372-45fe-fe8b-5fe7ee13e77a"
      },
      "source": [
        "sample_ratings.head()"
      ],
      "execution_count": 28,
      "outputs": [
        {
          "output_type": "execute_result",
          "data": {
            "text/html": [
              "<div>\n",
              "<style scoped>\n",
              "    .dataframe tbody tr th:only-of-type {\n",
              "        vertical-align: middle;\n",
              "    }\n",
              "\n",
              "    .dataframe tbody tr th {\n",
              "        vertical-align: top;\n",
              "    }\n",
              "\n",
              "    .dataframe thead th {\n",
              "        text-align: right;\n",
              "    }\n",
              "</style>\n",
              "<table border=\"1\" class=\"dataframe\">\n",
              "  <thead>\n",
              "    <tr style=\"text-align: right;\">\n",
              "      <th></th>\n",
              "      <th>Unnamed: 0</th>\n",
              "      <th>Unnamed: 0.1</th>\n",
              "      <th>userId</th>\n",
              "      <th>movieId</th>\n",
              "      <th>rating</th>\n",
              "    </tr>\n",
              "  </thead>\n",
              "  <tbody>\n",
              "    <tr>\n",
              "      <th>0</th>\n",
              "      <td>7711158</td>\n",
              "      <td>11477789</td>\n",
              "      <td>79265</td>\n",
              "      <td>1748</td>\n",
              "      <td>3.0</td>\n",
              "    </tr>\n",
              "    <tr>\n",
              "      <th>1</th>\n",
              "      <td>4556695</td>\n",
              "      <td>6781788</td>\n",
              "      <td>46650</td>\n",
              "      <td>3174</td>\n",
              "      <td>5.0</td>\n",
              "    </tr>\n",
              "    <tr>\n",
              "      <th>2</th>\n",
              "      <td>11065965</td>\n",
              "      <td>16464123</td>\n",
              "      <td>113940</td>\n",
              "      <td>597</td>\n",
              "      <td>3.5</td>\n",
              "    </tr>\n",
              "    <tr>\n",
              "      <th>3</th>\n",
              "      <td>3863554</td>\n",
              "      <td>5750330</td>\n",
              "      <td>39556</td>\n",
              "      <td>2915</td>\n",
              "      <td>5.0</td>\n",
              "    </tr>\n",
              "    <tr>\n",
              "      <th>4</th>\n",
              "      <td>11448144</td>\n",
              "      <td>17034690</td>\n",
              "      <td>117858</td>\n",
              "      <td>1042</td>\n",
              "      <td>2.5</td>\n",
              "    </tr>\n",
              "  </tbody>\n",
              "</table>\n",
              "</div>"
            ],
            "text/plain": [
              "   Unnamed: 0  Unnamed: 0.1  userId  movieId  rating\n",
              "0     7711158      11477789   79265     1748     3.0\n",
              "1     4556695       6781788   46650     3174     5.0\n",
              "2    11065965      16464123  113940      597     3.5\n",
              "3     3863554       5750330   39556     2915     5.0\n",
              "4    11448144      17034690  117858     1042     2.5"
            ]
          },
          "metadata": {
            "tags": []
          },
          "execution_count": 28
        }
      ]
    }
  ]
}