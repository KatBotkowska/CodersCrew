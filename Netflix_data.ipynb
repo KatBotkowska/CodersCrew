{
  "nbformat": 4,
  "nbformat_minor": 0,
  "metadata": {
    "colab": {
      "name": "Netflix_data.ipynb",
      "provenance": [],
      "collapsed_sections": [
        "KPrnVAh3SQSL",
        "P5nmxNc3T2s9",
        "o4jpNnrJj-Bf",
        "stnsNibnpxvu",
        "ijFglCM0r73b",
        "bmpmwU6_ACaI",
        "XWkmeu9eqbkP",
        "JXgZfv-Db-Hg",
        "-h7hkXzEviiQ",
        "9W8xArYTDiXq",
        "ayQvVo1kDsy8",
        "v63jzkQGD1Lw",
        "uL_1jfbjxCOx",
        "MU-1SgHdye9g",
        "H9cL5aNVnkIw"
      ],
      "toc_visible": true,
      "include_colab_link": true
    },
    "kernelspec": {
      "display_name": "Python 3",
      "name": "python3"
    }
  },
  "cells": [
    {
      "cell_type": "markdown",
      "metadata": {
        "id": "view-in-github",
        "colab_type": "text"
      },
      "source": [
        "<a href=\"https://colab.research.google.com/github/KatBotkowska/CodersCrew/blob/master/Netflix_data.ipynb\" target=\"_parent\"><img src=\"https://colab.research.google.com/assets/colab-badge.svg\" alt=\"Open In Colab\"/></a>"
      ]
    },
    {
      "cell_type": "markdown",
      "metadata": {
        "id": "1dYNB-8ftFWJ"
      },
      "source": [
        "#Pobranie danych z Kaggle\n"
      ]
    },
    {
      "cell_type": "markdown",
      "metadata": {
        "id": "y-dSyhk_t0ti"
      },
      "source": [
        "###https://towardsdatascience.com/downloading-datasets-into-google-drive-via-google-colab-bcb1b30b0166"
      ]
    },
    {
      "cell_type": "markdown",
      "metadata": {
        "id": "Wv9tKl95kefb"
      },
      "source": [
        "##Importy - do przeniesienia z treści niżej"
      ]
    },
    {
      "cell_type": "code",
      "metadata": {
        "id": "a709fZDUFMfc"
      },
      "source": [
        "import pandas as pd\n",
        "import numpy as np\n"
      ],
      "execution_count": null,
      "outputs": []
    },
    {
      "cell_type": "code",
      "metadata": {
        "colab": {
          "base_uri": "https://localhost:8080/"
        },
        "id": "hqDwSSzWplTI",
        "outputId": "228471c0-cfd8-490a-8c94-be0ccdb51c4d"
      },
      "source": [
        "#podłączenie google drive\n",
        "from google.colab import drive\n",
        "drive.mount('/content/gdrive')"
      ],
      "execution_count": null,
      "outputs": [
        {
          "output_type": "stream",
          "text": [
            "Mounted at /content/gdrive\n"
          ],
          "name": "stdout"
        }
      ]
    },
    {
      "cell_type": "code",
      "metadata": {
        "id": "pezF5SSlqJLm"
      },
      "source": [
        "root_path = 'gdrive/My Drive/netflix/'"
      ],
      "execution_count": null,
      "outputs": []
    },
    {
      "cell_type": "code",
      "metadata": {
        "colab": {
          "resources": {
            "http://localhost:8080/nbextensions/google.colab/files.js": {
              "data": "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",
              "ok": true,
              "headers": [
                [
                  "content-type",
                  "application/javascript"
                ]
              ],
              "status": 200,
              "status_text": ""
            }
          },
          "base_uri": "https://localhost:8080/",
          "height": 90
        },
        "id": "gRka04f8qzYk",
        "outputId": "ba2fb361-3521-400b-94d8-92bc26968260"
      },
      "source": [
        "from google.colab import files\n",
        "files.upload()  #this will prompt you to upload the kaggle.json"
      ],
      "execution_count": null,
      "outputs": [
        {
          "output_type": "display_data",
          "data": {
            "text/html": [
              "\n",
              "     <input type=\"file\" id=\"files-15ec5cd2-3289-45a8-aac1-64313e07ad54\" name=\"files[]\" multiple disabled\n",
              "        style=\"border:none\" />\n",
              "     <output id=\"result-15ec5cd2-3289-45a8-aac1-64313e07ad54\">\n",
              "      Upload widget is only available when the cell has been executed in the\n",
              "      current browser session. Please rerun this cell to enable.\n",
              "      </output>\n",
              "      <script src=\"/nbextensions/google.colab/files.js\"></script> "
            ],
            "text/plain": [
              "<IPython.core.display.HTML object>"
            ]
          },
          "metadata": {
            "tags": []
          }
        },
        {
          "output_type": "stream",
          "text": [
            "Saving kaggle.json to kaggle.json\n"
          ],
          "name": "stdout"
        },
        {
          "output_type": "execute_result",
          "data": {
            "text/plain": [
              "{'kaggle.json': b'{\"username\":\"tightprince\",\"key\":\"88e79141903d7fcb72c9bf7b07695fcf\"}'}"
            ]
          },
          "metadata": {
            "tags": []
          },
          "execution_count": 4
        }
      ]
    },
    {
      "cell_type": "code",
      "metadata": {
        "colab": {
          "base_uri": "https://localhost:8080/"
        },
        "id": "QKw8uL2brD0I",
        "outputId": "03251a01-b623-42cc-b142-1ef4051ad57d"
      },
      "source": [
        "!pip install -q kaggle\n",
        "!mkdir -p ~/.kaggle\n",
        "!cp kaggle.json ~/.kaggle/\n",
        "!ls ~/.kaggle\n",
        "!chmod 600 /root/.kaggle/kaggle.json  # set permission"
      ],
      "execution_count": null,
      "outputs": [
        {
          "output_type": "stream",
          "text": [
            "kaggle.json\n"
          ],
          "name": "stdout"
        }
      ]
    },
    {
      "cell_type": "markdown",
      "metadata": {
        "id": "KPrnVAh3SQSL"
      },
      "source": [
        "##Pobranie i rozpakowanie danych kaggle - netflix"
      ]
    },
    {
      "cell_type": "code",
      "metadata": {
        "colab": {
          "base_uri": "https://localhost:8080/"
        },
        "id": "Pfvyg-q7oHyl",
        "outputId": "2c0e7a7c-d976-4ccf-e53a-f3fe7da359be"
      },
      "source": [
        "!kaggle datasets download -d shivamb/netflix-shows"
      ],
      "execution_count": null,
      "outputs": [
        {
          "output_type": "stream",
          "text": [
            "netflix-shows.zip: Skipping, found more recently modified local copy (use --force to force download)\n"
          ],
          "name": "stdout"
        }
      ]
    },
    {
      "cell_type": "code",
      "metadata": {
        "colab": {
          "base_uri": "https://localhost:8080/"
        },
        "id": "U_F5ZGZErHTu",
        "outputId": "f2c0a944-f223-4a4e-8e9e-3a40e151d989"
      },
      "source": [
        "!unzip -q netflix-shows.zip -d [netflix]"
      ],
      "execution_count": null,
      "outputs": [
        {
          "output_type": "stream",
          "text": [
            "replace [netflix]/netflix_titles.csv? [y]es, [n]o, [A]ll, [N]one, [r]ename: y\n"
          ],
          "name": "stdout"
        }
      ]
    },
    {
      "cell_type": "markdown",
      "metadata": {
        "id": "H-ct6GMeSVk9"
      },
      "source": [
        "##Pobranie i rozpakowanie danych kaggle - imdb"
      ]
    },
    {
      "cell_type": "code",
      "metadata": {
        "colab": {
          "base_uri": "https://localhost:8080/"
        },
        "id": "wu8fuoY9Qb2t",
        "outputId": "8dce4279-4879-4c7b-fb7f-97e225249a67"
      },
      "source": [
        "!kaggle datasets download -d stefanoleone992/imdb-extensive-dataset"
      ],
      "execution_count": null,
      "outputs": [
        {
          "output_type": "stream",
          "text": [
            "Downloading imdb-extensive-dataset.zip to /content\n",
            " 91% 75.0M/82.3M [00:00<00:00, 73.1MB/s]\n",
            "100% 82.3M/82.3M [00:00<00:00, 94.3MB/s]\n"
          ],
          "name": "stdout"
        }
      ]
    },
    {
      "cell_type": "code",
      "metadata": {
        "id": "c11NHM89QnQS"
      },
      "source": [
        "!unzip -q imdb-extensive-dataset.zip -d [netflix]"
      ],
      "execution_count": null,
      "outputs": []
    },
    {
      "cell_type": "markdown",
      "metadata": {
        "id": "P5nmxNc3T2s9"
      },
      "source": [
        "##Pobranie i rozpakowanie danych kaggle - movielens"
      ]
    },
    {
      "cell_type": "code",
      "metadata": {
        "colab": {
          "base_uri": "https://localhost:8080/"
        },
        "id": "Kqy8DmmUUA4w",
        "outputId": "ce9c1309-f854-4b7f-bba0-8b83ec48495c"
      },
      "source": [
        "!kaggle datasets download -d grouplens/movielens-20m-dataset"
      ],
      "execution_count": null,
      "outputs": [
        {
          "output_type": "stream",
          "text": [
            "movielens-20m-dataset.zip: Skipping, found more recently modified local copy (use --force to force download)\n"
          ],
          "name": "stdout"
        }
      ]
    },
    {
      "cell_type": "code",
      "metadata": {
        "colab": {
          "base_uri": "https://localhost:8080/"
        },
        "id": "tOuMnfUhUE45",
        "outputId": "0e3a3ecd-7b27-41c4-cc27-5fc55005a47c"
      },
      "source": [
        "!unzip -q movielens-20m-dataset.zip -d [netflix]"
      ],
      "execution_count": null,
      "outputs": [
        {
          "output_type": "stream",
          "text": [
            "replace [netflix]/genome_scores.csv? [y]es, [n]o, [A]ll, [N]one, [r]ename: A\n"
          ],
          "name": "stdout"
        }
      ]
    },
    {
      "cell_type": "markdown",
      "metadata": {
        "id": "Lw541Vd_Slpz"
      },
      "source": [
        "##Załadowanie dataframes"
      ]
    },
    {
      "cell_type": "code",
      "metadata": {
        "id": "tEdj0XV0vODT"
      },
      "source": [
        "import pandas as pd\n",
        "#netflix_titles = pd.read_csv('/content/[netflix]/netflix_titles.csv')"
      ],
      "execution_count": null,
      "outputs": []
    },
    {
      "cell_type": "code",
      "metadata": {
        "colab": {
          "base_uri": "https://localhost:8080/"
        },
        "id": "dqqUSfiJQ-oQ",
        "outputId": "b3a8c993-0458-4245-aa69-f90b6ce6a054"
      },
      "source": [
        "imdb_movies = pd.read_csv('/content/[netflix]/IMDb movies.csv')\n",
        "imdb_names = pd.read_csv('/content/[netflix]/IMDb names.csv')\n",
        "imdb_ratings = pd.read_csv('/content/[netflix]/IMDb ratings.csv')\n",
        "imdb_title_principals = pd.read_csv('/content/[netflix]/IMDb title_principals.csv')"
      ],
      "execution_count": null,
      "outputs": [
        {
          "output_type": "stream",
          "text": [
            "/usr/local/lib/python3.6/dist-packages/IPython/core/interactiveshell.py:2718: DtypeWarning: Columns (3) have mixed types.Specify dtype option on import or set low_memory=False.\n",
            "  interactivity=interactivity, compiler=compiler, result=result)\n"
          ],
          "name": "stderr"
        }
      ]
    },
    {
      "cell_type": "code",
      "metadata": {
        "id": "zjE02Hx9UU8l",
        "colab": {
          "base_uri": "https://localhost:8080/",
          "height": 438
        },
        "outputId": "9de1feec-7de2-4bb5-dbd0-f3b63f152e72"
      },
      "source": [
        "movielens_genome_scores = pd.read_csv('/content/[netflix]/genome_scores.csv')\n",
        "movielens_genome_tags = pd.read_csv('/content/[netflix]/genome_tags.csv')\n",
        "movielens_link = pd.read_csv('/content/[netflix]/link.csv')\n",
        "movielens_movie = pd.read_csv('/content/[netflix]/movie.csv')\n",
        "movielens_rating = pd.read_csv('/content/[netflix]/rating.csv')\n",
        "movielens_tag = pd.read_csv('/content/[netflix]/tag.csv')"
      ],
      "execution_count": null,
      "outputs": [
        {
          "output_type": "error",
          "ename": "FileNotFoundError",
          "evalue": "ignored",
          "traceback": [
            "\u001b[0;31m---------------------------------------------------------------------------\u001b[0m",
            "\u001b[0;31mFileNotFoundError\u001b[0m                         Traceback (most recent call last)",
            "\u001b[0;32m<ipython-input-10-3abec3de9343>\u001b[0m in \u001b[0;36m<module>\u001b[0;34m()\u001b[0m\n\u001b[0;32m----> 1\u001b[0;31m \u001b[0mmovielens_genome_scores\u001b[0m \u001b[0;34m=\u001b[0m \u001b[0mpd\u001b[0m\u001b[0;34m.\u001b[0m\u001b[0mread_csv\u001b[0m\u001b[0;34m(\u001b[0m\u001b[0;34m'/content/[netflix]/genome_scores.csv'\u001b[0m\u001b[0;34m)\u001b[0m\u001b[0;34m\u001b[0m\u001b[0;34m\u001b[0m\u001b[0m\n\u001b[0m\u001b[1;32m      2\u001b[0m \u001b[0mmovielens_genome_tags\u001b[0m \u001b[0;34m=\u001b[0m \u001b[0mpd\u001b[0m\u001b[0;34m.\u001b[0m\u001b[0mread_csv\u001b[0m\u001b[0;34m(\u001b[0m\u001b[0;34m'/content/[netflix]/genome_tags.csv'\u001b[0m\u001b[0;34m)\u001b[0m\u001b[0;34m\u001b[0m\u001b[0;34m\u001b[0m\u001b[0m\n\u001b[1;32m      3\u001b[0m \u001b[0mmovielens_link\u001b[0m \u001b[0;34m=\u001b[0m \u001b[0mpd\u001b[0m\u001b[0;34m.\u001b[0m\u001b[0mread_csv\u001b[0m\u001b[0;34m(\u001b[0m\u001b[0;34m'/content/[netflix]/link.csv'\u001b[0m\u001b[0;34m)\u001b[0m\u001b[0;34m\u001b[0m\u001b[0;34m\u001b[0m\u001b[0m\n\u001b[1;32m      4\u001b[0m \u001b[0mmovielens_movie\u001b[0m \u001b[0;34m=\u001b[0m \u001b[0mpd\u001b[0m\u001b[0;34m.\u001b[0m\u001b[0mread_csv\u001b[0m\u001b[0;34m(\u001b[0m\u001b[0;34m'/content/[netflix]/movie.csv'\u001b[0m\u001b[0;34m)\u001b[0m\u001b[0;34m\u001b[0m\u001b[0;34m\u001b[0m\u001b[0m\n\u001b[1;32m      5\u001b[0m \u001b[0mmovielens_rating\u001b[0m \u001b[0;34m=\u001b[0m \u001b[0mpd\u001b[0m\u001b[0;34m.\u001b[0m\u001b[0mread_csv\u001b[0m\u001b[0;34m(\u001b[0m\u001b[0;34m'/content/[netflix]/rating.csv'\u001b[0m\u001b[0;34m)\u001b[0m\u001b[0;34m\u001b[0m\u001b[0;34m\u001b[0m\u001b[0m\n",
            "\u001b[0;32m/usr/local/lib/python3.6/dist-packages/pandas/io/parsers.py\u001b[0m in \u001b[0;36mread_csv\u001b[0;34m(filepath_or_buffer, sep, delimiter, header, names, index_col, usecols, squeeze, prefix, mangle_dupe_cols, dtype, engine, converters, true_values, false_values, skipinitialspace, skiprows, skipfooter, nrows, na_values, keep_default_na, na_filter, verbose, skip_blank_lines, parse_dates, infer_datetime_format, keep_date_col, date_parser, dayfirst, cache_dates, iterator, chunksize, compression, thousands, decimal, lineterminator, quotechar, quoting, doublequote, escapechar, comment, encoding, dialect, error_bad_lines, warn_bad_lines, delim_whitespace, low_memory, memory_map, float_precision)\u001b[0m\n\u001b[1;32m    686\u001b[0m     )\n\u001b[1;32m    687\u001b[0m \u001b[0;34m\u001b[0m\u001b[0m\n\u001b[0;32m--> 688\u001b[0;31m     \u001b[0;32mreturn\u001b[0m \u001b[0m_read\u001b[0m\u001b[0;34m(\u001b[0m\u001b[0mfilepath_or_buffer\u001b[0m\u001b[0;34m,\u001b[0m \u001b[0mkwds\u001b[0m\u001b[0;34m)\u001b[0m\u001b[0;34m\u001b[0m\u001b[0;34m\u001b[0m\u001b[0m\n\u001b[0m\u001b[1;32m    689\u001b[0m \u001b[0;34m\u001b[0m\u001b[0m\n\u001b[1;32m    690\u001b[0m \u001b[0;34m\u001b[0m\u001b[0m\n",
            "\u001b[0;32m/usr/local/lib/python3.6/dist-packages/pandas/io/parsers.py\u001b[0m in \u001b[0;36m_read\u001b[0;34m(filepath_or_buffer, kwds)\u001b[0m\n\u001b[1;32m    452\u001b[0m \u001b[0;34m\u001b[0m\u001b[0m\n\u001b[1;32m    453\u001b[0m     \u001b[0;31m# Create the parser.\u001b[0m\u001b[0;34m\u001b[0m\u001b[0;34m\u001b[0m\u001b[0;34m\u001b[0m\u001b[0m\n\u001b[0;32m--> 454\u001b[0;31m     \u001b[0mparser\u001b[0m \u001b[0;34m=\u001b[0m \u001b[0mTextFileReader\u001b[0m\u001b[0;34m(\u001b[0m\u001b[0mfp_or_buf\u001b[0m\u001b[0;34m,\u001b[0m \u001b[0;34m**\u001b[0m\u001b[0mkwds\u001b[0m\u001b[0;34m)\u001b[0m\u001b[0;34m\u001b[0m\u001b[0;34m\u001b[0m\u001b[0m\n\u001b[0m\u001b[1;32m    455\u001b[0m \u001b[0;34m\u001b[0m\u001b[0m\n\u001b[1;32m    456\u001b[0m     \u001b[0;32mif\u001b[0m \u001b[0mchunksize\u001b[0m \u001b[0;32mor\u001b[0m \u001b[0miterator\u001b[0m\u001b[0;34m:\u001b[0m\u001b[0;34m\u001b[0m\u001b[0;34m\u001b[0m\u001b[0m\n",
            "\u001b[0;32m/usr/local/lib/python3.6/dist-packages/pandas/io/parsers.py\u001b[0m in \u001b[0;36m__init__\u001b[0;34m(self, f, engine, **kwds)\u001b[0m\n\u001b[1;32m    946\u001b[0m             \u001b[0mself\u001b[0m\u001b[0;34m.\u001b[0m\u001b[0moptions\u001b[0m\u001b[0;34m[\u001b[0m\u001b[0;34m\"has_index_names\"\u001b[0m\u001b[0;34m]\u001b[0m \u001b[0;34m=\u001b[0m \u001b[0mkwds\u001b[0m\u001b[0;34m[\u001b[0m\u001b[0;34m\"has_index_names\"\u001b[0m\u001b[0;34m]\u001b[0m\u001b[0;34m\u001b[0m\u001b[0;34m\u001b[0m\u001b[0m\n\u001b[1;32m    947\u001b[0m \u001b[0;34m\u001b[0m\u001b[0m\n\u001b[0;32m--> 948\u001b[0;31m         \u001b[0mself\u001b[0m\u001b[0;34m.\u001b[0m\u001b[0m_make_engine\u001b[0m\u001b[0;34m(\u001b[0m\u001b[0mself\u001b[0m\u001b[0;34m.\u001b[0m\u001b[0mengine\u001b[0m\u001b[0;34m)\u001b[0m\u001b[0;34m\u001b[0m\u001b[0;34m\u001b[0m\u001b[0m\n\u001b[0m\u001b[1;32m    949\u001b[0m \u001b[0;34m\u001b[0m\u001b[0m\n\u001b[1;32m    950\u001b[0m     \u001b[0;32mdef\u001b[0m \u001b[0mclose\u001b[0m\u001b[0;34m(\u001b[0m\u001b[0mself\u001b[0m\u001b[0;34m)\u001b[0m\u001b[0;34m:\u001b[0m\u001b[0;34m\u001b[0m\u001b[0;34m\u001b[0m\u001b[0m\n",
            "\u001b[0;32m/usr/local/lib/python3.6/dist-packages/pandas/io/parsers.py\u001b[0m in \u001b[0;36m_make_engine\u001b[0;34m(self, engine)\u001b[0m\n\u001b[1;32m   1178\u001b[0m     \u001b[0;32mdef\u001b[0m \u001b[0m_make_engine\u001b[0m\u001b[0;34m(\u001b[0m\u001b[0mself\u001b[0m\u001b[0;34m,\u001b[0m \u001b[0mengine\u001b[0m\u001b[0;34m=\u001b[0m\u001b[0;34m\"c\"\u001b[0m\u001b[0;34m)\u001b[0m\u001b[0;34m:\u001b[0m\u001b[0;34m\u001b[0m\u001b[0;34m\u001b[0m\u001b[0m\n\u001b[1;32m   1179\u001b[0m         \u001b[0;32mif\u001b[0m \u001b[0mengine\u001b[0m \u001b[0;34m==\u001b[0m \u001b[0;34m\"c\"\u001b[0m\u001b[0;34m:\u001b[0m\u001b[0;34m\u001b[0m\u001b[0;34m\u001b[0m\u001b[0m\n\u001b[0;32m-> 1180\u001b[0;31m             \u001b[0mself\u001b[0m\u001b[0;34m.\u001b[0m\u001b[0m_engine\u001b[0m \u001b[0;34m=\u001b[0m \u001b[0mCParserWrapper\u001b[0m\u001b[0;34m(\u001b[0m\u001b[0mself\u001b[0m\u001b[0;34m.\u001b[0m\u001b[0mf\u001b[0m\u001b[0;34m,\u001b[0m \u001b[0;34m**\u001b[0m\u001b[0mself\u001b[0m\u001b[0;34m.\u001b[0m\u001b[0moptions\u001b[0m\u001b[0;34m)\u001b[0m\u001b[0;34m\u001b[0m\u001b[0;34m\u001b[0m\u001b[0m\n\u001b[0m\u001b[1;32m   1181\u001b[0m         \u001b[0;32melse\u001b[0m\u001b[0;34m:\u001b[0m\u001b[0;34m\u001b[0m\u001b[0;34m\u001b[0m\u001b[0m\n\u001b[1;32m   1182\u001b[0m             \u001b[0;32mif\u001b[0m \u001b[0mengine\u001b[0m \u001b[0;34m==\u001b[0m \u001b[0;34m\"python\"\u001b[0m\u001b[0;34m:\u001b[0m\u001b[0;34m\u001b[0m\u001b[0;34m\u001b[0m\u001b[0m\n",
            "\u001b[0;32m/usr/local/lib/python3.6/dist-packages/pandas/io/parsers.py\u001b[0m in \u001b[0;36m__init__\u001b[0;34m(self, src, **kwds)\u001b[0m\n\u001b[1;32m   2008\u001b[0m         \u001b[0mkwds\u001b[0m\u001b[0;34m[\u001b[0m\u001b[0;34m\"usecols\"\u001b[0m\u001b[0;34m]\u001b[0m \u001b[0;34m=\u001b[0m \u001b[0mself\u001b[0m\u001b[0;34m.\u001b[0m\u001b[0musecols\u001b[0m\u001b[0;34m\u001b[0m\u001b[0;34m\u001b[0m\u001b[0m\n\u001b[1;32m   2009\u001b[0m \u001b[0;34m\u001b[0m\u001b[0m\n\u001b[0;32m-> 2010\u001b[0;31m         \u001b[0mself\u001b[0m\u001b[0;34m.\u001b[0m\u001b[0m_reader\u001b[0m \u001b[0;34m=\u001b[0m \u001b[0mparsers\u001b[0m\u001b[0;34m.\u001b[0m\u001b[0mTextReader\u001b[0m\u001b[0;34m(\u001b[0m\u001b[0msrc\u001b[0m\u001b[0;34m,\u001b[0m \u001b[0;34m**\u001b[0m\u001b[0mkwds\u001b[0m\u001b[0;34m)\u001b[0m\u001b[0;34m\u001b[0m\u001b[0;34m\u001b[0m\u001b[0m\n\u001b[0m\u001b[1;32m   2011\u001b[0m         \u001b[0mself\u001b[0m\u001b[0;34m.\u001b[0m\u001b[0munnamed_cols\u001b[0m \u001b[0;34m=\u001b[0m \u001b[0mself\u001b[0m\u001b[0;34m.\u001b[0m\u001b[0m_reader\u001b[0m\u001b[0;34m.\u001b[0m\u001b[0munnamed_cols\u001b[0m\u001b[0;34m\u001b[0m\u001b[0;34m\u001b[0m\u001b[0m\n\u001b[1;32m   2012\u001b[0m \u001b[0;34m\u001b[0m\u001b[0m\n",
            "\u001b[0;32mpandas/_libs/parsers.pyx\u001b[0m in \u001b[0;36mpandas._libs.parsers.TextReader.__cinit__\u001b[0;34m()\u001b[0m\n",
            "\u001b[0;32mpandas/_libs/parsers.pyx\u001b[0m in \u001b[0;36mpandas._libs.parsers.TextReader._setup_parser_source\u001b[0;34m()\u001b[0m\n",
            "\u001b[0;31mFileNotFoundError\u001b[0m: [Errno 2] No such file or directory: '/content/[netflix]/genome_scores.csv'"
          ]
        }
      ]
    },
    {
      "cell_type": "markdown",
      "metadata": {
        "id": "o4jpNnrJj-Bf"
      },
      "source": [
        "##Czyszczenie danych\n",
        "zamiana wiersza z TV movie 2019 na 2019\n",
        "dtypes z object na właściwe\n",
        "NaN??\n",
        "gatunki zamiana ze stringa na listy tagów\n"
      ]
    },
    {
      "cell_type": "code",
      "metadata": {
        "id": "ANsPutvgkMWX"
      },
      "source": [
        ""
      ],
      "execution_count": null,
      "outputs": []
    },
    {
      "cell_type": "markdown",
      "metadata": {
        "id": "stnsNibnpxvu"
      },
      "source": [
        "#Netflix - podstawowe dane\n"
      ]
    },
    {
      "cell_type": "code",
      "metadata": {
        "colab": {
          "background_save": true,
          "base_uri": "https://localhost:8080/",
          "height": 162
        },
        "id": "Df1j4jqJvpat",
        "outputId": "e350d85d-37a3-424c-c2b5-80576dfd3852"
      },
      "source": [
        "netflix_titles.head()"
      ],
      "execution_count": null,
      "outputs": [
        {
          "output_type": "error",
          "ename": "NameError",
          "evalue": "ignored",
          "traceback": [
            "\u001b[0;31m---------------------------------------------------------------------------\u001b[0m",
            "\u001b[0;31mNameError\u001b[0m                                 Traceback (most recent call last)",
            "\u001b[0;32m<ipython-input-22-b85a7c3e7713>\u001b[0m in \u001b[0;36m<module>\u001b[0;34m()\u001b[0m\n\u001b[0;32m----> 1\u001b[0;31m \u001b[0mnetflix_titles\u001b[0m\u001b[0;34m.\u001b[0m\u001b[0mhead\u001b[0m\u001b[0;34m(\u001b[0m\u001b[0;34m)\u001b[0m\u001b[0;34m\u001b[0m\u001b[0;34m\u001b[0m\u001b[0m\n\u001b[0m",
            "\u001b[0;31mNameError\u001b[0m: name 'netflix_titles' is not defined"
          ]
        }
      ]
    },
    {
      "cell_type": "code",
      "metadata": {
        "id": "lR4GTaGoqm1z"
      },
      "source": [
        "netflix_titles.shape\n",
        "#rozmiary  - wiersze i kolumny"
      ],
      "execution_count": null,
      "outputs": []
    },
    {
      "cell_type": "code",
      "metadata": {
        "id": "O619TBHPp3no"
      },
      "source": [
        "netflix_titles.info()\n"
      ],
      "execution_count": null,
      "outputs": []
    },
    {
      "cell_type": "code",
      "metadata": {
        "id": "6849qabLqD-R"
      },
      "source": [
        "netflix_titles.describe()\n",
        "#trochę bez sensu, nie ma tutaj dużo danych numerycznych do podsumowań"
      ],
      "execution_count": null,
      "outputs": []
    },
    {
      "cell_type": "markdown",
      "metadata": {
        "id": "armVCGXvrsny"
      },
      "source": [
        "##Netflix dla 2019"
      ]
    },
    {
      "cell_type": "code",
      "metadata": {
        "id": "MoGZa1ttq3-C"
      },
      "source": [
        "netflix_2019 = netflix_titles.iloc[:,:][netflix_titles.release_year==2019]\n",
        "netflix_2019.head()"
      ],
      "execution_count": null,
      "outputs": []
    },
    {
      "cell_type": "code",
      "metadata": {
        "id": "W3sHrlc0rx8a"
      },
      "source": [
        "netflix_2019.shape"
      ],
      "execution_count": null,
      "outputs": []
    },
    {
      "cell_type": "code",
      "metadata": {
        "id": "olFvtc0kTMaN"
      },
      "source": [
        "imdb_movies.tail()"
      ],
      "execution_count": null,
      "outputs": []
    },
    {
      "cell_type": "markdown",
      "metadata": {
        "id": "mMPbBqGYvKQ8"
      },
      "source": [
        "##IMDB dla 2019"
      ]
    },
    {
      "cell_type": "code",
      "metadata": {
        "colab": {
          "base_uri": "https://localhost:8080/",
          "height": 702
        },
        "id": "TdJ_mhKXtODp",
        "outputId": "7d1c5ad0-e887-4761-930e-b551f02b9f4b"
      },
      "source": [
        "imdb_2019 = imdb_movies.iloc[:,:][imdb_movies.year==2019]\n",
        "imdb_2019.head()"
      ],
      "execution_count": null,
      "outputs": [
        {
          "output_type": "execute_result",
          "data": {
            "text/html": [
              "<div>\n",
              "<style scoped>\n",
              "    .dataframe tbody tr th:only-of-type {\n",
              "        vertical-align: middle;\n",
              "    }\n",
              "\n",
              "    .dataframe tbody tr th {\n",
              "        vertical-align: top;\n",
              "    }\n",
              "\n",
              "    .dataframe thead th {\n",
              "        text-align: right;\n",
              "    }\n",
              "</style>\n",
              "<table border=\"1\" class=\"dataframe\">\n",
              "  <thead>\n",
              "    <tr style=\"text-align: right;\">\n",
              "      <th></th>\n",
              "      <th>imdb_title_id</th>\n",
              "      <th>title</th>\n",
              "      <th>original_title</th>\n",
              "      <th>year</th>\n",
              "      <th>date_published</th>\n",
              "      <th>genre</th>\n",
              "      <th>duration</th>\n",
              "      <th>country</th>\n",
              "      <th>language</th>\n",
              "      <th>director</th>\n",
              "      <th>writer</th>\n",
              "      <th>production_company</th>\n",
              "      <th>actors</th>\n",
              "      <th>description</th>\n",
              "      <th>avg_vote</th>\n",
              "      <th>votes</th>\n",
              "      <th>budget</th>\n",
              "      <th>usa_gross_income</th>\n",
              "      <th>worlwide_gross_income</th>\n",
              "      <th>metascore</th>\n",
              "      <th>reviews_from_users</th>\n",
              "      <th>reviews_from_critics</th>\n",
              "    </tr>\n",
              "  </thead>\n",
              "  <tbody>\n",
              "    <tr>\n",
              "      <th>44619</th>\n",
              "      <td>tt0385887</td>\n",
              "      <td>Motherless Brooklyn - I segreti di una città</td>\n",
              "      <td>Motherless Brooklyn</td>\n",
              "      <td>2019</td>\n",
              "      <td>2019-11-07</td>\n",
              "      <td>Crime, Drama, Mystery</td>\n",
              "      <td>144</td>\n",
              "      <td>USA</td>\n",
              "      <td>English, French</td>\n",
              "      <td>Edward Norton</td>\n",
              "      <td>Edward Norton, Jonathan Lethem</td>\n",
              "      <td>Warner Bros. Pictures</td>\n",
              "      <td>Edward Norton, Gugu Mbatha-Raw, Alec Baldwin, ...</td>\n",
              "      <td>In 1950s New York, a lonely private detective ...</td>\n",
              "      <td>6.8</td>\n",
              "      <td>34759</td>\n",
              "      <td>$ 26000000</td>\n",
              "      <td>$ 9277736</td>\n",
              "      <td>$ 18477736</td>\n",
              "      <td>60.0</td>\n",
              "      <td>319.0</td>\n",
              "      <td>178.0</td>\n",
              "    </tr>\n",
              "    <tr>\n",
              "      <th>46723</th>\n",
              "      <td>tt0437086</td>\n",
              "      <td>Alita - Angelo della battaglia</td>\n",
              "      <td>Alita: Battle Angel</td>\n",
              "      <td>2019</td>\n",
              "      <td>2019-02-14</td>\n",
              "      <td>Action, Adventure, Sci-Fi</td>\n",
              "      <td>122</td>\n",
              "      <td>USA, Japan, Canada</td>\n",
              "      <td>English, Spanish</td>\n",
              "      <td>Robert Rodriguez</td>\n",
              "      <td>James Cameron, Laeta Kalogridis</td>\n",
              "      <td>Twentieth Century Fox</td>\n",
              "      <td>Rosa Salazar, Christoph Waltz, Jennifer Connel...</td>\n",
              "      <td>A deactivated cyborg is revived, but cannot re...</td>\n",
              "      <td>7.3</td>\n",
              "      <td>217183</td>\n",
              "      <td>$ 170000000</td>\n",
              "      <td>$ 85710210</td>\n",
              "      <td>$ 404852543</td>\n",
              "      <td>53.0</td>\n",
              "      <td>2757.0</td>\n",
              "      <td>368.0</td>\n",
              "    </tr>\n",
              "    <tr>\n",
              "      <th>46892</th>\n",
              "      <td>tt0441881</td>\n",
              "      <td>La battaglia di Long Tan</td>\n",
              "      <td>Danger Close: The Battle of Long Tan</td>\n",
              "      <td>2019</td>\n",
              "      <td>2019-08-08</td>\n",
              "      <td>Action, Drama, War</td>\n",
              "      <td>118</td>\n",
              "      <td>Australia</td>\n",
              "      <td>English</td>\n",
              "      <td>Kriv Stenders</td>\n",
              "      <td>Stuart Beattie, James Nicholas</td>\n",
              "      <td>Deeper Water</td>\n",
              "      <td>Travis Fimmel, Toby Blome, Alexander England, ...</td>\n",
              "      <td>In August 1966, in a Vietnamese rubber plantat...</td>\n",
              "      <td>6.8</td>\n",
              "      <td>8131</td>\n",
              "      <td>AUD 24000000</td>\n",
              "      <td>NaN</td>\n",
              "      <td>$ 2078370</td>\n",
              "      <td>NaN</td>\n",
              "      <td>204.0</td>\n",
              "      <td>31.0</td>\n",
              "    </tr>\n",
              "    <tr>\n",
              "      <th>47132</th>\n",
              "      <td>tt0448115</td>\n",
              "      <td>Shazam!</td>\n",
              "      <td>Shazam!</td>\n",
              "      <td>2019</td>\n",
              "      <td>2019-04-03</td>\n",
              "      <td>Action, Adventure, Comedy</td>\n",
              "      <td>132</td>\n",
              "      <td>USA, Canada</td>\n",
              "      <td>English, Spanish</td>\n",
              "      <td>David F. Sandberg</td>\n",
              "      <td>Henry Gayden, Henry Gayden</td>\n",
              "      <td>Warner Bros.</td>\n",
              "      <td>Zachary Levi, Mark Strong, Asher Angel, Jack D...</td>\n",
              "      <td>A newly fostered young boy in search of his mo...</td>\n",
              "      <td>7.1</td>\n",
              "      <td>240858</td>\n",
              "      <td>$ 100000000</td>\n",
              "      <td>$ 140371656</td>\n",
              "      <td>$ 365971656</td>\n",
              "      <td>71.0</td>\n",
              "      <td>2009.0</td>\n",
              "      <td>379.0</td>\n",
              "    </tr>\n",
              "    <tr>\n",
              "      <th>49759</th>\n",
              "      <td>tt0783640</td>\n",
              "      <td>Era mio figlio</td>\n",
              "      <td>The Last Full Measure</td>\n",
              "      <td>2019</td>\n",
              "      <td>2020-04-02</td>\n",
              "      <td>Drama, War</td>\n",
              "      <td>116</td>\n",
              "      <td>USA</td>\n",
              "      <td>English</td>\n",
              "      <td>Todd Robinson</td>\n",
              "      <td>Todd Robinson</td>\n",
              "      <td>Foresight Unlimited</td>\n",
              "      <td>Sebastian Stan, Alison Sudol, Asher Miles Fall...</td>\n",
              "      <td>Thirty-four years after his death, Airman Will...</td>\n",
              "      <td>6.7</td>\n",
              "      <td>5449</td>\n",
              "      <td>$ 20000000</td>\n",
              "      <td>$ 2949212</td>\n",
              "      <td>$ 3364426</td>\n",
              "      <td>51.0</td>\n",
              "      <td>163.0</td>\n",
              "      <td>44.0</td>\n",
              "    </tr>\n",
              "  </tbody>\n",
              "</table>\n",
              "</div>"
            ],
            "text/plain": [
              "      imdb_title_id  ... reviews_from_critics\n",
              "44619     tt0385887  ...                178.0\n",
              "46723     tt0437086  ...                368.0\n",
              "46892     tt0441881  ...                 31.0\n",
              "47132     tt0448115  ...                379.0\n",
              "49759     tt0783640  ...                 44.0\n",
              "\n",
              "[5 rows x 22 columns]"
            ]
          },
          "metadata": {
            "tags": []
          },
          "execution_count": 38
        }
      ]
    },
    {
      "cell_type": "markdown",
      "metadata": {
        "id": "9iicCMNXvOxV"
      },
      "source": [
        "##Łączenie IMDB i Netflix dla 2019"
      ]
    },
    {
      "cell_type": "code",
      "metadata": {
        "id": "d5wjOY88t_9i"
      },
      "source": [
        "netflix_imdb_2019 = pd.merge(netflix_2019, imdb_2019, on=['title'])\n",
        "netflix_imdb_2019.info()"
      ],
      "execution_count": null,
      "outputs": []
    },
    {
      "cell_type": "code",
      "metadata": {
        "id": "-Y0jkWkVu1lH"
      },
      "source": [
        "netflix_imdb_2019.shape"
      ],
      "execution_count": null,
      "outputs": []
    },
    {
      "cell_type": "code",
      "metadata": {
        "id": "TqpxVL1Eu8aa"
      },
      "source": [
        "netflix_imdb_2019"
      ],
      "execution_count": null,
      "outputs": []
    },
    {
      "cell_type": "markdown",
      "metadata": {
        "id": "D5ehJJTuKOSN"
      },
      "source": [
        "##Łączenie IMDB i Netflix dla wszystkich danych"
      ]
    },
    {
      "cell_type": "code",
      "metadata": {
        "id": "ysGXu_tP-onE"
      },
      "source": [
        "netflix_imdb_all = pd.merge(netflix_titles, imdb_movies, on=['title'])\n",
        "netflix_imdb_all.info()"
      ],
      "execution_count": null,
      "outputs": []
    },
    {
      "cell_type": "code",
      "metadata": {
        "id": "uASOQ4lg-4Tk"
      },
      "source": [
        "netflix_imdb_all.head()"
      ],
      "execution_count": null,
      "outputs": []
    },
    {
      "cell_type": "code",
      "metadata": {
        "id": "SCn8b73HESVA"
      },
      "source": [
        "imdb_movies.columns"
      ],
      "execution_count": null,
      "outputs": []
    },
    {
      "cell_type": "markdown",
      "metadata": {
        "id": "ijFglCM0r73b"
      },
      "source": [
        "# Szeregi czasowe - jak przez lata zmieniała się liczba wydawanych filmów? - Ewa"
      ]
    },
    {
      "cell_type": "code",
      "metadata": {
        "id": "3vcqSTlGMnL8"
      },
      "source": [
        "import pandas as pd\n",
        "imdb_movies = pd.read_csv('/content/[netflix]/IMDb movies.csv')\n",
        "\n",
        "imdb_movies.head()"
      ],
      "execution_count": null,
      "outputs": []
    },
    {
      "cell_type": "code",
      "metadata": {
        "id": "siW3H3i_a3iP"
      },
      "source": [
        "imdb_movies.dtypes"
      ],
      "execution_count": null,
      "outputs": []
    },
    {
      "cell_type": "code",
      "metadata": {
        "id": "vABCL5oDSef9"
      },
      "source": [
        "imdb_movies.groupby('year').imdb_title_id.count()"
      ],
      "execution_count": null,
      "outputs": []
    },
    {
      "cell_type": "code",
      "metadata": {
        "id": "KVsQDllESnRq"
      },
      "source": [
        "imdb_movies[imdb_movies.year == 'TV Movie 2019']"
      ],
      "execution_count": null,
      "outputs": []
    },
    {
      "cell_type": "code",
      "metadata": {
        "id": "QOdsNCNdfb2L"
      },
      "source": [
        "imdb_movies.loc[83917, 'year'] = 2019\n",
        "imdb_movies.year = imdb_movies.year.astype('int')\n",
        "imdb_movies.dtypes"
      ],
      "execution_count": null,
      "outputs": []
    },
    {
      "cell_type": "code",
      "metadata": {
        "id": "A2QdjzSrFjYz"
      },
      "source": [
        "data_year_plot = imdb_movies.groupby('year').imdb_title_id.count()\n",
        "data_year_plot.tail(20)"
      ],
      "execution_count": null,
      "outputs": []
    },
    {
      "cell_type": "code",
      "metadata": {
        "id": "_jrIez2bI9-u"
      },
      "source": [
        "import matplotlib.pyplot as plt\n",
        "\n",
        "data_year_plot.plot()\n",
        "plt.show()"
      ],
      "execution_count": null,
      "outputs": []
    },
    {
      "cell_type": "code",
      "metadata": {
        "id": "A7TL9mP8M_Y1"
      },
      "source": [
        "data_year_plot_from2004 = imdb_movies[imdb_movies.year > 2004].groupby('year').imdb_title_id.count()\n",
        "data_year_plot_from2004.plot()\n",
        "\n",
        "# chyba nie ma sensu brać do analizy roku 2020. zastanawiam się nad 2019 - czy przez covida tak mało, czy też braki danych."
      ],
      "execution_count": null,
      "outputs": []
    },
    {
      "cell_type": "code",
      "metadata": {
        "id": "kTgraRHUPsGe"
      },
      "source": [
        "data_year_plot_to2009 = imdb_movies[imdb_movies.year <= 2009].groupby('year').imdb_title_id.count()\n",
        "data_year_plot_to2009.plot()"
      ],
      "execution_count": null,
      "outputs": []
    },
    {
      "cell_type": "code",
      "metadata": {
        "id": "NbISeXt-SMVp"
      },
      "source": [
        "imdb_movies.loc[83917, 'date_published'] = '2019-01-01' #ustawiam 1 stycznia jako datę publikacji tego dziwnego filmu\n",
        "\n",
        "pd.to_datetime(imdb_movies['date_published'])"
      ],
      "execution_count": null,
      "outputs": []
    },
    {
      "cell_type": "code",
      "metadata": {
        "id": "t0oFWhICgrjW"
      },
      "source": [
        "imdb_movies['date_published'].dt.year #nie wiem czemu wyskakuje błąd, dkoro wyżej widać, że ta kolumna już jest typem datetime"
      ],
      "execution_count": null,
      "outputs": []
    },
    {
      "cell_type": "markdown",
      "metadata": {
        "id": "bmpmwU6_ACaI"
      },
      "source": [
        "#Na lata jakie rodzaje filmów dominują, jakie trendy w gatunkach - KASIA"
      ]
    },
    {
      "cell_type": "code",
      "metadata": {
        "id": "APwgW3KEBXRq"
      },
      "source": [
        "\n",
        "imdb_movies = pd.read_csv('/content/[netflix]/IMDb movies.csv')"
      ],
      "execution_count": null,
      "outputs": []
    },
    {
      "cell_type": "markdown",
      "metadata": {
        "id": "Ee9TwsOE0hTn"
      },
      "source": [
        "##Najczęściej występujące gatunki"
      ]
    },
    {
      "cell_type": "code",
      "metadata": {
        "id": "u3aQR491zWfm"
      },
      "source": [
        "imdb_movies['genre'].value_counts().head(10)"
      ],
      "execution_count": null,
      "outputs": []
    },
    {
      "cell_type": "code",
      "metadata": {
        "id": "tJYv5nus0scN"
      },
      "source": [
        "ax = imdb_movies['genre'].value_counts().head().plot.barh( rot=0)"
      ],
      "execution_count": null,
      "outputs": []
    },
    {
      "cell_type": "markdown",
      "metadata": {
        "id": "ojWDmviQKbiG"
      },
      "source": [
        "##Ilość gatunków w poszczególnych latach\n",
        "Widać, że gatunki to 'tagi' opisujące film, do jednego filmu przypisuje się coraz więcej gatunków."
      ]
    },
    {
      "cell_type": "code",
      "metadata": {
        "id": "-_kyEAbU5mm8"
      },
      "source": [
        "#ilość gatunków w poszczególnych latach\n",
        "imdb_movies.groupby('year').genre.count().tail(20)"
      ],
      "execution_count": null,
      "outputs": []
    },
    {
      "cell_type": "markdown",
      "metadata": {
        "id": "Sn1tb4BtKzUT"
      },
      "source": [
        "##Lista wszystkich gatunków"
      ]
    },
    {
      "cell_type": "code",
      "metadata": {
        "id": "82I-qUUGBMoK"
      },
      "source": [
        "genres = imdb_movies['genre'].unique().tolist()\n",
        "genres_all=[]\n",
        "for genre in genres:\n",
        "    for elem in genre.split(','):\n",
        "        genres_all.append(elem.strip())\n",
        "genres_all=list(set(genres_all))\n",
        "genres_all"
      ],
      "execution_count": null,
      "outputs": []
    },
    {
      "cell_type": "markdown",
      "metadata": {
        "id": "A_J_Hd28K4bM"
      },
      "source": [
        "##Unikalne gatunki - najbardziej popularne"
      ]
    },
    {
      "cell_type": "code",
      "metadata": {
        "id": "5lP5rdkz0ODz"
      },
      "source": [
        "genres = imdb_movies['genre'].tolist()\n",
        "genres_count=[]\n",
        "for genre in genres:\n",
        "    for elem in genre.split(','):\n",
        "        genres_all.append(elem.strip())\n",
        "genres_count=list(genres_all)\n",
        "from collections import Counter\n",
        "genres_count_all=pd.DataFrame.from_dict(Counter(genres_count), orient='index')\n",
        "genres_count_all.rename(columns={'index':'genres', 0:'occurences'}, inplace=True)\n",
        "genres_count_all.sort_values(by='occurences', ascending=False)\n"
      ],
      "execution_count": null,
      "outputs": []
    },
    {
      "cell_type": "code",
      "metadata": {
        "id": "UMXPsvKM8D-H"
      },
      "source": [
        "ax = genres_count_all.sort_values(by='occurences', ascending=False).head().plot.barh(rot=1, title='Genres by occurences')\n",
        "ax.set_xlabel('occurences')\n",
        "#ax.set_ylabel()\n"
      ],
      "execution_count": null,
      "outputs": []
    },
    {
      "cell_type": "markdown",
      "metadata": {
        "id": "UjJRFNeCLFqe"
      },
      "source": [
        "##Gatunki na lata"
      ]
    },
    {
      "cell_type": "code",
      "metadata": {
        "id": "bVhGrZJZ7MKy"
      },
      "source": [
        "imdb_movies['genre_list']=imdb_movies['genre'].str.split(',', n=5)\n",
        "#imdb_movies['genre_list'].value_counts().head(10)"
      ],
      "execution_count": null,
      "outputs": []
    },
    {
      "cell_type": "code",
      "metadata": {
        "id": "mPd8iPIY4RQu"
      },
      "source": [
        "genres_by_years=imdb_movies[['genre', 'year']].groupby(['year', 'genre'], as_index=True)['genre'].count()\n",
        "genres_by_years.tail(100)"
      ],
      "execution_count": null,
      "outputs": []
    },
    {
      "cell_type": "code",
      "metadata": {
        "id": "c8HjtJ98MNjM"
      },
      "source": [
        "#dla roku 2019 zamiana str gatunków na listę\n",
        "genres_split_by_years=imdb_movies[['genre', 'year', 'imdb_title_id']]\n",
        "genres_split_by_years[genres_split_by_years['year']=='2019']\n",
        "genres = genres_split_by_years['genre']\n",
        "\n",
        "new_genres=[]\n",
        "for genre in genres.to_list():\n",
        "    genre = genre.split(',')\n",
        "    new_genres.append(genre)\n",
        "\n",
        "genres_split_by_years['new_genre']=new_genres\n",
        "genres_split_by_years\n"
      ],
      "execution_count": null,
      "outputs": []
    },
    {
      "cell_type": "code",
      "metadata": {
        "id": "2hhtVmBZUtGd"
      },
      "source": [
        "genres_in_2019 = genres_split_by_years[genres_split_by_years['year']=='2019']\n",
        "genres_2019=genres_in_2019['new_genre'].to_list()\n",
        "genres_2019"
      ],
      "execution_count": null,
      "outputs": []
    },
    {
      "cell_type": "code",
      "metadata": {
        "id": "BUR-mP61MN1_"
      },
      "source": [
        "genres_count=[]\n",
        "genres_all=[]\n",
        "for genres in genres_2019:\n",
        "    for genre in genres:\n",
        "        genres_all.append(genre)\n",
        "genres_count_2019=list(genres_all)\n",
        "from collections import Counter\n",
        "genres_count_all_2019=pd.DataFrame.from_dict(Counter(genres_count_2019), orient='index')\n",
        "genres_count_all_2019.rename(columns={'index':'genres', 0:'occurences'}, inplace=True)\n",
        "\n",
        "genres_count_all_2019.sort_values(by='occurences', ascending=False)"
      ],
      "execution_count": null,
      "outputs": []
    },
    {
      "cell_type": "code",
      "metadata": {
        "id": "8HiGmz9haaqW"
      },
      "source": [
        "#Genres by years\n",
        "\n",
        "table={}\n",
        "years = ['2010', '2011', '2012','2013','2014','2015','2016', '2017','2018','2019']\n",
        "genres = ['Drama', 'Comedy', 'Romance', 'Action', 'Thriller','Crime', 'Horror']\n",
        "\n",
        "for year in years:\n",
        "\n",
        "    genres_in_year = genres_split_by_years[genres_split_by_years['year']==year]['new_genre']\n",
        "    genres_in_year=[item.strip() for sublist in genres_in_year for item in sublist]\n",
        "    table[year]={}\n",
        "    for genre in genres: ##genres_all nie działa???\n",
        "        table[year][genre]=genres_in_year.count(genre)\n",
        "\n",
        "genres_in_years = pd.DataFrame(table)\n",
        "genres_in_years\n",
        "   \n",
        "\n"
      ],
      "execution_count": null,
      "outputs": []
    },
    {
      "cell_type": "code",
      "metadata": {
        "id": "ldFdbsHHGEKT"
      },
      "source": [
        "genres_in_years.T.plot()"
      ],
      "execution_count": null,
      "outputs": []
    },
    {
      "cell_type": "code",
      "metadata": {
        "id": "dsXxLCagzguI"
      },
      "source": [
        "#sprawdzenie roku 2010\n",
        "genres_in_2010 = genres_split_by_years[genres_split_by_years['year']=='2010']\n",
        "genres_2010=genres_in_2010['new_genre'].to_list()\n",
        "genres_2010"
      ],
      "execution_count": null,
      "outputs": []
    },
    {
      "cell_type": "code",
      "metadata": {
        "id": "k1B20Xdv0SSY"
      },
      "source": [
        "data_year_plot = imdb_movies.groupby('year').imdb_title_id.count()\n",
        "data_year_plot.tail(20)"
      ],
      "execution_count": null,
      "outputs": []
    },
    {
      "cell_type": "markdown",
      "metadata": {
        "id": "XWkmeu9eqbkP"
      },
      "source": [
        "# Jakie kraje dominują w produkcji filmów  - które wypuszczają najwięcej filmów, i z 5 największych zrobić szeregi czasowe - GRZESIEK"
      ]
    },
    {
      "cell_type": "code",
      "metadata": {
        "id": "MLi7rdX7KBaz"
      },
      "source": [
        "import pandas as pd\n",
        "imdb_movies = pd.read_csv('/content/[netflix]/IMDb movies.csv')"
      ],
      "execution_count": null,
      "outputs": []
    },
    {
      "cell_type": "code",
      "metadata": {
        "id": "qZcOsQSZdqyX"
      },
      "source": [
        "''' \n",
        "Po pierwsze, te kraje są bardzo dziwne. Po drugie nie jestem \n",
        "w stanie określić która firma produkcyjna należy do danego kraju. \n",
        "Po trzecie te wszystkie kraje pokazują gdzie filmy zostały nakręcone.\n",
        "'''\n",
        "imdb_movies['country'].value_counts().head(10)"
      ],
      "execution_count": null,
      "outputs": []
    },
    {
      "cell_type": "code",
      "metadata": {
        "id": "ojV2XmGcIYIs"
      },
      "source": [
        "'''\n",
        "Te wykresy są okej, ale później jest coś nie tak...\n",
        "'''\n",
        "import matplotlib.pyplot as plt\n",
        "import seaborn as sn\n",
        "chart_country = imdb_movies['country'].value_counts().head(10)\n",
        "chart_country.plot(kind='barh', figsize=(16,8), fontsize=13)\n",
        "plt.title(\"Where the movies were filmed\", fontsize=10)\n",
        "plt.xlabel('Number of movies')\n",
        "plt.ylabel('Countries')\n",
        "plt.show()"
      ],
      "execution_count": null,
      "outputs": []
    },
    {
      "cell_type": "code",
      "metadata": {
        "id": "LSg7AO4gIfpa"
      },
      "source": [
        "'''\n",
        "Jak tutaj widzimy że daty się pomieszały. Spróbowałem sortować datę i nie jestem w stanie tego naprawić.\n",
        "'''\n",
        "imdb_movies.groupby('year').country.count().plot()"
      ],
      "execution_count": null,
      "outputs": []
    },
    {
      "cell_type": "code",
      "metadata": {
        "id": "MClRb_24Po-N"
      },
      "source": [
        "countries_new = imdb_movies[['year', 'country']]\n",
        "countries_new"
      ],
      "execution_count": null,
      "outputs": []
    },
    {
      "cell_type": "code",
      "metadata": {
        "id": "vrCPOu_RKcgm"
      },
      "source": [
        "'''\n",
        "Teraz sprawdzam produkcję filmu. Jak widać że czołowe firmy należą do USA oprócz Mosfilm i Canal+.\n",
        "'''\n",
        "imdb_movies['production_company'].value_counts().head(20)"
      ],
      "execution_count": null,
      "outputs": []
    },
    {
      "cell_type": "code",
      "metadata": {
        "id": "Td9iHHRRRxCq"
      },
      "source": [
        "imdb_production = imdb_movies['production_company'].value_counts()\n",
        "imdb_production.iloc[:10].plot(kind='barh',figsize=(16,8),fontsize=13)\n",
        "plt.title(\"production companies and number of movies\",fontsize=15)\n",
        "plt.xlabel('number of movies',fontsize=14)\n",
        "sn.set_style(\"whitegrid\")"
      ],
      "execution_count": null,
      "outputs": []
    },
    {
      "cell_type": "code",
      "metadata": {
        "id": "9hUuPuVSI8OU"
      },
      "source": [
        "'''\n",
        "Tutaj niestety jest za mało kolumn żeby określić w których krajach produkowali najwięcej \n",
        "filmików, więc sprawdzam które produkcje filmowe zostały najbardziej ocenione.\n",
        "'''\n",
        "imdb_movies.corr()"
      ],
      "execution_count": null,
      "outputs": []
    },
    {
      "cell_type": "code",
      "metadata": {
        "id": "j5ZcwPqfI7Cd"
      },
      "source": [
        "movie_sliced = imdb_movies[0:1000]\n",
        "\n",
        "\n",
        "plt.figure(figsize=(15,15))\n",
        "sn.swarmplot(x='avg_vote', y='country', data = movie_sliced)\n",
        "plt.title ('Which countries have the best productions?', fontsize=20, fontweight='bold')\n",
        "plt.xlabel('Score')\n",
        "plt.ylabel('Country')\n",
        "plt.show()"
      ],
      "execution_count": null,
      "outputs": []
    },
    {
      "cell_type": "markdown",
      "metadata": {
        "id": "JXgZfv-Db-Hg"
      },
      "source": [
        "#Ile przypadków, że scenarzysta jest jednocześnie reżyserem w filmie - EWA"
      ]
    },
    {
      "cell_type": "code",
      "metadata": {
        "id": "mE0CtFgfhGGl"
      },
      "source": [
        "imdb_movies = pd.read_csv('/content/[netflix]/IMDb movies.csv')"
      ],
      "execution_count": null,
      "outputs": []
    },
    {
      "cell_type": "code",
      "metadata": {
        "id": "iJMvZD-dljyz"
      },
      "source": [
        "imdb_movies[imdb_movies.writer == imdb_movies.director].director.count()\r\n",
        "# to tak prosto, czyli odpowiada na postawione pytanie, \r\n",
        "# ale tylko wtedy jeśli jest jeden reżyser i jeden scenarzysta."
      ],
      "execution_count": null,
      "outputs": []
    },
    {
      "cell_type": "code",
      "metadata": {
        "id": "ROp-ak4tmSTR"
      },
      "source": [
        "imdb_movies['writer_1'] = imdb_movies.writer.str.split(pat=',', expand=True)[0]\r\n",
        "imdb_movies['writer_2'] = imdb_movies.writer.str.split(pat=',', expand=True)[1]\r\n",
        "imdb_movies[['writer_1', 'writer_2']]"
      ],
      "execution_count": null,
      "outputs": []
    },
    {
      "cell_type": "code",
      "metadata": {
        "id": "rkZM8CsByU5A"
      },
      "source": [
        "imdb_movies['director_1'] = imdb_movies.director.str.split(pat=',', expand=True)[0]\r\n",
        "imdb_movies['director_2'] = imdb_movies.director.str.split(pat=',', expand=True)[1]\r\n",
        "imdb_movies[['director_1', 'director_2']]"
      ],
      "execution_count": null,
      "outputs": []
    },
    {
      "cell_type": "code",
      "metadata": {
        "id": "r_LE6nvHy14c"
      },
      "source": [
        "# tu taki brzydki długi warunek :)\r\n",
        "# ale wydaje mi się, że dobrze porównuje i zlicza wyżej utworzone kolumny\r\n",
        "\r\n",
        "imdb_movies[(imdb_movies.writer_1 == imdb_movies.director_1) | \r\n",
        "        (imdb_movies.writer_1 == imdb_movies.director_2) | \r\n",
        "        (imdb_movies.writer_2 == imdb_movies.director_1) | \r\n",
        "        (imdb_movies.writer_2 == imdb_movies.director_2)].imdb_title_id.count()"
      ],
      "execution_count": null,
      "outputs": []
    },
    {
      "cell_type": "markdown",
      "metadata": {
        "id": "B0KEiQ-icEhG"
      },
      "source": [
        "#Reżyser - z największymi średnimi głosów, największa liczba głosów - KASIA"
      ]
    },
    {
      "cell_type": "code",
      "metadata": {
        "id": "olzrjnGZM5Th",
        "colab": {
          "base_uri": "https://localhost:8080/"
        },
        "outputId": "b68ed2b3-a1fd-44e4-a207-9b27007c0655"
      },
      "source": [
        "imdb_movies = pd.read_csv('/content/[netflix]/IMDb movies.csv')"
      ],
      "execution_count": null,
      "outputs": [
        {
          "output_type": "stream",
          "text": [
            "/usr/local/lib/python3.6/dist-packages/IPython/core/interactiveshell.py:2718: DtypeWarning: Columns (3) have mixed types.Specify dtype option on import or set low_memory=False.\n",
            "  interactivity=interactivity, compiler=compiler, result=result)\n"
          ],
          "name": "stderr"
        }
      ]
    },
    {
      "cell_type": "code",
      "metadata": {
        "id": "7w8lBzLteXAP",
        "colab": {
          "base_uri": "https://localhost:8080/"
        },
        "outputId": "59eb8606-46ce-4d9c-f9a4-6ccfbc372475"
      },
      "source": [
        "imdb_movies.columns"
      ],
      "execution_count": null,
      "outputs": [
        {
          "output_type": "execute_result",
          "data": {
            "text/plain": [
              "Index(['imdb_title_id', 'title', 'original_title', 'year', 'date_published',\n",
              "       'genre', 'duration', 'country', 'language', 'director', 'writer',\n",
              "       'production_company', 'actors', 'description', 'avg_vote', 'votes',\n",
              "       'budget', 'usa_gross_income', 'worlwide_gross_income', 'metascore',\n",
              "       'reviews_from_users', 'reviews_from_critics'],\n",
              "      dtype='object')"
            ]
          },
          "metadata": {
            "tags": []
          },
          "execution_count": 41
        }
      ]
    },
    {
      "cell_type": "code",
      "metadata": {
        "id": "i-xNUUc2Ea33",
        "colab": {
          "base_uri": "https://localhost:8080/",
          "height": 373
        },
        "outputId": "201e25e5-de30-496e-fa10-30bb11b307ec"
      },
      "source": [
        "#Reżyserzy z największą średnią ocen, którzy nakręcili więcej niż 5 filmów\n",
        "imdb_directors_av_votes=imdb_movies[['director','avg_vote']].groupby('director').agg(['count', 'mean']).reset_index()\n",
        "imdb_directors_av_votes[imdb_directors_av_votes['avg_vote']['count']>5].sort_values(by=('avg_vote','mean'), ascending=False).reset_index().head(10)"
      ],
      "execution_count": null,
      "outputs": [
        {
          "output_type": "execute_result",
          "data": {
            "text/html": [
              "<div>\n",
              "<style scoped>\n",
              "    .dataframe tbody tr th:only-of-type {\n",
              "        vertical-align: middle;\n",
              "    }\n",
              "\n",
              "    .dataframe tbody tr th {\n",
              "        vertical-align: top;\n",
              "    }\n",
              "\n",
              "    .dataframe thead tr th {\n",
              "        text-align: left;\n",
              "    }\n",
              "</style>\n",
              "<table border=\"1\" class=\"dataframe\">\n",
              "  <thead>\n",
              "    <tr>\n",
              "      <th></th>\n",
              "      <th>index</th>\n",
              "      <th>director</th>\n",
              "      <th colspan=\"2\" halign=\"left\">avg_vote</th>\n",
              "    </tr>\n",
              "    <tr>\n",
              "      <th></th>\n",
              "      <th></th>\n",
              "      <th></th>\n",
              "      <th>count</th>\n",
              "      <th>mean</th>\n",
              "    </tr>\n",
              "  </thead>\n",
              "  <tbody>\n",
              "    <tr>\n",
              "      <th>0</th>\n",
              "      <td>5749</td>\n",
              "      <td>Christopher Nolan</td>\n",
              "      <td>11</td>\n",
              "      <td>8.218182</td>\n",
              "    </tr>\n",
              "    <tr>\n",
              "      <th>1</th>\n",
              "      <td>28854</td>\n",
              "      <td>Satyajit Ray</td>\n",
              "      <td>28</td>\n",
              "      <td>8.025000</td>\n",
              "    </tr>\n",
              "    <tr>\n",
              "      <th>2</th>\n",
              "      <td>1753</td>\n",
              "      <td>Andrei Tarkovsky</td>\n",
              "      <td>7</td>\n",
              "      <td>8.014286</td>\n",
              "    </tr>\n",
              "    <tr>\n",
              "      <th>3</th>\n",
              "      <td>12193</td>\n",
              "      <td>Hayao Miyazaki</td>\n",
              "      <td>12</td>\n",
              "      <td>8.008333</td>\n",
              "    </tr>\n",
              "    <tr>\n",
              "      <th>4</th>\n",
              "      <td>29269</td>\n",
              "      <td>Sergio Leone</td>\n",
              "      <td>7</td>\n",
              "      <td>7.928571</td>\n",
              "    </tr>\n",
              "    <tr>\n",
              "      <th>5</th>\n",
              "      <td>12725</td>\n",
              "      <td>Humayun Ahmed</td>\n",
              "      <td>7</td>\n",
              "      <td>7.900000</td>\n",
              "    </tr>\n",
              "    <tr>\n",
              "      <th>6</th>\n",
              "      <td>13739</td>\n",
              "      <td>James Cameron</td>\n",
              "      <td>7</td>\n",
              "      <td>7.885714</td>\n",
              "    </tr>\n",
              "    <tr>\n",
              "      <th>7</th>\n",
              "      <td>25895</td>\n",
              "      <td>Quentin Tarantino</td>\n",
              "      <td>12</td>\n",
              "      <td>7.858333</td>\n",
              "    </tr>\n",
              "    <tr>\n",
              "      <th>8</th>\n",
              "      <td>31398</td>\n",
              "      <td>Tengiz Abuladze</td>\n",
              "      <td>6</td>\n",
              "      <td>7.850000</td>\n",
              "    </tr>\n",
              "    <tr>\n",
              "      <th>9</th>\n",
              "      <td>29214</td>\n",
              "      <td>Sergey A.</td>\n",
              "      <td>24</td>\n",
              "      <td>7.850000</td>\n",
              "    </tr>\n",
              "  </tbody>\n",
              "</table>\n",
              "</div>"
            ],
            "text/plain": [
              "   index           director avg_vote          \n",
              "                               count      mean\n",
              "0   5749  Christopher Nolan       11  8.218182\n",
              "1  28854       Satyajit Ray       28  8.025000\n",
              "2   1753   Andrei Tarkovsky        7  8.014286\n",
              "3  12193     Hayao Miyazaki       12  8.008333\n",
              "4  29269       Sergio Leone        7  7.928571\n",
              "5  12725      Humayun Ahmed        7  7.900000\n",
              "6  13739      James Cameron        7  7.885714\n",
              "7  25895  Quentin Tarantino       12  7.858333\n",
              "8  31398    Tengiz Abuladze        6  7.850000\n",
              "9  29214          Sergey A.       24  7.850000"
            ]
          },
          "metadata": {
            "tags": []
          },
          "execution_count": 42
        }
      ]
    },
    {
      "cell_type": "code",
      "metadata": {
        "id": "ex0nfPXVpbSt",
        "colab": {
          "base_uri": "https://localhost:8080/",
          "height": 373
        },
        "outputId": "0c60f367-ebe0-4c67-d7be-07990d2eac64"
      },
      "source": [
        "#reżyserzy, którzy kręcą dużo i źle ;)\n",
        "imdb_directors_av_votes[imdb_directors_av_votes['avg_vote']['count']>10].sort_values(by=('avg_vote','mean'), ascending=True).head(10)"
      ],
      "execution_count": null,
      "outputs": [
        {
          "output_type": "execute_result",
          "data": {
            "text/html": [
              "<div>\n",
              "<style scoped>\n",
              "    .dataframe tbody tr th:only-of-type {\n",
              "        vertical-align: middle;\n",
              "    }\n",
              "\n",
              "    .dataframe tbody tr th {\n",
              "        vertical-align: top;\n",
              "    }\n",
              "\n",
              "    .dataframe thead tr th {\n",
              "        text-align: left;\n",
              "    }\n",
              "</style>\n",
              "<table border=\"1\" class=\"dataframe\">\n",
              "  <thead>\n",
              "    <tr>\n",
              "      <th></th>\n",
              "      <th>director</th>\n",
              "      <th colspan=\"2\" halign=\"left\">avg_vote</th>\n",
              "    </tr>\n",
              "    <tr>\n",
              "      <th></th>\n",
              "      <th></th>\n",
              "      <th>count</th>\n",
              "      <th>mean</th>\n",
              "    </tr>\n",
              "  </thead>\n",
              "  <tbody>\n",
              "    <tr>\n",
              "      <th>4153</th>\n",
              "      <td>Brett Kelly</td>\n",
              "      <td>18</td>\n",
              "      <td>1.533333</td>\n",
              "    </tr>\n",
              "    <tr>\n",
              "      <th>26614</th>\n",
              "      <td>Rene Perez</td>\n",
              "      <td>18</td>\n",
              "      <td>2.805556</td>\n",
              "    </tr>\n",
              "    <tr>\n",
              "      <th>14121</th>\n",
              "      <td>Jared Cohn</td>\n",
              "      <td>16</td>\n",
              "      <td>2.943750</td>\n",
              "    </tr>\n",
              "    <tr>\n",
              "      <th>20607</th>\n",
              "      <td>Mark Atkins</td>\n",
              "      <td>12</td>\n",
              "      <td>3.066667</td>\n",
              "    </tr>\n",
              "    <tr>\n",
              "      <th>1831</th>\n",
              "      <td>Andrew Jones</td>\n",
              "      <td>24</td>\n",
              "      <td>3.241667</td>\n",
              "    </tr>\n",
              "    <tr>\n",
              "      <th>7102</th>\n",
              "      <td>David DeCoteau</td>\n",
              "      <td>44</td>\n",
              "      <td>3.259091</td>\n",
              "    </tr>\n",
              "    <tr>\n",
              "      <th>30577</th>\n",
              "      <td>Steven M. Smith</td>\n",
              "      <td>12</td>\n",
              "      <td>3.266667</td>\n",
              "    </tr>\n",
              "    <tr>\n",
              "      <th>6933</th>\n",
              "      <td>Daryush Shokof</td>\n",
              "      <td>11</td>\n",
              "      <td>3.318182</td>\n",
              "    </tr>\n",
              "    <tr>\n",
              "      <th>18975</th>\n",
              "      <td>Leigh Scott</td>\n",
              "      <td>12</td>\n",
              "      <td>3.341667</td>\n",
              "    </tr>\n",
              "    <tr>\n",
              "      <th>27025</th>\n",
              "      <td>Rick Sloane</td>\n",
              "      <td>11</td>\n",
              "      <td>3.400000</td>\n",
              "    </tr>\n",
              "  </tbody>\n",
              "</table>\n",
              "</div>"
            ],
            "text/plain": [
              "              director avg_vote          \n",
              "                          count      mean\n",
              "4153       Brett Kelly       18  1.533333\n",
              "26614       Rene Perez       18  2.805556\n",
              "14121       Jared Cohn       16  2.943750\n",
              "20607      Mark Atkins       12  3.066667\n",
              "1831      Andrew Jones       24  3.241667\n",
              "7102    David DeCoteau       44  3.259091\n",
              "30577  Steven M. Smith       12  3.266667\n",
              "6933    Daryush Shokof       11  3.318182\n",
              "18975      Leigh Scott       12  3.341667\n",
              "27025      Rick Sloane       11  3.400000"
            ]
          },
          "metadata": {
            "tags": []
          },
          "execution_count": 43
        }
      ]
    },
    {
      "cell_type": "code",
      "metadata": {
        "id": "NnJMXP8EpGDp",
        "colab": {
          "base_uri": "https://localhost:8080/",
          "height": 373
        },
        "outputId": "57537bb5-2fad-436f-81b3-0105c11aa255"
      },
      "source": [
        "#jakie oceny dostają reżyserzy którzy idą 'na ilość'\n",
        "imdb_directors_av_votes[imdb_directors_av_votes['avg_vote']['count']>5].sort_values(by=('avg_vote','count'), ascending=False).head(10)"
      ],
      "execution_count": null,
      "outputs": [
        {
          "output_type": "execute_result",
          "data": {
            "text/html": [
              "<div>\n",
              "<style scoped>\n",
              "    .dataframe tbody tr th:only-of-type {\n",
              "        vertical-align: middle;\n",
              "    }\n",
              "\n",
              "    .dataframe tbody tr th {\n",
              "        vertical-align: top;\n",
              "    }\n",
              "\n",
              "    .dataframe thead tr th {\n",
              "        text-align: left;\n",
              "    }\n",
              "</style>\n",
              "<table border=\"1\" class=\"dataframe\">\n",
              "  <thead>\n",
              "    <tr>\n",
              "      <th></th>\n",
              "      <th>director</th>\n",
              "      <th colspan=\"2\" halign=\"left\">avg_vote</th>\n",
              "    </tr>\n",
              "    <tr>\n",
              "      <th></th>\n",
              "      <th></th>\n",
              "      <th>count</th>\n",
              "      <th>mean</th>\n",
              "    </tr>\n",
              "  </thead>\n",
              "  <tbody>\n",
              "    <tr>\n",
              "      <th>15006</th>\n",
              "      <td>Jesús Franco</td>\n",
              "      <td>87</td>\n",
              "      <td>4.718391</td>\n",
              "    </tr>\n",
              "    <tr>\n",
              "      <th>21840</th>\n",
              "      <td>Michael Curtiz</td>\n",
              "      <td>85</td>\n",
              "      <td>6.543529</td>\n",
              "    </tr>\n",
              "    <tr>\n",
              "      <th>19114</th>\n",
              "      <td>Lesley Selander</td>\n",
              "      <td>78</td>\n",
              "      <td>6.214103</td>\n",
              "    </tr>\n",
              "    <tr>\n",
              "      <th>19360</th>\n",
              "      <td>Lloyd Bacon</td>\n",
              "      <td>73</td>\n",
              "      <td>6.232877</td>\n",
              "    </tr>\n",
              "    <tr>\n",
              "      <th>33646</th>\n",
              "      <td>William Beaudine</td>\n",
              "      <td>70</td>\n",
              "      <td>5.861429</td>\n",
              "    </tr>\n",
              "    <tr>\n",
              "      <th>26955</th>\n",
              "      <td>Richard Thorpe</td>\n",
              "      <td>68</td>\n",
              "      <td>6.263235</td>\n",
              "    </tr>\n",
              "    <tr>\n",
              "      <th>15682</th>\n",
              "      <td>John Ford</td>\n",
              "      <td>67</td>\n",
              "      <td>6.710448</td>\n",
              "    </tr>\n",
              "    <tr>\n",
              "      <th>11306</th>\n",
              "      <td>Gordon Douglas</td>\n",
              "      <td>64</td>\n",
              "      <td>6.175000</td>\n",
              "    </tr>\n",
              "    <tr>\n",
              "      <th>26370</th>\n",
              "      <td>Raoul Walsh</td>\n",
              "      <td>61</td>\n",
              "      <td>6.590164</td>\n",
              "    </tr>\n",
              "    <tr>\n",
              "      <th>21702</th>\n",
              "      <td>Mervyn LeRoy</td>\n",
              "      <td>59</td>\n",
              "      <td>6.689831</td>\n",
              "    </tr>\n",
              "  </tbody>\n",
              "</table>\n",
              "</div>"
            ],
            "text/plain": [
              "               director avg_vote          \n",
              "                           count      mean\n",
              "15006      Jesús Franco       87  4.718391\n",
              "21840    Michael Curtiz       85  6.543529\n",
              "19114   Lesley Selander       78  6.214103\n",
              "19360       Lloyd Bacon       73  6.232877\n",
              "33646  William Beaudine       70  5.861429\n",
              "26955    Richard Thorpe       68  6.263235\n",
              "15682         John Ford       67  6.710448\n",
              "11306    Gordon Douglas       64  6.175000\n",
              "26370       Raoul Walsh       61  6.590164\n",
              "21702      Mervyn LeRoy       59  6.689831"
            ]
          },
          "metadata": {
            "tags": []
          },
          "execution_count": 44
        }
      ]
    },
    {
      "cell_type": "code",
      "metadata": {
        "id": "-9QT462Yn3hW",
        "colab": {
          "base_uri": "https://localhost:8080/",
          "height": 373
        },
        "outputId": "5b4ce779-dc09-40b6-8740-251b78d0a63e"
      },
      "source": [
        "#Reżyserzy których filmy otrzymują średnio najwięcej głosów, którzy nakręcili więcej niż 5 filmów\n",
        "imdb_directors_sum_votes=imdb_movies[['director','votes']].groupby('director').agg(['count', 'sum']).reset_index()\n",
        "imdb_directors_sum_votes['votes_per_film'] = imdb_directors_sum_votes['votes']['sum']/imdb_directors_sum_votes['votes']['count']\n",
        "imdb_directors_sum_votes['votes_per_film']=imdb_directors_sum_votes['votes_per_film'].astype('int')\n",
        "imdb_directors_sum_votes[imdb_directors_sum_votes['votes']['count']>5].sort_values(by=('votes_per_film'), ascending=False).head(10)"
      ],
      "execution_count": null,
      "outputs": [
        {
          "output_type": "execute_result",
          "data": {
            "text/html": [
              "<div>\n",
              "<style scoped>\n",
              "    .dataframe tbody tr th:only-of-type {\n",
              "        vertical-align: middle;\n",
              "    }\n",
              "\n",
              "    .dataframe tbody tr th {\n",
              "        vertical-align: top;\n",
              "    }\n",
              "\n",
              "    .dataframe thead tr th {\n",
              "        text-align: left;\n",
              "    }\n",
              "</style>\n",
              "<table border=\"1\" class=\"dataframe\">\n",
              "  <thead>\n",
              "    <tr>\n",
              "      <th></th>\n",
              "      <th>director</th>\n",
              "      <th colspan=\"2\" halign=\"left\">votes</th>\n",
              "      <th>votes_per_film</th>\n",
              "    </tr>\n",
              "    <tr>\n",
              "      <th></th>\n",
              "      <th></th>\n",
              "      <th>count</th>\n",
              "      <th>sum</th>\n",
              "      <th></th>\n",
              "    </tr>\n",
              "  </thead>\n",
              "  <tbody>\n",
              "    <tr>\n",
              "      <th>5749</th>\n",
              "      <td>Christopher Nolan</td>\n",
              "      <td>11</td>\n",
              "      <td>11653144</td>\n",
              "      <td>1059376</td>\n",
              "    </tr>\n",
              "    <tr>\n",
              "      <th>25895</th>\n",
              "      <td>Quentin Tarantino</td>\n",
              "      <td>12</td>\n",
              "      <td>8458703</td>\n",
              "      <td>704891</td>\n",
              "    </tr>\n",
              "    <tr>\n",
              "      <th>13739</th>\n",
              "      <td>James Cameron</td>\n",
              "      <td>7</td>\n",
              "      <td>4915763</td>\n",
              "      <td>702251</td>\n",
              "    </tr>\n",
              "    <tr>\n",
              "      <th>7141</th>\n",
              "      <td>David Fincher</td>\n",
              "      <td>10</td>\n",
              "      <td>6944421</td>\n",
              "      <td>694442</td>\n",
              "    </tr>\n",
              "    <tr>\n",
              "      <th>25197</th>\n",
              "      <td>Peter Jackson</td>\n",
              "      <td>13</td>\n",
              "      <td>7304418</td>\n",
              "      <td>561878</td>\n",
              "    </tr>\n",
              "    <tr>\n",
              "      <th>10749</th>\n",
              "      <td>George Lucas</td>\n",
              "      <td>6</td>\n",
              "      <td>3364510</td>\n",
              "      <td>560751</td>\n",
              "    </tr>\n",
              "    <tr>\n",
              "      <th>2353</th>\n",
              "      <td>Anthony Russo, Joe Russo</td>\n",
              "      <td>6</td>\n",
              "      <td>3006253</td>\n",
              "      <td>501042</td>\n",
              "    </tr>\n",
              "    <tr>\n",
              "      <th>13336</th>\n",
              "      <td>J.J. Abrams</td>\n",
              "      <td>6</td>\n",
              "      <td>2881528</td>\n",
              "      <td>480254</td>\n",
              "    </tr>\n",
              "    <tr>\n",
              "      <th>18639</th>\n",
              "      <td>Lana Wachowski, Lilly Wachowski</td>\n",
              "      <td>6</td>\n",
              "      <td>2871445</td>\n",
              "      <td>478574</td>\n",
              "    </tr>\n",
              "    <tr>\n",
              "      <th>34464</th>\n",
              "      <td>Zack Snyder</td>\n",
              "      <td>8</td>\n",
              "      <td>3410835</td>\n",
              "      <td>426354</td>\n",
              "    </tr>\n",
              "  </tbody>\n",
              "</table>\n",
              "</div>"
            ],
            "text/plain": [
              "                              director votes           votes_per_film\n",
              "                                       count       sum               \n",
              "5749                 Christopher Nolan    11  11653144        1059376\n",
              "25895                Quentin Tarantino    12   8458703         704891\n",
              "13739                    James Cameron     7   4915763         702251\n",
              "7141                     David Fincher    10   6944421         694442\n",
              "25197                    Peter Jackson    13   7304418         561878\n",
              "10749                     George Lucas     6   3364510         560751\n",
              "2353          Anthony Russo, Joe Russo     6   3006253         501042\n",
              "13336                      J.J. Abrams     6   2881528         480254\n",
              "18639  Lana Wachowski, Lilly Wachowski     6   2871445         478574\n",
              "34464                      Zack Snyder     8   3410835         426354"
            ]
          },
          "metadata": {
            "tags": []
          },
          "execution_count": 45
        }
      ]
    },
    {
      "cell_type": "markdown",
      "metadata": {
        "id": "-h7hkXzEviiQ"
      },
      "source": [
        "#Scenarzysta - jw - GRZESIEK"
      ]
    },
    {
      "cell_type": "code",
      "metadata": {
        "id": "ojSH_VXlnh1j"
      },
      "source": [
        "imdb_movies = pd.read_csv('/content/[netflix]/IMDb movies.csv')"
      ],
      "execution_count": null,
      "outputs": []
    },
    {
      "cell_type": "code",
      "metadata": {
        "id": "DQNi3Q2PoiLj"
      },
      "source": [
        "imdb_movies.columns"
      ],
      "execution_count": null,
      "outputs": []
    },
    {
      "cell_type": "code",
      "metadata": {
        "id": "gLcNnKBIomsu"
      },
      "source": [
        "imdb_writers_av_votes=imdb_movies[['writer','avg_vote']].groupby('writer').agg(['count', 'mean']).reset_index()\n",
        "imdb_writers_av_votes[imdb_writers_av_votes['avg_vote']['count']>10].sort_values(by=('avg_vote','mean'), ascending=False).reset_index().head(10)"
      ],
      "execution_count": null,
      "outputs": []
    },
    {
      "cell_type": "code",
      "metadata": {
        "id": "zgWFKOSUpggd"
      },
      "source": [
        "imdb_writers_av_votes[imdb_writers_av_votes['avg_vote']['count']>10].sort_values(by=('avg_vote','mean'), ascending=True).head(10)"
      ],
      "execution_count": null,
      "outputs": []
    },
    {
      "cell_type": "code",
      "metadata": {
        "id": "WCIKHn8NqRw_"
      },
      "source": [
        "imdb_writers_av_votes[imdb_writers_av_votes['avg_vote']['count']>5].sort_values(by=('avg_vote','count'), ascending=False).head(10)"
      ],
      "execution_count": null,
      "outputs": []
    },
    {
      "cell_type": "code",
      "metadata": {
        "id": "yo6aUZ0nqY4U"
      },
      "source": [
        "imdb_writers_sum_votes=imdb_movies[['writer','votes']].groupby('writer').agg(['count', 'sum']).reset_index()\n",
        "imdb_writers_sum_votes['votes_per_film'] = imdb_writers_sum_votes['votes']['sum']/imdb_writers_sum_votes['votes']['count']\n",
        "imdb_writers_sum_votes['votes_per_film']=imdb_writers_sum_votes['votes_per_film'].astype('int')\n",
        "imdb_writers_sum_votes[imdb_writers_sum_votes['votes']['count']>5].sort_values(by=('votes_per_film'), ascending=False).head(10)"
      ],
      "execution_count": null,
      "outputs": []
    },
    {
      "cell_type": "markdown",
      "metadata": {
        "id": "f6WPoHsIeF13"
      },
      "source": [
        "#Reżyser, Scenarzysta, aktor - jakie przynoszą dochody dla filmu - dochód w USA i dochód na świecie, średni budżet ich filmów -KASIA"
      ]
    },
    {
      "cell_type": "markdown",
      "metadata": {
        "id": "9W8xArYTDiXq"
      },
      "source": [
        "#Reżyser - dochód z filmów"
      ]
    },
    {
      "cell_type": "markdown",
      "metadata": {
        "id": "ayQvVo1kDsy8"
      },
      "source": [
        "##Reżyserzy z największą ilością filmów"
      ]
    },
    {
      "cell_type": "code",
      "metadata": {
        "id": "CxuXSsn4cQsR"
      },
      "source": [
        "#Reżyserzy z największą ilością filmów\n",
        "imdb_movies['director'].value_counts().head(10)"
      ],
      "execution_count": null,
      "outputs": []
    },
    {
      "cell_type": "markdown",
      "metadata": {
        "id": "v63jzkQGD1Lw"
      },
      "source": [
        "##Reżyserzy, których filmy osiągnęły największy dochód na świecie - dot. dochodów w USD - może zrobić jeszcze INR rupię indyjską? Bolywood? Może filmy kręcone w Chinach (jaka waluta?) jaki mają dochód?"
      ]
    },
    {
      "cell_type": "code",
      "metadata": {
        "id": "-0UrVoZISlX8"
      },
      "source": [
        "imdb_movies['worlwide_gross_income']"
      ],
      "execution_count": null,
      "outputs": []
    },
    {
      "cell_type": "code",
      "metadata": {
        "id": "KegG_vIAlcep"
      },
      "source": [
        "#Wyczyszczenie NaN\n",
        "imdb_movies['worlwide_gross_income'].replace(np.nan, '$ 0', inplace=True)"
      ],
      "execution_count": null,
      "outputs": []
    },
    {
      "cell_type": "code",
      "metadata": {
        "id": "BymbVmBGRx6s"
      },
      "source": [
        "#poprzez split oddzielenie waluty od wartości\n",
        "imdb_movies['worlwide_gross_income']=imdb_movies['worlwide_gross_income'].apply(lambda x: x.split())\n"
      ],
      "execution_count": null,
      "outputs": []
    },
    {
      "cell_type": "code",
      "metadata": {
        "id": "4GGFU8o2S8pe"
      },
      "source": [
        "#Wydzielenie walut do osobnej kolumny\n",
        "imdb_movies['currency_for_wwincome']=imdb_movies['worlwide_gross_income'].apply(lambda x: x[0])"
      ],
      "execution_count": null,
      "outputs": []
    },
    {
      "cell_type": "code",
      "metadata": {
        "colab": {
          "background_save": true
        },
        "id": "t124m9psTMZt"
      },
      "source": [
        "#Waluty występujące w worlwide gross income\n",
        "imdb_movies['currency_for_wwincome'].unique()"
      ],
      "execution_count": null,
      "outputs": []
    },
    {
      "cell_type": "code",
      "metadata": {
        "colab": {
          "background_save": true
        },
        "id": "XlsJ8FwdTXnA"
      },
      "source": [
        "#kolumna z worlwide gross income tylko z wartościami\n",
        "imdb_movies['worlwide_gross_income']=imdb_movies['worlwide_gross_income'].apply(lambda x: x[1])"
      ],
      "execution_count": null,
      "outputs": []
    },
    {
      "cell_type": "code",
      "metadata": {
        "colab": {
          "background_save": true
        },
        "id": "97LPEe7AT_cu"
      },
      "source": [
        "#zmiana stringów na int\n",
        "imdb_movies['worlwide_gross_income']=imdb_movies['worlwide_gross_income'].astype(int)"
      ],
      "execution_count": null,
      "outputs": []
    },
    {
      "cell_type": "code",
      "metadata": {
        "colab": {
          "background_save": true
        },
        "id": "LFyztu93UhX2"
      },
      "source": [
        "#nowa df z danymi gdzie worlwide_gross_income w dolarach\n",
        "imdb_movies_USD = imdb_movies[imdb_movies['currency_for_wwincome']=='$']"
      ],
      "execution_count": null,
      "outputs": []
    },
    {
      "cell_type": "code",
      "metadata": {
        "colab": {
          "background_save": true
        },
        "id": "aGtcxetjXiUX"
      },
      "source": [
        "#zmiana typu z obj na int\n",
        "imdb_movies_USD['worlwide_gross_income'] =imdb_movies_USD['worlwide_gross_income'].astype(int)"
      ],
      "execution_count": null,
      "outputs": []
    },
    {
      "cell_type": "code",
      "metadata": {
        "colab": {
          "background_save": true
        },
        "id": "dzJstpodYTfy"
      },
      "source": [
        "imdb_movies_USD['worlwide_gross_income']"
      ],
      "execution_count": null,
      "outputs": []
    },
    {
      "cell_type": "code",
      "metadata": {
        "colab": {
          "background_save": true
        },
        "id": "mfpdbYDnE_xc"
      },
      "source": [
        "#Wyczyszczenie $ i spacji - tak się nie da bo różne waluty\n",
        "#imdb_movies['worlwide_gross_income']=imdb_movies['worlwide_gross_income'].apply(lambda x: x[2:])\n"
      ],
      "execution_count": null,
      "outputs": []
    },
    {
      "cell_type": "code",
      "metadata": {
        "colab": {
          "background_save": true
        },
        "id": "4BZqQs48eEk2"
      },
      "source": [
        "#Reżyserzy z największym dochodem w dolarach\n",
        "imdb_movies_USD.groupby('director').agg({'imdb_title_id':'count','worlwide_gross_income':'sum'}).reset_index().rename(columns={'imdb_title_id':'films_count'}).sort_values(by='worlwide_gross_income', ascending=False).head(20)"
      ],
      "execution_count": null,
      "outputs": []
    },
    {
      "cell_type": "markdown",
      "metadata": {
        "id": "uL_1jfbjxCOx"
      },
      "source": [
        "##Bollywood"
      ]
    },
    {
      "cell_type": "code",
      "metadata": {
        "colab": {
          "background_save": true
        },
        "id": "0rVFUnU-wtrY"
      },
      "source": [
        "##Bolywood\n",
        "#nowa df z danymi gdzie worlwide_gross_income w rupii indyjskiej \n",
        "imdb_movies_INR = imdb_movies[imdb_movies['currency_for_wwincome']=='INR']"
      ],
      "execution_count": null,
      "outputs": []
    },
    {
      "cell_type": "code",
      "metadata": {
        "colab": {
          "background_save": true
        },
        "id": "1W_RsNmfxZIu"
      },
      "source": [
        "#zmiana typu z obj na int\n",
        "imdb_movies_INR['worlwide_gross_income'] =imdb_movies_INR['worlwide_gross_income'].astype(int)"
      ],
      "execution_count": null,
      "outputs": []
    },
    {
      "cell_type": "code",
      "metadata": {
        "colab": {
          "background_save": true
        },
        "id": "GyUQxE9RxmPf"
      },
      "source": [
        "#Reżyserzy z największym dochodem w rupii indyjskiej\n",
        "imdb_movies_INR.groupby('director').agg({'imdb_title_id':'count','worlwide_gross_income':'sum'}).reset_index().rename(columns={'imdb_title_id':'films_count'}).sort_values(by='worlwide_gross_income', ascending=False).head(10)"
      ],
      "execution_count": null,
      "outputs": []
    },
    {
      "cell_type": "markdown",
      "metadata": {
        "id": "MU-1SgHdye9g"
      },
      "source": [
        "##Reżyserzy dochód z filmów w USA"
      ]
    },
    {
      "cell_type": "code",
      "metadata": {
        "colab": {
          "background_save": true
        },
        "id": "5i5dorjmyjOO"
      },
      "source": [
        "imdb_movies[imdb_movies['usa_gross_income'].notnull()].head()"
      ],
      "execution_count": null,
      "outputs": []
    },
    {
      "cell_type": "code",
      "metadata": {
        "colab": {
          "background_save": true
        },
        "id": "05pI0EEaiFRz"
      },
      "source": [
        "imdb_movies['usa_gross_income']"
      ],
      "execution_count": null,
      "outputs": []
    },
    {
      "cell_type": "code",
      "metadata": {
        "colab": {
          "background_save": true
        },
        "id": "8VlhoksUiFSG"
      },
      "source": [
        "#Wyczyszczenie NaN\n",
        "imdb_movies['usa_gross_income'].replace(np.nan, '$ 0', inplace=True)"
      ],
      "execution_count": null,
      "outputs": []
    },
    {
      "cell_type": "code",
      "metadata": {
        "colab": {
          "background_save": true
        },
        "id": "dNX-dCYGiFSG"
      },
      "source": [
        "#poprzez split oddzielenie waluty od wartości\n",
        "imdb_movies['usa_gross_income']=imdb_movies['usa_gross_income'].apply(lambda x: x.split())\n"
      ],
      "execution_count": null,
      "outputs": []
    },
    {
      "cell_type": "code",
      "metadata": {
        "colab": {
          "background_save": true
        },
        "id": "9UKaiLkJiFSH"
      },
      "source": [
        "#Wydzielenie walut do osobnej kolumny\n",
        "imdb_movies['currency_for_usaincome']=imdb_movies['usa_gross_income'].apply(lambda x: x[0])"
      ],
      "execution_count": null,
      "outputs": []
    },
    {
      "cell_type": "code",
      "metadata": {
        "colab": {
          "background_save": true
        },
        "id": "bhgz5pmUiFSH"
      },
      "source": [
        "#Waluty występujące w USA gross income\n",
        "imdb_movies['currency_for_usaincome'].unique()"
      ],
      "execution_count": null,
      "outputs": []
    },
    {
      "cell_type": "code",
      "metadata": {
        "colab": {
          "background_save": true
        },
        "id": "bWNGdt_viFSH"
      },
      "source": [
        "#kolumna z USA gross income tylko z wartościami\n",
        "imdb_movies['usa_gross_income']=imdb_movies['usa_gross_income'].apply(lambda x: x[1])"
      ],
      "execution_count": null,
      "outputs": []
    },
    {
      "cell_type": "code",
      "metadata": {
        "colab": {
          "background_save": true
        },
        "id": "deaVNf7kiFSI"
      },
      "source": [
        "#zmiana stringów na int\n",
        "imdb_movies['usa_gross_income']=imdb_movies['usa_gross_income'].astype(int)"
      ],
      "execution_count": null,
      "outputs": []
    },
    {
      "cell_type": "code",
      "metadata": {
        "colab": {
          "background_save": true
        },
        "id": "K1jxMYb0iFSI"
      },
      "source": [
        "#nowa df z danymi gdzie usa_gross_income w dolarach\n",
        "imdb_movies_USD = imdb_movies[imdb_movies['currency_for_usaincome']=='$']"
      ],
      "execution_count": null,
      "outputs": []
    },
    {
      "cell_type": "code",
      "metadata": {
        "colab": {
          "background_save": true
        },
        "id": "MJ64MK2OiFSI"
      },
      "source": [
        "#zmiana typu z obj na int\n",
        "imdb_movies_USD['usa_gross_income'] =imdb_movies_USD['usa_gross_income'].astype(int)"
      ],
      "execution_count": null,
      "outputs": []
    },
    {
      "cell_type": "code",
      "metadata": {
        "colab": {
          "background_save": true
        },
        "id": "cCHOh_MxiFSJ"
      },
      "source": [
        "imdb_movies_USD['usa_gross_income']"
      ],
      "execution_count": null,
      "outputs": []
    },
    {
      "cell_type": "code",
      "metadata": {
        "colab": {
          "background_save": true
        },
        "id": "ZgcpMtPYiFSJ"
      },
      "source": [
        "#Reżyserzy z największym dochodem w dolarach\n",
        "imdb_movies_USD.groupby('director').agg({'imdb_title_id':'count','usa_gross_income':'sum'}).reset_index().rename(columns={'imdb_title_id':'films_count'}).sort_values(by='usa_gross_income', ascending=False).head(20)"
      ],
      "execution_count": null,
      "outputs": []
    },
    {
      "cell_type": "markdown",
      "metadata": {
        "id": "oZ-FZx_ikMP6"
      },
      "source": [
        "#Scenarzysta - dochody z filmów, na świecie, w USA"
      ]
    },
    {
      "cell_type": "markdown",
      "metadata": {
        "id": "uz_NapE_kb_X"
      },
      "source": [
        "##Scenarzyści z największą ilością filmów"
      ]
    },
    {
      "cell_type": "code",
      "metadata": {
        "colab": {
          "background_save": true
        },
        "id": "o8HvSfxHkb_i"
      },
      "source": [
        "#Scenarzyści z największą ilością filmów\n",
        "imdb_movies['writer'].value_counts().head(10)"
      ],
      "execution_count": null,
      "outputs": []
    },
    {
      "cell_type": "markdown",
      "metadata": {
        "id": "1KKMIfuPoqt1"
      },
      "source": [
        "##TO DO  Reżyser - średni budżet filmów - SCENARZYŚCI I AKTORZY TEŻ"
      ]
    },
    {
      "cell_type": "markdown",
      "metadata": {
        "id": "sEpw6hh-mMT4"
      },
      "source": [
        "##Scenarzyści z największym dochodem na świecie - w dolarach"
      ]
    },
    {
      "cell_type": "code",
      "metadata": {
        "colab": {
          "background_save": true
        },
        "id": "K7ekR8alk9LL"
      },
      "source": [
        "#Scenarzysci z największym dochodem w dolarach\n",
        "imdb_movies_USD.groupby('writer').agg({'imdb_title_id':'count','worlwide_gross_income':'sum'}).reset_index().rename(columns={'imdb_title_id':'films_count'}).sort_values(by='worlwide_gross_income', ascending=False).head(20)"
      ],
      "execution_count": null,
      "outputs": []
    },
    {
      "cell_type": "markdown",
      "metadata": {
        "id": "AEhsd2oGmXyD"
      },
      "source": [
        "##Scenarzyści największy dochód z filmów w USA"
      ]
    },
    {
      "cell_type": "code",
      "metadata": {
        "colab": {
          "background_save": true
        },
        "id": "0JuCWdtimm_F"
      },
      "source": [
        "#Scenarzyści z największym dochodem w dolarach\n",
        "imdb_movies_USD.groupby('writer').agg({'imdb_title_id':'count','usa_gross_income':'sum'}).reset_index().rename(columns={'imdb_title_id':'films_count'}).sort_values(by='usa_gross_income', ascending=False).head(20)"
      ],
      "execution_count": null,
      "outputs": []
    },
    {
      "cell_type": "markdown",
      "metadata": {
        "id": "H9cL5aNVnkIw"
      },
      "source": [
        "#Aktorzy"
      ]
    },
    {
      "cell_type": "code",
      "metadata": {
        "colab": {
          "background_save": true
        },
        "id": "QJcqtXivnmjQ"
      },
      "source": [
        "imdb_names.head()"
      ],
      "execution_count": null,
      "outputs": []
    },
    {
      "cell_type": "markdown",
      "metadata": {
        "id": "eMwHRmvnXcWJ"
      },
      "source": [
        "# Aktorzy z największymi średnimi głosów, największa liczba głosów - EWA"
      ]
    },
    {
      "cell_type": "code",
      "metadata": {
        "colab": {
          "base_uri": "https://localhost:8080/",
          "height": 652
        },
        "id": "sTsse49GXis8",
        "outputId": "9355e26c-afd8-4ecd-92a5-1d8ea85aa81a"
      },
      "source": [
        "imdb_movies.head()"
      ],
      "execution_count": null,
      "outputs": [
        {
          "output_type": "execute_result",
          "data": {
            "text/html": [
              "<div>\n",
              "<style scoped>\n",
              "    .dataframe tbody tr th:only-of-type {\n",
              "        vertical-align: middle;\n",
              "    }\n",
              "\n",
              "    .dataframe tbody tr th {\n",
              "        vertical-align: top;\n",
              "    }\n",
              "\n",
              "    .dataframe thead th {\n",
              "        text-align: right;\n",
              "    }\n",
              "</style>\n",
              "<table border=\"1\" class=\"dataframe\">\n",
              "  <thead>\n",
              "    <tr style=\"text-align: right;\">\n",
              "      <th></th>\n",
              "      <th>imdb_title_id</th>\n",
              "      <th>title</th>\n",
              "      <th>original_title</th>\n",
              "      <th>year</th>\n",
              "      <th>date_published</th>\n",
              "      <th>genre</th>\n",
              "      <th>duration</th>\n",
              "      <th>country</th>\n",
              "      <th>language</th>\n",
              "      <th>director</th>\n",
              "      <th>writer</th>\n",
              "      <th>production_company</th>\n",
              "      <th>actors</th>\n",
              "      <th>description</th>\n",
              "      <th>avg_vote</th>\n",
              "      <th>votes</th>\n",
              "      <th>budget</th>\n",
              "      <th>usa_gross_income</th>\n",
              "      <th>worlwide_gross_income</th>\n",
              "      <th>metascore</th>\n",
              "      <th>reviews_from_users</th>\n",
              "      <th>reviews_from_critics</th>\n",
              "    </tr>\n",
              "  </thead>\n",
              "  <tbody>\n",
              "    <tr>\n",
              "      <th>0</th>\n",
              "      <td>tt0000009</td>\n",
              "      <td>Miss Jerry</td>\n",
              "      <td>Miss Jerry</td>\n",
              "      <td>1894</td>\n",
              "      <td>1894-10-09</td>\n",
              "      <td>Romance</td>\n",
              "      <td>45</td>\n",
              "      <td>USA</td>\n",
              "      <td>None</td>\n",
              "      <td>Alexander Black</td>\n",
              "      <td>Alexander Black</td>\n",
              "      <td>Alexander Black Photoplays</td>\n",
              "      <td>Blanche Bayliss, William Courtenay, Chauncey D...</td>\n",
              "      <td>The adventures of a female reporter in the 1890s.</td>\n",
              "      <td>5.9</td>\n",
              "      <td>154</td>\n",
              "      <td>NaN</td>\n",
              "      <td>NaN</td>\n",
              "      <td>NaN</td>\n",
              "      <td>NaN</td>\n",
              "      <td>1.0</td>\n",
              "      <td>2.0</td>\n",
              "    </tr>\n",
              "    <tr>\n",
              "      <th>1</th>\n",
              "      <td>tt0000574</td>\n",
              "      <td>The Story of the Kelly Gang</td>\n",
              "      <td>The Story of the Kelly Gang</td>\n",
              "      <td>1906</td>\n",
              "      <td>1906-12-26</td>\n",
              "      <td>Biography, Crime, Drama</td>\n",
              "      <td>70</td>\n",
              "      <td>Australia</td>\n",
              "      <td>None</td>\n",
              "      <td>Charles Tait</td>\n",
              "      <td>Charles Tait</td>\n",
              "      <td>J. and N. Tait</td>\n",
              "      <td>Elizabeth Tait, John Tait, Norman Campbell, Be...</td>\n",
              "      <td>True story of notorious Australian outlaw Ned ...</td>\n",
              "      <td>6.1</td>\n",
              "      <td>589</td>\n",
              "      <td>$ 2250</td>\n",
              "      <td>NaN</td>\n",
              "      <td>NaN</td>\n",
              "      <td>NaN</td>\n",
              "      <td>7.0</td>\n",
              "      <td>7.0</td>\n",
              "    </tr>\n",
              "    <tr>\n",
              "      <th>2</th>\n",
              "      <td>tt0001892</td>\n",
              "      <td>Den sorte drøm</td>\n",
              "      <td>Den sorte drøm</td>\n",
              "      <td>1911</td>\n",
              "      <td>1911-08-19</td>\n",
              "      <td>Drama</td>\n",
              "      <td>53</td>\n",
              "      <td>Germany, Denmark</td>\n",
              "      <td>NaN</td>\n",
              "      <td>Urban Gad</td>\n",
              "      <td>Urban Gad, Gebhard Schätzler-Perasini</td>\n",
              "      <td>Fotorama</td>\n",
              "      <td>Asta Nielsen, Valdemar Psilander, Gunnar Helse...</td>\n",
              "      <td>Two men of high rank are both wooing the beaut...</td>\n",
              "      <td>5.8</td>\n",
              "      <td>188</td>\n",
              "      <td>NaN</td>\n",
              "      <td>NaN</td>\n",
              "      <td>NaN</td>\n",
              "      <td>NaN</td>\n",
              "      <td>5.0</td>\n",
              "      <td>2.0</td>\n",
              "    </tr>\n",
              "    <tr>\n",
              "      <th>3</th>\n",
              "      <td>tt0002101</td>\n",
              "      <td>Cleopatra</td>\n",
              "      <td>Cleopatra</td>\n",
              "      <td>1912</td>\n",
              "      <td>1912-11-13</td>\n",
              "      <td>Drama, History</td>\n",
              "      <td>100</td>\n",
              "      <td>USA</td>\n",
              "      <td>English</td>\n",
              "      <td>Charles L. Gaskill</td>\n",
              "      <td>Victorien Sardou</td>\n",
              "      <td>Helen Gardner Picture Players</td>\n",
              "      <td>Helen Gardner, Pearl Sindelar, Miss Fielding, ...</td>\n",
              "      <td>The fabled queen of Egypt's affair with Roman ...</td>\n",
              "      <td>5.2</td>\n",
              "      <td>446</td>\n",
              "      <td>$ 45000</td>\n",
              "      <td>NaN</td>\n",
              "      <td>NaN</td>\n",
              "      <td>NaN</td>\n",
              "      <td>25.0</td>\n",
              "      <td>3.0</td>\n",
              "    </tr>\n",
              "    <tr>\n",
              "      <th>4</th>\n",
              "      <td>tt0002130</td>\n",
              "      <td>L'Inferno</td>\n",
              "      <td>L'Inferno</td>\n",
              "      <td>1911</td>\n",
              "      <td>1911-03-06</td>\n",
              "      <td>Adventure, Drama, Fantasy</td>\n",
              "      <td>68</td>\n",
              "      <td>Italy</td>\n",
              "      <td>Italian</td>\n",
              "      <td>Francesco Bertolini, Adolfo Padovan</td>\n",
              "      <td>Dante Alighieri</td>\n",
              "      <td>Milano Film</td>\n",
              "      <td>Salvatore Papa, Arturo Pirovano, Giuseppe de L...</td>\n",
              "      <td>Loosely adapted from Dante's Divine Comedy and...</td>\n",
              "      <td>7.0</td>\n",
              "      <td>2237</td>\n",
              "      <td>NaN</td>\n",
              "      <td>NaN</td>\n",
              "      <td>NaN</td>\n",
              "      <td>NaN</td>\n",
              "      <td>31.0</td>\n",
              "      <td>14.0</td>\n",
              "    </tr>\n",
              "  </tbody>\n",
              "</table>\n",
              "</div>"
            ],
            "text/plain": [
              "  imdb_title_id  ... reviews_from_critics\n",
              "0     tt0000009  ...                  2.0\n",
              "1     tt0000574  ...                  7.0\n",
              "2     tt0001892  ...                  2.0\n",
              "3     tt0002101  ...                  3.0\n",
              "4     tt0002130  ...                 14.0\n",
              "\n",
              "[5 rows x 22 columns]"
            ]
          },
          "metadata": {
            "tags": []
          },
          "execution_count": 313
        }
      ]
    },
    {
      "cell_type": "code",
      "metadata": {
        "colab": {
          "base_uri": "https://localhost:8080/",
          "height": 657
        },
        "id": "larxeEF8daE4",
        "outputId": "b4282603-e16d-49c6-cb5c-72325252fd8d"
      },
      "source": [
        "imdb_movies_actors = imdb_movies.actors.str.split(pat=',', expand=True)\r\n",
        "imdb_movies_actors['avg_vote'] = imdb_movies['avg_vote']\r\n",
        "imdb_movies_actors"
      ],
      "execution_count": null,
      "outputs": [
        {
          "output_type": "execute_result",
          "data": {
            "text/html": [
              "<div>\n",
              "<style scoped>\n",
              "    .dataframe tbody tr th:only-of-type {\n",
              "        vertical-align: middle;\n",
              "    }\n",
              "\n",
              "    .dataframe tbody tr th {\n",
              "        vertical-align: top;\n",
              "    }\n",
              "\n",
              "    .dataframe thead th {\n",
              "        text-align: right;\n",
              "    }\n",
              "</style>\n",
              "<table border=\"1\" class=\"dataframe\">\n",
              "  <thead>\n",
              "    <tr style=\"text-align: right;\">\n",
              "      <th></th>\n",
              "      <th>0</th>\n",
              "      <th>1</th>\n",
              "      <th>2</th>\n",
              "      <th>3</th>\n",
              "      <th>4</th>\n",
              "      <th>5</th>\n",
              "      <th>6</th>\n",
              "      <th>7</th>\n",
              "      <th>8</th>\n",
              "      <th>9</th>\n",
              "      <th>10</th>\n",
              "      <th>11</th>\n",
              "      <th>12</th>\n",
              "      <th>13</th>\n",
              "      <th>14</th>\n",
              "      <th>15</th>\n",
              "      <th>avg_vote</th>\n",
              "    </tr>\n",
              "  </thead>\n",
              "  <tbody>\n",
              "    <tr>\n",
              "      <th>0</th>\n",
              "      <td>Blanche Bayliss</td>\n",
              "      <td>William Courtenay</td>\n",
              "      <td>Chauncey Depew</td>\n",
              "      <td>None</td>\n",
              "      <td>None</td>\n",
              "      <td>None</td>\n",
              "      <td>None</td>\n",
              "      <td>None</td>\n",
              "      <td>None</td>\n",
              "      <td>None</td>\n",
              "      <td>None</td>\n",
              "      <td>None</td>\n",
              "      <td>None</td>\n",
              "      <td>None</td>\n",
              "      <td>None</td>\n",
              "      <td>None</td>\n",
              "      <td>5.9</td>\n",
              "    </tr>\n",
              "    <tr>\n",
              "      <th>1</th>\n",
              "      <td>Elizabeth Tait</td>\n",
              "      <td>John Tait</td>\n",
              "      <td>Norman Campbell</td>\n",
              "      <td>Bella Cola</td>\n",
              "      <td>Will Coyne</td>\n",
              "      <td>Sam Crewes</td>\n",
              "      <td>Jack Ennis</td>\n",
              "      <td>John Forde</td>\n",
              "      <td>Vera Linden</td>\n",
              "      <td>Mr. Marshall</td>\n",
              "      <td>Mr. McKenzie</td>\n",
              "      <td>Frank Mills</td>\n",
              "      <td>Ollie Wilson</td>\n",
              "      <td>None</td>\n",
              "      <td>None</td>\n",
              "      <td>None</td>\n",
              "      <td>6.1</td>\n",
              "    </tr>\n",
              "    <tr>\n",
              "      <th>2</th>\n",
              "      <td>Asta Nielsen</td>\n",
              "      <td>Valdemar Psilander</td>\n",
              "      <td>Gunnar Helsengreen</td>\n",
              "      <td>Emil Albes</td>\n",
              "      <td>Hugo Flink</td>\n",
              "      <td>Mary Hagen</td>\n",
              "      <td>None</td>\n",
              "      <td>None</td>\n",
              "      <td>None</td>\n",
              "      <td>None</td>\n",
              "      <td>None</td>\n",
              "      <td>None</td>\n",
              "      <td>None</td>\n",
              "      <td>None</td>\n",
              "      <td>None</td>\n",
              "      <td>None</td>\n",
              "      <td>5.8</td>\n",
              "    </tr>\n",
              "    <tr>\n",
              "      <th>3</th>\n",
              "      <td>Helen Gardner</td>\n",
              "      <td>Pearl Sindelar</td>\n",
              "      <td>Miss Fielding</td>\n",
              "      <td>Miss Robson</td>\n",
              "      <td>Helene Costello</td>\n",
              "      <td>Charles Sindelar</td>\n",
              "      <td>Mr. Howard</td>\n",
              "      <td>James R. Waite</td>\n",
              "      <td>Mr. Osborne</td>\n",
              "      <td>Harry Knowles</td>\n",
              "      <td>Mr. Paul</td>\n",
              "      <td>Mr. Brady</td>\n",
              "      <td>Mr. Corker</td>\n",
              "      <td>None</td>\n",
              "      <td>None</td>\n",
              "      <td>None</td>\n",
              "      <td>5.2</td>\n",
              "    </tr>\n",
              "    <tr>\n",
              "      <th>4</th>\n",
              "      <td>Salvatore Papa</td>\n",
              "      <td>Arturo Pirovano</td>\n",
              "      <td>Giuseppe de Liguoro</td>\n",
              "      <td>Pier Delle Vigne</td>\n",
              "      <td>Augusto Milla</td>\n",
              "      <td>Attilio Motta</td>\n",
              "      <td>Emilise Beretta</td>\n",
              "      <td>None</td>\n",
              "      <td>None</td>\n",
              "      <td>None</td>\n",
              "      <td>None</td>\n",
              "      <td>None</td>\n",
              "      <td>None</td>\n",
              "      <td>None</td>\n",
              "      <td>None</td>\n",
              "      <td>None</td>\n",
              "      <td>7.0</td>\n",
              "    </tr>\n",
              "    <tr>\n",
              "      <th>...</th>\n",
              "      <td>...</td>\n",
              "      <td>...</td>\n",
              "      <td>...</td>\n",
              "      <td>...</td>\n",
              "      <td>...</td>\n",
              "      <td>...</td>\n",
              "      <td>...</td>\n",
              "      <td>...</td>\n",
              "      <td>...</td>\n",
              "      <td>...</td>\n",
              "      <td>...</td>\n",
              "      <td>...</td>\n",
              "      <td>...</td>\n",
              "      <td>...</td>\n",
              "      <td>...</td>\n",
              "      <td>...</td>\n",
              "      <td>...</td>\n",
              "    </tr>\n",
              "    <tr>\n",
              "      <th>85850</th>\n",
              "      <td>Dany Boon</td>\n",
              "      <td>Philippe Katerine</td>\n",
              "      <td>Anne Serra</td>\n",
              "      <td>Samuel Jouy</td>\n",
              "      <td>Sophie Verbeeck</td>\n",
              "      <td>Carole Brana</td>\n",
              "      <td>Benoît Pétré</td>\n",
              "      <td>Aksel Ustun</td>\n",
              "      <td>Mathieu Lardot</td>\n",
              "      <td>Olivier Sa</td>\n",
              "      <td>Julien Prevost</td>\n",
              "      <td>Antoine Mathieu</td>\n",
              "      <td>David Ban</td>\n",
              "      <td>Stan</td>\n",
              "      <td>Guillaume Clémencin</td>\n",
              "      <td>None</td>\n",
              "      <td>5.3</td>\n",
              "    </tr>\n",
              "    <tr>\n",
              "      <th>85851</th>\n",
              "      <td>Herman Finkers</td>\n",
              "      <td>Johanna ter Steege</td>\n",
              "      <td>Leonie ter Braak</td>\n",
              "      <td>Stef Assen</td>\n",
              "      <td>Annie Beumers</td>\n",
              "      <td>Jos Brummelhuis</td>\n",
              "      <td>Reinier Bulder</td>\n",
              "      <td>Daphne Bunskoek</td>\n",
              "      <td>Karlijn Koel</td>\n",
              "      <td>Karlijn Lansink</td>\n",
              "      <td>Marieke Lustenhouwer</td>\n",
              "      <td>Jan Roerink</td>\n",
              "      <td>Ferdi Stofmeel</td>\n",
              "      <td>Aniek Stokkers</td>\n",
              "      <td>Belinda van der Stoep</td>\n",
              "      <td>None</td>\n",
              "      <td>7.7</td>\n",
              "    </tr>\n",
              "    <tr>\n",
              "      <th>85852</th>\n",
              "      <td>Anoop Chandran</td>\n",
              "      <td>Indrans</td>\n",
              "      <td>Sona Nair</td>\n",
              "      <td>Simon Britto Rodrigues</td>\n",
              "      <td>None</td>\n",
              "      <td>None</td>\n",
              "      <td>None</td>\n",
              "      <td>None</td>\n",
              "      <td>None</td>\n",
              "      <td>None</td>\n",
              "      <td>None</td>\n",
              "      <td>None</td>\n",
              "      <td>None</td>\n",
              "      <td>None</td>\n",
              "      <td>None</td>\n",
              "      <td>None</td>\n",
              "      <td>7.9</td>\n",
              "    </tr>\n",
              "    <tr>\n",
              "      <th>85853</th>\n",
              "      <td>Ahmet Faik Akinci</td>\n",
              "      <td>Belma Mamati</td>\n",
              "      <td>Metin Keçeci</td>\n",
              "      <td>Burhan Sirmabiyik</td>\n",
              "      <td>Orhan Aydin</td>\n",
              "      <td>Tevfik Yapici</td>\n",
              "      <td>Yusuf Eksi</td>\n",
              "      <td>Toygun Ates</td>\n",
              "      <td>Aziz Özuysal</td>\n",
              "      <td>Dilek Ölekli</td>\n",
              "      <td>Arcan Bunial</td>\n",
              "      <td>Seval Hislisoy</td>\n",
              "      <td>Ergül Çolakoglu</td>\n",
              "      <td>Gülçin Ugur</td>\n",
              "      <td>Ibrahim Balaban</td>\n",
              "      <td>None</td>\n",
              "      <td>6.4</td>\n",
              "    </tr>\n",
              "    <tr>\n",
              "      <th>85854</th>\n",
              "      <td>Maria Morera Colomer</td>\n",
              "      <td>Biel Rossell Pelfort</td>\n",
              "      <td>Isaac Alcayde</td>\n",
              "      <td>Lluís Altés</td>\n",
              "      <td>Joan Amargós</td>\n",
              "      <td>Pepo Blasco</td>\n",
              "      <td>Cesc Casanovas</td>\n",
              "      <td>Oriol Cervera</td>\n",
              "      <td>Pau Escobar</td>\n",
              "      <td>Jordi Figueras</td>\n",
              "      <td>Arés Fuster</td>\n",
              "      <td>Judit Martín</td>\n",
              "      <td>Martí Múrcia</td>\n",
              "      <td>Mariona Pagès</td>\n",
              "      <td>Francesca Piñón</td>\n",
              "      <td>None</td>\n",
              "      <td>6.7</td>\n",
              "    </tr>\n",
              "  </tbody>\n",
              "</table>\n",
              "<p>85855 rows × 17 columns</p>\n",
              "</div>"
            ],
            "text/plain": [
              "                          0                      1  ...    15 avg_vote\n",
              "0           Blanche Bayliss      William Courtenay  ...  None      5.9\n",
              "1            Elizabeth Tait              John Tait  ...  None      6.1\n",
              "2              Asta Nielsen     Valdemar Psilander  ...  None      5.8\n",
              "3             Helen Gardner         Pearl Sindelar  ...  None      5.2\n",
              "4            Salvatore Papa        Arturo Pirovano  ...  None      7.0\n",
              "...                     ...                    ...  ...   ...      ...\n",
              "85850             Dany Boon      Philippe Katerine  ...  None      5.3\n",
              "85851        Herman Finkers     Johanna ter Steege  ...  None      7.7\n",
              "85852        Anoop Chandran                Indrans  ...  None      7.9\n",
              "85853     Ahmet Faik Akinci           Belma Mamati  ...  None      6.4\n",
              "85854  Maria Morera Colomer   Biel Rossell Pelfort  ...  None      6.7\n",
              "\n",
              "[85855 rows x 17 columns]"
            ]
          },
          "metadata": {
            "tags": []
          },
          "execution_count": 314
        }
      ]
    },
    {
      "cell_type": "code",
      "metadata": {
        "colab": {
          "base_uri": "https://localhost:8080/",
          "height": 35
        },
        "id": "V-Jsn_lOZZGY",
        "outputId": "85e5b2a2-d0f8-4ebb-cda6-b7d8d24b3cd0"
      },
      "source": [
        "imdb_movies_actors[1][1] # ta spacja przed imieniem zniszczyła mi piątkowy wieczór"
      ],
      "execution_count": null,
      "outputs": [
        {
          "output_type": "execute_result",
          "data": {
            "application/vnd.google.colaboratory.intrinsic+json": {
              "type": "string"
            },
            "text/plain": [
              "' John Tait'"
            ]
          },
          "metadata": {
            "tags": []
          },
          "execution_count": 315
        }
      ]
    },
    {
      "cell_type": "code",
      "metadata": {
        "id": "hu6-kB9BDkLL"
      },
      "source": [
        "# tu usuwam spacje przed imionami we wszytskich kolumnach\r\n",
        "\r\n",
        "def remove_white_space_before(x):\r\n",
        "  if isinstance(x, str):\r\n",
        "    if x[0] == ' ':\r\n",
        "      x = x[1:]\r\n",
        "  return x\r\n",
        "\r\n",
        "for i in range(0,16):\r\n",
        "  imdb_movies_actors[i] = imdb_movies_actors[i].apply(remove_white_space_before)"
      ],
      "execution_count": null,
      "outputs": []
    },
    {
      "cell_type": "code",
      "metadata": {
        "colab": {
          "base_uri": "https://localhost:8080/",
          "height": 35
        },
        "id": "20Yj-9pDTBME",
        "outputId": "ceb14944-91dd-4a4a-ff3a-085cbca2a433"
      },
      "source": [
        "imdb_movies_actors[1][1] # i działa <3"
      ],
      "execution_count": null,
      "outputs": [
        {
          "output_type": "execute_result",
          "data": {
            "application/vnd.google.colaboratory.intrinsic+json": {
              "type": "string"
            },
            "text/plain": [
              "'John Tait'"
            ]
          },
          "metadata": {
            "tags": []
          },
          "execution_count": 317
        }
      ]
    },
    {
      "cell_type": "code",
      "metadata": {
        "colab": {
          "base_uri": "https://localhost:8080/",
          "height": 402
        },
        "id": "sqiYBbZqbsos",
        "outputId": "f4512268-a2d0-4b5d-9a2a-04c044c45c80"
      },
      "source": [
        "actors = {}\r\n",
        "for i in range(0, 16):\r\n",
        "  actors[\"act_column{0}\".format(i)] = imdb_movies_actors[[i, 'avg_vote']].groupby(i).agg(['count', 'sum'])\r\n",
        "  actors[\"act_column{0}\".format(i)].columns = actors[\"act_column{0}\".format(i)].columns.droplevel(0)\r\n",
        "  actors[\"act_column{0}\".format(i)].index.name = None\r\n",
        "\r\n",
        "actors['act_column0']"
      ],
      "execution_count": null,
      "outputs": [
        {
          "output_type": "execute_result",
          "data": {
            "text/html": [
              "<div>\n",
              "<style scoped>\n",
              "    .dataframe tbody tr th:only-of-type {\n",
              "        vertical-align: middle;\n",
              "    }\n",
              "\n",
              "    .dataframe tbody tr th {\n",
              "        vertical-align: top;\n",
              "    }\n",
              "\n",
              "    .dataframe thead th {\n",
              "        text-align: right;\n",
              "    }\n",
              "</style>\n",
              "<table border=\"1\" class=\"dataframe\">\n",
              "  <thead>\n",
              "    <tr style=\"text-align: right;\">\n",
              "      <th></th>\n",
              "      <th>count</th>\n",
              "      <th>sum</th>\n",
              "    </tr>\n",
              "  </thead>\n",
              "  <tbody>\n",
              "    <tr>\n",
              "      <th>'Lee' George Quinones</th>\n",
              "      <td>1</td>\n",
              "      <td>7.1</td>\n",
              "    </tr>\n",
              "    <tr>\n",
              "      <th>'University' Jeevan</th>\n",
              "      <td>1</td>\n",
              "      <td>5.7</td>\n",
              "    </tr>\n",
              "    <tr>\n",
              "      <th>'Weird Al' Yankovic</th>\n",
              "      <td>1</td>\n",
              "      <td>7.0</td>\n",
              "    </tr>\n",
              "    <tr>\n",
              "      <th>2Mex</th>\n",
              "      <td>1</td>\n",
              "      <td>3.8</td>\n",
              "    </tr>\n",
              "    <tr>\n",
              "      <th>50 Cent</th>\n",
              "      <td>5</td>\n",
              "      <td>23.7</td>\n",
              "    </tr>\n",
              "    <tr>\n",
              "      <th>...</th>\n",
              "      <td>...</td>\n",
              "      <td>...</td>\n",
              "    </tr>\n",
              "    <tr>\n",
              "      <th>Þorsteinn Bachmann</th>\n",
              "      <td>1</td>\n",
              "      <td>5.6</td>\n",
              "    </tr>\n",
              "    <tr>\n",
              "      <th>Þorsteinn Guðmundsson</th>\n",
              "      <td>1</td>\n",
              "      <td>6.1</td>\n",
              "    </tr>\n",
              "    <tr>\n",
              "      <th>Þröstur Leó Gunnarsson</th>\n",
              "      <td>2</td>\n",
              "      <td>11.9</td>\n",
              "    </tr>\n",
              "    <tr>\n",
              "      <th>Þórhallur Sigurðsson</th>\n",
              "      <td>1</td>\n",
              "      <td>5.7</td>\n",
              "    </tr>\n",
              "    <tr>\n",
              "      <th>Þórhallur Sverrisson</th>\n",
              "      <td>1</td>\n",
              "      <td>7.0</td>\n",
              "    </tr>\n",
              "  </tbody>\n",
              "</table>\n",
              "<p>37146 rows × 2 columns</p>\n",
              "</div>"
            ],
            "text/plain": [
              "                        count   sum\n",
              "'Lee' George Quinones       1   7.1\n",
              "'University' Jeevan         1   5.7\n",
              "'Weird Al' Yankovic         1   7.0\n",
              "2Mex                        1   3.8\n",
              "50 Cent                     5  23.7\n",
              "...                       ...   ...\n",
              "Þorsteinn Bachmann          1   5.6\n",
              "Þorsteinn Guðmundsson       1   6.1\n",
              "Þröstur Leó Gunnarsson      2  11.9\n",
              "Þórhallur Sigurðsson        1   5.7\n",
              "Þórhallur Sverrisson        1   7.0\n",
              "\n",
              "[37146 rows x 2 columns]"
            ]
          },
          "metadata": {
            "tags": []
          },
          "execution_count": 318
        }
      ]
    },
    {
      "cell_type": "code",
      "metadata": {
        "colab": {
          "base_uri": "https://localhost:8080/",
          "height": 402
        },
        "id": "BYGeYPXulnq6",
        "outputId": "dd9848f5-a22c-474e-e34f-3465fefb7c87"
      },
      "source": [
        "actors_all = actors['act_column0']\r\n",
        "for i in range(1,16):\r\n",
        "  actors_all = actors_all.add(actors[\"act_column{0}\".format(i)], fill_value=0)\r\n",
        "\r\n",
        "actors_all"
      ],
      "execution_count": null,
      "outputs": [
        {
          "output_type": "execute_result",
          "data": {
            "text/html": [
              "<div>\n",
              "<style scoped>\n",
              "    .dataframe tbody tr th:only-of-type {\n",
              "        vertical-align: middle;\n",
              "    }\n",
              "\n",
              "    .dataframe tbody tr th {\n",
              "        vertical-align: top;\n",
              "    }\n",
              "\n",
              "    .dataframe thead th {\n",
              "        text-align: right;\n",
              "    }\n",
              "</style>\n",
              "<table border=\"1\" class=\"dataframe\">\n",
              "  <thead>\n",
              "    <tr style=\"text-align: right;\">\n",
              "      <th></th>\n",
              "      <th>count</th>\n",
              "      <th>sum</th>\n",
              "    </tr>\n",
              "  </thead>\n",
              "  <tbody>\n",
              "    <tr>\n",
              "      <th>'Astor' Escobar</th>\n",
              "      <td>1.0</td>\n",
              "      <td>6.4</td>\n",
              "    </tr>\n",
              "    <tr>\n",
              "      <th>'Baby' Carmen De Rue</th>\n",
              "      <td>3.0</td>\n",
              "      <td>15.5</td>\n",
              "    </tr>\n",
              "    <tr>\n",
              "      <th>'Bang Bang' Toto Ruta</th>\n",
              "      <td>1.0</td>\n",
              "      <td>7.1</td>\n",
              "    </tr>\n",
              "    <tr>\n",
              "      <th>'Big Al' Solomon</th>\n",
              "      <td>1.0</td>\n",
              "      <td>3.4</td>\n",
              "    </tr>\n",
              "    <tr>\n",
              "      <th>'Big Jack' Provan</th>\n",
              "      <td>1.0</td>\n",
              "      <td>6.0</td>\n",
              "    </tr>\n",
              "    <tr>\n",
              "      <th>...</th>\n",
              "      <td>...</td>\n",
              "      <td>...</td>\n",
              "    </tr>\n",
              "    <tr>\n",
              "      <th>Þórir Waagfjörð</th>\n",
              "      <td>1.0</td>\n",
              "      <td>5.3</td>\n",
              "    </tr>\n",
              "    <tr>\n",
              "      <th>Þórunn Antónía Magnúsdóttir</th>\n",
              "      <td>1.0</td>\n",
              "      <td>6.3</td>\n",
              "    </tr>\n",
              "    <tr>\n",
              "      <th>Þórunn Arna Kristjánsdóttir</th>\n",
              "      <td>1.0</td>\n",
              "      <td>7.1</td>\n",
              "    </tr>\n",
              "    <tr>\n",
              "      <th>Þórunn Magnea Magnúsdóttir</th>\n",
              "      <td>3.0</td>\n",
              "      <td>19.8</td>\n",
              "    </tr>\n",
              "    <tr>\n",
              "      <th>Þórður Árnason</th>\n",
              "      <td>1.0</td>\n",
              "      <td>7.3</td>\n",
              "    </tr>\n",
              "  </tbody>\n",
              "</table>\n",
              "<p>417320 rows × 2 columns</p>\n",
              "</div>"
            ],
            "text/plain": [
              "                             count   sum\n",
              "'Astor' Escobar                1.0   6.4\n",
              "'Baby' Carmen De Rue           3.0  15.5\n",
              "'Bang Bang' Toto Ruta          1.0   7.1\n",
              "'Big Al' Solomon               1.0   3.4\n",
              "'Big Jack' Provan              1.0   6.0\n",
              "...                            ...   ...\n",
              "Þórir Waagfjörð                1.0   5.3\n",
              "Þórunn Antónía Magnúsdóttir    1.0   6.3\n",
              "Þórunn Arna Kristjánsdóttir    1.0   7.1\n",
              "Þórunn Magnea Magnúsdóttir     3.0  19.8\n",
              "Þórður Árnason                 1.0   7.3\n",
              "\n",
              "[417320 rows x 2 columns]"
            ]
          },
          "metadata": {
            "tags": []
          },
          "execution_count": 319
        }
      ]
    },
    {
      "cell_type": "code",
      "metadata": {
        "colab": {
          "base_uri": "https://localhost:8080/",
          "height": 402
        },
        "id": "WHl-SaK5nZkJ",
        "outputId": "604eb467-975d-4441-ca10-8e34f7361bf6"
      },
      "source": [
        "actors_all['avg_vote'] = actors_all['sum']/actors_all['count']\r\n",
        "actors_all"
      ],
      "execution_count": null,
      "outputs": [
        {
          "output_type": "execute_result",
          "data": {
            "text/html": [
              "<div>\n",
              "<style scoped>\n",
              "    .dataframe tbody tr th:only-of-type {\n",
              "        vertical-align: middle;\n",
              "    }\n",
              "\n",
              "    .dataframe tbody tr th {\n",
              "        vertical-align: top;\n",
              "    }\n",
              "\n",
              "    .dataframe thead th {\n",
              "        text-align: right;\n",
              "    }\n",
              "</style>\n",
              "<table border=\"1\" class=\"dataframe\">\n",
              "  <thead>\n",
              "    <tr style=\"text-align: right;\">\n",
              "      <th></th>\n",
              "      <th>count</th>\n",
              "      <th>sum</th>\n",
              "      <th>avg_vote</th>\n",
              "    </tr>\n",
              "  </thead>\n",
              "  <tbody>\n",
              "    <tr>\n",
              "      <th>'Astor' Escobar</th>\n",
              "      <td>1.0</td>\n",
              "      <td>6.4</td>\n",
              "      <td>6.400000</td>\n",
              "    </tr>\n",
              "    <tr>\n",
              "      <th>'Baby' Carmen De Rue</th>\n",
              "      <td>3.0</td>\n",
              "      <td>15.5</td>\n",
              "      <td>5.166667</td>\n",
              "    </tr>\n",
              "    <tr>\n",
              "      <th>'Bang Bang' Toto Ruta</th>\n",
              "      <td>1.0</td>\n",
              "      <td>7.1</td>\n",
              "      <td>7.100000</td>\n",
              "    </tr>\n",
              "    <tr>\n",
              "      <th>'Big Al' Solomon</th>\n",
              "      <td>1.0</td>\n",
              "      <td>3.4</td>\n",
              "      <td>3.400000</td>\n",
              "    </tr>\n",
              "    <tr>\n",
              "      <th>'Big Jack' Provan</th>\n",
              "      <td>1.0</td>\n",
              "      <td>6.0</td>\n",
              "      <td>6.000000</td>\n",
              "    </tr>\n",
              "    <tr>\n",
              "      <th>...</th>\n",
              "      <td>...</td>\n",
              "      <td>...</td>\n",
              "      <td>...</td>\n",
              "    </tr>\n",
              "    <tr>\n",
              "      <th>Þórir Waagfjörð</th>\n",
              "      <td>1.0</td>\n",
              "      <td>5.3</td>\n",
              "      <td>5.300000</td>\n",
              "    </tr>\n",
              "    <tr>\n",
              "      <th>Þórunn Antónía Magnúsdóttir</th>\n",
              "      <td>1.0</td>\n",
              "      <td>6.3</td>\n",
              "      <td>6.300000</td>\n",
              "    </tr>\n",
              "    <tr>\n",
              "      <th>Þórunn Arna Kristjánsdóttir</th>\n",
              "      <td>1.0</td>\n",
              "      <td>7.1</td>\n",
              "      <td>7.100000</td>\n",
              "    </tr>\n",
              "    <tr>\n",
              "      <th>Þórunn Magnea Magnúsdóttir</th>\n",
              "      <td>3.0</td>\n",
              "      <td>19.8</td>\n",
              "      <td>6.600000</td>\n",
              "    </tr>\n",
              "    <tr>\n",
              "      <th>Þórður Árnason</th>\n",
              "      <td>1.0</td>\n",
              "      <td>7.3</td>\n",
              "      <td>7.300000</td>\n",
              "    </tr>\n",
              "  </tbody>\n",
              "</table>\n",
              "<p>417320 rows × 3 columns</p>\n",
              "</div>"
            ],
            "text/plain": [
              "                             count   sum  avg_vote\n",
              "'Astor' Escobar                1.0   6.4  6.400000\n",
              "'Baby' Carmen De Rue           3.0  15.5  5.166667\n",
              "'Bang Bang' Toto Ruta          1.0   7.1  7.100000\n",
              "'Big Al' Solomon               1.0   3.4  3.400000\n",
              "'Big Jack' Provan              1.0   6.0  6.000000\n",
              "...                            ...   ...       ...\n",
              "Þórir Waagfjörð                1.0   5.3  5.300000\n",
              "Þórunn Antónía Magnúsdóttir    1.0   6.3  6.300000\n",
              "Þórunn Arna Kristjánsdóttir    1.0   7.1  7.100000\n",
              "Þórunn Magnea Magnúsdóttir     3.0  19.8  6.600000\n",
              "Þórður Árnason                 1.0   7.3  7.300000\n",
              "\n",
              "[417320 rows x 3 columns]"
            ]
          },
          "metadata": {
            "tags": []
          },
          "execution_count": 320
        }
      ]
    },
    {
      "cell_type": "code",
      "metadata": {
        "colab": {
          "base_uri": "https://localhost:8080/",
          "height": 343
        },
        "id": "muyBx_iXo96q",
        "outputId": "15a20109-accb-4206-8924-26db94495cdf"
      },
      "source": [
        "# Aktorzy, którzy zagrali w więcej niż 15 filmach posortowani wg średniej oceny filmu\r\n",
        "\r\n",
        "actors_all[actors_all['count'] > 15].sort_values(by='avg_vote', ascending=False).reset_index().head(10)"
      ],
      "execution_count": null,
      "outputs": [
        {
          "output_type": "execute_result",
          "data": {
            "text/html": [
              "<div>\n",
              "<style scoped>\n",
              "    .dataframe tbody tr th:only-of-type {\n",
              "        vertical-align: middle;\n",
              "    }\n",
              "\n",
              "    .dataframe tbody tr th {\n",
              "        vertical-align: top;\n",
              "    }\n",
              "\n",
              "    .dataframe thead th {\n",
              "        text-align: right;\n",
              "    }\n",
              "</style>\n",
              "<table border=\"1\" class=\"dataframe\">\n",
              "  <thead>\n",
              "    <tr style=\"text-align: right;\">\n",
              "      <th></th>\n",
              "      <th>index</th>\n",
              "      <th>count</th>\n",
              "      <th>sum</th>\n",
              "      <th>avg_vote</th>\n",
              "    </tr>\n",
              "  </thead>\n",
              "  <tbody>\n",
              "    <tr>\n",
              "      <th>0</th>\n",
              "      <td>Rabi Ghosh</td>\n",
              "      <td>17.0</td>\n",
              "      <td>133.5</td>\n",
              "      <td>7.852941</td>\n",
              "    </tr>\n",
              "    <tr>\n",
              "      <th>1</th>\n",
              "      <td>Sergey A.</td>\n",
              "      <td>31.0</td>\n",
              "      <td>240.0</td>\n",
              "      <td>7.741935</td>\n",
              "    </tr>\n",
              "    <tr>\n",
              "      <th>2</th>\n",
              "      <td>Vyacheslav Tikhonov</td>\n",
              "      <td>16.0</td>\n",
              "      <td>123.0</td>\n",
              "      <td>7.687500</td>\n",
              "    </tr>\n",
              "    <tr>\n",
              "      <th>3</th>\n",
              "      <td>Toma Caragiu</td>\n",
              "      <td>17.0</td>\n",
              "      <td>129.5</td>\n",
              "      <td>7.617647</td>\n",
              "    </tr>\n",
              "    <tr>\n",
              "      <th>4</th>\n",
              "      <td>Charles Chaplin</td>\n",
              "      <td>18.0</td>\n",
              "      <td>137.1</td>\n",
              "      <td>7.616667</td>\n",
              "    </tr>\n",
              "    <tr>\n",
              "      <th>5</th>\n",
              "      <td>Sebastian Papaiani</td>\n",
              "      <td>26.0</td>\n",
              "      <td>197.2</td>\n",
              "      <td>7.584615</td>\n",
              "    </tr>\n",
              "    <tr>\n",
              "      <th>6</th>\n",
              "      <td>Yoshimasa Hosoya</td>\n",
              "      <td>17.0</td>\n",
              "      <td>128.7</td>\n",
              "      <td>7.570588</td>\n",
              "    </tr>\n",
              "    <tr>\n",
              "      <th>7</th>\n",
              "      <td>Bora Todorovic</td>\n",
              "      <td>19.0</td>\n",
              "      <td>143.8</td>\n",
              "      <td>7.568421</td>\n",
              "    </tr>\n",
              "    <tr>\n",
              "      <th>8</th>\n",
              "      <td>Sankaradi</td>\n",
              "      <td>45.0</td>\n",
              "      <td>339.5</td>\n",
              "      <td>7.544444</td>\n",
              "    </tr>\n",
              "    <tr>\n",
              "      <th>9</th>\n",
              "      <td>George Mihaita</td>\n",
              "      <td>16.0</td>\n",
              "      <td>120.7</td>\n",
              "      <td>7.543750</td>\n",
              "    </tr>\n",
              "  </tbody>\n",
              "</table>\n",
              "</div>"
            ],
            "text/plain": [
              "                 index  count    sum  avg_vote\n",
              "0           Rabi Ghosh   17.0  133.5  7.852941\n",
              "1            Sergey A.   31.0  240.0  7.741935\n",
              "2  Vyacheslav Tikhonov   16.0  123.0  7.687500\n",
              "3         Toma Caragiu   17.0  129.5  7.617647\n",
              "4      Charles Chaplin   18.0  137.1  7.616667\n",
              "5   Sebastian Papaiani   26.0  197.2  7.584615\n",
              "6     Yoshimasa Hosoya   17.0  128.7  7.570588\n",
              "7       Bora Todorovic   19.0  143.8  7.568421\n",
              "8            Sankaradi   45.0  339.5  7.544444\n",
              "9       George Mihaita   16.0  120.7  7.543750"
            ]
          },
          "metadata": {
            "tags": []
          },
          "execution_count": 321
        }
      ]
    },
    {
      "cell_type": "code",
      "metadata": {
        "colab": {
          "base_uri": "https://localhost:8080/",
          "height": 343
        },
        "id": "w8fI4d7Qqv01",
        "outputId": "8857516d-5024-4017-d6ab-feaffe13abb0"
      },
      "source": [
        "# Aktorzy, którzy zagrali w więcej niż 50 filmach posortowani wg średniej oceny filmu\r\n",
        "\r\n",
        "actors_all[actors_all['count'] > 50].sort_values(by='avg_vote', ascending=False).reset_index().head(10)\r\n",
        "\r\n",
        "# Myślałam, że jakieś bardziej znane nazwiska się pojawią :D"
      ],
      "execution_count": null,
      "outputs": [
        {
          "output_type": "execute_result",
          "data": {
            "text/html": [
              "<div>\n",
              "<style scoped>\n",
              "    .dataframe tbody tr th:only-of-type {\n",
              "        vertical-align: middle;\n",
              "    }\n",
              "\n",
              "    .dataframe tbody tr th {\n",
              "        vertical-align: top;\n",
              "    }\n",
              "\n",
              "    .dataframe thead th {\n",
              "        text-align: right;\n",
              "    }\n",
              "</style>\n",
              "<table border=\"1\" class=\"dataframe\">\n",
              "  <thead>\n",
              "    <tr style=\"text-align: right;\">\n",
              "      <th></th>\n",
              "      <th>index</th>\n",
              "      <th>count</th>\n",
              "      <th>sum</th>\n",
              "      <th>avg_vote</th>\n",
              "    </tr>\n",
              "  </thead>\n",
              "  <tbody>\n",
              "    <tr>\n",
              "      <th>0</th>\n",
              "      <td>Kamal Haasan</td>\n",
              "      <td>76.0</td>\n",
              "      <td>565.8</td>\n",
              "      <td>7.444737</td>\n",
              "    </tr>\n",
              "    <tr>\n",
              "      <th>1</th>\n",
              "      <td>Sener Sen</td>\n",
              "      <td>55.0</td>\n",
              "      <td>404.4</td>\n",
              "      <td>7.352727</td>\n",
              "    </tr>\n",
              "    <tr>\n",
              "      <th>2</th>\n",
              "      <td>Thilakan</td>\n",
              "      <td>69.0</td>\n",
              "      <td>506.5</td>\n",
              "      <td>7.340580</td>\n",
              "    </tr>\n",
              "    <tr>\n",
              "      <th>3</th>\n",
              "      <td>Kemal Sunal</td>\n",
              "      <td>78.0</td>\n",
              "      <td>568.0</td>\n",
              "      <td>7.282051</td>\n",
              "    </tr>\n",
              "    <tr>\n",
              "      <th>4</th>\n",
              "      <td>Pavle Vuisic</td>\n",
              "      <td>51.0</td>\n",
              "      <td>367.2</td>\n",
              "      <td>7.200000</td>\n",
              "    </tr>\n",
              "    <tr>\n",
              "      <th>5</th>\n",
              "      <td>Tatsuya Nakadai</td>\n",
              "      <td>58.0</td>\n",
              "      <td>415.3</td>\n",
              "      <td>7.160345</td>\n",
              "    </tr>\n",
              "    <tr>\n",
              "      <th>6</th>\n",
              "      <td>Bogdan Diklic</td>\n",
              "      <td>69.0</td>\n",
              "      <td>492.6</td>\n",
              "      <td>7.139130</td>\n",
              "    </tr>\n",
              "    <tr>\n",
              "      <th>7</th>\n",
              "      <td>Takashi Shimura</td>\n",
              "      <td>51.0</td>\n",
              "      <td>363.9</td>\n",
              "      <td>7.135294</td>\n",
              "    </tr>\n",
              "    <tr>\n",
              "      <th>8</th>\n",
              "      <td>Toshirô Mifune</td>\n",
              "      <td>62.0</td>\n",
              "      <td>437.7</td>\n",
              "      <td>7.059677</td>\n",
              "    </tr>\n",
              "    <tr>\n",
              "      <th>9</th>\n",
              "      <td>Sreenivasan</td>\n",
              "      <td>83.0</td>\n",
              "      <td>585.5</td>\n",
              "      <td>7.054217</td>\n",
              "    </tr>\n",
              "  </tbody>\n",
              "</table>\n",
              "</div>"
            ],
            "text/plain": [
              "             index  count    sum  avg_vote\n",
              "0     Kamal Haasan   76.0  565.8  7.444737\n",
              "1        Sener Sen   55.0  404.4  7.352727\n",
              "2         Thilakan   69.0  506.5  7.340580\n",
              "3      Kemal Sunal   78.0  568.0  7.282051\n",
              "4     Pavle Vuisic   51.0  367.2  7.200000\n",
              "5  Tatsuya Nakadai   58.0  415.3  7.160345\n",
              "6    Bogdan Diklic   69.0  492.6  7.139130\n",
              "7  Takashi Shimura   51.0  363.9  7.135294\n",
              "8   Toshirô Mifune   62.0  437.7  7.059677\n",
              "9      Sreenivasan   83.0  585.5  7.054217"
            ]
          },
          "metadata": {
            "tags": []
          },
          "execution_count": 322
        }
      ]
    },
    {
      "cell_type": "code",
      "metadata": {
        "colab": {
          "base_uri": "https://localhost:8080/",
          "height": 343
        },
        "id": "hadVd8hhrQpn",
        "outputId": "b4d593c6-431e-4053-aa61-3981fbd494fe"
      },
      "source": [
        "# Aktorzy, którzy zagrali w większej liczbie filmów\r\n",
        "\r\n",
        "actors_all.sort_values(by='count', ascending=False).reset_index().head(10)"
      ],
      "execution_count": null,
      "outputs": [
        {
          "output_type": "execute_result",
          "data": {
            "text/html": [
              "<div>\n",
              "<style scoped>\n",
              "    .dataframe tbody tr th:only-of-type {\n",
              "        vertical-align: middle;\n",
              "    }\n",
              "\n",
              "    .dataframe tbody tr th {\n",
              "        vertical-align: top;\n",
              "    }\n",
              "\n",
              "    .dataframe thead th {\n",
              "        text-align: right;\n",
              "    }\n",
              "</style>\n",
              "<table border=\"1\" class=\"dataframe\">\n",
              "  <thead>\n",
              "    <tr style=\"text-align: right;\">\n",
              "      <th></th>\n",
              "      <th>index</th>\n",
              "      <th>count</th>\n",
              "      <th>sum</th>\n",
              "      <th>avg_vote</th>\n",
              "    </tr>\n",
              "  </thead>\n",
              "  <tbody>\n",
              "    <tr>\n",
              "      <th>0</th>\n",
              "      <td>Brahmanandam</td>\n",
              "      <td>318.0</td>\n",
              "      <td>1892.5</td>\n",
              "      <td>5.951258</td>\n",
              "    </tr>\n",
              "    <tr>\n",
              "      <th>1</th>\n",
              "      <td>Anupam Kher</td>\n",
              "      <td>211.0</td>\n",
              "      <td>1195.3</td>\n",
              "      <td>5.664929</td>\n",
              "    </tr>\n",
              "    <tr>\n",
              "      <th>2</th>\n",
              "      <td>Nassar</td>\n",
              "      <td>204.0</td>\n",
              "      <td>1282.9</td>\n",
              "      <td>6.288725</td>\n",
              "    </tr>\n",
              "    <tr>\n",
              "      <th>3</th>\n",
              "      <td>Eric Roberts</td>\n",
              "      <td>204.0</td>\n",
              "      <td>904.0</td>\n",
              "      <td>4.431373</td>\n",
              "    </tr>\n",
              "    <tr>\n",
              "      <th>4</th>\n",
              "      <td>Prakash Raj</td>\n",
              "      <td>189.0</td>\n",
              "      <td>1169.9</td>\n",
              "      <td>6.189947</td>\n",
              "    </tr>\n",
              "    <tr>\n",
              "      <th>5</th>\n",
              "      <td>Tanikella Bharani</td>\n",
              "      <td>173.0</td>\n",
              "      <td>1076.7</td>\n",
              "      <td>6.223699</td>\n",
              "    </tr>\n",
              "    <tr>\n",
              "      <th>6</th>\n",
              "      <td>Amitabh Bachchan</td>\n",
              "      <td>173.0</td>\n",
              "      <td>1079.1</td>\n",
              "      <td>6.237572</td>\n",
              "    </tr>\n",
              "    <tr>\n",
              "      <th>7</th>\n",
              "      <td>Mohanlal</td>\n",
              "      <td>169.0</td>\n",
              "      <td>1120.3</td>\n",
              "      <td>6.628994</td>\n",
              "    </tr>\n",
              "    <tr>\n",
              "      <th>8</th>\n",
              "      <td>Gérard Depardieu</td>\n",
              "      <td>164.0</td>\n",
              "      <td>1000.1</td>\n",
              "      <td>6.098171</td>\n",
              "    </tr>\n",
              "    <tr>\n",
              "      <th>9</th>\n",
              "      <td>John Carradine</td>\n",
              "      <td>162.0</td>\n",
              "      <td>895.7</td>\n",
              "      <td>5.529012</td>\n",
              "    </tr>\n",
              "  </tbody>\n",
              "</table>\n",
              "</div>"
            ],
            "text/plain": [
              "               index  count     sum  avg_vote\n",
              "0       Brahmanandam  318.0  1892.5  5.951258\n",
              "1        Anupam Kher  211.0  1195.3  5.664929\n",
              "2             Nassar  204.0  1282.9  6.288725\n",
              "3       Eric Roberts  204.0   904.0  4.431373\n",
              "4        Prakash Raj  189.0  1169.9  6.189947\n",
              "5  Tanikella Bharani  173.0  1076.7  6.223699\n",
              "6   Amitabh Bachchan  173.0  1079.1  6.237572\n",
              "7           Mohanlal  169.0  1120.3  6.628994\n",
              "8   Gérard Depardieu  164.0  1000.1  6.098171\n",
              "9     John Carradine  162.0   895.7  5.529012"
            ]
          },
          "metadata": {
            "tags": []
          },
          "execution_count": 323
        }
      ]
    }
  ]
}