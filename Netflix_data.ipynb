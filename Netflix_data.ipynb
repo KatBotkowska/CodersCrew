{
  "nbformat": 4,
  "nbformat_minor": 0,
  "metadata": {
    "colab": {
      "name": "Netflix_data.ipynb",
      "provenance": [],
      "collapsed_sections": [],
      "toc_visible": true,
      "include_colab_link": true
    },
    "kernelspec": {
      "name": "python3",
      "display_name": "Python 3"
    }
  },
  "cells": [
    {
      "cell_type": "markdown",
      "metadata": {
        "id": "view-in-github",
        "colab_type": "text"
      },
      "source": [
        "<a href=\"https://colab.research.google.com/github/KatBotkowska/CodersCrew/blob/master/Netflix_data.ipynb\" target=\"_parent\"><img src=\"https://colab.research.google.com/assets/colab-badge.svg\" alt=\"Open In Colab\"/></a>"
      ]
    },
    {
      "cell_type": "markdown",
      "metadata": {
        "id": "1dYNB-8ftFWJ"
      },
      "source": [
        "#Pobranie danych z Kaggle\n"
      ]
    },
    {
      "cell_type": "markdown",
      "metadata": {
        "id": "y-dSyhk_t0ti"
      },
      "source": [
        "###https://towardsdatascience.com/downloading-datasets-into-google-drive-via-google-colab-bcb1b30b0166"
      ]
    },
    {
      "cell_type": "code",
      "metadata": {
        "colab": {
          "base_uri": "https://localhost:8080/"
        },
        "id": "hqDwSSzWplTI",
        "outputId": "0784620f-85b1-4eea-8476-9020955cba02"
      },
      "source": [
        "#podłączenie google drive\n",
        "from google.colab import drive\n",
        "drive.mount('/content/gdrive')"
      ],
      "execution_count": null,
      "outputs": [
        {
          "output_type": "stream",
          "text": [
            "Mounted at /content/gdrive\n"
          ],
          "name": "stdout"
        }
      ]
    },
    {
      "cell_type": "code",
      "metadata": {
        "id": "pezF5SSlqJLm"
      },
      "source": [
        "root_path = 'gdrive/My Drive/netflix/'"
      ],
      "execution_count": null,
      "outputs": []
    },
    {
      "cell_type": "code",
      "metadata": {
        "colab": {
          "resources": {
            "http://localhost:8080/nbextensions/google.colab/files.js": {
              "data": "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",
              "ok": true,
              "headers": [
                [
                  "content-type",
                  "application/javascript"
                ]
              ],
              "status": 200,
              "status_text": ""
            }
          },
          "base_uri": "https://localhost:8080/",
          "height": 89
        },
        "id": "gRka04f8qzYk",
        "outputId": "80665165-f2e1-405d-ee8e-7591bea103b5"
      },
      "source": [
        "from google.colab import files\n",
        "files.upload()  #this will prompt you to upload the kaggle.json"
      ],
      "execution_count": null,
      "outputs": [
        {
          "output_type": "display_data",
          "data": {
            "text/html": [
              "\n",
              "     <input type=\"file\" id=\"files-72dd305f-ebca-4dcd-bc88-be38a84c1255\" name=\"files[]\" multiple disabled\n",
              "        style=\"border:none\" />\n",
              "     <output id=\"result-72dd305f-ebca-4dcd-bc88-be38a84c1255\">\n",
              "      Upload widget is only available when the cell has been executed in the\n",
              "      current browser session. Please rerun this cell to enable.\n",
              "      </output>\n",
              "      <script src=\"/nbextensions/google.colab/files.js\"></script> "
            ],
            "text/plain": [
              "<IPython.core.display.HTML object>"
            ]
          },
          "metadata": {
            "tags": []
          }
        },
        {
          "output_type": "stream",
          "text": [
            "Saving kaggle.json to kaggle.json\n"
          ],
          "name": "stdout"
        },
        {
          "output_type": "execute_result",
          "data": {
            "text/plain": [
              "{'kaggle.json': b'{\"username\":\"kbotkowska\",\"key\":\"90ebb11108c952959800f5549af3472d\"}'}"
            ]
          },
          "metadata": {
            "tags": []
          },
          "execution_count": 3
        }
      ]
    },
    {
      "cell_type": "code",
      "metadata": {
        "colab": {
          "base_uri": "https://localhost:8080/"
        },
        "id": "QKw8uL2brD0I",
        "outputId": "e20d9eec-062b-4a67-b927-c7db9f0fc8f1"
      },
      "source": [
        "!pip install -q kaggle\n",
        "!mkdir -p ~/.kaggle\n",
        "!cp kaggle.json ~/.kaggle/\n",
        "!ls ~/.kaggle\n",
        "!chmod 600 /root/.kaggle/kaggle.json  # set permission"
      ],
      "execution_count": null,
      "outputs": [
        {
          "output_type": "stream",
          "text": [
            "kaggle.json\n"
          ],
          "name": "stdout"
        }
      ]
    },
    {
      "cell_type": "markdown",
      "metadata": {
        "id": "KPrnVAh3SQSL"
      },
      "source": [
        "##Pobranie i rozpakowanie danych kaggle - netflix"
      ]
    },
    {
      "cell_type": "code",
      "metadata": {
        "colab": {
          "base_uri": "https://localhost:8080/"
        },
        "id": "Pfvyg-q7oHyl",
        "outputId": "16cc067c-1821-4886-be3d-8806220c129f"
      },
      "source": [
        "!kaggle datasets download -d shivamb/netflix-shows"
      ],
      "execution_count": null,
      "outputs": [
        {
          "output_type": "stream",
          "text": [
            "Downloading netflix-shows.zip to /content\n",
            "\r  0% 0.00/971k [00:00<?, ?B/s]\n",
            "\r100% 971k/971k [00:00<00:00, 64.8MB/s]\n"
          ],
          "name": "stdout"
        }
      ]
    },
    {
      "cell_type": "code",
      "metadata": {
        "id": "U_F5ZGZErHTu"
      },
      "source": [
        "!unzip -q netflix-shows.zip -d [netflix]"
      ],
      "execution_count": null,
      "outputs": []
    },
    {
      "cell_type": "markdown",
      "metadata": {
        "id": "H-ct6GMeSVk9"
      },
      "source": [
        "##Pobranie i rozpakowanie danych kaggle - imdb"
      ]
    },
    {
      "cell_type": "code",
      "metadata": {
        "colab": {
          "base_uri": "https://localhost:8080/"
        },
        "id": "wu8fuoY9Qb2t",
        "outputId": "e8ba47a7-374e-4420-e16b-ba8878fd5ac8"
      },
      "source": [
        "!kaggle datasets download -d stefanoleone992/imdb-extensive-dataset"
      ],
      "execution_count": null,
      "outputs": [
        {
          "output_type": "stream",
          "text": [
            "Downloading imdb-extensive-dataset.zip to /content\n",
            " 86% 71.0M/82.3M [00:00<00:00, 80.3MB/s]\n",
            "100% 82.3M/82.3M [00:00<00:00, 121MB/s] \n"
          ],
          "name": "stdout"
        }
      ]
    },
    {
      "cell_type": "code",
      "metadata": {
        "id": "c11NHM89QnQS"
      },
      "source": [
        "!unzip -q imdb-extensive-dataset.zip -d [netflix]"
      ],
      "execution_count": null,
      "outputs": []
    },
    {
      "cell_type": "markdown",
      "metadata": {
        "id": "P5nmxNc3T2s9"
      },
      "source": [
        "##Pobranie i rozpakowanie danych kaggle - movielens"
      ]
    },
    {
      "cell_type": "code",
      "metadata": {
        "colab": {
          "base_uri": "https://localhost:8080/"
        },
        "id": "Kqy8DmmUUA4w",
        "outputId": "3dfda49e-cffa-4042-9b7f-715af92c9f3c"
      },
      "source": [
        "!kaggle datasets download -d grouplens/movielens-20m-dataset"
      ],
      "execution_count": null,
      "outputs": [
        {
          "output_type": "stream",
          "text": [
            "Downloading movielens-20m-dataset.zip to /content\n",
            " 96% 188M/195M [00:01<00:00, 155MB/s]\n",
            "100% 195M/195M [00:01<00:00, 163MB/s]\n"
          ],
          "name": "stdout"
        }
      ]
    },
    {
      "cell_type": "code",
      "metadata": {
        "id": "tOuMnfUhUE45"
      },
      "source": [
        "!unzip -q movielens-20m-dataset.zip -d [netflix]"
      ],
      "execution_count": null,
      "outputs": []
    },
    {
      "cell_type": "markdown",
      "metadata": {
        "id": "Lw541Vd_Slpz"
      },
      "source": [
        "##Załadowanie dataframes"
      ]
    },
    {
      "cell_type": "code",
      "metadata": {
        "id": "tEdj0XV0vODT"
      },
      "source": [
        "import pandas as pd\n",
        "netflix_titles = pd.read_csv('/content/[netflix]/netflix_titles.csv')"
      ],
      "execution_count": null,
      "outputs": []
    },
    {
      "cell_type": "code",
      "metadata": {
        "colab": {
          "base_uri": "https://localhost:8080/"
        },
        "id": "dqqUSfiJQ-oQ",
        "outputId": "f9c61257-554b-4e8b-a2cf-ef93e7a1cd54"
      },
      "source": [
        "imdb_movies = pd.read_csv('/content/[netflix]/IMDb movies.csv')\n",
        "imdb_names = pd.read_csv('/content/[netflix]/IMDb names.csv')\n",
        "imdb_ratings = pd.read_csv('/content/[netflix]/IMDb ratings.csv')\n",
        "imdb_title_principals = pd.read_csv('/content/[netflix]/IMDb title_principals.csv')"
      ],
      "execution_count": null,
      "outputs": [
        {
          "output_type": "stream",
          "text": [
            "/usr/local/lib/python3.6/dist-packages/IPython/core/interactiveshell.py:2718: DtypeWarning: Columns (3) have mixed types.Specify dtype option on import or set low_memory=False.\n",
            "  interactivity=interactivity, compiler=compiler, result=result)\n"
          ],
          "name": "stderr"
        }
      ]
    },
    {
      "cell_type": "code",
      "metadata": {
        "id": "zjE02Hx9UU8l"
      },
      "source": [
        "movielens_genome_scores = pd.read_csv('/content/[netflix]/genome_scores.csv')\n",
        "movielens_genome_tags = pd.read_csv('/content/[netflix]/genome_tags.csv')\n",
        "movielens_link = pd.read_csv('/content/[netflix]/link.csv')\n",
        "movielens_movie = pd.read_csv('/content/[netflix]/movie.csv')\n",
        "movielens_rating = pd.read_csv('/content/[netflix]/rating.csv')\n",
        "movielens_tag = pd.read_csv('/content/[netflix]/tag.csv')"
      ],
      "execution_count": null,
      "outputs": []
    },
    {
      "cell_type": "markdown",
      "metadata": {
        "id": "stnsNibnpxvu"
      },
      "source": [
        "#Netflix - podstawowe dane\n"
      ]
    },
    {
      "cell_type": "code",
      "metadata": {
        "colab": {
          "base_uri": "https://localhost:8080/",
          "height": 666
        },
        "id": "Df1j4jqJvpat",
        "outputId": "efc9ae95-f888-4d54-c7d3-2d3dec6de0f9"
      },
      "source": [
        "netflix_titles.head()"
      ],
      "execution_count": null,
      "outputs": [
        {
          "output_type": "execute_result",
          "data": {
            "text/html": [
              "<div>\n",
              "<style scoped>\n",
              "    .dataframe tbody tr th:only-of-type {\n",
              "        vertical-align: middle;\n",
              "    }\n",
              "\n",
              "    .dataframe tbody tr th {\n",
              "        vertical-align: top;\n",
              "    }\n",
              "\n",
              "    .dataframe thead th {\n",
              "        text-align: right;\n",
              "    }\n",
              "</style>\n",
              "<table border=\"1\" class=\"dataframe\">\n",
              "  <thead>\n",
              "    <tr style=\"text-align: right;\">\n",
              "      <th></th>\n",
              "      <th>show_id</th>\n",
              "      <th>type</th>\n",
              "      <th>title</th>\n",
              "      <th>director</th>\n",
              "      <th>cast</th>\n",
              "      <th>country</th>\n",
              "      <th>date_added</th>\n",
              "      <th>release_year</th>\n",
              "      <th>rating</th>\n",
              "      <th>duration</th>\n",
              "      <th>listed_in</th>\n",
              "      <th>description</th>\n",
              "    </tr>\n",
              "  </thead>\n",
              "  <tbody>\n",
              "    <tr>\n",
              "      <th>0</th>\n",
              "      <td>81145628</td>\n",
              "      <td>Movie</td>\n",
              "      <td>Norm of the North: King Sized Adventure</td>\n",
              "      <td>Richard Finn, Tim Maltby</td>\n",
              "      <td>Alan Marriott, Andrew Toth, Brian Dobson, Cole...</td>\n",
              "      <td>United States, India, South Korea, China</td>\n",
              "      <td>September 9, 2019</td>\n",
              "      <td>2019</td>\n",
              "      <td>TV-PG</td>\n",
              "      <td>90 min</td>\n",
              "      <td>Children &amp; Family Movies, Comedies</td>\n",
              "      <td>Before planning an awesome wedding for his gra...</td>\n",
              "    </tr>\n",
              "    <tr>\n",
              "      <th>1</th>\n",
              "      <td>80117401</td>\n",
              "      <td>Movie</td>\n",
              "      <td>Jandino: Whatever it Takes</td>\n",
              "      <td>NaN</td>\n",
              "      <td>Jandino Asporaat</td>\n",
              "      <td>United Kingdom</td>\n",
              "      <td>September 9, 2016</td>\n",
              "      <td>2016</td>\n",
              "      <td>TV-MA</td>\n",
              "      <td>94 min</td>\n",
              "      <td>Stand-Up Comedy</td>\n",
              "      <td>Jandino Asporaat riffs on the challenges of ra...</td>\n",
              "    </tr>\n",
              "    <tr>\n",
              "      <th>2</th>\n",
              "      <td>70234439</td>\n",
              "      <td>TV Show</td>\n",
              "      <td>Transformers Prime</td>\n",
              "      <td>NaN</td>\n",
              "      <td>Peter Cullen, Sumalee Montano, Frank Welker, J...</td>\n",
              "      <td>United States</td>\n",
              "      <td>September 8, 2018</td>\n",
              "      <td>2013</td>\n",
              "      <td>TV-Y7-FV</td>\n",
              "      <td>1 Season</td>\n",
              "      <td>Kids' TV</td>\n",
              "      <td>With the help of three human allies, the Autob...</td>\n",
              "    </tr>\n",
              "    <tr>\n",
              "      <th>3</th>\n",
              "      <td>80058654</td>\n",
              "      <td>TV Show</td>\n",
              "      <td>Transformers: Robots in Disguise</td>\n",
              "      <td>NaN</td>\n",
              "      <td>Will Friedle, Darren Criss, Constance Zimmer, ...</td>\n",
              "      <td>United States</td>\n",
              "      <td>September 8, 2018</td>\n",
              "      <td>2016</td>\n",
              "      <td>TV-Y7</td>\n",
              "      <td>1 Season</td>\n",
              "      <td>Kids' TV</td>\n",
              "      <td>When a prison ship crash unleashes hundreds of...</td>\n",
              "    </tr>\n",
              "    <tr>\n",
              "      <th>4</th>\n",
              "      <td>80125979</td>\n",
              "      <td>Movie</td>\n",
              "      <td>#realityhigh</td>\n",
              "      <td>Fernando Lebrija</td>\n",
              "      <td>Nesta Cooper, Kate Walsh, John Michael Higgins...</td>\n",
              "      <td>United States</td>\n",
              "      <td>September 8, 2017</td>\n",
              "      <td>2017</td>\n",
              "      <td>TV-14</td>\n",
              "      <td>99 min</td>\n",
              "      <td>Comedies</td>\n",
              "      <td>When nerdy high schooler Dani finally attracts...</td>\n",
              "    </tr>\n",
              "  </tbody>\n",
              "</table>\n",
              "</div>"
            ],
            "text/plain": [
              "    show_id  ...                                        description\n",
              "0  81145628  ...  Before planning an awesome wedding for his gra...\n",
              "1  80117401  ...  Jandino Asporaat riffs on the challenges of ra...\n",
              "2  70234439  ...  With the help of three human allies, the Autob...\n",
              "3  80058654  ...  When a prison ship crash unleashes hundreds of...\n",
              "4  80125979  ...  When nerdy high schooler Dani finally attracts...\n",
              "\n",
              "[5 rows x 12 columns]"
            ]
          },
          "metadata": {
            "tags": []
          },
          "execution_count": 15
        }
      ]
    },
    {
      "cell_type": "code",
      "metadata": {
        "colab": {
          "base_uri": "https://localhost:8080/"
        },
        "id": "lR4GTaGoqm1z",
        "outputId": "81d13dbb-43fd-4301-89d2-09d7d026516a"
      },
      "source": [
        "netflix_titles.shape\n",
        "#rozmiary  - wiersze i kolumny"
      ],
      "execution_count": null,
      "outputs": [
        {
          "output_type": "execute_result",
          "data": {
            "text/plain": [
              "(6234, 12)"
            ]
          },
          "metadata": {
            "tags": []
          },
          "execution_count": 16
        }
      ]
    },
    {
      "cell_type": "code",
      "metadata": {
        "colab": {
          "base_uri": "https://localhost:8080/"
        },
        "id": "O619TBHPp3no",
        "outputId": "1888dae3-b605-4c95-f482-6d18cd282ba0"
      },
      "source": [
        "netflix_titles.info()\n"
      ],
      "execution_count": null,
      "outputs": [
        {
          "output_type": "stream",
          "text": [
            "<class 'pandas.core.frame.DataFrame'>\n",
            "RangeIndex: 6234 entries, 0 to 6233\n",
            "Data columns (total 12 columns):\n",
            " #   Column        Non-Null Count  Dtype \n",
            "---  ------        --------------  ----- \n",
            " 0   show_id       6234 non-null   int64 \n",
            " 1   type          6234 non-null   object\n",
            " 2   title         6234 non-null   object\n",
            " 3   director      4265 non-null   object\n",
            " 4   cast          5664 non-null   object\n",
            " 5   country       5758 non-null   object\n",
            " 6   date_added    6223 non-null   object\n",
            " 7   release_year  6234 non-null   int64 \n",
            " 8   rating        6224 non-null   object\n",
            " 9   duration      6234 non-null   object\n",
            " 10  listed_in     6234 non-null   object\n",
            " 11  description   6234 non-null   object\n",
            "dtypes: int64(2), object(10)\n",
            "memory usage: 584.6+ KB\n"
          ],
          "name": "stdout"
        }
      ]
    },
    {
      "cell_type": "code",
      "metadata": {
        "colab": {
          "base_uri": "https://localhost:8080/",
          "height": 297
        },
        "id": "6849qabLqD-R",
        "outputId": "37e3ae8f-e022-4ad5-d8bf-2ae9b118581e"
      },
      "source": [
        "netflix_titles.describe()\n",
        "#trochę bez sensu, nie ma tutaj dużo danych numerycznych do podsumowań"
      ],
      "execution_count": null,
      "outputs": [
        {
          "output_type": "execute_result",
          "data": {
            "text/html": [
              "<div>\n",
              "<style scoped>\n",
              "    .dataframe tbody tr th:only-of-type {\n",
              "        vertical-align: middle;\n",
              "    }\n",
              "\n",
              "    .dataframe tbody tr th {\n",
              "        vertical-align: top;\n",
              "    }\n",
              "\n",
              "    .dataframe thead th {\n",
              "        text-align: right;\n",
              "    }\n",
              "</style>\n",
              "<table border=\"1\" class=\"dataframe\">\n",
              "  <thead>\n",
              "    <tr style=\"text-align: right;\">\n",
              "      <th></th>\n",
              "      <th>show_id</th>\n",
              "      <th>release_year</th>\n",
              "    </tr>\n",
              "  </thead>\n",
              "  <tbody>\n",
              "    <tr>\n",
              "      <th>count</th>\n",
              "      <td>6.234000e+03</td>\n",
              "      <td>6234.00000</td>\n",
              "    </tr>\n",
              "    <tr>\n",
              "      <th>mean</th>\n",
              "      <td>7.670368e+07</td>\n",
              "      <td>2013.35932</td>\n",
              "    </tr>\n",
              "    <tr>\n",
              "      <th>std</th>\n",
              "      <td>1.094296e+07</td>\n",
              "      <td>8.81162</td>\n",
              "    </tr>\n",
              "    <tr>\n",
              "      <th>min</th>\n",
              "      <td>2.477470e+05</td>\n",
              "      <td>1925.00000</td>\n",
              "    </tr>\n",
              "    <tr>\n",
              "      <th>25%</th>\n",
              "      <td>8.003580e+07</td>\n",
              "      <td>2013.00000</td>\n",
              "    </tr>\n",
              "    <tr>\n",
              "      <th>50%</th>\n",
              "      <td>8.016337e+07</td>\n",
              "      <td>2016.00000</td>\n",
              "    </tr>\n",
              "    <tr>\n",
              "      <th>75%</th>\n",
              "      <td>8.024489e+07</td>\n",
              "      <td>2018.00000</td>\n",
              "    </tr>\n",
              "    <tr>\n",
              "      <th>max</th>\n",
              "      <td>8.123573e+07</td>\n",
              "      <td>2020.00000</td>\n",
              "    </tr>\n",
              "  </tbody>\n",
              "</table>\n",
              "</div>"
            ],
            "text/plain": [
              "            show_id  release_year\n",
              "count  6.234000e+03    6234.00000\n",
              "mean   7.670368e+07    2013.35932\n",
              "std    1.094296e+07       8.81162\n",
              "min    2.477470e+05    1925.00000\n",
              "25%    8.003580e+07    2013.00000\n",
              "50%    8.016337e+07    2016.00000\n",
              "75%    8.024489e+07    2018.00000\n",
              "max    8.123573e+07    2020.00000"
            ]
          },
          "metadata": {
            "tags": []
          },
          "execution_count": 18
        }
      ]
    },
    {
      "cell_type": "markdown",
      "metadata": {
        "id": "armVCGXvrsny"
      },
      "source": [
        "##Netflix dla 2019"
      ]
    },
    {
      "cell_type": "code",
      "metadata": {
        "colab": {
          "base_uri": "https://localhost:8080/",
          "height": 666
        },
        "id": "MoGZa1ttq3-C",
        "outputId": "e0fd4d9c-5756-4504-cb79-5424f5c6c05b"
      },
      "source": [
        "netflix_2019 = netflix_titles.iloc[:,:][netflix_titles.release_year==2019]\n",
        "netflix_2019.head()"
      ],
      "execution_count": null,
      "outputs": [
        {
          "output_type": "execute_result",
          "data": {
            "text/html": [
              "<div>\n",
              "<style scoped>\n",
              "    .dataframe tbody tr th:only-of-type {\n",
              "        vertical-align: middle;\n",
              "    }\n",
              "\n",
              "    .dataframe tbody tr th {\n",
              "        vertical-align: top;\n",
              "    }\n",
              "\n",
              "    .dataframe thead th {\n",
              "        text-align: right;\n",
              "    }\n",
              "</style>\n",
              "<table border=\"1\" class=\"dataframe\">\n",
              "  <thead>\n",
              "    <tr style=\"text-align: right;\">\n",
              "      <th></th>\n",
              "      <th>show_id</th>\n",
              "      <th>type</th>\n",
              "      <th>title</th>\n",
              "      <th>director</th>\n",
              "      <th>cast</th>\n",
              "      <th>country</th>\n",
              "      <th>date_added</th>\n",
              "      <th>release_year</th>\n",
              "      <th>rating</th>\n",
              "      <th>duration</th>\n",
              "      <th>listed_in</th>\n",
              "      <th>description</th>\n",
              "    </tr>\n",
              "  </thead>\n",
              "  <tbody>\n",
              "    <tr>\n",
              "      <th>0</th>\n",
              "      <td>81145628</td>\n",
              "      <td>Movie</td>\n",
              "      <td>Norm of the North: King Sized Adventure</td>\n",
              "      <td>Richard Finn, Tim Maltby</td>\n",
              "      <td>Alan Marriott, Andrew Toth, Brian Dobson, Cole...</td>\n",
              "      <td>United States, India, South Korea, China</td>\n",
              "      <td>September 9, 2019</td>\n",
              "      <td>2019</td>\n",
              "      <td>TV-PG</td>\n",
              "      <td>90 min</td>\n",
              "      <td>Children &amp; Family Movies, Comedies</td>\n",
              "      <td>Before planning an awesome wedding for his gra...</td>\n",
              "    </tr>\n",
              "    <tr>\n",
              "      <th>34</th>\n",
              "      <td>80221550</td>\n",
              "      <td>TV Show</td>\n",
              "      <td>Archibald's Next Big Thing</td>\n",
              "      <td>NaN</td>\n",
              "      <td>Tony Hale, Rosamund Pike, Jordan Fisher, Chels...</td>\n",
              "      <td>NaN</td>\n",
              "      <td>September 6, 2019</td>\n",
              "      <td>2019</td>\n",
              "      <td>TV-Y7</td>\n",
              "      <td>1 Season</td>\n",
              "      <td>Kids' TV, TV Comedies</td>\n",
              "      <td>Happy-go-lucky chicken Archibald may not remem...</td>\n",
              "    </tr>\n",
              "    <tr>\n",
              "      <th>35</th>\n",
              "      <td>81154455</td>\n",
              "      <td>Movie</td>\n",
              "      <td>Article 15</td>\n",
              "      <td>Anubhav Sinha</td>\n",
              "      <td>Ayushmann Khurrana, Nassar, Manoj Pahwa, Kumud...</td>\n",
              "      <td>India</td>\n",
              "      <td>September 6, 2019</td>\n",
              "      <td>2019</td>\n",
              "      <td>TV-MA</td>\n",
              "      <td>125 min</td>\n",
              "      <td>Dramas, International Movies, Thrillers</td>\n",
              "      <td>The grim realities of caste discrimination com...</td>\n",
              "    </tr>\n",
              "    <tr>\n",
              "      <th>38</th>\n",
              "      <td>81132437</td>\n",
              "      <td>Movie</td>\n",
              "      <td>Kill Me If You Dare</td>\n",
              "      <td>Şenol Sönmez</td>\n",
              "      <td>Murat Boz, Seda Bakan, Açelya Topaloğlu, Özgür...</td>\n",
              "      <td>NaN</td>\n",
              "      <td>September 6, 2019</td>\n",
              "      <td>2019</td>\n",
              "      <td>TV-14</td>\n",
              "      <td>100 min</td>\n",
              "      <td>Comedies, International Movies, Romantic Movies</td>\n",
              "      <td>Bogged down with money problems, a couple grow...</td>\n",
              "    </tr>\n",
              "    <tr>\n",
              "      <th>39</th>\n",
              "      <td>80178151</td>\n",
              "      <td>TV Show</td>\n",
              "      <td>The Spy</td>\n",
              "      <td>NaN</td>\n",
              "      <td>Sacha Baron Cohen, Noah Emmerich, Hadar Ratzon...</td>\n",
              "      <td>France</td>\n",
              "      <td>September 6, 2019</td>\n",
              "      <td>2019</td>\n",
              "      <td>TV-MA</td>\n",
              "      <td>1 Season</td>\n",
              "      <td>International TV Shows, TV Dramas, TV Thrillers</td>\n",
              "      <td>In the 1960s, Israeli clerk-turned-secret agen...</td>\n",
              "    </tr>\n",
              "  </tbody>\n",
              "</table>\n",
              "</div>"
            ],
            "text/plain": [
              "     show_id  ...                                        description\n",
              "0   81145628  ...  Before planning an awesome wedding for his gra...\n",
              "34  80221550  ...  Happy-go-lucky chicken Archibald may not remem...\n",
              "35  81154455  ...  The grim realities of caste discrimination com...\n",
              "38  81132437  ...  Bogged down with money problems, a couple grow...\n",
              "39  80178151  ...  In the 1960s, Israeli clerk-turned-secret agen...\n",
              "\n",
              "[5 rows x 12 columns]"
            ]
          },
          "metadata": {
            "tags": []
          },
          "execution_count": 19
        }
      ]
    },
    {
      "cell_type": "code",
      "metadata": {
        "colab": {
          "base_uri": "https://localhost:8080/"
        },
        "id": "W3sHrlc0rx8a",
        "outputId": "823b51f2-22c8-4cc0-f12d-498d65e06e1f"
      },
      "source": [
        "netflix_2019.shape"
      ],
      "execution_count": null,
      "outputs": [
        {
          "output_type": "execute_result",
          "data": {
            "text/plain": [
              "(843, 12)"
            ]
          },
          "metadata": {
            "tags": []
          },
          "execution_count": 20
        }
      ]
    },
    {
      "cell_type": "code",
      "metadata": {
        "colab": {
          "base_uri": "https://localhost:8080/",
          "height": 666
        },
        "id": "olFvtc0kTMaN",
        "outputId": "273f83c1-2ffe-4567-ee7b-fd0b5e68e459"
      },
      "source": [
        "imdb_movies.head()"
      ],
      "execution_count": null,
      "outputs": [
        {
          "output_type": "execute_result",
          "data": {
            "text/html": [
              "<div>\n",
              "<style scoped>\n",
              "    .dataframe tbody tr th:only-of-type {\n",
              "        vertical-align: middle;\n",
              "    }\n",
              "\n",
              "    .dataframe tbody tr th {\n",
              "        vertical-align: top;\n",
              "    }\n",
              "\n",
              "    .dataframe thead th {\n",
              "        text-align: right;\n",
              "    }\n",
              "</style>\n",
              "<table border=\"1\" class=\"dataframe\">\n",
              "  <thead>\n",
              "    <tr style=\"text-align: right;\">\n",
              "      <th></th>\n",
              "      <th>imdb_title_id</th>\n",
              "      <th>title</th>\n",
              "      <th>original_title</th>\n",
              "      <th>year</th>\n",
              "      <th>date_published</th>\n",
              "      <th>genre</th>\n",
              "      <th>duration</th>\n",
              "      <th>country</th>\n",
              "      <th>language</th>\n",
              "      <th>director</th>\n",
              "      <th>writer</th>\n",
              "      <th>production_company</th>\n",
              "      <th>actors</th>\n",
              "      <th>description</th>\n",
              "      <th>avg_vote</th>\n",
              "      <th>votes</th>\n",
              "      <th>budget</th>\n",
              "      <th>usa_gross_income</th>\n",
              "      <th>worlwide_gross_income</th>\n",
              "      <th>metascore</th>\n",
              "      <th>reviews_from_users</th>\n",
              "      <th>reviews_from_critics</th>\n",
              "    </tr>\n",
              "  </thead>\n",
              "  <tbody>\n",
              "    <tr>\n",
              "      <th>0</th>\n",
              "      <td>tt0000009</td>\n",
              "      <td>Miss Jerry</td>\n",
              "      <td>Miss Jerry</td>\n",
              "      <td>1894</td>\n",
              "      <td>1894-10-09</td>\n",
              "      <td>Romance</td>\n",
              "      <td>45</td>\n",
              "      <td>USA</td>\n",
              "      <td>None</td>\n",
              "      <td>Alexander Black</td>\n",
              "      <td>Alexander Black</td>\n",
              "      <td>Alexander Black Photoplays</td>\n",
              "      <td>Blanche Bayliss, William Courtenay, Chauncey D...</td>\n",
              "      <td>The adventures of a female reporter in the 1890s.</td>\n",
              "      <td>5.9</td>\n",
              "      <td>154</td>\n",
              "      <td>NaN</td>\n",
              "      <td>NaN</td>\n",
              "      <td>NaN</td>\n",
              "      <td>NaN</td>\n",
              "      <td>1.0</td>\n",
              "      <td>2.0</td>\n",
              "    </tr>\n",
              "    <tr>\n",
              "      <th>1</th>\n",
              "      <td>tt0000574</td>\n",
              "      <td>The Story of the Kelly Gang</td>\n",
              "      <td>The Story of the Kelly Gang</td>\n",
              "      <td>1906</td>\n",
              "      <td>1906-12-26</td>\n",
              "      <td>Biography, Crime, Drama</td>\n",
              "      <td>70</td>\n",
              "      <td>Australia</td>\n",
              "      <td>None</td>\n",
              "      <td>Charles Tait</td>\n",
              "      <td>Charles Tait</td>\n",
              "      <td>J. and N. Tait</td>\n",
              "      <td>Elizabeth Tait, John Tait, Norman Campbell, Be...</td>\n",
              "      <td>True story of notorious Australian outlaw Ned ...</td>\n",
              "      <td>6.1</td>\n",
              "      <td>589</td>\n",
              "      <td>$ 2250</td>\n",
              "      <td>NaN</td>\n",
              "      <td>NaN</td>\n",
              "      <td>NaN</td>\n",
              "      <td>7.0</td>\n",
              "      <td>7.0</td>\n",
              "    </tr>\n",
              "    <tr>\n",
              "      <th>2</th>\n",
              "      <td>tt0001892</td>\n",
              "      <td>Den sorte drøm</td>\n",
              "      <td>Den sorte drøm</td>\n",
              "      <td>1911</td>\n",
              "      <td>1911-08-19</td>\n",
              "      <td>Drama</td>\n",
              "      <td>53</td>\n",
              "      <td>Germany, Denmark</td>\n",
              "      <td>NaN</td>\n",
              "      <td>Urban Gad</td>\n",
              "      <td>Urban Gad, Gebhard Schätzler-Perasini</td>\n",
              "      <td>Fotorama</td>\n",
              "      <td>Asta Nielsen, Valdemar Psilander, Gunnar Helse...</td>\n",
              "      <td>Two men of high rank are both wooing the beaut...</td>\n",
              "      <td>5.8</td>\n",
              "      <td>188</td>\n",
              "      <td>NaN</td>\n",
              "      <td>NaN</td>\n",
              "      <td>NaN</td>\n",
              "      <td>NaN</td>\n",
              "      <td>5.0</td>\n",
              "      <td>2.0</td>\n",
              "    </tr>\n",
              "    <tr>\n",
              "      <th>3</th>\n",
              "      <td>tt0002101</td>\n",
              "      <td>Cleopatra</td>\n",
              "      <td>Cleopatra</td>\n",
              "      <td>1912</td>\n",
              "      <td>1912-11-13</td>\n",
              "      <td>Drama, History</td>\n",
              "      <td>100</td>\n",
              "      <td>USA</td>\n",
              "      <td>English</td>\n",
              "      <td>Charles L. Gaskill</td>\n",
              "      <td>Victorien Sardou</td>\n",
              "      <td>Helen Gardner Picture Players</td>\n",
              "      <td>Helen Gardner, Pearl Sindelar, Miss Fielding, ...</td>\n",
              "      <td>The fabled queen of Egypt's affair with Roman ...</td>\n",
              "      <td>5.2</td>\n",
              "      <td>446</td>\n",
              "      <td>$ 45000</td>\n",
              "      <td>NaN</td>\n",
              "      <td>NaN</td>\n",
              "      <td>NaN</td>\n",
              "      <td>25.0</td>\n",
              "      <td>3.0</td>\n",
              "    </tr>\n",
              "    <tr>\n",
              "      <th>4</th>\n",
              "      <td>tt0002130</td>\n",
              "      <td>L'Inferno</td>\n",
              "      <td>L'Inferno</td>\n",
              "      <td>1911</td>\n",
              "      <td>1911-03-06</td>\n",
              "      <td>Adventure, Drama, Fantasy</td>\n",
              "      <td>68</td>\n",
              "      <td>Italy</td>\n",
              "      <td>Italian</td>\n",
              "      <td>Francesco Bertolini, Adolfo Padovan</td>\n",
              "      <td>Dante Alighieri</td>\n",
              "      <td>Milano Film</td>\n",
              "      <td>Salvatore Papa, Arturo Pirovano, Giuseppe de L...</td>\n",
              "      <td>Loosely adapted from Dante's Divine Comedy and...</td>\n",
              "      <td>7.0</td>\n",
              "      <td>2237</td>\n",
              "      <td>NaN</td>\n",
              "      <td>NaN</td>\n",
              "      <td>NaN</td>\n",
              "      <td>NaN</td>\n",
              "      <td>31.0</td>\n",
              "      <td>14.0</td>\n",
              "    </tr>\n",
              "  </tbody>\n",
              "</table>\n",
              "</div>"
            ],
            "text/plain": [
              "  imdb_title_id  ... reviews_from_critics\n",
              "0     tt0000009  ...                  2.0\n",
              "1     tt0000574  ...                  7.0\n",
              "2     tt0001892  ...                  2.0\n",
              "3     tt0002101  ...                  3.0\n",
              "4     tt0002130  ...                 14.0\n",
              "\n",
              "[5 rows x 22 columns]"
            ]
          },
          "metadata": {
            "tags": []
          },
          "execution_count": 21
        }
      ]
    },
    {
      "cell_type": "markdown",
      "metadata": {
        "id": "mMPbBqGYvKQ8"
      },
      "source": [
        "##IMDB dla 2019"
      ]
    },
    {
      "cell_type": "code",
      "metadata": {
        "colab": {
          "base_uri": "https://localhost:8080/",
          "height": 717
        },
        "id": "TdJ_mhKXtODp",
        "outputId": "c27f3904-b564-4772-e488-10945aabdfca"
      },
      "source": [
        "imdb_2019 = imdb_movies.iloc[:,:][imdb_movies.year==2019]\n",
        "imdb_2019.head()"
      ],
      "execution_count": null,
      "outputs": [
        {
          "output_type": "execute_result",
          "data": {
            "text/html": [
              "<div>\n",
              "<style scoped>\n",
              "    .dataframe tbody tr th:only-of-type {\n",
              "        vertical-align: middle;\n",
              "    }\n",
              "\n",
              "    .dataframe tbody tr th {\n",
              "        vertical-align: top;\n",
              "    }\n",
              "\n",
              "    .dataframe thead th {\n",
              "        text-align: right;\n",
              "    }\n",
              "</style>\n",
              "<table border=\"1\" class=\"dataframe\">\n",
              "  <thead>\n",
              "    <tr style=\"text-align: right;\">\n",
              "      <th></th>\n",
              "      <th>imdb_title_id</th>\n",
              "      <th>title</th>\n",
              "      <th>original_title</th>\n",
              "      <th>year</th>\n",
              "      <th>date_published</th>\n",
              "      <th>genre</th>\n",
              "      <th>duration</th>\n",
              "      <th>country</th>\n",
              "      <th>language</th>\n",
              "      <th>director</th>\n",
              "      <th>writer</th>\n",
              "      <th>production_company</th>\n",
              "      <th>actors</th>\n",
              "      <th>description</th>\n",
              "      <th>avg_vote</th>\n",
              "      <th>votes</th>\n",
              "      <th>budget</th>\n",
              "      <th>usa_gross_income</th>\n",
              "      <th>worlwide_gross_income</th>\n",
              "      <th>metascore</th>\n",
              "      <th>reviews_from_users</th>\n",
              "      <th>reviews_from_critics</th>\n",
              "    </tr>\n",
              "  </thead>\n",
              "  <tbody>\n",
              "    <tr>\n",
              "      <th>44619</th>\n",
              "      <td>tt0385887</td>\n",
              "      <td>Motherless Brooklyn - I segreti di una città</td>\n",
              "      <td>Motherless Brooklyn</td>\n",
              "      <td>2019</td>\n",
              "      <td>2019-11-07</td>\n",
              "      <td>Crime, Drama, Mystery</td>\n",
              "      <td>144</td>\n",
              "      <td>USA</td>\n",
              "      <td>English, French</td>\n",
              "      <td>Edward Norton</td>\n",
              "      <td>Edward Norton, Jonathan Lethem</td>\n",
              "      <td>Warner Bros. Pictures</td>\n",
              "      <td>Edward Norton, Gugu Mbatha-Raw, Alec Baldwin, ...</td>\n",
              "      <td>In 1950s New York, a lonely private detective ...</td>\n",
              "      <td>6.8</td>\n",
              "      <td>34759</td>\n",
              "      <td>$ 26000000</td>\n",
              "      <td>$ 9277736</td>\n",
              "      <td>$ 18477736</td>\n",
              "      <td>60.0</td>\n",
              "      <td>319.0</td>\n",
              "      <td>178.0</td>\n",
              "    </tr>\n",
              "    <tr>\n",
              "      <th>46723</th>\n",
              "      <td>tt0437086</td>\n",
              "      <td>Alita - Angelo della battaglia</td>\n",
              "      <td>Alita: Battle Angel</td>\n",
              "      <td>2019</td>\n",
              "      <td>2019-02-14</td>\n",
              "      <td>Action, Adventure, Sci-Fi</td>\n",
              "      <td>122</td>\n",
              "      <td>USA, Japan, Canada</td>\n",
              "      <td>English, Spanish</td>\n",
              "      <td>Robert Rodriguez</td>\n",
              "      <td>James Cameron, Laeta Kalogridis</td>\n",
              "      <td>Twentieth Century Fox</td>\n",
              "      <td>Rosa Salazar, Christoph Waltz, Jennifer Connel...</td>\n",
              "      <td>A deactivated cyborg is revived, but cannot re...</td>\n",
              "      <td>7.3</td>\n",
              "      <td>217183</td>\n",
              "      <td>$ 170000000</td>\n",
              "      <td>$ 85710210</td>\n",
              "      <td>$ 404852543</td>\n",
              "      <td>53.0</td>\n",
              "      <td>2757.0</td>\n",
              "      <td>368.0</td>\n",
              "    </tr>\n",
              "    <tr>\n",
              "      <th>46892</th>\n",
              "      <td>tt0441881</td>\n",
              "      <td>La battaglia di Long Tan</td>\n",
              "      <td>Danger Close: The Battle of Long Tan</td>\n",
              "      <td>2019</td>\n",
              "      <td>2019-08-08</td>\n",
              "      <td>Action, Drama, War</td>\n",
              "      <td>118</td>\n",
              "      <td>Australia</td>\n",
              "      <td>English</td>\n",
              "      <td>Kriv Stenders</td>\n",
              "      <td>Stuart Beattie, James Nicholas</td>\n",
              "      <td>Deeper Water</td>\n",
              "      <td>Travis Fimmel, Toby Blome, Alexander England, ...</td>\n",
              "      <td>In August 1966, in a Vietnamese rubber plantat...</td>\n",
              "      <td>6.8</td>\n",
              "      <td>8131</td>\n",
              "      <td>AUD 24000000</td>\n",
              "      <td>NaN</td>\n",
              "      <td>$ 2078370</td>\n",
              "      <td>NaN</td>\n",
              "      <td>204.0</td>\n",
              "      <td>31.0</td>\n",
              "    </tr>\n",
              "    <tr>\n",
              "      <th>47132</th>\n",
              "      <td>tt0448115</td>\n",
              "      <td>Shazam!</td>\n",
              "      <td>Shazam!</td>\n",
              "      <td>2019</td>\n",
              "      <td>2019-04-03</td>\n",
              "      <td>Action, Adventure, Comedy</td>\n",
              "      <td>132</td>\n",
              "      <td>USA, Canada</td>\n",
              "      <td>English, Spanish</td>\n",
              "      <td>David F. Sandberg</td>\n",
              "      <td>Henry Gayden, Henry Gayden</td>\n",
              "      <td>Warner Bros.</td>\n",
              "      <td>Zachary Levi, Mark Strong, Asher Angel, Jack D...</td>\n",
              "      <td>A newly fostered young boy in search of his mo...</td>\n",
              "      <td>7.1</td>\n",
              "      <td>240858</td>\n",
              "      <td>$ 100000000</td>\n",
              "      <td>$ 140371656</td>\n",
              "      <td>$ 365971656</td>\n",
              "      <td>71.0</td>\n",
              "      <td>2009.0</td>\n",
              "      <td>379.0</td>\n",
              "    </tr>\n",
              "    <tr>\n",
              "      <th>49759</th>\n",
              "      <td>tt0783640</td>\n",
              "      <td>Era mio figlio</td>\n",
              "      <td>The Last Full Measure</td>\n",
              "      <td>2019</td>\n",
              "      <td>2020-04-02</td>\n",
              "      <td>Drama, War</td>\n",
              "      <td>116</td>\n",
              "      <td>USA</td>\n",
              "      <td>English</td>\n",
              "      <td>Todd Robinson</td>\n",
              "      <td>Todd Robinson</td>\n",
              "      <td>Foresight Unlimited</td>\n",
              "      <td>Sebastian Stan, Alison Sudol, Asher Miles Fall...</td>\n",
              "      <td>Thirty-four years after his death, Airman Will...</td>\n",
              "      <td>6.7</td>\n",
              "      <td>5449</td>\n",
              "      <td>$ 20000000</td>\n",
              "      <td>$ 2949212</td>\n",
              "      <td>$ 3364426</td>\n",
              "      <td>51.0</td>\n",
              "      <td>163.0</td>\n",
              "      <td>44.0</td>\n",
              "    </tr>\n",
              "  </tbody>\n",
              "</table>\n",
              "</div>"
            ],
            "text/plain": [
              "      imdb_title_id  ... reviews_from_critics\n",
              "44619     tt0385887  ...                178.0\n",
              "46723     tt0437086  ...                368.0\n",
              "46892     tt0441881  ...                 31.0\n",
              "47132     tt0448115  ...                379.0\n",
              "49759     tt0783640  ...                 44.0\n",
              "\n",
              "[5 rows x 22 columns]"
            ]
          },
          "metadata": {
            "tags": []
          },
          "execution_count": 22
        }
      ]
    },
    {
      "cell_type": "markdown",
      "metadata": {
        "id": "9iicCMNXvOxV"
      },
      "source": [
        "##Łączenie IMDB i Netflix dla 2019"
      ]
    },
    {
      "cell_type": "code",
      "metadata": {
        "colab": {
          "base_uri": "https://localhost:8080/"
        },
        "id": "d5wjOY88t_9i",
        "outputId": "9e0d9da5-3ab7-46d2-8bde-04594361b5fc"
      },
      "source": [
        "netflix_imdb_2019 = pd.merge(netflix_2019, imdb_2019, on=['title'])\n",
        "netflix_imdb_2019.info()"
      ],
      "execution_count": null,
      "outputs": [
        {
          "output_type": "stream",
          "text": [
            "<class 'pandas.core.frame.DataFrame'>\n",
            "Int64Index: 23 entries, 0 to 22\n",
            "Data columns (total 33 columns):\n",
            " #   Column                 Non-Null Count  Dtype  \n",
            "---  ------                 --------------  -----  \n",
            " 0   show_id                23 non-null     int64  \n",
            " 1   type                   23 non-null     object \n",
            " 2   title                  23 non-null     object \n",
            " 3   director_x             22 non-null     object \n",
            " 4   cast                   23 non-null     object \n",
            " 5   country_x              22 non-null     object \n",
            " 6   date_added             23 non-null     object \n",
            " 7   release_year           23 non-null     int64  \n",
            " 8   rating                 23 non-null     object \n",
            " 9   duration_x             23 non-null     object \n",
            " 10  listed_in              23 non-null     object \n",
            " 11  description_x          23 non-null     object \n",
            " 12  imdb_title_id          23 non-null     object \n",
            " 13  original_title         23 non-null     object \n",
            " 14  year                   23 non-null     object \n",
            " 15  date_published         23 non-null     object \n",
            " 16  genre                  23 non-null     object \n",
            " 17  duration_y             23 non-null     int64  \n",
            " 18  country_y              23 non-null     object \n",
            " 19  language               23 non-null     object \n",
            " 20  director_y             23 non-null     object \n",
            " 21  writer                 23 non-null     object \n",
            " 22  production_company     20 non-null     object \n",
            " 23  actors                 23 non-null     object \n",
            " 24  description_y          23 non-null     object \n",
            " 25  avg_vote               23 non-null     float64\n",
            " 26  votes                  23 non-null     int64  \n",
            " 27  budget                 2 non-null      object \n",
            " 28  usa_gross_income       1 non-null      object \n",
            " 29  worlwide_gross_income  7 non-null      object \n",
            " 30  metascore              5 non-null      float64\n",
            " 31  reviews_from_users     23 non-null     float64\n",
            " 32  reviews_from_critics   22 non-null     float64\n",
            "dtypes: float64(4), int64(4), object(25)\n",
            "memory usage: 6.1+ KB\n"
          ],
          "name": "stdout"
        }
      ]
    },
    {
      "cell_type": "code",
      "metadata": {
        "colab": {
          "base_uri": "https://localhost:8080/"
        },
        "id": "-Y0jkWkVu1lH",
        "outputId": "47ada6c5-dc0c-4a13-b07e-0a915d31a79e"
      },
      "source": [
        "netflix_imdb_2019.shape"
      ],
      "execution_count": null,
      "outputs": [
        {
          "output_type": "execute_result",
          "data": {
            "text/plain": [
              "(23, 33)"
            ]
          },
          "metadata": {
            "tags": []
          },
          "execution_count": 24
        }
      ]
    },
    {
      "cell_type": "code",
      "metadata": {
        "id": "TqpxVL1Eu8aa"
      },
      "source": [
        "netflix_imdb_2019"
      ],
      "execution_count": null,
      "outputs": []
    },
    {
      "cell_type": "markdown",
      "metadata": {
        "id": "D5ehJJTuKOSN"
      },
      "source": [
        "##Łączenie IMDB i Netflix dla wszystkich danych"
      ]
    },
    {
      "cell_type": "code",
      "metadata": {
        "colab": {
          "base_uri": "https://localhost:8080/"
        },
        "id": "ysGXu_tP-onE",
        "outputId": "1fc63512-82b4-4248-ccb0-cea92d405515"
      },
      "source": [
        "netflix_imdb_all = pd.merge(netflix_titles, imdb_movies, on=['title'])\n",
        "netflix_imdb_all.info()"
      ],
      "execution_count": null,
      "outputs": [
        {
          "output_type": "stream",
          "text": [
            "<class 'pandas.core.frame.DataFrame'>\n",
            "Int64Index: 2332 entries, 0 to 2331\n",
            "Data columns (total 33 columns):\n",
            " #   Column                 Non-Null Count  Dtype  \n",
            "---  ------                 --------------  -----  \n",
            " 0   show_id                2332 non-null   int64  \n",
            " 1   type                   2332 non-null   object \n",
            " 2   title                  2332 non-null   object \n",
            " 3   director_x             2026 non-null   object \n",
            " 4   cast                   2283 non-null   object \n",
            " 5   country_x              2278 non-null   object \n",
            " 6   date_added             2330 non-null   object \n",
            " 7   release_year           2332 non-null   int64  \n",
            " 8   rating                 2331 non-null   object \n",
            " 9   duration_x             2332 non-null   object \n",
            " 10  listed_in              2332 non-null   object \n",
            " 11  description_x          2332 non-null   object \n",
            " 12  imdb_title_id          2332 non-null   object \n",
            " 13  original_title         2332 non-null   object \n",
            " 14  year                   2332 non-null   object \n",
            " 15  date_published         2332 non-null   object \n",
            " 16  genre                  2332 non-null   object \n",
            " 17  duration_y             2332 non-null   int64  \n",
            " 18  country_y              2328 non-null   object \n",
            " 19  language               2307 non-null   object \n",
            " 20  director_y             2331 non-null   object \n",
            " 21  writer                 2280 non-null   object \n",
            " 22  production_company     2246 non-null   object \n",
            " 23  actors                 2332 non-null   object \n",
            " 24  description_y          2321 non-null   object \n",
            " 25  avg_vote               2332 non-null   float64\n",
            " 26  votes                  2332 non-null   int64  \n",
            " 27  budget                 789 non-null    object \n",
            " 28  usa_gross_income       657 non-null    object \n",
            " 29  worlwide_gross_income  1167 non-null   object \n",
            " 30  metascore              701 non-null    float64\n",
            " 31  reviews_from_users     2267 non-null   float64\n",
            " 32  reviews_from_critics   2114 non-null   float64\n",
            "dtypes: float64(4), int64(4), object(25)\n",
            "memory usage: 619.4+ KB\n"
          ],
          "name": "stdout"
        }
      ]
    },
    {
      "cell_type": "code",
      "metadata": {
        "colab": {
          "base_uri": "https://localhost:8080/",
          "height": 683
        },
        "id": "uASOQ4lg-4Tk",
        "outputId": "124f857f-ddd9-4f7b-baec-1d9feb4416f2"
      },
      "source": [
        "netflix_imdb_all.head()"
      ],
      "execution_count": null,
      "outputs": [
        {
          "output_type": "execute_result",
          "data": {
            "text/html": [
              "<div>\n",
              "<style scoped>\n",
              "    .dataframe tbody tr th:only-of-type {\n",
              "        vertical-align: middle;\n",
              "    }\n",
              "\n",
              "    .dataframe tbody tr th {\n",
              "        vertical-align: top;\n",
              "    }\n",
              "\n",
              "    .dataframe thead th {\n",
              "        text-align: right;\n",
              "    }\n",
              "</style>\n",
              "<table border=\"1\" class=\"dataframe\">\n",
              "  <thead>\n",
              "    <tr style=\"text-align: right;\">\n",
              "      <th></th>\n",
              "      <th>show_id</th>\n",
              "      <th>type</th>\n",
              "      <th>title</th>\n",
              "      <th>director_x</th>\n",
              "      <th>cast</th>\n",
              "      <th>country_x</th>\n",
              "      <th>date_added</th>\n",
              "      <th>release_year</th>\n",
              "      <th>rating</th>\n",
              "      <th>duration_x</th>\n",
              "      <th>listed_in</th>\n",
              "      <th>description_x</th>\n",
              "      <th>imdb_title_id</th>\n",
              "      <th>original_title</th>\n",
              "      <th>year</th>\n",
              "      <th>date_published</th>\n",
              "      <th>genre</th>\n",
              "      <th>duration_y</th>\n",
              "      <th>country_y</th>\n",
              "      <th>language</th>\n",
              "      <th>director_y</th>\n",
              "      <th>writer</th>\n",
              "      <th>production_company</th>\n",
              "      <th>actors</th>\n",
              "      <th>description_y</th>\n",
              "      <th>avg_vote</th>\n",
              "      <th>votes</th>\n",
              "      <th>budget</th>\n",
              "      <th>usa_gross_income</th>\n",
              "      <th>worlwide_gross_income</th>\n",
              "      <th>metascore</th>\n",
              "      <th>reviews_from_users</th>\n",
              "      <th>reviews_from_critics</th>\n",
              "    </tr>\n",
              "  </thead>\n",
              "  <tbody>\n",
              "    <tr>\n",
              "      <th>0</th>\n",
              "      <td>81145628</td>\n",
              "      <td>Movie</td>\n",
              "      <td>Norm of the North: King Sized Adventure</td>\n",
              "      <td>Richard Finn, Tim Maltby</td>\n",
              "      <td>Alan Marriott, Andrew Toth, Brian Dobson, Cole...</td>\n",
              "      <td>United States, India, South Korea, China</td>\n",
              "      <td>September 9, 2019</td>\n",
              "      <td>2019</td>\n",
              "      <td>TV-PG</td>\n",
              "      <td>90 min</td>\n",
              "      <td>Children &amp; Family Movies, Comedies</td>\n",
              "      <td>Before planning an awesome wedding for his gra...</td>\n",
              "      <td>tt9428190</td>\n",
              "      <td>Norm of the North: King Sized Adventure</td>\n",
              "      <td>2019</td>\n",
              "      <td>2019-08-02</td>\n",
              "      <td>Animation, Adventure, Comedy</td>\n",
              "      <td>90</td>\n",
              "      <td>USA, India, South Korea, China</td>\n",
              "      <td>English</td>\n",
              "      <td>Richard Finn, Tim Maltby</td>\n",
              "      <td>Dean Stefan</td>\n",
              "      <td>Assemblage</td>\n",
              "      <td>Alan Marriott, Andrew Toth, Brian Dobson, Cole...</td>\n",
              "      <td>An ancient Chinese artifact has been stolen by...</td>\n",
              "      <td>3.2</td>\n",
              "      <td>284</td>\n",
              "      <td>NaN</td>\n",
              "      <td>NaN</td>\n",
              "      <td>$ 1505059</td>\n",
              "      <td>NaN</td>\n",
              "      <td>13.0</td>\n",
              "      <td>4.0</td>\n",
              "    </tr>\n",
              "    <tr>\n",
              "      <th>1</th>\n",
              "      <td>70304989</td>\n",
              "      <td>Movie</td>\n",
              "      <td>Automata</td>\n",
              "      <td>Gabe Ibáñez</td>\n",
              "      <td>Antonio Banderas, Dylan McDermott, Melanie Gri...</td>\n",
              "      <td>Bulgaria, United States, Spain, Canada</td>\n",
              "      <td>September 8, 2017</td>\n",
              "      <td>2014</td>\n",
              "      <td>R</td>\n",
              "      <td>110 min</td>\n",
              "      <td>International Movies, Sci-Fi &amp; Fantasy, Thrillers</td>\n",
              "      <td>In a dystopian future, an insurance adjuster f...</td>\n",
              "      <td>tt1971325</td>\n",
              "      <td>Autómata</td>\n",
              "      <td>2014</td>\n",
              "      <td>2015-02-26</td>\n",
              "      <td>Action, Drama, Sci-Fi</td>\n",
              "      <td>109</td>\n",
              "      <td>Spain, Bulgaria</td>\n",
              "      <td>English</td>\n",
              "      <td>Gabe Ibáñez</td>\n",
              "      <td>Gabe Ibáñez, Igor Legarreta</td>\n",
              "      <td>Green Moon</td>\n",
              "      <td>Antonio Banderas, Dylan McDermott, Melanie Gri...</td>\n",
              "      <td>Human race is at edge of the end. Robot race i...</td>\n",
              "      <td>6.1</td>\n",
              "      <td>53583</td>\n",
              "      <td>$ 7000000</td>\n",
              "      <td>NaN</td>\n",
              "      <td>$ 6237990</td>\n",
              "      <td>37.0</td>\n",
              "      <td>176.0</td>\n",
              "      <td>151.0</td>\n",
              "    </tr>\n",
              "    <tr>\n",
              "      <th>2</th>\n",
              "      <td>70304989</td>\n",
              "      <td>Movie</td>\n",
              "      <td>Automata</td>\n",
              "      <td>Gabe Ibáñez</td>\n",
              "      <td>Antonio Banderas, Dylan McDermott, Melanie Gri...</td>\n",
              "      <td>Bulgaria, United States, Spain, Canada</td>\n",
              "      <td>September 8, 2017</td>\n",
              "      <td>2014</td>\n",
              "      <td>R</td>\n",
              "      <td>110 min</td>\n",
              "      <td>International Movies, Sci-Fi &amp; Fantasy, Thrillers</td>\n",
              "      <td>In a dystopian future, an insurance adjuster f...</td>\n",
              "      <td>tt8339704</td>\n",
              "      <td>Automata</td>\n",
              "      <td>2019</td>\n",
              "      <td>2020-01-27</td>\n",
              "      <td>Horror</td>\n",
              "      <td>95</td>\n",
              "      <td>UK</td>\n",
              "      <td>English</td>\n",
              "      <td>Lawrie Brewster</td>\n",
              "      <td>Sarah Daly</td>\n",
              "      <td>Hex Studios</td>\n",
              "      <td>Jamie Scott Gordon, Jonathan Hansler, Alexandr...</td>\n",
              "      <td>Antique expert Brendon Cole is sent to authent...</td>\n",
              "      <td>4.3</td>\n",
              "      <td>314</td>\n",
              "      <td>NaN</td>\n",
              "      <td>NaN</td>\n",
              "      <td>NaN</td>\n",
              "      <td>NaN</td>\n",
              "      <td>39.0</td>\n",
              "      <td>5.0</td>\n",
              "    </tr>\n",
              "    <tr>\n",
              "      <th>3</th>\n",
              "      <td>70304990</td>\n",
              "      <td>Movie</td>\n",
              "      <td>Good People</td>\n",
              "      <td>Henrik Ruben Genz</td>\n",
              "      <td>James Franco, Kate Hudson, Tom Wilkinson, Omar...</td>\n",
              "      <td>United States, United Kingdom, Denmark, Sweden</td>\n",
              "      <td>September 8, 2017</td>\n",
              "      <td>2014</td>\n",
              "      <td>R</td>\n",
              "      <td>90 min</td>\n",
              "      <td>Action &amp; Adventure, Thrillers</td>\n",
              "      <td>A struggling couple can't believe their luck w...</td>\n",
              "      <td>tt1361318</td>\n",
              "      <td>Good People</td>\n",
              "      <td>2014</td>\n",
              "      <td>2015-08-21</td>\n",
              "      <td>Action, Crime, Thriller</td>\n",
              "      <td>90</td>\n",
              "      <td>USA, UK, Denmark, Sweden</td>\n",
              "      <td>English</td>\n",
              "      <td>Henrik Ruben Genz</td>\n",
              "      <td>Marcus Sakey, Kelly Masterson</td>\n",
              "      <td>Millennium Films</td>\n",
              "      <td>Sam Spruell, Michael Fox, Diarmaid Murtagh, Fr...</td>\n",
              "      <td>Discovering a stash of cash in their dead tena...</td>\n",
              "      <td>5.5</td>\n",
              "      <td>15257</td>\n",
              "      <td>NaN</td>\n",
              "      <td>NaN</td>\n",
              "      <td>$ 1857574</td>\n",
              "      <td>42.0</td>\n",
              "      <td>56.0</td>\n",
              "      <td>57.0</td>\n",
              "    </tr>\n",
              "    <tr>\n",
              "      <th>4</th>\n",
              "      <td>80057969</td>\n",
              "      <td>Movie</td>\n",
              "      <td>Love</td>\n",
              "      <td>Gaspar Noé</td>\n",
              "      <td>Karl Glusman, Klara Kristin, Aomi Muyock, Ugo ...</td>\n",
              "      <td>France, Belgium</td>\n",
              "      <td>September 8, 2017</td>\n",
              "      <td>2015</td>\n",
              "      <td>NR</td>\n",
              "      <td>135 min</td>\n",
              "      <td>Cult Movies, Dramas, Independent Movies</td>\n",
              "      <td>A man in an unsatisfying marriage recalls the ...</td>\n",
              "      <td>tt0392360</td>\n",
              "      <td>Love</td>\n",
              "      <td>1991</td>\n",
              "      <td>1991-11-15</td>\n",
              "      <td>Drama, Musical, Romance</td>\n",
              "      <td>152</td>\n",
              "      <td>India</td>\n",
              "      <td>Hindi</td>\n",
              "      <td>Suresh Krishna</td>\n",
              "      <td>NaN</td>\n",
              "      <td>NaN</td>\n",
              "      <td>Salman Khan, Revathi, Rita Bhaduri, Shafi Inam...</td>\n",
              "      <td>Prithvi and Maggie fall in love and decide to ...</td>\n",
              "      <td>5.7</td>\n",
              "      <td>1003</td>\n",
              "      <td>NaN</td>\n",
              "      <td>NaN</td>\n",
              "      <td>NaN</td>\n",
              "      <td>NaN</td>\n",
              "      <td>6.0</td>\n",
              "      <td>NaN</td>\n",
              "    </tr>\n",
              "  </tbody>\n",
              "</table>\n",
              "</div>"
            ],
            "text/plain": [
              "    show_id   type  ... reviews_from_users reviews_from_critics\n",
              "0  81145628  Movie  ...               13.0                  4.0\n",
              "1  70304989  Movie  ...              176.0                151.0\n",
              "2  70304989  Movie  ...               39.0                  5.0\n",
              "3  70304990  Movie  ...               56.0                 57.0\n",
              "4  80057969  Movie  ...                6.0                  NaN\n",
              "\n",
              "[5 rows x 33 columns]"
            ]
          },
          "metadata": {
            "tags": []
          },
          "execution_count": 27
        }
      ]
    },
    {
      "cell_type": "code",
      "metadata": {
        "colab": {
          "base_uri": "https://localhost:8080/"
        },
        "id": "SCn8b73HESVA",
        "outputId": "d79d0bf7-e039-46f3-f176-25ea271842d2"
      },
      "source": [
        "imdb_movies.columns"
      ],
      "execution_count": null,
      "outputs": [
        {
          "output_type": "execute_result",
          "data": {
            "text/plain": [
              "Index(['imdb_title_id', 'title', 'original_title', 'year', 'date_published',\n",
              "       'genre', 'duration', 'country', 'language', 'director', 'writer',\n",
              "       'production_company', 'actors', 'description', 'avg_vote', 'votes',\n",
              "       'budget', 'usa_gross_income', 'worlwide_gross_income', 'metascore',\n",
              "       'reviews_from_users', 'reviews_from_critics'],\n",
              "      dtype='object')"
            ]
          },
          "metadata": {
            "tags": []
          },
          "execution_count": 28
        }
      ]
    },
    {
      "cell_type": "markdown",
      "metadata": {
        "id": "ijFglCM0r73b"
      },
      "source": [
        "# Szeregi czasowe"
      ]
    },
    {
      "cell_type": "code",
      "metadata": {
        "id": "3vcqSTlGMnL8"
      },
      "source": [
        ""
      ],
      "execution_count": null,
      "outputs": []
    }
  ]
}