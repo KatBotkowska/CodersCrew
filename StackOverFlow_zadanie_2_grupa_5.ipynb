{
  "nbformat": 4,
  "nbformat_minor": 0,
  "metadata": {
    "colab": {
      "name": "StackOverFlow_zadanie 2 grupa 5.ipynb",
      "version": "0.3.2",
      "provenance": [],
      "collapsed_sections": [],
      "include_colab_link": true
    },
    "kernelspec": {
      "name": "python3",
      "display_name": "Python 3"
    }
  },
  "cells": [
    {
      "cell_type": "markdown",
      "metadata": {
        "id": "view-in-github",
        "colab_type": "text"
      },
      "source": [
        "<a href=\"https://colab.research.google.com/github/KatBotkowska/CodersCrew/blob/master/StackOverFlow_zadanie_2_grupa_5.ipynb\" target=\"_parent\"><img src=\"https://colab.research.google.com/assets/colab-badge.svg\" alt=\"Open In Colab\"/></a>"
      ]
    },
    {
      "cell_type": "markdown",
      "metadata": {
        "id": "XzDsOn86-w7P",
        "colab_type": "text"
      },
      "source": [
        "# StackOverFlow - analiza zawartości serwisu\n",
        "## CodersCrew - grupa 5\n"
      ]
    },
    {
      "cell_type": "markdown",
      "metadata": {
        "id": "CxXV1kJi_DtG",
        "colab_type": "text"
      },
      "source": [
        "### Importy"
      ]
    },
    {
      "cell_type": "code",
      "metadata": {
        "id": "LmdQioOh-gAb",
        "colab_type": "code",
        "colab": {}
      },
      "source": [
        "import numpy as np\n",
        "import pandas as pd\n",
        "import plotly.plotly as py\n",
        "import matplotlib.pyplot as plt\n",
        "from mpl_toolkits.mplot3d import Axes3D\n",
        "import seaborn as sns\n",
        "import re"
      ],
      "execution_count": 0,
      "outputs": []
    },
    {
      "cell_type": "markdown",
      "metadata": {
        "id": "Qb1kqzBwKQ8f",
        "colab_type": "text"
      },
      "source": [
        "# Dane na temat użytkowników z Polski"
      ]
    },
    {
      "cell_type": "code",
      "metadata": {
        "id": "9i9hl9cabf9I",
        "colab_type": "code",
        "colab": {}
      },
      "source": [
        "queryPol_users = \"\"\"SELECT location,\n",
        "  COUNT(*) AS Users_location\n",
        "FROM\n",
        "  `bigquery-public-data.stackoverflow.users`\n",
        "WHERE location LIKE '%Poland%' OR location LIKE '%Polska%' #collate Polish_CS_AI\n",
        "GROUP BY\n",
        "  location\n",
        "ORDER BY\n",
        "  Users_location DESC, location DESC\"\"\""
      ],
      "execution_count": 0,
      "outputs": []
    },
    {
      "cell_type": "markdown",
      "metadata": {
        "id": "BM8hQUlqKXUj",
        "colab_type": "text"
      },
      "source": [
        "## Ilość użytkowników,  którzy jako lokalizację deklarują Polskę"
      ]
    },
    {
      "cell_type": "code",
      "metadata": {
        "id": "Yf2I6wJYbz5B",
        "colab_type": "code",
        "outputId": "d311fbf8-25b7-408d-ecf7-bee84549a840",
        "colab": {
          "base_uri": "https://localhost:8080/",
          "height": 70
        }
      },
      "source": [
        "dfPol_users = pd.read_gbq(query = queryPol_users, project_id = 'it-job-market-project-cc', dialect = 'standard')\n",
        "dfPol_users.loc[dfPol_users['location'].str.contains('Poland|Polska', case = False), 'location'] = 'Poland'\n",
        "dfPol_users.groupby('location')['Users_location'].sum()"
      ],
      "execution_count": 0,
      "outputs": [
        {
          "output_type": "execute_result",
          "data": {
            "text/plain": [
              "location\n",
              "Poland    33917\n",
              "Name: Users_location, dtype: int64"
            ]
          },
          "metadata": {
            "tags": []
          },
          "execution_count": 37
        }
      ]
    },
    {
      "cell_type": "markdown",
      "metadata": {
        "id": "1kQVCTJEKlFj",
        "colab_type": "text"
      },
      "source": [
        "## Dane na temat użytkowników, którzy jako lokalizację deklarują Polskę"
      ]
    },
    {
      "cell_type": "code",
      "metadata": {
        "id": "nXJvbtOw4scp",
        "colab_type": "code",
        "colab": {}
      },
      "source": [
        "query2 = \"\"\"SELECT display_name, user_exper, location, reputation, Last_Access_Year, up_votes, down_votes, id\n",
        "FROM \n",
        "  (SELECT display_name, creation_date, location,reputation, up_votes, down_votes, id,\n",
        "  DATE_DIFF(CURRENT_DATE, DATE(creation_date),  YEAR) AS user_exper,\n",
        "  EXTRACT(YEAR FROM last_access_date) AS Last_Access_Year\n",
        "  FROM `bigquery-public-data.stackoverflow.users` users\n",
        "  )\n",
        "WHERE (location LIKE '%Poland%' OR location LIKE '%Polska%') and user_exper>1 and reputation>1\n",
        "ORDER BY reputation DESC, user_exper DESC\n",
        "LIMIT 20;\"\"\""
      ],
      "execution_count": 0,
      "outputs": []
    },
    {
      "cell_type": "code",
      "metadata": {
        "id": "IKpCY9Gh5F5b",
        "colab_type": "code",
        "colab": {}
      },
      "source": [
        "df2 = pd.read_gbq(query = query2, project_id = 'it-job-market-project-cc', dialect = 'standard', index_col = 'display_name')"
      ],
      "execution_count": 0,
      "outputs": []
    },
    {
      "cell_type": "markdown",
      "metadata": {
        "id": "ywB-TBef5zlU",
        "colab_type": "text"
      },
      "source": [
        "### *20 użytkowników z Polski o największej reputacji*"
      ]
    },
    {
      "cell_type": "code",
      "metadata": {
        "id": "b-PWNIw-5fj7",
        "colab_type": "code",
        "outputId": "b2de74f6-f162-494a-9e02-e556f5c3801e",
        "colab": {
          "base_uri": "https://localhost:8080/",
          "height": 677
        }
      },
      "source": [
        "df2.sort_values(by='reputation', ascending = False)"
      ],
      "execution_count": 0,
      "outputs": [
        {
          "output_type": "execute_result",
          "data": {
            "text/html": [
              "<div>\n",
              "<style scoped>\n",
              "    .dataframe tbody tr th:only-of-type {\n",
              "        vertical-align: middle;\n",
              "    }\n",
              "\n",
              "    .dataframe tbody tr th {\n",
              "        vertical-align: top;\n",
              "    }\n",
              "\n",
              "    .dataframe thead th {\n",
              "        text-align: right;\n",
              "    }\n",
              "</style>\n",
              "<table border=\"1\" class=\"dataframe\">\n",
              "  <thead>\n",
              "    <tr style=\"text-align: right;\">\n",
              "      <th></th>\n",
              "      <th>user_exper</th>\n",
              "      <th>location</th>\n",
              "      <th>reputation</th>\n",
              "      <th>Last_Access_Year</th>\n",
              "      <th>up_votes</th>\n",
              "      <th>down_votes</th>\n",
              "      <th>id</th>\n",
              "    </tr>\n",
              "    <tr>\n",
              "      <th>display_name</th>\n",
              "      <th></th>\n",
              "      <th></th>\n",
              "      <th></th>\n",
              "      <th></th>\n",
              "      <th></th>\n",
              "      <th></th>\n",
              "      <th></th>\n",
              "    </tr>\n",
              "  </thead>\n",
              "  <tbody>\n",
              "    <tr>\n",
              "      <th>Wiktor Stribiżew</th>\n",
              "      <td>5</td>\n",
              "      <td>Warsaw, Poland</td>\n",
              "      <td>320105</td>\n",
              "      <td>2019</td>\n",
              "      <td>13006</td>\n",
              "      <td>29017</td>\n",
              "      <td>3832970</td>\n",
              "    </tr>\n",
              "    <tr>\n",
              "      <th>Tomasz Nurkiewicz</th>\n",
              "      <td>8</td>\n",
              "      <td>Warsaw, Poland</td>\n",
              "      <td>269738</td>\n",
              "      <td>2017</td>\n",
              "      <td>4949</td>\n",
              "      <td>70</td>\n",
              "      <td>605744</td>\n",
              "    </tr>\n",
              "    <tr>\n",
              "      <th>Jakub Narębski</th>\n",
              "      <td>11</td>\n",
              "      <td>Toruń, Kuiavia-Pomerania Poland</td>\n",
              "      <td>214704</td>\n",
              "      <td>2019</td>\n",
              "      <td>1429</td>\n",
              "      <td>41</td>\n",
              "      <td>46058</td>\n",
              "    </tr>\n",
              "    <tr>\n",
              "      <th>Lennart Regebro</th>\n",
              "      <td>10</td>\n",
              "      <td>Wroclaw, Poland</td>\n",
              "      <td>112487</td>\n",
              "      <td>2018</td>\n",
              "      <td>3708</td>\n",
              "      <td>953</td>\n",
              "      <td>126214</td>\n",
              "    </tr>\n",
              "    <tr>\n",
              "      <th>hsz</th>\n",
              "      <td>10</td>\n",
              "      <td>Szczecin, Poland</td>\n",
              "      <td>106514</td>\n",
              "      <td>2019</td>\n",
              "      <td>1730</td>\n",
              "      <td>252</td>\n",
              "      <td>223386</td>\n",
              "    </tr>\n",
              "    <tr>\n",
              "      <th>Pshemo</th>\n",
              "      <td>7</td>\n",
              "      <td>Poland</td>\n",
              "      <td>95198</td>\n",
              "      <td>2019</td>\n",
              "      <td>7488</td>\n",
              "      <td>6827</td>\n",
              "      <td>1393766</td>\n",
              "    </tr>\n",
              "    <tr>\n",
              "      <th>Tadeck</th>\n",
              "      <td>9</td>\n",
              "      <td>Warsaw, Poland</td>\n",
              "      <td>91068</td>\n",
              "      <td>2019</td>\n",
              "      <td>2849</td>\n",
              "      <td>412</td>\n",
              "      <td>548696</td>\n",
              "    </tr>\n",
              "    <tr>\n",
              "      <th>Marcin Nabiałek</th>\n",
              "      <td>5</td>\n",
              "      <td>Poland, Częstochowa</td>\n",
              "      <td>72686</td>\n",
              "      <td>2019</td>\n",
              "      <td>841</td>\n",
              "      <td>1266</td>\n",
              "      <td>3593996</td>\n",
              "    </tr>\n",
              "    <tr>\n",
              "      <th>rsp</th>\n",
              "      <td>8</td>\n",
              "      <td>Warsaw, Poland</td>\n",
              "      <td>66786</td>\n",
              "      <td>2019</td>\n",
              "      <td>1858</td>\n",
              "      <td>112</td>\n",
              "      <td>613198</td>\n",
              "    </tr>\n",
              "    <tr>\n",
              "      <th>kender</th>\n",
              "      <td>11</td>\n",
              "      <td>Poland</td>\n",
              "      <td>59718</td>\n",
              "      <td>2019</td>\n",
              "      <td>1480</td>\n",
              "      <td>116</td>\n",
              "      <td>4172</td>\n",
              "    </tr>\n",
              "    <tr>\n",
              "      <th>klin</th>\n",
              "      <td>6</td>\n",
              "      <td>Poland</td>\n",
              "      <td>59606</td>\n",
              "      <td>2019</td>\n",
              "      <td>1229</td>\n",
              "      <td>110</td>\n",
              "      <td>1995738</td>\n",
              "    </tr>\n",
              "    <tr>\n",
              "      <th>Antonio</th>\n",
              "      <td>10</td>\n",
              "      <td>Poland</td>\n",
              "      <td>58640</td>\n",
              "      <td>2019</td>\n",
              "      <td>845</td>\n",
              "      <td>114</td>\n",
              "      <td>148357</td>\n",
              "    </tr>\n",
              "    <tr>\n",
              "      <th>Opal</th>\n",
              "      <td>9</td>\n",
              "      <td>Warsaw/Poland</td>\n",
              "      <td>53926</td>\n",
              "      <td>2019</td>\n",
              "      <td>6555</td>\n",
              "      <td>450</td>\n",
              "      <td>542270</td>\n",
              "    </tr>\n",
              "    <tr>\n",
              "      <th>Mchl</th>\n",
              "      <td>9</td>\n",
              "      <td>Warsaw, Poland</td>\n",
              "      <td>51768</td>\n",
              "      <td>2019</td>\n",
              "      <td>2500</td>\n",
              "      <td>114</td>\n",
              "      <td>402253</td>\n",
              "    </tr>\n",
              "    <tr>\n",
              "      <th>Kos</th>\n",
              "      <td>9</td>\n",
              "      <td>Warsaw, Poland</td>\n",
              "      <td>50176</td>\n",
              "      <td>2019</td>\n",
              "      <td>2722</td>\n",
              "      <td>173</td>\n",
              "      <td>399317</td>\n",
              "    </tr>\n",
              "    <tr>\n",
              "      <th>biesior</th>\n",
              "      <td>8</td>\n",
              "      <td>Wroclaw, Poland</td>\n",
              "      <td>49742</td>\n",
              "      <td>2019</td>\n",
              "      <td>1494</td>\n",
              "      <td>331</td>\n",
              "      <td>1066240</td>\n",
              "    </tr>\n",
              "    <tr>\n",
              "      <th>Marcin Gil</th>\n",
              "      <td>11</td>\n",
              "      <td>Tomaszów, Poland</td>\n",
              "      <td>48475</td>\n",
              "      <td>2019</td>\n",
              "      <td>1250</td>\n",
              "      <td>28</td>\n",
              "      <td>5731</td>\n",
              "    </tr>\n",
              "    <tr>\n",
              "      <th>mpapis</th>\n",
              "      <td>9</td>\n",
              "      <td>Gorzów Wielkopolski, Poland</td>\n",
              "      <td>47601</td>\n",
              "      <td>2018</td>\n",
              "      <td>1209</td>\n",
              "      <td>372</td>\n",
              "      <td>497756</td>\n",
              "    </tr>\n",
              "    <tr>\n",
              "      <th>Jacek Laskowski</th>\n",
              "      <td>7</td>\n",
              "      <td>Warsaw, Poland</td>\n",
              "      <td>45225</td>\n",
              "      <td>2019</td>\n",
              "      <td>4126</td>\n",
              "      <td>236</td>\n",
              "      <td>1305344</td>\n",
              "    </tr>\n",
              "    <tr>\n",
              "      <th>RaYell</th>\n",
              "      <td>10</td>\n",
              "      <td>Wroclaw, Poland</td>\n",
              "      <td>44835</td>\n",
              "      <td>2019</td>\n",
              "      <td>1219</td>\n",
              "      <td>18</td>\n",
              "      <td>137467</td>\n",
              "    </tr>\n",
              "  </tbody>\n",
              "</table>\n",
              "</div>"
            ],
            "text/plain": [
              "                   user_exper  ...       id\n",
              "display_name                   ...         \n",
              "Wiktor Stribiżew            5  ...  3832970\n",
              "Tomasz Nurkiewicz           8  ...   605744\n",
              "Jakub Narębski             11  ...    46058\n",
              "Lennart Regebro            10  ...   126214\n",
              "hsz                        10  ...   223386\n",
              "Pshemo                      7  ...  1393766\n",
              "Tadeck                      9  ...   548696\n",
              "Marcin Nabiałek             5  ...  3593996\n",
              "rsp                         8  ...   613198\n",
              "kender                     11  ...     4172\n",
              "klin                        6  ...  1995738\n",
              "Antonio                    10  ...   148357\n",
              "Opal                        9  ...   542270\n",
              "Mchl                        9  ...   402253\n",
              "Kos                         9  ...   399317\n",
              "biesior                     8  ...  1066240\n",
              "Marcin Gil                 11  ...     5731\n",
              "mpapis                      9  ...   497756\n",
              "Jacek Laskowski             7  ...  1305344\n",
              "RaYell                     10  ...   137467\n",
              "\n",
              "[20 rows x 7 columns]"
            ]
          },
          "metadata": {
            "tags": []
          },
          "execution_count": 42
        }
      ]
    },
    {
      "cell_type": "markdown",
      "metadata": {
        "id": "FHz1t0psbkF8",
        "colab_type": "text"
      },
      "source": [
        "## *Od czego zależy reputacja na StackOverflow w przypadku użytkowników deklarujących pochodzenie z Polski - analiza korelacji dla doświadczenia użytkowników oraz daty ostatniego logowania*"
      ]
    },
    {
      "cell_type": "code",
      "metadata": {
        "id": "h3sVP-Yu4WbH",
        "colab_type": "code",
        "outputId": "6aefc127-7d24-430d-cfea-1bcb7f10d087",
        "colab": {
          "base_uri": "https://localhost:8080/",
          "height": 111
        }
      },
      "source": [
        "df2[['user_exper', 'reputation']].corr()"
      ],
      "execution_count": 0,
      "outputs": [
        {
          "output_type": "execute_result",
          "data": {
            "text/html": [
              "<div>\n",
              "<style scoped>\n",
              "    .dataframe tbody tr th:only-of-type {\n",
              "        vertical-align: middle;\n",
              "    }\n",
              "\n",
              "    .dataframe tbody tr th {\n",
              "        vertical-align: top;\n",
              "    }\n",
              "\n",
              "    .dataframe thead th {\n",
              "        text-align: right;\n",
              "    }\n",
              "</style>\n",
              "<table border=\"1\" class=\"dataframe\">\n",
              "  <thead>\n",
              "    <tr style=\"text-align: right;\">\n",
              "      <th></th>\n",
              "      <th>user_exper</th>\n",
              "      <th>reputation</th>\n",
              "    </tr>\n",
              "  </thead>\n",
              "  <tbody>\n",
              "    <tr>\n",
              "      <th>user_exper</th>\n",
              "      <td>1.000000</td>\n",
              "      <td>-0.246248</td>\n",
              "    </tr>\n",
              "    <tr>\n",
              "      <th>reputation</th>\n",
              "      <td>-0.246248</td>\n",
              "      <td>1.000000</td>\n",
              "    </tr>\n",
              "  </tbody>\n",
              "</table>\n",
              "</div>"
            ],
            "text/plain": [
              "            user_exper  reputation\n",
              "user_exper    1.000000   -0.246248\n",
              "reputation   -0.246248    1.000000"
            ]
          },
          "metadata": {
            "tags": []
          },
          "execution_count": 136
        }
      ]
    },
    {
      "cell_type": "code",
      "metadata": {
        "id": "CIo33wYiH_NR",
        "colab_type": "code",
        "outputId": "845a733a-4df6-4407-b7d6-5cdac79c2092",
        "colab": {
          "base_uri": "https://localhost:8080/",
          "height": 111
        }
      },
      "source": [
        "df2[['Last_Access_Year', 'reputation']].corr()"
      ],
      "execution_count": 0,
      "outputs": [
        {
          "output_type": "execute_result",
          "data": {
            "text/html": [
              "<div>\n",
              "<style scoped>\n",
              "    .dataframe tbody tr th:only-of-type {\n",
              "        vertical-align: middle;\n",
              "    }\n",
              "\n",
              "    .dataframe tbody tr th {\n",
              "        vertical-align: top;\n",
              "    }\n",
              "\n",
              "    .dataframe thead th {\n",
              "        text-align: right;\n",
              "    }\n",
              "</style>\n",
              "<table border=\"1\" class=\"dataframe\">\n",
              "  <thead>\n",
              "    <tr style=\"text-align: right;\">\n",
              "      <th></th>\n",
              "      <th>Last_Access_Year</th>\n",
              "      <th>reputation</th>\n",
              "    </tr>\n",
              "  </thead>\n",
              "  <tbody>\n",
              "    <tr>\n",
              "      <th>Last_Access_Year</th>\n",
              "      <td>1.000000</td>\n",
              "      <td>-0.402931</td>\n",
              "    </tr>\n",
              "    <tr>\n",
              "      <th>reputation</th>\n",
              "      <td>-0.402931</td>\n",
              "      <td>1.000000</td>\n",
              "    </tr>\n",
              "  </tbody>\n",
              "</table>\n",
              "</div>"
            ],
            "text/plain": [
              "                  Last_Access_Year  reputation\n",
              "Last_Access_Year          1.000000   -0.402931\n",
              "reputation               -0.402931    1.000000"
            ]
          },
          "metadata": {
            "tags": []
          },
          "execution_count": 137
        }
      ]
    },
    {
      "cell_type": "markdown",
      "metadata": {
        "id": "hDL1ma6C5qKa",
        "colab_type": "text"
      },
      "source": [
        "*Pomiędzy doświadczeniem użytkowników, rozumianym jako okres od założenia konta na StackOverflow, a ich reputacją (rozumianą jako ilość puntów przyznawanych przez innych użytkowników serwisu za zadawane pytania i podawane odpowiedzi) korelacja jest ujemna, a jej poziom świadczy, że jest słaba. Widać to też na danych w  poniższych tabelach - użytkownicy o nawiększej reputacji, wcale nie są osobami z najdłuższym okresem przebywania na serwisie. Bardziej istotne jest tutaj zaangażowanie uczestników, które widać jako datę ostatniego logowania, chociaż i w tym przypadku współczynnik korelacji nie jest bardziej znaczący, a siłę korelacji można ocenić jako przeciętną - również ujemną.*"
      ]
    },
    {
      "cell_type": "markdown",
      "metadata": {
        "id": "QBAzefYSMpEd",
        "colab_type": "text"
      },
      "source": [
        "## *Dane o użytkownikach z Polski z najwyższą reputacją*"
      ]
    },
    {
      "cell_type": "code",
      "metadata": {
        "id": "-dIivQ-zAAv0",
        "colab_type": "code",
        "outputId": "f8f151aa-09a5-44a9-a20b-49774eee1da7",
        "colab": {
          "base_uri": "https://localhost:8080/",
          "height": 390
        }
      },
      "source": [
        "df_users_Pol = df2[['user_exper', 'reputation', 'Last_Access_Year']]\n",
        "df_users_Pol.sort_values(by= 'reputation', ascending = False)[0:10]"
      ],
      "execution_count": 0,
      "outputs": [
        {
          "output_type": "execute_result",
          "data": {
            "text/html": [
              "<div>\n",
              "<style scoped>\n",
              "    .dataframe tbody tr th:only-of-type {\n",
              "        vertical-align: middle;\n",
              "    }\n",
              "\n",
              "    .dataframe tbody tr th {\n",
              "        vertical-align: top;\n",
              "    }\n",
              "\n",
              "    .dataframe thead th {\n",
              "        text-align: right;\n",
              "    }\n",
              "</style>\n",
              "<table border=\"1\" class=\"dataframe\">\n",
              "  <thead>\n",
              "    <tr style=\"text-align: right;\">\n",
              "      <th></th>\n",
              "      <th>user_exper</th>\n",
              "      <th>reputation</th>\n",
              "      <th>Last_Access_Year</th>\n",
              "    </tr>\n",
              "    <tr>\n",
              "      <th>display_name</th>\n",
              "      <th></th>\n",
              "      <th></th>\n",
              "      <th></th>\n",
              "    </tr>\n",
              "  </thead>\n",
              "  <tbody>\n",
              "    <tr>\n",
              "      <th>Wiktor Stribiżew</th>\n",
              "      <td>5</td>\n",
              "      <td>320105</td>\n",
              "      <td>2019</td>\n",
              "    </tr>\n",
              "    <tr>\n",
              "      <th>Tomasz Nurkiewicz</th>\n",
              "      <td>8</td>\n",
              "      <td>269738</td>\n",
              "      <td>2017</td>\n",
              "    </tr>\n",
              "    <tr>\n",
              "      <th>Jakub Narębski</th>\n",
              "      <td>11</td>\n",
              "      <td>214704</td>\n",
              "      <td>2019</td>\n",
              "    </tr>\n",
              "    <tr>\n",
              "      <th>Lennart Regebro</th>\n",
              "      <td>10</td>\n",
              "      <td>112487</td>\n",
              "      <td>2018</td>\n",
              "    </tr>\n",
              "    <tr>\n",
              "      <th>hsz</th>\n",
              "      <td>10</td>\n",
              "      <td>106514</td>\n",
              "      <td>2019</td>\n",
              "    </tr>\n",
              "    <tr>\n",
              "      <th>Pshemo</th>\n",
              "      <td>7</td>\n",
              "      <td>95198</td>\n",
              "      <td>2019</td>\n",
              "    </tr>\n",
              "    <tr>\n",
              "      <th>Tadeck</th>\n",
              "      <td>9</td>\n",
              "      <td>91068</td>\n",
              "      <td>2019</td>\n",
              "    </tr>\n",
              "    <tr>\n",
              "      <th>Marcin Nabiałek</th>\n",
              "      <td>5</td>\n",
              "      <td>72686</td>\n",
              "      <td>2019</td>\n",
              "    </tr>\n",
              "    <tr>\n",
              "      <th>rsp</th>\n",
              "      <td>8</td>\n",
              "      <td>66786</td>\n",
              "      <td>2019</td>\n",
              "    </tr>\n",
              "    <tr>\n",
              "      <th>kender</th>\n",
              "      <td>11</td>\n",
              "      <td>59718</td>\n",
              "      <td>2019</td>\n",
              "    </tr>\n",
              "  </tbody>\n",
              "</table>\n",
              "</div>"
            ],
            "text/plain": [
              "                   user_exper  reputation  Last_Access_Year\n",
              "display_name                                               \n",
              "Wiktor Stribiżew            5      320105              2019\n",
              "Tomasz Nurkiewicz           8      269738              2017\n",
              "Jakub Narębski             11      214704              2019\n",
              "Lennart Regebro            10      112487              2018\n",
              "hsz                        10      106514              2019\n",
              "Pshemo                      7       95198              2019\n",
              "Tadeck                      9       91068              2019\n",
              "Marcin Nabiałek             5       72686              2019\n",
              "rsp                         8       66786              2019\n",
              "kender                     11       59718              2019"
            ]
          },
          "metadata": {
            "tags": []
          },
          "execution_count": 113
        }
      ]
    },
    {
      "cell_type": "markdown",
      "metadata": {
        "id": "sSpYSrqcHVLr",
        "colab_type": "text"
      },
      "source": [
        "## *Aktywność użytkowników  z Polski rozumiana jako data ostatniego logowania do serwisu.*\n",
        "\n",
        "*W przypadku roku 2019, dane podane są za I kwartał.*"
      ]
    },
    {
      "cell_type": "code",
      "metadata": {
        "id": "bsbBaQdKFOjf",
        "colab_type": "code",
        "colab": {}
      },
      "source": [
        "queryUsers_Act = \"\"\"SELECT\n",
        "  EXTRACT(YEAR FROM last_access_date) AS Year,\n",
        "  COUNT(*) AS Users_Activity\n",
        "FROM\n",
        "  `bigquery-public-data.stackoverflow.users`\n",
        "WHERE location LIKE '%Poland%' OR location LIKE '%Polska%'\n",
        "GROUP BY\n",
        "  Year\n",
        "HAVING\n",
        "  Year > 2008 AND Year <= 2019\n",
        "ORDER BY\n",
        "  Year\n",
        "LIMIT 100\"\"\""
      ],
      "execution_count": 0,
      "outputs": []
    },
    {
      "cell_type": "code",
      "metadata": {
        "id": "LpE0BwCXFc2j",
        "colab_type": "code",
        "outputId": "8535276a-60b5-4adc-91e5-55f404bfbffe",
        "colab": {
          "base_uri": "https://localhost:8080/",
          "height": 421
        }
      },
      "source": [
        "dfUsers_Act = pd.read_gbq(query = queryUsers_Act, project_id = 'it-job-market-project-cc', dialect = 'standard')\n",
        "dfUsers_Act.set_index('Year')"
      ],
      "execution_count": 0,
      "outputs": [
        {
          "output_type": "execute_result",
          "data": {
            "text/html": [
              "<div>\n",
              "<style scoped>\n",
              "    .dataframe tbody tr th:only-of-type {\n",
              "        vertical-align: middle;\n",
              "    }\n",
              "\n",
              "    .dataframe tbody tr th {\n",
              "        vertical-align: top;\n",
              "    }\n",
              "\n",
              "    .dataframe thead th {\n",
              "        text-align: right;\n",
              "    }\n",
              "</style>\n",
              "<table border=\"1\" class=\"dataframe\">\n",
              "  <thead>\n",
              "    <tr style=\"text-align: right;\">\n",
              "      <th></th>\n",
              "      <th>Users_Activity</th>\n",
              "    </tr>\n",
              "    <tr>\n",
              "      <th>Year</th>\n",
              "      <th></th>\n",
              "    </tr>\n",
              "  </thead>\n",
              "  <tbody>\n",
              "    <tr>\n",
              "      <th>2009</th>\n",
              "      <td>16</td>\n",
              "    </tr>\n",
              "    <tr>\n",
              "      <th>2010</th>\n",
              "      <td>47</td>\n",
              "    </tr>\n",
              "    <tr>\n",
              "      <th>2011</th>\n",
              "      <td>89</td>\n",
              "    </tr>\n",
              "    <tr>\n",
              "      <th>2012</th>\n",
              "      <td>162</td>\n",
              "    </tr>\n",
              "    <tr>\n",
              "      <th>2013</th>\n",
              "      <td>354</td>\n",
              "    </tr>\n",
              "    <tr>\n",
              "      <th>2014</th>\n",
              "      <td>582</td>\n",
              "    </tr>\n",
              "    <tr>\n",
              "      <th>2015</th>\n",
              "      <td>743</td>\n",
              "    </tr>\n",
              "    <tr>\n",
              "      <th>2016</th>\n",
              "      <td>1103</td>\n",
              "    </tr>\n",
              "    <tr>\n",
              "      <th>2017</th>\n",
              "      <td>5389</td>\n",
              "    </tr>\n",
              "    <tr>\n",
              "      <th>2018</th>\n",
              "      <td>10575</td>\n",
              "    </tr>\n",
              "    <tr>\n",
              "      <th>2019</th>\n",
              "      <td>14855</td>\n",
              "    </tr>\n",
              "  </tbody>\n",
              "</table>\n",
              "</div>"
            ],
            "text/plain": [
              "      Users_Activity\n",
              "Year                \n",
              "2009              16\n",
              "2010              47\n",
              "2011              89\n",
              "2012             162\n",
              "2013             354\n",
              "2014             582\n",
              "2015             743\n",
              "2016            1103\n",
              "2017            5389\n",
              "2018           10575\n",
              "2019           14855"
            ]
          },
          "metadata": {
            "tags": []
          },
          "execution_count": 17
        }
      ]
    },
    {
      "cell_type": "code",
      "metadata": {
        "id": "fDhYHGkqNk7x",
        "colab_type": "code",
        "outputId": "44d41894-b800-49fb-abaa-6e9a1626e6ad",
        "colab": {
          "base_uri": "https://localhost:8080/",
          "height": 440
        }
      },
      "source": [
        "explode = (0,0,0,0,0,0,0,0,0,0,0.1)\n",
        "dfUsers_Act.set_index('Year').plot(kind = 'pie', title = 'Users\\' last access year', subplots=True, radius=2, explode=explode)\n",
        "plt.legend(loc = 'lower left', fontsize = 12, bbox_to_anchor=(1.6, 0))\n",
        "plt.figure(figsize=(2, 2))\n",
        "\n"
      ],
      "execution_count": 0,
      "outputs": [
        {
          "output_type": "execute_result",
          "data": {
            "text/plain": [
              "<Figure size 144x144 with 0 Axes>"
            ]
          },
          "metadata": {
            "tags": []
          },
          "execution_count": 39
        },
        {
          "output_type": "display_data",
          "data": {
            "image/png": "[encoded data removed]",
            "text/plain": [
              "<Figure size 432x288 with 1 Axes>"
            ]
          },
          "metadata": {
            "tags": []
          }
        },
        {
          "output_type": "display_data",
          "data": {
            "text/plain": [
              "<Figure size 144x144 with 0 Axes>"
            ]
          },
          "metadata": {
            "tags": []
          }
        }
      ]
    },
    {
      "cell_type": "markdown",
      "metadata": {
        "id": "mTJxaTS5AS9U",
        "colab_type": "text"
      },
      "source": [
        "*Zaangażowanie użytkowników serwisu można również cześciowo ocenić na podstawie dat ostatnich logowań. W przypadku użytkowników z Polski, prawie połowa z nich logowała się w I kwartale tego roku, co świadczy o ich aktywnosci na serwisie. Dodając do tego osoby logujące się w 2018 r., to już prawie 3/4 użytkowników z Polski. Świadczy to o dużym zaangażowaniu użytkowników w wymianę informacji na portalu.*"
      ]
    },
    {
      "cell_type": "markdown",
      "metadata": {
        "id": "BvYs9EciQlU_",
        "colab_type": "text"
      },
      "source": [
        "##*Liczba utworzonych kont w podziale na lata, dla ktorych użytkownicy deklarują lokalizację jako Polskę*\n",
        "*W przypadku 2019 r. dane są za I kwartał*"
      ]
    },
    {
      "cell_type": "code",
      "metadata": {
        "id": "pPGSA5YHPX6p",
        "colab_type": "code",
        "colab": {}
      },
      "source": [
        "queryUsers_creation = \"\"\"SELECT\n",
        "  EXTRACT(YEAR FROM creation_date) AS Year,\n",
        "  COUNT(*) AS Number_Created_Account\n",
        "FROM\n",
        "  `bigquery-public-data.stackoverflow.users`\n",
        "WHERE location LIKE '%Poland%' OR location LIKE '%Polska%'  \n",
        "GROUP BY\n",
        "  Year\n",
        "HAVING\n",
        "  Year > 2008 AND Year <= 2019\n",
        "ORDER BY\n",
        "  Year\"\"\""
      ],
      "execution_count": 0,
      "outputs": []
    },
    {
      "cell_type": "code",
      "metadata": {
        "id": "h6A_tN3gPpMU",
        "colab_type": "code",
        "outputId": "a122edf6-66c3-4ce8-9904-63f0df4e5d54",
        "colab": {
          "base_uri": "https://localhost:8080/",
          "height": 421
        }
      },
      "source": [
        "dfUsers_creation = pd.read_gbq(query = queryUsers_creation, project_id = 'it-job-market-project-cc', dialect = 'standard')\n",
        "dfUsers_creation.set_index('Year')"
      ],
      "execution_count": 0,
      "outputs": [
        {
          "output_type": "execute_result",
          "data": {
            "text/html": [
              "<div>\n",
              "<style scoped>\n",
              "    .dataframe tbody tr th:only-of-type {\n",
              "        vertical-align: middle;\n",
              "    }\n",
              "\n",
              "    .dataframe tbody tr th {\n",
              "        vertical-align: top;\n",
              "    }\n",
              "\n",
              "    .dataframe thead th {\n",
              "        text-align: right;\n",
              "    }\n",
              "</style>\n",
              "<table border=\"1\" class=\"dataframe\">\n",
              "  <thead>\n",
              "    <tr style=\"text-align: right;\">\n",
              "      <th></th>\n",
              "      <th>Number_Created_Account</th>\n",
              "    </tr>\n",
              "    <tr>\n",
              "      <th>Year</th>\n",
              "      <th></th>\n",
              "    </tr>\n",
              "  </thead>\n",
              "  <tbody>\n",
              "    <tr>\n",
              "      <th>2009</th>\n",
              "      <td>434</td>\n",
              "    </tr>\n",
              "    <tr>\n",
              "      <th>2010</th>\n",
              "      <td>813</td>\n",
              "    </tr>\n",
              "    <tr>\n",
              "      <th>2011</th>\n",
              "      <td>1285</td>\n",
              "    </tr>\n",
              "    <tr>\n",
              "      <th>2012</th>\n",
              "      <td>2041</td>\n",
              "    </tr>\n",
              "    <tr>\n",
              "      <th>2013</th>\n",
              "      <td>2590</td>\n",
              "    </tr>\n",
              "    <tr>\n",
              "      <th>2014</th>\n",
              "      <td>2758</td>\n",
              "    </tr>\n",
              "    <tr>\n",
              "      <th>2015</th>\n",
              "      <td>2281</td>\n",
              "    </tr>\n",
              "    <tr>\n",
              "      <th>2016</th>\n",
              "      <td>3656</td>\n",
              "    </tr>\n",
              "    <tr>\n",
              "      <th>2017</th>\n",
              "      <td>8643</td>\n",
              "    </tr>\n",
              "    <tr>\n",
              "      <th>2018</th>\n",
              "      <td>8077</td>\n",
              "    </tr>\n",
              "    <tr>\n",
              "      <th>2019</th>\n",
              "      <td>1222</td>\n",
              "    </tr>\n",
              "  </tbody>\n",
              "</table>\n",
              "</div>"
            ],
            "text/plain": [
              "      Number_Created_Account\n",
              "Year                        \n",
              "2009                     434\n",
              "2010                     813\n",
              "2011                    1285\n",
              "2012                    2041\n",
              "2013                    2590\n",
              "2014                    2758\n",
              "2015                    2281\n",
              "2016                    3656\n",
              "2017                    8643\n",
              "2018                    8077\n",
              "2019                    1222"
            ]
          },
          "metadata": {
            "tags": []
          },
          "execution_count": 41
        }
      ]
    },
    {
      "cell_type": "code",
      "metadata": {
        "id": "fMQS28J1QAen",
        "colab_type": "code",
        "outputId": "d2619ae3-8e00-4c79-fe93-c61aed9b0576",
        "colab": {
          "base_uri": "https://localhost:8080/",
          "height": 312
        }
      },
      "source": [
        "dfUsers_creation[0:10].plot(kind = 'line', x = 'Year', y = 'Number_Created_Account', title = 'Number created account 2009-2018')"
      ],
      "execution_count": 0,
      "outputs": [
        {
          "output_type": "execute_result",
          "data": {
            "text/plain": [
              "<matplotlib.axes._subplots.AxesSubplot at 0x7f7c5b9880b8>"
            ]
          },
          "metadata": {
            "tags": []
          },
          "execution_count": 51
        },
        {
          "output_type": "display_data",
          "data": {
            "image/png": "[encoded data removed]",
            "text/plain": [
              "<Figure size 432x288 with 1 Axes>"
            ]
          },
          "metadata": {
            "tags": []
          }
        }
      ]
    },
    {
      "cell_type": "markdown",
      "metadata": {
        "id": "ehVs9qZjCr8V",
        "colab_type": "text"
      },
      "source": [
        "*Z wykresu widać, że do roku 2017 stale rosła liczba tworzonych kont użytkowników z Polski na serwisie. Największy przyrost miał miejsce między 2016 a 2017 r., gdzie wzrost był ponad dwukrotny. Po roku 2017 widać delikatny spadek w ilości tworzonych kont, co mogą też potwierdzić dane za I kwartał 2019r. Mogą one wskazywać na kolejny rok spadku ilości tworzonych kont.*"
      ]
    },
    {
      "cell_type": "markdown",
      "metadata": {
        "id": "FBiL56kTN-F2",
        "colab_type": "text"
      },
      "source": [
        "## *Jakie zagadnienia interesują użytkowników z Polski -wg tagów z zadawanych pytań*"
      ]
    },
    {
      "cell_type": "code",
      "metadata": {
        "id": "7L0Xr-fECPKW",
        "colab_type": "code",
        "colab": {}
      },
      "source": [
        "query3 = \"\"\"SELECT posts_questions.id, posts_questions.creation_date, owner_user_id, score, tags\n",
        "FROM `bigquery-public-data.stackoverflow.posts_questions` posts_questions\n",
        "JOIN\n",
        "  `bigquery-public-data.stackoverflow.users` users\n",
        "ON posts_questions.owner_user_id = users.id\n",
        "WHERE users.location like '%Poland%' OR users.location like '%Polska%'\"\"\"\n"
      ],
      "execution_count": 0,
      "outputs": []
    },
    {
      "cell_type": "code",
      "metadata": {
        "id": "oaPsAOlaM5SF",
        "colab_type": "code",
        "outputId": "32290caa-f364-4a90-cc8b-c100785fabfd",
        "colab": {
          "base_uri": "https://localhost:8080/",
          "height": 390
        }
      },
      "source": [
        "df3 = pd.read_gbq(query = query3, project_id = 'it-job-market-project-cc', dialect = 'standard')\n",
        "tags = ' '.join(df3.tags).lower()\n",
        "pdTags = pd.DataFrame(re.split(r'[| ]', tags))\n",
        "pdTags1 = pd.DataFrame(pdTags.groupby(0)[0].count().sort_values(ascending = False).head(10))\n",
        "pdTags1"
      ],
      "execution_count": 0,
      "outputs": [
        {
          "output_type": "execute_result",
          "data": {
            "text/html": [
              "<div>\n",
              "<style scoped>\n",
              "    .dataframe tbody tr th:only-of-type {\n",
              "        vertical-align: middle;\n",
              "    }\n",
              "\n",
              "    .dataframe tbody tr th {\n",
              "        vertical-align: top;\n",
              "    }\n",
              "\n",
              "    .dataframe thead th {\n",
              "        text-align: right;\n",
              "    }\n",
              "</style>\n",
              "<table border=\"1\" class=\"dataframe\">\n",
              "  <thead>\n",
              "    <tr style=\"text-align: right;\">\n",
              "      <th></th>\n",
              "      <th>0</th>\n",
              "    </tr>\n",
              "    <tr>\n",
              "      <th>0</th>\n",
              "      <th></th>\n",
              "    </tr>\n",
              "  </thead>\n",
              "  <tbody>\n",
              "    <tr>\n",
              "      <th>java</th>\n",
              "      <td>11510</td>\n",
              "    </tr>\n",
              "    <tr>\n",
              "      <th>javascript</th>\n",
              "      <td>10303</td>\n",
              "    </tr>\n",
              "    <tr>\n",
              "      <th>c#</th>\n",
              "      <td>9711</td>\n",
              "    </tr>\n",
              "    <tr>\n",
              "      <th>android</th>\n",
              "      <td>6800</td>\n",
              "    </tr>\n",
              "    <tr>\n",
              "      <th>php</th>\n",
              "      <td>6038</td>\n",
              "    </tr>\n",
              "    <tr>\n",
              "      <th>python</th>\n",
              "      <td>5564</td>\n",
              "    </tr>\n",
              "    <tr>\n",
              "      <th>c++</th>\n",
              "      <td>5466</td>\n",
              "    </tr>\n",
              "    <tr>\n",
              "      <th>jquery</th>\n",
              "      <td>4014</td>\n",
              "    </tr>\n",
              "    <tr>\n",
              "      <th>html</th>\n",
              "      <td>3539</td>\n",
              "    </tr>\n",
              "    <tr>\n",
              "      <th>css</th>\n",
              "      <td>3092</td>\n",
              "    </tr>\n",
              "  </tbody>\n",
              "</table>\n",
              "</div>"
            ],
            "text/plain": [
              "                0\n",
              "0                \n",
              "java        11510\n",
              "javascript  10303\n",
              "c#           9711\n",
              "android      6800\n",
              "php          6038\n",
              "python       5564\n",
              "c++          5466\n",
              "jquery       4014\n",
              "html         3539\n",
              "css          3092"
            ]
          },
          "metadata": {
            "tags": []
          },
          "execution_count": 33
        }
      ]
    },
    {
      "cell_type": "code",
      "metadata": {
        "id": "jX8rvDEGGQy8",
        "colab_type": "code",
        "outputId": "c16d7f35-8c7a-47dd-d159-cc9f9e87ccbb",
        "colab": {
          "base_uri": "https://localhost:8080/",
          "height": 461
        }
      },
      "source": [
        "explode = (0.1,0.1,0,0,0,0,0,0,0,0)\n",
        "pdTags1.plot(kind = 'pie', title = 'Questions\\' tags', subplots=True, radius=2, explode=explode)\n",
        "plt.legend(loc = 'lower left', fontsize = 14, bbox_to_anchor=(1.6, 0))\n",
        "plt.figure(figsize=(2, 2))\n",
        "#plt.title('Questions\\' tags',y=0.1)"
      ],
      "execution_count": 0,
      "outputs": [
        {
          "output_type": "execute_result",
          "data": {
            "text/plain": [
              "<Figure size 144x144 with 0 Axes>"
            ]
          },
          "metadata": {
            "tags": []
          },
          "execution_count": 34
        },
        {
          "output_type": "display_data",
          "data": {
            "image/png": "[encoded data removed]",
            "text/plain": [
              "<Figure size 432x288 with 1 Axes>"
            ]
          },
          "metadata": {
            "tags": []
          }
        },
        {
          "output_type": "display_data",
          "data": {
            "text/plain": [
              "<Figure size 144x144 with 0 Axes>"
            ]
          },
          "metadata": {
            "tags": []
          }
        }
      ]
    },
    {
      "cell_type": "markdown",
      "metadata": {
        "id": "grgyvoRHNIcC",
        "colab_type": "text"
      },
      "source": [
        "*Wśród użytkowników z Polski, najwięcej zadawanych pytań dotyczy javy, która dzięki temu wysuwa się na prowadzenie jeśli chodzi o popularność języka, ale też jako język sprawiający najwięcej problemów, skutkujących szukaniem odpowiedzi na StackOverflow. JavaScript oraz C# są porównywalne pod kątem ilości tagów wśród polskich użytkowników.*"
      ]
    },
    {
      "cell_type": "markdown",
      "metadata": {
        "id": "35I869OHIX0a",
        "colab_type": "text"
      },
      "source": [
        "## *Najbardziej popularne tagi wśród użytkowników z Polski od 2018 r.*"
      ]
    },
    {
      "cell_type": "code",
      "metadata": {
        "colab_type": "code",
        "id": "Du4PYpgbQX0g",
        "colab": {}
      },
      "source": [
        "queryTagsYears = \"\"\"SELECT posts_questions.id, EXTRACT(YEAR FROM posts_questions.creation_date) AS Year, owner_user_id, score, tags\n",
        "FROM `bigquery-public-data.stackoverflow.posts_questions` posts_questions\n",
        "JOIN\n",
        "  `bigquery-public-data.stackoverflow.users` users\n",
        "ON posts_questions.owner_user_id = users.id\n",
        "WHERE (users.location like '%Poland%' OR users.location like '%Polska%') and EXTRACT(YEAR FROM posts_questions.creation_date) >= 2018 \n",
        "\"\"\"\n"
      ],
      "execution_count": 0,
      "outputs": []
    },
    {
      "cell_type": "code",
      "metadata": {
        "colab_type": "code",
        "outputId": "d96cfa5e-bf61-4851-9bcd-f5ab1b1c2463",
        "id": "zZwHPBiZQX0q",
        "colab": {
          "base_uri": "https://localhost:8080/",
          "height": 390
        }
      },
      "source": [
        "dfTagsYears = pd.read_gbq(query = queryTagsYears, project_id = 'it-job-market-project-cc', dialect = 'standard')\n",
        "tagsY = ' '.join(dfTagsYears.tags).lower()\n",
        "pdTagsY = pd.DataFrame(re.split(r'[| ]', tagsY))\n",
        "pdTagsY1 = pd.DataFrame(pdTagsY.groupby(0)[0].count().sort_values(ascending = False).head(10))\n",
        "pdTagsY1"
      ],
      "execution_count": 0,
      "outputs": [
        {
          "output_type": "execute_result",
          "data": {
            "text/html": [
              "<div>\n",
              "<style scoped>\n",
              "    .dataframe tbody tr th:only-of-type {\n",
              "        vertical-align: middle;\n",
              "    }\n",
              "\n",
              "    .dataframe tbody tr th {\n",
              "        vertical-align: top;\n",
              "    }\n",
              "\n",
              "    .dataframe thead th {\n",
              "        text-align: right;\n",
              "    }\n",
              "</style>\n",
              "<table border=\"1\" class=\"dataframe\">\n",
              "  <thead>\n",
              "    <tr style=\"text-align: right;\">\n",
              "      <th></th>\n",
              "      <th>0</th>\n",
              "    </tr>\n",
              "    <tr>\n",
              "      <th>0</th>\n",
              "      <th></th>\n",
              "    </tr>\n",
              "  </thead>\n",
              "  <tbody>\n",
              "    <tr>\n",
              "      <th>javascript</th>\n",
              "      <td>2317</td>\n",
              "    </tr>\n",
              "    <tr>\n",
              "      <th>java</th>\n",
              "      <td>2297</td>\n",
              "    </tr>\n",
              "    <tr>\n",
              "      <th>c#</th>\n",
              "      <td>1421</td>\n",
              "    </tr>\n",
              "    <tr>\n",
              "      <th>python</th>\n",
              "      <td>1408</td>\n",
              "    </tr>\n",
              "    <tr>\n",
              "      <th>android</th>\n",
              "      <td>1130</td>\n",
              "    </tr>\n",
              "    <tr>\n",
              "      <th>php</th>\n",
              "      <td>837</td>\n",
              "    </tr>\n",
              "    <tr>\n",
              "      <th>c++</th>\n",
              "      <td>745</td>\n",
              "    </tr>\n",
              "    <tr>\n",
              "      <th>html</th>\n",
              "      <td>714</td>\n",
              "    </tr>\n",
              "    <tr>\n",
              "      <th>reactjs</th>\n",
              "      <td>688</td>\n",
              "    </tr>\n",
              "    <tr>\n",
              "      <th>angular</th>\n",
              "      <td>671</td>\n",
              "    </tr>\n",
              "  </tbody>\n",
              "</table>\n",
              "</div>"
            ],
            "text/plain": [
              "               0\n",
              "0               \n",
              "javascript  2317\n",
              "java        2297\n",
              "c#          1421\n",
              "python      1408\n",
              "android     1130\n",
              "php          837\n",
              "c++          745\n",
              "html         714\n",
              "reactjs      688\n",
              "angular      671"
            ]
          },
          "metadata": {
            "tags": []
          },
          "execution_count": 36
        }
      ]
    },
    {
      "cell_type": "code",
      "metadata": {
        "id": "HI4n-A7xIjAS",
        "colab_type": "code",
        "outputId": "613a611c-d077-4677-adf5-7c8cc100f6b4",
        "colab": {
          "base_uri": "https://localhost:8080/",
          "height": 351
        }
      },
      "source": [
        "pdTagsY1.plot(kind = 'bar', title = 'Najbardziej popularne tagi wśród użytkowników z Polski od 2018 r.')"
      ],
      "execution_count": 0,
      "outputs": [
        {
          "output_type": "execute_result",
          "data": {
            "text/plain": [
              "<matplotlib.axes._subplots.AxesSubplot at 0x7fd79da8f5c0>"
            ]
          },
          "metadata": {
            "tags": []
          },
          "execution_count": 37
        },
        {
          "output_type": "display_data",
          "data": {
            "image/png": "[encoded data removed]",
            "text/plain": [
              "<Figure size 432x288 with 1 Axes>"
            ]
          },
          "metadata": {
            "tags": []
          }
        }
      ]
    },
    {
      "cell_type": "markdown",
      "metadata": {
        "id": "Zavap6n_Iyr-",
        "colab_type": "text"
      },
      "source": [
        "*Wśród zadawanych pytań najczęściej tagowane są pytania dot. javy i java script. Kolejne języki, które pojawiają się w pytaniach, to c# oraz python, jednak ilościowo wypadają gorzej od javascript i javy.*"
      ]
    },
    {
      "cell_type": "markdown",
      "metadata": {
        "id": "Il2bE6coVPM9",
        "colab_type": "text"
      },
      "source": [
        "## *Ilość pytań zadawanych przez polskich użytkowników i odpowiedzi na ich pytania w podziale  na lata*"
      ]
    },
    {
      "cell_type": "code",
      "metadata": {
        "id": "DmA3hK2UVTP_",
        "colab_type": "code",
        "colab": {}
      },
      "source": [
        "queryQAPol = \"\"\"SELECT \n",
        "EXTRACT(YEAR FROM posts_questions.creation_date) AS Year,\n",
        "  COUNT(*) AS Number_of_Questions,\n",
        "  SUM(answer_count) AS Number_of_Answers\n",
        "FROM\n",
        "  `bigquery-public-data.stackoverflow.posts_questions` posts_questions\n",
        "JOIN\n",
        "  `bigquery-public-data.stackoverflow.users` users\n",
        "ON posts_questions.owner_user_id = users.id\n",
        "WHERE users.location like '%Poland%' OR users.location like '%Polska%'\n",
        "GROUP BY\n",
        "  Year\n",
        "HAVING\n",
        "  Year > 2008 AND Year <= 2019\n",
        "ORDER BY\n",
        "  Year\"\"\""
      ],
      "execution_count": 0,
      "outputs": []
    },
    {
      "cell_type": "code",
      "metadata": {
        "id": "VNYKNnuIVjIO",
        "colab_type": "code",
        "outputId": "0563a6e3-b294-46ac-f150-4d64a7f370e0",
        "colab": {
          "base_uri": "https://localhost:8080/",
          "height": 407
        }
      },
      "source": [
        "dfQAPol = pd.read_gbq(query = queryQAPol, project_id = 'it-job-market-project-cc', dialect = 'standard')\n",
        "dfQAPol.set_index('Year')"
      ],
      "execution_count": 0,
      "outputs": [
        {
          "output_type": "execute_result",
          "data": {
            "text/html": [
              "<div>\n",
              "<style scoped>\n",
              "    .dataframe tbody tr th:only-of-type {\n",
              "        vertical-align: middle;\n",
              "    }\n",
              "\n",
              "    .dataframe tbody tr th {\n",
              "        vertical-align: top;\n",
              "    }\n",
              "\n",
              "    .dataframe thead th {\n",
              "        text-align: right;\n",
              "    }\n",
              "</style>\n",
              "<table border=\"1\" class=\"dataframe\">\n",
              "  <thead>\n",
              "    <tr style=\"text-align: right;\">\n",
              "      <th></th>\n",
              "      <th>Number_of_Questions</th>\n",
              "      <th>Number_of_Answers</th>\n",
              "    </tr>\n",
              "    <tr>\n",
              "      <th>Year</th>\n",
              "      <th></th>\n",
              "      <th></th>\n",
              "    </tr>\n",
              "  </thead>\n",
              "  <tbody>\n",
              "    <tr>\n",
              "      <th>2009</th>\n",
              "      <td>1746</td>\n",
              "      <td>6028</td>\n",
              "    </tr>\n",
              "    <tr>\n",
              "      <th>2010</th>\n",
              "      <td>3771</td>\n",
              "      <td>9295</td>\n",
              "    </tr>\n",
              "    <tr>\n",
              "      <th>2011</th>\n",
              "      <td>6179</td>\n",
              "      <td>12971</td>\n",
              "    </tr>\n",
              "    <tr>\n",
              "      <th>2012</th>\n",
              "      <td>8736</td>\n",
              "      <td>15508</td>\n",
              "    </tr>\n",
              "    <tr>\n",
              "      <th>2013</th>\n",
              "      <td>11089</td>\n",
              "      <td>18225</td>\n",
              "    </tr>\n",
              "    <tr>\n",
              "      <th>2014</th>\n",
              "      <td>11463</td>\n",
              "      <td>16439</td>\n",
              "    </tr>\n",
              "    <tr>\n",
              "      <th>2015</th>\n",
              "      <td>11746</td>\n",
              "      <td>15902</td>\n",
              "    </tr>\n",
              "    <tr>\n",
              "      <th>2016</th>\n",
              "      <td>11905</td>\n",
              "      <td>15240</td>\n",
              "    </tr>\n",
              "    <tr>\n",
              "      <th>2017</th>\n",
              "      <td>14835</td>\n",
              "      <td>18270</td>\n",
              "    </tr>\n",
              "    <tr>\n",
              "      <th>2018</th>\n",
              "      <td>15993</td>\n",
              "      <td>16628</td>\n",
              "    </tr>\n",
              "    <tr>\n",
              "      <th>2019</th>\n",
              "      <td>2726</td>\n",
              "      <td>2585</td>\n",
              "    </tr>\n",
              "  </tbody>\n",
              "</table>\n",
              "</div>"
            ],
            "text/plain": [
              "      Number_of_Questions  Number_of_Answers\n",
              "Year                                        \n",
              "2009                 1746               6028\n",
              "2010                 3771               9295\n",
              "2011                 6179              12971\n",
              "2012                 8736              15508\n",
              "2013                11089              18225\n",
              "2014                11463              16439\n",
              "2015                11746              15902\n",
              "2016                11905              15240\n",
              "2017                14835              18270\n",
              "2018                15993              16628\n",
              "2019                 2726               2585"
            ]
          },
          "metadata": {
            "tags": []
          },
          "execution_count": 31
        }
      ]
    },
    {
      "cell_type": "code",
      "metadata": {
        "id": "q9sNExaTV5St",
        "colab_type": "code",
        "outputId": "9885621a-d71f-4a08-a45d-33cfd979d2a7",
        "colab": {
          "base_uri": "https://localhost:8080/",
          "height": 343
        }
      },
      "source": [
        "dfQAPol[0:10].set_index('Year').plot(kind = 'bar')\n",
        "plt.title('Ilość pytań zadawanych przez użytkowników z Polski \\n oraz odpowiedzi na nie w podziale na lata')\n"
      ],
      "execution_count": 0,
      "outputs": [
        {
          "output_type": "execute_result",
          "data": {
            "text/plain": [
              "Text(0.5, 1.0, 'Ilość pytań zadawanych przez użytkowników z Polski \\n oraz odpowiedzi na nie w podziale na lata')"
            ]
          },
          "metadata": {
            "tags": []
          },
          "execution_count": 32
        },
        {
          "output_type": "display_data",
          "data": {
            "image/png": "[encoded data removed]",
            "text/plain": [
              "<Figure size 432x288 with 1 Axes>"
            ]
          },
          "metadata": {
            "tags": []
          }
        }
      ]
    },
    {
      "cell_type": "markdown",
      "metadata": {
        "id": "YM7HeeZmazOv",
        "colab_type": "text"
      },
      "source": [
        "## *Ilość odpowiedzi, dla których deklarowanym użytkownikiem jest Polak w podziale na lata*"
      ]
    },
    {
      "cell_type": "code",
      "metadata": {
        "id": "IEEzJ6REa14w",
        "colab_type": "code",
        "colab": {}
      },
      "source": [
        "queryA = \"\"\"SELECT \n",
        "EXTRACT(YEAR FROM posts_answers.creation_date) AS Year,\n",
        "  COUNT(*) AS Number_of_Answers\n",
        "FROM\n",
        "  `bigquery-public-data.stackoverflow.posts_answers` posts_answers\n",
        "JOIN\n",
        "  `bigquery-public-data.stackoverflow.users` users\n",
        "ON posts_answers.owner_user_id = users.id\n",
        "WHERE users.location like '%Poland%' OR users.location like '%Polska%'\n",
        "GROUP BY\n",
        "  Year\n",
        "HAVING\n",
        "  Year > 2008 AND Year <= 2019\n",
        "ORDER BY\n",
        "  Year\"\"\""
      ],
      "execution_count": 0,
      "outputs": []
    },
    {
      "cell_type": "code",
      "metadata": {
        "id": "1MerYPbsa9_M",
        "colab_type": "code",
        "outputId": "97f627c3-0b53-4eab-e7cd-551b3af5a3c6",
        "colab": {
          "base_uri": "https://localhost:8080/",
          "height": 407
        }
      },
      "source": [
        "dfA = pd.read_gbq(query = queryA, project_id = 'it-job-market-project-cc', dialect = 'standard')\n",
        "dfA.set_index('Year')"
      ],
      "execution_count": 0,
      "outputs": [
        {
          "output_type": "execute_result",
          "data": {
            "text/html": [
              "<div>\n",
              "<style scoped>\n",
              "    .dataframe tbody tr th:only-of-type {\n",
              "        vertical-align: middle;\n",
              "    }\n",
              "\n",
              "    .dataframe tbody tr th {\n",
              "        vertical-align: top;\n",
              "    }\n",
              "\n",
              "    .dataframe thead th {\n",
              "        text-align: right;\n",
              "    }\n",
              "</style>\n",
              "<table border=\"1\" class=\"dataframe\">\n",
              "  <thead>\n",
              "    <tr style=\"text-align: right;\">\n",
              "      <th></th>\n",
              "      <th>Number_of_Answers</th>\n",
              "    </tr>\n",
              "    <tr>\n",
              "      <th>Year</th>\n",
              "      <th></th>\n",
              "    </tr>\n",
              "  </thead>\n",
              "  <tbody>\n",
              "    <tr>\n",
              "      <th>2009</th>\n",
              "      <td>5708</td>\n",
              "    </tr>\n",
              "    <tr>\n",
              "      <th>2010</th>\n",
              "      <td>11982</td>\n",
              "    </tr>\n",
              "    <tr>\n",
              "      <th>2011</th>\n",
              "      <td>18753</td>\n",
              "    </tr>\n",
              "    <tr>\n",
              "      <th>2012</th>\n",
              "      <td>24961</td>\n",
              "    </tr>\n",
              "    <tr>\n",
              "      <th>2013</th>\n",
              "      <td>36136</td>\n",
              "    </tr>\n",
              "    <tr>\n",
              "      <th>2014</th>\n",
              "      <td>34430</td>\n",
              "    </tr>\n",
              "    <tr>\n",
              "      <th>2015</th>\n",
              "      <td>37163</td>\n",
              "    </tr>\n",
              "    <tr>\n",
              "      <th>2016</th>\n",
              "      <td>39333</td>\n",
              "    </tr>\n",
              "    <tr>\n",
              "      <th>2017</th>\n",
              "      <td>36823</td>\n",
              "    </tr>\n",
              "    <tr>\n",
              "      <th>2018</th>\n",
              "      <td>32724</td>\n",
              "    </tr>\n",
              "    <tr>\n",
              "      <th>2019</th>\n",
              "      <td>5742</td>\n",
              "    </tr>\n",
              "  </tbody>\n",
              "</table>\n",
              "</div>"
            ],
            "text/plain": [
              "      Number_of_Answers\n",
              "Year                   \n",
              "2009               5708\n",
              "2010              11982\n",
              "2011              18753\n",
              "2012              24961\n",
              "2013              36136\n",
              "2014              34430\n",
              "2015              37163\n",
              "2016              39333\n",
              "2017              36823\n",
              "2018              32724\n",
              "2019               5742"
            ]
          },
          "metadata": {
            "tags": []
          },
          "execution_count": 34
        }
      ]
    },
    {
      "cell_type": "code",
      "metadata": {
        "id": "UcPA9M2cbFkK",
        "colab_type": "code",
        "outputId": "6a9eb47b-349a-43ce-948a-6b5fe234b304",
        "colab": {
          "base_uri": "https://localhost:8080/",
          "height": 343
        }
      },
      "source": [
        "dfA[0:10].set_index('Year').plot(kind = 'bar')\n",
        "plt.title('Ilość odpowiedzi, dla których właścicielem jest użytkownik z Polski \\n  w podziale na lata')"
      ],
      "execution_count": 0,
      "outputs": [
        {
          "output_type": "execute_result",
          "data": {
            "text/plain": [
              "Text(0.5, 1.0, 'Ilość odpowiedzi, dla których właścicielem jest użytkownik z Polski \\n  w podziale na lata')"
            ]
          },
          "metadata": {
            "tags": []
          },
          "execution_count": 35
        },
        {
          "output_type": "display_data",
          "data": {
            "image/png": "[encoded data removed]",
            "text/plain": [
              "<Figure size 432x288 with 1 Axes>"
            ]
          },
          "metadata": {
            "tags": []
          }
        }
      ]
    },
    {
      "cell_type": "markdown",
      "metadata": {
        "id": "byO7f9sxkxaQ",
        "colab_type": "text"
      },
      "source": [
        "*Wraz ze wzrostem ilości użytkowników deklarujących swoje pochodzenie z Polski rośnie również ilość zadawanych przez nich pytań oraz wrzucanych postów z odpowiedziami. Skokowy wzrost ilości użytkowników z Polski pomiędzy 2016 a 2017 r. nie przełożył się na równie duży wzrost ilości pytań. Pomiędzy 2017 a 2018 r. widać spadek ilości zadawanych pytań, co również mogą potwierdzić niska wartość ilości zadanych pytań w I kw. 2019 r.*"
      ]
    },
    {
      "cell_type": "markdown",
      "metadata": {
        "id": "Gx3CRBbccuXp",
        "colab_type": "text"
      },
      "source": [
        "# Dane użytkowników StackOverflow"
      ]
    },
    {
      "cell_type": "markdown",
      "metadata": {
        "id": "5qifHMkWize3",
        "colab_type": "text"
      },
      "source": [
        "## Zestawienie danych użytkowników"
      ]
    },
    {
      "cell_type": "code",
      "metadata": {
        "id": "KqGjvfcRQaue",
        "colab_type": "code",
        "colab": {}
      },
      "source": [
        "query11 = \"\"\"SELECT display_name, location, user_exper, reputation, up_votes, down_votes, Last_Access_Year, id\n",
        "FROM \n",
        "  (SELECT display_name, creation_date, location,reputation, up_votes, down_votes, id,\n",
        "  DATE_DIFF(CURRENT_DATE, DATE(creation_date),  YEAR) AS user_exper, \n",
        "  EXTRACT(YEAR FROM last_access_date) AS Last_Access_Year\n",
        "  FROM `bigquery-public-data.stackoverflow.users` users\n",
        "  )\n",
        "ORDER BY reputation DESC\n",
        "LIMIT 100\"\"\""
      ],
      "execution_count": 0,
      "outputs": []
    },
    {
      "cell_type": "code",
      "metadata": {
        "id": "uE_gwdEYRHH1",
        "colab_type": "code",
        "outputId": "3594f448-bae1-445b-85b7-5af0ad210864",
        "colab": {
          "base_uri": "https://localhost:8080/",
          "height": 1969
        }
      },
      "source": [
        "df11 = pd.read_gbq(query = query11, project_id = 'it-job-market-project-cc', dialect = 'standard')\n",
        "df11"
      ],
      "execution_count": 0,
      "outputs": [
        {
          "output_type": "execute_result",
          "data": {
            "text/html": [
              "<div>\n",
              "<style scoped>\n",
              "    .dataframe tbody tr th:only-of-type {\n",
              "        vertical-align: middle;\n",
              "    }\n",
              "\n",
              "    .dataframe tbody tr th {\n",
              "        vertical-align: top;\n",
              "    }\n",
              "\n",
              "    .dataframe thead th {\n",
              "        text-align: right;\n",
              "    }\n",
              "</style>\n",
              "<table border=\"1\" class=\"dataframe\">\n",
              "  <thead>\n",
              "    <tr style=\"text-align: right;\">\n",
              "      <th></th>\n",
              "      <th>display_name</th>\n",
              "      <th>location</th>\n",
              "      <th>user_exper</th>\n",
              "      <th>reputation</th>\n",
              "      <th>up_votes</th>\n",
              "      <th>down_votes</th>\n",
              "      <th>Last_Access_Year</th>\n",
              "      <th>id</th>\n",
              "    </tr>\n",
              "  </thead>\n",
              "  <tbody>\n",
              "    <tr>\n",
              "      <th>0</th>\n",
              "      <td>Jon Skeet</td>\n",
              "      <td>Reading, United Kingdom</td>\n",
              "      <td>11</td>\n",
              "      <td>1089674</td>\n",
              "      <td>16323</td>\n",
              "      <td>6843</td>\n",
              "      <td>2019</td>\n",
              "      <td>22656</td>\n",
              "    </tr>\n",
              "    <tr>\n",
              "      <th>1</th>\n",
              "      <td>BalusC</td>\n",
              "      <td>Willemstad, Curaçao</td>\n",
              "      <td>10</td>\n",
              "      <td>852319</td>\n",
              "      <td>15343</td>\n",
              "      <td>21024</td>\n",
              "      <td>2019</td>\n",
              "      <td>157882</td>\n",
              "    </tr>\n",
              "    <tr>\n",
              "      <th>2</th>\n",
              "      <td>Darin Dimitrov</td>\n",
              "      <td>Sofia, Bulgaria</td>\n",
              "      <td>11</td>\n",
              "      <td>845003</td>\n",
              "      <td>1952</td>\n",
              "      <td>2651</td>\n",
              "      <td>2019</td>\n",
              "      <td>29407</td>\n",
              "    </tr>\n",
              "    <tr>\n",
              "      <th>3</th>\n",
              "      <td>VonC</td>\n",
              "      <td>France</td>\n",
              "      <td>11</td>\n",
              "      <td>844623</td>\n",
              "      <td>47433</td>\n",
              "      <td>265</td>\n",
              "      <td>2019</td>\n",
              "      <td>6309</td>\n",
              "    </tr>\n",
              "    <tr>\n",
              "      <th>4</th>\n",
              "      <td>Hans Passant</td>\n",
              "      <td>Madison, WI</td>\n",
              "      <td>11</td>\n",
              "      <td>791930</td>\n",
              "      <td>9941</td>\n",
              "      <td>54486</td>\n",
              "      <td>2019</td>\n",
              "      <td>17034</td>\n",
              "    </tr>\n",
              "    <tr>\n",
              "      <th>5</th>\n",
              "      <td>Marc Gravell</td>\n",
              "      <td>Forest of Dean, United Kingdom</td>\n",
              "      <td>11</td>\n",
              "      <td>787580</td>\n",
              "      <td>24310</td>\n",
              "      <td>1069</td>\n",
              "      <td>2019</td>\n",
              "      <td>23354</td>\n",
              "    </tr>\n",
              "    <tr>\n",
              "      <th>6</th>\n",
              "      <td>Gordon Linoff</td>\n",
              "      <td>New York, United States</td>\n",
              "      <td>7</td>\n",
              "      <td>781146</td>\n",
              "      <td>12450</td>\n",
              "      <td>41</td>\n",
              "      <td>2019</td>\n",
              "      <td>1144035</td>\n",
              "    </tr>\n",
              "    <tr>\n",
              "      <th>7</th>\n",
              "      <td>CommonsWare</td>\n",
              "      <td>Pennsylvania, United States</td>\n",
              "      <td>10</td>\n",
              "      <td>775043</td>\n",
              "      <td>10252</td>\n",
              "      <td>6676</td>\n",
              "      <td>2019</td>\n",
              "      <td>115145</td>\n",
              "    </tr>\n",
              "    <tr>\n",
              "      <th>8</th>\n",
              "      <td>Martijn Pieters</td>\n",
              "      <td>Cambridge, UK</td>\n",
              "      <td>10</td>\n",
              "      <td>715515</td>\n",
              "      <td>5696</td>\n",
              "      <td>17999</td>\n",
              "      <td>2019</td>\n",
              "      <td>100297</td>\n",
              "    </tr>\n",
              "    <tr>\n",
              "      <th>9</th>\n",
              "      <td>T.J. Crowder</td>\n",
              "      <td>United Kingdom</td>\n",
              "      <td>10</td>\n",
              "      <td>690167</td>\n",
              "      <td>10797</td>\n",
              "      <td>24756</td>\n",
              "      <td>2019</td>\n",
              "      <td>157247</td>\n",
              "    </tr>\n",
              "    <tr>\n",
              "      <th>10</th>\n",
              "      <td>SLaks</td>\n",
              "      <td>New Jersey</td>\n",
              "      <td>11</td>\n",
              "      <td>686964</td>\n",
              "      <td>6969</td>\n",
              "      <td>3198</td>\n",
              "      <td>2019</td>\n",
              "      <td>34397</td>\n",
              "    </tr>\n",
              "    <tr>\n",
              "      <th>11</th>\n",
              "      <td>Greg Hewgill</td>\n",
              "      <td>Christchurch, New Zealand</td>\n",
              "      <td>11</td>\n",
              "      <td>674632</td>\n",
              "      <td>6617</td>\n",
              "      <td>2255</td>\n",
              "      <td>2019</td>\n",
              "      <td>893</td>\n",
              "    </tr>\n",
              "    <tr>\n",
              "      <th>12</th>\n",
              "      <td>Quentin</td>\n",
              "      <td>United Kingdom</td>\n",
              "      <td>11</td>\n",
              "      <td>650366</td>\n",
              "      <td>7847</td>\n",
              "      <td>60537</td>\n",
              "      <td>2019</td>\n",
              "      <td>19068</td>\n",
              "    </tr>\n",
              "    <tr>\n",
              "      <th>13</th>\n",
              "      <td>paxdiablo</td>\n",
              "      <td></td>\n",
              "      <td>11</td>\n",
              "      <td>637855</td>\n",
              "      <td>4086</td>\n",
              "      <td>1275</td>\n",
              "      <td>2019</td>\n",
              "      <td>14860</td>\n",
              "    </tr>\n",
              "    <tr>\n",
              "      <th>14</th>\n",
              "      <td>Alex Martelli</td>\n",
              "      <td>Sunnyvale, CA</td>\n",
              "      <td>10</td>\n",
              "      <td>628718</td>\n",
              "      <td>821</td>\n",
              "      <td>50</td>\n",
              "      <td>2019</td>\n",
              "      <td>95810</td>\n",
              "    </tr>\n",
              "    <tr>\n",
              "      <th>15</th>\n",
              "      <td>dasblinkenlight</td>\n",
              "      <td>United States</td>\n",
              "      <td>9</td>\n",
              "      <td>615495</td>\n",
              "      <td>29582</td>\n",
              "      <td>3077</td>\n",
              "      <td>2019</td>\n",
              "      <td>335858</td>\n",
              "    </tr>\n",
              "    <tr>\n",
              "      <th>16</th>\n",
              "      <td>CMS</td>\n",
              "      <td>Guatemala</td>\n",
              "      <td>11</td>\n",
              "      <td>597044</td>\n",
              "      <td>564</td>\n",
              "      <td>6</td>\n",
              "      <td>2019</td>\n",
              "      <td>5445</td>\n",
              "    </tr>\n",
              "    <tr>\n",
              "      <th>17</th>\n",
              "      <td>Mark Byers</td>\n",
              "      <td>Denmark</td>\n",
              "      <td>10</td>\n",
              "      <td>593074</td>\n",
              "      <td>10338</td>\n",
              "      <td>340</td>\n",
              "      <td>2019</td>\n",
              "      <td>61974</td>\n",
              "    </tr>\n",
              "    <tr>\n",
              "      <th>18</th>\n",
              "      <td>Ignacio Vazquez-Abrams</td>\n",
              "      <td></td>\n",
              "      <td>11</td>\n",
              "      <td>585863</td>\n",
              "      <td>1739</td>\n",
              "      <td>73</td>\n",
              "      <td>2019</td>\n",
              "      <td>20862</td>\n",
              "    </tr>\n",
              "    <tr>\n",
              "      <th>19</th>\n",
              "      <td>marc_s</td>\n",
              "      <td>Bern, Switzerland</td>\n",
              "      <td>11</td>\n",
              "      <td>579217</td>\n",
              "      <td>25873</td>\n",
              "      <td>24835</td>\n",
              "      <td>2019</td>\n",
              "      <td>13302</td>\n",
              "    </tr>\n",
              "    <tr>\n",
              "      <th>20</th>\n",
              "      <td>JaredPar</td>\n",
              "      <td>Redmond, WA</td>\n",
              "      <td>11</td>\n",
              "      <td>576890</td>\n",
              "      <td>8136</td>\n",
              "      <td>76</td>\n",
              "      <td>2019</td>\n",
              "      <td>23283</td>\n",
              "    </tr>\n",
              "    <tr>\n",
              "      <th>21</th>\n",
              "      <td>Jonathan Leffler</td>\n",
              "      <td>California, USA</td>\n",
              "      <td>11</td>\n",
              "      <td>568869</td>\n",
              "      <td>29762</td>\n",
              "      <td>903</td>\n",
              "      <td>2019</td>\n",
              "      <td>15168</td>\n",
              "    </tr>\n",
              "    <tr>\n",
              "      <th>22</th>\n",
              "      <td>Guffa</td>\n",
              "      <td>Västervåla, Sweden</td>\n",
              "      <td>10</td>\n",
              "      <td>559261</td>\n",
              "      <td>493</td>\n",
              "      <td>140</td>\n",
              "      <td>2019</td>\n",
              "      <td>69083</td>\n",
              "    </tr>\n",
              "    <tr>\n",
              "      <th>23</th>\n",
              "      <td>Felix Kling</td>\n",
              "      <td></td>\n",
              "      <td>10</td>\n",
              "      <td>556172</td>\n",
              "      <td>6070</td>\n",
              "      <td>2025</td>\n",
              "      <td>2019</td>\n",
              "      <td>218196</td>\n",
              "    </tr>\n",
              "    <tr>\n",
              "      <th>24</th>\n",
              "      <td>unutbu</td>\n",
              "      <td></td>\n",
              "      <td>10</td>\n",
              "      <td>554621</td>\n",
              "      <td>16876</td>\n",
              "      <td>536</td>\n",
              "      <td>2019</td>\n",
              "      <td>190597</td>\n",
              "    </tr>\n",
              "    <tr>\n",
              "      <th>25</th>\n",
              "      <td>Eric Lippert</td>\n",
              "      <td>Seattle, WA</td>\n",
              "      <td>10</td>\n",
              "      <td>542861</td>\n",
              "      <td>2</td>\n",
              "      <td>3979</td>\n",
              "      <td>2019</td>\n",
              "      <td>88656</td>\n",
              "    </tr>\n",
              "    <tr>\n",
              "      <th>26</th>\n",
              "      <td>JB Nizet</td>\n",
              "      <td>Saint-Etienne, France</td>\n",
              "      <td>8</td>\n",
              "      <td>542373</td>\n",
              "      <td>5119</td>\n",
              "      <td>7876</td>\n",
              "      <td>2019</td>\n",
              "      <td>571407</td>\n",
              "    </tr>\n",
              "    <tr>\n",
              "      <th>27</th>\n",
              "      <td>Nick Craver</td>\n",
              "      <td>Winston-Salem, NC</td>\n",
              "      <td>11</td>\n",
              "      <td>535016</td>\n",
              "      <td>3909</td>\n",
              "      <td>10</td>\n",
              "      <td>2019</td>\n",
              "      <td>13249</td>\n",
              "    </tr>\n",
              "    <tr>\n",
              "      <th>28</th>\n",
              "      <td>anubhava</td>\n",
              "      <td>Bangalore, India</td>\n",
              "      <td>9</td>\n",
              "      <td>529120</td>\n",
              "      <td>20264</td>\n",
              "      <td>989</td>\n",
              "      <td>2019</td>\n",
              "      <td>548225</td>\n",
              "    </tr>\n",
              "    <tr>\n",
              "      <th>29</th>\n",
              "      <td>BoltClock</td>\n",
              "      <td>Singapore</td>\n",
              "      <td>10</td>\n",
              "      <td>523954</td>\n",
              "      <td>12832</td>\n",
              "      <td>2484</td>\n",
              "      <td>2019</td>\n",
              "      <td>106224</td>\n",
              "    </tr>\n",
              "    <tr>\n",
              "      <th>...</th>\n",
              "      <td>...</td>\n",
              "      <td>...</td>\n",
              "      <td>...</td>\n",
              "      <td>...</td>\n",
              "      <td>...</td>\n",
              "      <td>...</td>\n",
              "      <td>...</td>\n",
              "      <td>...</td>\n",
              "    </tr>\n",
              "    <tr>\n",
              "      <th>70</th>\n",
              "      <td>gbn</td>\n",
              "      <td>Switzerland</td>\n",
              "      <td>11</td>\n",
              "      <td>344722</td>\n",
              "      <td>4520</td>\n",
              "      <td>1080</td>\n",
              "      <td>2019</td>\n",
              "      <td>27535</td>\n",
              "    </tr>\n",
              "    <tr>\n",
              "      <th>71</th>\n",
              "      <td>alex</td>\n",
              "      <td>London, United Kingdom</td>\n",
              "      <td>11</td>\n",
              "      <td>343073</td>\n",
              "      <td>19413</td>\n",
              "      <td>2727</td>\n",
              "      <td>2019</td>\n",
              "      <td>31671</td>\n",
              "    </tr>\n",
              "    <tr>\n",
              "      <th>72</th>\n",
              "      <td>skaffman</td>\n",
              "      <td>Sydney, Australia</td>\n",
              "      <td>11</td>\n",
              "      <td>342332</td>\n",
              "      <td>5489</td>\n",
              "      <td>4011</td>\n",
              "      <td>2019</td>\n",
              "      <td>21234</td>\n",
              "    </tr>\n",
              "    <tr>\n",
              "      <th>73</th>\n",
              "      <td>jezrael</td>\n",
              "      <td>Bratislava, Slovakia</td>\n",
              "      <td>6</td>\n",
              "      <td>342063</td>\n",
              "      <td>15192</td>\n",
              "      <td>631</td>\n",
              "      <td>2019</td>\n",
              "      <td>2901002</td>\n",
              "    </tr>\n",
              "    <tr>\n",
              "      <th>74</th>\n",
              "      <td>Remy Lebeau</td>\n",
              "      <td>United States</td>\n",
              "      <td>10</td>\n",
              "      <td>338593</td>\n",
              "      <td>7717</td>\n",
              "      <td>1507</td>\n",
              "      <td>2019</td>\n",
              "      <td>65863</td>\n",
              "    </tr>\n",
              "    <tr>\n",
              "      <th>75</th>\n",
              "      <td>Pascal MARTIN</td>\n",
              "      <td>Lyon, France</td>\n",
              "      <td>10</td>\n",
              "      <td>338188</td>\n",
              "      <td>2927</td>\n",
              "      <td>69</td>\n",
              "      <td>2019</td>\n",
              "      <td>138475</td>\n",
              "    </tr>\n",
              "    <tr>\n",
              "      <th>76</th>\n",
              "      <td>Cascabel</td>\n",
              "      <td>USA</td>\n",
              "      <td>10</td>\n",
              "      <td>335267</td>\n",
              "      <td>1657</td>\n",
              "      <td>113</td>\n",
              "      <td>2019</td>\n",
              "      <td>119963</td>\n",
              "    </tr>\n",
              "    <tr>\n",
              "      <th>77</th>\n",
              "      <td>Quassnoi</td>\n",
              "      <td>Moscow, Russia</td>\n",
              "      <td>10</td>\n",
              "      <td>332767</td>\n",
              "      <td>2895</td>\n",
              "      <td>102</td>\n",
              "      <td>2019</td>\n",
              "      <td>55159</td>\n",
              "    </tr>\n",
              "    <tr>\n",
              "      <th>78</th>\n",
              "      <td>matt</td>\n",
              "      <td></td>\n",
              "      <td>9</td>\n",
              "      <td>329634</td>\n",
              "      <td>1897</td>\n",
              "      <td>16135</td>\n",
              "      <td>2019</td>\n",
              "      <td>341994</td>\n",
              "    </tr>\n",
              "    <tr>\n",
              "      <th>79</th>\n",
              "      <td>Günter Zöchbauer</td>\n",
              "      <td>Linz, Austria</td>\n",
              "      <td>10</td>\n",
              "      <td>327976</td>\n",
              "      <td>19496</td>\n",
              "      <td>520</td>\n",
              "      <td>2019</td>\n",
              "      <td>217408</td>\n",
              "    </tr>\n",
              "    <tr>\n",
              "      <th>80</th>\n",
              "      <td>alecxe</td>\n",
              "      <td>New York, United States</td>\n",
              "      <td>8</td>\n",
              "      <td>327823</td>\n",
              "      <td>31839</td>\n",
              "      <td>2890</td>\n",
              "      <td>2019</td>\n",
              "      <td>771848</td>\n",
              "    </tr>\n",
              "    <tr>\n",
              "      <th>81</th>\n",
              "      <td>aioobe</td>\n",
              "      <td>Stockholm, Sweden</td>\n",
              "      <td>9</td>\n",
              "      <td>327136</td>\n",
              "      <td>7060</td>\n",
              "      <td>533</td>\n",
              "      <td>2019</td>\n",
              "      <td>276052</td>\n",
              "    </tr>\n",
              "    <tr>\n",
              "      <th>82</th>\n",
              "      <td>Ladislav Mrnka</td>\n",
              "      <td>Welwyn Garden City, United Kingdom</td>\n",
              "      <td>9</td>\n",
              "      <td>326458</td>\n",
              "      <td>3666</td>\n",
              "      <td>76</td>\n",
              "      <td>2019</td>\n",
              "      <td>413501</td>\n",
              "    </tr>\n",
              "    <tr>\n",
              "      <th>83</th>\n",
              "      <td>Arun P Johny</td>\n",
              "      <td>Bangalore, India</td>\n",
              "      <td>10</td>\n",
              "      <td>324923</td>\n",
              "      <td>3365</td>\n",
              "      <td>152</td>\n",
              "      <td>2019</td>\n",
              "      <td>114251</td>\n",
              "    </tr>\n",
              "    <tr>\n",
              "      <th>84</th>\n",
              "      <td>unwind</td>\n",
              "      <td>Stockholm, Sweden</td>\n",
              "      <td>11</td>\n",
              "      <td>322087</td>\n",
              "      <td>4893</td>\n",
              "      <td>669</td>\n",
              "      <td>2019</td>\n",
              "      <td>28169</td>\n",
              "    </tr>\n",
              "    <tr>\n",
              "      <th>85</th>\n",
              "      <td>Wiktor Stribiżew</td>\n",
              "      <td>Warsaw, Poland</td>\n",
              "      <td>5</td>\n",
              "      <td>320105</td>\n",
              "      <td>13006</td>\n",
              "      <td>29017</td>\n",
              "      <td>2019</td>\n",
              "      <td>3832970</td>\n",
              "    </tr>\n",
              "    <tr>\n",
              "      <th>86</th>\n",
              "      <td>S.Lott</td>\n",
              "      <td>Norfolk, VA</td>\n",
              "      <td>11</td>\n",
              "      <td>318701</td>\n",
              "      <td>8715</td>\n",
              "      <td>1024</td>\n",
              "      <td>2019</td>\n",
              "      <td>10661</td>\n",
              "    </tr>\n",
              "    <tr>\n",
              "      <th>87</th>\n",
              "      <td>Pointy</td>\n",
              "      <td>Austin, TX</td>\n",
              "      <td>10</td>\n",
              "      <td>318278</td>\n",
              "      <td>14046</td>\n",
              "      <td>2610</td>\n",
              "      <td>2019</td>\n",
              "      <td>182668</td>\n",
              "    </tr>\n",
              "    <tr>\n",
              "      <th>88</th>\n",
              "      <td>Marc B</td>\n",
              "      <td>Canada</td>\n",
              "      <td>10</td>\n",
              "      <td>314215</td>\n",
              "      <td>2237</td>\n",
              "      <td>5298</td>\n",
              "      <td>2016</td>\n",
              "      <td>118068</td>\n",
              "    </tr>\n",
              "    <tr>\n",
              "      <th>89</th>\n",
              "      <td>Joel Coehoorn</td>\n",
              "      <td>York, NE</td>\n",
              "      <td>11</td>\n",
              "      <td>309791</td>\n",
              "      <td>11400</td>\n",
              "      <td>1364</td>\n",
              "      <td>2019</td>\n",
              "      <td>3043</td>\n",
              "    </tr>\n",
              "    <tr>\n",
              "      <th>90</th>\n",
              "      <td>Adam Rosenfield</td>\n",
              "      <td>United States</td>\n",
              "      <td>11</td>\n",
              "      <td>308339</td>\n",
              "      <td>9534</td>\n",
              "      <td>613</td>\n",
              "      <td>2019</td>\n",
              "      <td>9530</td>\n",
              "    </tr>\n",
              "    <tr>\n",
              "      <th>91</th>\n",
              "      <td>Rob</td>\n",
              "      <td>Los Angeles, CA, USA</td>\n",
              "      <td>7</td>\n",
              "      <td>302390</td>\n",
              "      <td>6561</td>\n",
              "      <td>844</td>\n",
              "      <td>2019</td>\n",
              "      <td>1271826</td>\n",
              "    </tr>\n",
              "    <tr>\n",
              "      <th>92</th>\n",
              "      <td>Sarfraz</td>\n",
              "      <td>Karachi, Pakistan</td>\n",
              "      <td>10</td>\n",
              "      <td>301856</td>\n",
              "      <td>8739</td>\n",
              "      <td>566</td>\n",
              "      <td>2019</td>\n",
              "      <td>139459</td>\n",
              "    </tr>\n",
              "    <tr>\n",
              "      <th>93</th>\n",
              "      <td>Some programmer dude</td>\n",
              "      <td>Malmö, Sweden</td>\n",
              "      <td>9</td>\n",
              "      <td>301477</td>\n",
              "      <td>6562</td>\n",
              "      <td>2709</td>\n",
              "      <td>2019</td>\n",
              "      <td>440558</td>\n",
              "    </tr>\n",
              "    <tr>\n",
              "      <th>94</th>\n",
              "      <td>GManNickG</td>\n",
              "      <td>Kirkland, WA</td>\n",
              "      <td>10</td>\n",
              "      <td>301098</td>\n",
              "      <td>12374</td>\n",
              "      <td>904</td>\n",
              "      <td>2019</td>\n",
              "      <td>87234</td>\n",
              "    </tr>\n",
              "    <tr>\n",
              "      <th>95</th>\n",
              "      <td>a_horse_with_no_name</td>\n",
              "      <td>Munich, Bavaria</td>\n",
              "      <td>9</td>\n",
              "      <td>300999</td>\n",
              "      <td>6540</td>\n",
              "      <td>4324</td>\n",
              "      <td>2019</td>\n",
              "      <td>330315</td>\n",
              "    </tr>\n",
              "    <tr>\n",
              "      <th>96</th>\n",
              "      <td>MadProgrammer</td>\n",
              "      <td>Melbourne, Australia</td>\n",
              "      <td>8</td>\n",
              "      <td>300909</td>\n",
              "      <td>10979</td>\n",
              "      <td>1441</td>\n",
              "      <td>2019</td>\n",
              "      <td>992484</td>\n",
              "    </tr>\n",
              "    <tr>\n",
              "      <th>97</th>\n",
              "      <td>Bohemian</td>\n",
              "      <td>Melbourne, Australia</td>\n",
              "      <td>9</td>\n",
              "      <td>297863</td>\n",
              "      <td>8369</td>\n",
              "      <td>2446</td>\n",
              "      <td>2019</td>\n",
              "      <td>256196</td>\n",
              "    </tr>\n",
              "    <tr>\n",
              "      <th>98</th>\n",
              "      <td>karim79</td>\n",
              "      <td>Berlin, Germany</td>\n",
              "      <td>10</td>\n",
              "      <td>297108</td>\n",
              "      <td>5912</td>\n",
              "      <td>329</td>\n",
              "      <td>2019</td>\n",
              "      <td>70393</td>\n",
              "    </tr>\n",
              "    <tr>\n",
              "      <th>99</th>\n",
              "      <td>sepp2k</td>\n",
              "      <td>Lübeck, Germany</td>\n",
              "      <td>10</td>\n",
              "      <td>296972</td>\n",
              "      <td>9959</td>\n",
              "      <td>752</td>\n",
              "      <td>2019</td>\n",
              "      <td>149392</td>\n",
              "    </tr>\n",
              "  </tbody>\n",
              "</table>\n",
              "<p>100 rows × 8 columns</p>\n",
              "</div>"
            ],
            "text/plain": [
              "              display_name  ...       id\n",
              "0                Jon Skeet  ...    22656\n",
              "1                   BalusC  ...   157882\n",
              "2           Darin Dimitrov  ...    29407\n",
              "3                     VonC  ...     6309\n",
              "4             Hans Passant  ...    17034\n",
              "5             Marc Gravell  ...    23354\n",
              "6            Gordon Linoff  ...  1144035\n",
              "7              CommonsWare  ...   115145\n",
              "8          Martijn Pieters  ...   100297\n",
              "9             T.J. Crowder  ...   157247\n",
              "10                   SLaks  ...    34397\n",
              "11            Greg Hewgill  ...      893\n",
              "12                 Quentin  ...    19068\n",
              "13               paxdiablo  ...    14860\n",
              "14           Alex Martelli  ...    95810\n",
              "15         dasblinkenlight  ...   335858\n",
              "16                     CMS  ...     5445\n",
              "17              Mark Byers  ...    61974\n",
              "18  Ignacio Vazquez-Abrams  ...    20862\n",
              "19                  marc_s  ...    13302\n",
              "20                JaredPar  ...    23283\n",
              "21        Jonathan Leffler  ...    15168\n",
              "22                   Guffa  ...    69083\n",
              "23             Felix Kling  ...   218196\n",
              "24                  unutbu  ...   190597\n",
              "25            Eric Lippert  ...    88656\n",
              "26                JB Nizet  ...   571407\n",
              "27             Nick Craver  ...    13249\n",
              "28                anubhava  ...   548225\n",
              "29               BoltClock  ...   106224\n",
              "..                     ...  ...      ...\n",
              "70                     gbn  ...    27535\n",
              "71                    alex  ...    31671\n",
              "72                skaffman  ...    21234\n",
              "73                 jezrael  ...  2901002\n",
              "74             Remy Lebeau  ...    65863\n",
              "75           Pascal MARTIN  ...   138475\n",
              "76                Cascabel  ...   119963\n",
              "77                Quassnoi  ...    55159\n",
              "78                    matt  ...   341994\n",
              "79        Günter Zöchbauer  ...   217408\n",
              "80                  alecxe  ...   771848\n",
              "81                  aioobe  ...   276052\n",
              "82          Ladislav Mrnka  ...   413501\n",
              "83            Arun P Johny  ...   114251\n",
              "84                  unwind  ...    28169\n",
              "85        Wiktor Stribiżew  ...  3832970\n",
              "86                  S.Lott  ...    10661\n",
              "87                  Pointy  ...   182668\n",
              "88                  Marc B  ...   118068\n",
              "89           Joel Coehoorn  ...     3043\n",
              "90         Adam Rosenfield  ...     9530\n",
              "91                     Rob  ...  1271826\n",
              "92                 Sarfraz  ...   139459\n",
              "93    Some programmer dude  ...   440558\n",
              "94               GManNickG  ...    87234\n",
              "95    a_horse_with_no_name  ...   330315\n",
              "96           MadProgrammer  ...   992484\n",
              "97                Bohemian  ...   256196\n",
              "98                 karim79  ...    70393\n",
              "99                  sepp2k  ...   149392\n",
              "\n",
              "[100 rows x 8 columns]"
            ]
          },
          "metadata": {
            "tags": []
          },
          "execution_count": 79
        }
      ]
    },
    {
      "cell_type": "markdown",
      "metadata": {
        "id": "72Cxg7YTFn0m",
        "colab_type": "text"
      },
      "source": [
        "## *Analiza pochodzenia użytkowników StackOverflow wg deklarowanych lokalizacji*"
      ]
    },
    {
      "cell_type": "code",
      "metadata": {
        "id": "f-2hbD78aLge",
        "colab_type": "code",
        "colab": {}
      },
      "source": [
        "query9 = \"\"\"SELECT location,\n",
        "  COUNT(*) AS Users_location\n",
        "FROM\n",
        "  `bigquery-public-data.stackoverflow.users`\n",
        "GROUP BY\n",
        "  location\n",
        "ORDER BY\n",
        "  Users_location DESC, location DESC\n",
        "LIMIT 100\"\"\""
      ],
      "execution_count": 0,
      "outputs": []
    },
    {
      "cell_type": "code",
      "metadata": {
        "id": "QqSbgJR5pM50",
        "colab_type": "code",
        "outputId": "edf38326-e1d9-47c3-de95-8a8b1afbae6b",
        "colab": {
          "base_uri": "https://localhost:8080/",
          "height": 1717
        }
      },
      "source": [
        "#trzeba wyczyścić dane, gdyż użytkownicy te same miejsca oznaczają w różny sposób\n",
        "df9 = pd.read_gbq(query = query9, project_id = 'it-job-market-project-cc', dialect = 'standard')\n",
        "list(df9['location'].unique())"
      ],
      "execution_count": 0,
      "outputs": [
        {
          "output_type": "execute_result",
          "data": {
            "text/plain": [
              "['',\n",
              " 'India',\n",
              " 'Bangalore, Karnataka, India',\n",
              " 'Germany',\n",
              " 'Hyderabad, Telangana, India',\n",
              " 'Pune, Maharashtra, India',\n",
              " 'Chennai, Tamil Nadu, India',\n",
              " 'China',\n",
              " 'London, United Kingdom',\n",
              " 'United States',\n",
              " 'France',\n",
              " 'Mumbai, Maharashtra, India',\n",
              " 'Paris, France',\n",
              " 'USA',\n",
              " 'Bengaluru, Karnataka, India',\n",
              " 'Philippines',\n",
              " 'United Kingdom',\n",
              " 'Indonesia',\n",
              " 'Canada',\n",
              " 'Singapore',\n",
              " 'Delhi, India',\n",
              " 'Netherlands',\n",
              " 'Israel',\n",
              " 'Russia',\n",
              " 'Pakistan',\n",
              " 'Bangalore, India',\n",
              " 'Egypt',\n",
              " 'Brazil',\n",
              " 'Ahmedabad, Gujarat, India',\n",
              " 'Poland',\n",
              " 'Toronto, ON, Canada',\n",
              " 'Iran',\n",
              " 'New Delhi, Delhi, India',\n",
              " 'UK',\n",
              " 'New York, NY, United States',\n",
              " 'Australia',\n",
              " 'Moscow, Russia',\n",
              " 'Dhaka, Bangladesh',\n",
              " 'London, UK',\n",
              " 'Ukraine',\n",
              " 'Noida, Uttar Pradesh, India',\n",
              " 'Italy',\n",
              " 'Berlin, Germany',\n",
              " 'Sweden',\n",
              " 'Vietnam',\n",
              " 'Malaysia',\n",
              " 'Spain',\n",
              " 'Belgium',\n",
              " 'Kolkata, West Bengal, India',\n",
              " 'Beijing, China',\n",
              " 'Chennai, India',\n",
              " 'Bangladesh',\n",
              " 'Bangalore',\n",
              " 'San Francisco, CA',\n",
              " 'San Francisco, CA, United States',\n",
              " 'Switzerland',\n",
              " 'Turkey',\n",
              " 'New York, NY, USA',\n",
              " '中国北京市Beijing Shi',\n",
              " 'Pune, India',\n",
              " 'İstanbul, Türkiye',\n",
              " 'London',\n",
              " 'Sri Lanka',\n",
              " 'Hong Kong',\n",
              " 'Denmark',\n",
              " 'Brasil',\n",
              " 'Shanghai, China',\n",
              " 'South Africa',\n",
              " 'Lahore, Pakistan',\n",
              " 'Portugal',\n",
              " 'Hyderabad, India',\n",
              " 'Gurgaon, Haryana, India',\n",
              " 'Việt Nam',\n",
              " 'Chandigarh, India',\n",
              " 'Lagos, Nigeria',\n",
              " 'Taiwan',\n",
              " 'Japan',\n",
              " 'china',\n",
              " 'Dublin, Ireland',\n",
              " 'New York, United States',\n",
              " 'Türkiye',\n",
              " 'Seattle, WA, United States',\n",
              " 'Seattle, WA',\n",
              " 'Dhaka, Dhaka Division, Bangladesh',\n",
              " 'Chicago, IL, United States',\n",
              " 'Stockholm, Sweden',\n",
              " 'Argentina',\n",
              " 'California',\n",
              " 'Jaipur, Rajasthan, India',\n",
              " 'Los Angeles, CA, United States',\n",
              " 'Mumbai, India',\n",
              " 'Amsterdam, Netherlands',\n",
              " 'Bucharest, Romania',\n",
              " 'Montreal, QC, Canada',\n",
              " 'Jakarta, Indonesia',\n",
              " 'Istanbul, Turkey',\n",
              " 'Ireland',\n",
              " 'Vancouver, BC, Canada',\n",
              " 'Nigeria',\n",
              " 'Morocco']"
            ]
          },
          "metadata": {
            "tags": []
          },
          "execution_count": 40
        }
      ]
    },
    {
      "cell_type": "code",
      "metadata": {
        "id": "_HW1DbvapLPL",
        "colab_type": "code",
        "outputId": "7c3d4985-b1b1-473c-b230-c926cc53c183",
        "colab": {
          "base_uri": "https://localhost:8080/",
          "height": 510
        }
      },
      "source": [
        "df9.loc[df9['location'].str.contains('India|Bangalore|Pune|Chennai|Delhi', case = False), 'location'] = 'India'\n",
        "df9.loc[df9['location'].str.contains('United States|USA|California|CA|WA|MA|TX|NY|GA|Texas|OR|New York|CO|TX|PA|MN|San Francisco|MI|FL|Boise', case = False), 'location'] = 'United States'\n",
        "df9.loc[df9['location'].str.contains('United Kingdom|UK|England|Durham|London', case = False), 'location'] = 'United Kingdom'\n",
        "df9.loc[df9['location'].str.contains('France|Paris', case = False), 'location'] = 'France'\n",
        "df9.loc[df9['location'].str.contains('Canada', case = False), 'location'] = 'Canada'\n",
        "df9.loc[df9['location'].str.contains('China|Shi|Hong Kong|Taiwan|Beijing|Shanghai', case = False), 'location'] = 'China'\n",
        "df9.loc[df9['location'].str.contains('Germany|Deutschland|berlin', case = False), 'location'] = 'Germany'\n",
        "df9.loc[df9['location'].str.contains('Russia|Moscow|Moskva', case = False), 'location'] = 'Russia'\n",
        "df9.loc[df9['location'].str.contains('Bangladesh', case = False), 'location'] = 'Bangladesh'\n",
        "df9.loc[df9['location'].str.contains('Türkiye|Turkey', case = False), 'location'] = 'Turkey'\n",
        "df9.loc[df9['location'].str.contains('Pakistan', case = False), 'location'] = 'Pakistan'\n",
        "df9.loc[df9['location'].str.contains('Sweden|Sverige', case = False), 'location'] = 'Sweden'\n",
        "df9.loc[df9['location'].str.contains('Netherlands', case = False), 'location'] = 'Netherlands'\n",
        "df9.loc[df9['location'].str.contains('Romania', case = False), 'location'] = 'Romania'\n",
        "df9.loc[df9['location'].str.contains('Indonesia', case = False), 'location'] = 'Indonesia'\n",
        "df9.loc[df9['location'].str.contains('Nigeria', case = False), 'location'] = 'Nigeria'\n",
        "df9.loc[df9['location'].str.contains('Ireland', case = False), 'location'] = 'Ireland'\n",
        "df9.loc[df9['location'].str.contains('Poland|Polska', case = False), 'location'] = 'Poland'\n",
        "df9.loc[df9['location'].str.contains('Japan', case = False), 'location'] = 'Japan'\n",
        "df9.loc[df9['location'].str.contains('Australia', case = False), 'location'] = 'Australia'\n",
        "df9.loc[df9['location'].str.contains('South Korea|Seoul', case = False), 'location'] = 'South Korea'\n",
        "df9.loc[df9['location'].str.contains('Spain|España', case = False), 'location'] = 'Spain'\n",
        "df9.loc[df9['location'].str.contains('Belarus', case = False), 'location'] = 'Belarus'\n",
        "df9.loc[df9['location'].str.contains('New Zealand', case = False), 'location'] = 'New Zealand'\n",
        "df9.loc[df9['location'].str.contains('Brasil|Rio de Janeiro', case = False), 'location'] = 'Brasil'\n",
        "list(df9['location'].unique())"
      ],
      "execution_count": 0,
      "outputs": [
        {
          "output_type": "execute_result",
          "data": {
            "text/plain": [
              "['',\n",
              " 'India',\n",
              " 'United States',\n",
              " 'China',\n",
              " 'United Kingdom',\n",
              " 'France',\n",
              " 'Philippines',\n",
              " 'Indonesia',\n",
              " 'Netherlands',\n",
              " 'Israel',\n",
              " 'Russia',\n",
              " 'Egypt',\n",
              " 'Brazil',\n",
              " 'Poland',\n",
              " 'Iran',\n",
              " 'Australia',\n",
              " 'Bangladesh',\n",
              " 'Italy',\n",
              " 'Sweden',\n",
              " 'Vietnam',\n",
              " 'Belgium',\n",
              " 'Switzerland',\n",
              " 'Turkey',\n",
              " 'Sri Lanka',\n",
              " 'Brasil',\n",
              " 'Việt Nam',\n",
              " 'Nigeria',\n",
              " 'Ireland',\n",
              " 'Argentina']"
            ]
          },
          "metadata": {
            "tags": []
          },
          "execution_count": 41
        }
      ]
    },
    {
      "cell_type": "code",
      "metadata": {
        "id": "Wz6FDPiBCN52",
        "colab_type": "code",
        "outputId": "49658b3e-1ac0-4dd6-f725-87b6a632a560",
        "colab": {
          "base_uri": "https://localhost:8080/",
          "height": 948
        }
      },
      "source": [
        "df9Country = df9.groupby('location')['Users_location'].sum()\n",
        "df9Country = pd.DataFrame(df9Country.sort_values(ascending = False)).reset_index()\n",
        "df9Country.loc[0, 'location'] = 'No declaration'\n",
        "df9Country"
      ],
      "execution_count": 0,
      "outputs": [
        {
          "output_type": "execute_result",
          "data": {
            "text/html": [
              "<div>\n",
              "<style scoped>\n",
              "    .dataframe tbody tr th:only-of-type {\n",
              "        vertical-align: middle;\n",
              "    }\n",
              "\n",
              "    .dataframe tbody tr th {\n",
              "        vertical-align: top;\n",
              "    }\n",
              "\n",
              "    .dataframe thead th {\n",
              "        text-align: right;\n",
              "    }\n",
              "</style>\n",
              "<table border=\"1\" class=\"dataframe\">\n",
              "  <thead>\n",
              "    <tr style=\"text-align: right;\">\n",
              "      <th></th>\n",
              "      <th>location</th>\n",
              "      <th>Users_location</th>\n",
              "    </tr>\n",
              "  </thead>\n",
              "  <tbody>\n",
              "    <tr>\n",
              "      <th>0</th>\n",
              "      <td>No declaration</td>\n",
              "      <td>7600342</td>\n",
              "    </tr>\n",
              "    <tr>\n",
              "      <th>1</th>\n",
              "      <td>India</td>\n",
              "      <td>289943</td>\n",
              "    </tr>\n",
              "    <tr>\n",
              "      <th>2</th>\n",
              "      <td>United States</td>\n",
              "      <td>241878</td>\n",
              "    </tr>\n",
              "    <tr>\n",
              "      <th>3</th>\n",
              "      <td>United Kingdom</td>\n",
              "      <td>62911</td>\n",
              "    </tr>\n",
              "    <tr>\n",
              "      <th>4</th>\n",
              "      <td>China</td>\n",
              "      <td>45765</td>\n",
              "    </tr>\n",
              "    <tr>\n",
              "      <th>5</th>\n",
              "      <td>Bangladesh</td>\n",
              "      <td>18747</td>\n",
              "    </tr>\n",
              "    <tr>\n",
              "      <th>6</th>\n",
              "      <td>Turkey</td>\n",
              "      <td>18690</td>\n",
              "    </tr>\n",
              "    <tr>\n",
              "      <th>7</th>\n",
              "      <td>France</td>\n",
              "      <td>16674</td>\n",
              "    </tr>\n",
              "    <tr>\n",
              "      <th>8</th>\n",
              "      <td>Indonesia</td>\n",
              "      <td>16045</td>\n",
              "    </tr>\n",
              "    <tr>\n",
              "      <th>9</th>\n",
              "      <td>Netherlands</td>\n",
              "      <td>15411</td>\n",
              "    </tr>\n",
              "    <tr>\n",
              "      <th>10</th>\n",
              "      <td>Philippines</td>\n",
              "      <td>13430</td>\n",
              "    </tr>\n",
              "    <tr>\n",
              "      <th>11</th>\n",
              "      <td>Sweden</td>\n",
              "      <td>11506</td>\n",
              "    </tr>\n",
              "    <tr>\n",
              "      <th>12</th>\n",
              "      <td>Israel</td>\n",
              "      <td>11326</td>\n",
              "    </tr>\n",
              "    <tr>\n",
              "      <th>13</th>\n",
              "      <td>Russia</td>\n",
              "      <td>10845</td>\n",
              "    </tr>\n",
              "    <tr>\n",
              "      <th>14</th>\n",
              "      <td>Egypt</td>\n",
              "      <td>10139</td>\n",
              "    </tr>\n",
              "    <tr>\n",
              "      <th>15</th>\n",
              "      <td>Brazil</td>\n",
              "      <td>10115</td>\n",
              "    </tr>\n",
              "    <tr>\n",
              "      <th>16</th>\n",
              "      <td>Poland</td>\n",
              "      <td>9420</td>\n",
              "    </tr>\n",
              "    <tr>\n",
              "      <th>17</th>\n",
              "      <td>Iran</td>\n",
              "      <td>9159</td>\n",
              "    </tr>\n",
              "    <tr>\n",
              "      <th>18</th>\n",
              "      <td>Australia</td>\n",
              "      <td>8726</td>\n",
              "    </tr>\n",
              "    <tr>\n",
              "      <th>19</th>\n",
              "      <td>Nigeria</td>\n",
              "      <td>8376</td>\n",
              "    </tr>\n",
              "    <tr>\n",
              "      <th>20</th>\n",
              "      <td>Ireland</td>\n",
              "      <td>8301</td>\n",
              "    </tr>\n",
              "    <tr>\n",
              "      <th>21</th>\n",
              "      <td>Italy</td>\n",
              "      <td>7585</td>\n",
              "    </tr>\n",
              "    <tr>\n",
              "      <th>22</th>\n",
              "      <td>Vietnam</td>\n",
              "      <td>7100</td>\n",
              "    </tr>\n",
              "    <tr>\n",
              "      <th>23</th>\n",
              "      <td>Belgium</td>\n",
              "      <td>6432</td>\n",
              "    </tr>\n",
              "    <tr>\n",
              "      <th>24</th>\n",
              "      <td>Switzerland</td>\n",
              "      <td>5424</td>\n",
              "    </tr>\n",
              "    <tr>\n",
              "      <th>25</th>\n",
              "      <td>Sri Lanka</td>\n",
              "      <td>4996</td>\n",
              "    </tr>\n",
              "    <tr>\n",
              "      <th>26</th>\n",
              "      <td>Brasil</td>\n",
              "      <td>4911</td>\n",
              "    </tr>\n",
              "    <tr>\n",
              "      <th>27</th>\n",
              "      <td>Việt Nam</td>\n",
              "      <td>4707</td>\n",
              "    </tr>\n",
              "    <tr>\n",
              "      <th>28</th>\n",
              "      <td>Argentina</td>\n",
              "      <td>4251</td>\n",
              "    </tr>\n",
              "  </tbody>\n",
              "</table>\n",
              "</div>"
            ],
            "text/plain": [
              "          location  Users_location\n",
              "0   No declaration         7600342\n",
              "1            India          289943\n",
              "2    United States          241878\n",
              "3   United Kingdom           62911\n",
              "4            China           45765\n",
              "5       Bangladesh           18747\n",
              "6           Turkey           18690\n",
              "7           France           16674\n",
              "8        Indonesia           16045\n",
              "9      Netherlands           15411\n",
              "10     Philippines           13430\n",
              "11          Sweden           11506\n",
              "12          Israel           11326\n",
              "13          Russia           10845\n",
              "14           Egypt           10139\n",
              "15          Brazil           10115\n",
              "16          Poland            9420\n",
              "17            Iran            9159\n",
              "18       Australia            8726\n",
              "19         Nigeria            8376\n",
              "20         Ireland            8301\n",
              "21           Italy            7585\n",
              "22         Vietnam            7100\n",
              "23         Belgium            6432\n",
              "24     Switzerland            5424\n",
              "25       Sri Lanka            4996\n",
              "26          Brasil            4911\n",
              "27        Việt Nam            4707\n",
              "28       Argentina            4251"
            ]
          },
          "metadata": {
            "tags": []
          },
          "execution_count": 42
        }
      ]
    },
    {
      "cell_type": "code",
      "metadata": {
        "id": "Qn-N-BFgR1Ma",
        "colab_type": "code",
        "outputId": "372bed9f-95cb-475a-fe28-5a4cfe2056ea",
        "colab": {
          "base_uri": "https://localhost:8080/",
          "height": 415
        }
      },
      "source": [
        "explode = (0.2,0,0,0,0,0,0,0,0,0)\n",
        "df9Country.set_index('location')[0:10].plot(kind = 'pie', title = 'Lokalizacja użytkowników wg deklaracji z uwzgl. braku deklarowanej lokalizacji', subplots=True, radius=2, explode = explode)\n",
        "plt.legend(loc = 'lower left', fontsize = 12, bbox_to_anchor=(1.6, 0))\n",
        "plt.figure(figsize=(2, 2))"
      ],
      "execution_count": 0,
      "outputs": [
        {
          "output_type": "execute_result",
          "data": {
            "text/plain": [
              "<Figure size 144x144 with 0 Axes>"
            ]
          },
          "metadata": {
            "tags": []
          },
          "execution_count": 43
        },
        {
          "output_type": "display_data",
          "data": {
            "image/png": "[encoded data removed]",
            "text/plain": [
              "<Figure size 432x288 with 1 Axes>"
            ]
          },
          "metadata": {
            "tags": []
          }
        },
        {
          "output_type": "display_data",
          "data": {
            "text/plain": [
              "<Figure size 144x144 with 0 Axes>"
            ]
          },
          "metadata": {
            "tags": []
          }
        }
      ]
    },
    {
      "cell_type": "code",
      "metadata": {
        "id": "QbPoHOhNEhsf",
        "colab_type": "code",
        "outputId": "72ac93d8-945b-4025-e301-3737f5ecf21c",
        "colab": {
          "base_uri": "https://localhost:8080/",
          "height": 462
        }
      },
      "source": [
        "explode = (0.2,0,0,0,0,0,0,0,0)\n",
        "df9Country.set_index('location')[1:10].plot(kind = 'pie', title = 'Deklarowana lokalizacja użytkowników -bez uwzględnienia braku wskazań', subplots=True, radius=2, explode = explode)\n",
        "plt.legend(loc = 'lower left', fontsize = 12, bbox_to_anchor=(1.6, 0))\n",
        "plt.figure(figsize=(2, 2))"
      ],
      "execution_count": 0,
      "outputs": [
        {
          "output_type": "execute_result",
          "data": {
            "text/plain": [
              "<Figure size 144x144 with 0 Axes>"
            ]
          },
          "metadata": {
            "tags": []
          },
          "execution_count": 44
        },
        {
          "output_type": "display_data",
          "data": {
            "image/png": "[encoded data removed]",
            "text/plain": [
              "<Figure size 432x288 with 1 Axes>"
            ]
          },
          "metadata": {
            "tags": []
          }
        },
        {
          "output_type": "display_data",
          "data": {
            "text/plain": [
              "<Figure size 144x144 with 0 Axes>"
            ]
          },
          "metadata": {
            "tags": []
          }
        }
      ]
    },
    {
      "cell_type": "markdown",
      "metadata": {
        "id": "DAIJZEO9aEYE",
        "colab_type": "text"
      },
      "source": [
        "*Z danych wynika, że większość użytkowników (prawie 80 % zarejestrowanych użytkowników StackOverflow) nie deklaruje kraju, z którego pochodzi. Spośród użytkowników wskazujących swój kraj pochodzenia, najwięcej osób pochodzi z Indii, kolejne są Stany Zjednoczone oraz Wielka Brytania. Brak danych na temat lokalizacji dla tak dużej ilości użytkowników świadczy o tym, że w obecnym świecie, użytkownicy po pierwsze nie uznają za istotne podawać lokalizację przy rejestrowaniu się do tego typu portalu. Ważna jest też dla nich ochrona swojej prywatnosci. Brak danych na temat lokalizacji dla tak znaczącej ilości użytkowników prowadzi do zafałszowania wniosków wynikających z analiz przeprowadzanych przy wzięciu pod uwagę tego kryterium. Dlatego wszystkie analizy przeprowadzane powyżej dla użytkowników pochodzących z Polski nie mogą być miarodajne.* \n"
      ]
    },
    {
      "cell_type": "markdown",
      "metadata": {
        "id": "CeFIhkHvcNyS",
        "colab_type": "text"
      },
      "source": [
        "## *Od czego zależy reputacja na StackOverflow - analiza korelacji dla doświadczenia użytkowników oraz daty ostatniego logowania*"
      ]
    },
    {
      "cell_type": "code",
      "metadata": {
        "id": "KLFRuZmqbTkp",
        "colab_type": "code",
        "outputId": "b69c2718-daba-4b87-81fe-10dacceb0124",
        "colab": {
          "base_uri": "https://localhost:8080/",
          "height": 111
        }
      },
      "source": [
        "df11[['user_exper', 'reputation']].corr()"
      ],
      "execution_count": 0,
      "outputs": [
        {
          "output_type": "execute_result",
          "data": {
            "text/html": [
              "<div>\n",
              "<style scoped>\n",
              "    .dataframe tbody tr th:only-of-type {\n",
              "        vertical-align: middle;\n",
              "    }\n",
              "\n",
              "    .dataframe tbody tr th {\n",
              "        vertical-align: top;\n",
              "    }\n",
              "\n",
              "    .dataframe thead th {\n",
              "        text-align: right;\n",
              "    }\n",
              "</style>\n",
              "<table border=\"1\" class=\"dataframe\">\n",
              "  <thead>\n",
              "    <tr style=\"text-align: right;\">\n",
              "      <th></th>\n",
              "      <th>user_exper</th>\n",
              "      <th>reputation</th>\n",
              "    </tr>\n",
              "  </thead>\n",
              "  <tbody>\n",
              "    <tr>\n",
              "      <th>user_exper</th>\n",
              "      <td>1.000000</td>\n",
              "      <td>0.245727</td>\n",
              "    </tr>\n",
              "    <tr>\n",
              "      <th>reputation</th>\n",
              "      <td>0.245727</td>\n",
              "      <td>1.000000</td>\n",
              "    </tr>\n",
              "  </tbody>\n",
              "</table>\n",
              "</div>"
            ],
            "text/plain": [
              "            user_exper  reputation\n",
              "user_exper    1.000000    0.245727\n",
              "reputation    0.245727    1.000000"
            ]
          },
          "metadata": {
            "tags": []
          },
          "execution_count": 82
        }
      ]
    },
    {
      "cell_type": "code",
      "metadata": {
        "id": "vA1oh6zGba9_",
        "colab_type": "code",
        "outputId": "17b8bc6a-531b-468d-937c-f26e2735b184",
        "colab": {
          "base_uri": "https://localhost:8080/",
          "height": 111
        }
      },
      "source": [
        "df11[['Last_Access_Year', 'reputation']].corr()"
      ],
      "execution_count": 0,
      "outputs": [
        {
          "output_type": "execute_result",
          "data": {
            "text/html": [
              "<div>\n",
              "<style scoped>\n",
              "    .dataframe tbody tr th:only-of-type {\n",
              "        vertical-align: middle;\n",
              "    }\n",
              "\n",
              "    .dataframe tbody tr th {\n",
              "        vertical-align: top;\n",
              "    }\n",
              "\n",
              "    .dataframe thead th {\n",
              "        text-align: right;\n",
              "    }\n",
              "</style>\n",
              "<table border=\"1\" class=\"dataframe\">\n",
              "  <thead>\n",
              "    <tr style=\"text-align: right;\">\n",
              "      <th></th>\n",
              "      <th>Last_Access_Year</th>\n",
              "      <th>reputation</th>\n",
              "    </tr>\n",
              "  </thead>\n",
              "  <tbody>\n",
              "    <tr>\n",
              "      <th>Last_Access_Year</th>\n",
              "      <td>1.000000</td>\n",
              "      <td>0.104541</td>\n",
              "    </tr>\n",
              "    <tr>\n",
              "      <th>reputation</th>\n",
              "      <td>0.104541</td>\n",
              "      <td>1.000000</td>\n",
              "    </tr>\n",
              "  </tbody>\n",
              "</table>\n",
              "</div>"
            ],
            "text/plain": [
              "                  Last_Access_Year  reputation\n",
              "Last_Access_Year          1.000000    0.104541\n",
              "reputation                0.104541    1.000000"
            ]
          },
          "metadata": {
            "tags": []
          },
          "execution_count": 83
        }
      ]
    },
    {
      "cell_type": "markdown",
      "metadata": {
        "id": "dFAtp18ZeSCE",
        "colab_type": "text"
      },
      "source": [
        "*Analiza korelacji pomiędzy reputacją wszystkich użytkowników StackOverflow, a ich doświadczeniem na portalu oraz datą ostatniego logowania prowadzi do innych wyników niż te, które otrzymano dla użytkowników z Polski. W pierwszej analizie, siła korelacji dla użytkowników z Polski to -0,2462. W obu przypadkach korelacja nie jest znacząca, ale jej kierunek jest zupełnie inny. Dla drugiej analizy (reputacja a data ostatniego logowania na serwisie), w przypadku brania pod uwagę jedynie użytkowników z Polski, korelacja jest silniejsza i również ma inny kierunek (-0,40). Z danych dla wszystkich użytkowników wynika, że korelacja pomiędzy datą ostatniego logowania na serwisie a reputacją użytkowników nie jest znacząca.*"
      ]
    },
    {
      "cell_type": "markdown",
      "metadata": {
        "id": "srn-ss_KfIS_",
        "colab_type": "text"
      },
      "source": [
        "## *Dane użytkowników o największej reputacji*"
      ]
    },
    {
      "cell_type": "code",
      "metadata": {
        "id": "5OJ5bMzZei6Q",
        "colab_type": "code",
        "outputId": "0ab9da6c-9a5e-4603-bec7-6687089b0fa3",
        "colab": {
          "base_uri": "https://localhost:8080/",
          "height": 700
        }
      },
      "source": [
        "dfAll_users = df11.set_index('display_name')[['user_exper', 'reputation', 'Last_Access_Year']]\n",
        "dfAll_users.sort_values(by= 'reputation',  ascending = False)[0:20]"
      ],
      "execution_count": 0,
      "outputs": [
        {
          "output_type": "execute_result",
          "data": {
            "text/html": [
              "<div>\n",
              "<style scoped>\n",
              "    .dataframe tbody tr th:only-of-type {\n",
              "        vertical-align: middle;\n",
              "    }\n",
              "\n",
              "    .dataframe tbody tr th {\n",
              "        vertical-align: top;\n",
              "    }\n",
              "\n",
              "    .dataframe thead th {\n",
              "        text-align: right;\n",
              "    }\n",
              "</style>\n",
              "<table border=\"1\" class=\"dataframe\">\n",
              "  <thead>\n",
              "    <tr style=\"text-align: right;\">\n",
              "      <th></th>\n",
              "      <th>user_exper</th>\n",
              "      <th>reputation</th>\n",
              "      <th>Last_Access_Year</th>\n",
              "    </tr>\n",
              "    <tr>\n",
              "      <th>display_name</th>\n",
              "      <th></th>\n",
              "      <th></th>\n",
              "      <th></th>\n",
              "    </tr>\n",
              "  </thead>\n",
              "  <tbody>\n",
              "    <tr>\n",
              "      <th>Jon Skeet</th>\n",
              "      <td>11</td>\n",
              "      <td>1089674</td>\n",
              "      <td>2019</td>\n",
              "    </tr>\n",
              "    <tr>\n",
              "      <th>BalusC</th>\n",
              "      <td>10</td>\n",
              "      <td>852319</td>\n",
              "      <td>2019</td>\n",
              "    </tr>\n",
              "    <tr>\n",
              "      <th>Darin Dimitrov</th>\n",
              "      <td>11</td>\n",
              "      <td>845003</td>\n",
              "      <td>2019</td>\n",
              "    </tr>\n",
              "    <tr>\n",
              "      <th>VonC</th>\n",
              "      <td>11</td>\n",
              "      <td>844623</td>\n",
              "      <td>2019</td>\n",
              "    </tr>\n",
              "    <tr>\n",
              "      <th>Hans Passant</th>\n",
              "      <td>11</td>\n",
              "      <td>791930</td>\n",
              "      <td>2019</td>\n",
              "    </tr>\n",
              "    <tr>\n",
              "      <th>Marc Gravell</th>\n",
              "      <td>11</td>\n",
              "      <td>787580</td>\n",
              "      <td>2019</td>\n",
              "    </tr>\n",
              "    <tr>\n",
              "      <th>Gordon Linoff</th>\n",
              "      <td>7</td>\n",
              "      <td>781146</td>\n",
              "      <td>2019</td>\n",
              "    </tr>\n",
              "    <tr>\n",
              "      <th>CommonsWare</th>\n",
              "      <td>10</td>\n",
              "      <td>775043</td>\n",
              "      <td>2019</td>\n",
              "    </tr>\n",
              "    <tr>\n",
              "      <th>Martijn Pieters</th>\n",
              "      <td>10</td>\n",
              "      <td>715515</td>\n",
              "      <td>2019</td>\n",
              "    </tr>\n",
              "    <tr>\n",
              "      <th>T.J. Crowder</th>\n",
              "      <td>10</td>\n",
              "      <td>690167</td>\n",
              "      <td>2019</td>\n",
              "    </tr>\n",
              "    <tr>\n",
              "      <th>SLaks</th>\n",
              "      <td>11</td>\n",
              "      <td>686964</td>\n",
              "      <td>2019</td>\n",
              "    </tr>\n",
              "    <tr>\n",
              "      <th>Greg Hewgill</th>\n",
              "      <td>11</td>\n",
              "      <td>674632</td>\n",
              "      <td>2019</td>\n",
              "    </tr>\n",
              "    <tr>\n",
              "      <th>Quentin</th>\n",
              "      <td>11</td>\n",
              "      <td>650366</td>\n",
              "      <td>2019</td>\n",
              "    </tr>\n",
              "    <tr>\n",
              "      <th>paxdiablo</th>\n",
              "      <td>11</td>\n",
              "      <td>637855</td>\n",
              "      <td>2019</td>\n",
              "    </tr>\n",
              "    <tr>\n",
              "      <th>Alex Martelli</th>\n",
              "      <td>10</td>\n",
              "      <td>628718</td>\n",
              "      <td>2019</td>\n",
              "    </tr>\n",
              "    <tr>\n",
              "      <th>dasblinkenlight</th>\n",
              "      <td>9</td>\n",
              "      <td>615495</td>\n",
              "      <td>2019</td>\n",
              "    </tr>\n",
              "    <tr>\n",
              "      <th>CMS</th>\n",
              "      <td>11</td>\n",
              "      <td>597044</td>\n",
              "      <td>2019</td>\n",
              "    </tr>\n",
              "    <tr>\n",
              "      <th>Mark Byers</th>\n",
              "      <td>10</td>\n",
              "      <td>593074</td>\n",
              "      <td>2019</td>\n",
              "    </tr>\n",
              "    <tr>\n",
              "      <th>Ignacio Vazquez-Abrams</th>\n",
              "      <td>11</td>\n",
              "      <td>585863</td>\n",
              "      <td>2019</td>\n",
              "    </tr>\n",
              "    <tr>\n",
              "      <th>marc_s</th>\n",
              "      <td>11</td>\n",
              "      <td>579217</td>\n",
              "      <td>2019</td>\n",
              "    </tr>\n",
              "  </tbody>\n",
              "</table>\n",
              "</div>"
            ],
            "text/plain": [
              "                        user_exper  reputation  Last_Access_Year\n",
              "display_name                                                    \n",
              "Jon Skeet                       11     1089674              2019\n",
              "BalusC                          10      852319              2019\n",
              "Darin Dimitrov                  11      845003              2019\n",
              "VonC                            11      844623              2019\n",
              "Hans Passant                    11      791930              2019\n",
              "Marc Gravell                    11      787580              2019\n",
              "Gordon Linoff                    7      781146              2019\n",
              "CommonsWare                     10      775043              2019\n",
              "Martijn Pieters                 10      715515              2019\n",
              "T.J. Crowder                    10      690167              2019\n",
              "SLaks                           11      686964              2019\n",
              "Greg Hewgill                    11      674632              2019\n",
              "Quentin                         11      650366              2019\n",
              "paxdiablo                       11      637855              2019\n",
              "Alex Martelli                   10      628718              2019\n",
              "dasblinkenlight                  9      615495              2019\n",
              "CMS                             11      597044              2019\n",
              "Mark Byers                      10      593074              2019\n",
              "Ignacio Vazquez-Abrams          11      585863              2019\n",
              "marc_s                          11      579217              2019"
            ]
          },
          "metadata": {
            "tags": []
          },
          "execution_count": 97
        }
      ]
    },
    {
      "cell_type": "markdown",
      "metadata": {
        "id": "deObiw0mhzgD",
        "colab_type": "text"
      },
      "source": [
        "*Użytkownicy, którzy mają nawięcej zdobytych punktów 'reputacji' są użytkownikami z największym stażem na StackOverflow. Jednocześnie z danych wynika, że są to użytkownicy aktywni na serwisie, bo ich ostatnie logowania na serwisie miały miejsce w I kwartale 2019 r.*"
      ]
    },
    {
      "cell_type": "markdown",
      "metadata": {
        "id": "YnXa93P-E_kK",
        "colab_type": "text"
      },
      "source": [
        "## *Kiedy najwięcej użytkowników założyło konta na StackOverflow.* \n",
        "*w przypadku 2019 r. dane za I kwartał*\n"
      ]
    },
    {
      "cell_type": "code",
      "metadata": {
        "id": "_fY5EHfWXdaz",
        "colab_type": "code",
        "colab": {}
      },
      "source": [
        "query7 = \"\"\"SELECT\n",
        "  EXTRACT(YEAR FROM creation_date) AS Year,\n",
        "  COUNT(*) AS Number_of_Created_Accounts\n",
        "FROM\n",
        "  `bigquery-public-data.stackoverflow.users`\n",
        "GROUP BY\n",
        "  Year\n",
        "HAVING\n",
        "  Year > 2008 AND Year <= 2019\n",
        "ORDER BY\n",
        "  Year\"\"\""
      ],
      "execution_count": 0,
      "outputs": []
    },
    {
      "cell_type": "code",
      "metadata": {
        "id": "_3sT7A4BXiwa",
        "colab_type": "code",
        "outputId": "5f21a36e-6e94-41af-8fd7-c813a05735e1",
        "colab": {
          "base_uri": "https://localhost:8080/",
          "height": 421
        }
      },
      "source": [
        "df7 = pd.read_gbq(query = query7, project_id = 'it-job-market-project-cc', dialect = 'standard')\n",
        "df7.set_index('Year')"
      ],
      "execution_count": 0,
      "outputs": [
        {
          "output_type": "execute_result",
          "data": {
            "text/html": [
              "<div>\n",
              "<style scoped>\n",
              "    .dataframe tbody tr th:only-of-type {\n",
              "        vertical-align: middle;\n",
              "    }\n",
              "\n",
              "    .dataframe tbody tr th {\n",
              "        vertical-align: top;\n",
              "    }\n",
              "\n",
              "    .dataframe thead th {\n",
              "        text-align: right;\n",
              "    }\n",
              "</style>\n",
              "<table border=\"1\" class=\"dataframe\">\n",
              "  <thead>\n",
              "    <tr style=\"text-align: right;\">\n",
              "      <th></th>\n",
              "      <th>Number_of_Created_Accounts</th>\n",
              "    </tr>\n",
              "    <tr>\n",
              "      <th>Year</th>\n",
              "      <th></th>\n",
              "    </tr>\n",
              "  </thead>\n",
              "  <tbody>\n",
              "    <tr>\n",
              "      <th>2009</th>\n",
              "      <td>78131</td>\n",
              "    </tr>\n",
              "    <tr>\n",
              "      <th>2010</th>\n",
              "      <td>199489</td>\n",
              "    </tr>\n",
              "    <tr>\n",
              "      <th>2011</th>\n",
              "      <td>359376</td>\n",
              "    </tr>\n",
              "    <tr>\n",
              "      <th>2012</th>\n",
              "      <td>680359</td>\n",
              "    </tr>\n",
              "    <tr>\n",
              "      <th>2013</th>\n",
              "      <td>1125231</td>\n",
              "    </tr>\n",
              "    <tr>\n",
              "      <th>2014</th>\n",
              "      <td>1178466</td>\n",
              "    </tr>\n",
              "    <tr>\n",
              "      <th>2015</th>\n",
              "      <td>1257128</td>\n",
              "    </tr>\n",
              "    <tr>\n",
              "      <th>2016</th>\n",
              "      <td>1522151</td>\n",
              "    </tr>\n",
              "    <tr>\n",
              "      <th>2017</th>\n",
              "      <td>1735015</td>\n",
              "    </tr>\n",
              "    <tr>\n",
              "      <th>2018</th>\n",
              "      <td>1655696</td>\n",
              "    </tr>\n",
              "    <tr>\n",
              "      <th>2019</th>\n",
              "      <td>285254</td>\n",
              "    </tr>\n",
              "  </tbody>\n",
              "</table>\n",
              "</div>"
            ],
            "text/plain": [
              "      Number_of_Created_Accounts\n",
              "Year                            \n",
              "2009                       78131\n",
              "2010                      199489\n",
              "2011                      359376\n",
              "2012                      680359\n",
              "2013                     1125231\n",
              "2014                     1178466\n",
              "2015                     1257128\n",
              "2016                     1522151\n",
              "2017                     1735015\n",
              "2018                     1655696\n",
              "2019                      285254"
            ]
          },
          "metadata": {
            "tags": []
          },
          "execution_count": 104
        }
      ]
    },
    {
      "cell_type": "code",
      "metadata": {
        "id": "imOrt35UXwcp",
        "colab_type": "code",
        "outputId": "4928eece-6dcb-497d-cc56-8c383ab114dc",
        "colab": {
          "base_uri": "https://localhost:8080/",
          "height": 312
        }
      },
      "source": [
        "df7[0:10].plot(kind = 'line', x = 'Year', y = 'Number_of_Created_Accounts', title = 'Created accounts number 2009-2018')\n"
      ],
      "execution_count": 0,
      "outputs": [
        {
          "output_type": "execute_result",
          "data": {
            "text/plain": [
              "<matplotlib.axes._subplots.AxesSubplot at 0x7fecef5853c8>"
            ]
          },
          "metadata": {
            "tags": []
          },
          "execution_count": 108
        },
        {
          "output_type": "display_data",
          "data": {
            "image/png": "[encoded data removed]",
            "text/plain": [
              "<Figure size 432x288 with 1 Axes>"
            ]
          },
          "metadata": {
            "tags": []
          }
        }
      ]
    },
    {
      "cell_type": "markdown",
      "metadata": {
        "id": "zASgn_OAYAti",
        "colab_type": "text"
      },
      "source": [
        "2019 r. Dane za I kwartał"
      ]
    },
    {
      "cell_type": "markdown",
      "metadata": {
        "id": "7ln-sgeDjQu2",
        "colab_type": "text"
      },
      "source": [
        "*Z danych wynika, że liczba tworzonych kont na serwisie systematycznie rośnie. Pomiędzy 2017 a 2018 widać delikatny spadek, który może się również utrzymywać w 2019 r. (dane za I kwartał mogą potwierdzać tę tendencję).*"
      ]
    },
    {
      "cell_type": "markdown",
      "metadata": {
        "id": "4AamCEYqFOSj",
        "colab_type": "text"
      },
      "source": [
        "## *Aktywność użytkowników na serwisie rozumiana jako data ostatniego logowania do serwisu.* \n",
        "*W przypadku roku 2019, dane podane są za I kwartał.*"
      ]
    },
    {
      "cell_type": "code",
      "metadata": {
        "id": "lKhaqxMIYjuv",
        "colab_type": "code",
        "colab": {}
      },
      "source": [
        "query8 = \"\"\"SELECT\n",
        "  EXTRACT(YEAR FROM last_access_date) AS Year,\n",
        "  COUNT(*) AS Users_Activity\n",
        "FROM\n",
        "  `bigquery-public-data.stackoverflow.users`\n",
        "GROUP BY\n",
        "  Year\n",
        "HAVING\n",
        "  Year > 2008 AND Year <= 2019\n",
        "ORDER BY\n",
        "  Year\"\"\""
      ],
      "execution_count": 0,
      "outputs": []
    },
    {
      "cell_type": "code",
      "metadata": {
        "id": "6pMT6uSzYoU-",
        "colab_type": "code",
        "outputId": "298715ce-d91d-44aa-d328-901b7d7d9bd0",
        "colab": {
          "base_uri": "https://localhost:8080/",
          "height": 421
        }
      },
      "source": [
        "df8 = pd.read_gbq(query = query8, project_id = 'it-job-market-project-cc', dialect = 'standard')\n",
        "df8.set_index('Year')"
      ],
      "execution_count": 0,
      "outputs": [
        {
          "output_type": "execute_result",
          "data": {
            "text/html": [
              "<div>\n",
              "<style scoped>\n",
              "    .dataframe tbody tr th:only-of-type {\n",
              "        vertical-align: middle;\n",
              "    }\n",
              "\n",
              "    .dataframe tbody tr th {\n",
              "        vertical-align: top;\n",
              "    }\n",
              "\n",
              "    .dataframe thead th {\n",
              "        text-align: right;\n",
              "    }\n",
              "</style>\n",
              "<table border=\"1\" class=\"dataframe\">\n",
              "  <thead>\n",
              "    <tr style=\"text-align: right;\">\n",
              "      <th></th>\n",
              "      <th>Users_Activity</th>\n",
              "    </tr>\n",
              "    <tr>\n",
              "      <th>Year</th>\n",
              "      <th></th>\n",
              "    </tr>\n",
              "  </thead>\n",
              "  <tbody>\n",
              "    <tr>\n",
              "      <th>2009</th>\n",
              "      <td>14870</td>\n",
              "    </tr>\n",
              "    <tr>\n",
              "      <th>2010</th>\n",
              "      <td>88720</td>\n",
              "    </tr>\n",
              "    <tr>\n",
              "      <th>2011</th>\n",
              "      <td>160020</td>\n",
              "    </tr>\n",
              "    <tr>\n",
              "      <th>2012</th>\n",
              "      <td>256994</td>\n",
              "    </tr>\n",
              "    <tr>\n",
              "      <th>2013</th>\n",
              "      <td>564295</td>\n",
              "    </tr>\n",
              "    <tr>\n",
              "      <th>2014</th>\n",
              "      <td>753094</td>\n",
              "    </tr>\n",
              "    <tr>\n",
              "      <th>2015</th>\n",
              "      <td>1012444</td>\n",
              "    </tr>\n",
              "    <tr>\n",
              "      <th>2016</th>\n",
              "      <td>1125081</td>\n",
              "    </tr>\n",
              "    <tr>\n",
              "      <th>2017</th>\n",
              "      <td>1632962</td>\n",
              "    </tr>\n",
              "    <tr>\n",
              "      <th>2018</th>\n",
              "      <td>2370131</td>\n",
              "    </tr>\n",
              "    <tr>\n",
              "      <th>2019</th>\n",
              "      <td>2117721</td>\n",
              "    </tr>\n",
              "  </tbody>\n",
              "</table>\n",
              "</div>"
            ],
            "text/plain": [
              "      Users_Activity\n",
              "Year                \n",
              "2009           14870\n",
              "2010           88720\n",
              "2011          160020\n",
              "2012          256994\n",
              "2013          564295\n",
              "2014          753094\n",
              "2015         1012444\n",
              "2016         1125081\n",
              "2017         1632962\n",
              "2018         2370131\n",
              "2019         2117721"
            ]
          },
          "metadata": {
            "tags": []
          },
          "execution_count": 116
        }
      ]
    },
    {
      "cell_type": "code",
      "metadata": {
        "id": "E69ZYfTbYw7e",
        "colab_type": "code",
        "outputId": "a220402e-6bbf-41c3-a0bf-55862ac5931e",
        "colab": {
          "base_uri": "https://localhost:8080/",
          "height": 328
        }
      },
      "source": [
        "df8[0:10].set_index('Year').plot(kind = 'bar', title = 'Users - Last access')"
      ],
      "execution_count": 0,
      "outputs": [
        {
          "output_type": "execute_result",
          "data": {
            "text/plain": [
              "<matplotlib.axes._subplots.AxesSubplot at 0x7fecef4d2358>"
            ]
          },
          "metadata": {
            "tags": []
          },
          "execution_count": 117
        },
        {
          "output_type": "display_data",
          "data": {
            "image/png": "[encoded data removed]",
            "text/plain": [
              "<Figure size 432x288 with 1 Axes>"
            ]
          },
          "metadata": {
            "tags": []
          }
        }
      ]
    },
    {
      "cell_type": "code",
      "metadata": {
        "id": "3qPQicJstEo4",
        "colab_type": "code",
        "outputId": "18e9cc8d-db7a-45d8-b117-b9c4df6f628f",
        "colab": {
          "base_uri": "https://localhost:8080/",
          "height": 447
        }
      },
      "source": [
        "explode = (0,0,0,0,0,0,0,0,0,0.1,0.1)\n",
        "df8.set_index('Year').plot(kind = 'pie', title = 'Users\\' last access year', subplots=True, radius=2, explode=explode)\n",
        "plt.legend(loc = 'lower left', fontsize = 12, bbox_to_anchor=(1.6, 0))\n",
        "plt.figure(figsize=(2, 2))"
      ],
      "execution_count": 0,
      "outputs": [
        {
          "output_type": "execute_result",
          "data": {
            "text/plain": [
              "<Figure size 144x144 with 0 Axes>"
            ]
          },
          "metadata": {
            "tags": []
          },
          "execution_count": 120
        },
        {
          "output_type": "display_data",
          "data": {
            "image/png": "[encoded data removed]",
            "text/plain": [
              "<Figure size 432x288 with 1 Axes>"
            ]
          },
          "metadata": {
            "tags": []
          }
        },
        {
          "output_type": "display_data",
          "data": {
            "text/plain": [
              "<Figure size 144x144 with 0 Axes>"
            ]
          },
          "metadata": {
            "tags": []
          }
        }
      ]
    },
    {
      "cell_type": "markdown",
      "metadata": {
        "id": "4xdyWg5sFZqx",
        "colab_type": "text"
      },
      "source": [
        "*Zaangażowanie użytkowników serwisu można cześciowo ocenić na podstawie dat ostatnich logowań. Prawie 1/4 wszystkich użytkowników logowała się w I kwartale tego roku, co świadczy o ich aktywnosci na serwisie - jest to ponad 2 miliony użytkowników. Dodając do tego osoby logujące się w 2018 r., to prawie połowa wszystkich użytkowników. Świadczy to o dużym zaangażowaniu użytkowników w wymianę informacji na portalu. Można też założyć, że użytkownicy, którzy logowali się w I kwartale 2019 r. są tymi najbardziej aktywnymi.*"
      ]
    },
    {
      "cell_type": "markdown",
      "metadata": {
        "id": "kStKkYFHrHVU",
        "colab_type": "text"
      },
      "source": [
        "## *Zaangażowanie użytkowników w działalność serwisu - nominacje na moderatorow* "
      ]
    },
    {
      "cell_type": "code",
      "metadata": {
        "id": "Ex268e-prF8t",
        "colab_type": "code",
        "colab": {}
      },
      "source": [
        "query6 = \"\"\"SELECT \n",
        "EXTRACT(YEAR FROM posts_moderator_nomination.creation_date) AS Year,\n",
        "  COUNT(*) AS Number_of_Nomination\n",
        "FROM\n",
        "  `bigquery-public-data.stackoverflow.posts_moderator_nomination` posts_moderator_nomination\n",
        "JOIN\n",
        "  `bigquery-public-data.stackoverflow.users` users\n",
        "ON posts_moderator_nomination.last_editor_user_id = users.id\n",
        "#WHERE users.location like '%Poland%' OR users.location like '%Polska%'\n",
        "GROUP BY\n",
        "  Year\n",
        "HAVING\n",
        "  Year > 2008 AND Year <= 2019\n",
        "ORDER BY\n",
        "  Year\"\"\""
      ],
      "execution_count": 0,
      "outputs": []
    },
    {
      "cell_type": "code",
      "metadata": {
        "id": "rfHWwHOIrVaX",
        "colab_type": "code",
        "outputId": "a7895b84-38c8-46a0-9232-cd831a6bcae7",
        "colab": {
          "base_uri": "https://localhost:8080/",
          "height": 328
        }
      },
      "source": [
        "df6 = pd.read_gbq(query = query6, project_id = 'it-job-market-project-cc', dialect = 'standard')\n",
        "df6.set_index('Year')"
      ],
      "execution_count": 0,
      "outputs": [
        {
          "output_type": "execute_result",
          "data": {
            "text/html": [
              "<div>\n",
              "<style scoped>\n",
              "    .dataframe tbody tr th:only-of-type {\n",
              "        vertical-align: middle;\n",
              "    }\n",
              "\n",
              "    .dataframe tbody tr th {\n",
              "        vertical-align: top;\n",
              "    }\n",
              "\n",
              "    .dataframe thead th {\n",
              "        text-align: right;\n",
              "    }\n",
              "</style>\n",
              "<table border=\"1\" class=\"dataframe\">\n",
              "  <thead>\n",
              "    <tr style=\"text-align: right;\">\n",
              "      <th></th>\n",
              "      <th>Number_of_Nomination</th>\n",
              "    </tr>\n",
              "    <tr>\n",
              "      <th>Year</th>\n",
              "      <th></th>\n",
              "    </tr>\n",
              "  </thead>\n",
              "  <tbody>\n",
              "    <tr>\n",
              "      <th>2011</th>\n",
              "      <td>119</td>\n",
              "    </tr>\n",
              "    <tr>\n",
              "      <th>2012</th>\n",
              "      <td>19</td>\n",
              "    </tr>\n",
              "    <tr>\n",
              "      <th>2013</th>\n",
              "      <td>28</td>\n",
              "    </tr>\n",
              "    <tr>\n",
              "      <th>2014</th>\n",
              "      <td>32</td>\n",
              "    </tr>\n",
              "    <tr>\n",
              "      <th>2015</th>\n",
              "      <td>65</td>\n",
              "    </tr>\n",
              "    <tr>\n",
              "      <th>2016</th>\n",
              "      <td>14</td>\n",
              "    </tr>\n",
              "    <tr>\n",
              "      <th>2017</th>\n",
              "      <td>16</td>\n",
              "    </tr>\n",
              "    <tr>\n",
              "      <th>2018</th>\n",
              "      <td>17</td>\n",
              "    </tr>\n",
              "  </tbody>\n",
              "</table>\n",
              "</div>"
            ],
            "text/plain": [
              "      Number_of_Nomination\n",
              "Year                      \n",
              "2011                   119\n",
              "2012                    19\n",
              "2013                    28\n",
              "2014                    32\n",
              "2015                    65\n",
              "2016                    14\n",
              "2017                    16\n",
              "2018                    17"
            ]
          },
          "metadata": {
            "tags": []
          },
          "execution_count": 124
        }
      ]
    },
    {
      "cell_type": "code",
      "metadata": {
        "id": "5HYjQpRLrckB",
        "colab_type": "code",
        "outputId": "3356514c-39d5-45a3-aa4a-07837cf08ab0",
        "colab": {
          "base_uri": "https://localhost:8080/",
          "height": 315
        }
      },
      "source": [
        "df6.set_index('Year').plot(kind = 'bar')"
      ],
      "execution_count": 0,
      "outputs": [
        {
          "output_type": "execute_result",
          "data": {
            "text/plain": [
              "<matplotlib.axes._subplots.AxesSubplot at 0x7fecef453f98>"
            ]
          },
          "metadata": {
            "tags": []
          },
          "execution_count": 125
        },
        {
          "output_type": "display_data",
          "data": {
            "image/png": "[encoded data removed]",
            "text/plain": [
              "<Figure size 432x288 with 1 Axes>"
            ]
          },
          "metadata": {
            "tags": []
          }
        }
      ]
    },
    {
      "cell_type": "markdown",
      "metadata": {
        "id": "uRIrSauMu9Pp",
        "colab_type": "text"
      },
      "source": [
        "*Powyższe dane wskazują na ilość zgłoszeń na moderatorów StackOverflow. Największa ilość zgłoszeń miała miejsce w 2011, potem w 2015. Obecnie ilość zgłoszeń się ustabilizowała. Ilość nowych zgłoszeń nie jest duża w stosunku do liczby użytkowników serwisu, co wiązać się może z wymogami co do moderatorów oraz z ich obowiązkami.*"
      ]
    },
    {
      "cell_type": "markdown",
      "metadata": {
        "id": "BpJmA-tPQWGv",
        "colab_type": "text"
      },
      "source": [
        "## *Najczęściej pojawiające się tagi na StackOverflow*"
      ]
    },
    {
      "cell_type": "code",
      "metadata": {
        "id": "jrPYZ_F4Pau7",
        "colab_type": "code",
        "colab": {}
      },
      "source": [
        "queryTagsAll = \"\"\"\n",
        "SELECT tag_name, count\n",
        "FROM `bigquery-public-data.stackoverflow.tags`\n",
        "ORDER BY\n",
        "  count DESC\n",
        "\"\"\""
      ],
      "execution_count": 0,
      "outputs": []
    },
    {
      "cell_type": "code",
      "metadata": {
        "id": "tv9nuLkxPraI",
        "colab_type": "code",
        "outputId": "13055a2e-ccce-41db-f8fa-1c345801fab5",
        "colab": {
          "base_uri": "https://localhost:8080/",
          "height": 359
        }
      },
      "source": [
        "dfAllTags = pd.read_gbq(query = queryTagsAll, project_id = 'it-job-market-project-cc', dialect = 'standard')\n",
        "dfAllTags.head(10)"
      ],
      "execution_count": 0,
      "outputs": [
        {
          "output_type": "execute_result",
          "data": {
            "text/html": [
              "<div>\n",
              "<style scoped>\n",
              "    .dataframe tbody tr th:only-of-type {\n",
              "        vertical-align: middle;\n",
              "    }\n",
              "\n",
              "    .dataframe tbody tr th {\n",
              "        vertical-align: top;\n",
              "    }\n",
              "\n",
              "    .dataframe thead th {\n",
              "        text-align: right;\n",
              "    }\n",
              "</style>\n",
              "<table border=\"1\" class=\"dataframe\">\n",
              "  <thead>\n",
              "    <tr style=\"text-align: right;\">\n",
              "      <th></th>\n",
              "      <th>tag_name</th>\n",
              "      <th>count</th>\n",
              "    </tr>\n",
              "  </thead>\n",
              "  <tbody>\n",
              "    <tr>\n",
              "      <th>0</th>\n",
              "      <td>javascript</td>\n",
              "      <td>1769208</td>\n",
              "    </tr>\n",
              "    <tr>\n",
              "      <th>1</th>\n",
              "      <td>java</td>\n",
              "      <td>1519552</td>\n",
              "    </tr>\n",
              "    <tr>\n",
              "      <th>2</th>\n",
              "      <td>c#</td>\n",
              "      <td>1289429</td>\n",
              "    </tr>\n",
              "    <tr>\n",
              "      <th>3</th>\n",
              "      <td>php</td>\n",
              "      <td>1265522</td>\n",
              "    </tr>\n",
              "    <tr>\n",
              "      <th>4</th>\n",
              "      <td>android</td>\n",
              "      <td>1176225</td>\n",
              "    </tr>\n",
              "    <tr>\n",
              "      <th>5</th>\n",
              "      <td>python</td>\n",
              "      <td>1120872</td>\n",
              "    </tr>\n",
              "    <tr>\n",
              "      <th>6</th>\n",
              "      <td>jquery</td>\n",
              "      <td>945635</td>\n",
              "    </tr>\n",
              "    <tr>\n",
              "      <th>7</th>\n",
              "      <td>html</td>\n",
              "      <td>806983</td>\n",
              "    </tr>\n",
              "    <tr>\n",
              "      <th>8</th>\n",
              "      <td>c++</td>\n",
              "      <td>606864</td>\n",
              "    </tr>\n",
              "    <tr>\n",
              "      <th>9</th>\n",
              "      <td>ios</td>\n",
              "      <td>591950</td>\n",
              "    </tr>\n",
              "  </tbody>\n",
              "</table>\n",
              "</div>"
            ],
            "text/plain": [
              "     tag_name    count\n",
              "0  javascript  1769208\n",
              "1        java  1519552\n",
              "2          c#  1289429\n",
              "3         php  1265522\n",
              "4     android  1176225\n",
              "5      python  1120872\n",
              "6      jquery   945635\n",
              "7        html   806983\n",
              "8         c++   606864\n",
              "9         ios   591950"
            ]
          },
          "metadata": {
            "tags": []
          },
          "execution_count": 50
        }
      ]
    },
    {
      "cell_type": "code",
      "metadata": {
        "id": "TmUS-QN8UBHg",
        "colab_type": "code",
        "outputId": "2622a35d-1860-4918-bf52-c28d900f3f33",
        "colab": {
          "base_uri": "https://localhost:8080/",
          "height": 352
        }
      },
      "source": [
        "dfAllTags.set_index('tag_name').head(10).plot(kind = 'bar', title = 'Najczęstsze tagi na StackOverflow')"
      ],
      "execution_count": 0,
      "outputs": [
        {
          "output_type": "execute_result",
          "data": {
            "text/plain": [
              "<matplotlib.axes._subplots.AxesSubplot at 0x7f98c7c16ac8>"
            ]
          },
          "metadata": {
            "tags": []
          },
          "execution_count": 78
        },
        {
          "output_type": "display_data",
          "data": {
            "image/png": "[encoded data removed]",
            "text/plain": [
              "<Figure size 432x288 with 1 Axes>"
            ]
          },
          "metadata": {
            "tags": []
          }
        }
      ]
    },
    {
      "cell_type": "code",
      "metadata": {
        "id": "rFFkj5ynQU3-",
        "colab_type": "code",
        "outputId": "8a97a4d0-a381-4036-fd43-7531dec194b7",
        "colab": {
          "base_uri": "https://localhost:8080/",
          "height": 471
        }
      },
      "source": [
        "explode = (0.2,0.2,0.2,0,0,0,0,0,0,0)\n",
        "dfAllTags.set_index('tag_name')[0:10].plot(kind = 'pie', title = 'Most frequent tags', subplots=True, radius=2, explode = explode)\n",
        "plt.legend(loc = 'lower left', fontsize = 12, bbox_to_anchor=(1.6, 0))\n",
        "plt.figure(figsize=(2, 2))"
      ],
      "execution_count": 0,
      "outputs": [
        {
          "output_type": "execute_result",
          "data": {
            "text/plain": [
              "<Figure size 144x144 with 0 Axes>"
            ]
          },
          "metadata": {
            "tags": []
          },
          "execution_count": 72
        },
        {
          "output_type": "display_data",
          "data": {
            "image/png": "[encoded data removed]",
            "text/plain": [
              "<Figure size 432x288 with 1 Axes>"
            ]
          },
          "metadata": {
            "tags": []
          }
        },
        {
          "output_type": "display_data",
          "data": {
            "text/plain": [
              "<Figure size 144x144 with 0 Axes>"
            ]
          },
          "metadata": {
            "tags": []
          }
        }
      ]
    },
    {
      "cell_type": "markdown",
      "metadata": {
        "id": "R-F44lGnxvgM",
        "colab_type": "text"
      },
      "source": [
        "## *Najczęściej pojawiające się tagi w pytaniach na StackOverflow od 2018 r.*"
      ]
    },
    {
      "cell_type": "code",
      "metadata": {
        "id": "hFb317CKyB6L",
        "colab_type": "code",
        "colab": {}
      },
      "source": [
        "queryTags = \"\"\"SELECT tags, \n",
        "EXTRACT(YEAR FROM creation_date) AS Year\n",
        "FROM `bigquery-public-data.stackoverflow.posts_questions`\n",
        "WHERE EXTRACT(YEAR FROM creation_date) >= 2018\n",
        "ORDER BY\n",
        "  Year DESC\n",
        "\"\"\""
      ],
      "execution_count": 0,
      "outputs": []
    },
    {
      "cell_type": "code",
      "metadata": {
        "id": "n8vMLDPryMtp",
        "colab_type": "code",
        "colab": {}
      },
      "source": [
        "dfTags = pd.read_gbq(query = queryTags, project_id = 'it-job-market-project-cc', dialect = 'standard')\n",
        "tagsAll = ' '.join(dfTags.tags).lower()\n",
        "pdTagsAll = pd.DataFrame(re.split(r'[| ]', tagsAll))"
      ],
      "execution_count": 0,
      "outputs": []
    },
    {
      "cell_type": "code",
      "metadata": {
        "id": "LUoe6opZN4wg",
        "colab_type": "code",
        "outputId": "d040c3f5-d186-463a-849e-4264b8b7d8dd",
        "colab": {
          "base_uri": "https://localhost:8080/",
          "height": 377
        }
      },
      "source": [
        "pdTagsAll1 = pd.DataFrame(pdTagsAll.groupby(0)[0].count().sort_values(ascending = False).head(10))\n",
        "pdTagsAll1"
      ],
      "execution_count": 0,
      "outputs": [
        {
          "output_type": "execute_result",
          "data": {
            "text/html": [
              "<div>\n",
              "<style scoped>\n",
              "    .dataframe tbody tr th:only-of-type {\n",
              "        vertical-align: middle;\n",
              "    }\n",
              "\n",
              "    .dataframe tbody tr th {\n",
              "        vertical-align: top;\n",
              "    }\n",
              "\n",
              "    .dataframe thead th {\n",
              "        text-align: right;\n",
              "    }\n",
              "</style>\n",
              "<table border=\"1\" class=\"dataframe\">\n",
              "  <thead>\n",
              "    <tr style=\"text-align: right;\">\n",
              "      <th></th>\n",
              "      <th>0</th>\n",
              "    </tr>\n",
              "    <tr>\n",
              "      <th>0</th>\n",
              "      <th></th>\n",
              "    </tr>\n",
              "  </thead>\n",
              "  <tbody>\n",
              "    <tr>\n",
              "      <th>javascript</th>\n",
              "      <td>270124</td>\n",
              "    </tr>\n",
              "    <tr>\n",
              "      <th>python</th>\n",
              "      <td>268966</td>\n",
              "    </tr>\n",
              "    <tr>\n",
              "      <th>java</th>\n",
              "      <td>191985</td>\n",
              "    </tr>\n",
              "    <tr>\n",
              "      <th>android</th>\n",
              "      <td>146681</td>\n",
              "    </tr>\n",
              "    <tr>\n",
              "      <th>c#</th>\n",
              "      <td>140532</td>\n",
              "    </tr>\n",
              "    <tr>\n",
              "      <th>php</th>\n",
              "      <td>133340</td>\n",
              "    </tr>\n",
              "    <tr>\n",
              "      <th>html</th>\n",
              "      <td>104849</td>\n",
              "    </tr>\n",
              "    <tr>\n",
              "      <th>angular</th>\n",
              "      <td>73131</td>\n",
              "    </tr>\n",
              "    <tr>\n",
              "      <th>css</th>\n",
              "      <td>70967</td>\n",
              "    </tr>\n",
              "    <tr>\n",
              "      <th>jquery</th>\n",
              "      <td>70755</td>\n",
              "    </tr>\n",
              "  </tbody>\n",
              "</table>\n",
              "</div>"
            ],
            "text/plain": [
              "                 0\n",
              "0                 \n",
              "javascript  270124\n",
              "python      268966\n",
              "java        191985\n",
              "android     146681\n",
              "c#          140532\n",
              "php         133340\n",
              "html        104849\n",
              "angular      73131\n",
              "css          70967\n",
              "jquery       70755"
            ]
          },
          "metadata": {
            "tags": []
          },
          "execution_count": 67
        }
      ]
    },
    {
      "cell_type": "code",
      "metadata": {
        "id": "ISkaAgRIS9vF",
        "colab_type": "code",
        "outputId": "6f20b869-8803-451c-8f27-f08a4d0dc995",
        "colab": {
          "base_uri": "https://localhost:8080/",
          "height": 351
        }
      },
      "source": [
        "pdTagsAll1.plot(kind = 'bar', title = 'Najczęściej pojawiające się tagi w pytaniach od 2018 r.')"
      ],
      "execution_count": 0,
      "outputs": [
        {
          "output_type": "execute_result",
          "data": {
            "text/plain": [
              "<matplotlib.axes._subplots.AxesSubplot at 0x7f98c80bcda0>"
            ]
          },
          "metadata": {
            "tags": []
          },
          "execution_count": 79
        },
        {
          "output_type": "display_data",
          "data": {
            "image/png": "[encoded data removed]",
            "text/plain": [
              "<Figure size 432x288 with 1 Axes>"
            ]
          },
          "metadata": {
            "tags": []
          }
        }
      ]
    },
    {
      "cell_type": "markdown",
      "metadata": {
        "id": "mBeNYpYXU1tX",
        "colab_type": "text"
      },
      "source": [
        "*Na StackOverflow najczęściej pojawiające się tagi dotyczą języków takich jakich jak: java script, java, c#, php. W pytaniach zadawanych na serwisie od 2018 r. jako najczęstsze tagowane są języki: java script, python, java. Widać tutaj rosnące zainteresowanie pythonem, który prawie dogania javascript i z backendu trafia na 1 miejsce i androidem.*"
      ]
    },
    {
      "cell_type": "markdown",
      "metadata": {
        "id": "YXqzrmxiv1FX",
        "colab_type": "text"
      },
      "source": [
        "## *Pogłębiona analiza tagów na Stackoverflow*\n",
        "\n",
        "*Z uwagi na ilość danych w analizie uwzględniono limit 10 000 wierszy.*\n",
        "\n",
        "*Na podstawie danych dot. postów z pytaniami*"
      ]
    },
    {
      "cell_type": "code",
      "metadata": {
        "id": "QcZIaC_mvz7H",
        "colab_type": "code",
        "colab": {}
      },
      "source": [
        "myQuery = \"\"\" select id, extract(YEAR from creation_date) as year, tags\n",
        "  from `bigquery-public-data.stackoverflow.posts_questions`\n",
        "  #LIMIT 10000\n",
        "  \"\"\""
      ],
      "execution_count": 0,
      "outputs": []
    },
    {
      "cell_type": "code",
      "metadata": {
        "id": "K8ocxdL-wP8d",
        "colab_type": "code",
        "colab": {}
      },
      "source": [
        "df = pd.read_gbq(query = myQuery, project_id = 'test-it-job-market', dialect = 'standard')"
      ],
      "execution_count": 0,
      "outputs": []
    },
    {
      "cell_type": "code",
      "metadata": {
        "id": "wXug4X5MwnrX",
        "colab_type": "code",
        "outputId": "9b14a8a3-6eb7-4d65-fa57-9314e17a2700",
        "colab": {
          "base_uri": "https://localhost:8080/",
          "height": 204
        }
      },
      "source": [
        "df.head()"
      ],
      "execution_count": 0,
      "outputs": [
        {
          "output_type": "execute_result",
          "data": {
            "text/html": [
              "<div>\n",
              "<style scoped>\n",
              "    .dataframe tbody tr th:only-of-type {\n",
              "        vertical-align: middle;\n",
              "    }\n",
              "\n",
              "    .dataframe tbody tr th {\n",
              "        vertical-align: top;\n",
              "    }\n",
              "\n",
              "    .dataframe thead th {\n",
              "        text-align: right;\n",
              "    }\n",
              "</style>\n",
              "<table border=\"1\" class=\"dataframe\">\n",
              "  <thead>\n",
              "    <tr style=\"text-align: right;\">\n",
              "      <th></th>\n",
              "      <th>id</th>\n",
              "      <th>year</th>\n",
              "      <th>tags</th>\n",
              "    </tr>\n",
              "  </thead>\n",
              "  <tbody>\n",
              "    <tr>\n",
              "      <th>0</th>\n",
              "      <td>263987</td>\n",
              "      <td>2008</td>\n",
              "      <td>.net|delphi|com|interop|permissions</td>\n",
              "    </tr>\n",
              "    <tr>\n",
              "      <th>1</th>\n",
              "      <td>129019</td>\n",
              "      <td>2008</td>\n",
              "      <td>.net|winforms</td>\n",
              "    </tr>\n",
              "    <tr>\n",
              "      <th>2</th>\n",
              "      <td>145000</td>\n",
              "      <td>2008</td>\n",
              "      <td>html|xhtml</td>\n",
              "    </tr>\n",
              "    <tr>\n",
              "      <th>3</th>\n",
              "      <td>227968</td>\n",
              "      <td>2008</td>\n",
              "      <td>json|asp.net-ajax|telerik</td>\n",
              "    </tr>\n",
              "    <tr>\n",
              "      <th>4</th>\n",
              "      <td>29643</td>\n",
              "      <td>2008</td>\n",
              "      <td>multithreading|logging</td>\n",
              "    </tr>\n",
              "  </tbody>\n",
              "</table>\n",
              "</div>"
            ],
            "text/plain": [
              "       id  year                                 tags\n",
              "0  263987  2008  .net|delphi|com|interop|permissions\n",
              "1  129019  2008                        .net|winforms\n",
              "2  145000  2008                           html|xhtml\n",
              "3  227968  2008            json|asp.net-ajax|telerik\n",
              "4   29643  2008               multithreading|logging"
            ]
          },
          "metadata": {
            "tags": []
          },
          "execution_count": 51
        }
      ]
    },
    {
      "cell_type": "code",
      "metadata": {
        "id": "GQ7lgmflwxgz",
        "colab_type": "code",
        "colab": {}
      },
      "source": [
        "tags = pd.DataFrame(df.tags.str.split('|').tolist(), index=df.year).stack()"
      ],
      "execution_count": 0,
      "outputs": []
    },
    {
      "cell_type": "code",
      "metadata": {
        "id": "-bevtr4owyha",
        "colab_type": "code",
        "outputId": "23e4d4fc-a6b9-4aa9-a8cd-d4a256892b74",
        "colab": {
          "base_uri": "https://localhost:8080/",
          "height": 136
        }
      },
      "source": [
        "tags.head()"
      ],
      "execution_count": 0,
      "outputs": [
        {
          "output_type": "execute_result",
          "data": {
            "text/plain": [
              "year   \n",
              "2008  0           .net\n",
              "      1         delphi\n",
              "      2            com\n",
              "      3        interop\n",
              "      4    permissions\n",
              "dtype: object"
            ]
          },
          "metadata": {
            "tags": []
          },
          "execution_count": 53
        }
      ]
    },
    {
      "cell_type": "code",
      "metadata": {
        "id": "XxNcEc9ow1Hu",
        "colab_type": "code",
        "outputId": "130d833b-8fc3-42f9-8f16-886464594381",
        "colab": {
          "base_uri": "https://localhost:8080/",
          "height": 204
        }
      },
      "source": [
        "tags = tags.reset_index([0, 'year'])\n",
        "tags.head()"
      ],
      "execution_count": 0,
      "outputs": [
        {
          "output_type": "execute_result",
          "data": {
            "text/html": [
              "<div>\n",
              "<style scoped>\n",
              "    .dataframe tbody tr th:only-of-type {\n",
              "        vertical-align: middle;\n",
              "    }\n",
              "\n",
              "    .dataframe tbody tr th {\n",
              "        vertical-align: top;\n",
              "    }\n",
              "\n",
              "    .dataframe thead th {\n",
              "        text-align: right;\n",
              "    }\n",
              "</style>\n",
              "<table border=\"1\" class=\"dataframe\">\n",
              "  <thead>\n",
              "    <tr style=\"text-align: right;\">\n",
              "      <th></th>\n",
              "      <th>year</th>\n",
              "      <th>0</th>\n",
              "    </tr>\n",
              "  </thead>\n",
              "  <tbody>\n",
              "    <tr>\n",
              "      <th>0</th>\n",
              "      <td>2008</td>\n",
              "      <td>.net</td>\n",
              "    </tr>\n",
              "    <tr>\n",
              "      <th>1</th>\n",
              "      <td>2008</td>\n",
              "      <td>delphi</td>\n",
              "    </tr>\n",
              "    <tr>\n",
              "      <th>2</th>\n",
              "      <td>2008</td>\n",
              "      <td>com</td>\n",
              "    </tr>\n",
              "    <tr>\n",
              "      <th>3</th>\n",
              "      <td>2008</td>\n",
              "      <td>interop</td>\n",
              "    </tr>\n",
              "    <tr>\n",
              "      <th>4</th>\n",
              "      <td>2008</td>\n",
              "      <td>permissions</td>\n",
              "    </tr>\n",
              "  </tbody>\n",
              "</table>\n",
              "</div>"
            ],
            "text/plain": [
              "   year            0\n",
              "0  2008         .net\n",
              "1  2008       delphi\n",
              "2  2008          com\n",
              "3  2008      interop\n",
              "4  2008  permissions"
            ]
          },
          "metadata": {
            "tags": []
          },
          "execution_count": 54
        }
      ]
    },
    {
      "cell_type": "code",
      "metadata": {
        "id": "KBAjw-tGxFg0",
        "colab_type": "code",
        "colab": {}
      },
      "source": [
        "tags.columns = ['year', 'tag']"
      ],
      "execution_count": 0,
      "outputs": []
    },
    {
      "cell_type": "code",
      "metadata": {
        "id": "QGRiQQkCxJW6",
        "colab_type": "code",
        "outputId": "13aaea06-f02d-45f6-9ba9-aa2b60a1280b",
        "colab": {
          "base_uri": "https://localhost:8080/",
          "height": 374
        }
      },
      "source": [
        "# sprawdzenie, ile jest powtórzeń każdego taga i jakie są tagi\n",
        "tags.tag.value_counts().head(20)"
      ],
      "execution_count": 0,
      "outputs": [
        {
          "output_type": "execute_result",
          "data": {
            "text/plain": [
              "javascript       1769157\n",
              "java             1519528\n",
              "c#               1289419\n",
              "php              1265498\n",
              "android          1176198\n",
              "python           1120815\n",
              "jquery            945632\n",
              "html              806973\n",
              "c++               606848\n",
              "ios               591942\n",
              "css               575586\n",
              "mysql             551652\n",
              "sql               480824\n",
              "asp.net           343360\n",
              "ruby-on-rails     303550\n",
              "c                 297405\n",
              "arrays            289019\n",
              "objective-c       286871\n",
              ".net              280412\n",
              "r                 278145\n",
              "Name: tag, dtype: int64"
            ]
          },
          "metadata": {
            "tags": []
          },
          "execution_count": 56
        }
      ]
    },
    {
      "cell_type": "code",
      "metadata": {
        "id": "6bIe4ebXxL3S",
        "colab_type": "code",
        "outputId": "1c65b98f-8c03-447b-f6eb-85a50d633064",
        "colab": {
          "base_uri": "https://localhost:8080/",
          "height": 34
        }
      },
      "source": [
        "# ile jest tagów w query\n",
        "tags.tag.nunique()"
      ],
      "execution_count": 0,
      "outputs": [
        {
          "output_type": "execute_result",
          "data": {
            "text/plain": [
              "54463"
            ]
          },
          "metadata": {
            "tags": []
          },
          "execution_count": 58
        }
      ]
    },
    {
      "cell_type": "markdown",
      "metadata": {
        "id": "MH_b9Py4xQIZ",
        "colab_type": "text"
      },
      "source": [
        "### *Dane na temat najpopularniejszych tagów na StackOverflow i zmian ich popularności*"
      ]
    },
    {
      "cell_type": "code",
      "metadata": {
        "id": "JrKUXwCjxO4Z",
        "colab_type": "code",
        "colab": {}
      },
      "source": [
        "smallertags = tags[tags.tag.isin(['java','javascript','python','c','c++','c#','ruby','php','scala','r','vba','android','ios','sql','objective-c','delphi','pascal','tsql','shell','f#','xml','ruby-on-rails','.net','css'])]"
      ],
      "execution_count": 0,
      "outputs": []
    },
    {
      "cell_type": "code",
      "metadata": {
        "id": "kcvlZF8rxyKX",
        "colab_type": "code",
        "outputId": "974c48de-d6c3-4ed0-afff-88c62b0d2f01",
        "colab": {
          "base_uri": "https://localhost:8080/",
          "height": 204
        }
      },
      "source": [
        "smallertags.head()"
      ],
      "execution_count": 0,
      "outputs": [
        {
          "output_type": "execute_result",
          "data": {
            "text/html": [
              "<div>\n",
              "<style scoped>\n",
              "    .dataframe tbody tr th:only-of-type {\n",
              "        vertical-align: middle;\n",
              "    }\n",
              "\n",
              "    .dataframe tbody tr th {\n",
              "        vertical-align: top;\n",
              "    }\n",
              "\n",
              "    .dataframe thead th {\n",
              "        text-align: right;\n",
              "    }\n",
              "</style>\n",
              "<table border=\"1\" class=\"dataframe\">\n",
              "  <thead>\n",
              "    <tr style=\"text-align: right;\">\n",
              "      <th></th>\n",
              "      <th>year</th>\n",
              "      <th>tag</th>\n",
              "    </tr>\n",
              "  </thead>\n",
              "  <tbody>\n",
              "    <tr>\n",
              "      <th>0</th>\n",
              "      <td>2008</td>\n",
              "      <td>.net</td>\n",
              "    </tr>\n",
              "    <tr>\n",
              "      <th>1</th>\n",
              "      <td>2008</td>\n",
              "      <td>delphi</td>\n",
              "    </tr>\n",
              "    <tr>\n",
              "      <th>5</th>\n",
              "      <td>2008</td>\n",
              "      <td>.net</td>\n",
              "    </tr>\n",
              "    <tr>\n",
              "      <th>14</th>\n",
              "      <td>2008</td>\n",
              "      <td>java</td>\n",
              "    </tr>\n",
              "    <tr>\n",
              "      <th>17</th>\n",
              "      <td>2008</td>\n",
              "      <td>php</td>\n",
              "    </tr>\n",
              "  </tbody>\n",
              "</table>\n",
              "</div>"
            ],
            "text/plain": [
              "    year     tag\n",
              "0   2008    .net\n",
              "1   2008  delphi\n",
              "5   2008    .net\n",
              "14  2008    java\n",
              "17  2008     php"
            ]
          },
          "metadata": {
            "tags": []
          },
          "execution_count": 60
        }
      ]
    },
    {
      "cell_type": "code",
      "metadata": {
        "id": "2FKSaZH7x4OA",
        "colab_type": "code",
        "colab": {}
      },
      "source": [
        "tags2008 = smallertags[smallertags.year==2008]\n",
        "tags2009 = smallertags[smallertags.year==2009]\n",
        "tags2010 = smallertags[smallertags.year==2010]\n",
        "tags2011 = smallertags[smallertags.year==2011]\n",
        "tags2012 = smallertags[smallertags.year==2012]\n",
        "tags2013 = smallertags[smallertags.year==2013]\n",
        "tags2014 = smallertags[smallertags.year==2014]\n",
        "tags2015 = smallertags[smallertags.year==2015]\n",
        "tags2016 = smallertags[smallertags.year==2016]\n",
        "tags2017 = smallertags[smallertags.year==2017]\n",
        "tags2018 = smallertags[smallertags.year==2018]"
      ],
      "execution_count": 0,
      "outputs": []
    },
    {
      "cell_type": "code",
      "metadata": {
        "id": "d_ODoaDDx41U",
        "colab_type": "code",
        "colab": {}
      },
      "source": [
        "val2008 = tags2008.tag.value_counts(normalize=True)\n",
        "val2009 = tags2009.tag.value_counts(normalize=True)\n",
        "val2010 = tags2010.tag.value_counts(normalize=True)\n",
        "val2011 = tags2011.tag.value_counts(normalize=True)\n",
        "val2012 = tags2012.tag.value_counts(normalize=True)\n",
        "val2013 = tags2013.tag.value_counts(normalize=True)\n",
        "val2014 = tags2014.tag.value_counts(normalize=True)\n",
        "val2015 = tags2015.tag.value_counts(normalize=True)\n",
        "val2016 = tags2016.tag.value_counts(normalize=True)\n",
        "val2017 = tags2017.tag.value_counts(normalize=True)\n",
        "val2018 = tags2018.tag.value_counts(normalize=True)"
      ],
      "execution_count": 0,
      "outputs": []
    },
    {
      "cell_type": "code",
      "metadata": {
        "id": "coyl6_VCx7DZ",
        "colab_type": "code",
        "outputId": "1242b725-740a-450a-b931-3c0b1b53e5d6",
        "colab": {
          "base_uri": "https://localhost:8080/",
          "height": 442
        }
      },
      "source": [
        "val2009"
      ],
      "execution_count": 0,
      "outputs": [
        {
          "output_type": "execute_result",
          "data": {
            "text/plain": [
              "c#               0.207480\n",
              "java             0.108054\n",
              ".net             0.103974\n",
              "php              0.092119\n",
              "javascript       0.084348\n",
              "c++              0.070789\n",
              "python           0.058127\n",
              "sql              0.053155\n",
              "ruby-on-rails    0.031279\n",
              "css              0.030571\n",
              "c                0.030504\n",
              "objective-c      0.028592\n",
              "xml              0.023859\n",
              "ruby             0.023454\n",
              "delphi           0.012099\n",
              "tsql             0.010836\n",
              "android          0.008966\n",
              "vba              0.006049\n",
              "shell            0.005107\n",
              "ios              0.002980\n",
              "scala            0.002777\n",
              "r                0.002362\n",
              "f#               0.002294\n",
              "pascal           0.000225\n",
              "Name: tag, dtype: float64"
            ]
          },
          "metadata": {
            "tags": []
          },
          "execution_count": 63
        }
      ]
    },
    {
      "cell_type": "code",
      "metadata": {
        "id": "C00_fDjnx-Qz",
        "colab_type": "code",
        "outputId": "9a2cefdb-57c6-4c11-c74d-3b3c8cafb110",
        "colab": {
          "base_uri": "https://localhost:8080/",
          "height": 442
        }
      },
      "source": [
        "val2018"
      ],
      "execution_count": 0,
      "outputs": [
        {
          "output_type": "execute_result",
          "data": {
            "text/plain": [
              "javascript       0.163665\n",
              "python           0.160354\n",
              "java             0.115898\n",
              "android          0.089424\n",
              "c#               0.084584\n",
              "php              0.081004\n",
              "css              0.043080\n",
              "r                0.040544\n",
              "c++              0.039135\n",
              "sql              0.038686\n",
              "ios              0.036584\n",
              "c                0.018995\n",
              "vba              0.016576\n",
              "ruby-on-rails    0.013170\n",
              ".net             0.012921\n",
              "xml              0.010389\n",
              "scala            0.008789\n",
              "ruby             0.008630\n",
              "shell            0.005597\n",
              "objective-c      0.004808\n",
              "tsql             0.004362\n",
              "delphi           0.001787\n",
              "f#               0.000902\n",
              "pascal           0.000117\n",
              "Name: tag, dtype: float64"
            ]
          },
          "metadata": {
            "tags": []
          },
          "execution_count": 64
        }
      ]
    },
    {
      "cell_type": "code",
      "metadata": {
        "id": "0cCySamy34hF",
        "colab_type": "code",
        "outputId": "b704fa38-b987-4775-d266-147cdbf6a568",
        "colab": {
          "base_uri": "https://localhost:8080/",
          "height": 406
        }
      },
      "source": [
        "val2009.head(10).plot(kind = 'bar', title = '10 najpopularniejszych tagów w 2009 r.', figsize = [8,5])\n"
      ],
      "execution_count": 0,
      "outputs": [
        {
          "output_type": "execute_result",
          "data": {
            "text/plain": [
              "<matplotlib.axes._subplots.AxesSubplot at 0x7f270e75c710>"
            ]
          },
          "metadata": {
            "tags": []
          },
          "execution_count": 65
        },
        {
          "output_type": "display_data",
          "data": {
            "image/png": "[encoded data removed]",
            "text/plain": [
              "<Figure size 576x360 with 1 Axes>"
            ]
          },
          "metadata": {
            "tags": []
          }
        }
      ]
    },
    {
      "cell_type": "code",
      "metadata": {
        "id": "J24rpi-MyCW5",
        "colab_type": "code",
        "outputId": "132244f8-d326-44e9-9be9-feb2eb62e2e5",
        "colab": {
          "base_uri": "https://localhost:8080/",
          "height": 392
        }
      },
      "source": [
        "val2018.head(10).plot(kind = 'bar', title = '10 najpopularniejszych tagów w 2018 r.', figsize = [8,5])"
      ],
      "execution_count": 0,
      "outputs": [
        {
          "output_type": "execute_result",
          "data": {
            "text/plain": [
              "<matplotlib.axes._subplots.AxesSubplot at 0x7f270e293e48>"
            ]
          },
          "metadata": {
            "tags": []
          },
          "execution_count": 66
        },
        {
          "output_type": "display_data",
          "data": {
            "image/png": "[encoded data removed]",
            "text/plain": [
              "<Figure size 576x360 with 1 Axes>"
            ]
          },
          "metadata": {
            "tags": []
          }
        }
      ]
    },
    {
      "cell_type": "code",
      "metadata": {
        "id": "kfGZ15AQNhnu",
        "colab_type": "code",
        "outputId": "2f19e562-0a07-4571-c8c4-ee7bd8299cc0",
        "colab": {
          "base_uri": "https://localhost:8080/",
          "height": 359
        }
      },
      "source": [
        "val2009df = pd.DataFrame(val2009)\n",
        "val2018df = pd.DataFrame(val2018)\n",
        "val2018df.columns = ['procent 2018']\n",
        "val2009df.columns = ['procent 2009']\n",
        "val2009df['procent 2018']=val2018df['procent 2018']\n",
        "valTags2009_2018 = (val2009df*100).sort_values(by = 'procent 2018', ascending = False).head(10)\n",
        "valTags2009_2018"
      ],
      "execution_count": 0,
      "outputs": [
        {
          "output_type": "execute_result",
          "data": {
            "text/html": [
              "<div>\n",
              "<style scoped>\n",
              "    .dataframe tbody tr th:only-of-type {\n",
              "        vertical-align: middle;\n",
              "    }\n",
              "\n",
              "    .dataframe tbody tr th {\n",
              "        vertical-align: top;\n",
              "    }\n",
              "\n",
              "    .dataframe thead th {\n",
              "        text-align: right;\n",
              "    }\n",
              "</style>\n",
              "<table border=\"1\" class=\"dataframe\">\n",
              "  <thead>\n",
              "    <tr style=\"text-align: right;\">\n",
              "      <th></th>\n",
              "      <th>procent 2009</th>\n",
              "      <th>procent 2018</th>\n",
              "    </tr>\n",
              "  </thead>\n",
              "  <tbody>\n",
              "    <tr>\n",
              "      <th>javascript</th>\n",
              "      <td>8.434794</td>\n",
              "      <td>16.366462</td>\n",
              "    </tr>\n",
              "    <tr>\n",
              "      <th>python</th>\n",
              "      <td>5.812669</td>\n",
              "      <td>16.035384</td>\n",
              "    </tr>\n",
              "    <tr>\n",
              "      <th>java</th>\n",
              "      <td>10.805389</td>\n",
              "      <td>11.589784</td>\n",
              "    </tr>\n",
              "    <tr>\n",
              "      <th>android</th>\n",
              "      <td>0.896580</td>\n",
              "      <td>8.942436</td>\n",
              "    </tr>\n",
              "    <tr>\n",
              "      <th>c#</th>\n",
              "      <td>20.748006</td>\n",
              "      <td>8.458362</td>\n",
              "    </tr>\n",
              "    <tr>\n",
              "      <th>php</th>\n",
              "      <td>9.211920</td>\n",
              "      <td>8.100355</td>\n",
              "    </tr>\n",
              "    <tr>\n",
              "      <th>css</th>\n",
              "      <td>3.057117</td>\n",
              "      <td>4.307982</td>\n",
              "    </tr>\n",
              "    <tr>\n",
              "      <th>r</th>\n",
              "      <td>0.236203</td>\n",
              "      <td>4.054429</td>\n",
              "    </tr>\n",
              "    <tr>\n",
              "      <th>c++</th>\n",
              "      <td>7.078880</td>\n",
              "      <td>3.913480</td>\n",
              "    </tr>\n",
              "    <tr>\n",
              "      <th>sql</th>\n",
              "      <td>5.315471</td>\n",
              "      <td>3.868623</td>\n",
              "    </tr>\n",
              "  </tbody>\n",
              "</table>\n",
              "</div>"
            ],
            "text/plain": [
              "            procent 2009  procent 2018\n",
              "javascript      8.434794     16.366462\n",
              "python          5.812669     16.035384\n",
              "java           10.805389     11.589784\n",
              "android         0.896580      8.942436\n",
              "c#             20.748006      8.458362\n",
              "php             9.211920      8.100355\n",
              "css             3.057117      4.307982\n",
              "r               0.236203      4.054429\n",
              "c++             7.078880      3.913480\n",
              "sql             5.315471      3.868623"
            ]
          },
          "metadata": {
            "tags": []
          },
          "execution_count": 83
        }
      ]
    },
    {
      "cell_type": "code",
      "metadata": {
        "id": "Tmnfuz1xPg6S",
        "colab_type": "code",
        "outputId": "de71847b-5502-4ffa-c49c-2085d7fe623b",
        "colab": {
          "base_uri": "https://localhost:8080/",
          "height": 392
        }
      },
      "source": [
        "valTags2009_2018.plot(kind = 'bar', title = 'Zmiany popularności tagów między 2009 a 2018 r.', figsize = [8,5])"
      ],
      "execution_count": 0,
      "outputs": [
        {
          "output_type": "execute_result",
          "data": {
            "text/plain": [
              "<matplotlib.axes._subplots.AxesSubplot at 0x7f26b8802f98>"
            ]
          },
          "metadata": {
            "tags": []
          },
          "execution_count": 85
        },
        {
          "output_type": "display_data",
          "data": {
            "image/png": "[encoded data removed]",
            "text/plain": [
              "<Figure size 576x360 with 1 Axes>"
            ]
          },
          "metadata": {
            "tags": []
          }
        }
      ]
    },
    {
      "cell_type": "markdown",
      "metadata": {
        "id": "W5He2nvnUE4R",
        "colab_type": "text"
      },
      "source": [
        "*Porównując najpopularniejsze tagi na StackOverflow pomiędzy 2009 a 2018 r., widać jak ogromna zmiana zaszła w popularności niektórych języków programowania. W przypadku c# czy c++jest to spadek popularności o około połowę, a dla java script czy python - wzrost o ponad 100 %. Z wykresu widać też, jak stosunkowo nowe w 2009 r. języki (jak r czy android) bardzo zyskały na znaczeniu.*"
      ]
    },
    {
      "cell_type": "markdown",
      "metadata": {
        "id": "5Dcrfzca-hrP",
        "colab_type": "text"
      },
      "source": [
        "## *Ilość zadawanych pytań i odpowiedzi na StackOverflow*"
      ]
    },
    {
      "cell_type": "code",
      "metadata": {
        "id": "LrQTGQEx_JlV",
        "colab_type": "code",
        "colab": {}
      },
      "source": [
        "queryQA = \"\"\"SELECT\n",
        "  EXTRACT(YEAR FROM creation_date) AS Year,\n",
        "  COUNT(*) AS Number_of_Questions,\n",
        "  SUM(answer_count) AS Number_of_Answers\n",
        "FROM\n",
        "  `bigquery-public-data.stackoverflow.posts_questions`\n",
        "GROUP BY\n",
        "  Year\n",
        "HAVING\n",
        "  Year > 2008 AND Year <= 2019\n",
        "ORDER BY\n",
        "  Year; \"\"\""
      ],
      "execution_count": 0,
      "outputs": []
    },
    {
      "cell_type": "code",
      "metadata": {
        "id": "HXxEipTZ_qKb",
        "colab_type": "code",
        "colab": {}
      },
      "source": [
        "# jednorazowo będzie potrzebne podanie kodu weryfikacyjnego\n",
        "dfQA = pd.read_gbq(query = queryQA, project_id = 'it-job-market-project-cc', dialect = 'standard')"
      ],
      "execution_count": 0,
      "outputs": []
    },
    {
      "cell_type": "code",
      "metadata": {
        "id": "ssBiEMwZAHaa",
        "colab_type": "code",
        "outputId": "ba896164-1c57-4a81-ea37-b27d611daab8",
        "colab": {
          "base_uri": "https://localhost:8080/",
          "height": 377
        }
      },
      "source": [
        "dfQA"
      ],
      "execution_count": 0,
      "outputs": [
        {
          "output_type": "execute_result",
          "data": {
            "text/html": [
              "<div>\n",
              "<style scoped>\n",
              "    .dataframe tbody tr th:only-of-type {\n",
              "        vertical-align: middle;\n",
              "    }\n",
              "\n",
              "    .dataframe tbody tr th {\n",
              "        vertical-align: top;\n",
              "    }\n",
              "\n",
              "    .dataframe thead th {\n",
              "        text-align: right;\n",
              "    }\n",
              "</style>\n",
              "<table border=\"1\" class=\"dataframe\">\n",
              "  <thead>\n",
              "    <tr style=\"text-align: right;\">\n",
              "      <th></th>\n",
              "      <th>Year</th>\n",
              "      <th>Number_of_Questions</th>\n",
              "      <th>Number_of_Answers</th>\n",
              "    </tr>\n",
              "  </thead>\n",
              "  <tbody>\n",
              "    <tr>\n",
              "      <th>0</th>\n",
              "      <td>2009</td>\n",
              "      <td>343139</td>\n",
              "      <td>1148668</td>\n",
              "    </tr>\n",
              "    <tr>\n",
              "      <th>1</th>\n",
              "      <td>2010</td>\n",
              "      <td>693332</td>\n",
              "      <td>1722921</td>\n",
              "    </tr>\n",
              "    <tr>\n",
              "      <th>2</th>\n",
              "      <td>2011</td>\n",
              "      <td>1198587</td>\n",
              "      <td>2532982</td>\n",
              "    </tr>\n",
              "    <tr>\n",
              "      <th>3</th>\n",
              "      <td>2012</td>\n",
              "      <td>1642687</td>\n",
              "      <td>3008800</td>\n",
              "    </tr>\n",
              "    <tr>\n",
              "      <th>4</th>\n",
              "      <td>2013</td>\n",
              "      <td>2056613</td>\n",
              "      <td>3407852</td>\n",
              "    </tr>\n",
              "    <tr>\n",
              "      <th>5</th>\n",
              "      <td>2014</td>\n",
              "      <td>2160361</td>\n",
              "      <td>3171678</td>\n",
              "    </tr>\n",
              "    <tr>\n",
              "      <th>6</th>\n",
              "      <td>2015</td>\n",
              "      <td>2214389</td>\n",
              "      <td>3042724</td>\n",
              "    </tr>\n",
              "    <tr>\n",
              "      <th>7</th>\n",
              "      <td>2016</td>\n",
              "      <td>2219199</td>\n",
              "      <td>2907726</td>\n",
              "    </tr>\n",
              "    <tr>\n",
              "      <th>8</th>\n",
              "      <td>2017</td>\n",
              "      <td>2137687</td>\n",
              "      <td>2656670</td>\n",
              "    </tr>\n",
              "    <tr>\n",
              "      <th>9</th>\n",
              "      <td>2018</td>\n",
              "      <td>2168086</td>\n",
              "      <td>2234168</td>\n",
              "    </tr>\n",
              "    <tr>\n",
              "      <th>10</th>\n",
              "      <td>2019</td>\n",
              "      <td>386476</td>\n",
              "      <td>350588</td>\n",
              "    </tr>\n",
              "  </tbody>\n",
              "</table>\n",
              "</div>"
            ],
            "text/plain": [
              "    Year  Number_of_Questions  Number_of_Answers\n",
              "0   2009               343139            1148668\n",
              "1   2010               693332            1722921\n",
              "2   2011              1198587            2532982\n",
              "3   2012              1642687            3008800\n",
              "4   2013              2056613            3407852\n",
              "5   2014              2160361            3171678\n",
              "6   2015              2214389            3042724\n",
              "7   2016              2219199            2907726\n",
              "8   2017              2137687            2656670\n",
              "9   2018              2168086            2234168\n",
              "10  2019               386476             350588"
            ]
          },
          "metadata": {
            "tags": []
          },
          "execution_count": 27
        }
      ]
    },
    {
      "cell_type": "code",
      "metadata": {
        "id": "4kWuZuTv_IHQ",
        "colab_type": "code",
        "outputId": "0d9f660a-d118-47ed-deb0-9d6570d5de9f",
        "colab": {
          "base_uri": "https://localhost:8080/",
          "height": 328
        }
      },
      "source": [
        "dfQA.set_index('Year')[0:10].plot(kind = 'bar', title = 'Questions and Answers by years on StackOverflow 2009-2018')"
      ],
      "execution_count": 0,
      "outputs": [
        {
          "output_type": "execute_result",
          "data": {
            "text/plain": [
              "<matplotlib.axes._subplots.AxesSubplot at 0x7f9904b8d940>"
            ]
          },
          "metadata": {
            "tags": []
          },
          "execution_count": 28
        },
        {
          "output_type": "display_data",
          "data": {
            "image/png": "[encoded data removed]",
            "text/plain": [
              "<Figure size 432x288 with 1 Axes>"
            ]
          },
          "metadata": {
            "tags": []
          }
        }
      ]
    },
    {
      "cell_type": "markdown",
      "metadata": {
        "id": "ZCg-BfGBATOh",
        "colab_type": "text"
      },
      "source": [
        "*Najwięcej zadawanych pytań pojawiło się na StackOverflow w latach 2015-2016. Od 2016 r. pojawiła się delikatna tendencja malejąca, z roku na rok ilość zadawanych pytań powoli maleje, do potwierdzają również dane za I kw. 2019 r.  Najwięcej odpowiedzi było udzielanych w latach 2012-2014. Od 2014 ilość udzielanych odpowiedzi maleje, co widać też w danych za I kw. 2019 r.*"
      ]
    },
    {
      "cell_type": "markdown",
      "metadata": {
        "id": "MfD2WkfSl7D3",
        "colab_type": "text"
      },
      "source": [
        "# Machine learning - trendy na StackOverflow"
      ]
    },
    {
      "cell_type": "markdown",
      "metadata": {
        "id": "vKfnuxHpoDq3",
        "colab_type": "text"
      },
      "source": [
        "## *Pytania na StackOverflow dotyczące machine learning*\n",
        "*Do analizy wybrano tagi związane z machine learnig: tensorflow|scikit-learn|deep-learning|matplotlib|keras|seaborn|pytorch|torch|caffe|theano|caffe2|dl4j|cntk|mxnet|chainer|accord.net|spacy|gensim*\n",
        "\n",
        "*Dane za 2019 r. dotyczą I kwartału 2019 r.*"
      ]
    },
    {
      "cell_type": "code",
      "metadata": {
        "colab_type": "code",
        "id": "wV5Hmef48qcY",
        "colab": {}
      },
      "source": [
        "q_questions_ml = \"\"\"SELECT\n",
        "  accepted_answer_id,\n",
        "  answer_count,\n",
        "  EXTRACT (YEAR FROM creation_date) as Year\n",
        " FROM\n",
        "  `bigquery-public-data.stackoverflow.posts_questions`\n",
        "WHERE\n",
        "  REGEXP_CONTAINS(tags, r'(tensorflow|scikit-learn|deep-learning|matplotlib|keras|seaborn|pytorch|torch|caffe|theano|caffe2|dl4j|cntk|mxnet|chainer|accord.net|spacy|gensim)')\n",
        "  \"\"\"\n",
        "df_questions_ml = pd.read_gbq(query = q_questions_ml, project_id = 'test-it-job-market', dialect = 'standard')"
      ],
      "execution_count": 0,
      "outputs": []
    },
    {
      "cell_type": "code",
      "metadata": {
        "colab_type": "code",
        "id": "-D3H2OUbc6lV",
        "outputId": "8986dd25-b749-4839-e341-5418ff964a27",
        "colab": {
          "base_uri": "https://localhost:8080/",
          "height": 452
        }
      },
      "source": [
        "dfML = pd.DataFrame(df_questions_ml.groupby(by=\"Year\").size())\n",
        "dfML.columns = ['Ilość pytań zawierających tagi ML']\n",
        "dfML"
      ],
      "execution_count": 0,
      "outputs": [
        {
          "output_type": "execute_result",
          "data": {
            "text/html": [
              "<div>\n",
              "<style scoped>\n",
              "    .dataframe tbody tr th:only-of-type {\n",
              "        vertical-align: middle;\n",
              "    }\n",
              "\n",
              "    .dataframe tbody tr th {\n",
              "        vertical-align: top;\n",
              "    }\n",
              "\n",
              "    .dataframe thead th {\n",
              "        text-align: right;\n",
              "    }\n",
              "</style>\n",
              "<table border=\"1\" class=\"dataframe\">\n",
              "  <thead>\n",
              "    <tr style=\"text-align: right;\">\n",
              "      <th></th>\n",
              "      <th>Ilość pytań zawierających tagi ML</th>\n",
              "    </tr>\n",
              "    <tr>\n",
              "      <th>Year</th>\n",
              "      <th></th>\n",
              "    </tr>\n",
              "  </thead>\n",
              "  <tbody>\n",
              "    <tr>\n",
              "      <th>2008</th>\n",
              "      <td>5</td>\n",
              "    </tr>\n",
              "    <tr>\n",
              "      <th>2009</th>\n",
              "      <td>86</td>\n",
              "    </tr>\n",
              "    <tr>\n",
              "      <th>2010</th>\n",
              "      <td>339</td>\n",
              "    </tr>\n",
              "    <tr>\n",
              "      <th>2011</th>\n",
              "      <td>841</td>\n",
              "    </tr>\n",
              "    <tr>\n",
              "      <th>2012</th>\n",
              "      <td>1790</td>\n",
              "    </tr>\n",
              "    <tr>\n",
              "      <th>2013</th>\n",
              "      <td>3683</td>\n",
              "    </tr>\n",
              "    <tr>\n",
              "      <th>2014</th>\n",
              "      <td>5335</td>\n",
              "    </tr>\n",
              "    <tr>\n",
              "      <th>2015</th>\n",
              "      <td>8186</td>\n",
              "    </tr>\n",
              "    <tr>\n",
              "      <th>2016</th>\n",
              "      <td>16904</td>\n",
              "    </tr>\n",
              "    <tr>\n",
              "      <th>2017</th>\n",
              "      <td>29862</td>\n",
              "    </tr>\n",
              "    <tr>\n",
              "      <th>2018</th>\n",
              "      <td>38721</td>\n",
              "    </tr>\n",
              "    <tr>\n",
              "      <th>2019</th>\n",
              "      <td>7152</td>\n",
              "    </tr>\n",
              "  </tbody>\n",
              "</table>\n",
              "</div>"
            ],
            "text/plain": [
              "      Ilość pytań zawierających tagi ML\n",
              "Year                                   \n",
              "2008                                  5\n",
              "2009                                 86\n",
              "2010                                339\n",
              "2011                                841\n",
              "2012                               1790\n",
              "2013                               3683\n",
              "2014                               5335\n",
              "2015                               8186\n",
              "2016                              16904\n",
              "2017                              29862\n",
              "2018                              38721\n",
              "2019                               7152"
            ]
          },
          "metadata": {
            "tags": []
          },
          "execution_count": 8
        }
      ]
    },
    {
      "cell_type": "code",
      "metadata": {
        "id": "w25-HNPGot4p",
        "colab_type": "code",
        "outputId": "8b2c6b82-b762-4501-cf60-e073db56d4a3",
        "colab": {
          "base_uri": "https://localhost:8080/",
          "height": 328
        }
      },
      "source": [
        "dfML[0:11].plot(kind = 'bar', title = 'Ilość pytań zawierających tagi ML w okresie 2008-2018')"
      ],
      "execution_count": 0,
      "outputs": [
        {
          "output_type": "execute_result",
          "data": {
            "text/plain": [
              "<matplotlib.axes._subplots.AxesSubplot at 0x7fd79c5a9320>"
            ]
          },
          "metadata": {
            "tags": []
          },
          "execution_count": 9
        },
        {
          "output_type": "display_data",
          "data": {
            "image/png": "[encoded data removed]",
            "text/plain": [
              "<Figure size 432x288 with 1 Axes>"
            ]
          },
          "metadata": {
            "tags": []
          }
        }
      ]
    },
    {
      "cell_type": "markdown",
      "metadata": {
        "id": "z_GkGQwzl7EJ",
        "colab_type": "text"
      },
      "source": [
        "## *Pytania z zakresu ML z zaakceptowaną odpowiedzią - procentowo*\n",
        "*osoba która zadała pytanie musi zaakceptować odpowiedź - odpowiedź zrealizowała problem zadany w pytaniu i pytający stwierdził: 'działa'*"
      ]
    },
    {
      "cell_type": "code",
      "metadata": {
        "id": "OEMocgMql7EK",
        "colab_type": "code",
        "outputId": "826d28d7-0bce-46bc-e559-0bb397e4f6eb",
        "colab": {
          "base_uri": "https://localhost:8080/",
          "height": 491
        }
      },
      "source": [
        "df_questions_ml[\"AcceptedAnswer\"] = np.where(df_questions_ml['accepted_answer_id'].isna(), \"brak zaakceptowanej odpowiedzi\", \"zaakceptowana odpowiedz\")\n",
        "answered_2plot = df_questions_ml.groupby(by='Year')['AcceptedAnswer'].value_counts(normalize = True).to_frame('isAccepted').pivot_table(index = 'Year',columns = 'AcceptedAnswer')\n",
        "(answered_2plot*100)[0:11].plot.bar(stacked=True, figsize=(10,7), title = 'Pytania dot. ML - z zaakceptowanymi odpowiedziami w stosunku do braku zaakceptowanych odpowiedzi')"
      ],
      "execution_count": 0,
      "outputs": [
        {
          "output_type": "execute_result",
          "data": {
            "text/plain": [
              "<matplotlib.axes._subplots.AxesSubplot at 0x7fd79eeb2e10>"
            ]
          },
          "metadata": {
            "tags": []
          },
          "execution_count": 26
        },
        {
          "output_type": "display_data",
          "data": {
            "image/png": "[encoded data removed]",
            "text/plain": [
              "<Figure size 720x504 with 1 Axes>"
            ]
          },
          "metadata": {
            "tags": []
          }
        }
      ]
    },
    {
      "cell_type": "markdown",
      "metadata": {
        "id": "ZMWD_5oFl7EY",
        "colab_type": "text"
      },
      "source": [
        "## *Pytania z zakresu ML - odpowiedzi*"
      ]
    },
    {
      "cell_type": "code",
      "metadata": {
        "id": "P1DqPJNzl7Ec",
        "colab_type": "code",
        "outputId": "439b47a0-a4d3-459b-ad4e-553f924d3c5e",
        "colab": {
          "base_uri": "https://localhost:8080/",
          "height": 491
        }
      },
      "source": [
        "df_questions_ml[\"Answered\"] = np.where(df_questions_ml['answer_count'] == 0, \"brak odpowiedzi\", \"jest odpowiedz\")\n",
        "answer_2plot = df_questions_ml.groupby(by='Year')['Answered'].value_counts(normalize = True).to_frame('isAnswered').pivot_table(index = 'Year',columns = 'Answered')\n",
        "(answer_2plot*100)[0:11].plot.bar(stacked=True, figsize=(10,7), title = 'Pytania dot. ML - z odpowiedziami w stosunku do tych bez odpowiedzi')"
      ],
      "execution_count": 0,
      "outputs": [
        {
          "output_type": "execute_result",
          "data": {
            "text/plain": [
              "<matplotlib.axes._subplots.AxesSubplot at 0x7fd79ec79dd8>"
            ]
          },
          "metadata": {
            "tags": []
          },
          "execution_count": 29
        },
        {
          "output_type": "display_data",
          "data": {
            "image/png": "[encoded data removed]",
            "text/plain": [
              "<Figure size 720x504 with 1 Axes>"
            ]
          },
          "metadata": {
            "tags": []
          }
        }
      ]
    },
    {
      "cell_type": "markdown",
      "metadata": {
        "colab_type": "text",
        "id": "dQqwA6Dl3uJR"
      },
      "source": [
        "## *Dane na temat komentarzy pod postami o machine learning - zestawienie miesięczne*"
      ]
    },
    {
      "cell_type": "code",
      "metadata": {
        "colab_type": "code",
        "id": "7Knx3VM7e7bD",
        "outputId": "02456687-ce5c-48a6-84c2-7ac882f71014",
        "colab": {
          "base_uri": "https://localhost:8080/",
          "height": 85
        }
      },
      "source": [
        "q_comm_sum = \"\"\"SELECT\n",
        "  EXTRACT(YEAR FROM creation_date) AS Year,\n",
        "  EXTRACT(MONTH FROM creation_date) AS Month,\n",
        "  count(*) AS Comments\n",
        "FROM\n",
        "  `bigquery-public-data.stackoverflow.comments`\n",
        "WHERE\n",
        "  post_id IN (SELECT\n",
        "  id\n",
        "FROM\n",
        "  `bigquery-public-data.stackoverflow.posts_questions`\n",
        "WHERE\n",
        "  REGEXP_CONTAINS(tags, r'(tensorflow|scikit-learn|deep-learning|matplotlib|keras|seaborn|pytorch|torch|caffe|theano|caffe2|dl4j|cntk|mxnet|chainer|accord.net|spacy|gensim)')\n",
        "  )\n",
        "GROUP BY Year, Month\n",
        "ORDER BY Year, Month\n",
        "  \"\"\"\n",
        "df_comm_sum = pd.read_gbq(query = q_comm_sum, project_id = 'test-it-job-market', dialect = 'standard')\n",
        "df_comm_sum = df_comm_sum.set_index(['Year','Month'])\n",
        "#to dodanie rekordu jest tylko żeby się kolory co pełny rok układały\n",
        "df_comm_sum = df_comm_sum.set_value((2009,1),'Comments',0)\n",
        "df_comm_sum = df_comm_sum.sort_index(level=[0,1])"
      ],
      "execution_count": 0,
      "outputs": [
        {
          "output_type": "stream",
          "text": [
            "/usr/local/lib/python3.6/dist-packages/ipykernel_launcher.py:21: FutureWarning:\n",
            "\n",
            "set_value is deprecated and will be removed in a future release. Please use .at[] or .iat[] accessors instead\n",
            "\n"
          ],
          "name": "stderr"
        }
      ]
    },
    {
      "cell_type": "code",
      "metadata": {
        "colab_type": "code",
        "id": "k75PBn8KlNEj",
        "outputId": "f276ead1-e98a-419e-bd7f-ed92ec6d5e69",
        "colab": {
          "base_uri": "https://localhost:8080/",
          "height": 701
        }
      },
      "source": [
        "my_colors = 'kkkkkkkkkkkkgggggggggggg'\n",
        "df_comm_sum.plot(kind=\"bar\", title=\"Liczba komentarzy pod zapytaniami zwiazanymi z machine learningiem\", legend=False, figsize=(24,10), \n",
        "                 color =my_colors)"
      ],
      "execution_count": 0,
      "outputs": [
        {
          "output_type": "execute_result",
          "data": {
            "text/plain": [
              "<matplotlib.axes._subplots.AxesSubplot at 0x7fd7a051a588>"
            ]
          },
          "metadata": {
            "tags": []
          },
          "execution_count": 18
        },
        {
          "output_type": "display_data",
          "data": {
            "image/png": "[encoded data removed]",
            "text/plain": [
              "<Figure size 1728x720 with 1 Axes>"
            ]
          },
          "metadata": {
            "tags": []
          }
        }
      ]
    },
    {
      "cell_type": "markdown",
      "metadata": {
        "colab_type": "text",
        "id": "Udu4JCf_3mb8"
      },
      "source": [
        "## *Miesięczne porównanie komentarzy dot. machine learning*"
      ]
    },
    {
      "cell_type": "code",
      "metadata": {
        "colab_type": "code",
        "id": "esXJJz9E3C3u",
        "colab": {}
      },
      "source": [
        "q_comm_sum_month = \"\"\"SELECT\n",
        "  EXTRACT(MONTH FROM creation_date) AS Month,\n",
        "  count(*)\n",
        "FROM\n",
        "  `bigquery-public-data.stackoverflow.comments`\n",
        "WHERE\n",
        "  post_id IN (SELECT\n",
        "  id\n",
        "FROM\n",
        "  `bigquery-public-data.stackoverflow.posts_questions`\n",
        "WHERE\n",
        "  REGEXP_CONTAINS(tags, r'(tensorflow|scikit-learn|deep-learning|matplotlib|keras|seaborn|pytorch|torch|caffe|theano|caffe2|dl4j|cntk|mxnet|chainer|accord.net|spacy|gensim)')\n",
        "  )\n",
        "GROUP BY Month\n",
        "ORDER BY Month\n",
        "  \"\"\"\n",
        "df_comm_sum_month = pd.read_gbq(query = q_comm_sum_month, project_id = 'test-it-job-market', dialect = 'standard')\n",
        "df_comm_sum_month = df_comm_sum_month.set_index('Month')"
      ],
      "execution_count": 0,
      "outputs": []
    },
    {
      "cell_type": "code",
      "metadata": {
        "colab_type": "code",
        "id": "LJvWwS6-3DTO",
        "outputId": "6966d1ad-ee65-4fbd-d876-f43da69b49b3",
        "colab": {
          "base_uri": "https://localhost:8080/",
          "height": 315
        }
      },
      "source": [
        "df_comm_sum_month.plot(kind= \"bar\", title=\"Liczba komentarzy pod zapytaniami zwiazanymi z machine learningiem - porównanie miesięcy\", legend=False)"
      ],
      "execution_count": 0,
      "outputs": [
        {
          "output_type": "execute_result",
          "data": {
            "text/plain": [
              "<matplotlib.axes._subplots.AxesSubplot at 0x7fd79ee29438>"
            ]
          },
          "metadata": {
            "tags": []
          },
          "execution_count": 31
        },
        {
          "output_type": "display_data",
          "data": {
            "image/png": "[encoded data removed]",
            "text/plain": [
              "<Figure size 432x288 with 1 Axes>"
            ]
          },
          "metadata": {
            "tags": []
          }
        }
      ]
    },
    {
      "cell_type": "markdown",
      "metadata": {
        "id": "BttkKAxjs773",
        "colab_type": "text"
      },
      "source": [
        "*Dane na temat tagów dotyczących machine learning w pytaniach zadawanych na StackOverflow wskazują na duży wzrost zainteresowania tym tematem na przestrzeni ostatnich lat. Największy wzrost nastąpił pomiędzy 2016 a 2017 r., co widać po dużym przyroście pytań zawierających tagi związane z ML. Od 2012 r. stopniowo rośnie udział pytań dot. ML, dla których pytający nie zaakceptował odpowiedzi, w 2016 r. ta wielkość przekroczyła 50 % wszystkich pytań, a w 2018 r. 60 %. Rośnie również udział pytań dot. ML, na które nie udzielono odpowiedzi - największy przyrost miał miejsce między 2017 a 2018 r. gdzie z prawie 20 % wzrósł do blisko 40 % wszystkich pytań z tego zakresu. Świadczyć to może o skomplikowaniu tematu oraz o małej ilości aktywnych użytkowników StackOverflow znających się na ML.*\n",
        "*Miesięczne porównanie ilości komentarzy pod postami dot. ML świadczy o tym, że zainteresowanie tematem ML i zadawanymi pytaniami jest większe na początku roku, oraz - co zaskakujące - w okresie wakacyjnym - może z powodu większej ilości czasu podczas wakacji umożliwiającej użytkownikom śledzenie aktualnych postów na Stacku.*"
      ]
    }
  ]
}